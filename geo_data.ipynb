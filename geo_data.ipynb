{
 "cells": [
  {
   "cell_type": "markdown",
   "metadata": {},
   "source": [
    "# Выбор локации для скважины"
   ]
  },
  {
   "cell_type": "markdown",
   "metadata": {},
   "source": [
    "Имеются данные по пробам нефти в трёх регионах: в каждом 100 000 месторождений, где измерили качество нефти и объём её запасов. Нужно решить, где бурить новую скважину. Для этого необходимо построить модель машинного обучения, которая поможет определить регион, где добыча принесёт наибольшую прибыль. Анализировать возможную прибыль и риски техникой мы будем техникой *Bootstrap.* \n",
    "\n",
    "Шаги для выбора локации:\n",
    "\n",
    "- В избранном регионе ищут месторождения, для каждого определяют значения признаков;\n",
    "- Строят модель и оценивают объём запасов;\n",
    "- Выбирают месторождения с самым высокими оценками значений. Количество месторождений зависит от бюджета компании и стоимости разработки одной скважины;\n",
    "- Прибыль равна суммарной прибыли отобранных месторождений."
   ]
  },
  {
   "cell_type": "markdown",
   "metadata": {},
   "source": [
    "## Загрузка и подготовка данных"
   ]
  },
  {
   "cell_type": "markdown",
   "metadata": {},
   "source": [
    "### Импорт библиотек и модулей"
   ]
  },
  {
   "cell_type": "code",
   "execution_count": 1,
   "metadata": {},
   "outputs": [],
   "source": [
    "import pandas as pd\n",
    "import seaborn as sns\n",
    "import numpy as np\n",
    "\n",
    "import matplotlib.pyplot as plt\n",
    "\n",
    "from sklearn.linear_model import LinearRegression\n",
    "from sklearn.model_selection import train_test_split\n",
    "\n",
    "from sklearn.preprocessing import scale\n",
    "\n",
    "from sklearn.metrics import mean_squared_error"
   ]
  },
  {
   "cell_type": "markdown",
   "metadata": {},
   "source": [
    "### Загрузка данных"
   ]
  },
  {
   "cell_type": "markdown",
   "metadata": {},
   "source": [
    "Прочитает исходные данные и сохраним их в трех датасетах."
   ]
  },
  {
   "cell_type": "code",
   "execution_count": 2,
   "metadata": {},
   "outputs": [],
   "source": [
    "data_0 = pd.read_csv('/datasets/geo_data_0.csv')\n",
    "data_1 = pd.read_csv('/datasets/geo_data_1.csv')\n",
    "data_2 = pd.read_csv('/datasets/geo_data_2.csv')"
   ]
  },
  {
   "cell_type": "markdown",
   "metadata": {},
   "source": [
    "Последовательно посмотрим на данные в каждом их них."
   ]
  },
  {
   "cell_type": "code",
   "execution_count": 3,
   "metadata": {
    "scrolled": true
   },
   "outputs": [
    {
     "data": {
      "text/html": [
       "<div>\n",
       "<style scoped>\n",
       "    .dataframe tbody tr th:only-of-type {\n",
       "        vertical-align: middle;\n",
       "    }\n",
       "\n",
       "    .dataframe tbody tr th {\n",
       "        vertical-align: top;\n",
       "    }\n",
       "\n",
       "    .dataframe thead th {\n",
       "        text-align: right;\n",
       "    }\n",
       "</style>\n",
       "<table border=\"1\" class=\"dataframe\">\n",
       "  <thead>\n",
       "    <tr style=\"text-align: right;\">\n",
       "      <th></th>\n",
       "      <th>id</th>\n",
       "      <th>f0</th>\n",
       "      <th>f1</th>\n",
       "      <th>f2</th>\n",
       "      <th>product</th>\n",
       "    </tr>\n",
       "  </thead>\n",
       "  <tbody>\n",
       "    <tr>\n",
       "      <th>0</th>\n",
       "      <td>txEyH</td>\n",
       "      <td>0.705745</td>\n",
       "      <td>-0.497823</td>\n",
       "      <td>1.221170</td>\n",
       "      <td>105.280062</td>\n",
       "    </tr>\n",
       "    <tr>\n",
       "      <th>1</th>\n",
       "      <td>2acmU</td>\n",
       "      <td>1.334711</td>\n",
       "      <td>-0.340164</td>\n",
       "      <td>4.365080</td>\n",
       "      <td>73.037750</td>\n",
       "    </tr>\n",
       "    <tr>\n",
       "      <th>2</th>\n",
       "      <td>409Wp</td>\n",
       "      <td>1.022732</td>\n",
       "      <td>0.151990</td>\n",
       "      <td>1.419926</td>\n",
       "      <td>85.265647</td>\n",
       "    </tr>\n",
       "    <tr>\n",
       "      <th>3</th>\n",
       "      <td>iJLyR</td>\n",
       "      <td>-0.032172</td>\n",
       "      <td>0.139033</td>\n",
       "      <td>2.978566</td>\n",
       "      <td>168.620776</td>\n",
       "    </tr>\n",
       "    <tr>\n",
       "      <th>4</th>\n",
       "      <td>Xdl7t</td>\n",
       "      <td>1.988431</td>\n",
       "      <td>0.155413</td>\n",
       "      <td>4.751769</td>\n",
       "      <td>154.036647</td>\n",
       "    </tr>\n",
       "    <tr>\n",
       "      <th>5</th>\n",
       "      <td>wX4Hy</td>\n",
       "      <td>0.969570</td>\n",
       "      <td>0.489775</td>\n",
       "      <td>-0.735383</td>\n",
       "      <td>64.741541</td>\n",
       "    </tr>\n",
       "    <tr>\n",
       "      <th>6</th>\n",
       "      <td>tL6pL</td>\n",
       "      <td>0.645075</td>\n",
       "      <td>0.530656</td>\n",
       "      <td>1.780266</td>\n",
       "      <td>49.055285</td>\n",
       "    </tr>\n",
       "    <tr>\n",
       "      <th>7</th>\n",
       "      <td>BYPU6</td>\n",
       "      <td>-0.400648</td>\n",
       "      <td>0.808337</td>\n",
       "      <td>-5.624670</td>\n",
       "      <td>72.943292</td>\n",
       "    </tr>\n",
       "    <tr>\n",
       "      <th>8</th>\n",
       "      <td>j9Oui</td>\n",
       "      <td>0.643105</td>\n",
       "      <td>-0.551583</td>\n",
       "      <td>2.372141</td>\n",
       "      <td>113.356160</td>\n",
       "    </tr>\n",
       "    <tr>\n",
       "      <th>9</th>\n",
       "      <td>OLuZU</td>\n",
       "      <td>2.173381</td>\n",
       "      <td>0.563698</td>\n",
       "      <td>9.441852</td>\n",
       "      <td>127.910945</td>\n",
       "    </tr>\n",
       "  </tbody>\n",
       "</table>\n",
       "</div>"
      ],
      "text/plain": [
       "      id        f0        f1        f2     product\n",
       "0  txEyH  0.705745 -0.497823  1.221170  105.280062\n",
       "1  2acmU  1.334711 -0.340164  4.365080   73.037750\n",
       "2  409Wp  1.022732  0.151990  1.419926   85.265647\n",
       "3  iJLyR -0.032172  0.139033  2.978566  168.620776\n",
       "4  Xdl7t  1.988431  0.155413  4.751769  154.036647\n",
       "5  wX4Hy  0.969570  0.489775 -0.735383   64.741541\n",
       "6  tL6pL  0.645075  0.530656  1.780266   49.055285\n",
       "7  BYPU6 -0.400648  0.808337 -5.624670   72.943292\n",
       "8  j9Oui  0.643105 -0.551583  2.372141  113.356160\n",
       "9  OLuZU  2.173381  0.563698  9.441852  127.910945"
      ]
     },
     "execution_count": 3,
     "metadata": {},
     "output_type": "execute_result"
    }
   ],
   "source": [
    "data_0.head(10)"
   ]
  },
  {
   "cell_type": "code",
   "execution_count": 4,
   "metadata": {
    "scrolled": true
   },
   "outputs": [
    {
     "name": "stdout",
     "output_type": "stream",
     "text": [
      "<class 'pandas.core.frame.DataFrame'>\n",
      "RangeIndex: 100000 entries, 0 to 99999\n",
      "Data columns (total 5 columns):\n",
      " #   Column   Non-Null Count   Dtype  \n",
      "---  ------   --------------   -----  \n",
      " 0   id       100000 non-null  object \n",
      " 1   f0       100000 non-null  float64\n",
      " 2   f1       100000 non-null  float64\n",
      " 3   f2       100000 non-null  float64\n",
      " 4   product  100000 non-null  float64\n",
      "dtypes: float64(4), object(1)\n",
      "memory usage: 3.8+ MB\n"
     ]
    }
   ],
   "source": [
    "data_0.info()"
   ]
  },
  {
   "cell_type": "code",
   "execution_count": 6,
   "metadata": {
    "scrolled": true
   },
   "outputs": [
    {
     "data": {
      "text/html": [
       "<div>\n",
       "<style scoped>\n",
       "    .dataframe tbody tr th:only-of-type {\n",
       "        vertical-align: middle;\n",
       "    }\n",
       "\n",
       "    .dataframe tbody tr th {\n",
       "        vertical-align: top;\n",
       "    }\n",
       "\n",
       "    .dataframe thead th {\n",
       "        text-align: right;\n",
       "    }\n",
       "</style>\n",
       "<table border=\"1\" class=\"dataframe\">\n",
       "  <thead>\n",
       "    <tr style=\"text-align: right;\">\n",
       "      <th></th>\n",
       "      <th>id</th>\n",
       "      <th>f0</th>\n",
       "      <th>f1</th>\n",
       "      <th>f2</th>\n",
       "      <th>product</th>\n",
       "    </tr>\n",
       "  </thead>\n",
       "  <tbody>\n",
       "    <tr>\n",
       "      <th>0</th>\n",
       "      <td>kBEdx</td>\n",
       "      <td>-15.001348</td>\n",
       "      <td>-8.276000</td>\n",
       "      <td>-0.005876</td>\n",
       "      <td>3.179103</td>\n",
       "    </tr>\n",
       "    <tr>\n",
       "      <th>1</th>\n",
       "      <td>62mP7</td>\n",
       "      <td>14.272088</td>\n",
       "      <td>-3.475083</td>\n",
       "      <td>0.999183</td>\n",
       "      <td>26.953261</td>\n",
       "    </tr>\n",
       "    <tr>\n",
       "      <th>2</th>\n",
       "      <td>vyE1P</td>\n",
       "      <td>6.263187</td>\n",
       "      <td>-5.948386</td>\n",
       "      <td>5.001160</td>\n",
       "      <td>134.766305</td>\n",
       "    </tr>\n",
       "    <tr>\n",
       "      <th>3</th>\n",
       "      <td>KcrkZ</td>\n",
       "      <td>-13.081196</td>\n",
       "      <td>-11.506057</td>\n",
       "      <td>4.999415</td>\n",
       "      <td>137.945408</td>\n",
       "    </tr>\n",
       "    <tr>\n",
       "      <th>4</th>\n",
       "      <td>AHL4O</td>\n",
       "      <td>12.702195</td>\n",
       "      <td>-8.147433</td>\n",
       "      <td>5.004363</td>\n",
       "      <td>134.766305</td>\n",
       "    </tr>\n",
       "    <tr>\n",
       "      <th>5</th>\n",
       "      <td>HHckp</td>\n",
       "      <td>-3.327590</td>\n",
       "      <td>-2.205276</td>\n",
       "      <td>3.003647</td>\n",
       "      <td>84.038886</td>\n",
       "    </tr>\n",
       "    <tr>\n",
       "      <th>6</th>\n",
       "      <td>h5Ujo</td>\n",
       "      <td>-11.142655</td>\n",
       "      <td>-10.133399</td>\n",
       "      <td>4.002382</td>\n",
       "      <td>110.992147</td>\n",
       "    </tr>\n",
       "    <tr>\n",
       "      <th>7</th>\n",
       "      <td>muH9x</td>\n",
       "      <td>4.234715</td>\n",
       "      <td>-0.001354</td>\n",
       "      <td>2.004588</td>\n",
       "      <td>53.906522</td>\n",
       "    </tr>\n",
       "    <tr>\n",
       "      <th>8</th>\n",
       "      <td>YiRkx</td>\n",
       "      <td>13.355129</td>\n",
       "      <td>-0.332068</td>\n",
       "      <td>4.998647</td>\n",
       "      <td>134.766305</td>\n",
       "    </tr>\n",
       "    <tr>\n",
       "      <th>9</th>\n",
       "      <td>jG6Gi</td>\n",
       "      <td>1.069227</td>\n",
       "      <td>-11.025667</td>\n",
       "      <td>4.997844</td>\n",
       "      <td>137.945408</td>\n",
       "    </tr>\n",
       "  </tbody>\n",
       "</table>\n",
       "</div>"
      ],
      "text/plain": [
       "      id         f0         f1        f2     product\n",
       "0  kBEdx -15.001348  -8.276000 -0.005876    3.179103\n",
       "1  62mP7  14.272088  -3.475083  0.999183   26.953261\n",
       "2  vyE1P   6.263187  -5.948386  5.001160  134.766305\n",
       "3  KcrkZ -13.081196 -11.506057  4.999415  137.945408\n",
       "4  AHL4O  12.702195  -8.147433  5.004363  134.766305\n",
       "5  HHckp  -3.327590  -2.205276  3.003647   84.038886\n",
       "6  h5Ujo -11.142655 -10.133399  4.002382  110.992147\n",
       "7  muH9x   4.234715  -0.001354  2.004588   53.906522\n",
       "8  YiRkx  13.355129  -0.332068  4.998647  134.766305\n",
       "9  jG6Gi   1.069227 -11.025667  4.997844  137.945408"
      ]
     },
     "execution_count": 6,
     "metadata": {},
     "output_type": "execute_result"
    }
   ],
   "source": [
    "data_1.head(10)"
   ]
  },
  {
   "cell_type": "code",
   "execution_count": 7,
   "metadata": {},
   "outputs": [
    {
     "name": "stdout",
     "output_type": "stream",
     "text": [
      "<class 'pandas.core.frame.DataFrame'>\n",
      "RangeIndex: 100000 entries, 0 to 99999\n",
      "Data columns (total 5 columns):\n",
      " #   Column   Non-Null Count   Dtype  \n",
      "---  ------   --------------   -----  \n",
      " 0   id       100000 non-null  object \n",
      " 1   f0       100000 non-null  float64\n",
      " 2   f1       100000 non-null  float64\n",
      " 3   f2       100000 non-null  float64\n",
      " 4   product  100000 non-null  float64\n",
      "dtypes: float64(4), object(1)\n",
      "memory usage: 3.8+ MB\n"
     ]
    }
   ],
   "source": [
    "data_1.info()"
   ]
  },
  {
   "cell_type": "code",
   "execution_count": 7,
   "metadata": {},
   "outputs": [
    {
     "data": {
      "text/html": [
       "<div>\n",
       "<style scoped>\n",
       "    .dataframe tbody tr th:only-of-type {\n",
       "        vertical-align: middle;\n",
       "    }\n",
       "\n",
       "    .dataframe tbody tr th {\n",
       "        vertical-align: top;\n",
       "    }\n",
       "\n",
       "    .dataframe thead th {\n",
       "        text-align: right;\n",
       "    }\n",
       "</style>\n",
       "<table border=\"1\" class=\"dataframe\">\n",
       "  <thead>\n",
       "    <tr style=\"text-align: right;\">\n",
       "      <th></th>\n",
       "      <th>id</th>\n",
       "      <th>f0</th>\n",
       "      <th>f1</th>\n",
       "      <th>f2</th>\n",
       "      <th>product</th>\n",
       "    </tr>\n",
       "  </thead>\n",
       "  <tbody>\n",
       "    <tr>\n",
       "      <th>0</th>\n",
       "      <td>fwXo0</td>\n",
       "      <td>-1.146987</td>\n",
       "      <td>0.963328</td>\n",
       "      <td>-0.828965</td>\n",
       "      <td>27.758673</td>\n",
       "    </tr>\n",
       "    <tr>\n",
       "      <th>1</th>\n",
       "      <td>WJtFt</td>\n",
       "      <td>0.262778</td>\n",
       "      <td>0.269839</td>\n",
       "      <td>-2.530187</td>\n",
       "      <td>56.069697</td>\n",
       "    </tr>\n",
       "    <tr>\n",
       "      <th>2</th>\n",
       "      <td>ovLUW</td>\n",
       "      <td>0.194587</td>\n",
       "      <td>0.289035</td>\n",
       "      <td>-5.586433</td>\n",
       "      <td>62.871910</td>\n",
       "    </tr>\n",
       "    <tr>\n",
       "      <th>3</th>\n",
       "      <td>q6cA6</td>\n",
       "      <td>2.236060</td>\n",
       "      <td>-0.553760</td>\n",
       "      <td>0.930038</td>\n",
       "      <td>114.572842</td>\n",
       "    </tr>\n",
       "    <tr>\n",
       "      <th>4</th>\n",
       "      <td>WPMUX</td>\n",
       "      <td>-0.515993</td>\n",
       "      <td>1.716266</td>\n",
       "      <td>5.899011</td>\n",
       "      <td>149.600746</td>\n",
       "    </tr>\n",
       "    <tr>\n",
       "      <th>5</th>\n",
       "      <td>LzZXx</td>\n",
       "      <td>-0.758092</td>\n",
       "      <td>0.710691</td>\n",
       "      <td>2.585887</td>\n",
       "      <td>90.222465</td>\n",
       "    </tr>\n",
       "    <tr>\n",
       "      <th>6</th>\n",
       "      <td>WBHRv</td>\n",
       "      <td>-0.574891</td>\n",
       "      <td>0.317727</td>\n",
       "      <td>1.773745</td>\n",
       "      <td>45.641478</td>\n",
       "    </tr>\n",
       "    <tr>\n",
       "      <th>7</th>\n",
       "      <td>XO8fn</td>\n",
       "      <td>-1.906649</td>\n",
       "      <td>-2.458350</td>\n",
       "      <td>-0.177097</td>\n",
       "      <td>72.480640</td>\n",
       "    </tr>\n",
       "    <tr>\n",
       "      <th>8</th>\n",
       "      <td>ybmQ5</td>\n",
       "      <td>1.776292</td>\n",
       "      <td>-0.279356</td>\n",
       "      <td>3.004156</td>\n",
       "      <td>106.616832</td>\n",
       "    </tr>\n",
       "    <tr>\n",
       "      <th>9</th>\n",
       "      <td>OilcN</td>\n",
       "      <td>-1.214452</td>\n",
       "      <td>-0.439314</td>\n",
       "      <td>5.922514</td>\n",
       "      <td>52.954532</td>\n",
       "    </tr>\n",
       "  </tbody>\n",
       "</table>\n",
       "</div>"
      ],
      "text/plain": [
       "      id        f0        f1        f2     product\n",
       "0  fwXo0 -1.146987  0.963328 -0.828965   27.758673\n",
       "1  WJtFt  0.262778  0.269839 -2.530187   56.069697\n",
       "2  ovLUW  0.194587  0.289035 -5.586433   62.871910\n",
       "3  q6cA6  2.236060 -0.553760  0.930038  114.572842\n",
       "4  WPMUX -0.515993  1.716266  5.899011  149.600746\n",
       "5  LzZXx -0.758092  0.710691  2.585887   90.222465\n",
       "6  WBHRv -0.574891  0.317727  1.773745   45.641478\n",
       "7  XO8fn -1.906649 -2.458350 -0.177097   72.480640\n",
       "8  ybmQ5  1.776292 -0.279356  3.004156  106.616832\n",
       "9  OilcN -1.214452 -0.439314  5.922514   52.954532"
      ]
     },
     "execution_count": 7,
     "metadata": {},
     "output_type": "execute_result"
    }
   ],
   "source": [
    "data_2.head(10)"
   ]
  },
  {
   "cell_type": "code",
   "execution_count": 8,
   "metadata": {},
   "outputs": [
    {
     "name": "stdout",
     "output_type": "stream",
     "text": [
      "<class 'pandas.core.frame.DataFrame'>\n",
      "RangeIndex: 100000 entries, 0 to 99999\n",
      "Data columns (total 5 columns):\n",
      " #   Column   Non-Null Count   Dtype  \n",
      "---  ------   --------------   -----  \n",
      " 0   id       100000 non-null  object \n",
      " 1   f0       100000 non-null  float64\n",
      " 2   f1       100000 non-null  float64\n",
      " 3   f2       100000 non-null  float64\n",
      " 4   product  100000 non-null  float64\n",
      "dtypes: float64(4), object(1)\n",
      "memory usage: 3.8+ MB\n"
     ]
    }
   ],
   "source": [
    "data_2.info()"
   ]
  },
  {
   "cell_type": "markdown",
   "metadata": {},
   "source": [
    "В каждом из представленных датасетов содержатся одинаковые столбцы:\n",
    "- `id` — уникальный идентификатор скважины, 6 случайных символов;\n",
    "- `f0`, `f1`, `f2` — три значимых признака, судя по значениям, эти данные уж нормализованы;\n",
    "- `product` — объем запасов в скважине, измеренный в тыс. баррелей. Целевой признак, т.к. от в зависимости от объема запасов в скважине зависит суммарный доход от нее.\n",
    "\n",
    "В датасетах нет пропусков."
   ]
  },
  {
   "cell_type": "markdown",
   "metadata": {},
   "source": [
    "На первый взгляд, может показаться, что разброс значений в регионах отличается — применим метод `describe`, чтобы проверить это."
   ]
  },
  {
   "cell_type": "code",
   "execution_count": 9,
   "metadata": {
    "scrolled": true
   },
   "outputs": [
    {
     "data": {
      "text/html": [
       "<div>\n",
       "<style scoped>\n",
       "    .dataframe tbody tr th:only-of-type {\n",
       "        vertical-align: middle;\n",
       "    }\n",
       "\n",
       "    .dataframe tbody tr th {\n",
       "        vertical-align: top;\n",
       "    }\n",
       "\n",
       "    .dataframe thead th {\n",
       "        text-align: right;\n",
       "    }\n",
       "</style>\n",
       "<table border=\"1\" class=\"dataframe\">\n",
       "  <thead>\n",
       "    <tr style=\"text-align: right;\">\n",
       "      <th></th>\n",
       "      <th>f0</th>\n",
       "      <th>f1</th>\n",
       "      <th>f2</th>\n",
       "      <th>product</th>\n",
       "    </tr>\n",
       "  </thead>\n",
       "  <tbody>\n",
       "    <tr>\n",
       "      <th>count</th>\n",
       "      <td>100000.000000</td>\n",
       "      <td>100000.000000</td>\n",
       "      <td>100000.000000</td>\n",
       "      <td>100000.000000</td>\n",
       "    </tr>\n",
       "    <tr>\n",
       "      <th>mean</th>\n",
       "      <td>0.500419</td>\n",
       "      <td>0.250143</td>\n",
       "      <td>2.502647</td>\n",
       "      <td>92.500000</td>\n",
       "    </tr>\n",
       "    <tr>\n",
       "      <th>std</th>\n",
       "      <td>0.871832</td>\n",
       "      <td>0.504433</td>\n",
       "      <td>3.248248</td>\n",
       "      <td>44.288691</td>\n",
       "    </tr>\n",
       "    <tr>\n",
       "      <th>min</th>\n",
       "      <td>-1.408605</td>\n",
       "      <td>-0.848218</td>\n",
       "      <td>-12.088328</td>\n",
       "      <td>0.000000</td>\n",
       "    </tr>\n",
       "    <tr>\n",
       "      <th>25%</th>\n",
       "      <td>-0.072580</td>\n",
       "      <td>-0.200881</td>\n",
       "      <td>0.287748</td>\n",
       "      <td>56.497507</td>\n",
       "    </tr>\n",
       "    <tr>\n",
       "      <th>50%</th>\n",
       "      <td>0.502360</td>\n",
       "      <td>0.250252</td>\n",
       "      <td>2.515969</td>\n",
       "      <td>91.849972</td>\n",
       "    </tr>\n",
       "    <tr>\n",
       "      <th>75%</th>\n",
       "      <td>1.073581</td>\n",
       "      <td>0.700646</td>\n",
       "      <td>4.715088</td>\n",
       "      <td>128.564089</td>\n",
       "    </tr>\n",
       "    <tr>\n",
       "      <th>max</th>\n",
       "      <td>2.362331</td>\n",
       "      <td>1.343769</td>\n",
       "      <td>16.003790</td>\n",
       "      <td>185.364347</td>\n",
       "    </tr>\n",
       "  </tbody>\n",
       "</table>\n",
       "</div>"
      ],
      "text/plain": [
       "                  f0             f1             f2        product\n",
       "count  100000.000000  100000.000000  100000.000000  100000.000000\n",
       "mean        0.500419       0.250143       2.502647      92.500000\n",
       "std         0.871832       0.504433       3.248248      44.288691\n",
       "min        -1.408605      -0.848218     -12.088328       0.000000\n",
       "25%        -0.072580      -0.200881       0.287748      56.497507\n",
       "50%         0.502360       0.250252       2.515969      91.849972\n",
       "75%         1.073581       0.700646       4.715088     128.564089\n",
       "max         2.362331       1.343769      16.003790     185.364347"
      ]
     },
     "execution_count": 9,
     "metadata": {},
     "output_type": "execute_result"
    }
   ],
   "source": [
    "data_0.describe()"
   ]
  },
  {
   "cell_type": "code",
   "execution_count": 10,
   "metadata": {
    "scrolled": true
   },
   "outputs": [
    {
     "data": {
      "text/html": [
       "<div>\n",
       "<style scoped>\n",
       "    .dataframe tbody tr th:only-of-type {\n",
       "        vertical-align: middle;\n",
       "    }\n",
       "\n",
       "    .dataframe tbody tr th {\n",
       "        vertical-align: top;\n",
       "    }\n",
       "\n",
       "    .dataframe thead th {\n",
       "        text-align: right;\n",
       "    }\n",
       "</style>\n",
       "<table border=\"1\" class=\"dataframe\">\n",
       "  <thead>\n",
       "    <tr style=\"text-align: right;\">\n",
       "      <th></th>\n",
       "      <th>f0</th>\n",
       "      <th>f1</th>\n",
       "      <th>f2</th>\n",
       "      <th>product</th>\n",
       "    </tr>\n",
       "  </thead>\n",
       "  <tbody>\n",
       "    <tr>\n",
       "      <th>count</th>\n",
       "      <td>100000.000000</td>\n",
       "      <td>100000.000000</td>\n",
       "      <td>100000.000000</td>\n",
       "      <td>100000.000000</td>\n",
       "    </tr>\n",
       "    <tr>\n",
       "      <th>mean</th>\n",
       "      <td>1.141296</td>\n",
       "      <td>-4.796579</td>\n",
       "      <td>2.494541</td>\n",
       "      <td>68.825000</td>\n",
       "    </tr>\n",
       "    <tr>\n",
       "      <th>std</th>\n",
       "      <td>8.965932</td>\n",
       "      <td>5.119872</td>\n",
       "      <td>1.703572</td>\n",
       "      <td>45.944423</td>\n",
       "    </tr>\n",
       "    <tr>\n",
       "      <th>min</th>\n",
       "      <td>-31.609576</td>\n",
       "      <td>-26.358598</td>\n",
       "      <td>-0.018144</td>\n",
       "      <td>0.000000</td>\n",
       "    </tr>\n",
       "    <tr>\n",
       "      <th>25%</th>\n",
       "      <td>-6.298551</td>\n",
       "      <td>-8.267985</td>\n",
       "      <td>1.000021</td>\n",
       "      <td>26.953261</td>\n",
       "    </tr>\n",
       "    <tr>\n",
       "      <th>50%</th>\n",
       "      <td>1.153055</td>\n",
       "      <td>-4.813172</td>\n",
       "      <td>2.011479</td>\n",
       "      <td>57.085625</td>\n",
       "    </tr>\n",
       "    <tr>\n",
       "      <th>75%</th>\n",
       "      <td>8.621015</td>\n",
       "      <td>-1.332816</td>\n",
       "      <td>3.999904</td>\n",
       "      <td>107.813044</td>\n",
       "    </tr>\n",
       "    <tr>\n",
       "      <th>max</th>\n",
       "      <td>29.421755</td>\n",
       "      <td>18.734063</td>\n",
       "      <td>5.019721</td>\n",
       "      <td>137.945408</td>\n",
       "    </tr>\n",
       "  </tbody>\n",
       "</table>\n",
       "</div>"
      ],
      "text/plain": [
       "                  f0             f1             f2        product\n",
       "count  100000.000000  100000.000000  100000.000000  100000.000000\n",
       "mean        1.141296      -4.796579       2.494541      68.825000\n",
       "std         8.965932       5.119872       1.703572      45.944423\n",
       "min       -31.609576     -26.358598      -0.018144       0.000000\n",
       "25%        -6.298551      -8.267985       1.000021      26.953261\n",
       "50%         1.153055      -4.813172       2.011479      57.085625\n",
       "75%         8.621015      -1.332816       3.999904     107.813044\n",
       "max        29.421755      18.734063       5.019721     137.945408"
      ]
     },
     "execution_count": 10,
     "metadata": {},
     "output_type": "execute_result"
    }
   ],
   "source": [
    "data_1.describe()"
   ]
  },
  {
   "cell_type": "code",
   "execution_count": 11,
   "metadata": {
    "scrolled": true
   },
   "outputs": [
    {
     "data": {
      "text/html": [
       "<div>\n",
       "<style scoped>\n",
       "    .dataframe tbody tr th:only-of-type {\n",
       "        vertical-align: middle;\n",
       "    }\n",
       "\n",
       "    .dataframe tbody tr th {\n",
       "        vertical-align: top;\n",
       "    }\n",
       "\n",
       "    .dataframe thead th {\n",
       "        text-align: right;\n",
       "    }\n",
       "</style>\n",
       "<table border=\"1\" class=\"dataframe\">\n",
       "  <thead>\n",
       "    <tr style=\"text-align: right;\">\n",
       "      <th></th>\n",
       "      <th>f0</th>\n",
       "      <th>f1</th>\n",
       "      <th>f2</th>\n",
       "      <th>product</th>\n",
       "    </tr>\n",
       "  </thead>\n",
       "  <tbody>\n",
       "    <tr>\n",
       "      <th>count</th>\n",
       "      <td>100000.000000</td>\n",
       "      <td>100000.000000</td>\n",
       "      <td>100000.000000</td>\n",
       "      <td>100000.000000</td>\n",
       "    </tr>\n",
       "    <tr>\n",
       "      <th>mean</th>\n",
       "      <td>0.002023</td>\n",
       "      <td>-0.002081</td>\n",
       "      <td>2.495128</td>\n",
       "      <td>95.000000</td>\n",
       "    </tr>\n",
       "    <tr>\n",
       "      <th>std</th>\n",
       "      <td>1.732045</td>\n",
       "      <td>1.730417</td>\n",
       "      <td>3.473445</td>\n",
       "      <td>44.749921</td>\n",
       "    </tr>\n",
       "    <tr>\n",
       "      <th>min</th>\n",
       "      <td>-8.760004</td>\n",
       "      <td>-7.084020</td>\n",
       "      <td>-11.970335</td>\n",
       "      <td>0.000000</td>\n",
       "    </tr>\n",
       "    <tr>\n",
       "      <th>25%</th>\n",
       "      <td>-1.162288</td>\n",
       "      <td>-1.174820</td>\n",
       "      <td>0.130359</td>\n",
       "      <td>59.450441</td>\n",
       "    </tr>\n",
       "    <tr>\n",
       "      <th>50%</th>\n",
       "      <td>0.009424</td>\n",
       "      <td>-0.009482</td>\n",
       "      <td>2.484236</td>\n",
       "      <td>94.925613</td>\n",
       "    </tr>\n",
       "    <tr>\n",
       "      <th>75%</th>\n",
       "      <td>1.158535</td>\n",
       "      <td>1.163678</td>\n",
       "      <td>4.858794</td>\n",
       "      <td>130.595027</td>\n",
       "    </tr>\n",
       "    <tr>\n",
       "      <th>max</th>\n",
       "      <td>7.238262</td>\n",
       "      <td>7.844801</td>\n",
       "      <td>16.739402</td>\n",
       "      <td>190.029838</td>\n",
       "    </tr>\n",
       "  </tbody>\n",
       "</table>\n",
       "</div>"
      ],
      "text/plain": [
       "                  f0             f1             f2        product\n",
       "count  100000.000000  100000.000000  100000.000000  100000.000000\n",
       "mean        0.002023      -0.002081       2.495128      95.000000\n",
       "std         1.732045       1.730417       3.473445      44.749921\n",
       "min        -8.760004      -7.084020     -11.970335       0.000000\n",
       "25%        -1.162288      -1.174820       0.130359      59.450441\n",
       "50%         0.009424      -0.009482       2.484236      94.925613\n",
       "75%         1.158535       1.163678       4.858794     130.595027\n",
       "max         7.238262       7.844801      16.739402     190.029838"
      ]
     },
     "execution_count": 11,
     "metadata": {},
     "output_type": "execute_result"
    }
   ],
   "source": [
    "data_2.describe()"
   ]
  },
  {
   "cell_type": "markdown",
   "metadata": {},
   "source": [
    "Видно, что хотя признаки масштабированы, они не нормализированы — дисперсия отличается от 1. Кроме того, заметим, как сильно отличаются значения признаков в разных регионах — максимальное значение признака `f1` в первом регионе — `2.36`, а во втором — `29.4`. Примерно также отличаются максимальные значения других признаков по регионам."
   ]
  },
  {
   "cell_type": "markdown",
   "metadata": {},
   "source": [
    "### Проверка на явные дубликаты"
   ]
  },
  {
   "cell_type": "markdown",
   "metadata": {},
   "source": [
    "Перед тем, как продолжить исследование, проверим датасеты на явные дубликаты."
   ]
  },
  {
   "cell_type": "code",
   "execution_count": 12,
   "metadata": {},
   "outputs": [
    {
     "data": {
      "text/plain": [
       "0"
      ]
     },
     "execution_count": 12,
     "metadata": {},
     "output_type": "execute_result"
    }
   ],
   "source": [
    "data_0.duplicated().sum()"
   ]
  },
  {
   "cell_type": "code",
   "execution_count": 13,
   "metadata": {},
   "outputs": [
    {
     "data": {
      "text/plain": [
       "0"
      ]
     },
     "execution_count": 13,
     "metadata": {},
     "output_type": "execute_result"
    }
   ],
   "source": [
    "data_1.duplicated().sum()"
   ]
  },
  {
   "cell_type": "code",
   "execution_count": 14,
   "metadata": {
    "scrolled": true
   },
   "outputs": [
    {
     "data": {
      "text/plain": [
       "0"
      ]
     },
     "execution_count": 14,
     "metadata": {},
     "output_type": "execute_result"
    }
   ],
   "source": [
    "data_2.duplicated().sum()"
   ]
  },
  {
   "cell_type": "markdown",
   "metadata": {},
   "source": [
    "Явных дубликатов не обнаружено."
   ]
  },
  {
   "cell_type": "markdown",
   "metadata": {},
   "source": [
    "### Анализ влияния признаков"
   ]
  },
  {
   "cell_type": "markdown",
   "metadata": {},
   "source": [
    "Проверим наличие линейной зависимости между признаками и целевым признаком в каждом из датасетов."
   ]
  },
  {
   "cell_type": "code",
   "execution_count": 15,
   "metadata": {
    "scrolled": false
   },
   "outputs": [
    {
     "data": {
      "image/png": "[encoded data removed]",
      "text/plain": [
       "<Figure size 720x288 with 3 Axes>"
      ]
     },
     "metadata": {
      "needs_background": "light"
     },
     "output_type": "display_data"
    }
   ],
   "source": [
    "fig = plt.figure(figsize=(10,4))\n",
    "ax_1 = fig.add_subplot(1,3,1)\n",
    "ax_2 = fig.add_subplot(1,3,2)\n",
    "ax_3 = fig.add_subplot(1,3,3)\n",
    "\n",
    "sns.heatmap(data_0.corr(),\n",
    "            annot = True,\n",
    "            cbar=False,\n",
    "            ax = ax_1)\n",
    "ax_1.set_title('Первый регион')\n",
    "\n",
    "sns.heatmap(data_1.corr(),\n",
    "            annot = True,\n",
    "            cbar=False,\n",
    "            ax = ax_2)\n",
    "ax_2.set_title('Второй регион')\n",
    "\n",
    "sns.heatmap(data_2.corr(),\n",
    "            annot = True,\n",
    "            cbar=False,\n",
    "            ax = ax_3)\n",
    "ax_3.set_title('Третий регион')\n",
    "\n",
    "plt.show()"
   ]
  },
  {
   "cell_type": "markdown",
   "metadata": {},
   "source": [
    "По признакам `f0` и `f1` линейной зависимости на объем запасов в скважине не наблюдается, а вот признак `f2` оказывает прямое влияние на этот показатель. Более того, во втором регионе между признаком `f2` и объемом запасов в скважине наблюдается **абсолютная** зависимость."
   ]
  },
  {
   "cell_type": "markdown",
   "metadata": {},
   "source": [
    "Посмотрим на график по выборке из первых 100 скважин."
   ]
  },
  {
   "cell_type": "code",
   "execution_count": 16,
   "metadata": {
    "scrolled": false
   },
   "outputs": [
    {
     "data": {
      "text/plain": [
       "<AxesSubplot:xlabel='id', ylabel='product'>"
      ]
     },
     "execution_count": 16,
     "metadata": {},
     "output_type": "execute_result"
    },
    {
     "data": {
      "image/png": "[encoded data removed]",
      "text/plain": [
       "<Figure size 720x288 with 2 Axes>"
      ]
     },
     "metadata": {
      "needs_background": "light"
     },
     "output_type": "display_data"
    }
   ],
   "source": [
    "fig = plt.figure(figsize=(10,4))\n",
    "ax_1 = fig.add_subplot(1,2,1)\n",
    "ax_2 = fig.add_subplot(1,2,2)\n",
    "sns.scatterplot(data=data_1.head(100), x=\"id\", y=\"f2\",alpha=0.75, ax=ax_1)\n",
    "sns.scatterplot(data=data_1.head(100), x=\"id\", y=\"product\",alpha=0.75, ax=ax_2)"
   ]
  },
  {
   "cell_type": "markdown",
   "metadata": {},
   "source": [
    "Рисунки графиков не идентичны, но почти полностью повторяют друг друга. Это следует учесть при обучение модели для второго региона и дальнейшем анализе."
   ]
  },
  {
   "cell_type": "markdown",
   "metadata": {},
   "source": [
    "### Удаление неинформативных столбоцов"
   ]
  },
  {
   "cell_type": "markdown",
   "metadata": {},
   "source": [
    "В столбцах `id` содержатся уникальные идентификаторы скважин. Однако, т.к. мы можем понять о какой скважине идет речь по индексу объекта, этот столбец является излишним — поэтому его можно удалить из всех датасетов."
   ]
  },
  {
   "cell_type": "code",
   "execution_count": 17,
   "metadata": {},
   "outputs": [],
   "source": [
    "data_0 = data_0.drop('id', axis=1)                                                  # удаляем неинформативный id скважины\n",
    "data_1 = data_1.drop('id', axis=1)\n",
    "data_2 = data_2.drop('id', axis=1)"
   ]
  },
  {
   "cell_type": "markdown",
   "metadata": {},
   "source": [
    "## Обучение и проверка модели"
   ]
  },
  {
   "cell_type": "markdown",
   "metadata": {},
   "source": [
    "### Создание функции для моделей"
   ]
  },
  {
   "cell_type": "markdown",
   "metadata": {},
   "source": [
    "Т. к. для всех регионов мы будет использовать модель линейной регрессии `LinearRegression`, напишем общую функцию, которая будет делить выборку на обучающую и валидационную, обучать модель, сохранять предсказания модели на валидационной выборке, возвращать средний запас сырья в регионе и RMSE модели."
   ]
  },
  {
   "cell_type": "code",
   "execution_count": 18,
   "metadata": {},
   "outputs": [],
   "source": [
    "models = [] #список для сохранения моделей"
   ]
  },
  {
   "cell_type": "code",
   "execution_count": 19,
   "metadata": {},
   "outputs": [],
   "source": [
    "def get_model(data):\n",
    "    \n",
    "    target = data['product']                                                        # целовой признак\n",
    "    features = data.drop('product', axis=1)                                         # признаки \n",
    "    \n",
    "    features_train, features_valid, target_train, target_valid = train_test_split(features,\n",
    "                                                                                  target,\n",
    "                                                                                  test_size=0.25,\n",
    "                                                                                  random_state=2258)\n",
    "    \n",
    "    model = LinearRegression()                                                      # создаем объект модели \n",
    "    model.fit(features_train, target_train)                                         # обучаем модель\n",
    "    predictions_valid = model.predict(features_valid)                               # сохраняем предсказания на валидационной\n",
    "                                                                                    # выборке\n",
    "    \n",
    "    rmse = (mean_squared_error(target_valid,predictions_valid))**0.5                # сохраняем RMSE модели\n",
    "    mean_product = sum(predictions_valid)/len(predictions_valid)                    # и среднее предсказзаное количество нефти\n",
    "                                                                                    # в скважинах\n",
    "    \n",
    "    models.append(model)\n",
    "    \n",
    "    return predictions_valid, mean_product, rmse\n",
    "    \n",
    "    \n",
    "    "
   ]
  },
  {
   "cell_type": "markdown",
   "metadata": {},
   "source": [
    "Ниже определим вторую функцию `get_model_scale` — она полностью повторяет первую, за исключением того, что признаки будут нормализованы с примением объект `scale`."
   ]
  },
  {
   "cell_type": "code",
   "execution_count": 20,
   "metadata": {},
   "outputs": [],
   "source": [
    "def get_model_scale(data):\n",
    "                          \n",
    "    target = data['product']                                                        # целовой признак\n",
    "    features = data.drop('product', axis=1)                                         # признаки \n",
    "    features_train, features_valid, target_train, target_valid = train_test_split(features,\n",
    "                                                                                  target,\n",
    "                                                                                  test_size=0.25,\n",
    "                                                                                  random_state=2258)\n",
    "    \n",
    "    features_train = scale(features_train)\n",
    "    features_valid = scale(features_valid)\n",
    "    model = LinearRegression()                                                      # создаем объек модели \n",
    "    model.fit(features_train, target_train)                                         # обучаем модель\n",
    "    predictions_valid = model.predict(features_valid)                               # сохраняем предсказания на валидационной\n",
    "                                                                                    # выборке\n",
    "    \n",
    "    rmse = (mean_squared_error(target_valid,predictions_valid))**0.5                # сохраняем RMSE модели\n",
    "    mean_product = sum(predictions_valid)/len(predictions_valid)                    # и среднее предсказзаное количество нефти\n",
    "                                                                                    # в скважинах\n",
    "    \n",
    "    \n",
    "    print('Квадратный корень из средней квадратичной ошибки модели (RMSE):', rmse,'\\n'\n",
    "          'Средний запас предсказанного сырья в скважинах в регионе:', mean_product)"
   ]
  },
  {
   "cell_type": "markdown",
   "metadata": {},
   "source": [
    "### Обучение моделей "
   ]
  },
  {
   "cell_type": "markdown",
   "metadata": {},
   "source": [
    "После написания общей функции последовательно применим ее к каждому из регионов и сравним целевую метрику RMSE."
   ]
  },
  {
   "cell_type": "code",
   "execution_count": 21,
   "metadata": {},
   "outputs": [
    {
     "name": "stdout",
     "output_type": "stream",
     "text": [
      "Квадратный корень из средней квадратичной ошибки модели (RMSE): 37.82457764774753 \n",
      "Средний запас предсказанного сырья в скважинах в регионе: 92.31740894644025\n"
     ]
    }
   ],
   "source": [
    "predictions_0, mean_product_0, rmse_0 = get_model(data_0)\n",
    "\n",
    "print('Квадратный корень из средней квадратичной ошибки модели (RMSE):', rmse_0,'\\n'\n",
    "      'Средний запас предсказанного сырья в скважинах в регионе:', mean_product_0)"
   ]
  },
  {
   "cell_type": "code",
   "execution_count": 22,
   "metadata": {},
   "outputs": [
    {
     "name": "stdout",
     "output_type": "stream",
     "text": [
      "Квадратный корень из средней квадратичной ошибки модели (RMSE): 0.891742712895835 \n",
      "Средний запас предсказанного сырья в скважинах в регионе: 68.60475751723025\n"
     ]
    }
   ],
   "source": [
    "predictions_1, mean_product_1, rmse_1 = get_model(data_1)\n",
    "\n",
    "print('Квадратный корень из средней квадратичной ошибки модели (RMSE):', rmse_1,'\\n'\n",
    "      'Средний запас предсказанного сырья в скважинах в регионе:', mean_product_1)"
   ]
  },
  {
   "cell_type": "code",
   "execution_count": 23,
   "metadata": {},
   "outputs": [
    {
     "name": "stdout",
     "output_type": "stream",
     "text": [
      "Квадратный корень из средней квадратичной ошибки модели (RMSE): 40.018443694341805 \n",
      "Средний запас предсказанного сырья в скважинах в регионе: 94.8042354537288\n"
     ]
    }
   ],
   "source": [
    "predictions_2, mean_product_2, rmse_2 = get_model(data_2)\n",
    "\n",
    "print('Квадратный корень из средней квадратичной ошибки модели (RMSE):', rmse_2,'\\n'\n",
    "      'Средний запас предсказанного сырья в скважинах в регионе:', mean_product_2)"
   ]
  },
  {
   "cell_type": "markdown",
   "metadata": {},
   "source": [
    "Средний объем предсказаного сырья во втором регионе ниже примерно на 28-30%, что примерно соответсвует всей совокупности данных (среднее значение запасов в первом регионе 92 тыс баррелей, во втором 68 тыс баррелей, в третьем — 95 тыс. баррелей. Однако, модель точно выявила закономерность между объемом запасов во втором регионе и признаком `f1`, за счет чего модель почти не ошибается — условно, ошибка прогноза менее 1 тыс баррелей на скважину. В первом и третьем регионе модель может ошибиться с прогнозом на 50% объема запаса в скважине — а это несет существенные риски."
   ]
  },
  {
   "cell_type": "markdown",
   "metadata": {},
   "source": [
    "Повторим алгоритм для моделей с нормализацией признаков."
   ]
  },
  {
   "cell_type": "code",
   "execution_count": 24,
   "metadata": {
    "scrolled": false
   },
   "outputs": [
    {
     "name": "stdout",
     "output_type": "stream",
     "text": [
      "Квадратный корень из средней квадратичной ошибки модели (RMSE): 37.82461557541932 \n",
      "Средний запас предсказанного сырья в скважинах в регионе: 92.49960127967324\n"
     ]
    }
   ],
   "source": [
    "get_model_scale(data_0)"
   ]
  },
  {
   "cell_type": "code",
   "execution_count": 25,
   "metadata": {},
   "outputs": [
    {
     "name": "stdout",
     "output_type": "stream",
     "text": [
      "Квадратный корень из средней квадратичной ошибки модели (RMSE): 0.9352694692596457 \n",
      "Средний запас предсказанного сырья в скважинах в регионе: 68.89437262576074\n"
     ]
    }
   ],
   "source": [
    "get_model_scale(data_1)"
   ]
  },
  {
   "cell_type": "code",
   "execution_count": 26,
   "metadata": {
    "scrolled": true
   },
   "outputs": [
    {
     "name": "stdout",
     "output_type": "stream",
     "text": [
      "Квадратный корень из средней квадратичной ошибки модели (RMSE): 40.01729430552683 \n",
      "Средний запас предсказанного сырья в скважинах в регионе: 94.94670472031223\n"
     ]
    }
   ],
   "source": [
    "get_model_scale(data_2)"
   ]
  },
  {
   "cell_type": "markdown",
   "metadata": {},
   "source": [
    "Нормализация не дала существенных изменения — несмотря на отсутствие нормализации признаков, их масштаб не отличается сильно и не несет ошибки прогноза."
   ]
  },
  {
   "cell_type": "markdown",
   "metadata": {},
   "source": [
    "## Подготовка к расчёту прибыли"
   ]
  },
  {
   "cell_type": "markdown",
   "metadata": {},
   "source": [
    "### Определение констант"
   ]
  },
  {
   "cell_type": "markdown",
   "metadata": {},
   "source": [
    "Перед тем перейти к рассчету прибыли и рисков, сохраним основные показатели в соответсвующих переменных. Это позволит при изменении конъюктуры рынка только заменить необходимые значения здесь. Также рассчитаем необходимый объем сырья для безубыточности проекта при текущей конъюктуре."
   ]
  },
  {
   "cell_type": "markdown",
   "metadata": {},
   "source": [
    "Бюджет на разработку скважин 10 000 000 000.00 млрд рублей. Он включает в себя разведку 500 скважин и бурение 200 лучших из них."
   ]
  },
  {
   "cell_type": "code",
   "execution_count": 27,
   "metadata": {},
   "outputs": [],
   "source": [
    "BUDGET = 10000000000 # бюджет"
   ]
  },
  {
   "cell_type": "markdown",
   "metadata": {},
   "source": [
    "При нынешних ценах баррель приносит 450 рублей дохода:"
   ]
  },
  {
   "cell_type": "code",
   "execution_count": 28,
   "metadata": {},
   "outputs": [],
   "source": [
    "BARREL_PROFIT = 450 "
   ]
  },
  {
   "cell_type": "markdown",
   "metadata": {},
   "source": [
    "Т. к. в скважинах запас нефти указан в тысачах баррелей, прибыль с единицы продукта (целевой признак `product`) будет в 1000 раз больше прибыли с одного барреля:"
   ]
  },
  {
   "cell_type": "code",
   "execution_count": 29,
   "metadata": {},
   "outputs": [],
   "source": [
    "PRODUCT_PROFIT = BARREL_PROFIT * 1000"
   ]
  },
  {
   "cell_type": "markdown",
   "metadata": {},
   "source": [
    "Учитывая, что по плану разработано будет 200 скважин, продукт с них должен дать прибыль, которая покроет бюджет."
   ]
  },
  {
   "cell_type": "code",
   "execution_count": 30,
   "metadata": {},
   "outputs": [],
   "source": [
    "MEAN_PRODUCT_WITHOUT_LOSSES = (BUDGET / PRODUCT_PROFIT) / 200"
   ]
  },
  {
   "cell_type": "code",
   "execution_count": 31,
   "metadata": {
    "scrolled": true
   },
   "outputs": [
    {
     "data": {
      "text/plain": [
       "111.11111111111111"
      ]
     },
     "execution_count": 31,
     "metadata": {},
     "output_type": "execute_result"
    }
   ],
   "source": [
    "MEAN_PRODUCT_WITHOUT_LOSSES"
   ]
  },
  {
   "cell_type": "markdown",
   "metadata": {},
   "source": [
    "При текущей конъюктуре рынка средний запас нефти на 200 лучших скважинах должен быть не менее 111 тысяч баррелей, чтобы мы могли выйти на безубыточность. Это сильно выше чем текущие средние значения по регионам — взять случайные скважины не получится, мы должны точно знать где высокий запас нефти.\n"
   ]
  },
  {
   "cell_type": "markdown",
   "metadata": {},
   "source": [
    "### Определение функции прибыли"
   ]
  },
  {
   "cell_type": "markdown",
   "metadata": {},
   "source": [
    "Т.к. функция прибыли не зависит от региона, определим ее перед тем как перейти к построению прогнозов по выручке, прибыли и убыткам."
   ]
  },
  {
   "cell_type": "code",
   "execution_count": 32,
   "metadata": {},
   "outputs": [],
   "source": [
    "def profit(real_product, predicted_product, developed_wells):\n",
    "    \n",
    "    top_predicted_product = pd.Series(predicted_product).sort_values(ascending=False).head(developed_wells)\n",
    "    \n",
    "    selected_wells_product = real_product[top_predicted_product.index]\n",
    "    \n",
    "    total_product = 0\n",
    "    \n",
    "    for i in selected_wells_product:\n",
    "        \n",
    "        total_product += i       \n",
    "      \n",
    "    profit = total_product *  PRODUCT_PROFIT - BUDGET\n",
    "    \n",
    "    return profit\n"
   ]
  },
  {
   "cell_type": "markdown",
   "metadata": {},
   "source": [
    "Перед тем, как перейти к рассчету прибыли с ограничениями (разведка 500 скважин), проверим работу функции в \"идеальных\" условиях — когда мы смогли разведать все скважины в регионе и выбрать лучшее 200, основываясь на предсказаниях модели. А также сравним с идеальной выборкой - если бы нам удалось определить 200 самых \"топовых\" скважин."
   ]
  },
  {
   "cell_type": "markdown",
   "metadata": {},
   "source": [
    "Сначала проверим в **первом регионе**."
   ]
  },
  {
   "cell_type": "code",
   "execution_count": 33,
   "metadata": {},
   "outputs": [],
   "source": [
    "model = models[0]                                         # выбираем из списка моделей модель обученную на первом регионе\n",
    "\n",
    "target = data_0['product']                                # определяем целевой признак                  \n",
    "features = data_0.drop('product', axis=1)                 # и признаки для предсказания"
   ]
  },
  {
   "cell_type": "code",
   "execution_count": 34,
   "metadata": {},
   "outputs": [],
   "source": [
    "predictions = model.predict(features)                     # предсказания модели"
   ]
  },
  {
   "cell_type": "code",
   "execution_count": 35,
   "metadata": {
    "scrolled": false
   },
   "outputs": [
    {
     "data": {
      "text/plain": [
       "3488027732.251112"
      ]
     },
     "execution_count": 35,
     "metadata": {},
     "output_type": "execute_result"
    }
   ],
   "source": [
    "profit(target, predictions, 200)                          # прибыль из 200 скважин, с лучшими предсказаниями \n",
    "                                                          # при разведке во всех 100 000 скважин"
   ]
  },
  {
   "cell_type": "code",
   "execution_count": 36,
   "metadata": {
    "scrolled": true
   },
   "outputs": [
    {
     "data": {
      "text/plain": [
       "6635036568.08242"
      ]
     },
     "execution_count": 36,
     "metadata": {},
     "output_type": "execute_result"
    }
   ],
   "source": [
    "sum((data_0.sort_values(by='product', ascending=False).head(200)['product']))*PRODUCT_PROFIT - BUDGET"
   ]
  },
  {
   "cell_type": "markdown",
   "metadata": {},
   "source": [
    "Предсказания модели позволяют нам получить прибыль почти в 3,5 млрд рублей — а в идеальном мире мы бы могли получить 6,6 млрд прибыли — и иметь рентабельность бизнеса в 66%."
   ]
  },
  {
   "cell_type": "markdown",
   "metadata": {},
   "source": [
    "**Во втором регионе**:"
   ]
  },
  {
   "cell_type": "code",
   "execution_count": 37,
   "metadata": {},
   "outputs": [],
   "source": [
    "model = models[1] # выбираем из списка моделей модель обученную на втором регионе\n",
    "\n",
    "target = data_1['product']                                      # определяем целевой признак                  \n",
    "features = data_1.drop('product', axis=1)                       # и признаки для предсказания"
   ]
  },
  {
   "cell_type": "code",
   "execution_count": 38,
   "metadata": {},
   "outputs": [],
   "source": [
    "predictions = model.predict(features)  "
   ]
  },
  {
   "cell_type": "code",
   "execution_count": 39,
   "metadata": {
    "scrolled": true
   },
   "outputs": [
    {
     "data": {
      "text/plain": [
       "2415086696.681551"
      ]
     },
     "execution_count": 39,
     "metadata": {},
     "output_type": "execute_result"
    }
   ],
   "source": [
    "profit(target, predictions, 200)"
   ]
  },
  {
   "cell_type": "code",
   "execution_count": 40,
   "metadata": {
    "scrolled": true
   },
   "outputs": [
    {
     "data": {
      "text/plain": [
       "2415086696.681551"
      ]
     },
     "execution_count": 40,
     "metadata": {},
     "output_type": "execute_result"
    }
   ],
   "source": [
    "sum((data_1.sort_values(by='product', ascending=False).head(200)['product']))*PRODUCT_PROFIT - BUDGET"
   ]
  },
  {
   "cell_type": "markdown",
   "metadata": {},
   "source": [
    "Более низкий средний запас нефти в скважинах во втором регионе сказывается как на максимально достижимой прибыли (2,4 млрд рублей), так и на прибыли, которую мы можем получить. Но главное **предсказания модели совпадают с максимальной прибылью** т.к. запас нефти в скважинах коррелирует с параметром `f2`."
   ]
  },
  {
   "cell_type": "markdown",
   "metadata": {},
   "source": [
    "**Для третьего региона**:"
   ]
  },
  {
   "cell_type": "code",
   "execution_count": 41,
   "metadata": {},
   "outputs": [],
   "source": [
    "model = models[2] # выбираем из списка моделей модель обученную на третьем регионе\n",
    "\n",
    "target = data_2['product']                                      # определяем целевой признак                  \n",
    "features = data_2.drop('product', axis=1)                       # и признаки для предсказания"
   ]
  },
  {
   "cell_type": "code",
   "execution_count": 42,
   "metadata": {},
   "outputs": [],
   "source": [
    "predictions = model.predict(features)  "
   ]
  },
  {
   "cell_type": "code",
   "execution_count": 43,
   "metadata": {
    "scrolled": true
   },
   "outputs": [
    {
     "data": {
      "text/plain": [
       "2555578577.5059586"
      ]
     },
     "execution_count": 43,
     "metadata": {},
     "output_type": "execute_result"
    }
   ],
   "source": [
    "profit(target, predictions, 200)"
   ]
  },
  {
   "cell_type": "code",
   "execution_count": 44,
   "metadata": {
    "scrolled": true
   },
   "outputs": [
    {
     "data": {
      "text/plain": [
       "7059632928.358988"
      ]
     },
     "execution_count": 44,
     "metadata": {},
     "output_type": "execute_result"
    }
   ],
   "source": [
    "sum((data_2.sort_values(by='product', ascending=False).head(200)['product']))*PRODUCT_PROFIT - BUDGET"
   ]
  },
  {
   "cell_type": "markdown",
   "metadata": {},
   "source": [
    "Третий регион представляет собой некоторый усредненный вариант — потенциальная прибыль чуть больше, чем в первом регионе, но предсказывать запасы сложнее — даже при разведке всех скважин модель смогла гарантировать прибыль только в 2,5 млрд . "
   ]
  },
  {
   "cell_type": "markdown",
   "metadata": {},
   "source": [
    "## Расчёт прибыли и рисков "
   ]
  },
  {
   "cell_type": "markdown",
   "metadata": {},
   "source": [
    "Настало время посчитать потенциальные риски и прибыль, которые несет с собой использование моделей. Для этого создадим искуссвтенные выборки по 500 скважин, которые могли бы разведовать в регионе, и посчитаем прибыль при условии разработки 200 из них, которые модель считает потенциально лучшими."
   ]
  },
  {
   "cell_type": "markdown",
   "metadata": {},
   "source": [
    "Для воспроизводимости случайных значений, определим объект `RandomState` перед тем как продолжить."
   ]
  },
  {
   "cell_type": "code",
   "execution_count": 45,
   "metadata": {},
   "outputs": [],
   "source": [
    "state = np.random.RandomState(2258)"
   ]
  },
  {
   "cell_type": "markdown",
   "metadata": {},
   "source": [
    "### Расчет прибыли и рисков для первого региона"
   ]
  },
  {
   "cell_type": "markdown",
   "metadata": {},
   "source": [
    "Построим предсказания для первого региона:"
   ]
  },
  {
   "cell_type": "code",
   "execution_count": 46,
   "metadata": {},
   "outputs": [],
   "source": [
    "model = models[0]   # выбираем из списка моделей модель обученную на первом регионе"
   ]
  },
  {
   "cell_type": "code",
   "execution_count": 47,
   "metadata": {},
   "outputs": [],
   "source": [
    "profits_0 = []      # определим список, в который сохраним прибыли каждой из выборок"
   ]
  },
  {
   "cell_type": "code",
   "execution_count": 48,
   "metadata": {},
   "outputs": [],
   "source": [
    "target = pd.Series(data_0['product'])                                      # определяем целевой признак                  \n",
    "features = data_0.drop('product', axis=1)                                  # и признаки для предсказания\n",
    "predictions = pd.Series(model.predict(features))\n"
   ]
  },
  {
   "cell_type": "code",
   "execution_count": 50,
   "metadata": {
    "scrolled": true
   },
   "outputs": [],
   "source": [
    "for _ in range(1000):\n",
    "    \n",
    "    target_subsample = target.sample(frac=0.005, replace=True, random_state = state) # frac = 500 / 100000\n",
    "    \n",
    "    predicted_products_subsample = predictions[target_subsample.index]               # выбираем прогнозные значения за счет\n",
    "                                                                                     # индексов\n",
    "    \n",
    "    profits_0.append(profit(target,predicted_products_subsample,200))      # добавляем в список значение прибыли\n",
    "                                                                                     # для текущей выборки\n",
    "    \n",
    "  \n"
   ]
  },
  {
   "cell_type": "code",
   "execution_count": 51,
   "metadata": {
    "scrolled": false
   },
   "outputs": [
    {
     "data": {
      "text/plain": [
       "424090668.3896487"
      ]
     },
     "execution_count": 51,
     "metadata": {},
     "output_type": "execute_result"
    }
   ],
   "source": [
    "np.mean(profits_0)                            # среднее значение прибыли в регионе"
   ]
  },
  {
   "cell_type": "markdown",
   "metadata": {},
   "source": [
    "Средняя прибыль в регионе - 424 млн. При затратах в 10 млрд получаем рентабельность в :"
   ]
  },
  {
   "cell_type": "code",
   "execution_count": 52,
   "metadata": {
    "scrolled": true
   },
   "outputs": [
    {
     "data": {
      "text/plain": [
       "0.042409066838964865"
      ]
     },
     "execution_count": 52,
     "metadata": {},
     "output_type": "execute_result"
    }
   ],
   "source": [
    "Out[51] / BUDGET"
   ]
  },
  {
   "cell_type": "markdown",
   "metadata": {},
   "source": [
    "**4,2%**. Не очень много — банковский вклад дает больше. Посмотрим на вероятность понести убытки."
   ]
  },
  {
   "cell_type": "code",
   "execution_count": 53,
   "metadata": {},
   "outputs": [],
   "source": [
    "profits_0 = pd.Series(profits_0)              # изменяем тип со списка на Series"
   ]
  },
  {
   "cell_type": "code",
   "execution_count": 54,
   "metadata": {},
   "outputs": [
    {
     "data": {
      "text/plain": [
       "0.056"
      ]
     },
     "execution_count": 54,
     "metadata": {},
     "output_type": "execute_result"
    }
   ],
   "source": [
    "len(profits_0[profits_0 < 0])/len(profits_0)"
   ]
  },
  {
   "cell_type": "markdown",
   "metadata": {},
   "source": [
    "На 1000 случайных выбор из первого региона мы ушли в минус в 5,6 % случаев. Это больше установленого ограничениями 2,5%. Однако, сейчас в результатах сохранены крайние значения, которые могут искажать результат как выбросы. Посмотрим на  доверительный интервал в 95% — то есть, значения прибыли, которые мы получим в 95% случаев."
   ]
  },
  {
   "cell_type": "code",
   "execution_count": 55,
   "metadata": {},
   "outputs": [
    {
     "name": "stdout",
     "output_type": "stream",
     "text": [
      "-80836368.50123505\n",
      "922482542.3969227\n"
     ]
    }
   ],
   "source": [
    "lower = profits_0.quantile(q=0.025)  # отбросим 2,5 % снизу\n",
    "upper = profits_0.quantile(q=0.975)  # и 2,5 % сверху\n",
    "\n",
    "print(lower)\n",
    "print(upper)"
   ]
  },
  {
   "cell_type": "markdown",
   "metadata": {},
   "source": [
    "Нижняя граница интервала имеет отрицательное значение — а значит, мы все еще очень рискуем понести убытки, начав разработку в регионе. Посмотрим, может во втором регионе картина будет лучше."
   ]
  },
  {
   "cell_type": "markdown",
   "metadata": {},
   "source": [
    "### Расчет прибыли и рисков для второго региона"
   ]
  },
  {
   "cell_type": "code",
   "execution_count": 56,
   "metadata": {},
   "outputs": [],
   "source": [
    "model = models[1]   # выбираем из списка моделей модель обученную на втором регионе"
   ]
  },
  {
   "cell_type": "code",
   "execution_count": 57,
   "metadata": {},
   "outputs": [],
   "source": [
    "profits_1 = []      # определим список, в который сохраним прибыли каждой из выборок из второго региона"
   ]
  },
  {
   "cell_type": "code",
   "execution_count": 58,
   "metadata": {},
   "outputs": [],
   "source": [
    "target = pd.Series(data_1['product'])                                      # определяем целевой признак                  \n",
    "features = data_1.drop('product', axis=1)                                  # и признаки для предсказания\n",
    "predictions = pd.Series(model.predict(features))"
   ]
  },
  {
   "cell_type": "code",
   "execution_count": 59,
   "metadata": {},
   "outputs": [],
   "source": [
    "for _ in range(1000):\n",
    "    \n",
    "    target_subsample = target.sample(frac=0.005, replace=True, random_state = state) # frac = 500 / 100000\n",
    "    \n",
    "    predicted_products_subsample = predictions[target_subsample.index]               # выбираем прогнозные значения за счет\n",
    "                                                                                     # индексов\n",
    "    \n",
    "    profits_1.append(profit(target,predicted_products_subsample,200))      # добавляем в список значение прибыли\n",
    "                                                                                     # для текущей выборки"
   ]
  },
  {
   "cell_type": "code",
   "execution_count": 60,
   "metadata": {},
   "outputs": [
    {
     "data": {
      "text/plain": [
       "446494010.40737927"
      ]
     },
     "execution_count": 60,
     "metadata": {},
     "output_type": "execute_result"
    }
   ],
   "source": [
    "np.mean(profits_1)     "
   ]
  },
  {
   "cell_type": "markdown",
   "metadata": {},
   "source": [
    "Средняя прибыль не сильно выше, чем в первом рассматриваемом регоине."
   ]
  },
  {
   "cell_type": "code",
   "execution_count": 61,
   "metadata": {},
   "outputs": [
    {
     "data": {
      "text/plain": [
       "0.013"
      ]
     },
     "execution_count": 61,
     "metadata": {},
     "output_type": "execute_result"
    }
   ],
   "source": [
    "profits_1 = pd.Series(profits_1)\n",
    "len(profits_1[profits_1 < 0])/len(profits_1)"
   ]
  },
  {
   "cell_type": "markdown",
   "metadata": {},
   "source": [
    "А вот отрицательных значений почти нет — модель точно предсказывает запасы в скважинах — вероятность понести убыток чуть больше 1%."
   ]
  },
  {
   "cell_type": "code",
   "execution_count": 62,
   "metadata": {
    "scrolled": true
   },
   "outputs": [
    {
     "name": "stdout",
     "output_type": "stream",
     "text": [
      "59552580.373029046\n",
      "848052090.2327411\n"
     ]
    }
   ],
   "source": [
    "lower = profits_1.quantile(q=0.025)  # отбросим 2,5 % снизу\n",
    "upper = profits_1.quantile(q=0.975)  # и 2,5 % сверху\n",
    "\n",
    "print(lower)\n",
    "print(upper)"
   ]
  },
  {
   "cell_type": "markdown",
   "metadata": {},
   "source": [
    "В регионе почти гарантированно выходим в прибыль. Вот только верняя граница доверительного интервала ниже - сильно заработать тут не получится."
   ]
  },
  {
   "cell_type": "markdown",
   "metadata": {},
   "source": [
    "### Расчет прибыли и рисков для третьего региона"
   ]
  },
  {
   "cell_type": "code",
   "execution_count": 63,
   "metadata": {},
   "outputs": [],
   "source": [
    "model = models[2]   # выбираем из списка моделей модель обученную на третьем регионе"
   ]
  },
  {
   "cell_type": "code",
   "execution_count": 64,
   "metadata": {},
   "outputs": [],
   "source": [
    "profits_2 = []      # определим список, в который сохраним прибыли каждой из выборок из третьего региона"
   ]
  },
  {
   "cell_type": "code",
   "execution_count": 65,
   "metadata": {},
   "outputs": [],
   "source": [
    "target = pd.Series(data_2['product'])                                      # определяем целевой признак                  \n",
    "features = data_2.drop('product', axis=1)                                  # и признаки для предсказания\n",
    "predictions = pd.Series(model.predict(features))"
   ]
  },
  {
   "cell_type": "code",
   "execution_count": 66,
   "metadata": {},
   "outputs": [],
   "source": [
    "for _ in range(1000):\n",
    "    \n",
    "    target_subsample = target.sample(frac=0.005, replace=True, random_state = state) # frac = 500 / 100000\n",
    "    \n",
    "    predicted_products_subsample = predictions[target_subsample.index]               # выбираем прогнозные значения за счет\n",
    "                                                                                     # индексов\n",
    "    \n",
    "    profits_2.append(profit(target,predicted_products_subsample,200))      # добавляем в список значение прибыли\n",
    "                                                                                     # для текущей выборки"
   ]
  },
  {
   "cell_type": "code",
   "execution_count": 67,
   "metadata": {
    "scrolled": true
   },
   "outputs": [
    {
     "data": {
      "text/plain": [
       "387595902.1859713"
      ]
     },
     "execution_count": 67,
     "metadata": {},
     "output_type": "execute_result"
    }
   ],
   "source": [
    "np.mean(profits_2)  "
   ]
  },
  {
   "cell_type": "code",
   "execution_count": 68,
   "metadata": {},
   "outputs": [
    {
     "data": {
      "text/plain": [
       "0.082"
      ]
     },
     "execution_count": 68,
     "metadata": {},
     "output_type": "execute_result"
    }
   ],
   "source": [
    "profits_2 = pd.Series(profits_2)\n",
    "len(profits_2[profits_2 < 0])/len(profits_2)"
   ]
  },
  {
   "cell_type": "markdown",
   "metadata": {},
   "source": [
    "Что-то работа в третьем регионе не воодушевляет — в 8,2 % случаев мы понесли убытки, а средняя прибыль даже ниже, чем в первом регионе. Возможно, это регион для тех кто любит рисковать? Посмотрим на верхнюю границу доверительного интервала в 95%.\n",
    "\n"
   ]
  },
  {
   "cell_type": "code",
   "execution_count": 69,
   "metadata": {
    "scrolled": true
   },
   "outputs": [
    {
     "name": "stdout",
     "output_type": "stream",
     "text": [
      "-174179729.7896341\n",
      "941130513.5815474\n"
     ]
    }
   ],
   "source": [
    "lower = profits_2.quantile(q=0.025)  # отбросим 2,5 % снизу\n",
    "upper = profits_2.quantile(q=0.975)  # и 2,5 % сверху\n",
    "\n",
    "print(lower)\n",
    "print(upper)"
   ]
  },
  {
   "cell_type": "markdown",
   "metadata": {},
   "source": [
    "Верхняя граница лишь слегка выше, чем в первом регионе, а нижняя больше по модулю — т е работа в регионе грозит большими убытками."
   ]
  },
  {
   "cell_type": "markdown",
   "metadata": {},
   "source": [
    "### Выбор региона"
   ]
  },
  {
   "cell_type": "markdown",
   "metadata": {},
   "source": [
    "Единственным регионом, который отвечает заявленным требованием, является второй регион. Модель способна точно предсказать запас в скважинах, и риск понести убыток здесь значительно меньше 2,5% . Кроме того, точный прогноз гарантирует в среднем более выскоую прибыль."
   ]
  },
  {
   "cell_type": "markdown",
   "metadata": {},
   "source": [
    "95%-доверительный интервал в регоионе имеет границы от 83 826 065 до 982 204 690 — то есть, компания почти гарантирует себе минимальную прибыль."
   ]
  },
  {
   "cell_type": "code",
   "execution_count": 70,
   "metadata": {},
   "outputs": [],
   "source": [
    "positive = profits_1[profits_1 > 0]\n",
    "negative = profits_1[profits_1 < 0]"
   ]
  },
  {
   "cell_type": "code",
   "execution_count": 71,
   "metadata": {
    "scrolled": true
   },
   "outputs": [
    {
     "data": {
      "text/plain": [
       "<AxesSubplot:>"
      ]
     },
     "execution_count": 71,
     "metadata": {},
     "output_type": "execute_result"
    },
    {
     "data": {
      "image/png": "[encoded data removed]",
      "text/plain": [
       "<Figure size 720x288 with 1 Axes>"
      ]
     },
     "metadata": {
      "needs_background": "light"
     },
     "output_type": "display_data"
    }
   ],
   "source": [
    "fig = plt.figure(figsize=(10,4))\n",
    "\n",
    "sns.scatterplot(data=profits_1, x=positive.index, y=positive,alpha=0.9, color='green')\n",
    "sns.scatterplot(data=profits_1, x=negative.index, y=negative,alpha=0.9, color='red')\n",
    "\n"
   ]
  },
  {
   "cell_type": "markdown",
   "metadata": {},
   "source": [
    "На диаграмме рассеяния видно, что при 1000 выборок по 500 скважин в регионе мы почти не уходили в ноль — точки ниже нуля можно пересчитать по пальцам."
   ]
  }
 ],
 "metadata": {
  "ExecuteTimeLog": [
   {
    "duration": 1845,
    "start_time": "2022-06-29T11:42:07.772Z"
   },
   {
    "duration": 718,
    "start_time": "2022-06-29T11:44:15.872Z"
   },
   {
    "duration": 14,
    "start_time": "2022-06-29T11:44:27.644Z"
   },
   {
    "duration": 10,
    "start_time": "2022-06-29T11:50:06.071Z"
   },
   {
    "duration": 10,
    "start_time": "2022-06-29T11:50:29.415Z"
   },
   {
    "duration": 9,
    "start_time": "2022-06-29T11:50:38.480Z"
   },
   {
    "duration": 39,
    "start_time": "2022-06-29T12:10:41.824Z"
   },
   {
    "duration": 1364,
    "start_time": "2022-06-29T13:16:22.684Z"
   },
   {
    "duration": 334,
    "start_time": "2022-06-29T13:16:24.051Z"
   },
   {
    "duration": 14,
    "start_time": "2022-06-29T13:16:24.386Z"
   },
   {
    "duration": 10,
    "start_time": "2022-06-29T13:16:24.402Z"
   },
   {
    "duration": 16,
    "start_time": "2022-06-29T13:16:24.414Z"
   },
   {
    "duration": 54,
    "start_time": "2022-06-29T13:16:24.432Z"
   },
   {
    "duration": 35,
    "start_time": "2022-06-29T13:16:54.506Z"
   },
   {
    "duration": 99,
    "start_time": "2022-06-29T13:17:23.295Z"
   },
   {
    "duration": 35,
    "start_time": "2022-06-29T13:17:28.713Z"
   },
   {
    "duration": 80,
    "start_time": "2022-06-29T13:28:23.943Z"
   },
   {
    "duration": 15,
    "start_time": "2022-06-29T13:28:48.988Z"
   },
   {
    "duration": 10,
    "start_time": "2022-06-29T13:28:54.660Z"
   },
   {
    "duration": 51,
    "start_time": "2022-06-29T13:29:07.135Z"
   },
   {
    "duration": 44,
    "start_time": "2022-06-29T13:29:17.489Z"
   },
   {
    "duration": 45,
    "start_time": "2022-06-29T13:29:17.991Z"
   },
   {
    "duration": 15,
    "start_time": "2022-06-29T13:30:54.301Z"
   },
   {
    "duration": 12,
    "start_time": "2022-06-29T13:31:54.470Z"
   },
   {
    "duration": 15,
    "start_time": "2022-06-29T13:32:01.840Z"
   },
   {
    "duration": 1314,
    "start_time": "2022-06-29T17:39:08.622Z"
   },
   {
    "duration": 335,
    "start_time": "2022-06-29T17:39:09.938Z"
   },
   {
    "duration": 14,
    "start_time": "2022-06-29T17:39:10.275Z"
   },
   {
    "duration": 15,
    "start_time": "2022-06-29T17:39:10.291Z"
   },
   {
    "duration": 9,
    "start_time": "2022-06-29T17:39:10.308Z"
   },
   {
    "duration": 17,
    "start_time": "2022-06-29T17:39:10.319Z"
   },
   {
    "duration": 33,
    "start_time": "2022-06-29T17:39:10.338Z"
   },
   {
    "duration": 19,
    "start_time": "2022-06-29T17:39:10.372Z"
   },
   {
    "duration": 36,
    "start_time": "2022-06-29T17:39:10.393Z"
   },
   {
    "duration": 60,
    "start_time": "2022-06-29T17:39:10.431Z"
   },
   {
    "duration": 33,
    "start_time": "2022-06-29T17:39:10.493Z"
   },
   {
    "duration": 61,
    "start_time": "2022-06-29T17:39:10.527Z"
   },
   {
    "duration": 44,
    "start_time": "2022-06-29T17:39:10.590Z"
   },
   {
    "duration": 61,
    "start_time": "2022-06-29T17:39:10.636Z"
   },
   {
    "duration": 209,
    "start_time": "2022-06-29T17:40:18.411Z"
   },
   {
    "duration": 246,
    "start_time": "2022-06-29T17:43:54.773Z"
   },
   {
    "duration": 180,
    "start_time": "2022-06-29T17:44:28.447Z"
   },
   {
    "duration": 166,
    "start_time": "2022-06-29T17:44:50.244Z"
   },
   {
    "duration": 190,
    "start_time": "2022-06-29T17:45:01.545Z"
   },
   {
    "duration": 228,
    "start_time": "2022-06-29T17:45:12.987Z"
   },
   {
    "duration": 242,
    "start_time": "2022-06-29T17:45:18.073Z"
   },
   {
    "duration": 538,
    "start_time": "2022-06-29T17:47:36.711Z"
   },
   {
    "duration": 537,
    "start_time": "2022-06-29T17:47:41.944Z"
   },
   {
    "duration": 572,
    "start_time": "2022-06-29T17:47:48.965Z"
   },
   {
    "duration": 584,
    "start_time": "2022-06-29T17:47:54.323Z"
   },
   {
    "duration": 686,
    "start_time": "2022-06-29T17:47:58.746Z"
   },
   {
    "duration": 565,
    "start_time": "2022-06-29T17:49:43.730Z"
   },
   {
    "duration": 79,
    "start_time": "2022-06-29T17:49:53.790Z"
   },
   {
    "duration": 481,
    "start_time": "2022-06-29T17:49:56.978Z"
   },
   {
    "duration": 553,
    "start_time": "2022-06-29T17:50:01.066Z"
   },
   {
    "duration": 597,
    "start_time": "2022-06-29T17:50:08.917Z"
   },
   {
    "duration": 577,
    "start_time": "2022-06-29T17:50:16.729Z"
   },
   {
    "duration": 668,
    "start_time": "2022-06-29T17:50:20.573Z"
   },
   {
    "duration": 626,
    "start_time": "2022-06-29T17:50:28.404Z"
   },
   {
    "duration": 521,
    "start_time": "2022-06-29T17:50:43.067Z"
   },
   {
    "duration": 562,
    "start_time": "2022-06-29T17:50:57.992Z"
   },
   {
    "duration": 598,
    "start_time": "2022-06-29T18:28:15.979Z"
   },
   {
    "duration": 631,
    "start_time": "2022-06-29T18:28:26.840Z"
   },
   {
    "duration": 9,
    "start_time": "2022-06-29T18:44:57.290Z"
   },
   {
    "duration": 20,
    "start_time": "2022-06-29T18:45:29.275Z"
   },
   {
    "duration": 103,
    "start_time": "2022-06-29T18:46:19.412Z"
   },
   {
    "duration": 59,
    "start_time": "2022-06-29T18:46:25.587Z"
   },
   {
    "duration": 14,
    "start_time": "2022-06-29T18:47:05.846Z"
   },
   {
    "duration": 16,
    "start_time": "2022-06-29T18:48:06.588Z"
   },
   {
    "duration": 13,
    "start_time": "2022-06-29T18:48:14.313Z"
   },
   {
    "duration": 517900,
    "start_time": "2022-06-29T18:48:24.631Z"
   },
   {
    "duration": 1138,
    "start_time": "2022-06-29T18:59:12.795Z"
   },
   {
    "duration": 1152,
    "start_time": "2022-06-29T18:59:31.843Z"
   },
   {
    "duration": 84,
    "start_time": "2022-06-29T19:00:35.576Z"
   },
   {
    "duration": 2301,
    "start_time": "2022-06-29T19:00:46.314Z"
   },
   {
    "duration": 2424,
    "start_time": "2022-06-29T19:08:12.074Z"
   },
   {
    "duration": 4,
    "start_time": "2022-06-29T19:19:49.894Z"
   },
   {
    "duration": 3,
    "start_time": "2022-06-29T19:26:39.225Z"
   },
   {
    "duration": 3,
    "start_time": "2022-06-29T19:29:24.823Z"
   },
   {
    "duration": 4,
    "start_time": "2022-06-29T19:35:38.083Z"
   },
   {
    "duration": 1683,
    "start_time": "2022-07-02T13:08:07.147Z"
   },
   {
    "duration": 967,
    "start_time": "2022-07-02T13:08:08.832Z"
   },
   {
    "duration": 15,
    "start_time": "2022-07-02T13:08:09.800Z"
   },
   {
    "duration": 32,
    "start_time": "2022-07-02T13:08:09.817Z"
   },
   {
    "duration": 10,
    "start_time": "2022-07-02T13:08:09.852Z"
   },
   {
    "duration": 24,
    "start_time": "2022-07-02T13:08:09.863Z"
   },
   {
    "duration": 11,
    "start_time": "2022-07-02T13:08:09.889Z"
   },
   {
    "duration": 17,
    "start_time": "2022-07-02T13:08:09.901Z"
   },
   {
    "duration": 42,
    "start_time": "2022-07-02T13:08:09.928Z"
   },
   {
    "duration": 60,
    "start_time": "2022-07-02T13:08:09.972Z"
   },
   {
    "duration": 44,
    "start_time": "2022-07-02T13:08:10.033Z"
   },
   {
    "duration": 74,
    "start_time": "2022-07-02T13:08:10.080Z"
   },
   {
    "duration": 46,
    "start_time": "2022-07-02T13:08:10.156Z"
   },
   {
    "duration": 67,
    "start_time": "2022-07-02T13:08:10.205Z"
   },
   {
    "duration": 784,
    "start_time": "2022-07-02T13:08:10.274Z"
   },
   {
    "duration": 2861,
    "start_time": "2022-07-02T13:08:11.059Z"
   },
   {
    "duration": 5,
    "start_time": "2022-07-02T13:08:13.926Z"
   },
   {
    "duration": 72,
    "start_time": "2022-07-02T13:16:19.472Z"
   },
   {
    "duration": 6,
    "start_time": "2022-07-02T13:16:29.326Z"
   },
   {
    "duration": 136,
    "start_time": "2022-07-02T13:16:53.994Z"
   },
   {
    "duration": 5,
    "start_time": "2022-07-02T13:17:12.778Z"
   },
   {
    "duration": 160,
    "start_time": "2022-07-02T13:17:14.880Z"
   },
   {
    "duration": 5,
    "start_time": "2022-07-02T13:17:23.783Z"
   },
   {
    "duration": 38,
    "start_time": "2022-07-02T13:17:25.719Z"
   },
   {
    "duration": 8,
    "start_time": "2022-07-02T13:17:46.639Z"
   },
   {
    "duration": 40,
    "start_time": "2022-07-02T13:17:48.008Z"
   },
   {
    "duration": 5,
    "start_time": "2022-07-02T13:21:23.907Z"
   },
   {
    "duration": 115,
    "start_time": "2022-07-02T13:21:24.719Z"
   },
   {
    "duration": 5,
    "start_time": "2022-07-02T13:21:59.073Z"
   },
   {
    "duration": 43,
    "start_time": "2022-07-02T13:21:59.492Z"
   },
   {
    "duration": 5,
    "start_time": "2022-07-02T13:22:06.482Z"
   },
   {
    "duration": 40,
    "start_time": "2022-07-02T13:22:06.812Z"
   },
   {
    "duration": 5,
    "start_time": "2022-07-02T13:22:13.742Z"
   },
   {
    "duration": 113,
    "start_time": "2022-07-02T13:22:14.217Z"
   },
   {
    "duration": 4,
    "start_time": "2022-07-02T13:23:18.778Z"
   },
   {
    "duration": 94,
    "start_time": "2022-07-02T13:23:19.436Z"
   },
   {
    "duration": 4,
    "start_time": "2022-07-02T13:23:57.082Z"
   },
   {
    "duration": 68,
    "start_time": "2022-07-02T13:23:57.659Z"
   },
   {
    "duration": 6,
    "start_time": "2022-07-02T13:25:09.439Z"
   },
   {
    "duration": 36,
    "start_time": "2022-07-02T13:25:10.079Z"
   },
   {
    "duration": 5,
    "start_time": "2022-07-02T13:37:58.642Z"
   },
   {
    "duration": 51,
    "start_time": "2022-07-02T13:37:59.280Z"
   },
   {
    "duration": 52,
    "start_time": "2022-07-02T13:39:03.281Z"
   },
   {
    "duration": 102,
    "start_time": "2022-07-02T13:39:11.431Z"
   },
   {
    "duration": 102,
    "start_time": "2022-07-02T13:39:18.927Z"
   },
   {
    "duration": 4,
    "start_time": "2022-07-02T13:44:38.379Z"
   },
   {
    "duration": 133,
    "start_time": "2022-07-02T13:44:50.579Z"
   },
   {
    "duration": 44,
    "start_time": "2022-07-02T13:45:00.650Z"
   },
   {
    "duration": 34,
    "start_time": "2022-07-02T13:45:19.796Z"
   },
   {
    "duration": 42,
    "start_time": "2022-07-02T13:45:37.491Z"
   },
   {
    "duration": 71,
    "start_time": "2022-07-02T13:53:11.691Z"
   },
   {
    "duration": 2,
    "start_time": "2022-07-02T14:03:38.621Z"
   },
   {
    "duration": 3,
    "start_time": "2022-07-02T14:06:47.693Z"
   },
   {
    "duration": 13,
    "start_time": "2022-07-02T14:09:40.127Z"
   },
   {
    "duration": 9,
    "start_time": "2022-07-02T14:09:47.739Z"
   },
   {
    "duration": 3,
    "start_time": "2022-07-02T14:09:55.214Z"
   },
   {
    "duration": 3,
    "start_time": "2022-07-02T14:09:55.837Z"
   },
   {
    "duration": 2,
    "start_time": "2022-07-02T15:33:09.203Z"
   },
   {
    "duration": 4,
    "start_time": "2022-07-02T15:33:14.758Z"
   },
   {
    "duration": 47,
    "start_time": "2022-07-02T15:44:51.186Z"
   },
   {
    "duration": 38,
    "start_time": "2022-07-02T15:51:28.337Z"
   },
   {
    "duration": 41,
    "start_time": "2022-07-02T15:51:30.050Z"
   },
   {
    "duration": 104,
    "start_time": "2022-07-02T15:51:30.524Z"
   },
   {
    "duration": 12,
    "start_time": "2022-07-02T15:51:36.434Z"
   },
   {
    "duration": 3,
    "start_time": "2022-07-02T15:51:41.439Z"
   },
   {
    "duration": 7,
    "start_time": "2022-07-02T15:51:41.893Z"
   },
   {
    "duration": 7,
    "start_time": "2022-07-02T15:51:43.164Z"
   },
   {
    "duration": 31,
    "start_time": "2022-07-02T15:51:44.405Z"
   },
   {
    "duration": 115,
    "start_time": "2022-07-02T15:51:44.916Z"
   },
   {
    "duration": 99,
    "start_time": "2022-07-02T15:51:45.334Z"
   },
   {
    "duration": 5,
    "start_time": "2022-07-02T15:51:45.853Z"
   },
   {
    "duration": 72,
    "start_time": "2022-07-02T16:05:40.243Z"
   },
   {
    "duration": 3,
    "start_time": "2022-07-02T16:05:55.605Z"
   },
   {
    "duration": 10,
    "start_time": "2022-07-02T16:07:19.519Z"
   },
   {
    "duration": 5,
    "start_time": "2022-07-02T16:07:43.202Z"
   },
   {
    "duration": 10,
    "start_time": "2022-07-02T16:08:08.284Z"
   },
   {
    "duration": 82,
    "start_time": "2022-07-02T16:08:23.153Z"
   },
   {
    "duration": 20,
    "start_time": "2022-07-02T16:09:04.907Z"
   },
   {
    "duration": 18,
    "start_time": "2022-07-02T16:09:14.144Z"
   },
   {
    "duration": 9,
    "start_time": "2022-07-02T16:11:44.585Z"
   },
   {
    "duration": 19,
    "start_time": "2022-07-02T16:11:50.584Z"
   },
   {
    "duration": 5,
    "start_time": "2022-07-02T16:11:51.337Z"
   },
   {
    "duration": 4,
    "start_time": "2022-07-02T16:12:04.281Z"
   },
   {
    "duration": 185,
    "start_time": "2022-07-02T16:13:26.256Z"
   },
   {
    "duration": 3,
    "start_time": "2022-07-02T16:13:40.081Z"
   },
   {
    "duration": 192,
    "start_time": "2022-07-02T16:13:40.345Z"
   },
   {
    "duration": 115,
    "start_time": "2022-07-02T16:18:50.714Z"
   },
   {
    "duration": 142,
    "start_time": "2022-07-02T16:19:01.301Z"
   },
   {
    "duration": 178,
    "start_time": "2022-07-02T16:19:11.062Z"
   },
   {
    "duration": 240,
    "start_time": "2022-07-02T16:19:45.602Z"
   },
   {
    "duration": 1987,
    "start_time": "2022-07-03T16:31:59.523Z"
   },
   {
    "duration": 1420,
    "start_time": "2022-07-03T16:32:01.512Z"
   },
   {
    "duration": 16,
    "start_time": "2022-07-03T16:32:02.933Z"
   },
   {
    "duration": 64,
    "start_time": "2022-07-03T16:32:02.952Z"
   },
   {
    "duration": 10,
    "start_time": "2022-07-03T16:32:03.018Z"
   },
   {
    "duration": 20,
    "start_time": "2022-07-03T16:32:03.030Z"
   },
   {
    "duration": 21,
    "start_time": "2022-07-03T16:32:03.055Z"
   },
   {
    "duration": 45,
    "start_time": "2022-07-03T16:32:03.078Z"
   },
   {
    "duration": 61,
    "start_time": "2022-07-03T16:32:03.125Z"
   },
   {
    "duration": 46,
    "start_time": "2022-07-03T16:32:03.189Z"
   },
   {
    "duration": 51,
    "start_time": "2022-07-03T16:32:03.236Z"
   },
   {
    "duration": 54,
    "start_time": "2022-07-03T16:32:03.288Z"
   },
   {
    "duration": 76,
    "start_time": "2022-07-03T16:32:03.344Z"
   },
   {
    "duration": 94,
    "start_time": "2022-07-03T16:32:03.422Z"
   },
   {
    "duration": 849,
    "start_time": "2022-07-03T16:32:03.517Z"
   },
   {
    "duration": 3128,
    "start_time": "2022-07-03T16:32:04.368Z"
   },
   {
    "duration": 6,
    "start_time": "2022-07-03T16:32:07.499Z"
   },
   {
    "duration": 18,
    "start_time": "2022-07-03T16:32:07.508Z"
   },
   {
    "duration": 17,
    "start_time": "2022-07-03T16:32:07.528Z"
   },
   {
    "duration": 263,
    "start_time": "2022-07-03T16:32:07.547Z"
   },
   {
    "duration": 147,
    "start_time": "2022-07-03T16:32:07.816Z"
   },
   {
    "duration": 193,
    "start_time": "2022-07-03T16:32:07.971Z"
   },
   {
    "duration": 182,
    "start_time": "2022-07-03T16:32:08.174Z"
   },
   {
    "duration": 146,
    "start_time": "2022-07-03T16:32:08.358Z"
   },
   {
    "duration": 160,
    "start_time": "2022-07-03T16:32:08.556Z"
   },
   {
    "duration": 40,
    "start_time": "2022-07-03T16:32:08.718Z"
   },
   {
    "duration": 134,
    "start_time": "2022-07-03T16:32:08.769Z"
   },
   {
    "duration": 7,
    "start_time": "2022-07-03T16:32:08.907Z"
   },
   {
    "duration": 6,
    "start_time": "2022-07-03T16:32:08.916Z"
   },
   {
    "duration": 10,
    "start_time": "2022-07-03T16:32:08.923Z"
   },
   {
    "duration": 3,
    "start_time": "2022-07-03T16:32:08.934Z"
   },
   {
    "duration": 286,
    "start_time": "2022-07-03T16:32:08.938Z"
   },
   {
    "duration": 0,
    "start_time": "2022-07-03T16:32:09.225Z"
   },
   {
    "duration": 0,
    "start_time": "2022-07-03T16:32:09.226Z"
   },
   {
    "duration": 138,
    "start_time": "2022-07-03T16:32:52.051Z"
   },
   {
    "duration": 1412,
    "start_time": "2022-07-03T16:42:48.282Z"
   },
   {
    "duration": 405,
    "start_time": "2022-07-03T16:42:49.696Z"
   },
   {
    "duration": 15,
    "start_time": "2022-07-03T16:42:50.103Z"
   },
   {
    "duration": 15,
    "start_time": "2022-07-03T16:42:50.120Z"
   },
   {
    "duration": 47,
    "start_time": "2022-07-03T16:42:50.137Z"
   },
   {
    "duration": 24,
    "start_time": "2022-07-03T16:42:50.189Z"
   },
   {
    "duration": 9,
    "start_time": "2022-07-03T16:42:50.215Z"
   },
   {
    "duration": 26,
    "start_time": "2022-07-03T16:42:50.225Z"
   },
   {
    "duration": 60,
    "start_time": "2022-07-03T16:42:50.257Z"
   },
   {
    "duration": 42,
    "start_time": "2022-07-03T16:42:50.319Z"
   },
   {
    "duration": 50,
    "start_time": "2022-07-03T16:42:50.367Z"
   },
   {
    "duration": 57,
    "start_time": "2022-07-03T16:42:50.419Z"
   },
   {
    "duration": 45,
    "start_time": "2022-07-03T16:42:50.477Z"
   },
   {
    "duration": 68,
    "start_time": "2022-07-03T16:42:50.525Z"
   },
   {
    "duration": 751,
    "start_time": "2022-07-03T16:42:50.595Z"
   },
   {
    "duration": 2759,
    "start_time": "2022-07-03T16:42:51.354Z"
   },
   {
    "duration": 28,
    "start_time": "2022-07-03T16:42:54.115Z"
   },
   {
    "duration": 57,
    "start_time": "2022-07-03T16:42:54.145Z"
   },
   {
    "duration": 12,
    "start_time": "2022-07-03T16:42:54.204Z"
   },
   {
    "duration": 14,
    "start_time": "2022-07-03T16:42:54.218Z"
   },
   {
    "duration": 125,
    "start_time": "2022-07-03T16:42:54.233Z"
   },
   {
    "duration": 134,
    "start_time": "2022-07-03T16:42:54.360Z"
   },
   {
    "duration": 176,
    "start_time": "2022-07-03T16:42:54.496Z"
   },
   {
    "duration": 280,
    "start_time": "2022-07-03T16:42:54.674Z"
   },
   {
    "duration": 199,
    "start_time": "2022-07-03T16:42:54.955Z"
   },
   {
    "duration": 120,
    "start_time": "2022-07-03T16:42:55.157Z"
   },
   {
    "duration": 295,
    "start_time": "2022-07-03T16:42:55.283Z"
   },
   {
    "duration": 0,
    "start_time": "2022-07-03T16:42:55.581Z"
   },
   {
    "duration": 0,
    "start_time": "2022-07-03T16:42:55.583Z"
   },
   {
    "duration": 0,
    "start_time": "2022-07-03T16:42:55.584Z"
   },
   {
    "duration": 0,
    "start_time": "2022-07-03T16:42:55.587Z"
   },
   {
    "duration": 0,
    "start_time": "2022-07-03T16:42:55.588Z"
   },
   {
    "duration": 0,
    "start_time": "2022-07-03T16:42:55.589Z"
   },
   {
    "duration": 0,
    "start_time": "2022-07-03T16:42:55.591Z"
   },
   {
    "duration": 0,
    "start_time": "2022-07-03T16:42:55.592Z"
   },
   {
    "duration": 0,
    "start_time": "2022-07-03T16:42:55.593Z"
   },
   {
    "duration": 0,
    "start_time": "2022-07-03T16:42:55.594Z"
   },
   {
    "duration": 0,
    "start_time": "2022-07-03T16:42:55.595Z"
   },
   {
    "duration": 1739,
    "start_time": "2022-07-03T16:43:39.524Z"
   },
   {
    "duration": 384,
    "start_time": "2022-07-03T16:43:41.269Z"
   },
   {
    "duration": 20,
    "start_time": "2022-07-03T16:43:41.660Z"
   },
   {
    "duration": 17,
    "start_time": "2022-07-03T16:43:41.682Z"
   },
   {
    "duration": 10,
    "start_time": "2022-07-03T16:43:41.702Z"
   },
   {
    "duration": 17,
    "start_time": "2022-07-03T16:43:41.714Z"
   },
   {
    "duration": 33,
    "start_time": "2022-07-03T16:43:41.733Z"
   },
   {
    "duration": 17,
    "start_time": "2022-07-03T16:43:41.776Z"
   },
   {
    "duration": 38,
    "start_time": "2022-07-03T16:43:41.795Z"
   },
   {
    "duration": 55,
    "start_time": "2022-07-03T16:43:41.835Z"
   },
   {
    "duration": 34,
    "start_time": "2022-07-03T16:43:41.892Z"
   },
   {
    "duration": 81,
    "start_time": "2022-07-03T16:43:41.927Z"
   },
   {
    "duration": 60,
    "start_time": "2022-07-03T16:43:42.010Z"
   },
   {
    "duration": 52,
    "start_time": "2022-07-03T16:43:42.074Z"
   },
   {
    "duration": 702,
    "start_time": "2022-07-03T16:43:42.128Z"
   },
   {
    "duration": 2864,
    "start_time": "2022-07-03T16:43:42.832Z"
   },
   {
    "duration": 12,
    "start_time": "2022-07-03T16:43:45.698Z"
   },
   {
    "duration": 33,
    "start_time": "2022-07-03T16:43:45.711Z"
   },
   {
    "duration": 46,
    "start_time": "2022-07-03T16:43:45.746Z"
   },
   {
    "duration": 27,
    "start_time": "2022-07-03T16:43:45.793Z"
   },
   {
    "duration": 138,
    "start_time": "2022-07-03T16:43:45.822Z"
   },
   {
    "duration": 119,
    "start_time": "2022-07-03T16:43:45.963Z"
   },
   {
    "duration": 456,
    "start_time": "2022-07-03T16:43:46.085Z"
   },
   {
    "duration": 0,
    "start_time": "2022-07-03T16:43:46.551Z"
   },
   {
    "duration": 0,
    "start_time": "2022-07-03T16:43:46.552Z"
   },
   {
    "duration": 0,
    "start_time": "2022-07-03T16:43:46.554Z"
   },
   {
    "duration": 0,
    "start_time": "2022-07-03T16:43:46.556Z"
   },
   {
    "duration": 0,
    "start_time": "2022-07-03T16:43:46.557Z"
   },
   {
    "duration": 0,
    "start_time": "2022-07-03T16:43:46.558Z"
   },
   {
    "duration": 0,
    "start_time": "2022-07-03T16:43:46.559Z"
   },
   {
    "duration": 1,
    "start_time": "2022-07-03T16:43:46.560Z"
   },
   {
    "duration": 0,
    "start_time": "2022-07-03T16:43:46.562Z"
   },
   {
    "duration": 0,
    "start_time": "2022-07-03T16:43:46.563Z"
   },
   {
    "duration": 0,
    "start_time": "2022-07-03T16:43:46.564Z"
   },
   {
    "duration": 0,
    "start_time": "2022-07-03T16:43:46.565Z"
   },
   {
    "duration": 1578,
    "start_time": "2022-07-03T16:44:00.228Z"
   },
   {
    "duration": 403,
    "start_time": "2022-07-03T16:44:01.808Z"
   },
   {
    "duration": 17,
    "start_time": "2022-07-03T16:44:02.213Z"
   },
   {
    "duration": 34,
    "start_time": "2022-07-03T16:44:02.232Z"
   },
   {
    "duration": 12,
    "start_time": "2022-07-03T16:44:02.279Z"
   },
   {
    "duration": 31,
    "start_time": "2022-07-03T16:44:02.293Z"
   },
   {
    "duration": 12,
    "start_time": "2022-07-03T16:44:02.325Z"
   },
   {
    "duration": 27,
    "start_time": "2022-07-03T16:44:02.339Z"
   },
   {
    "duration": 57,
    "start_time": "2022-07-03T16:44:02.367Z"
   },
   {
    "duration": 44,
    "start_time": "2022-07-03T16:44:02.427Z"
   },
   {
    "duration": 41,
    "start_time": "2022-07-03T16:44:02.475Z"
   },
   {
    "duration": 76,
    "start_time": "2022-07-03T16:44:02.519Z"
   },
   {
    "duration": 46,
    "start_time": "2022-07-03T16:44:02.596Z"
   },
   {
    "duration": 67,
    "start_time": "2022-07-03T16:44:02.653Z"
   },
   {
    "duration": 719,
    "start_time": "2022-07-03T16:44:02.722Z"
   },
   {
    "duration": 2715,
    "start_time": "2022-07-03T16:44:03.442Z"
   },
   {
    "duration": 14,
    "start_time": "2022-07-03T16:44:06.158Z"
   },
   {
    "duration": 7,
    "start_time": "2022-07-03T16:44:06.173Z"
   },
   {
    "duration": 9,
    "start_time": "2022-07-03T16:44:06.182Z"
   },
   {
    "duration": 12,
    "start_time": "2022-07-03T16:44:06.193Z"
   },
   {
    "duration": 65,
    "start_time": "2022-07-03T16:44:06.206Z"
   },
   {
    "duration": 114,
    "start_time": "2022-07-03T16:44:06.277Z"
   },
   {
    "duration": 132,
    "start_time": "2022-07-03T16:44:06.462Z"
   },
   {
    "duration": 134,
    "start_time": "2022-07-03T16:44:06.658Z"
   },
   {
    "duration": 261,
    "start_time": "2022-07-03T16:44:06.795Z"
   },
   {
    "duration": 133,
    "start_time": "2022-07-03T16:44:07.058Z"
   },
   {
    "duration": 100,
    "start_time": "2022-07-03T16:44:07.267Z"
   },
   {
    "duration": 22,
    "start_time": "2022-07-03T16:44:07.372Z"
   },
   {
    "duration": 17,
    "start_time": "2022-07-03T16:44:07.396Z"
   },
   {
    "duration": 14,
    "start_time": "2022-07-03T16:44:07.415Z"
   },
   {
    "duration": 10,
    "start_time": "2022-07-03T16:44:07.431Z"
   },
   {
    "duration": 12,
    "start_time": "2022-07-03T16:44:07.443Z"
   },
   {
    "duration": 156,
    "start_time": "2022-07-03T16:44:07.457Z"
   },
   {
    "duration": 0,
    "start_time": "2022-07-03T16:44:07.614Z"
   },
   {
    "duration": 0,
    "start_time": "2022-07-03T16:44:07.615Z"
   },
   {
    "duration": 3,
    "start_time": "2022-07-03T16:47:10.922Z"
   },
   {
    "duration": 54,
    "start_time": "2022-07-03T16:48:14.275Z"
   },
   {
    "duration": 84,
    "start_time": "2022-07-03T16:49:07.715Z"
   },
   {
    "duration": 5,
    "start_time": "2022-07-03T16:53:27.075Z"
   },
   {
    "duration": 2,
    "start_time": "2022-07-03T16:54:00.503Z"
   },
   {
    "duration": 6,
    "start_time": "2022-07-03T16:54:37.982Z"
   },
   {
    "duration": 62,
    "start_time": "2022-07-03T17:03:03.081Z"
   },
   {
    "duration": 5,
    "start_time": "2022-07-03T17:04:39.732Z"
   },
   {
    "duration": 82,
    "start_time": "2022-07-03T17:05:16.672Z"
   },
   {
    "duration": 53,
    "start_time": "2022-07-03T17:06:04.950Z"
   },
   {
    "duration": 4,
    "start_time": "2022-07-03T17:07:31.581Z"
   },
   {
    "duration": 5,
    "start_time": "2022-07-03T17:07:33.573Z"
   },
   {
    "duration": 14,
    "start_time": "2022-07-03T17:07:36.288Z"
   },
   {
    "duration": 24,
    "start_time": "2022-07-03T17:07:36.701Z"
   },
   {
    "duration": 4,
    "start_time": "2022-07-03T17:07:59.343Z"
   },
   {
    "duration": 6,
    "start_time": "2022-07-03T17:08:00.288Z"
   },
   {
    "duration": 6,
    "start_time": "2022-07-03T17:08:00.685Z"
   },
   {
    "duration": 20,
    "start_time": "2022-07-03T17:08:01.283Z"
   },
   {
    "duration": 4,
    "start_time": "2022-07-03T17:09:21.621Z"
   },
   {
    "duration": 7,
    "start_time": "2022-07-03T17:09:30.593Z"
   },
   {
    "duration": 25,
    "start_time": "2022-07-03T17:09:37.867Z"
   },
   {
    "duration": 5,
    "start_time": "2022-07-03T17:10:25.798Z"
   },
   {
    "duration": 18,
    "start_time": "2022-07-03T17:10:29.379Z"
   },
   {
    "duration": 27,
    "start_time": "2022-07-03T17:10:35.198Z"
   },
   {
    "duration": 5,
    "start_time": "2022-07-03T18:30:43.082Z"
   },
   {
    "duration": 21,
    "start_time": "2022-07-03T18:32:04.977Z"
   },
   {
    "duration": 18,
    "start_time": "2022-07-03T18:32:14.385Z"
   },
   {
    "duration": 1491,
    "start_time": "2022-07-03T18:32:26.949Z"
   },
   {
    "duration": 402,
    "start_time": "2022-07-03T18:32:28.444Z"
   },
   {
    "duration": 20,
    "start_time": "2022-07-03T18:32:28.849Z"
   },
   {
    "duration": 30,
    "start_time": "2022-07-03T18:32:28.871Z"
   },
   {
    "duration": 10,
    "start_time": "2022-07-03T18:32:28.902Z"
   },
   {
    "duration": 13,
    "start_time": "2022-07-03T18:32:28.914Z"
   },
   {
    "duration": 10,
    "start_time": "2022-07-03T18:32:28.929Z"
   },
   {
    "duration": 35,
    "start_time": "2022-07-03T18:32:28.941Z"
   },
   {
    "duration": 51,
    "start_time": "2022-07-03T18:32:28.980Z"
   },
   {
    "duration": 58,
    "start_time": "2022-07-03T18:32:29.033Z"
   },
   {
    "duration": 33,
    "start_time": "2022-07-03T18:32:29.093Z"
   },
   {
    "duration": 48,
    "start_time": "2022-07-03T18:32:29.127Z"
   },
   {
    "duration": 45,
    "start_time": "2022-07-03T18:32:29.176Z"
   },
   {
    "duration": 83,
    "start_time": "2022-07-03T18:32:29.223Z"
   },
   {
    "duration": 703,
    "start_time": "2022-07-03T18:32:29.308Z"
   },
   {
    "duration": 2743,
    "start_time": "2022-07-03T18:32:30.013Z"
   },
   {
    "duration": 19,
    "start_time": "2022-07-03T18:32:32.757Z"
   },
   {
    "duration": 24,
    "start_time": "2022-07-03T18:32:32.778Z"
   },
   {
    "duration": 6,
    "start_time": "2022-07-03T18:32:32.804Z"
   },
   {
    "duration": 10,
    "start_time": "2022-07-03T18:32:32.811Z"
   },
   {
    "duration": 130,
    "start_time": "2022-07-03T18:32:32.823Z"
   },
   {
    "duration": 102,
    "start_time": "2022-07-03T18:32:32.956Z"
   },
   {
    "duration": 133,
    "start_time": "2022-07-03T18:32:33.064Z"
   },
   {
    "duration": 208,
    "start_time": "2022-07-03T18:32:33.253Z"
   },
   {
    "duration": 182,
    "start_time": "2022-07-03T18:32:33.471Z"
   },
   {
    "duration": 144,
    "start_time": "2022-07-03T18:32:33.658Z"
   },
   {
    "duration": 21,
    "start_time": "2022-07-03T18:32:33.855Z"
   },
   {
    "duration": 101,
    "start_time": "2022-07-03T18:32:33.881Z"
   },
   {
    "duration": 6,
    "start_time": "2022-07-03T18:32:33.984Z"
   },
   {
    "duration": 10,
    "start_time": "2022-07-03T18:32:33.992Z"
   },
   {
    "duration": 18,
    "start_time": "2022-07-03T18:32:34.005Z"
   },
   {
    "duration": 5,
    "start_time": "2022-07-03T18:32:34.025Z"
   },
   {
    "duration": 4,
    "start_time": "2022-07-03T18:32:34.032Z"
   },
   {
    "duration": 10,
    "start_time": "2022-07-03T18:32:34.038Z"
   },
   {
    "duration": 46,
    "start_time": "2022-07-03T18:32:34.050Z"
   },
   {
    "duration": 200,
    "start_time": "2022-07-03T18:32:34.098Z"
   },
   {
    "duration": 4,
    "start_time": "2022-07-03T18:32:34.299Z"
   },
   {
    "duration": 8,
    "start_time": "2022-07-03T18:32:34.304Z"
   },
   {
    "duration": 178,
    "start_time": "2022-07-03T18:32:34.313Z"
   },
   {
    "duration": 4,
    "start_time": "2022-07-03T18:32:34.493Z"
   },
   {
    "duration": 11,
    "start_time": "2022-07-03T18:32:34.498Z"
   },
   {
    "duration": 162,
    "start_time": "2022-07-03T18:32:34.511Z"
   },
   {
    "duration": 12,
    "start_time": "2022-07-03T18:32:34.680Z"
   },
   {
    "duration": 123,
    "start_time": "2022-07-03T18:32:34.694Z"
   },
   {
    "duration": 0,
    "start_time": "2022-07-03T18:32:34.819Z"
   },
   {
    "duration": 0,
    "start_time": "2022-07-03T18:32:34.820Z"
   },
   {
    "duration": 19,
    "start_time": "2022-07-03T18:34:15.532Z"
   },
   {
    "duration": 12,
    "start_time": "2022-07-03T18:37:31.986Z"
   },
   {
    "duration": 15,
    "start_time": "2022-07-03T20:48:01.000Z"
   },
   {
    "duration": 36,
    "start_time": "2022-07-03T20:48:07.465Z"
   },
   {
    "duration": 14,
    "start_time": "2022-07-03T20:49:14.783Z"
   },
   {
    "duration": 32,
    "start_time": "2022-07-03T20:50:58.804Z"
   },
   {
    "duration": 19,
    "start_time": "2022-07-03T20:51:38.300Z"
   },
   {
    "duration": 120,
    "start_time": "2022-07-03T20:53:12.783Z"
   },
   {
    "duration": 27,
    "start_time": "2022-07-03T20:53:15.187Z"
   },
   {
    "duration": 1647,
    "start_time": "2022-07-03T20:53:48.396Z"
   },
   {
    "duration": 493,
    "start_time": "2022-07-03T20:53:50.045Z"
   },
   {
    "duration": 25,
    "start_time": "2022-07-03T20:53:50.540Z"
   },
   {
    "duration": 75,
    "start_time": "2022-07-03T20:53:50.566Z"
   },
   {
    "duration": 12,
    "start_time": "2022-07-03T20:53:50.644Z"
   },
   {
    "duration": 76,
    "start_time": "2022-07-03T20:53:50.657Z"
   },
   {
    "duration": 9,
    "start_time": "2022-07-03T20:53:50.735Z"
   },
   {
    "duration": 21,
    "start_time": "2022-07-03T20:53:50.746Z"
   },
   {
    "duration": 113,
    "start_time": "2022-07-03T20:53:50.768Z"
   },
   {
    "duration": 52,
    "start_time": "2022-07-03T20:53:50.883Z"
   },
   {
    "duration": 52,
    "start_time": "2022-07-03T20:53:50.937Z"
   },
   {
    "duration": 57,
    "start_time": "2022-07-03T20:53:50.991Z"
   },
   {
    "duration": 83,
    "start_time": "2022-07-03T20:53:51.050Z"
   },
   {
    "duration": 61,
    "start_time": "2022-07-03T20:53:51.136Z"
   },
   {
    "duration": 768,
    "start_time": "2022-07-03T20:53:51.199Z"
   },
   {
    "duration": 3149,
    "start_time": "2022-07-03T20:53:51.969Z"
   },
   {
    "duration": 14,
    "start_time": "2022-07-03T20:53:55.120Z"
   },
   {
    "duration": 61,
    "start_time": "2022-07-03T20:53:55.138Z"
   },
   {
    "duration": 137,
    "start_time": "2022-07-03T20:53:55.201Z"
   },
   {
    "duration": 100,
    "start_time": "2022-07-03T20:53:55.340Z"
   },
   {
    "duration": 141,
    "start_time": "2022-07-03T20:53:55.442Z"
   },
   {
    "duration": 183,
    "start_time": "2022-07-03T20:53:55.587Z"
   },
   {
    "duration": 170,
    "start_time": "2022-07-03T20:53:55.780Z"
   },
   {
    "duration": 223,
    "start_time": "2022-07-03T20:53:55.952Z"
   },
   {
    "duration": 161,
    "start_time": "2022-07-03T20:53:56.186Z"
   },
   {
    "duration": 174,
    "start_time": "2022-07-03T20:53:56.349Z"
   },
   {
    "duration": 20,
    "start_time": "2022-07-03T20:53:56.556Z"
   },
   {
    "duration": 53,
    "start_time": "2022-07-03T20:53:56.584Z"
   },
   {
    "duration": 9,
    "start_time": "2022-07-03T20:53:56.639Z"
   },
   {
    "duration": 78,
    "start_time": "2022-07-03T20:53:56.649Z"
   },
   {
    "duration": 7,
    "start_time": "2022-07-03T20:53:56.729Z"
   },
   {
    "duration": 4,
    "start_time": "2022-07-03T20:53:56.738Z"
   },
   {
    "duration": 5,
    "start_time": "2022-07-03T20:53:56.744Z"
   },
   {
    "duration": 82,
    "start_time": "2022-07-03T20:53:56.751Z"
   },
   {
    "duration": 7,
    "start_time": "2022-07-03T20:53:56.835Z"
   },
   {
    "duration": 189,
    "start_time": "2022-07-03T20:53:56.844Z"
   },
   {
    "duration": 33,
    "start_time": "2022-07-03T20:53:57.035Z"
   },
   {
    "duration": 8,
    "start_time": "2022-07-03T20:53:57.071Z"
   },
   {
    "duration": 55,
    "start_time": "2022-07-03T20:53:57.080Z"
   },
   {
    "duration": 174,
    "start_time": "2022-07-03T20:53:57.137Z"
   },
   {
    "duration": 17,
    "start_time": "2022-07-03T20:53:57.319Z"
   },
   {
    "duration": 4,
    "start_time": "2022-07-03T20:53:57.338Z"
   },
   {
    "duration": 38,
    "start_time": "2022-07-03T20:53:57.344Z"
   },
   {
    "duration": 101,
    "start_time": "2022-07-03T20:53:57.389Z"
   },
   {
    "duration": 37,
    "start_time": "2022-07-03T20:53:57.498Z"
   },
   {
    "duration": 18,
    "start_time": "2022-07-03T20:53:57.538Z"
   },
   {
    "duration": 232,
    "start_time": "2022-07-03T20:53:57.559Z"
   },
   {
    "duration": 0,
    "start_time": "2022-07-03T20:53:57.797Z"
   },
   {
    "duration": 0,
    "start_time": "2022-07-03T20:53:57.801Z"
   },
   {
    "duration": 13,
    "start_time": "2022-07-03T20:58:03.153Z"
   },
   {
    "duration": 4,
    "start_time": "2022-07-03T20:58:49.771Z"
   },
   {
    "duration": 3,
    "start_time": "2022-07-03T21:05:28.399Z"
   },
   {
    "duration": 4,
    "start_time": "2022-07-03T21:05:34.321Z"
   },
   {
    "duration": 4,
    "start_time": "2022-07-03T21:05:34.785Z"
   },
   {
    "duration": 17,
    "start_time": "2022-07-03T21:09:50.602Z"
   },
   {
    "duration": 28,
    "start_time": "2022-07-03T21:10:31.114Z"
   },
   {
    "duration": 13,
    "start_time": "2022-07-03T21:14:57.070Z"
   },
   {
    "duration": 49,
    "start_time": "2022-07-03T21:15:02.379Z"
   },
   {
    "duration": 41,
    "start_time": "2022-07-03T21:20:18.950Z"
   },
   {
    "duration": 20,
    "start_time": "2022-07-03T21:20:25.770Z"
   },
   {
    "duration": 10,
    "start_time": "2022-07-03T21:23:23.097Z"
   },
   {
    "duration": 5,
    "start_time": "2022-07-03T21:24:08.903Z"
   },
   {
    "duration": 12,
    "start_time": "2022-07-03T21:24:16.058Z"
   },
   {
    "duration": 10,
    "start_time": "2022-07-03T21:24:16.931Z"
   },
   {
    "duration": 27,
    "start_time": "2022-07-03T21:24:17.517Z"
   },
   {
    "duration": 154,
    "start_time": "2022-07-03T21:25:19.063Z"
   },
   {
    "duration": 4,
    "start_time": "2022-07-03T21:25:25.943Z"
   },
   {
    "duration": 12,
    "start_time": "2022-07-03T21:25:28.496Z"
   },
   {
    "duration": 60,
    "start_time": "2022-07-03T21:25:28.783Z"
   },
   {
    "duration": 30,
    "start_time": "2022-07-03T21:25:29.502Z"
   },
   {
    "duration": 5,
    "start_time": "2022-07-03T21:25:52.320Z"
   },
   {
    "duration": 5,
    "start_time": "2022-07-03T21:25:54.140Z"
   },
   {
    "duration": 56,
    "start_time": "2022-07-03T21:25:54.367Z"
   },
   {
    "duration": 29,
    "start_time": "2022-07-03T21:25:55.190Z"
   },
   {
    "duration": 34,
    "start_time": "2022-07-03T21:25:57.144Z"
   },
   {
    "duration": 5,
    "start_time": "2022-07-03T21:26:09.990Z"
   },
   {
    "duration": 15,
    "start_time": "2022-07-03T21:26:10.674Z"
   },
   {
    "duration": 23,
    "start_time": "2022-07-03T21:26:11.140Z"
   },
   {
    "duration": 23,
    "start_time": "2022-07-03T21:26:11.756Z"
   },
   {
    "duration": 8,
    "start_time": "2022-07-03T21:26:15.342Z"
   },
   {
    "duration": 17,
    "start_time": "2022-07-03T21:26:15.948Z"
   },
   {
    "duration": 40,
    "start_time": "2022-07-03T21:26:16.454Z"
   },
   {
    "duration": 27,
    "start_time": "2022-07-03T21:26:17.004Z"
   },
   {
    "duration": 7,
    "start_time": "2022-07-03T21:26:23.348Z"
   },
   {
    "duration": 86,
    "start_time": "2022-07-03T21:26:42.593Z"
   },
   {
    "duration": 61,
    "start_time": "2022-07-03T21:26:48.466Z"
   },
   {
    "duration": 26,
    "start_time": "2022-07-03T21:27:32.895Z"
   },
   {
    "duration": 1930,
    "start_time": "2022-07-03T21:27:44.327Z"
   },
   {
    "duration": 227,
    "start_time": "2022-07-03T21:34:23.684Z"
   },
   {
    "duration": 325,
    "start_time": "2022-07-03T21:34:39.571Z"
   },
   {
    "duration": 8,
    "start_time": "2022-07-03T21:35:19.429Z"
   },
   {
    "duration": 7,
    "start_time": "2022-07-03T21:36:59.671Z"
   },
   {
    "duration": 17,
    "start_time": "2022-07-03T21:38:17.730Z"
   },
   {
    "duration": 8,
    "start_time": "2022-07-03T21:38:18.369Z"
   },
   {
    "duration": 42,
    "start_time": "2022-07-03T21:39:32.499Z"
   },
   {
    "duration": 10,
    "start_time": "2022-07-03T21:40:07.725Z"
   },
   {
    "duration": 6,
    "start_time": "2022-07-03T21:40:08.730Z"
   },
   {
    "duration": 13,
    "start_time": "2022-07-03T21:40:30.324Z"
   },
   {
    "duration": 52,
    "start_time": "2022-07-03T21:40:57.972Z"
   },
   {
    "duration": 57,
    "start_time": "2022-07-03T21:41:03.672Z"
   },
   {
    "duration": 50,
    "start_time": "2022-07-03T21:42:27.645Z"
   },
   {
    "duration": 1586,
    "start_time": "2022-07-03T21:42:50.897Z"
   },
   {
    "duration": 450,
    "start_time": "2022-07-03T21:42:52.485Z"
   },
   {
    "duration": 13,
    "start_time": "2022-07-03T21:42:52.937Z"
   },
   {
    "duration": 71,
    "start_time": "2022-07-03T21:42:52.956Z"
   },
   {
    "duration": 9,
    "start_time": "2022-07-03T21:42:53.029Z"
   },
   {
    "duration": 19,
    "start_time": "2022-07-03T21:42:53.040Z"
   },
   {
    "duration": 38,
    "start_time": "2022-07-03T21:42:53.061Z"
   },
   {
    "duration": 28,
    "start_time": "2022-07-03T21:42:53.101Z"
   },
   {
    "duration": 42,
    "start_time": "2022-07-03T21:42:53.131Z"
   },
   {
    "duration": 47,
    "start_time": "2022-07-03T21:42:53.175Z"
   },
   {
    "duration": 52,
    "start_time": "2022-07-03T21:42:53.223Z"
   },
   {
    "duration": 54,
    "start_time": "2022-07-03T21:42:53.277Z"
   },
   {
    "duration": 46,
    "start_time": "2022-07-03T21:42:53.333Z"
   },
   {
    "duration": 51,
    "start_time": "2022-07-03T21:42:53.384Z"
   },
   {
    "duration": 710,
    "start_time": "2022-07-03T21:42:53.437Z"
   },
   {
    "duration": 2881,
    "start_time": "2022-07-03T21:42:54.149Z"
   },
   {
    "duration": 13,
    "start_time": "2022-07-03T21:42:57.032Z"
   },
   {
    "duration": 3,
    "start_time": "2022-07-03T21:42:57.055Z"
   },
   {
    "duration": 65,
    "start_time": "2022-07-03T21:42:57.059Z"
   },
   {
    "duration": 16,
    "start_time": "2022-07-03T21:42:57.126Z"
   },
   {
    "duration": 147,
    "start_time": "2022-07-03T21:42:57.144Z"
   },
   {
    "duration": 161,
    "start_time": "2022-07-03T21:42:57.297Z"
   },
   {
    "duration": 159,
    "start_time": "2022-07-03T21:42:57.466Z"
   },
   {
    "duration": 166,
    "start_time": "2022-07-03T21:42:57.656Z"
   },
   {
    "duration": 178,
    "start_time": "2022-07-03T21:42:57.824Z"
   },
   {
    "duration": 176,
    "start_time": "2022-07-03T21:42:58.008Z"
   },
   {
    "duration": 29,
    "start_time": "2022-07-03T21:42:58.191Z"
   },
   {
    "duration": 34,
    "start_time": "2022-07-03T21:42:58.222Z"
   },
   {
    "duration": 74,
    "start_time": "2022-07-03T21:42:58.258Z"
   },
   {
    "duration": 6,
    "start_time": "2022-07-03T21:42:58.333Z"
   },
   {
    "duration": 7,
    "start_time": "2022-07-03T21:42:58.341Z"
   },
   {
    "duration": 51,
    "start_time": "2022-07-03T21:42:58.350Z"
   },
   {
    "duration": 17,
    "start_time": "2022-07-03T21:42:58.406Z"
   },
   {
    "duration": 16,
    "start_time": "2022-07-03T21:42:58.424Z"
   },
   {
    "duration": 181,
    "start_time": "2022-07-03T21:42:58.442Z"
   },
   {
    "duration": 20,
    "start_time": "2022-07-03T21:42:58.625Z"
   },
   {
    "duration": 19,
    "start_time": "2022-07-03T21:42:58.647Z"
   },
   {
    "duration": 56,
    "start_time": "2022-07-03T21:42:58.671Z"
   },
   {
    "duration": 133,
    "start_time": "2022-07-03T21:42:58.728Z"
   },
   {
    "duration": 61,
    "start_time": "2022-07-03T21:42:58.863Z"
   },
   {
    "duration": 4,
    "start_time": "2022-07-03T21:42:58.928Z"
   },
   {
    "duration": 21,
    "start_time": "2022-07-03T21:42:58.934Z"
   },
   {
    "duration": 161,
    "start_time": "2022-07-03T21:42:58.957Z"
   },
   {
    "duration": 19,
    "start_time": "2022-07-03T21:42:59.120Z"
   },
   {
    "duration": 3,
    "start_time": "2022-07-03T21:42:59.141Z"
   },
   {
    "duration": 8,
    "start_time": "2022-07-03T21:42:59.146Z"
   },
   {
    "duration": 59,
    "start_time": "2022-07-03T21:42:59.160Z"
   },
   {
    "duration": 7,
    "start_time": "2022-07-03T21:42:59.221Z"
   },
   {
    "duration": 8,
    "start_time": "2022-07-03T21:42:59.229Z"
   },
   {
    "duration": 43,
    "start_time": "2022-07-03T21:42:59.239Z"
   },
   {
    "duration": 135,
    "start_time": "2022-07-03T21:42:59.287Z"
   },
   {
    "duration": 172,
    "start_time": "2022-07-03T21:42:59.424Z"
   },
   {
    "duration": 0,
    "start_time": "2022-07-03T21:42:59.598Z"
   },
   {
    "duration": 0,
    "start_time": "2022-07-03T21:42:59.599Z"
   },
   {
    "duration": 0,
    "start_time": "2022-07-03T21:42:59.600Z"
   },
   {
    "duration": 45,
    "start_time": "2022-07-03T21:44:57.111Z"
   },
   {
    "duration": 32,
    "start_time": "2022-07-03T21:46:26.910Z"
   },
   {
    "duration": 6,
    "start_time": "2022-07-03T21:47:00.416Z"
   },
   {
    "duration": 13,
    "start_time": "2022-07-03T21:47:07.245Z"
   },
   {
    "duration": 127,
    "start_time": "2022-07-03T21:48:07.447Z"
   },
   {
    "duration": 15,
    "start_time": "2022-07-03T21:48:08.097Z"
   },
   {
    "duration": 12,
    "start_time": "2022-07-03T21:48:08.797Z"
   },
   {
    "duration": 8,
    "start_time": "2022-07-03T21:48:09.404Z"
   },
   {
    "duration": 30,
    "start_time": "2022-07-03T21:48:13.276Z"
   },
   {
    "duration": 4,
    "start_time": "2022-07-03T21:48:30.025Z"
   },
   {
    "duration": 47,
    "start_time": "2022-07-03T21:48:32.535Z"
   },
   {
    "duration": 5,
    "start_time": "2022-07-03T21:49:17.037Z"
   },
   {
    "duration": 10,
    "start_time": "2022-07-03T21:51:42.717Z"
   },
   {
    "duration": 9,
    "start_time": "2022-07-03T21:51:51.376Z"
   },
   {
    "duration": 7,
    "start_time": "2022-07-03T21:52:27.023Z"
   },
   {
    "duration": 132,
    "start_time": "2022-07-03T21:52:49.902Z"
   },
   {
    "duration": 10,
    "start_time": "2022-07-03T21:53:14.901Z"
   },
   {
    "duration": 4,
    "start_time": "2022-07-03T21:53:18.778Z"
   },
   {
    "duration": 1297,
    "start_time": "2022-07-03T21:53:24.101Z"
   },
   {
    "duration": 17,
    "start_time": "2022-07-03T21:53:25.400Z"
   },
   {
    "duration": 3,
    "start_time": "2022-07-03T21:54:36.303Z"
   },
   {
    "duration": 103,
    "start_time": "2022-07-03T21:54:43.139Z"
   },
   {
    "duration": 4,
    "start_time": "2022-07-03T21:57:27.114Z"
   },
   {
    "duration": 3,
    "start_time": "2022-07-03T21:57:28.571Z"
   },
   {
    "duration": 4,
    "start_time": "2022-07-03T21:57:28.868Z"
   },
   {
    "duration": 5,
    "start_time": "2022-07-03T21:57:29.207Z"
   },
   {
    "duration": 32,
    "start_time": "2022-07-03T21:57:30.023Z"
   },
   {
    "duration": 9,
    "start_time": "2022-07-03T21:57:31.695Z"
   },
   {
    "duration": 9,
    "start_time": "2022-07-03T21:57:32.479Z"
   },
   {
    "duration": 9,
    "start_time": "2022-07-03T21:58:11.911Z"
   },
   {
    "duration": 6,
    "start_time": "2022-07-03T21:58:12.431Z"
   },
   {
    "duration": 5,
    "start_time": "2022-07-03T21:58:21.337Z"
   },
   {
    "duration": 11,
    "start_time": "2022-07-03T21:59:26.750Z"
   },
   {
    "duration": 94,
    "start_time": "2022-07-03T21:59:33.706Z"
   },
   {
    "duration": 44,
    "start_time": "2022-07-03T22:00:41.799Z"
   },
   {
    "duration": 12,
    "start_time": "2022-07-03T22:01:28.550Z"
   },
   {
    "duration": 8,
    "start_time": "2022-07-03T22:01:30.024Z"
   },
   {
    "duration": 7,
    "start_time": "2022-07-03T22:03:54.604Z"
   },
   {
    "duration": 5,
    "start_time": "2022-07-03T22:03:55.797Z"
   },
   {
    "duration": 7,
    "start_time": "2022-07-03T22:03:56.202Z"
   },
   {
    "duration": 5,
    "start_time": "2022-07-03T22:03:58.088Z"
   },
   {
    "duration": 59,
    "start_time": "2022-07-03T22:03:58.095Z"
   },
   {
    "duration": 146,
    "start_time": "2022-07-03T22:03:58.157Z"
   },
   {
    "duration": 9,
    "start_time": "2022-07-03T22:03:58.373Z"
   },
   {
    "duration": 173,
    "start_time": "2022-07-03T22:03:59.404Z"
   },
   {
    "duration": 5,
    "start_time": "2022-07-03T22:04:58.819Z"
   },
   {
    "duration": 5,
    "start_time": "2022-07-03T22:05:08.609Z"
   },
   {
    "duration": 1553,
    "start_time": "2022-07-04T06:13:57.029Z"
   },
   {
    "duration": 720,
    "start_time": "2022-07-04T06:13:58.585Z"
   },
   {
    "duration": 15,
    "start_time": "2022-07-04T06:13:59.307Z"
   },
   {
    "duration": 18,
    "start_time": "2022-07-04T06:13:59.324Z"
   },
   {
    "duration": 10,
    "start_time": "2022-07-04T06:13:59.344Z"
   },
   {
    "duration": 20,
    "start_time": "2022-07-04T06:13:59.356Z"
   },
   {
    "duration": 11,
    "start_time": "2022-07-04T06:13:59.378Z"
   },
   {
    "duration": 38,
    "start_time": "2022-07-04T06:13:59.391Z"
   },
   {
    "duration": 39,
    "start_time": "2022-07-04T06:13:59.431Z"
   },
   {
    "duration": 55,
    "start_time": "2022-07-04T06:13:59.472Z"
   },
   {
    "duration": 35,
    "start_time": "2022-07-04T06:13:59.529Z"
   },
   {
    "duration": 65,
    "start_time": "2022-07-04T06:13:59.566Z"
   },
   {
    "duration": 46,
    "start_time": "2022-07-04T06:13:59.633Z"
   },
   {
    "duration": 64,
    "start_time": "2022-07-04T06:13:59.681Z"
   },
   {
    "duration": 744,
    "start_time": "2022-07-04T06:13:59.746Z"
   },
   {
    "duration": 2548,
    "start_time": "2022-07-04T06:14:00.492Z"
   },
   {
    "duration": 13,
    "start_time": "2022-07-04T06:14:03.043Z"
   },
   {
    "duration": 6,
    "start_time": "2022-07-04T06:14:03.058Z"
   },
   {
    "duration": 21,
    "start_time": "2022-07-04T06:14:03.066Z"
   },
   {
    "duration": 31,
    "start_time": "2022-07-04T06:14:03.089Z"
   },
   {
    "duration": 207,
    "start_time": "2022-07-04T06:14:03.122Z"
   },
   {
    "duration": 100,
    "start_time": "2022-07-04T06:14:03.331Z"
   },
   {
    "duration": 103,
    "start_time": "2022-07-04T06:14:03.525Z"
   },
   {
    "duration": 199,
    "start_time": "2022-07-04T06:14:03.630Z"
   },
   {
    "duration": 191,
    "start_time": "2022-07-04T06:14:03.836Z"
   },
   {
    "duration": 128,
    "start_time": "2022-07-04T06:14:04.029Z"
   },
   {
    "duration": 70,
    "start_time": "2022-07-04T06:14:04.159Z"
   },
   {
    "duration": 9,
    "start_time": "2022-07-04T06:14:04.325Z"
   },
   {
    "duration": 7,
    "start_time": "2022-07-04T06:14:04.336Z"
   },
   {
    "duration": 12,
    "start_time": "2022-07-04T06:14:04.345Z"
   },
   {
    "duration": 8,
    "start_time": "2022-07-04T06:14:04.359Z"
   },
   {
    "duration": 12,
    "start_time": "2022-07-04T06:14:04.369Z"
   },
   {
    "duration": 10,
    "start_time": "2022-07-04T06:14:04.384Z"
   },
   {
    "duration": 35,
    "start_time": "2022-07-04T06:14:04.396Z"
   },
   {
    "duration": 207,
    "start_time": "2022-07-04T06:14:04.435Z"
   },
   {
    "duration": 25,
    "start_time": "2022-07-04T06:14:04.644Z"
   },
   {
    "duration": 16,
    "start_time": "2022-07-04T06:14:04.672Z"
   },
   {
    "duration": 39,
    "start_time": "2022-07-04T06:14:04.690Z"
   },
   {
    "duration": 112,
    "start_time": "2022-07-04T06:14:04.732Z"
   },
   {
    "duration": 14,
    "start_time": "2022-07-04T06:14:04.846Z"
   },
   {
    "duration": 23,
    "start_time": "2022-07-04T06:14:04.861Z"
   },
   {
    "duration": 43,
    "start_time": "2022-07-04T06:14:04.886Z"
   },
   {
    "duration": 114,
    "start_time": "2022-07-04T06:14:04.932Z"
   },
   {
    "duration": 19,
    "start_time": "2022-07-04T06:14:05.048Z"
   },
   {
    "duration": 9,
    "start_time": "2022-07-04T06:14:05.069Z"
   },
   {
    "duration": 18,
    "start_time": "2022-07-04T06:14:05.079Z"
   },
   {
    "duration": 21,
    "start_time": "2022-07-04T06:14:05.099Z"
   },
   {
    "duration": 10,
    "start_time": "2022-07-04T06:14:05.121Z"
   },
   {
    "duration": 8,
    "start_time": "2022-07-04T06:14:05.132Z"
   },
   {
    "duration": 21,
    "start_time": "2022-07-04T06:14:05.142Z"
   },
   {
    "duration": 65,
    "start_time": "2022-07-04T06:14:05.168Z"
   },
   {
    "duration": 115,
    "start_time": "2022-07-04T06:14:05.235Z"
   },
   {
    "duration": 9,
    "start_time": "2022-07-04T06:14:05.352Z"
   },
   {
    "duration": 5,
    "start_time": "2022-07-04T06:14:05.362Z"
   },
   {
    "duration": 618,
    "start_time": "2022-07-04T06:14:05.369Z"
   },
   {
    "duration": 1132,
    "start_time": "2022-07-04T06:15:41.266Z"
   },
   {
    "duration": 11,
    "start_time": "2022-07-04T06:15:43.703Z"
   },
   {
    "duration": 119,
    "start_time": "2022-07-04T06:16:02.783Z"
   },
   {
    "duration": 5,
    "start_time": "2022-07-04T06:16:08.778Z"
   },
   {
    "duration": 1092,
    "start_time": "2022-07-04T06:16:24.493Z"
   },
   {
    "duration": 5,
    "start_time": "2022-07-04T06:16:25.587Z"
   },
   {
    "duration": 1019,
    "start_time": "2022-07-04T06:16:29.031Z"
   },
   {
    "duration": 5,
    "start_time": "2022-07-04T06:16:30.713Z"
   },
   {
    "duration": 1494,
    "start_time": "2022-07-04T06:18:03.928Z"
   },
   {
    "duration": 6,
    "start_time": "2022-07-04T06:18:05.425Z"
   },
   {
    "duration": 5,
    "start_time": "2022-07-04T06:18:11.695Z"
   },
   {
    "duration": 1504,
    "start_time": "2022-07-04T06:18:45.680Z"
   },
   {
    "duration": 391,
    "start_time": "2022-07-04T06:18:47.186Z"
   },
   {
    "duration": 14,
    "start_time": "2022-07-04T06:18:47.579Z"
   },
   {
    "duration": 24,
    "start_time": "2022-07-04T06:18:47.595Z"
   },
   {
    "duration": 17,
    "start_time": "2022-07-04T06:18:47.621Z"
   },
   {
    "duration": 31,
    "start_time": "2022-07-04T06:18:47.640Z"
   },
   {
    "duration": 9,
    "start_time": "2022-07-04T06:18:47.673Z"
   },
   {
    "duration": 19,
    "start_time": "2022-07-04T06:18:47.684Z"
   },
   {
    "duration": 62,
    "start_time": "2022-07-04T06:18:47.704Z"
   },
   {
    "duration": 37,
    "start_time": "2022-07-04T06:18:47.768Z"
   },
   {
    "duration": 64,
    "start_time": "2022-07-04T06:18:47.806Z"
   },
   {
    "duration": 72,
    "start_time": "2022-07-04T06:18:47.872Z"
   },
   {
    "duration": 49,
    "start_time": "2022-07-04T06:18:47.946Z"
   },
   {
    "duration": 74,
    "start_time": "2022-07-04T06:18:47.997Z"
   },
   {
    "duration": 713,
    "start_time": "2022-07-04T06:18:48.073Z"
   },
   {
    "duration": 2795,
    "start_time": "2022-07-04T06:18:48.788Z"
   },
   {
    "duration": 13,
    "start_time": "2022-07-04T06:18:51.585Z"
   },
   {
    "duration": 8,
    "start_time": "2022-07-04T06:18:51.600Z"
   },
   {
    "duration": 20,
    "start_time": "2022-07-04T06:18:51.610Z"
   },
   {
    "duration": 20,
    "start_time": "2022-07-04T06:18:51.633Z"
   },
   {
    "duration": 72,
    "start_time": "2022-07-04T06:18:51.655Z"
   },
   {
    "duration": 197,
    "start_time": "2022-07-04T06:18:51.729Z"
   },
   {
    "duration": 131,
    "start_time": "2022-07-04T06:18:51.929Z"
   },
   {
    "duration": 202,
    "start_time": "2022-07-04T06:18:52.127Z"
   },
   {
    "duration": 133,
    "start_time": "2022-07-04T06:18:52.331Z"
   },
   {
    "duration": 133,
    "start_time": "2022-07-04T06:18:52.527Z"
   },
   {
    "duration": 65,
    "start_time": "2022-07-04T06:18:52.662Z"
   },
   {
    "duration": 95,
    "start_time": "2022-07-04T06:18:52.733Z"
   },
   {
    "duration": 20,
    "start_time": "2022-07-04T06:18:52.830Z"
   },
   {
    "duration": 5,
    "start_time": "2022-07-04T06:18:52.852Z"
   },
   {
    "duration": 7,
    "start_time": "2022-07-04T06:18:52.859Z"
   },
   {
    "duration": 10,
    "start_time": "2022-07-04T06:18:52.867Z"
   },
   {
    "duration": 7,
    "start_time": "2022-07-04T06:18:52.879Z"
   },
   {
    "duration": 11,
    "start_time": "2022-07-04T06:18:52.888Z"
   },
   {
    "duration": 136,
    "start_time": "2022-07-04T06:18:52.927Z"
   },
   {
    "duration": 20,
    "start_time": "2022-07-04T06:18:53.064Z"
   },
   {
    "duration": 6,
    "start_time": "2022-07-04T06:18:53.086Z"
   },
   {
    "duration": 43,
    "start_time": "2022-07-04T06:18:53.093Z"
   },
   {
    "duration": 127,
    "start_time": "2022-07-04T06:18:53.138Z"
   },
   {
    "duration": 17,
    "start_time": "2022-07-04T06:18:53.267Z"
   },
   {
    "duration": 5,
    "start_time": "2022-07-04T06:18:53.286Z"
   },
   {
    "duration": 36,
    "start_time": "2022-07-04T06:18:53.292Z"
   },
   {
    "duration": 141,
    "start_time": "2022-07-04T06:18:53.330Z"
   },
   {
    "duration": 21,
    "start_time": "2022-07-04T06:18:53.473Z"
   },
   {
    "duration": 4,
    "start_time": "2022-07-04T06:18:53.495Z"
   },
   {
    "duration": 15,
    "start_time": "2022-07-04T06:18:53.501Z"
   },
   {
    "duration": 30,
    "start_time": "2022-07-04T06:18:53.518Z"
   },
   {
    "duration": 16,
    "start_time": "2022-07-04T06:18:53.550Z"
   },
   {
    "duration": 17,
    "start_time": "2022-07-04T06:18:53.568Z"
   },
   {
    "duration": 1416,
    "start_time": "2022-07-04T06:18:53.587Z"
   },
   {
    "duration": 4,
    "start_time": "2022-07-04T06:18:55.005Z"
   },
   {
    "duration": 9,
    "start_time": "2022-07-04T06:18:55.011Z"
   },
   {
    "duration": 12,
    "start_time": "2022-07-04T06:31:00.936Z"
   },
   {
    "duration": 3,
    "start_time": "2022-07-04T06:34:18.775Z"
   },
   {
    "duration": 5,
    "start_time": "2022-07-04T06:34:25.054Z"
   },
   {
    "duration": 4,
    "start_time": "2022-07-04T06:34:42.748Z"
   },
   {
    "duration": 169,
    "start_time": "2022-07-04T06:36:01.318Z"
   },
   {
    "duration": 10,
    "start_time": "2022-07-04T06:36:07.544Z"
   },
   {
    "duration": 4,
    "start_time": "2022-07-04T06:37:36.914Z"
   },
   {
    "duration": 10,
    "start_time": "2022-07-04T06:37:53.616Z"
   },
   {
    "duration": 8,
    "start_time": "2022-07-04T06:38:04.492Z"
   },
   {
    "duration": 10,
    "start_time": "2022-07-04T06:58:38.388Z"
   },
   {
    "duration": 18,
    "start_time": "2022-07-04T06:59:06.764Z"
   },
   {
    "duration": 7,
    "start_time": "2022-07-04T06:59:07.186Z"
   },
   {
    "duration": 3,
    "start_time": "2022-07-04T07:01:28.992Z"
   },
   {
    "duration": 6,
    "start_time": "2022-07-04T07:01:29.677Z"
   },
   {
    "duration": 7,
    "start_time": "2022-07-04T07:02:43.228Z"
   },
   {
    "duration": 4,
    "start_time": "2022-07-04T07:06:41.086Z"
   },
   {
    "duration": 6,
    "start_time": "2022-07-04T07:12:41.046Z"
   },
   {
    "duration": 3,
    "start_time": "2022-07-04T07:15:51.445Z"
   },
   {
    "duration": 3,
    "start_time": "2022-07-04T07:16:17.310Z"
   },
   {
    "duration": 11,
    "start_time": "2022-07-04T07:16:31.091Z"
   },
   {
    "duration": 26,
    "start_time": "2022-07-04T07:16:41.820Z"
   },
   {
    "duration": 1304,
    "start_time": "2022-07-04T07:17:16.894Z"
   },
   {
    "duration": 5,
    "start_time": "2022-07-04T07:17:48.304Z"
   },
   {
    "duration": 5,
    "start_time": "2022-07-04T07:19:13.101Z"
   },
   {
    "duration": 5,
    "start_time": "2022-07-04T07:19:25.787Z"
   },
   {
    "duration": 6,
    "start_time": "2022-07-04T07:20:29.083Z"
   },
   {
    "duration": 2,
    "start_time": "2022-07-04T07:23:54.087Z"
   },
   {
    "duration": 3,
    "start_time": "2022-07-04T07:24:20.758Z"
   },
   {
    "duration": 3,
    "start_time": "2022-07-04T07:24:24.304Z"
   },
   {
    "duration": 2,
    "start_time": "2022-07-04T07:24:43.076Z"
   },
   {
    "duration": 12,
    "start_time": "2022-07-04T07:24:54.810Z"
   },
   {
    "duration": 1052,
    "start_time": "2022-07-04T07:25:11.077Z"
   },
   {
    "duration": 8,
    "start_time": "2022-07-04T07:25:21.317Z"
   },
   {
    "duration": 5,
    "start_time": "2022-07-04T07:25:39.349Z"
   },
   {
    "duration": 7,
    "start_time": "2022-07-04T07:25:51.208Z"
   },
   {
    "duration": 6,
    "start_time": "2022-07-04T07:28:00.983Z"
   },
   {
    "duration": 4,
    "start_time": "2022-07-04T07:30:44.398Z"
   },
   {
    "duration": 7,
    "start_time": "2022-07-04T07:38:25.162Z"
   },
   {
    "duration": 169,
    "start_time": "2022-07-04T07:39:02.622Z"
   },
   {
    "duration": 148,
    "start_time": "2022-07-04T07:44:11.938Z"
   },
   {
    "duration": 146,
    "start_time": "2022-07-04T07:44:35.428Z"
   },
   {
    "duration": 146,
    "start_time": "2022-07-04T07:44:42.696Z"
   },
   {
    "duration": 169,
    "start_time": "2022-07-04T07:44:53.606Z"
   },
   {
    "duration": 145,
    "start_time": "2022-07-04T07:45:26.774Z"
   },
   {
    "duration": 143,
    "start_time": "2022-07-04T07:45:36.813Z"
   },
   {
    "duration": 300,
    "start_time": "2022-07-04T07:46:40.116Z"
   },
   {
    "duration": 19,
    "start_time": "2022-07-04T07:46:56.093Z"
   },
   {
    "duration": 155,
    "start_time": "2022-07-04T07:47:03.094Z"
   },
   {
    "duration": 11,
    "start_time": "2022-07-04T07:47:54.882Z"
   },
   {
    "duration": 154,
    "start_time": "2022-07-04T07:48:01.750Z"
   },
   {
    "duration": 13,
    "start_time": "2022-07-04T07:49:29.012Z"
   },
   {
    "duration": 5,
    "start_time": "2022-07-04T07:49:38.538Z"
   },
   {
    "duration": 182,
    "start_time": "2022-07-04T07:49:39.022Z"
   },
   {
    "duration": 1330,
    "start_time": "2022-07-04T07:50:57.646Z"
   },
   {
    "duration": 346,
    "start_time": "2022-07-04T07:50:58.978Z"
   },
   {
    "duration": 14,
    "start_time": "2022-07-04T07:50:59.325Z"
   },
   {
    "duration": 26,
    "start_time": "2022-07-04T07:50:59.340Z"
   },
   {
    "duration": 9,
    "start_time": "2022-07-04T07:50:59.368Z"
   },
   {
    "duration": 34,
    "start_time": "2022-07-04T07:50:59.379Z"
   },
   {
    "duration": 9,
    "start_time": "2022-07-04T07:50:59.415Z"
   },
   {
    "duration": 21,
    "start_time": "2022-07-04T07:50:59.426Z"
   },
   {
    "duration": 38,
    "start_time": "2022-07-04T07:50:59.448Z"
   },
   {
    "duration": 49,
    "start_time": "2022-07-04T07:50:59.489Z"
   },
   {
    "duration": 35,
    "start_time": "2022-07-04T07:50:59.541Z"
   },
   {
    "duration": 64,
    "start_time": "2022-07-04T07:50:59.578Z"
   },
   {
    "duration": 41,
    "start_time": "2022-07-04T07:50:59.644Z"
   },
   {
    "duration": 60,
    "start_time": "2022-07-04T07:50:59.686Z"
   },
   {
    "duration": 640,
    "start_time": "2022-07-04T07:50:59.748Z"
   },
   {
    "duration": 2621,
    "start_time": "2022-07-04T07:51:00.390Z"
   },
   {
    "duration": 17,
    "start_time": "2022-07-04T07:51:03.013Z"
   },
   {
    "duration": 11,
    "start_time": "2022-07-04T07:51:03.032Z"
   },
   {
    "duration": 18,
    "start_time": "2022-07-04T07:51:03.044Z"
   },
   {
    "duration": 22,
    "start_time": "2022-07-04T07:51:03.064Z"
   },
   {
    "duration": 139,
    "start_time": "2022-07-04T07:51:03.088Z"
   },
   {
    "duration": 199,
    "start_time": "2022-07-04T07:51:03.229Z"
   },
   {
    "duration": 197,
    "start_time": "2022-07-04T07:51:03.430Z"
   },
   {
    "duration": 197,
    "start_time": "2022-07-04T07:51:03.630Z"
   },
   {
    "duration": 197,
    "start_time": "2022-07-04T07:51:03.830Z"
   },
   {
    "duration": 197,
    "start_time": "2022-07-04T07:51:04.031Z"
   },
   {
    "duration": 3,
    "start_time": "2022-07-04T07:51:04.230Z"
   },
   {
    "duration": 94,
    "start_time": "2022-07-04T07:51:04.238Z"
   },
   {
    "duration": 7,
    "start_time": "2022-07-04T07:51:04.334Z"
   },
   {
    "duration": 7,
    "start_time": "2022-07-04T07:51:04.342Z"
   },
   {
    "duration": 10,
    "start_time": "2022-07-04T07:51:04.350Z"
   },
   {
    "duration": 5,
    "start_time": "2022-07-04T07:51:04.361Z"
   },
   {
    "duration": 6,
    "start_time": "2022-07-04T07:51:04.368Z"
   },
   {
    "duration": 50,
    "start_time": "2022-07-04T07:51:04.376Z"
   },
   {
    "duration": 116,
    "start_time": "2022-07-04T07:51:04.430Z"
   },
   {
    "duration": 30,
    "start_time": "2022-07-04T07:51:04.548Z"
   },
   {
    "duration": 10,
    "start_time": "2022-07-04T07:51:04.581Z"
   },
   {
    "duration": 36,
    "start_time": "2022-07-04T07:51:04.593Z"
   },
   {
    "duration": 118,
    "start_time": "2022-07-04T07:51:04.632Z"
   },
   {
    "duration": 76,
    "start_time": "2022-07-04T07:51:04.751Z"
   },
   {
    "duration": 4,
    "start_time": "2022-07-04T07:51:04.829Z"
   },
   {
    "duration": 12,
    "start_time": "2022-07-04T07:51:04.835Z"
   },
   {
    "duration": 196,
    "start_time": "2022-07-04T07:51:04.849Z"
   },
   {
    "duration": 18,
    "start_time": "2022-07-04T07:51:05.047Z"
   },
   {
    "duration": 3,
    "start_time": "2022-07-04T07:51:05.067Z"
   },
   {
    "duration": 16,
    "start_time": "2022-07-04T07:51:05.072Z"
   },
   {
    "duration": 12,
    "start_time": "2022-07-04T07:51:05.089Z"
   },
   {
    "duration": 23,
    "start_time": "2022-07-04T07:51:05.103Z"
   },
   {
    "duration": 1267,
    "start_time": "2022-07-04T07:51:05.129Z"
   },
   {
    "duration": 4,
    "start_time": "2022-07-04T07:51:06.398Z"
   },
   {
    "duration": 116,
    "start_time": "2022-07-04T07:51:06.404Z"
   },
   {
    "duration": 0,
    "start_time": "2022-07-04T07:51:06.526Z"
   },
   {
    "duration": 0,
    "start_time": "2022-07-04T07:51:06.528Z"
   },
   {
    "duration": 0,
    "start_time": "2022-07-04T07:51:06.529Z"
   },
   {
    "duration": 0,
    "start_time": "2022-07-04T07:51:06.530Z"
   },
   {
    "duration": 0,
    "start_time": "2022-07-04T07:51:06.531Z"
   },
   {
    "duration": 0,
    "start_time": "2022-07-04T07:51:06.533Z"
   },
   {
    "duration": 0,
    "start_time": "2022-07-04T07:51:06.534Z"
   },
   {
    "duration": 0,
    "start_time": "2022-07-04T07:51:06.535Z"
   },
   {
    "duration": 0,
    "start_time": "2022-07-04T07:51:06.537Z"
   },
   {
    "duration": 0,
    "start_time": "2022-07-04T07:51:06.538Z"
   },
   {
    "duration": 0,
    "start_time": "2022-07-04T07:51:06.540Z"
   },
   {
    "duration": 0,
    "start_time": "2022-07-04T07:51:06.541Z"
   },
   {
    "duration": 0,
    "start_time": "2022-07-04T07:51:06.542Z"
   },
   {
    "duration": 0,
    "start_time": "2022-07-04T07:51:06.543Z"
   },
   {
    "duration": 0,
    "start_time": "2022-07-04T07:51:06.545Z"
   },
   {
    "duration": 0,
    "start_time": "2022-07-04T07:51:06.546Z"
   },
   {
    "duration": 0,
    "start_time": "2022-07-04T07:51:06.547Z"
   },
   {
    "duration": 0,
    "start_time": "2022-07-04T07:51:06.548Z"
   },
   {
    "duration": 0,
    "start_time": "2022-07-04T07:51:06.550Z"
   },
   {
    "duration": 1470,
    "start_time": "2022-07-04T07:51:34.224Z"
   },
   {
    "duration": 376,
    "start_time": "2022-07-04T07:51:35.696Z"
   },
   {
    "duration": 16,
    "start_time": "2022-07-04T07:51:36.074Z"
   },
   {
    "duration": 24,
    "start_time": "2022-07-04T07:51:36.092Z"
   },
   {
    "duration": 12,
    "start_time": "2022-07-04T07:51:36.118Z"
   },
   {
    "duration": 20,
    "start_time": "2022-07-04T07:51:36.131Z"
   },
   {
    "duration": 10,
    "start_time": "2022-07-04T07:51:36.153Z"
   },
   {
    "duration": 16,
    "start_time": "2022-07-04T07:51:36.165Z"
   },
   {
    "duration": 63,
    "start_time": "2022-07-04T07:51:36.183Z"
   },
   {
    "duration": 40,
    "start_time": "2022-07-04T07:51:36.248Z"
   },
   {
    "duration": 55,
    "start_time": "2022-07-04T07:51:36.290Z"
   },
   {
    "duration": 46,
    "start_time": "2022-07-04T07:51:36.347Z"
   },
   {
    "duration": 60,
    "start_time": "2022-07-04T07:51:36.395Z"
   },
   {
    "duration": 50,
    "start_time": "2022-07-04T07:51:36.457Z"
   },
   {
    "duration": 633,
    "start_time": "2022-07-04T07:51:36.509Z"
   },
   {
    "duration": 2462,
    "start_time": "2022-07-04T07:51:37.143Z"
   },
   {
    "duration": 19,
    "start_time": "2022-07-04T07:51:39.607Z"
   },
   {
    "duration": 8,
    "start_time": "2022-07-04T07:51:39.628Z"
   },
   {
    "duration": 9,
    "start_time": "2022-07-04T07:51:39.638Z"
   },
   {
    "duration": 8,
    "start_time": "2022-07-04T07:51:39.649Z"
   },
   {
    "duration": 75,
    "start_time": "2022-07-04T07:51:39.659Z"
   },
   {
    "duration": 196,
    "start_time": "2022-07-04T07:51:39.736Z"
   },
   {
    "duration": 182,
    "start_time": "2022-07-04T07:51:39.944Z"
   },
   {
    "duration": 127,
    "start_time": "2022-07-04T07:51:40.129Z"
   },
   {
    "duration": 201,
    "start_time": "2022-07-04T07:51:40.327Z"
   },
   {
    "duration": 195,
    "start_time": "2022-07-04T07:51:40.531Z"
   },
   {
    "duration": 96,
    "start_time": "2022-07-04T07:51:40.730Z"
   },
   {
    "duration": 2,
    "start_time": "2022-07-04T07:51:40.831Z"
   },
   {
    "duration": 11,
    "start_time": "2022-07-04T07:51:40.835Z"
   },
   {
    "duration": 7,
    "start_time": "2022-07-04T07:51:40.847Z"
   },
   {
    "duration": 6,
    "start_time": "2022-07-04T07:51:40.855Z"
   },
   {
    "duration": 5,
    "start_time": "2022-07-04T07:51:40.863Z"
   },
   {
    "duration": 12,
    "start_time": "2022-07-04T07:51:40.870Z"
   },
   {
    "duration": 46,
    "start_time": "2022-07-04T07:51:40.884Z"
   },
   {
    "duration": 102,
    "start_time": "2022-07-04T07:51:40.934Z"
   },
   {
    "duration": 20,
    "start_time": "2022-07-04T07:51:41.038Z"
   },
   {
    "duration": 6,
    "start_time": "2022-07-04T07:51:41.059Z"
   },
   {
    "duration": 60,
    "start_time": "2022-07-04T07:51:41.067Z"
   },
   {
    "duration": 197,
    "start_time": "2022-07-04T07:51:41.130Z"
   },
   {
    "duration": 14,
    "start_time": "2022-07-04T07:51:41.329Z"
   },
   {
    "duration": 4,
    "start_time": "2022-07-04T07:51:41.345Z"
   },
   {
    "duration": 9,
    "start_time": "2022-07-04T07:51:41.351Z"
   },
   {
    "duration": 185,
    "start_time": "2022-07-04T07:51:41.362Z"
   },
   {
    "duration": 21,
    "start_time": "2022-07-04T07:51:41.549Z"
   },
   {
    "duration": 4,
    "start_time": "2022-07-04T07:51:41.572Z"
   },
   {
    "duration": 11,
    "start_time": "2022-07-04T07:51:41.577Z"
   },
   {
    "duration": 6,
    "start_time": "2022-07-04T07:51:41.591Z"
   },
   {
    "duration": 28,
    "start_time": "2022-07-04T07:51:41.598Z"
   },
   {
    "duration": 1280,
    "start_time": "2022-07-04T07:51:41.633Z"
   },
   {
    "duration": 5,
    "start_time": "2022-07-04T07:51:42.914Z"
   },
   {
    "duration": 8,
    "start_time": "2022-07-04T07:51:42.921Z"
   },
   {
    "duration": 11,
    "start_time": "2022-07-04T07:51:42.931Z"
   },
   {
    "duration": 10,
    "start_time": "2022-07-04T07:51:42.943Z"
   },
   {
    "duration": 7,
    "start_time": "2022-07-04T07:51:42.955Z"
   },
   {
    "duration": 4,
    "start_time": "2022-07-04T07:51:42.964Z"
   },
   {
    "duration": 9,
    "start_time": "2022-07-04T07:51:42.970Z"
   },
   {
    "duration": 45,
    "start_time": "2022-07-04T07:51:42.981Z"
   },
   {
    "duration": 1189,
    "start_time": "2022-07-04T07:51:43.029Z"
   },
   {
    "duration": 7,
    "start_time": "2022-07-04T07:51:44.219Z"
   },
   {
    "duration": 6,
    "start_time": "2022-07-04T07:51:44.227Z"
   },
   {
    "duration": 12,
    "start_time": "2022-07-04T07:51:44.234Z"
   },
   {
    "duration": 13,
    "start_time": "2022-07-04T07:51:44.248Z"
   },
   {
    "duration": 9,
    "start_time": "2022-07-04T07:51:44.263Z"
   },
   {
    "duration": 21,
    "start_time": "2022-07-04T07:51:44.274Z"
   },
   {
    "duration": 1355,
    "start_time": "2022-07-04T07:51:44.298Z"
   },
   {
    "duration": 5,
    "start_time": "2022-07-04T07:51:45.655Z"
   },
   {
    "duration": 7,
    "start_time": "2022-07-04T07:51:45.662Z"
   },
   {
    "duration": 8,
    "start_time": "2022-07-04T07:51:45.671Z"
   },
   {
    "duration": 5,
    "start_time": "2022-07-04T07:51:45.682Z"
   },
   {
    "duration": 209,
    "start_time": "2022-07-04T07:51:45.689Z"
   },
   {
    "duration": 1879,
    "start_time": "2022-07-04T17:26:27.168Z"
   },
   {
    "duration": 718,
    "start_time": "2022-07-04T17:26:29.049Z"
   },
   {
    "duration": 17,
    "start_time": "2022-07-04T17:26:29.770Z"
   },
   {
    "duration": 26,
    "start_time": "2022-07-04T17:26:29.790Z"
   },
   {
    "duration": 11,
    "start_time": "2022-07-04T17:26:29.818Z"
   },
   {
    "duration": 16,
    "start_time": "2022-07-04T17:26:29.831Z"
   },
   {
    "duration": 10,
    "start_time": "2022-07-04T17:26:29.849Z"
   },
   {
    "duration": 22,
    "start_time": "2022-07-04T17:26:29.861Z"
   },
   {
    "duration": 62,
    "start_time": "2022-07-04T17:26:29.885Z"
   },
   {
    "duration": 37,
    "start_time": "2022-07-04T17:26:29.949Z"
   },
   {
    "duration": 52,
    "start_time": "2022-07-04T17:26:29.987Z"
   },
   {
    "duration": 50,
    "start_time": "2022-07-04T17:26:30.041Z"
   },
   {
    "duration": 68,
    "start_time": "2022-07-04T17:26:30.092Z"
   },
   {
    "duration": 62,
    "start_time": "2022-07-04T17:26:30.162Z"
   },
   {
    "duration": 683,
    "start_time": "2022-07-04T17:26:30.226Z"
   },
   {
    "duration": 2468,
    "start_time": "2022-07-04T17:26:30.911Z"
   },
   {
    "duration": 12,
    "start_time": "2022-07-04T17:26:33.380Z"
   },
   {
    "duration": 5,
    "start_time": "2022-07-04T17:26:33.394Z"
   },
   {
    "duration": 10,
    "start_time": "2022-07-04T17:26:33.400Z"
   },
   {
    "duration": 14,
    "start_time": "2022-07-04T17:26:33.411Z"
   },
   {
    "duration": 199,
    "start_time": "2022-07-04T17:26:33.427Z"
   },
   {
    "duration": 112,
    "start_time": "2022-07-04T17:26:33.628Z"
   },
   {
    "duration": 200,
    "start_time": "2022-07-04T17:26:33.742Z"
   },
   {
    "duration": 199,
    "start_time": "2022-07-04T17:26:33.944Z"
   },
   {
    "duration": 196,
    "start_time": "2022-07-04T17:26:34.146Z"
   },
   {
    "duration": 200,
    "start_time": "2022-07-04T17:26:34.343Z"
   },
   {
    "duration": 79,
    "start_time": "2022-07-04T17:26:34.545Z"
   },
   {
    "duration": 96,
    "start_time": "2022-07-04T17:26:34.632Z"
   },
   {
    "duration": 10,
    "start_time": "2022-07-04T17:26:34.730Z"
   },
   {
    "duration": 6,
    "start_time": "2022-07-04T17:26:34.741Z"
   },
   {
    "duration": 5,
    "start_time": "2022-07-04T17:26:34.749Z"
   },
   {
    "duration": 4,
    "start_time": "2022-07-04T17:26:34.756Z"
   },
   {
    "duration": 11,
    "start_time": "2022-07-04T17:26:34.761Z"
   },
   {
    "duration": 13,
    "start_time": "2022-07-04T17:26:34.773Z"
   },
   {
    "duration": 109,
    "start_time": "2022-07-04T17:26:34.823Z"
   },
   {
    "duration": 20,
    "start_time": "2022-07-04T17:26:34.933Z"
   },
   {
    "duration": 5,
    "start_time": "2022-07-04T17:26:34.955Z"
   },
   {
    "duration": 9,
    "start_time": "2022-07-04T17:26:34.961Z"
   },
   {
    "duration": 119,
    "start_time": "2022-07-04T17:26:35.024Z"
   },
   {
    "duration": 13,
    "start_time": "2022-07-04T17:26:35.145Z"
   },
   {
    "duration": 4,
    "start_time": "2022-07-04T17:26:35.160Z"
   },
   {
    "duration": 10,
    "start_time": "2022-07-04T17:26:35.166Z"
   },
   {
    "duration": 107,
    "start_time": "2022-07-04T17:26:35.225Z"
   },
   {
    "duration": 21,
    "start_time": "2022-07-04T17:26:35.333Z"
   },
   {
    "duration": 2,
    "start_time": "2022-07-04T17:26:35.359Z"
   },
   {
    "duration": 8,
    "start_time": "2022-07-04T17:26:35.363Z"
   },
   {
    "duration": 5,
    "start_time": "2022-07-04T17:26:35.372Z"
   },
   {
    "duration": 44,
    "start_time": "2022-07-04T17:26:35.379Z"
   },
   {
    "duration": 1197,
    "start_time": "2022-07-04T17:26:35.426Z"
   },
   {
    "duration": 4,
    "start_time": "2022-07-04T17:26:36.625Z"
   },
   {
    "duration": 13,
    "start_time": "2022-07-04T17:26:36.631Z"
   },
   {
    "duration": 9,
    "start_time": "2022-07-04T17:26:36.645Z"
   },
   {
    "duration": 10,
    "start_time": "2022-07-04T17:26:36.655Z"
   },
   {
    "duration": 12,
    "start_time": "2022-07-04T17:26:36.666Z"
   },
   {
    "duration": 10,
    "start_time": "2022-07-04T17:26:36.680Z"
   },
   {
    "duration": 10,
    "start_time": "2022-07-04T17:26:36.692Z"
   },
   {
    "duration": 19,
    "start_time": "2022-07-04T17:26:36.704Z"
   },
   {
    "duration": 1266,
    "start_time": "2022-07-04T17:26:36.726Z"
   },
   {
    "duration": 3,
    "start_time": "2022-07-04T17:26:37.994Z"
   },
   {
    "duration": 7,
    "start_time": "2022-07-04T17:26:37.999Z"
   },
   {
    "duration": 17,
    "start_time": "2022-07-04T17:26:38.007Z"
   },
   {
    "duration": 5,
    "start_time": "2022-07-04T17:26:38.025Z"
   },
   {
    "duration": 4,
    "start_time": "2022-07-04T17:26:38.032Z"
   },
   {
    "duration": 15,
    "start_time": "2022-07-04T17:26:38.037Z"
   },
   {
    "duration": 1305,
    "start_time": "2022-07-04T17:26:38.054Z"
   },
   {
    "duration": 4,
    "start_time": "2022-07-04T17:26:39.361Z"
   },
   {
    "duration": 9,
    "start_time": "2022-07-04T17:26:39.366Z"
   },
   {
    "duration": 9,
    "start_time": "2022-07-04T17:26:39.377Z"
   },
   {
    "duration": 5,
    "start_time": "2022-07-04T17:26:39.388Z"
   },
   {
    "duration": 185,
    "start_time": "2022-07-04T17:26:39.394Z"
   },
   {
    "duration": 7,
    "start_time": "2022-07-04T17:55:00.016Z"
   },
   {
    "duration": 1551,
    "start_time": "2022-07-04T20:45:48.816Z"
   },
   {
    "duration": 703,
    "start_time": "2022-07-04T20:45:50.370Z"
   },
   {
    "duration": 15,
    "start_time": "2022-07-04T20:45:51.077Z"
   },
   {
    "duration": 15,
    "start_time": "2022-07-04T20:45:51.095Z"
   },
   {
    "duration": 11,
    "start_time": "2022-07-04T20:45:51.122Z"
   },
   {
    "duration": 18,
    "start_time": "2022-07-04T20:45:51.134Z"
   },
   {
    "duration": 9,
    "start_time": "2022-07-04T20:45:51.154Z"
   },
   {
    "duration": 16,
    "start_time": "2022-07-04T20:45:51.165Z"
   },
   {
    "duration": 61,
    "start_time": "2022-07-04T20:45:51.184Z"
   },
   {
    "duration": 36,
    "start_time": "2022-07-04T20:45:51.247Z"
   },
   {
    "duration": 54,
    "start_time": "2022-07-04T20:45:51.284Z"
   },
   {
    "duration": 46,
    "start_time": "2022-07-04T20:45:51.340Z"
   },
   {
    "duration": 57,
    "start_time": "2022-07-04T20:45:51.387Z"
   },
   {
    "duration": 43,
    "start_time": "2022-07-04T20:45:51.445Z"
   },
   {
    "duration": 668,
    "start_time": "2022-07-04T20:45:51.490Z"
   },
   {
    "duration": 2400,
    "start_time": "2022-07-04T20:45:52.159Z"
   },
   {
    "duration": 16,
    "start_time": "2022-07-04T20:45:54.562Z"
   },
   {
    "duration": 7,
    "start_time": "2022-07-04T20:45:54.579Z"
   },
   {
    "duration": 7,
    "start_time": "2022-07-04T20:45:54.588Z"
   },
   {
    "duration": 7,
    "start_time": "2022-07-04T20:45:54.597Z"
   },
   {
    "duration": 119,
    "start_time": "2022-07-04T20:45:54.605Z"
   },
   {
    "duration": 197,
    "start_time": "2022-07-04T20:45:54.727Z"
   },
   {
    "duration": 198,
    "start_time": "2022-07-04T20:45:54.926Z"
   },
   {
    "duration": 198,
    "start_time": "2022-07-04T20:45:55.126Z"
   },
   {
    "duration": 128,
    "start_time": "2022-07-04T20:45:55.329Z"
   },
   {
    "duration": 125,
    "start_time": "2022-07-04T20:45:55.529Z"
   },
   {
    "duration": 3,
    "start_time": "2022-07-04T20:45:55.729Z"
   },
   {
    "duration": 6,
    "start_time": "2022-07-04T20:45:55.823Z"
   },
   {
    "duration": 6,
    "start_time": "2022-07-04T20:45:55.831Z"
   },
   {
    "duration": 5,
    "start_time": "2022-07-04T20:45:55.838Z"
   },
   {
    "duration": 8,
    "start_time": "2022-07-04T20:45:55.845Z"
   },
   {
    "duration": 5,
    "start_time": "2022-07-04T20:45:55.854Z"
   },
   {
    "duration": 8,
    "start_time": "2022-07-04T20:45:55.860Z"
   },
   {
    "duration": 12,
    "start_time": "2022-07-04T20:45:55.869Z"
   },
   {
    "duration": 116,
    "start_time": "2022-07-04T20:45:55.926Z"
   },
   {
    "duration": 20,
    "start_time": "2022-07-04T20:45:56.044Z"
   },
   {
    "duration": 6,
    "start_time": "2022-07-04T20:45:56.066Z"
   },
   {
    "duration": 10,
    "start_time": "2022-07-04T20:45:56.073Z"
   },
   {
    "duration": 115,
    "start_time": "2022-07-04T20:45:56.125Z"
   },
   {
    "duration": 13,
    "start_time": "2022-07-04T20:45:56.242Z"
   },
   {
    "duration": 4,
    "start_time": "2022-07-04T20:45:56.257Z"
   },
   {
    "duration": 8,
    "start_time": "2022-07-04T20:45:56.262Z"
   },
   {
    "duration": 158,
    "start_time": "2022-07-04T20:45:56.272Z"
   },
   {
    "duration": 18,
    "start_time": "2022-07-04T20:45:56.432Z"
   },
   {
    "duration": 8,
    "start_time": "2022-07-04T20:45:56.451Z"
   },
   {
    "duration": 17,
    "start_time": "2022-07-04T20:45:56.460Z"
   },
   {
    "duration": 9,
    "start_time": "2022-07-04T20:45:56.479Z"
   },
   {
    "duration": 33,
    "start_time": "2022-07-04T20:45:56.490Z"
   },
   {
    "duration": 98,
    "start_time": "2022-07-04T20:45:56.529Z"
   },
   {
    "duration": 910,
    "start_time": "2022-07-04T20:45:56.629Z"
   },
   {
    "duration": 4,
    "start_time": "2022-07-04T20:45:57.541Z"
   },
   {
    "duration": 105,
    "start_time": "2022-07-04T20:45:57.547Z"
   },
   {
    "duration": 0,
    "start_time": "2022-07-04T20:45:57.655Z"
   },
   {
    "duration": 0,
    "start_time": "2022-07-04T20:45:57.656Z"
   },
   {
    "duration": 0,
    "start_time": "2022-07-04T20:45:57.656Z"
   },
   {
    "duration": 0,
    "start_time": "2022-07-04T20:45:57.657Z"
   },
   {
    "duration": 0,
    "start_time": "2022-07-04T20:45:57.657Z"
   },
   {
    "duration": 0,
    "start_time": "2022-07-04T20:45:57.658Z"
   },
   {
    "duration": 0,
    "start_time": "2022-07-04T20:45:57.659Z"
   },
   {
    "duration": 0,
    "start_time": "2022-07-04T20:45:57.659Z"
   },
   {
    "duration": 0,
    "start_time": "2022-07-04T20:45:57.660Z"
   },
   {
    "duration": 0,
    "start_time": "2022-07-04T20:45:57.662Z"
   },
   {
    "duration": 0,
    "start_time": "2022-07-04T20:45:57.663Z"
   },
   {
    "duration": 0,
    "start_time": "2022-07-04T20:45:57.664Z"
   },
   {
    "duration": 0,
    "start_time": "2022-07-04T20:45:57.667Z"
   },
   {
    "duration": 0,
    "start_time": "2022-07-04T20:45:57.668Z"
   },
   {
    "duration": 0,
    "start_time": "2022-07-04T20:45:57.669Z"
   },
   {
    "duration": 0,
    "start_time": "2022-07-04T20:45:57.670Z"
   },
   {
    "duration": 0,
    "start_time": "2022-07-04T20:45:57.672Z"
   },
   {
    "duration": 0,
    "start_time": "2022-07-04T20:45:57.673Z"
   },
   {
    "duration": 0,
    "start_time": "2022-07-04T20:45:57.674Z"
   },
   {
    "duration": 5,
    "start_time": "2022-07-04T20:46:19.780Z"
   },
   {
    "duration": 1360,
    "start_time": "2022-07-04T20:46:27.434Z"
   },
   {
    "duration": 345,
    "start_time": "2022-07-04T20:46:28.796Z"
   },
   {
    "duration": 13,
    "start_time": "2022-07-04T20:46:29.143Z"
   },
   {
    "duration": 15,
    "start_time": "2022-07-04T20:46:29.158Z"
   },
   {
    "duration": 9,
    "start_time": "2022-07-04T20:46:29.175Z"
   },
   {
    "duration": 14,
    "start_time": "2022-07-04T20:46:29.186Z"
   },
   {
    "duration": 10,
    "start_time": "2022-07-04T20:46:29.222Z"
   },
   {
    "duration": 21,
    "start_time": "2022-07-04T20:46:29.234Z"
   },
   {
    "duration": 35,
    "start_time": "2022-07-04T20:46:29.257Z"
   },
   {
    "duration": 53,
    "start_time": "2022-07-04T20:46:29.295Z"
   },
   {
    "duration": 33,
    "start_time": "2022-07-04T20:46:29.350Z"
   },
   {
    "duration": 60,
    "start_time": "2022-07-04T20:46:29.384Z"
   },
   {
    "duration": 42,
    "start_time": "2022-07-04T20:46:29.445Z"
   },
   {
    "duration": 59,
    "start_time": "2022-07-04T20:46:29.489Z"
   },
   {
    "duration": 601,
    "start_time": "2022-07-04T20:46:29.549Z"
   },
   {
    "duration": 2363,
    "start_time": "2022-07-04T20:46:30.151Z"
   },
   {
    "duration": 15,
    "start_time": "2022-07-04T20:46:32.515Z"
   },
   {
    "duration": 6,
    "start_time": "2022-07-04T20:46:32.532Z"
   },
   {
    "duration": 10,
    "start_time": "2022-07-04T20:46:32.540Z"
   },
   {
    "duration": 9,
    "start_time": "2022-07-04T20:46:32.551Z"
   },
   {
    "duration": 62,
    "start_time": "2022-07-04T20:46:32.562Z"
   },
   {
    "duration": 200,
    "start_time": "2022-07-04T20:46:32.625Z"
   },
   {
    "duration": 198,
    "start_time": "2022-07-04T20:46:32.826Z"
   },
   {
    "duration": 199,
    "start_time": "2022-07-04T20:46:33.027Z"
   },
   {
    "duration": 128,
    "start_time": "2022-07-04T20:46:33.231Z"
   },
   {
    "duration": 202,
    "start_time": "2022-07-04T20:46:33.424Z"
   },
   {
    "duration": 3,
    "start_time": "2022-07-04T20:46:33.722Z"
   },
   {
    "duration": 3,
    "start_time": "2022-07-04T20:46:33.728Z"
   },
   {
    "duration": 5,
    "start_time": "2022-07-04T20:46:33.733Z"
   },
   {
    "duration": 8,
    "start_time": "2022-07-04T20:46:33.739Z"
   },
   {
    "duration": 8,
    "start_time": "2022-07-04T20:46:33.749Z"
   },
   {
    "duration": 14,
    "start_time": "2022-07-04T20:46:33.759Z"
   },
   {
    "duration": 16,
    "start_time": "2022-07-04T20:46:33.775Z"
   },
   {
    "duration": 30,
    "start_time": "2022-07-04T20:46:33.793Z"
   },
   {
    "duration": 198,
    "start_time": "2022-07-04T20:46:33.825Z"
   },
   {
    "duration": 21,
    "start_time": "2022-07-04T20:46:34.025Z"
   },
   {
    "duration": 6,
    "start_time": "2022-07-04T20:46:34.048Z"
   },
   {
    "duration": 9,
    "start_time": "2022-07-04T20:46:34.055Z"
   },
   {
    "duration": 166,
    "start_time": "2022-07-04T20:46:34.066Z"
   },
   {
    "duration": 12,
    "start_time": "2022-07-04T20:46:34.234Z"
   },
   {
    "duration": 4,
    "start_time": "2022-07-04T20:46:34.248Z"
   },
   {
    "duration": 9,
    "start_time": "2022-07-04T20:46:34.253Z"
   },
   {
    "duration": 175,
    "start_time": "2022-07-04T20:46:34.264Z"
   },
   {
    "duration": 20,
    "start_time": "2022-07-04T20:46:34.442Z"
   },
   {
    "duration": 3,
    "start_time": "2022-07-04T20:46:34.464Z"
   },
   {
    "duration": 20,
    "start_time": "2022-07-04T20:46:34.469Z"
   },
   {
    "duration": 9,
    "start_time": "2022-07-04T20:46:34.492Z"
   },
   {
    "duration": 27,
    "start_time": "2022-07-04T20:46:34.503Z"
   },
   {
    "duration": 94,
    "start_time": "2022-07-04T20:46:34.532Z"
   },
   {
    "duration": 978,
    "start_time": "2022-07-04T20:46:34.629Z"
   },
   {
    "duration": 4,
    "start_time": "2022-07-04T20:46:35.608Z"
   },
   {
    "duration": 4,
    "start_time": "2022-07-04T20:46:35.622Z"
   },
   {
    "duration": 16,
    "start_time": "2022-07-04T20:46:35.628Z"
   },
   {
    "duration": 8,
    "start_time": "2022-07-04T20:46:35.645Z"
   },
   {
    "duration": 10,
    "start_time": "2022-07-04T20:46:35.654Z"
   },
   {
    "duration": 8,
    "start_time": "2022-07-04T20:46:35.666Z"
   },
   {
    "duration": 8,
    "start_time": "2022-07-04T20:46:35.676Z"
   },
   {
    "duration": 14,
    "start_time": "2022-07-04T20:46:35.685Z"
   },
   {
    "duration": 997,
    "start_time": "2022-07-04T20:46:35.722Z"
   },
   {
    "duration": 4,
    "start_time": "2022-07-04T20:46:36.721Z"
   },
   {
    "duration": 10,
    "start_time": "2022-07-04T20:46:36.726Z"
   },
   {
    "duration": 9,
    "start_time": "2022-07-04T20:46:36.737Z"
   },
   {
    "duration": 8,
    "start_time": "2022-07-04T20:46:36.747Z"
   },
   {
    "duration": 5,
    "start_time": "2022-07-04T20:46:36.757Z"
   },
   {
    "duration": 21,
    "start_time": "2022-07-04T20:46:36.763Z"
   },
   {
    "duration": 1030,
    "start_time": "2022-07-04T20:46:36.787Z"
   },
   {
    "duration": 5,
    "start_time": "2022-07-04T20:46:37.819Z"
   },
   {
    "duration": 10,
    "start_time": "2022-07-04T20:46:37.825Z"
   },
   {
    "duration": 19,
    "start_time": "2022-07-04T20:46:37.836Z"
   },
   {
    "duration": 25,
    "start_time": "2022-07-04T20:46:37.856Z"
   },
   {
    "duration": 172,
    "start_time": "2022-07-04T20:46:37.882Z"
   },
   {
    "duration": 51,
    "start_time": "2022-07-04T20:51:14.535Z"
   },
   {
    "duration": 2325,
    "start_time": "2022-08-06T21:02:01.418Z"
   },
   {
    "duration": 1042,
    "start_time": "2022-08-06T21:02:06.087Z"
   },
   {
    "duration": 14,
    "start_time": "2022-08-06T21:02:07.131Z"
   },
   {
    "duration": 38,
    "start_time": "2022-08-06T21:02:07.760Z"
   },
   {
    "duration": 9,
    "start_time": "2022-08-06T21:02:08.413Z"
   },
   {
    "duration": 14,
    "start_time": "2022-08-06T21:02:14.410Z"
   },
   {
    "duration": 15,
    "start_time": "2022-08-06T21:02:14.743Z"
   },
   {
    "duration": 254,
    "start_time": "2022-08-06T21:02:29.245Z"
   },
   {
    "duration": 9,
    "start_time": "2022-08-06T21:02:36.107Z"
   },
   {
    "duration": 9,
    "start_time": "2022-08-06T21:02:46.695Z"
   },
   {
    "duration": 49,
    "start_time": "2022-08-06T21:02:51.311Z"
   },
   {
    "duration": 8,
    "start_time": "2022-08-06T21:02:54.698Z"
   }
  ],
  "kernelspec": {
   "display_name": "Python 3",
   "language": "python",
   "name": "python3"
  },
  "language_info": {
   "codemirror_mode": {
    "name": "ipython",
    "version": 3
   },
   "file_extension": ".py",
   "mimetype": "text/x-python",
   "name": "python",
   "nbconvert_exporter": "python",
   "pygments_lexer": "ipython3",
   "version": "3.8.8"
  },
  "toc": {
   "base_numbering": 1,
   "nav_menu": {},
   "number_sections": true,
   "sideBar": true,
   "skip_h1_title": true,
   "title_cell": "Table of Contents",
   "title_sidebar": "Contents",
   "toc_cell": false,
   "toc_position": {},
   "toc_section_display": true,
   "toc_window_display": false
  }
 },
 "nbformat": 4,
 "nbformat_minor": 2
}
