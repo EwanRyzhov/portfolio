{
 "cells": [
  {
   "cell_type": "markdown",
   "metadata": {},
   "source": [
    "# Восстановление золота из руды"
   ]
  },
  {
   "cell_type": "markdown",
   "metadata": {},
   "source": [
    "Компания «Цифры» разрабатывает решения для эффективной работы промышленных предприятий. Необходимо подготовить модель, которая должна предсказать коэффициент восстановления золота из золотосодержащей руды. В нашем распоряжении имеются данные с параметрами добычи и очистки. \n",
    "\n",
    "Модель поможет оптимизировать производство, чтобы не запускать предприятие с убыточными характеристиками.\n",
    "\n",
    "Порядок работы:\n",
    "\n",
    "1. Подготовка данных;\n",
    "2. Исследовательский анализ данных;\n",
    "3. Построение и обучение модели."
   ]
  },
  {
   "cell_type": "markdown",
   "metadata": {},
   "source": [
    "## Подготовка данных"
   ]
  },
  {
   "cell_type": "markdown",
   "metadata": {},
   "source": [
    "### Импорт библиотек"
   ]
  },
  {
   "cell_type": "markdown",
   "metadata": {},
   "source": [
    "Перед подготовкой данных импортируем необходимые библиотеки и модули:"
   ]
  },
  {
   "cell_type": "code",
   "execution_count": 1,
   "metadata": {},
   "outputs": [],
   "source": [
    "import pandas as pd\n",
    "import seaborn as sns\n",
    "import matplotlib.pyplot as plt\n",
    "import numpy as np\n",
    "\n",
    "from sklearn.tree import  DecisionTreeRegressor\n",
    "from sklearn.linear_model import LinearRegression\n",
    "from sklearn.ensemble import RandomForestRegressor\n",
    "from sklearn.dummy import DummyRegressor\n",
    "\n",
    "from sklearn.metrics import r2_score\n",
    "from sklearn.metrics import mean_absolute_error\n",
    "from sklearn.metrics import make_scorer\n",
    "\n",
    "\n",
    "from sklearn.model_selection import train_test_split\n",
    "from sklearn.model_selection import cross_val_score\n",
    "from sklearn.model_selection import GridSearchCV\n",
    "\n",
    "from sklearn.preprocessing import scale"
   ]
  },
  {
   "cell_type": "markdown",
   "metadata": {},
   "source": [
    "Сохраним исходные датасеты в соответствующих датасетах:"
   ]
  },
  {
   "cell_type": "code",
   "execution_count": 2,
   "metadata": {},
   "outputs": [],
   "source": [
    "train_data = pd.read_csv('/datasets/gold_recovery_train_new.csv') # обучающая выборка"
   ]
  },
  {
   "cell_type": "code",
   "execution_count": 3,
   "metadata": {},
   "outputs": [],
   "source": [
    "test_data = pd.read_csv('/datasets/gold_recovery_test_new.csv')   # тестовая выборка"
   ]
  },
  {
   "cell_type": "code",
   "execution_count": 4,
   "metadata": {},
   "outputs": [],
   "source": [
    "full_data = pd.read_csv('/datasets/gold_recovery_full_new.csv')   # исходные данные"
   ]
  },
  {
   "cell_type": "markdown",
   "metadata": {},
   "source": [
    "После загрузки датасетов, посмотрим первые строчки каждого датасета и агрегированные данные по ним."
   ]
  },
  {
   "cell_type": "markdown",
   "metadata": {},
   "source": [
    "### Обучающая выборка"
   ]
  },
  {
   "cell_type": "code",
   "execution_count": 5,
   "metadata": {},
   "outputs": [
    {
     "data": {
      "text/html": [
       "<div>\n",
       "<style scoped>\n",
       "    .dataframe tbody tr th:only-of-type {\n",
       "        vertical-align: middle;\n",
       "    }\n",
       "\n",
       "    .dataframe tbody tr th {\n",
       "        vertical-align: top;\n",
       "    }\n",
       "\n",
       "    .dataframe thead th {\n",
       "        text-align: right;\n",
       "    }\n",
       "</style>\n",
       "<table border=\"1\" class=\"dataframe\">\n",
       "  <thead>\n",
       "    <tr style=\"text-align: right;\">\n",
       "      <th></th>\n",
       "      <th>date</th>\n",
       "      <th>final.output.concentrate_ag</th>\n",
       "      <th>final.output.concentrate_pb</th>\n",
       "      <th>final.output.concentrate_sol</th>\n",
       "      <th>final.output.concentrate_au</th>\n",
       "      <th>final.output.recovery</th>\n",
       "      <th>final.output.tail_ag</th>\n",
       "      <th>final.output.tail_pb</th>\n",
       "      <th>final.output.tail_sol</th>\n",
       "      <th>final.output.tail_au</th>\n",
       "      <th>...</th>\n",
       "      <th>secondary_cleaner.state.floatbank4_a_air</th>\n",
       "      <th>secondary_cleaner.state.floatbank4_a_level</th>\n",
       "      <th>secondary_cleaner.state.floatbank4_b_air</th>\n",
       "      <th>secondary_cleaner.state.floatbank4_b_level</th>\n",
       "      <th>secondary_cleaner.state.floatbank5_a_air</th>\n",
       "      <th>secondary_cleaner.state.floatbank5_a_level</th>\n",
       "      <th>secondary_cleaner.state.floatbank5_b_air</th>\n",
       "      <th>secondary_cleaner.state.floatbank5_b_level</th>\n",
       "      <th>secondary_cleaner.state.floatbank6_a_air</th>\n",
       "      <th>secondary_cleaner.state.floatbank6_a_level</th>\n",
       "    </tr>\n",
       "  </thead>\n",
       "  <tbody>\n",
       "    <tr>\n",
       "      <th>0</th>\n",
       "      <td>2016-01-15 00:00:00</td>\n",
       "      <td>6.055403</td>\n",
       "      <td>9.889648</td>\n",
       "      <td>5.507324</td>\n",
       "      <td>42.192020</td>\n",
       "      <td>70.541216</td>\n",
       "      <td>10.411962</td>\n",
       "      <td>0.895447</td>\n",
       "      <td>16.904297</td>\n",
       "      <td>2.143149</td>\n",
       "      <td>...</td>\n",
       "      <td>14.016835</td>\n",
       "      <td>-502.488007</td>\n",
       "      <td>12.099931</td>\n",
       "      <td>-504.715942</td>\n",
       "      <td>9.925633</td>\n",
       "      <td>-498.310211</td>\n",
       "      <td>8.079666</td>\n",
       "      <td>-500.470978</td>\n",
       "      <td>14.151341</td>\n",
       "      <td>-605.841980</td>\n",
       "    </tr>\n",
       "    <tr>\n",
       "      <th>1</th>\n",
       "      <td>2016-01-15 01:00:00</td>\n",
       "      <td>6.029369</td>\n",
       "      <td>9.968944</td>\n",
       "      <td>5.257781</td>\n",
       "      <td>42.701629</td>\n",
       "      <td>69.266198</td>\n",
       "      <td>10.462676</td>\n",
       "      <td>0.927452</td>\n",
       "      <td>16.634514</td>\n",
       "      <td>2.224930</td>\n",
       "      <td>...</td>\n",
       "      <td>13.992281</td>\n",
       "      <td>-505.503262</td>\n",
       "      <td>11.950531</td>\n",
       "      <td>-501.331529</td>\n",
       "      <td>10.039245</td>\n",
       "      <td>-500.169983</td>\n",
       "      <td>7.984757</td>\n",
       "      <td>-500.582168</td>\n",
       "      <td>13.998353</td>\n",
       "      <td>-599.787184</td>\n",
       "    </tr>\n",
       "    <tr>\n",
       "      <th>2</th>\n",
       "      <td>2016-01-15 02:00:00</td>\n",
       "      <td>6.055926</td>\n",
       "      <td>10.213995</td>\n",
       "      <td>5.383759</td>\n",
       "      <td>42.657501</td>\n",
       "      <td>68.116445</td>\n",
       "      <td>10.507046</td>\n",
       "      <td>0.953716</td>\n",
       "      <td>16.208849</td>\n",
       "      <td>2.257889</td>\n",
       "      <td>...</td>\n",
       "      <td>14.015015</td>\n",
       "      <td>-502.520901</td>\n",
       "      <td>11.912783</td>\n",
       "      <td>-501.133383</td>\n",
       "      <td>10.070913</td>\n",
       "      <td>-500.129135</td>\n",
       "      <td>8.013877</td>\n",
       "      <td>-500.517572</td>\n",
       "      <td>14.028663</td>\n",
       "      <td>-601.427363</td>\n",
       "    </tr>\n",
       "    <tr>\n",
       "      <th>3</th>\n",
       "      <td>2016-01-15 03:00:00</td>\n",
       "      <td>6.047977</td>\n",
       "      <td>9.977019</td>\n",
       "      <td>4.858634</td>\n",
       "      <td>42.689819</td>\n",
       "      <td>68.347543</td>\n",
       "      <td>10.422762</td>\n",
       "      <td>0.883763</td>\n",
       "      <td>16.532835</td>\n",
       "      <td>2.146849</td>\n",
       "      <td>...</td>\n",
       "      <td>14.036510</td>\n",
       "      <td>-500.857308</td>\n",
       "      <td>11.999550</td>\n",
       "      <td>-501.193686</td>\n",
       "      <td>9.970366</td>\n",
       "      <td>-499.201640</td>\n",
       "      <td>7.977324</td>\n",
       "      <td>-500.255908</td>\n",
       "      <td>14.005551</td>\n",
       "      <td>-599.996129</td>\n",
       "    </tr>\n",
       "    <tr>\n",
       "      <th>4</th>\n",
       "      <td>2016-01-15 04:00:00</td>\n",
       "      <td>6.148599</td>\n",
       "      <td>10.142511</td>\n",
       "      <td>4.939416</td>\n",
       "      <td>42.774141</td>\n",
       "      <td>66.927016</td>\n",
       "      <td>10.360302</td>\n",
       "      <td>0.792826</td>\n",
       "      <td>16.525686</td>\n",
       "      <td>2.055292</td>\n",
       "      <td>...</td>\n",
       "      <td>14.027298</td>\n",
       "      <td>-499.838632</td>\n",
       "      <td>11.953070</td>\n",
       "      <td>-501.053894</td>\n",
       "      <td>9.925709</td>\n",
       "      <td>-501.686727</td>\n",
       "      <td>7.894242</td>\n",
       "      <td>-500.356035</td>\n",
       "      <td>13.996647</td>\n",
       "      <td>-601.496691</td>\n",
       "    </tr>\n",
       "    <tr>\n",
       "      <th>5</th>\n",
       "      <td>2016-01-15 05:00:00</td>\n",
       "      <td>6.482968</td>\n",
       "      <td>10.049416</td>\n",
       "      <td>5.480257</td>\n",
       "      <td>41.633678</td>\n",
       "      <td>69.465816</td>\n",
       "      <td>10.182708</td>\n",
       "      <td>0.664118</td>\n",
       "      <td>16.999638</td>\n",
       "      <td>1.918586</td>\n",
       "      <td>...</td>\n",
       "      <td>13.938497</td>\n",
       "      <td>-500.970168</td>\n",
       "      <td>11.883350</td>\n",
       "      <td>-500.395298</td>\n",
       "      <td>10.054147</td>\n",
       "      <td>-496.374715</td>\n",
       "      <td>7.965083</td>\n",
       "      <td>-499.364752</td>\n",
       "      <td>14.017067</td>\n",
       "      <td>-599.707915</td>\n",
       "    </tr>\n",
       "    <tr>\n",
       "      <th>6</th>\n",
       "      <td>2016-01-15 06:00:00</td>\n",
       "      <td>6.533849</td>\n",
       "      <td>10.058141</td>\n",
       "      <td>4.569100</td>\n",
       "      <td>41.995316</td>\n",
       "      <td>69.300835</td>\n",
       "      <td>10.304598</td>\n",
       "      <td>0.807342</td>\n",
       "      <td>16.723575</td>\n",
       "      <td>2.058913</td>\n",
       "      <td>...</td>\n",
       "      <td>14.046819</td>\n",
       "      <td>-500.971133</td>\n",
       "      <td>12.091543</td>\n",
       "      <td>-500.501426</td>\n",
       "      <td>10.003247</td>\n",
       "      <td>-497.083180</td>\n",
       "      <td>8.010890</td>\n",
       "      <td>-500.002423</td>\n",
       "      <td>14.029649</td>\n",
       "      <td>-600.905470</td>\n",
       "    </tr>\n",
       "    <tr>\n",
       "      <th>7</th>\n",
       "      <td>2016-01-15 07:00:00</td>\n",
       "      <td>6.130823</td>\n",
       "      <td>9.935481</td>\n",
       "      <td>4.389813</td>\n",
       "      <td>42.452727</td>\n",
       "      <td>70.230976</td>\n",
       "      <td>10.443288</td>\n",
       "      <td>0.949346</td>\n",
       "      <td>16.689959</td>\n",
       "      <td>2.143437</td>\n",
       "      <td>...</td>\n",
       "      <td>13.974691</td>\n",
       "      <td>-501.819696</td>\n",
       "      <td>12.101324</td>\n",
       "      <td>-500.583446</td>\n",
       "      <td>9.873169</td>\n",
       "      <td>-499.171928</td>\n",
       "      <td>7.993381</td>\n",
       "      <td>-499.794518</td>\n",
       "      <td>13.984498</td>\n",
       "      <td>-600.411070</td>\n",
       "    </tr>\n",
       "    <tr>\n",
       "      <th>8</th>\n",
       "      <td>2016-01-15 08:00:00</td>\n",
       "      <td>5.834140</td>\n",
       "      <td>10.071156</td>\n",
       "      <td>4.876389</td>\n",
       "      <td>43.404078</td>\n",
       "      <td>69.688595</td>\n",
       "      <td>10.420140</td>\n",
       "      <td>1.065453</td>\n",
       "      <td>17.201948</td>\n",
       "      <td>2.209881</td>\n",
       "      <td>...</td>\n",
       "      <td>13.964030</td>\n",
       "      <td>-504.252450</td>\n",
       "      <td>12.060738</td>\n",
       "      <td>-501.174549</td>\n",
       "      <td>10.033838</td>\n",
       "      <td>-501.178133</td>\n",
       "      <td>7.881604</td>\n",
       "      <td>-499.729434</td>\n",
       "      <td>13.967135</td>\n",
       "      <td>-599.061188</td>\n",
       "    </tr>\n",
       "    <tr>\n",
       "      <th>9</th>\n",
       "      <td>2016-01-15 09:00:00</td>\n",
       "      <td>5.687063</td>\n",
       "      <td>9.980404</td>\n",
       "      <td>5.282514</td>\n",
       "      <td>43.235220</td>\n",
       "      <td>70.279619</td>\n",
       "      <td>10.487013</td>\n",
       "      <td>1.159805</td>\n",
       "      <td>17.483979</td>\n",
       "      <td>2.209593</td>\n",
       "      <td>...</td>\n",
       "      <td>13.989632</td>\n",
       "      <td>-503.195299</td>\n",
       "      <td>12.052233</td>\n",
       "      <td>-500.928547</td>\n",
       "      <td>9.962574</td>\n",
       "      <td>-502.986357</td>\n",
       "      <td>7.979219</td>\n",
       "      <td>-500.146835</td>\n",
       "      <td>13.981614</td>\n",
       "      <td>-598.070855</td>\n",
       "    </tr>\n",
       "  </tbody>\n",
       "</table>\n",
       "<p>10 rows × 87 columns</p>\n",
       "</div>"
      ],
      "text/plain": [
       "                  date  final.output.concentrate_ag  \\\n",
       "0  2016-01-15 00:00:00                     6.055403   \n",
       "1  2016-01-15 01:00:00                     6.029369   \n",
       "2  2016-01-15 02:00:00                     6.055926   \n",
       "3  2016-01-15 03:00:00                     6.047977   \n",
       "4  2016-01-15 04:00:00                     6.148599   \n",
       "5  2016-01-15 05:00:00                     6.482968   \n",
       "6  2016-01-15 06:00:00                     6.533849   \n",
       "7  2016-01-15 07:00:00                     6.130823   \n",
       "8  2016-01-15 08:00:00                     5.834140   \n",
       "9  2016-01-15 09:00:00                     5.687063   \n",
       "\n",
       "   final.output.concentrate_pb  final.output.concentrate_sol  \\\n",
       "0                     9.889648                      5.507324   \n",
       "1                     9.968944                      5.257781   \n",
       "2                    10.213995                      5.383759   \n",
       "3                     9.977019                      4.858634   \n",
       "4                    10.142511                      4.939416   \n",
       "5                    10.049416                      5.480257   \n",
       "6                    10.058141                      4.569100   \n",
       "7                     9.935481                      4.389813   \n",
       "8                    10.071156                      4.876389   \n",
       "9                     9.980404                      5.282514   \n",
       "\n",
       "   final.output.concentrate_au  final.output.recovery  final.output.tail_ag  \\\n",
       "0                    42.192020              70.541216             10.411962   \n",
       "1                    42.701629              69.266198             10.462676   \n",
       "2                    42.657501              68.116445             10.507046   \n",
       "3                    42.689819              68.347543             10.422762   \n",
       "4                    42.774141              66.927016             10.360302   \n",
       "5                    41.633678              69.465816             10.182708   \n",
       "6                    41.995316              69.300835             10.304598   \n",
       "7                    42.452727              70.230976             10.443288   \n",
       "8                    43.404078              69.688595             10.420140   \n",
       "9                    43.235220              70.279619             10.487013   \n",
       "\n",
       "   final.output.tail_pb  final.output.tail_sol  final.output.tail_au  ...  \\\n",
       "0              0.895447              16.904297              2.143149  ...   \n",
       "1              0.927452              16.634514              2.224930  ...   \n",
       "2              0.953716              16.208849              2.257889  ...   \n",
       "3              0.883763              16.532835              2.146849  ...   \n",
       "4              0.792826              16.525686              2.055292  ...   \n",
       "5              0.664118              16.999638              1.918586  ...   \n",
       "6              0.807342              16.723575              2.058913  ...   \n",
       "7              0.949346              16.689959              2.143437  ...   \n",
       "8              1.065453              17.201948              2.209881  ...   \n",
       "9              1.159805              17.483979              2.209593  ...   \n",
       "\n",
       "   secondary_cleaner.state.floatbank4_a_air  \\\n",
       "0                                 14.016835   \n",
       "1                                 13.992281   \n",
       "2                                 14.015015   \n",
       "3                                 14.036510   \n",
       "4                                 14.027298   \n",
       "5                                 13.938497   \n",
       "6                                 14.046819   \n",
       "7                                 13.974691   \n",
       "8                                 13.964030   \n",
       "9                                 13.989632   \n",
       "\n",
       "   secondary_cleaner.state.floatbank4_a_level  \\\n",
       "0                                 -502.488007   \n",
       "1                                 -505.503262   \n",
       "2                                 -502.520901   \n",
       "3                                 -500.857308   \n",
       "4                                 -499.838632   \n",
       "5                                 -500.970168   \n",
       "6                                 -500.971133   \n",
       "7                                 -501.819696   \n",
       "8                                 -504.252450   \n",
       "9                                 -503.195299   \n",
       "\n",
       "   secondary_cleaner.state.floatbank4_b_air  \\\n",
       "0                                 12.099931   \n",
       "1                                 11.950531   \n",
       "2                                 11.912783   \n",
       "3                                 11.999550   \n",
       "4                                 11.953070   \n",
       "5                                 11.883350   \n",
       "6                                 12.091543   \n",
       "7                                 12.101324   \n",
       "8                                 12.060738   \n",
       "9                                 12.052233   \n",
       "\n",
       "   secondary_cleaner.state.floatbank4_b_level  \\\n",
       "0                                 -504.715942   \n",
       "1                                 -501.331529   \n",
       "2                                 -501.133383   \n",
       "3                                 -501.193686   \n",
       "4                                 -501.053894   \n",
       "5                                 -500.395298   \n",
       "6                                 -500.501426   \n",
       "7                                 -500.583446   \n",
       "8                                 -501.174549   \n",
       "9                                 -500.928547   \n",
       "\n",
       "   secondary_cleaner.state.floatbank5_a_air  \\\n",
       "0                                  9.925633   \n",
       "1                                 10.039245   \n",
       "2                                 10.070913   \n",
       "3                                  9.970366   \n",
       "4                                  9.925709   \n",
       "5                                 10.054147   \n",
       "6                                 10.003247   \n",
       "7                                  9.873169   \n",
       "8                                 10.033838   \n",
       "9                                  9.962574   \n",
       "\n",
       "   secondary_cleaner.state.floatbank5_a_level  \\\n",
       "0                                 -498.310211   \n",
       "1                                 -500.169983   \n",
       "2                                 -500.129135   \n",
       "3                                 -499.201640   \n",
       "4                                 -501.686727   \n",
       "5                                 -496.374715   \n",
       "6                                 -497.083180   \n",
       "7                                 -499.171928   \n",
       "8                                 -501.178133   \n",
       "9                                 -502.986357   \n",
       "\n",
       "   secondary_cleaner.state.floatbank5_b_air  \\\n",
       "0                                  8.079666   \n",
       "1                                  7.984757   \n",
       "2                                  8.013877   \n",
       "3                                  7.977324   \n",
       "4                                  7.894242   \n",
       "5                                  7.965083   \n",
       "6                                  8.010890   \n",
       "7                                  7.993381   \n",
       "8                                  7.881604   \n",
       "9                                  7.979219   \n",
       "\n",
       "   secondary_cleaner.state.floatbank5_b_level  \\\n",
       "0                                 -500.470978   \n",
       "1                                 -500.582168   \n",
       "2                                 -500.517572   \n",
       "3                                 -500.255908   \n",
       "4                                 -500.356035   \n",
       "5                                 -499.364752   \n",
       "6                                 -500.002423   \n",
       "7                                 -499.794518   \n",
       "8                                 -499.729434   \n",
       "9                                 -500.146835   \n",
       "\n",
       "   secondary_cleaner.state.floatbank6_a_air  \\\n",
       "0                                 14.151341   \n",
       "1                                 13.998353   \n",
       "2                                 14.028663   \n",
       "3                                 14.005551   \n",
       "4                                 13.996647   \n",
       "5                                 14.017067   \n",
       "6                                 14.029649   \n",
       "7                                 13.984498   \n",
       "8                                 13.967135   \n",
       "9                                 13.981614   \n",
       "\n",
       "   secondary_cleaner.state.floatbank6_a_level  \n",
       "0                                 -605.841980  \n",
       "1                                 -599.787184  \n",
       "2                                 -601.427363  \n",
       "3                                 -599.996129  \n",
       "4                                 -601.496691  \n",
       "5                                 -599.707915  \n",
       "6                                 -600.905470  \n",
       "7                                 -600.411070  \n",
       "8                                 -599.061188  \n",
       "9                                 -598.070855  \n",
       "\n",
       "[10 rows x 87 columns]"
      ]
     },
     "execution_count": 5,
     "metadata": {},
     "output_type": "execute_result"
    }
   ],
   "source": [
    "train_data.head(10)"
   ]
  },
  {
   "cell_type": "code",
   "execution_count": 6,
   "metadata": {
    "scrolled": false
   },
   "outputs": [
    {
     "name": "stdout",
     "output_type": "stream",
     "text": [
      "<class 'pandas.core.frame.DataFrame'>\n",
      "RangeIndex: 14149 entries, 0 to 14148\n",
      "Data columns (total 87 columns):\n",
      " #   Column                                              Non-Null Count  Dtype  \n",
      "---  ------                                              --------------  -----  \n",
      " 0   date                                                14149 non-null  object \n",
      " 1   final.output.concentrate_ag                         14148 non-null  float64\n",
      " 2   final.output.concentrate_pb                         14148 non-null  float64\n",
      " 3   final.output.concentrate_sol                        13938 non-null  float64\n",
      " 4   final.output.concentrate_au                         14149 non-null  float64\n",
      " 5   final.output.recovery                               14149 non-null  float64\n",
      " 6   final.output.tail_ag                                14149 non-null  float64\n",
      " 7   final.output.tail_pb                                14049 non-null  float64\n",
      " 8   final.output.tail_sol                               14144 non-null  float64\n",
      " 9   final.output.tail_au                                14149 non-null  float64\n",
      " 10  primary_cleaner.input.sulfate                       14129 non-null  float64\n",
      " 11  primary_cleaner.input.depressant                    14117 non-null  float64\n",
      " 12  primary_cleaner.input.feed_size                     14149 non-null  float64\n",
      " 13  primary_cleaner.input.xanthate                      14049 non-null  float64\n",
      " 14  primary_cleaner.output.concentrate_ag               14149 non-null  float64\n",
      " 15  primary_cleaner.output.concentrate_pb               14063 non-null  float64\n",
      " 16  primary_cleaner.output.concentrate_sol              13863 non-null  float64\n",
      " 17  primary_cleaner.output.concentrate_au               14149 non-null  float64\n",
      " 18  primary_cleaner.output.tail_ag                      14148 non-null  float64\n",
      " 19  primary_cleaner.output.tail_pb                      14134 non-null  float64\n",
      " 20  primary_cleaner.output.tail_sol                     14103 non-null  float64\n",
      " 21  primary_cleaner.output.tail_au                      14149 non-null  float64\n",
      " 22  primary_cleaner.state.floatbank8_a_air              14145 non-null  float64\n",
      " 23  primary_cleaner.state.floatbank8_a_level            14148 non-null  float64\n",
      " 24  primary_cleaner.state.floatbank8_b_air              14145 non-null  float64\n",
      " 25  primary_cleaner.state.floatbank8_b_level            14148 non-null  float64\n",
      " 26  primary_cleaner.state.floatbank8_c_air              14147 non-null  float64\n",
      " 27  primary_cleaner.state.floatbank8_c_level            14148 non-null  float64\n",
      " 28  primary_cleaner.state.floatbank8_d_air              14146 non-null  float64\n",
      " 29  primary_cleaner.state.floatbank8_d_level            14148 non-null  float64\n",
      " 30  rougher.calculation.sulfate_to_au_concentrate       14148 non-null  float64\n",
      " 31  rougher.calculation.floatbank10_sulfate_to_au_feed  14148 non-null  float64\n",
      " 32  rougher.calculation.floatbank11_sulfate_to_au_feed  14148 non-null  float64\n",
      " 33  rougher.calculation.au_pb_ratio                     14149 non-null  float64\n",
      " 34  rougher.input.feed_ag                               14149 non-null  float64\n",
      " 35  rougher.input.feed_pb                               14049 non-null  float64\n",
      " 36  rougher.input.feed_rate                             14141 non-null  float64\n",
      " 37  rougher.input.feed_size                             14005 non-null  float64\n",
      " 38  rougher.input.feed_sol                              14071 non-null  float64\n",
      " 39  rougher.input.feed_au                               14149 non-null  float64\n",
      " 40  rougher.input.floatbank10_sulfate                   14120 non-null  float64\n",
      " 41  rougher.input.floatbank10_xanthate                  14141 non-null  float64\n",
      " 42  rougher.input.floatbank11_sulfate                   14113 non-null  float64\n",
      " 43  rougher.input.floatbank11_xanthate                  13721 non-null  float64\n",
      " 44  rougher.output.concentrate_ag                       14149 non-null  float64\n",
      " 45  rougher.output.concentrate_pb                       14149 non-null  float64\n",
      " 46  rougher.output.concentrate_sol                      14127 non-null  float64\n",
      " 47  rougher.output.concentrate_au                       14149 non-null  float64\n",
      " 48  rougher.output.recovery                             14149 non-null  float64\n",
      " 49  rougher.output.tail_ag                              14148 non-null  float64\n",
      " 50  rougher.output.tail_pb                              14149 non-null  float64\n",
      " 51  rougher.output.tail_sol                             14149 non-null  float64\n",
      " 52  rougher.output.tail_au                              14149 non-null  float64\n",
      " 53  rougher.state.floatbank10_a_air                     14148 non-null  float64\n",
      " 54  rougher.state.floatbank10_a_level                   14148 non-null  float64\n",
      " 55  rougher.state.floatbank10_b_air                     14148 non-null  float64\n",
      " 56  rougher.state.floatbank10_b_level                   14148 non-null  float64\n",
      " 57  rougher.state.floatbank10_c_air                     14148 non-null  float64\n",
      " 58  rougher.state.floatbank10_c_level                   14148 non-null  float64\n",
      " 59  rougher.state.floatbank10_d_air                     14149 non-null  float64\n",
      " 60  rougher.state.floatbank10_d_level                   14149 non-null  float64\n",
      " 61  rougher.state.floatbank10_e_air                     13713 non-null  float64\n",
      " 62  rougher.state.floatbank10_e_level                   14149 non-null  float64\n",
      " 63  rougher.state.floatbank10_f_air                     14149 non-null  float64\n",
      " 64  rougher.state.floatbank10_f_level                   14149 non-null  float64\n",
      " 65  secondary_cleaner.output.tail_ag                    14147 non-null  float64\n",
      " 66  secondary_cleaner.output.tail_pb                    14139 non-null  float64\n",
      " 67  secondary_cleaner.output.tail_sol                   12544 non-null  float64\n",
      " 68  secondary_cleaner.output.tail_au                    14149 non-null  float64\n",
      " 69  secondary_cleaner.state.floatbank2_a_air            13932 non-null  float64\n",
      " 70  secondary_cleaner.state.floatbank2_a_level          14148 non-null  float64\n",
      " 71  secondary_cleaner.state.floatbank2_b_air            14128 non-null  float64\n",
      " 72  secondary_cleaner.state.floatbank2_b_level          14148 non-null  float64\n",
      " 73  secondary_cleaner.state.floatbank3_a_air            14145 non-null  float64\n",
      " 74  secondary_cleaner.state.floatbank3_a_level          14148 non-null  float64\n",
      " 75  secondary_cleaner.state.floatbank3_b_air            14148 non-null  float64\n",
      " 76  secondary_cleaner.state.floatbank3_b_level          14148 non-null  float64\n",
      " 77  secondary_cleaner.state.floatbank4_a_air            14143 non-null  float64\n",
      " 78  secondary_cleaner.state.floatbank4_a_level          14148 non-null  float64\n",
      " 79  secondary_cleaner.state.floatbank4_b_air            14148 non-null  float64\n",
      " 80  secondary_cleaner.state.floatbank4_b_level          14148 non-null  float64\n",
      " 81  secondary_cleaner.state.floatbank5_a_air            14148 non-null  float64\n",
      " 82  secondary_cleaner.state.floatbank5_a_level          14148 non-null  float64\n",
      " 83  secondary_cleaner.state.floatbank5_b_air            14148 non-null  float64\n",
      " 84  secondary_cleaner.state.floatbank5_b_level          14148 non-null  float64\n",
      " 85  secondary_cleaner.state.floatbank6_a_air            14147 non-null  float64\n",
      " 86  secondary_cleaner.state.floatbank6_a_level          14148 non-null  float64\n",
      "dtypes: float64(86), object(1)\n",
      "memory usage: 9.4+ MB\n"
     ]
    }
   ],
   "source": [
    "train_data.info()"
   ]
  },
  {
   "cell_type": "markdown",
   "metadata": {},
   "source": [
    "Всего в датасете 87 столбцов - из них один имеет тип данных \"object\" — дата процесса обработки, и 86 являются числовыми. В зависимости от этапа, который характеризует признак, его имя начинается с `rougher` — флотация, `primary_cleaner` — первая очистка, `secondary_cleaner` — вторая очистка или `final` — финальный продукт."
   ]
  },
  {
   "cell_type": "markdown",
   "metadata": {},
   "source": [
    "Второй частью имени столбца т.е. признака является тип параметра. Тип может приобретать следующие значения:\n",
    "- `input` — параметр вводного продукта, т.е. сырья для данного этапа;\n",
    "- `output` — параметр конечного продукта этапа;\n",
    "- `state` — параметры, характеризующие текущее состояние этапа;\n",
    "- `calculation` — расчётные характеристики.\n",
    "    "
   ]
  },
  {
   "cell_type": "markdown",
   "metadata": {},
   "source": [
    "Отметим, что в признаках имеются пропуски — где-то их почти нет (`final.output.concentrate_ag` имеет один пропуск), где-то их доля относительно высока (`rougher.input.floatbank11_xanthate`)."
   ]
  },
  {
   "cell_type": "markdown",
   "metadata": {},
   "source": [
    "Целевыми признаками являются эффективность обогащения чернового концентрата `rougher.output.recovery` и эффективность обогащения финального концентрата `final.output.recovery`.\n"
   ]
  },
  {
   "cell_type": "code",
   "execution_count": 7,
   "metadata": {
    "scrolled": false
   },
   "outputs": [
    {
     "data": {
      "text/html": [
       "<div>\n",
       "<style scoped>\n",
       "    .dataframe tbody tr th:only-of-type {\n",
       "        vertical-align: middle;\n",
       "    }\n",
       "\n",
       "    .dataframe tbody tr th {\n",
       "        vertical-align: top;\n",
       "    }\n",
       "\n",
       "    .dataframe thead th {\n",
       "        text-align: right;\n",
       "    }\n",
       "</style>\n",
       "<table border=\"1\" class=\"dataframe\">\n",
       "  <thead>\n",
       "    <tr style=\"text-align: right;\">\n",
       "      <th></th>\n",
       "      <th>final.output.concentrate_ag</th>\n",
       "      <th>final.output.concentrate_pb</th>\n",
       "      <th>final.output.concentrate_sol</th>\n",
       "      <th>final.output.concentrate_au</th>\n",
       "      <th>final.output.recovery</th>\n",
       "      <th>final.output.tail_ag</th>\n",
       "      <th>final.output.tail_pb</th>\n",
       "      <th>final.output.tail_sol</th>\n",
       "      <th>final.output.tail_au</th>\n",
       "      <th>primary_cleaner.input.sulfate</th>\n",
       "      <th>...</th>\n",
       "      <th>secondary_cleaner.state.floatbank4_a_air</th>\n",
       "      <th>secondary_cleaner.state.floatbank4_a_level</th>\n",
       "      <th>secondary_cleaner.state.floatbank4_b_air</th>\n",
       "      <th>secondary_cleaner.state.floatbank4_b_level</th>\n",
       "      <th>secondary_cleaner.state.floatbank5_a_air</th>\n",
       "      <th>secondary_cleaner.state.floatbank5_a_level</th>\n",
       "      <th>secondary_cleaner.state.floatbank5_b_air</th>\n",
       "      <th>secondary_cleaner.state.floatbank5_b_level</th>\n",
       "      <th>secondary_cleaner.state.floatbank6_a_air</th>\n",
       "      <th>secondary_cleaner.state.floatbank6_a_level</th>\n",
       "    </tr>\n",
       "  </thead>\n",
       "  <tbody>\n",
       "    <tr>\n",
       "      <th>count</th>\n",
       "      <td>14148.000000</td>\n",
       "      <td>14148.000000</td>\n",
       "      <td>13938.000000</td>\n",
       "      <td>14149.000000</td>\n",
       "      <td>14149.000000</td>\n",
       "      <td>14149.000000</td>\n",
       "      <td>14049.000000</td>\n",
       "      <td>14144.000000</td>\n",
       "      <td>14149.000000</td>\n",
       "      <td>14129.000000</td>\n",
       "      <td>...</td>\n",
       "      <td>14143.000000</td>\n",
       "      <td>14148.000000</td>\n",
       "      <td>14148.000000</td>\n",
       "      <td>14148.000000</td>\n",
       "      <td>14148.000000</td>\n",
       "      <td>14148.000000</td>\n",
       "      <td>14148.000000</td>\n",
       "      <td>14148.000000</td>\n",
       "      <td>14147.000000</td>\n",
       "      <td>14148.000000</td>\n",
       "    </tr>\n",
       "    <tr>\n",
       "      <th>mean</th>\n",
       "      <td>5.142034</td>\n",
       "      <td>10.132960</td>\n",
       "      <td>9.202849</td>\n",
       "      <td>44.003792</td>\n",
       "      <td>66.518832</td>\n",
       "      <td>9.607035</td>\n",
       "      <td>2.597298</td>\n",
       "      <td>10.512122</td>\n",
       "      <td>2.918421</td>\n",
       "      <td>133.320659</td>\n",
       "      <td>...</td>\n",
       "      <td>19.985454</td>\n",
       "      <td>-478.696836</td>\n",
       "      <td>15.487065</td>\n",
       "      <td>-460.229416</td>\n",
       "      <td>16.775136</td>\n",
       "      <td>-483.956022</td>\n",
       "      <td>13.064590</td>\n",
       "      <td>-483.966564</td>\n",
       "      <td>19.577539</td>\n",
       "      <td>-506.798480</td>\n",
       "    </tr>\n",
       "    <tr>\n",
       "      <th>std</th>\n",
       "      <td>1.369586</td>\n",
       "      <td>1.654930</td>\n",
       "      <td>2.790516</td>\n",
       "      <td>4.905261</td>\n",
       "      <td>10.295402</td>\n",
       "      <td>2.319069</td>\n",
       "      <td>0.971843</td>\n",
       "      <td>3.003617</td>\n",
       "      <td>0.903712</td>\n",
       "      <td>39.431659</td>\n",
       "      <td>...</td>\n",
       "      <td>5.657723</td>\n",
       "      <td>50.736021</td>\n",
       "      <td>5.255655</td>\n",
       "      <td>58.843586</td>\n",
       "      <td>5.831906</td>\n",
       "      <td>37.892788</td>\n",
       "      <td>5.765617</td>\n",
       "      <td>39.207913</td>\n",
       "      <td>5.764417</td>\n",
       "      <td>37.079249</td>\n",
       "    </tr>\n",
       "    <tr>\n",
       "      <th>min</th>\n",
       "      <td>0.000000</td>\n",
       "      <td>0.000000</td>\n",
       "      <td>0.000000</td>\n",
       "      <td>0.000000</td>\n",
       "      <td>0.000000</td>\n",
       "      <td>0.000000</td>\n",
       "      <td>0.000000</td>\n",
       "      <td>0.000000</td>\n",
       "      <td>0.000000</td>\n",
       "      <td>0.003112</td>\n",
       "      <td>...</td>\n",
       "      <td>0.000000</td>\n",
       "      <td>-799.709069</td>\n",
       "      <td>0.000000</td>\n",
       "      <td>-799.889113</td>\n",
       "      <td>-0.372054</td>\n",
       "      <td>-797.142475</td>\n",
       "      <td>0.646208</td>\n",
       "      <td>-800.006180</td>\n",
       "      <td>0.195324</td>\n",
       "      <td>-809.398668</td>\n",
       "    </tr>\n",
       "    <tr>\n",
       "      <th>25%</th>\n",
       "      <td>4.211620</td>\n",
       "      <td>9.297355</td>\n",
       "      <td>7.484645</td>\n",
       "      <td>43.276111</td>\n",
       "      <td>62.545817</td>\n",
       "      <td>7.997429</td>\n",
       "      <td>1.905973</td>\n",
       "      <td>8.811324</td>\n",
       "      <td>2.368607</td>\n",
       "      <td>107.006651</td>\n",
       "      <td>...</td>\n",
       "      <td>14.990775</td>\n",
       "      <td>-500.628656</td>\n",
       "      <td>11.894558</td>\n",
       "      <td>-500.149000</td>\n",
       "      <td>11.083980</td>\n",
       "      <td>-500.363177</td>\n",
       "      <td>8.994405</td>\n",
       "      <td>-500.105994</td>\n",
       "      <td>14.989304</td>\n",
       "      <td>-500.745104</td>\n",
       "    </tr>\n",
       "    <tr>\n",
       "      <th>50%</th>\n",
       "      <td>4.994652</td>\n",
       "      <td>10.297144</td>\n",
       "      <td>8.845462</td>\n",
       "      <td>44.872436</td>\n",
       "      <td>67.432775</td>\n",
       "      <td>9.480270</td>\n",
       "      <td>2.592022</td>\n",
       "      <td>10.514621</td>\n",
       "      <td>2.851025</td>\n",
       "      <td>133.018328</td>\n",
       "      <td>...</td>\n",
       "      <td>20.001789</td>\n",
       "      <td>-499.681450</td>\n",
       "      <td>14.975536</td>\n",
       "      <td>-499.388738</td>\n",
       "      <td>17.932223</td>\n",
       "      <td>-499.702452</td>\n",
       "      <td>11.997547</td>\n",
       "      <td>-499.914556</td>\n",
       "      <td>19.984175</td>\n",
       "      <td>-500.061431</td>\n",
       "    </tr>\n",
       "    <tr>\n",
       "      <th>75%</th>\n",
       "      <td>5.859540</td>\n",
       "      <td>11.170603</td>\n",
       "      <td>10.487508</td>\n",
       "      <td>46.166425</td>\n",
       "      <td>72.346428</td>\n",
       "      <td>11.003707</td>\n",
       "      <td>3.241723</td>\n",
       "      <td>11.933009</td>\n",
       "      <td>3.434764</td>\n",
       "      <td>159.825396</td>\n",
       "      <td>...</td>\n",
       "      <td>24.990826</td>\n",
       "      <td>-477.472413</td>\n",
       "      <td>20.059375</td>\n",
       "      <td>-400.039008</td>\n",
       "      <td>21.346550</td>\n",
       "      <td>-487.712108</td>\n",
       "      <td>17.982903</td>\n",
       "      <td>-453.186936</td>\n",
       "      <td>24.991623</td>\n",
       "      <td>-499.536466</td>\n",
       "    </tr>\n",
       "    <tr>\n",
       "      <th>max</th>\n",
       "      <td>16.001945</td>\n",
       "      <td>17.031899</td>\n",
       "      <td>18.124851</td>\n",
       "      <td>52.756638</td>\n",
       "      <td>100.000000</td>\n",
       "      <td>19.552149</td>\n",
       "      <td>5.639565</td>\n",
       "      <td>22.317730</td>\n",
       "      <td>8.197408</td>\n",
       "      <td>250.127834</td>\n",
       "      <td>...</td>\n",
       "      <td>30.115735</td>\n",
       "      <td>-245.239184</td>\n",
       "      <td>24.007913</td>\n",
       "      <td>-145.071088</td>\n",
       "      <td>43.709931</td>\n",
       "      <td>-275.073125</td>\n",
       "      <td>27.926001</td>\n",
       "      <td>-157.396071</td>\n",
       "      <td>32.188906</td>\n",
       "      <td>-104.427459</td>\n",
       "    </tr>\n",
       "  </tbody>\n",
       "</table>\n",
       "<p>8 rows × 86 columns</p>\n",
       "</div>"
      ],
      "text/plain": [
       "       final.output.concentrate_ag  final.output.concentrate_pb  \\\n",
       "count                 14148.000000                 14148.000000   \n",
       "mean                      5.142034                    10.132960   \n",
       "std                       1.369586                     1.654930   \n",
       "min                       0.000000                     0.000000   \n",
       "25%                       4.211620                     9.297355   \n",
       "50%                       4.994652                    10.297144   \n",
       "75%                       5.859540                    11.170603   \n",
       "max                      16.001945                    17.031899   \n",
       "\n",
       "       final.output.concentrate_sol  final.output.concentrate_au  \\\n",
       "count                  13938.000000                 14149.000000   \n",
       "mean                       9.202849                    44.003792   \n",
       "std                        2.790516                     4.905261   \n",
       "min                        0.000000                     0.000000   \n",
       "25%                        7.484645                    43.276111   \n",
       "50%                        8.845462                    44.872436   \n",
       "75%                       10.487508                    46.166425   \n",
       "max                       18.124851                    52.756638   \n",
       "\n",
       "       final.output.recovery  final.output.tail_ag  final.output.tail_pb  \\\n",
       "count           14149.000000          14149.000000          14049.000000   \n",
       "mean               66.518832              9.607035              2.597298   \n",
       "std                10.295402              2.319069              0.971843   \n",
       "min                 0.000000              0.000000              0.000000   \n",
       "25%                62.545817              7.997429              1.905973   \n",
       "50%                67.432775              9.480270              2.592022   \n",
       "75%                72.346428             11.003707              3.241723   \n",
       "max               100.000000             19.552149              5.639565   \n",
       "\n",
       "       final.output.tail_sol  final.output.tail_au  \\\n",
       "count           14144.000000          14149.000000   \n",
       "mean               10.512122              2.918421   \n",
       "std                 3.003617              0.903712   \n",
       "min                 0.000000              0.000000   \n",
       "25%                 8.811324              2.368607   \n",
       "50%                10.514621              2.851025   \n",
       "75%                11.933009              3.434764   \n",
       "max                22.317730              8.197408   \n",
       "\n",
       "       primary_cleaner.input.sulfate  ...  \\\n",
       "count                   14129.000000  ...   \n",
       "mean                      133.320659  ...   \n",
       "std                        39.431659  ...   \n",
       "min                         0.003112  ...   \n",
       "25%                       107.006651  ...   \n",
       "50%                       133.018328  ...   \n",
       "75%                       159.825396  ...   \n",
       "max                       250.127834  ...   \n",
       "\n",
       "       secondary_cleaner.state.floatbank4_a_air  \\\n",
       "count                              14143.000000   \n",
       "mean                                  19.985454   \n",
       "std                                    5.657723   \n",
       "min                                    0.000000   \n",
       "25%                                   14.990775   \n",
       "50%                                   20.001789   \n",
       "75%                                   24.990826   \n",
       "max                                   30.115735   \n",
       "\n",
       "       secondary_cleaner.state.floatbank4_a_level  \\\n",
       "count                                14148.000000   \n",
       "mean                                  -478.696836   \n",
       "std                                     50.736021   \n",
       "min                                   -799.709069   \n",
       "25%                                   -500.628656   \n",
       "50%                                   -499.681450   \n",
       "75%                                   -477.472413   \n",
       "max                                   -245.239184   \n",
       "\n",
       "       secondary_cleaner.state.floatbank4_b_air  \\\n",
       "count                              14148.000000   \n",
       "mean                                  15.487065   \n",
       "std                                    5.255655   \n",
       "min                                    0.000000   \n",
       "25%                                   11.894558   \n",
       "50%                                   14.975536   \n",
       "75%                                   20.059375   \n",
       "max                                   24.007913   \n",
       "\n",
       "       secondary_cleaner.state.floatbank4_b_level  \\\n",
       "count                                14148.000000   \n",
       "mean                                  -460.229416   \n",
       "std                                     58.843586   \n",
       "min                                   -799.889113   \n",
       "25%                                   -500.149000   \n",
       "50%                                   -499.388738   \n",
       "75%                                   -400.039008   \n",
       "max                                   -145.071088   \n",
       "\n",
       "       secondary_cleaner.state.floatbank5_a_air  \\\n",
       "count                              14148.000000   \n",
       "mean                                  16.775136   \n",
       "std                                    5.831906   \n",
       "min                                   -0.372054   \n",
       "25%                                   11.083980   \n",
       "50%                                   17.932223   \n",
       "75%                                   21.346550   \n",
       "max                                   43.709931   \n",
       "\n",
       "       secondary_cleaner.state.floatbank5_a_level  \\\n",
       "count                                14148.000000   \n",
       "mean                                  -483.956022   \n",
       "std                                     37.892788   \n",
       "min                                   -797.142475   \n",
       "25%                                   -500.363177   \n",
       "50%                                   -499.702452   \n",
       "75%                                   -487.712108   \n",
       "max                                   -275.073125   \n",
       "\n",
       "       secondary_cleaner.state.floatbank5_b_air  \\\n",
       "count                              14148.000000   \n",
       "mean                                  13.064590   \n",
       "std                                    5.765617   \n",
       "min                                    0.646208   \n",
       "25%                                    8.994405   \n",
       "50%                                   11.997547   \n",
       "75%                                   17.982903   \n",
       "max                                   27.926001   \n",
       "\n",
       "       secondary_cleaner.state.floatbank5_b_level  \\\n",
       "count                                14148.000000   \n",
       "mean                                  -483.966564   \n",
       "std                                     39.207913   \n",
       "min                                   -800.006180   \n",
       "25%                                   -500.105994   \n",
       "50%                                   -499.914556   \n",
       "75%                                   -453.186936   \n",
       "max                                   -157.396071   \n",
       "\n",
       "       secondary_cleaner.state.floatbank6_a_air  \\\n",
       "count                              14147.000000   \n",
       "mean                                  19.577539   \n",
       "std                                    5.764417   \n",
       "min                                    0.195324   \n",
       "25%                                   14.989304   \n",
       "50%                                   19.984175   \n",
       "75%                                   24.991623   \n",
       "max                                   32.188906   \n",
       "\n",
       "       secondary_cleaner.state.floatbank6_a_level  \n",
       "count                                14148.000000  \n",
       "mean                                  -506.798480  \n",
       "std                                     37.079249  \n",
       "min                                   -809.398668  \n",
       "25%                                   -500.745104  \n",
       "50%                                   -500.061431  \n",
       "75%                                   -499.536466  \n",
       "max                                   -104.427459  \n",
       "\n",
       "[8 rows x 86 columns]"
      ]
     },
     "execution_count": 7,
     "metadata": {},
     "output_type": "execute_result"
    }
   ],
   "source": [
    "train_data.describe()"
   ]
  },
  {
   "cell_type": "markdown",
   "metadata": {},
   "source": [
    "Отметим, что у признаков разный масштаб — для применения моделей машинного обучения может потребоваться нормализация данных."
   ]
  },
  {
   "cell_type": "markdown",
   "metadata": {},
   "source": [
    "### Тестовая выборка"
   ]
  },
  {
   "cell_type": "code",
   "execution_count": 8,
   "metadata": {},
   "outputs": [
    {
     "data": {
      "text/html": [
       "<div>\n",
       "<style scoped>\n",
       "    .dataframe tbody tr th:only-of-type {\n",
       "        vertical-align: middle;\n",
       "    }\n",
       "\n",
       "    .dataframe tbody tr th {\n",
       "        vertical-align: top;\n",
       "    }\n",
       "\n",
       "    .dataframe thead th {\n",
       "        text-align: right;\n",
       "    }\n",
       "</style>\n",
       "<table border=\"1\" class=\"dataframe\">\n",
       "  <thead>\n",
       "    <tr style=\"text-align: right;\">\n",
       "      <th></th>\n",
       "      <th>date</th>\n",
       "      <th>primary_cleaner.input.sulfate</th>\n",
       "      <th>primary_cleaner.input.depressant</th>\n",
       "      <th>primary_cleaner.input.feed_size</th>\n",
       "      <th>primary_cleaner.input.xanthate</th>\n",
       "      <th>primary_cleaner.state.floatbank8_a_air</th>\n",
       "      <th>primary_cleaner.state.floatbank8_a_level</th>\n",
       "      <th>primary_cleaner.state.floatbank8_b_air</th>\n",
       "      <th>primary_cleaner.state.floatbank8_b_level</th>\n",
       "      <th>primary_cleaner.state.floatbank8_c_air</th>\n",
       "      <th>...</th>\n",
       "      <th>secondary_cleaner.state.floatbank4_a_air</th>\n",
       "      <th>secondary_cleaner.state.floatbank4_a_level</th>\n",
       "      <th>secondary_cleaner.state.floatbank4_b_air</th>\n",
       "      <th>secondary_cleaner.state.floatbank4_b_level</th>\n",
       "      <th>secondary_cleaner.state.floatbank5_a_air</th>\n",
       "      <th>secondary_cleaner.state.floatbank5_a_level</th>\n",
       "      <th>secondary_cleaner.state.floatbank5_b_air</th>\n",
       "      <th>secondary_cleaner.state.floatbank5_b_level</th>\n",
       "      <th>secondary_cleaner.state.floatbank6_a_air</th>\n",
       "      <th>secondary_cleaner.state.floatbank6_a_level</th>\n",
       "    </tr>\n",
       "  </thead>\n",
       "  <tbody>\n",
       "    <tr>\n",
       "      <th>0</th>\n",
       "      <td>2016-09-01 00:59:59</td>\n",
       "      <td>210.800909</td>\n",
       "      <td>14.993118</td>\n",
       "      <td>8.080000</td>\n",
       "      <td>1.005021</td>\n",
       "      <td>1398.981301</td>\n",
       "      <td>-500.225577</td>\n",
       "      <td>1399.144926</td>\n",
       "      <td>-499.919735</td>\n",
       "      <td>1400.102998</td>\n",
       "      <td>...</td>\n",
       "      <td>12.023554</td>\n",
       "      <td>-497.795834</td>\n",
       "      <td>8.016656</td>\n",
       "      <td>-501.289139</td>\n",
       "      <td>7.946562</td>\n",
       "      <td>-432.317850</td>\n",
       "      <td>4.872511</td>\n",
       "      <td>-500.037437</td>\n",
       "      <td>26.705889</td>\n",
       "      <td>-499.709414</td>\n",
       "    </tr>\n",
       "    <tr>\n",
       "      <th>1</th>\n",
       "      <td>2016-09-01 01:59:59</td>\n",
       "      <td>215.392455</td>\n",
       "      <td>14.987471</td>\n",
       "      <td>8.080000</td>\n",
       "      <td>0.990469</td>\n",
       "      <td>1398.777912</td>\n",
       "      <td>-500.057435</td>\n",
       "      <td>1398.055362</td>\n",
       "      <td>-499.778182</td>\n",
       "      <td>1396.151033</td>\n",
       "      <td>...</td>\n",
       "      <td>12.058140</td>\n",
       "      <td>-498.695773</td>\n",
       "      <td>8.130979</td>\n",
       "      <td>-499.634209</td>\n",
       "      <td>7.958270</td>\n",
       "      <td>-525.839648</td>\n",
       "      <td>4.878850</td>\n",
       "      <td>-500.162375</td>\n",
       "      <td>25.019940</td>\n",
       "      <td>-499.819438</td>\n",
       "    </tr>\n",
       "    <tr>\n",
       "      <th>2</th>\n",
       "      <td>2016-09-01 02:59:59</td>\n",
       "      <td>215.259946</td>\n",
       "      <td>12.884934</td>\n",
       "      <td>7.786667</td>\n",
       "      <td>0.996043</td>\n",
       "      <td>1398.493666</td>\n",
       "      <td>-500.868360</td>\n",
       "      <td>1398.860436</td>\n",
       "      <td>-499.764529</td>\n",
       "      <td>1398.075709</td>\n",
       "      <td>...</td>\n",
       "      <td>11.962366</td>\n",
       "      <td>-498.767484</td>\n",
       "      <td>8.096893</td>\n",
       "      <td>-500.827423</td>\n",
       "      <td>8.071056</td>\n",
       "      <td>-500.801673</td>\n",
       "      <td>4.905125</td>\n",
       "      <td>-499.828510</td>\n",
       "      <td>24.994862</td>\n",
       "      <td>-500.622559</td>\n",
       "    </tr>\n",
       "    <tr>\n",
       "      <th>3</th>\n",
       "      <td>2016-09-01 03:59:59</td>\n",
       "      <td>215.336236</td>\n",
       "      <td>12.006805</td>\n",
       "      <td>7.640000</td>\n",
       "      <td>0.863514</td>\n",
       "      <td>1399.618111</td>\n",
       "      <td>-498.863574</td>\n",
       "      <td>1397.440120</td>\n",
       "      <td>-499.211024</td>\n",
       "      <td>1400.129303</td>\n",
       "      <td>...</td>\n",
       "      <td>12.033091</td>\n",
       "      <td>-498.350935</td>\n",
       "      <td>8.074946</td>\n",
       "      <td>-499.474407</td>\n",
       "      <td>7.897085</td>\n",
       "      <td>-500.868509</td>\n",
       "      <td>4.931400</td>\n",
       "      <td>-499.963623</td>\n",
       "      <td>24.948919</td>\n",
       "      <td>-498.709987</td>\n",
       "    </tr>\n",
       "    <tr>\n",
       "      <th>4</th>\n",
       "      <td>2016-09-01 04:59:59</td>\n",
       "      <td>199.099327</td>\n",
       "      <td>10.682530</td>\n",
       "      <td>7.530000</td>\n",
       "      <td>0.805575</td>\n",
       "      <td>1401.268123</td>\n",
       "      <td>-500.808305</td>\n",
       "      <td>1398.128818</td>\n",
       "      <td>-499.504543</td>\n",
       "      <td>1402.172226</td>\n",
       "      <td>...</td>\n",
       "      <td>12.025367</td>\n",
       "      <td>-500.786497</td>\n",
       "      <td>8.054678</td>\n",
       "      <td>-500.397500</td>\n",
       "      <td>8.107890</td>\n",
       "      <td>-509.526725</td>\n",
       "      <td>4.957674</td>\n",
       "      <td>-500.360026</td>\n",
       "      <td>25.003331</td>\n",
       "      <td>-500.856333</td>\n",
       "    </tr>\n",
       "  </tbody>\n",
       "</table>\n",
       "<p>5 rows × 53 columns</p>\n",
       "</div>"
      ],
      "text/plain": [
       "                  date  primary_cleaner.input.sulfate  \\\n",
       "0  2016-09-01 00:59:59                     210.800909   \n",
       "1  2016-09-01 01:59:59                     215.392455   \n",
       "2  2016-09-01 02:59:59                     215.259946   \n",
       "3  2016-09-01 03:59:59                     215.336236   \n",
       "4  2016-09-01 04:59:59                     199.099327   \n",
       "\n",
       "   primary_cleaner.input.depressant  primary_cleaner.input.feed_size  \\\n",
       "0                         14.993118                         8.080000   \n",
       "1                         14.987471                         8.080000   \n",
       "2                         12.884934                         7.786667   \n",
       "3                         12.006805                         7.640000   \n",
       "4                         10.682530                         7.530000   \n",
       "\n",
       "   primary_cleaner.input.xanthate  primary_cleaner.state.floatbank8_a_air  \\\n",
       "0                        1.005021                             1398.981301   \n",
       "1                        0.990469                             1398.777912   \n",
       "2                        0.996043                             1398.493666   \n",
       "3                        0.863514                             1399.618111   \n",
       "4                        0.805575                             1401.268123   \n",
       "\n",
       "   primary_cleaner.state.floatbank8_a_level  \\\n",
       "0                               -500.225577   \n",
       "1                               -500.057435   \n",
       "2                               -500.868360   \n",
       "3                               -498.863574   \n",
       "4                               -500.808305   \n",
       "\n",
       "   primary_cleaner.state.floatbank8_b_air  \\\n",
       "0                             1399.144926   \n",
       "1                             1398.055362   \n",
       "2                             1398.860436   \n",
       "3                             1397.440120   \n",
       "4                             1398.128818   \n",
       "\n",
       "   primary_cleaner.state.floatbank8_b_level  \\\n",
       "0                               -499.919735   \n",
       "1                               -499.778182   \n",
       "2                               -499.764529   \n",
       "3                               -499.211024   \n",
       "4                               -499.504543   \n",
       "\n",
       "   primary_cleaner.state.floatbank8_c_air  ...  \\\n",
       "0                             1400.102998  ...   \n",
       "1                             1396.151033  ...   \n",
       "2                             1398.075709  ...   \n",
       "3                             1400.129303  ...   \n",
       "4                             1402.172226  ...   \n",
       "\n",
       "   secondary_cleaner.state.floatbank4_a_air  \\\n",
       "0                                 12.023554   \n",
       "1                                 12.058140   \n",
       "2                                 11.962366   \n",
       "3                                 12.033091   \n",
       "4                                 12.025367   \n",
       "\n",
       "   secondary_cleaner.state.floatbank4_a_level  \\\n",
       "0                                 -497.795834   \n",
       "1                                 -498.695773   \n",
       "2                                 -498.767484   \n",
       "3                                 -498.350935   \n",
       "4                                 -500.786497   \n",
       "\n",
       "   secondary_cleaner.state.floatbank4_b_air  \\\n",
       "0                                  8.016656   \n",
       "1                                  8.130979   \n",
       "2                                  8.096893   \n",
       "3                                  8.074946   \n",
       "4                                  8.054678   \n",
       "\n",
       "   secondary_cleaner.state.floatbank4_b_level  \\\n",
       "0                                 -501.289139   \n",
       "1                                 -499.634209   \n",
       "2                                 -500.827423   \n",
       "3                                 -499.474407   \n",
       "4                                 -500.397500   \n",
       "\n",
       "   secondary_cleaner.state.floatbank5_a_air  \\\n",
       "0                                  7.946562   \n",
       "1                                  7.958270   \n",
       "2                                  8.071056   \n",
       "3                                  7.897085   \n",
       "4                                  8.107890   \n",
       "\n",
       "   secondary_cleaner.state.floatbank5_a_level  \\\n",
       "0                                 -432.317850   \n",
       "1                                 -525.839648   \n",
       "2                                 -500.801673   \n",
       "3                                 -500.868509   \n",
       "4                                 -509.526725   \n",
       "\n",
       "   secondary_cleaner.state.floatbank5_b_air  \\\n",
       "0                                  4.872511   \n",
       "1                                  4.878850   \n",
       "2                                  4.905125   \n",
       "3                                  4.931400   \n",
       "4                                  4.957674   \n",
       "\n",
       "   secondary_cleaner.state.floatbank5_b_level  \\\n",
       "0                                 -500.037437   \n",
       "1                                 -500.162375   \n",
       "2                                 -499.828510   \n",
       "3                                 -499.963623   \n",
       "4                                 -500.360026   \n",
       "\n",
       "   secondary_cleaner.state.floatbank6_a_air  \\\n",
       "0                                 26.705889   \n",
       "1                                 25.019940   \n",
       "2                                 24.994862   \n",
       "3                                 24.948919   \n",
       "4                                 25.003331   \n",
       "\n",
       "   secondary_cleaner.state.floatbank6_a_level  \n",
       "0                                 -499.709414  \n",
       "1                                 -499.819438  \n",
       "2                                 -500.622559  \n",
       "3                                 -498.709987  \n",
       "4                                 -500.856333  \n",
       "\n",
       "[5 rows x 53 columns]"
      ]
     },
     "execution_count": 8,
     "metadata": {},
     "output_type": "execute_result"
    }
   ],
   "source": [
    "test_data.head()"
   ]
  },
  {
   "cell_type": "code",
   "execution_count": 9,
   "metadata": {
    "scrolled": true
   },
   "outputs": [
    {
     "name": "stdout",
     "output_type": "stream",
     "text": [
      "<class 'pandas.core.frame.DataFrame'>\n",
      "RangeIndex: 5290 entries, 0 to 5289\n",
      "Data columns (total 53 columns):\n",
      " #   Column                                      Non-Null Count  Dtype  \n",
      "---  ------                                      --------------  -----  \n",
      " 0   date                                        5290 non-null   object \n",
      " 1   primary_cleaner.input.sulfate               5286 non-null   float64\n",
      " 2   primary_cleaner.input.depressant            5285 non-null   float64\n",
      " 3   primary_cleaner.input.feed_size             5290 non-null   float64\n",
      " 4   primary_cleaner.input.xanthate              5286 non-null   float64\n",
      " 5   primary_cleaner.state.floatbank8_a_air      5290 non-null   float64\n",
      " 6   primary_cleaner.state.floatbank8_a_level    5290 non-null   float64\n",
      " 7   primary_cleaner.state.floatbank8_b_air      5290 non-null   float64\n",
      " 8   primary_cleaner.state.floatbank8_b_level    5290 non-null   float64\n",
      " 9   primary_cleaner.state.floatbank8_c_air      5290 non-null   float64\n",
      " 10  primary_cleaner.state.floatbank8_c_level    5290 non-null   float64\n",
      " 11  primary_cleaner.state.floatbank8_d_air      5290 non-null   float64\n",
      " 12  primary_cleaner.state.floatbank8_d_level    5290 non-null   float64\n",
      " 13  rougher.input.feed_ag                       5290 non-null   float64\n",
      " 14  rougher.input.feed_pb                       5290 non-null   float64\n",
      " 15  rougher.input.feed_rate                     5287 non-null   float64\n",
      " 16  rougher.input.feed_size                     5289 non-null   float64\n",
      " 17  rougher.input.feed_sol                      5269 non-null   float64\n",
      " 18  rougher.input.feed_au                       5290 non-null   float64\n",
      " 19  rougher.input.floatbank10_sulfate           5285 non-null   float64\n",
      " 20  rougher.input.floatbank10_xanthate          5290 non-null   float64\n",
      " 21  rougher.input.floatbank11_sulfate           5282 non-null   float64\n",
      " 22  rougher.input.floatbank11_xanthate          5265 non-null   float64\n",
      " 23  rougher.state.floatbank10_a_air             5290 non-null   float64\n",
      " 24  rougher.state.floatbank10_a_level           5290 non-null   float64\n",
      " 25  rougher.state.floatbank10_b_air             5290 non-null   float64\n",
      " 26  rougher.state.floatbank10_b_level           5290 non-null   float64\n",
      " 27  rougher.state.floatbank10_c_air             5290 non-null   float64\n",
      " 28  rougher.state.floatbank10_c_level           5290 non-null   float64\n",
      " 29  rougher.state.floatbank10_d_air             5290 non-null   float64\n",
      " 30  rougher.state.floatbank10_d_level           5290 non-null   float64\n",
      " 31  rougher.state.floatbank10_e_air             5290 non-null   float64\n",
      " 32  rougher.state.floatbank10_e_level           5290 non-null   float64\n",
      " 33  rougher.state.floatbank10_f_air             5290 non-null   float64\n",
      " 34  rougher.state.floatbank10_f_level           5290 non-null   float64\n",
      " 35  secondary_cleaner.state.floatbank2_a_air    5287 non-null   float64\n",
      " 36  secondary_cleaner.state.floatbank2_a_level  5290 non-null   float64\n",
      " 37  secondary_cleaner.state.floatbank2_b_air    5288 non-null   float64\n",
      " 38  secondary_cleaner.state.floatbank2_b_level  5290 non-null   float64\n",
      " 39  secondary_cleaner.state.floatbank3_a_air    5281 non-null   float64\n",
      " 40  secondary_cleaner.state.floatbank3_a_level  5290 non-null   float64\n",
      " 41  secondary_cleaner.state.floatbank3_b_air    5290 non-null   float64\n",
      " 42  secondary_cleaner.state.floatbank3_b_level  5290 non-null   float64\n",
      " 43  secondary_cleaner.state.floatbank4_a_air    5290 non-null   float64\n",
      " 44  secondary_cleaner.state.floatbank4_a_level  5290 non-null   float64\n",
      " 45  secondary_cleaner.state.floatbank4_b_air    5290 non-null   float64\n",
      " 46  secondary_cleaner.state.floatbank4_b_level  5290 non-null   float64\n",
      " 47  secondary_cleaner.state.floatbank5_a_air    5290 non-null   float64\n",
      " 48  secondary_cleaner.state.floatbank5_a_level  5290 non-null   float64\n",
      " 49  secondary_cleaner.state.floatbank5_b_air    5290 non-null   float64\n",
      " 50  secondary_cleaner.state.floatbank5_b_level  5290 non-null   float64\n",
      " 51  secondary_cleaner.state.floatbank6_a_air    5290 non-null   float64\n",
      " 52  secondary_cleaner.state.floatbank6_a_level  5290 non-null   float64\n",
      "dtypes: float64(52), object(1)\n",
      "memory usage: 2.1+ MB\n"
     ]
    }
   ],
   "source": [
    "test_data.info()"
   ]
  },
  {
   "cell_type": "markdown",
   "metadata": {},
   "source": [
    "Количество стобцов в тестовой выборке значительно меньше — вместо 86 признаков, мы имеем только 52 признака. Посмотрим, что за признаки отсутствуют."
   ]
  },
  {
   "cell_type": "code",
   "execution_count": 10,
   "metadata": {},
   "outputs": [
    {
     "name": "stdout",
     "output_type": "stream",
     "text": [
      "34\n"
     ]
    },
    {
     "data": {
      "text/plain": [
       "{'final.output.concentrate_ag',\n",
       " 'final.output.concentrate_au',\n",
       " 'final.output.concentrate_pb',\n",
       " 'final.output.concentrate_sol',\n",
       " 'final.output.recovery',\n",
       " 'final.output.tail_ag',\n",
       " 'final.output.tail_au',\n",
       " 'final.output.tail_pb',\n",
       " 'final.output.tail_sol',\n",
       " 'primary_cleaner.output.concentrate_ag',\n",
       " 'primary_cleaner.output.concentrate_au',\n",
       " 'primary_cleaner.output.concentrate_pb',\n",
       " 'primary_cleaner.output.concentrate_sol',\n",
       " 'primary_cleaner.output.tail_ag',\n",
       " 'primary_cleaner.output.tail_au',\n",
       " 'primary_cleaner.output.tail_pb',\n",
       " 'primary_cleaner.output.tail_sol',\n",
       " 'rougher.calculation.au_pb_ratio',\n",
       " 'rougher.calculation.floatbank10_sulfate_to_au_feed',\n",
       " 'rougher.calculation.floatbank11_sulfate_to_au_feed',\n",
       " 'rougher.calculation.sulfate_to_au_concentrate',\n",
       " 'rougher.output.concentrate_ag',\n",
       " 'rougher.output.concentrate_au',\n",
       " 'rougher.output.concentrate_pb',\n",
       " 'rougher.output.concentrate_sol',\n",
       " 'rougher.output.recovery',\n",
       " 'rougher.output.tail_ag',\n",
       " 'rougher.output.tail_au',\n",
       " 'rougher.output.tail_pb',\n",
       " 'rougher.output.tail_sol',\n",
       " 'secondary_cleaner.output.tail_ag',\n",
       " 'secondary_cleaner.output.tail_au',\n",
       " 'secondary_cleaner.output.tail_pb',\n",
       " 'secondary_cleaner.output.tail_sol'}"
      ]
     },
     "execution_count": 10,
     "metadata": {},
     "output_type": "execute_result"
    }
   ],
   "source": [
    "print(len(set(train_data) - set(test_data.columns))) # количество отсутствующих признаков\n",
    "set(train_data) - set(test_data.columns)             # преобразуем название признаков во множества\n",
    "                                                     # и найдем их разницу"
   ]
  },
  {
   "cell_type": "markdown",
   "metadata": {},
   "source": [
    "В тестовой выборке отсутсвуют целевые признаки, а также все что связано с содержанием различных элементов в продуктах каждого этапа — т.е. фактически для всех этапов отсутствуют признаки с названием `[].output.[]` (например, `primary_cleaner.output.tail_au` — содержание серебра в хвостах после первичной очистки). Кроме того, отсутсуют расчетные метрики для этапа флотации `rougher.calculation`. Вероятно, по задумке тех, кто отделял тестовую выборку, это позволяет исключить подглядывание продуктов при прогнозировании. Остутствие расчетных метрик, вероятно, связано с тем, чтобы они не известны до начала процесса — т.е. они относятся к онлайн-метрикам — и передавать их для обучения моделей бессмысленно. "
   ]
  },
  {
   "cell_type": "code",
   "execution_count": 11,
   "metadata": {
    "scrolled": true
   },
   "outputs": [
    {
     "data": {
      "text/html": [
       "<div>\n",
       "<style scoped>\n",
       "    .dataframe tbody tr th:only-of-type {\n",
       "        vertical-align: middle;\n",
       "    }\n",
       "\n",
       "    .dataframe tbody tr th {\n",
       "        vertical-align: top;\n",
       "    }\n",
       "\n",
       "    .dataframe thead th {\n",
       "        text-align: right;\n",
       "    }\n",
       "</style>\n",
       "<table border=\"1\" class=\"dataframe\">\n",
       "  <thead>\n",
       "    <tr style=\"text-align: right;\">\n",
       "      <th></th>\n",
       "      <th>primary_cleaner.input.sulfate</th>\n",
       "      <th>primary_cleaner.input.depressant</th>\n",
       "      <th>primary_cleaner.input.feed_size</th>\n",
       "      <th>primary_cleaner.input.xanthate</th>\n",
       "      <th>primary_cleaner.state.floatbank8_a_air</th>\n",
       "      <th>primary_cleaner.state.floatbank8_a_level</th>\n",
       "      <th>primary_cleaner.state.floatbank8_b_air</th>\n",
       "      <th>primary_cleaner.state.floatbank8_b_level</th>\n",
       "      <th>primary_cleaner.state.floatbank8_c_air</th>\n",
       "      <th>primary_cleaner.state.floatbank8_c_level</th>\n",
       "      <th>...</th>\n",
       "      <th>secondary_cleaner.state.floatbank4_a_air</th>\n",
       "      <th>secondary_cleaner.state.floatbank4_a_level</th>\n",
       "      <th>secondary_cleaner.state.floatbank4_b_air</th>\n",
       "      <th>secondary_cleaner.state.floatbank4_b_level</th>\n",
       "      <th>secondary_cleaner.state.floatbank5_a_air</th>\n",
       "      <th>secondary_cleaner.state.floatbank5_a_level</th>\n",
       "      <th>secondary_cleaner.state.floatbank5_b_air</th>\n",
       "      <th>secondary_cleaner.state.floatbank5_b_level</th>\n",
       "      <th>secondary_cleaner.state.floatbank6_a_air</th>\n",
       "      <th>secondary_cleaner.state.floatbank6_a_level</th>\n",
       "    </tr>\n",
       "  </thead>\n",
       "  <tbody>\n",
       "    <tr>\n",
       "      <th>count</th>\n",
       "      <td>5286.000000</td>\n",
       "      <td>5285.000000</td>\n",
       "      <td>5290.000000</td>\n",
       "      <td>5286.000000</td>\n",
       "      <td>5.290000e+03</td>\n",
       "      <td>5290.000000</td>\n",
       "      <td>5.290000e+03</td>\n",
       "      <td>5290.000000</td>\n",
       "      <td>5.290000e+03</td>\n",
       "      <td>5290.000000</td>\n",
       "      <td>...</td>\n",
       "      <td>5.290000e+03</td>\n",
       "      <td>5290.000000</td>\n",
       "      <td>5.290000e+03</td>\n",
       "      <td>5290.000000</td>\n",
       "      <td>5290.000000</td>\n",
       "      <td>5290.000000</td>\n",
       "      <td>5290.000000</td>\n",
       "      <td>5290.000000</td>\n",
       "      <td>5290.000000</td>\n",
       "      <td>5290.000000</td>\n",
       "    </tr>\n",
       "    <tr>\n",
       "      <th>mean</th>\n",
       "      <td>174.839652</td>\n",
       "      <td>8.683596</td>\n",
       "      <td>7.266339</td>\n",
       "      <td>1.383803</td>\n",
       "      <td>1.539494e+03</td>\n",
       "      <td>-497.665883</td>\n",
       "      <td>1.545174e+03</td>\n",
       "      <td>-500.273098</td>\n",
       "      <td>1.527272e+03</td>\n",
       "      <td>-498.330680</td>\n",
       "      <td>...</td>\n",
       "      <td>1.632007e+01</td>\n",
       "      <td>-505.144570</td>\n",
       "      <td>1.373544e+01</td>\n",
       "      <td>-463.349858</td>\n",
       "      <td>12.804186</td>\n",
       "      <td>-501.329122</td>\n",
       "      <td>9.881145</td>\n",
       "      <td>-495.663398</td>\n",
       "      <td>17.304935</td>\n",
       "      <td>-501.793193</td>\n",
       "    </tr>\n",
       "    <tr>\n",
       "      <th>std</th>\n",
       "      <td>43.027080</td>\n",
       "      <td>3.072050</td>\n",
       "      <td>0.610219</td>\n",
       "      <td>0.643474</td>\n",
       "      <td>1.167979e+02</td>\n",
       "      <td>19.952431</td>\n",
       "      <td>1.222246e+02</td>\n",
       "      <td>32.968307</td>\n",
       "      <td>1.225380e+02</td>\n",
       "      <td>21.964876</td>\n",
       "      <td>...</td>\n",
       "      <td>3.493583e+00</td>\n",
       "      <td>31.427337</td>\n",
       "      <td>3.430484e+00</td>\n",
       "      <td>86.189107</td>\n",
       "      <td>3.026591</td>\n",
       "      <td>17.951495</td>\n",
       "      <td>2.868205</td>\n",
       "      <td>34.535007</td>\n",
       "      <td>4.536544</td>\n",
       "      <td>39.044215</td>\n",
       "    </tr>\n",
       "    <tr>\n",
       "      <th>min</th>\n",
       "      <td>2.566156</td>\n",
       "      <td>0.003839</td>\n",
       "      <td>5.650000</td>\n",
       "      <td>0.004984</td>\n",
       "      <td>5.445860e-32</td>\n",
       "      <td>-795.316337</td>\n",
       "      <td>6.647490e-32</td>\n",
       "      <td>-799.997015</td>\n",
       "      <td>4.033736e-32</td>\n",
       "      <td>-799.960571</td>\n",
       "      <td>...</td>\n",
       "      <td>1.079872e-16</td>\n",
       "      <td>-799.798523</td>\n",
       "      <td>2.489718e-17</td>\n",
       "      <td>-800.836914</td>\n",
       "      <td>0.069227</td>\n",
       "      <td>-797.323986</td>\n",
       "      <td>0.528083</td>\n",
       "      <td>-800.220337</td>\n",
       "      <td>-0.079426</td>\n",
       "      <td>-809.741464</td>\n",
       "    </tr>\n",
       "    <tr>\n",
       "      <th>25%</th>\n",
       "      <td>147.121401</td>\n",
       "      <td>6.489555</td>\n",
       "      <td>6.890000</td>\n",
       "      <td>0.907623</td>\n",
       "      <td>1.498936e+03</td>\n",
       "      <td>-500.357298</td>\n",
       "      <td>1.498971e+03</td>\n",
       "      <td>-500.703002</td>\n",
       "      <td>1.473230e+03</td>\n",
       "      <td>-501.018117</td>\n",
       "      <td>...</td>\n",
       "      <td>1.403618e+01</td>\n",
       "      <td>-500.868258</td>\n",
       "      <td>1.202862e+01</td>\n",
       "      <td>-500.323028</td>\n",
       "      <td>10.914838</td>\n",
       "      <td>-500.726841</td>\n",
       "      <td>8.036719</td>\n",
       "      <td>-500.194668</td>\n",
       "      <td>13.997317</td>\n",
       "      <td>-500.690984</td>\n",
       "    </tr>\n",
       "    <tr>\n",
       "      <th>50%</th>\n",
       "      <td>177.828489</td>\n",
       "      <td>8.052207</td>\n",
       "      <td>7.250000</td>\n",
       "      <td>1.197610</td>\n",
       "      <td>1.585129e+03</td>\n",
       "      <td>-499.969164</td>\n",
       "      <td>1.595622e+03</td>\n",
       "      <td>-500.028514</td>\n",
       "      <td>1.549595e+03</td>\n",
       "      <td>-500.017711</td>\n",
       "      <td>...</td>\n",
       "      <td>1.700847e+01</td>\n",
       "      <td>-500.115727</td>\n",
       "      <td>1.496486e+01</td>\n",
       "      <td>-499.576513</td>\n",
       "      <td>12.954182</td>\n",
       "      <td>-499.990332</td>\n",
       "      <td>10.004301</td>\n",
       "      <td>-499.990535</td>\n",
       "      <td>16.014935</td>\n",
       "      <td>-500.007126</td>\n",
       "    </tr>\n",
       "    <tr>\n",
       "      <th>75%</th>\n",
       "      <td>208.125438</td>\n",
       "      <td>10.027764</td>\n",
       "      <td>7.600000</td>\n",
       "      <td>1.797819</td>\n",
       "      <td>1.602077e+03</td>\n",
       "      <td>-499.568951</td>\n",
       "      <td>1.602324e+03</td>\n",
       "      <td>-499.293257</td>\n",
       "      <td>1.601144e+03</td>\n",
       "      <td>-498.994130</td>\n",
       "      <td>...</td>\n",
       "      <td>1.803862e+01</td>\n",
       "      <td>-499.404224</td>\n",
       "      <td>1.596213e+01</td>\n",
       "      <td>-400.933805</td>\n",
       "      <td>15.097528</td>\n",
       "      <td>-499.283191</td>\n",
       "      <td>11.997467</td>\n",
       "      <td>-499.719913</td>\n",
       "      <td>21.020013</td>\n",
       "      <td>-499.373018</td>\n",
       "    </tr>\n",
       "    <tr>\n",
       "      <th>max</th>\n",
       "      <td>265.983123</td>\n",
       "      <td>40.000000</td>\n",
       "      <td>15.500000</td>\n",
       "      <td>4.102454</td>\n",
       "      <td>2.103104e+03</td>\n",
       "      <td>-57.195404</td>\n",
       "      <td>1.813084e+03</td>\n",
       "      <td>-142.527229</td>\n",
       "      <td>1.715054e+03</td>\n",
       "      <td>-150.937035</td>\n",
       "      <td>...</td>\n",
       "      <td>3.005180e+01</td>\n",
       "      <td>-401.565212</td>\n",
       "      <td>3.126971e+01</td>\n",
       "      <td>-6.506986</td>\n",
       "      <td>25.258848</td>\n",
       "      <td>-244.483566</td>\n",
       "      <td>14.086866</td>\n",
       "      <td>-137.740004</td>\n",
       "      <td>26.705889</td>\n",
       "      <td>-123.307487</td>\n",
       "    </tr>\n",
       "  </tbody>\n",
       "</table>\n",
       "<p>8 rows × 52 columns</p>\n",
       "</div>"
      ],
      "text/plain": [
       "       primary_cleaner.input.sulfate  primary_cleaner.input.depressant  \\\n",
       "count                    5286.000000                       5285.000000   \n",
       "mean                      174.839652                          8.683596   \n",
       "std                        43.027080                          3.072050   \n",
       "min                         2.566156                          0.003839   \n",
       "25%                       147.121401                          6.489555   \n",
       "50%                       177.828489                          8.052207   \n",
       "75%                       208.125438                         10.027764   \n",
       "max                       265.983123                         40.000000   \n",
       "\n",
       "       primary_cleaner.input.feed_size  primary_cleaner.input.xanthate  \\\n",
       "count                      5290.000000                     5286.000000   \n",
       "mean                          7.266339                        1.383803   \n",
       "std                           0.610219                        0.643474   \n",
       "min                           5.650000                        0.004984   \n",
       "25%                           6.890000                        0.907623   \n",
       "50%                           7.250000                        1.197610   \n",
       "75%                           7.600000                        1.797819   \n",
       "max                          15.500000                        4.102454   \n",
       "\n",
       "       primary_cleaner.state.floatbank8_a_air  \\\n",
       "count                            5.290000e+03   \n",
       "mean                             1.539494e+03   \n",
       "std                              1.167979e+02   \n",
       "min                              5.445860e-32   \n",
       "25%                              1.498936e+03   \n",
       "50%                              1.585129e+03   \n",
       "75%                              1.602077e+03   \n",
       "max                              2.103104e+03   \n",
       "\n",
       "       primary_cleaner.state.floatbank8_a_level  \\\n",
       "count                               5290.000000   \n",
       "mean                                -497.665883   \n",
       "std                                   19.952431   \n",
       "min                                 -795.316337   \n",
       "25%                                 -500.357298   \n",
       "50%                                 -499.969164   \n",
       "75%                                 -499.568951   \n",
       "max                                  -57.195404   \n",
       "\n",
       "       primary_cleaner.state.floatbank8_b_air  \\\n",
       "count                            5.290000e+03   \n",
       "mean                             1.545174e+03   \n",
       "std                              1.222246e+02   \n",
       "min                              6.647490e-32   \n",
       "25%                              1.498971e+03   \n",
       "50%                              1.595622e+03   \n",
       "75%                              1.602324e+03   \n",
       "max                              1.813084e+03   \n",
       "\n",
       "       primary_cleaner.state.floatbank8_b_level  \\\n",
       "count                               5290.000000   \n",
       "mean                                -500.273098   \n",
       "std                                   32.968307   \n",
       "min                                 -799.997015   \n",
       "25%                                 -500.703002   \n",
       "50%                                 -500.028514   \n",
       "75%                                 -499.293257   \n",
       "max                                 -142.527229   \n",
       "\n",
       "       primary_cleaner.state.floatbank8_c_air  \\\n",
       "count                            5.290000e+03   \n",
       "mean                             1.527272e+03   \n",
       "std                              1.225380e+02   \n",
       "min                              4.033736e-32   \n",
       "25%                              1.473230e+03   \n",
       "50%                              1.549595e+03   \n",
       "75%                              1.601144e+03   \n",
       "max                              1.715054e+03   \n",
       "\n",
       "       primary_cleaner.state.floatbank8_c_level  ...  \\\n",
       "count                               5290.000000  ...   \n",
       "mean                                -498.330680  ...   \n",
       "std                                   21.964876  ...   \n",
       "min                                 -799.960571  ...   \n",
       "25%                                 -501.018117  ...   \n",
       "50%                                 -500.017711  ...   \n",
       "75%                                 -498.994130  ...   \n",
       "max                                 -150.937035  ...   \n",
       "\n",
       "       secondary_cleaner.state.floatbank4_a_air  \\\n",
       "count                              5.290000e+03   \n",
       "mean                               1.632007e+01   \n",
       "std                                3.493583e+00   \n",
       "min                                1.079872e-16   \n",
       "25%                                1.403618e+01   \n",
       "50%                                1.700847e+01   \n",
       "75%                                1.803862e+01   \n",
       "max                                3.005180e+01   \n",
       "\n",
       "       secondary_cleaner.state.floatbank4_a_level  \\\n",
       "count                                 5290.000000   \n",
       "mean                                  -505.144570   \n",
       "std                                     31.427337   \n",
       "min                                   -799.798523   \n",
       "25%                                   -500.868258   \n",
       "50%                                   -500.115727   \n",
       "75%                                   -499.404224   \n",
       "max                                   -401.565212   \n",
       "\n",
       "       secondary_cleaner.state.floatbank4_b_air  \\\n",
       "count                              5.290000e+03   \n",
       "mean                               1.373544e+01   \n",
       "std                                3.430484e+00   \n",
       "min                                2.489718e-17   \n",
       "25%                                1.202862e+01   \n",
       "50%                                1.496486e+01   \n",
       "75%                                1.596213e+01   \n",
       "max                                3.126971e+01   \n",
       "\n",
       "       secondary_cleaner.state.floatbank4_b_level  \\\n",
       "count                                 5290.000000   \n",
       "mean                                  -463.349858   \n",
       "std                                     86.189107   \n",
       "min                                   -800.836914   \n",
       "25%                                   -500.323028   \n",
       "50%                                   -499.576513   \n",
       "75%                                   -400.933805   \n",
       "max                                     -6.506986   \n",
       "\n",
       "       secondary_cleaner.state.floatbank5_a_air  \\\n",
       "count                               5290.000000   \n",
       "mean                                  12.804186   \n",
       "std                                    3.026591   \n",
       "min                                    0.069227   \n",
       "25%                                   10.914838   \n",
       "50%                                   12.954182   \n",
       "75%                                   15.097528   \n",
       "max                                   25.258848   \n",
       "\n",
       "       secondary_cleaner.state.floatbank5_a_level  \\\n",
       "count                                 5290.000000   \n",
       "mean                                  -501.329122   \n",
       "std                                     17.951495   \n",
       "min                                   -797.323986   \n",
       "25%                                   -500.726841   \n",
       "50%                                   -499.990332   \n",
       "75%                                   -499.283191   \n",
       "max                                   -244.483566   \n",
       "\n",
       "       secondary_cleaner.state.floatbank5_b_air  \\\n",
       "count                               5290.000000   \n",
       "mean                                   9.881145   \n",
       "std                                    2.868205   \n",
       "min                                    0.528083   \n",
       "25%                                    8.036719   \n",
       "50%                                   10.004301   \n",
       "75%                                   11.997467   \n",
       "max                                   14.086866   \n",
       "\n",
       "       secondary_cleaner.state.floatbank5_b_level  \\\n",
       "count                                 5290.000000   \n",
       "mean                                  -495.663398   \n",
       "std                                     34.535007   \n",
       "min                                   -800.220337   \n",
       "25%                                   -500.194668   \n",
       "50%                                   -499.990535   \n",
       "75%                                   -499.719913   \n",
       "max                                   -137.740004   \n",
       "\n",
       "       secondary_cleaner.state.floatbank6_a_air  \\\n",
       "count                               5290.000000   \n",
       "mean                                  17.304935   \n",
       "std                                    4.536544   \n",
       "min                                   -0.079426   \n",
       "25%                                   13.997317   \n",
       "50%                                   16.014935   \n",
       "75%                                   21.020013   \n",
       "max                                   26.705889   \n",
       "\n",
       "       secondary_cleaner.state.floatbank6_a_level  \n",
       "count                                 5290.000000  \n",
       "mean                                  -501.793193  \n",
       "std                                     39.044215  \n",
       "min                                   -809.741464  \n",
       "25%                                   -500.690984  \n",
       "50%                                   -500.007126  \n",
       "75%                                   -499.373018  \n",
       "max                                   -123.307487  \n",
       "\n",
       "[8 rows x 52 columns]"
      ]
     },
     "execution_count": 11,
     "metadata": {},
     "output_type": "execute_result"
    }
   ],
   "source": [
    "test_data.describe()"
   ]
  },
  {
   "cell_type": "markdown",
   "metadata": {},
   "source": [
    "Отметим, что по некоторым признакам в тренировчной и тестовой выборке отличаются статистические параметры. Например, у признака `primary_cleaner.input.sulfate` в тестовой выборке дисперсия равняется `43`, среднее значение `174.8` и медиана — `177.8`, — а в тренировочной, `39.4 , 133.3 , 133.01` соответственно."
   ]
  },
  {
   "cell_type": "markdown",
   "metadata": {},
   "source": [
    "Такие различия могут быть связаны с тем, что выборки собирались в разное время, а смесь золотосодержащей руды имеет крайне не постоянные характеристики. Различие характеристик может затруднить обучение моделей."
   ]
  },
  {
   "cell_type": "code",
   "execution_count": 12,
   "metadata": {
    "scrolled": true
   },
   "outputs": [
    {
     "data": {
      "text/plain": [
       "count    14129.000000\n",
       "mean       133.320659\n",
       "std         39.431659\n",
       "min          0.003112\n",
       "25%        107.006651\n",
       "50%        133.018328\n",
       "75%        159.825396\n",
       "max        250.127834\n",
       "Name: primary_cleaner.input.sulfate, dtype: float64"
      ]
     },
     "execution_count": 12,
     "metadata": {},
     "output_type": "execute_result"
    }
   ],
   "source": [
    "train_data['primary_cleaner.input.sulfate'].describe()"
   ]
  },
  {
   "cell_type": "markdown",
   "metadata": {},
   "source": [
    "Отметим, что проверка работы модели потребует присоединения целевых признаков из полного датасета `full_data` по дате."
   ]
  },
  {
   "cell_type": "markdown",
   "metadata": {},
   "source": [
    "Также заметим, что в тестовой выборке почти отсутствуют пропуски."
   ]
  },
  {
   "cell_type": "markdown",
   "metadata": {},
   "source": [
    "### Полный набор данных"
   ]
  },
  {
   "cell_type": "code",
   "execution_count": 13,
   "metadata": {
    "scrolled": false
   },
   "outputs": [
    {
     "data": {
      "text/html": [
       "<div>\n",
       "<style scoped>\n",
       "    .dataframe tbody tr th:only-of-type {\n",
       "        vertical-align: middle;\n",
       "    }\n",
       "\n",
       "    .dataframe tbody tr th {\n",
       "        vertical-align: top;\n",
       "    }\n",
       "\n",
       "    .dataframe thead th {\n",
       "        text-align: right;\n",
       "    }\n",
       "</style>\n",
       "<table border=\"1\" class=\"dataframe\">\n",
       "  <thead>\n",
       "    <tr style=\"text-align: right;\">\n",
       "      <th></th>\n",
       "      <th>date</th>\n",
       "      <th>final.output.concentrate_ag</th>\n",
       "      <th>final.output.concentrate_pb</th>\n",
       "      <th>final.output.concentrate_sol</th>\n",
       "      <th>final.output.concentrate_au</th>\n",
       "      <th>final.output.recovery</th>\n",
       "      <th>final.output.tail_ag</th>\n",
       "      <th>final.output.tail_pb</th>\n",
       "      <th>final.output.tail_sol</th>\n",
       "      <th>final.output.tail_au</th>\n",
       "      <th>...</th>\n",
       "      <th>secondary_cleaner.state.floatbank4_a_air</th>\n",
       "      <th>secondary_cleaner.state.floatbank4_a_level</th>\n",
       "      <th>secondary_cleaner.state.floatbank4_b_air</th>\n",
       "      <th>secondary_cleaner.state.floatbank4_b_level</th>\n",
       "      <th>secondary_cleaner.state.floatbank5_a_air</th>\n",
       "      <th>secondary_cleaner.state.floatbank5_a_level</th>\n",
       "      <th>secondary_cleaner.state.floatbank5_b_air</th>\n",
       "      <th>secondary_cleaner.state.floatbank5_b_level</th>\n",
       "      <th>secondary_cleaner.state.floatbank6_a_air</th>\n",
       "      <th>secondary_cleaner.state.floatbank6_a_level</th>\n",
       "    </tr>\n",
       "  </thead>\n",
       "  <tbody>\n",
       "    <tr>\n",
       "      <th>0</th>\n",
       "      <td>2016-01-15 00:00:00</td>\n",
       "      <td>6.055403</td>\n",
       "      <td>9.889648</td>\n",
       "      <td>5.507324</td>\n",
       "      <td>42.192020</td>\n",
       "      <td>70.541216</td>\n",
       "      <td>10.411962</td>\n",
       "      <td>0.895447</td>\n",
       "      <td>16.904297</td>\n",
       "      <td>2.143149</td>\n",
       "      <td>...</td>\n",
       "      <td>14.016835</td>\n",
       "      <td>-502.488007</td>\n",
       "      <td>12.099931</td>\n",
       "      <td>-504.715942</td>\n",
       "      <td>9.925633</td>\n",
       "      <td>-498.310211</td>\n",
       "      <td>8.079666</td>\n",
       "      <td>-500.470978</td>\n",
       "      <td>14.151341</td>\n",
       "      <td>-605.841980</td>\n",
       "    </tr>\n",
       "    <tr>\n",
       "      <th>1</th>\n",
       "      <td>2016-01-15 01:00:00</td>\n",
       "      <td>6.029369</td>\n",
       "      <td>9.968944</td>\n",
       "      <td>5.257781</td>\n",
       "      <td>42.701629</td>\n",
       "      <td>69.266198</td>\n",
       "      <td>10.462676</td>\n",
       "      <td>0.927452</td>\n",
       "      <td>16.634514</td>\n",
       "      <td>2.224930</td>\n",
       "      <td>...</td>\n",
       "      <td>13.992281</td>\n",
       "      <td>-505.503262</td>\n",
       "      <td>11.950531</td>\n",
       "      <td>-501.331529</td>\n",
       "      <td>10.039245</td>\n",
       "      <td>-500.169983</td>\n",
       "      <td>7.984757</td>\n",
       "      <td>-500.582168</td>\n",
       "      <td>13.998353</td>\n",
       "      <td>-599.787184</td>\n",
       "    </tr>\n",
       "    <tr>\n",
       "      <th>2</th>\n",
       "      <td>2016-01-15 02:00:00</td>\n",
       "      <td>6.055926</td>\n",
       "      <td>10.213995</td>\n",
       "      <td>5.383759</td>\n",
       "      <td>42.657501</td>\n",
       "      <td>68.116445</td>\n",
       "      <td>10.507046</td>\n",
       "      <td>0.953716</td>\n",
       "      <td>16.208849</td>\n",
       "      <td>2.257889</td>\n",
       "      <td>...</td>\n",
       "      <td>14.015015</td>\n",
       "      <td>-502.520901</td>\n",
       "      <td>11.912783</td>\n",
       "      <td>-501.133383</td>\n",
       "      <td>10.070913</td>\n",
       "      <td>-500.129135</td>\n",
       "      <td>8.013877</td>\n",
       "      <td>-500.517572</td>\n",
       "      <td>14.028663</td>\n",
       "      <td>-601.427363</td>\n",
       "    </tr>\n",
       "    <tr>\n",
       "      <th>3</th>\n",
       "      <td>2016-01-15 03:00:00</td>\n",
       "      <td>6.047977</td>\n",
       "      <td>9.977019</td>\n",
       "      <td>4.858634</td>\n",
       "      <td>42.689819</td>\n",
       "      <td>68.347543</td>\n",
       "      <td>10.422762</td>\n",
       "      <td>0.883763</td>\n",
       "      <td>16.532835</td>\n",
       "      <td>2.146849</td>\n",
       "      <td>...</td>\n",
       "      <td>14.036510</td>\n",
       "      <td>-500.857308</td>\n",
       "      <td>11.999550</td>\n",
       "      <td>-501.193686</td>\n",
       "      <td>9.970366</td>\n",
       "      <td>-499.201640</td>\n",
       "      <td>7.977324</td>\n",
       "      <td>-500.255908</td>\n",
       "      <td>14.005551</td>\n",
       "      <td>-599.996129</td>\n",
       "    </tr>\n",
       "    <tr>\n",
       "      <th>4</th>\n",
       "      <td>2016-01-15 04:00:00</td>\n",
       "      <td>6.148599</td>\n",
       "      <td>10.142511</td>\n",
       "      <td>4.939416</td>\n",
       "      <td>42.774141</td>\n",
       "      <td>66.927016</td>\n",
       "      <td>10.360302</td>\n",
       "      <td>0.792826</td>\n",
       "      <td>16.525686</td>\n",
       "      <td>2.055292</td>\n",
       "      <td>...</td>\n",
       "      <td>14.027298</td>\n",
       "      <td>-499.838632</td>\n",
       "      <td>11.953070</td>\n",
       "      <td>-501.053894</td>\n",
       "      <td>9.925709</td>\n",
       "      <td>-501.686727</td>\n",
       "      <td>7.894242</td>\n",
       "      <td>-500.356035</td>\n",
       "      <td>13.996647</td>\n",
       "      <td>-601.496691</td>\n",
       "    </tr>\n",
       "    <tr>\n",
       "      <th>5</th>\n",
       "      <td>2016-01-15 05:00:00</td>\n",
       "      <td>6.482968</td>\n",
       "      <td>10.049416</td>\n",
       "      <td>5.480257</td>\n",
       "      <td>41.633678</td>\n",
       "      <td>69.465816</td>\n",
       "      <td>10.182708</td>\n",
       "      <td>0.664118</td>\n",
       "      <td>16.999638</td>\n",
       "      <td>1.918586</td>\n",
       "      <td>...</td>\n",
       "      <td>13.938497</td>\n",
       "      <td>-500.970168</td>\n",
       "      <td>11.883350</td>\n",
       "      <td>-500.395298</td>\n",
       "      <td>10.054147</td>\n",
       "      <td>-496.374715</td>\n",
       "      <td>7.965083</td>\n",
       "      <td>-499.364752</td>\n",
       "      <td>14.017067</td>\n",
       "      <td>-599.707915</td>\n",
       "    </tr>\n",
       "    <tr>\n",
       "      <th>6</th>\n",
       "      <td>2016-01-15 06:00:00</td>\n",
       "      <td>6.533849</td>\n",
       "      <td>10.058141</td>\n",
       "      <td>4.569100</td>\n",
       "      <td>41.995316</td>\n",
       "      <td>69.300835</td>\n",
       "      <td>10.304598</td>\n",
       "      <td>0.807342</td>\n",
       "      <td>16.723575</td>\n",
       "      <td>2.058913</td>\n",
       "      <td>...</td>\n",
       "      <td>14.046819</td>\n",
       "      <td>-500.971133</td>\n",
       "      <td>12.091543</td>\n",
       "      <td>-500.501426</td>\n",
       "      <td>10.003247</td>\n",
       "      <td>-497.083180</td>\n",
       "      <td>8.010890</td>\n",
       "      <td>-500.002423</td>\n",
       "      <td>14.029649</td>\n",
       "      <td>-600.905470</td>\n",
       "    </tr>\n",
       "    <tr>\n",
       "      <th>7</th>\n",
       "      <td>2016-01-15 07:00:00</td>\n",
       "      <td>6.130823</td>\n",
       "      <td>9.935481</td>\n",
       "      <td>4.389813</td>\n",
       "      <td>42.452727</td>\n",
       "      <td>70.230976</td>\n",
       "      <td>10.443288</td>\n",
       "      <td>0.949346</td>\n",
       "      <td>16.689959</td>\n",
       "      <td>2.143437</td>\n",
       "      <td>...</td>\n",
       "      <td>13.974691</td>\n",
       "      <td>-501.819696</td>\n",
       "      <td>12.101324</td>\n",
       "      <td>-500.583446</td>\n",
       "      <td>9.873169</td>\n",
       "      <td>-499.171928</td>\n",
       "      <td>7.993381</td>\n",
       "      <td>-499.794518</td>\n",
       "      <td>13.984498</td>\n",
       "      <td>-600.411070</td>\n",
       "    </tr>\n",
       "    <tr>\n",
       "      <th>8</th>\n",
       "      <td>2016-01-15 08:00:00</td>\n",
       "      <td>5.834140</td>\n",
       "      <td>10.071156</td>\n",
       "      <td>4.876389</td>\n",
       "      <td>43.404078</td>\n",
       "      <td>69.688595</td>\n",
       "      <td>10.420140</td>\n",
       "      <td>1.065453</td>\n",
       "      <td>17.201948</td>\n",
       "      <td>2.209881</td>\n",
       "      <td>...</td>\n",
       "      <td>13.964030</td>\n",
       "      <td>-504.252450</td>\n",
       "      <td>12.060738</td>\n",
       "      <td>-501.174549</td>\n",
       "      <td>10.033838</td>\n",
       "      <td>-501.178133</td>\n",
       "      <td>7.881604</td>\n",
       "      <td>-499.729434</td>\n",
       "      <td>13.967135</td>\n",
       "      <td>-599.061188</td>\n",
       "    </tr>\n",
       "    <tr>\n",
       "      <th>9</th>\n",
       "      <td>2016-01-15 09:00:00</td>\n",
       "      <td>5.687063</td>\n",
       "      <td>9.980404</td>\n",
       "      <td>5.282514</td>\n",
       "      <td>43.235220</td>\n",
       "      <td>70.279619</td>\n",
       "      <td>10.487013</td>\n",
       "      <td>1.159805</td>\n",
       "      <td>17.483979</td>\n",
       "      <td>2.209593</td>\n",
       "      <td>...</td>\n",
       "      <td>13.989632</td>\n",
       "      <td>-503.195299</td>\n",
       "      <td>12.052233</td>\n",
       "      <td>-500.928547</td>\n",
       "      <td>9.962574</td>\n",
       "      <td>-502.986357</td>\n",
       "      <td>7.979219</td>\n",
       "      <td>-500.146835</td>\n",
       "      <td>13.981614</td>\n",
       "      <td>-598.070855</td>\n",
       "    </tr>\n",
       "  </tbody>\n",
       "</table>\n",
       "<p>10 rows × 87 columns</p>\n",
       "</div>"
      ],
      "text/plain": [
       "                  date  final.output.concentrate_ag  \\\n",
       "0  2016-01-15 00:00:00                     6.055403   \n",
       "1  2016-01-15 01:00:00                     6.029369   \n",
       "2  2016-01-15 02:00:00                     6.055926   \n",
       "3  2016-01-15 03:00:00                     6.047977   \n",
       "4  2016-01-15 04:00:00                     6.148599   \n",
       "5  2016-01-15 05:00:00                     6.482968   \n",
       "6  2016-01-15 06:00:00                     6.533849   \n",
       "7  2016-01-15 07:00:00                     6.130823   \n",
       "8  2016-01-15 08:00:00                     5.834140   \n",
       "9  2016-01-15 09:00:00                     5.687063   \n",
       "\n",
       "   final.output.concentrate_pb  final.output.concentrate_sol  \\\n",
       "0                     9.889648                      5.507324   \n",
       "1                     9.968944                      5.257781   \n",
       "2                    10.213995                      5.383759   \n",
       "3                     9.977019                      4.858634   \n",
       "4                    10.142511                      4.939416   \n",
       "5                    10.049416                      5.480257   \n",
       "6                    10.058141                      4.569100   \n",
       "7                     9.935481                      4.389813   \n",
       "8                    10.071156                      4.876389   \n",
       "9                     9.980404                      5.282514   \n",
       "\n",
       "   final.output.concentrate_au  final.output.recovery  final.output.tail_ag  \\\n",
       "0                    42.192020              70.541216             10.411962   \n",
       "1                    42.701629              69.266198             10.462676   \n",
       "2                    42.657501              68.116445             10.507046   \n",
       "3                    42.689819              68.347543             10.422762   \n",
       "4                    42.774141              66.927016             10.360302   \n",
       "5                    41.633678              69.465816             10.182708   \n",
       "6                    41.995316              69.300835             10.304598   \n",
       "7                    42.452727              70.230976             10.443288   \n",
       "8                    43.404078              69.688595             10.420140   \n",
       "9                    43.235220              70.279619             10.487013   \n",
       "\n",
       "   final.output.tail_pb  final.output.tail_sol  final.output.tail_au  ...  \\\n",
       "0              0.895447              16.904297              2.143149  ...   \n",
       "1              0.927452              16.634514              2.224930  ...   \n",
       "2              0.953716              16.208849              2.257889  ...   \n",
       "3              0.883763              16.532835              2.146849  ...   \n",
       "4              0.792826              16.525686              2.055292  ...   \n",
       "5              0.664118              16.999638              1.918586  ...   \n",
       "6              0.807342              16.723575              2.058913  ...   \n",
       "7              0.949346              16.689959              2.143437  ...   \n",
       "8              1.065453              17.201948              2.209881  ...   \n",
       "9              1.159805              17.483979              2.209593  ...   \n",
       "\n",
       "   secondary_cleaner.state.floatbank4_a_air  \\\n",
       "0                                 14.016835   \n",
       "1                                 13.992281   \n",
       "2                                 14.015015   \n",
       "3                                 14.036510   \n",
       "4                                 14.027298   \n",
       "5                                 13.938497   \n",
       "6                                 14.046819   \n",
       "7                                 13.974691   \n",
       "8                                 13.964030   \n",
       "9                                 13.989632   \n",
       "\n",
       "   secondary_cleaner.state.floatbank4_a_level  \\\n",
       "0                                 -502.488007   \n",
       "1                                 -505.503262   \n",
       "2                                 -502.520901   \n",
       "3                                 -500.857308   \n",
       "4                                 -499.838632   \n",
       "5                                 -500.970168   \n",
       "6                                 -500.971133   \n",
       "7                                 -501.819696   \n",
       "8                                 -504.252450   \n",
       "9                                 -503.195299   \n",
       "\n",
       "   secondary_cleaner.state.floatbank4_b_air  \\\n",
       "0                                 12.099931   \n",
       "1                                 11.950531   \n",
       "2                                 11.912783   \n",
       "3                                 11.999550   \n",
       "4                                 11.953070   \n",
       "5                                 11.883350   \n",
       "6                                 12.091543   \n",
       "7                                 12.101324   \n",
       "8                                 12.060738   \n",
       "9                                 12.052233   \n",
       "\n",
       "   secondary_cleaner.state.floatbank4_b_level  \\\n",
       "0                                 -504.715942   \n",
       "1                                 -501.331529   \n",
       "2                                 -501.133383   \n",
       "3                                 -501.193686   \n",
       "4                                 -501.053894   \n",
       "5                                 -500.395298   \n",
       "6                                 -500.501426   \n",
       "7                                 -500.583446   \n",
       "8                                 -501.174549   \n",
       "9                                 -500.928547   \n",
       "\n",
       "   secondary_cleaner.state.floatbank5_a_air  \\\n",
       "0                                  9.925633   \n",
       "1                                 10.039245   \n",
       "2                                 10.070913   \n",
       "3                                  9.970366   \n",
       "4                                  9.925709   \n",
       "5                                 10.054147   \n",
       "6                                 10.003247   \n",
       "7                                  9.873169   \n",
       "8                                 10.033838   \n",
       "9                                  9.962574   \n",
       "\n",
       "   secondary_cleaner.state.floatbank5_a_level  \\\n",
       "0                                 -498.310211   \n",
       "1                                 -500.169983   \n",
       "2                                 -500.129135   \n",
       "3                                 -499.201640   \n",
       "4                                 -501.686727   \n",
       "5                                 -496.374715   \n",
       "6                                 -497.083180   \n",
       "7                                 -499.171928   \n",
       "8                                 -501.178133   \n",
       "9                                 -502.986357   \n",
       "\n",
       "   secondary_cleaner.state.floatbank5_b_air  \\\n",
       "0                                  8.079666   \n",
       "1                                  7.984757   \n",
       "2                                  8.013877   \n",
       "3                                  7.977324   \n",
       "4                                  7.894242   \n",
       "5                                  7.965083   \n",
       "6                                  8.010890   \n",
       "7                                  7.993381   \n",
       "8                                  7.881604   \n",
       "9                                  7.979219   \n",
       "\n",
       "   secondary_cleaner.state.floatbank5_b_level  \\\n",
       "0                                 -500.470978   \n",
       "1                                 -500.582168   \n",
       "2                                 -500.517572   \n",
       "3                                 -500.255908   \n",
       "4                                 -500.356035   \n",
       "5                                 -499.364752   \n",
       "6                                 -500.002423   \n",
       "7                                 -499.794518   \n",
       "8                                 -499.729434   \n",
       "9                                 -500.146835   \n",
       "\n",
       "   secondary_cleaner.state.floatbank6_a_air  \\\n",
       "0                                 14.151341   \n",
       "1                                 13.998353   \n",
       "2                                 14.028663   \n",
       "3                                 14.005551   \n",
       "4                                 13.996647   \n",
       "5                                 14.017067   \n",
       "6                                 14.029649   \n",
       "7                                 13.984498   \n",
       "8                                 13.967135   \n",
       "9                                 13.981614   \n",
       "\n",
       "   secondary_cleaner.state.floatbank6_a_level  \n",
       "0                                 -605.841980  \n",
       "1                                 -599.787184  \n",
       "2                                 -601.427363  \n",
       "3                                 -599.996129  \n",
       "4                                 -601.496691  \n",
       "5                                 -599.707915  \n",
       "6                                 -600.905470  \n",
       "7                                 -600.411070  \n",
       "8                                 -599.061188  \n",
       "9                                 -598.070855  \n",
       "\n",
       "[10 rows x 87 columns]"
      ]
     },
     "execution_count": 13,
     "metadata": {},
     "output_type": "execute_result"
    }
   ],
   "source": [
    "full_data.head(10)"
   ]
  },
  {
   "cell_type": "code",
   "execution_count": 14,
   "metadata": {
    "scrolled": false
   },
   "outputs": [
    {
     "name": "stdout",
     "output_type": "stream",
     "text": [
      "<class 'pandas.core.frame.DataFrame'>\n",
      "RangeIndex: 19439 entries, 0 to 19438\n",
      "Data columns (total 87 columns):\n",
      " #   Column                                              Non-Null Count  Dtype  \n",
      "---  ------                                              --------------  -----  \n",
      " 0   date                                                19439 non-null  object \n",
      " 1   final.output.concentrate_ag                         19438 non-null  float64\n",
      " 2   final.output.concentrate_pb                         19438 non-null  float64\n",
      " 3   final.output.concentrate_sol                        19228 non-null  float64\n",
      " 4   final.output.concentrate_au                         19439 non-null  float64\n",
      " 5   final.output.recovery                               19439 non-null  float64\n",
      " 6   final.output.tail_ag                                19438 non-null  float64\n",
      " 7   final.output.tail_pb                                19338 non-null  float64\n",
      " 8   final.output.tail_sol                               19433 non-null  float64\n",
      " 9   final.output.tail_au                                19439 non-null  float64\n",
      " 10  primary_cleaner.input.sulfate                       19415 non-null  float64\n",
      " 11  primary_cleaner.input.depressant                    19402 non-null  float64\n",
      " 12  primary_cleaner.input.feed_size                     19439 non-null  float64\n",
      " 13  primary_cleaner.input.xanthate                      19335 non-null  float64\n",
      " 14  primary_cleaner.output.concentrate_ag               19439 non-null  float64\n",
      " 15  primary_cleaner.output.concentrate_pb               19323 non-null  float64\n",
      " 16  primary_cleaner.output.concentrate_sol              19069 non-null  float64\n",
      " 17  primary_cleaner.output.concentrate_au               19439 non-null  float64\n",
      " 18  primary_cleaner.output.tail_ag                      19435 non-null  float64\n",
      " 19  primary_cleaner.output.tail_pb                      19418 non-null  float64\n",
      " 20  primary_cleaner.output.tail_sol                     19377 non-null  float64\n",
      " 21  primary_cleaner.output.tail_au                      19439 non-null  float64\n",
      " 22  primary_cleaner.state.floatbank8_a_air              19435 non-null  float64\n",
      " 23  primary_cleaner.state.floatbank8_a_level            19438 non-null  float64\n",
      " 24  primary_cleaner.state.floatbank8_b_air              19435 non-null  float64\n",
      " 25  primary_cleaner.state.floatbank8_b_level            19438 non-null  float64\n",
      " 26  primary_cleaner.state.floatbank8_c_air              19437 non-null  float64\n",
      " 27  primary_cleaner.state.floatbank8_c_level            19438 non-null  float64\n",
      " 28  primary_cleaner.state.floatbank8_d_air              19436 non-null  float64\n",
      " 29  primary_cleaner.state.floatbank8_d_level            19438 non-null  float64\n",
      " 30  rougher.calculation.sulfate_to_au_concentrate       19437 non-null  float64\n",
      " 31  rougher.calculation.floatbank10_sulfate_to_au_feed  19437 non-null  float64\n",
      " 32  rougher.calculation.floatbank11_sulfate_to_au_feed  19437 non-null  float64\n",
      " 33  rougher.calculation.au_pb_ratio                     19439 non-null  float64\n",
      " 34  rougher.input.feed_ag                               19439 non-null  float64\n",
      " 35  rougher.input.feed_pb                               19339 non-null  float64\n",
      " 36  rougher.input.feed_rate                             19428 non-null  float64\n",
      " 37  rougher.input.feed_size                             19294 non-null  float64\n",
      " 38  rougher.input.feed_sol                              19340 non-null  float64\n",
      " 39  rougher.input.feed_au                               19439 non-null  float64\n",
      " 40  rougher.input.floatbank10_sulfate                   19405 non-null  float64\n",
      " 41  rougher.input.floatbank10_xanthate                  19431 non-null  float64\n",
      " 42  rougher.input.floatbank11_sulfate                   19395 non-null  float64\n",
      " 43  rougher.input.floatbank11_xanthate                  18986 non-null  float64\n",
      " 44  rougher.output.concentrate_ag                       19439 non-null  float64\n",
      " 45  rougher.output.concentrate_pb                       19439 non-null  float64\n",
      " 46  rougher.output.concentrate_sol                      19416 non-null  float64\n",
      " 47  rougher.output.concentrate_au                       19439 non-null  float64\n",
      " 48  rougher.output.recovery                             19439 non-null  float64\n",
      " 49  rougher.output.tail_ag                              19438 non-null  float64\n",
      " 50  rougher.output.tail_pb                              19439 non-null  float64\n",
      " 51  rougher.output.tail_sol                             19439 non-null  float64\n",
      " 52  rougher.output.tail_au                              19439 non-null  float64\n",
      " 53  rougher.state.floatbank10_a_air                     19438 non-null  float64\n",
      " 54  rougher.state.floatbank10_a_level                   19438 non-null  float64\n",
      " 55  rougher.state.floatbank10_b_air                     19438 non-null  float64\n",
      " 56  rougher.state.floatbank10_b_level                   19438 non-null  float64\n",
      " 57  rougher.state.floatbank10_c_air                     19438 non-null  float64\n",
      " 58  rougher.state.floatbank10_c_level                   19438 non-null  float64\n",
      " 59  rougher.state.floatbank10_d_air                     19439 non-null  float64\n",
      " 60  rougher.state.floatbank10_d_level                   19439 non-null  float64\n",
      " 61  rougher.state.floatbank10_e_air                     19003 non-null  float64\n",
      " 62  rougher.state.floatbank10_e_level                   19439 non-null  float64\n",
      " 63  rougher.state.floatbank10_f_air                     19439 non-null  float64\n",
      " 64  rougher.state.floatbank10_f_level                   19439 non-null  float64\n",
      " 65  secondary_cleaner.output.tail_ag                    19437 non-null  float64\n",
      " 66  secondary_cleaner.output.tail_pb                    19427 non-null  float64\n",
      " 67  secondary_cleaner.output.tail_sol                   17691 non-null  float64\n",
      " 68  secondary_cleaner.output.tail_au                    19439 non-null  float64\n",
      " 69  secondary_cleaner.state.floatbank2_a_air            19219 non-null  float64\n",
      " 70  secondary_cleaner.state.floatbank2_a_level          19438 non-null  float64\n",
      " 71  secondary_cleaner.state.floatbank2_b_air            19416 non-null  float64\n",
      " 72  secondary_cleaner.state.floatbank2_b_level          19438 non-null  float64\n",
      " 73  secondary_cleaner.state.floatbank3_a_air            19426 non-null  float64\n",
      " 74  secondary_cleaner.state.floatbank3_a_level          19438 non-null  float64\n",
      " 75  secondary_cleaner.state.floatbank3_b_air            19438 non-null  float64\n",
      " 76  secondary_cleaner.state.floatbank3_b_level          19438 non-null  float64\n",
      " 77  secondary_cleaner.state.floatbank4_a_air            19433 non-null  float64\n",
      " 78  secondary_cleaner.state.floatbank4_a_level          19438 non-null  float64\n",
      " 79  secondary_cleaner.state.floatbank4_b_air            19438 non-null  float64\n",
      " 80  secondary_cleaner.state.floatbank4_b_level          19438 non-null  float64\n",
      " 81  secondary_cleaner.state.floatbank5_a_air            19438 non-null  float64\n",
      " 82  secondary_cleaner.state.floatbank5_a_level          19438 non-null  float64\n",
      " 83  secondary_cleaner.state.floatbank5_b_air            19438 non-null  float64\n",
      " 84  secondary_cleaner.state.floatbank5_b_level          19438 non-null  float64\n",
      " 85  secondary_cleaner.state.floatbank6_a_air            19437 non-null  float64\n",
      " 86  secondary_cleaner.state.floatbank6_a_level          19438 non-null  float64\n",
      "dtypes: float64(86), object(1)\n",
      "memory usage: 12.9+ MB\n"
     ]
    }
   ],
   "source": [
    "full_data.info()"
   ]
  },
  {
   "cell_type": "markdown",
   "metadata": {},
   "source": [
    "В полном датасете имеются все те же признаки, что в тестовой выборке — не больше, не меньше. Сравним статистические данные на примере одного признака, разницу по которому уже заметили в тестовой и тренировочной выборке."
   ]
  },
  {
   "cell_type": "code",
   "execution_count": 15,
   "metadata": {
    "scrolled": true
   },
   "outputs": [
    {
     "data": {
      "text/plain": [
       "count    19415.000000\n",
       "mean       144.624774\n",
       "std         44.464071\n",
       "min          0.003112\n",
       "25%        114.107029\n",
       "50%        143.232103\n",
       "75%        175.075656\n",
       "max        265.983123\n",
       "Name: primary_cleaner.input.sulfate, dtype: float64"
      ]
     },
     "execution_count": 15,
     "metadata": {},
     "output_type": "execute_result"
    }
   ],
   "source": [
    "full_data['primary_cleaner.input.sulfate'].describe()"
   ]
  },
  {
   "cell_type": "code",
   "execution_count": 16,
   "metadata": {},
   "outputs": [
    {
     "data": {
      "text/plain": [
       "count    14129.000000\n",
       "mean       133.320659\n",
       "std         39.431659\n",
       "min          0.003112\n",
       "25%        107.006651\n",
       "50%        133.018328\n",
       "75%        159.825396\n",
       "max        250.127834\n",
       "Name: primary_cleaner.input.sulfate, dtype: float64"
      ]
     },
     "execution_count": 16,
     "metadata": {},
     "output_type": "execute_result"
    }
   ],
   "source": [
    "train_data['primary_cleaner.input.sulfate'].describe()"
   ]
  },
  {
   "cell_type": "code",
   "execution_count": 17,
   "metadata": {
    "scrolled": false
   },
   "outputs": [
    {
     "data": {
      "text/plain": [
       "count    5286.000000\n",
       "mean      174.839652\n",
       "std        43.027080\n",
       "min         2.566156\n",
       "25%       147.121401\n",
       "50%       177.828489\n",
       "75%       208.125438\n",
       "max       265.983123\n",
       "Name: primary_cleaner.input.sulfate, dtype: float64"
      ]
     },
     "execution_count": 17,
     "metadata": {},
     "output_type": "execute_result"
    }
   ],
   "source": [
    "test_data['primary_cleaner.input.sulfate'].describe()"
   ]
  },
  {
   "cell_type": "markdown",
   "metadata": {},
   "source": [
    "В статистических параметрах есть некоторые различия — это ожидаемо для выборок, но тем не менее может затруднять обучение моделей."
   ]
  },
  {
   "cell_type": "markdown",
   "metadata": {},
   "source": [
    "Проверим, сможем ли мы \"выцепить\" необходимый целевой признак по дате для тестовой выборке на примере первой строки `test_data`."
   ]
  },
  {
   "cell_type": "code",
   "execution_count": 18,
   "metadata": {
    "scrolled": true
   },
   "outputs": [
    {
     "data": {
      "text/plain": [
       "4682    70.273583\n",
       "Name: final.output.recovery, dtype: float64"
      ]
     },
     "execution_count": 18,
     "metadata": {},
     "output_type": "execute_result"
    }
   ],
   "source": [
    "full_data[full_data['date'] == '2016-09-01 00:59:59']['final.output.recovery'] #значение даты из первой\n",
    "                                                                               #строки test_data"
   ]
  },
  {
   "cell_type": "markdown",
   "metadata": {},
   "source": [
    "Успех."
   ]
  },
  {
   "cell_type": "markdown",
   "metadata": {},
   "source": [
    "### Проверка расчетов эффективности обогащения "
   ]
  },
  {
   "cell_type": "markdown",
   "metadata": {},
   "source": [
    "Перед продолжением исследования, проверим правильно ли рассчитана эффективность обогащения — вычислим ее на обучающей выборке для признака `rougher.output.recovery`."
   ]
  },
  {
   "cell_type": "markdown",
   "metadata": {},
   "source": [
    "Формула эффективности обогащения `recovery`:"
   ]
  },
  {
   "cell_type": "markdown",
   "metadata": {},
   "source": [
    "`recovery` = (`C` * (`F` - `T`)) **/** ( `F`* (`C` - `T`)) * 100%"
   ]
  },
  {
   "cell_type": "markdown",
   "metadata": {},
   "source": [
    "где:\n",
    "- `C` — доля золота в концентрате после этапа обработки (флотации или очистки);\n",
    "- `F` — доля золота в концентрате до этапа обработки;\n",
    "- `T` — доля золота в отваленных хвостах на этапе."
   ]
  },
  {
   "cell_type": "markdown",
   "metadata": {},
   "source": [
    "В тестовой выборке:\n",
    "- `C` — `rougher.output.concentrate_au`\n",
    "- `F` — `rougher.input.feed_au`\n",
    "- `T` — `rougher.output.tail_au`\n",
    "\n",
    "- `recovery` — `rougher.output.recovery`."
   ]
  },
  {
   "cell_type": "markdown",
   "metadata": {},
   "source": [
    "Для расчетов будем использовать строки, в которых не имеется пропусков в необходимых признаках:"
   ]
  },
  {
   "cell_type": "code",
   "execution_count": 19,
   "metadata": {},
   "outputs": [],
   "source": [
    "# создаем вспомогательный датасет, т.к. мы еще не обработали пропуски\n",
    "\n",
    "calculated_data = train_data.dropna(subset = ['rougher.output.concentrate_au',\n",
    "                                              'rougher.input.feed_au',\n",
    "                                              'rougher.output.tail_au',\n",
    "                                              'rougher.output.recovery'])"
   ]
  },
  {
   "cell_type": "code",
   "execution_count": 20,
   "metadata": {},
   "outputs": [],
   "source": [
    "C = calculated_data['rougher.output.concentrate_au'] #временные переменные для удобства расчета\n",
    "F = calculated_data['rougher.input.feed_au']\n",
    "T = calculated_data['rougher.output.tail_au']\n",
    "\n",
    "calculated_recovery = (C*(F-T))/(F*(C-T))*100"
   ]
  },
  {
   "cell_type": "code",
   "execution_count": 21,
   "metadata": {
    "scrolled": false
   },
   "outputs": [
    {
     "data": {
      "text/plain": [
       "0        87.107763\n",
       "1        86.843261\n",
       "2        86.842308\n",
       "3        87.226430\n",
       "4        86.688794\n",
       "           ...    \n",
       "14144    89.574376\n",
       "14145    87.724007\n",
       "14146    88.890579\n",
       "14147    89.858126\n",
       "14148    89.514960\n",
       "Length: 14149, dtype: float64"
      ]
     },
     "execution_count": 21,
     "metadata": {},
     "output_type": "execute_result"
    }
   ],
   "source": [
    "calculated_recovery # проверяем расчеты"
   ]
  },
  {
   "cell_type": "markdown",
   "metadata": {},
   "source": [
    "Для оценки корректности расчета метрики используем среднее абсолютное отклонение MAE. "
   ]
  },
  {
   "cell_type": "code",
   "execution_count": 22,
   "metadata": {
    "scrolled": true
   },
   "outputs": [
    {
     "data": {
      "text/plain": [
       "9.73512347450521e-15"
      ]
     },
     "execution_count": 22,
     "metadata": {},
     "output_type": "execute_result"
    }
   ],
   "source": [
    "mean_absolute_error(calculated_data['rougher.output.recovery'],calculated_recovery)"
   ]
  },
  {
   "cell_type": "markdown",
   "metadata": {},
   "source": [
    " ~ `0.0000000000000097` — MAE стремится к нулю, а значит `rougher.output.recovery` рассчитана верно."
   ]
  },
  {
   "cell_type": "markdown",
   "metadata": {},
   "source": [
    "### Проверка на явные дубликаты"
   ]
  },
  {
   "cell_type": "code",
   "execution_count": 23,
   "metadata": {},
   "outputs": [
    {
     "data": {
      "text/plain": [
       "0"
      ]
     },
     "execution_count": 23,
     "metadata": {},
     "output_type": "execute_result"
    }
   ],
   "source": [
    "test_data.duplicated().sum()"
   ]
  },
  {
   "cell_type": "code",
   "execution_count": 24,
   "metadata": {},
   "outputs": [
    {
     "data": {
      "text/plain": [
       "0"
      ]
     },
     "execution_count": 24,
     "metadata": {},
     "output_type": "execute_result"
    }
   ],
   "source": [
    "train_data.duplicated().sum()"
   ]
  },
  {
   "cell_type": "code",
   "execution_count": 25,
   "metadata": {},
   "outputs": [
    {
     "data": {
      "text/plain": [
       "0"
      ]
     },
     "execution_count": 25,
     "metadata": {},
     "output_type": "execute_result"
    }
   ],
   "source": [
    "full_data.duplicated().sum()"
   ]
  },
  {
   "cell_type": "markdown",
   "metadata": {},
   "source": [
    "Явных дубликатов нет."
   ]
  },
  {
   "cell_type": "markdown",
   "metadata": {},
   "source": [
    "### Присоединение целевых признаков"
   ]
  },
  {
   "cell_type": "markdown",
   "metadata": {},
   "source": [
    "В тестовой выборке нет целевых признаков `rougher.output.recovery` и `final.output.recovery`, что осложнит проверку работы модели. Восстановим признаки, присоединив к выборке необходимые столбцы по дате."
   ]
  },
  {
   "cell_type": "code",
   "execution_count": 26,
   "metadata": {
    "scrolled": true
   },
   "outputs": [
    {
     "data": {
      "text/plain": [
       "(5290, 53)"
      ]
     },
     "execution_count": 26,
     "metadata": {},
     "output_type": "execute_result"
    }
   ],
   "source": [
    "test_data.shape #проверяем размерность выборки до присоединения"
   ]
  },
  {
   "cell_type": "code",
   "execution_count": 27,
   "metadata": {},
   "outputs": [],
   "source": [
    "test_data = test_data.merge(full_data[['date','rougher.output.recovery','final.output.recovery']],\n",
    "                            on = 'date', how = 'inner')"
   ]
  },
  {
   "cell_type": "code",
   "execution_count": 28,
   "metadata": {
    "scrolled": true
   },
   "outputs": [
    {
     "data": {
      "text/html": [
       "<div>\n",
       "<style scoped>\n",
       "    .dataframe tbody tr th:only-of-type {\n",
       "        vertical-align: middle;\n",
       "    }\n",
       "\n",
       "    .dataframe tbody tr th {\n",
       "        vertical-align: top;\n",
       "    }\n",
       "\n",
       "    .dataframe thead th {\n",
       "        text-align: right;\n",
       "    }\n",
       "</style>\n",
       "<table border=\"1\" class=\"dataframe\">\n",
       "  <thead>\n",
       "    <tr style=\"text-align: right;\">\n",
       "      <th></th>\n",
       "      <th>date</th>\n",
       "      <th>primary_cleaner.input.sulfate</th>\n",
       "      <th>primary_cleaner.input.depressant</th>\n",
       "      <th>primary_cleaner.input.feed_size</th>\n",
       "      <th>primary_cleaner.input.xanthate</th>\n",
       "      <th>primary_cleaner.state.floatbank8_a_air</th>\n",
       "      <th>primary_cleaner.state.floatbank8_a_level</th>\n",
       "      <th>primary_cleaner.state.floatbank8_b_air</th>\n",
       "      <th>primary_cleaner.state.floatbank8_b_level</th>\n",
       "      <th>primary_cleaner.state.floatbank8_c_air</th>\n",
       "      <th>...</th>\n",
       "      <th>secondary_cleaner.state.floatbank4_b_air</th>\n",
       "      <th>secondary_cleaner.state.floatbank4_b_level</th>\n",
       "      <th>secondary_cleaner.state.floatbank5_a_air</th>\n",
       "      <th>secondary_cleaner.state.floatbank5_a_level</th>\n",
       "      <th>secondary_cleaner.state.floatbank5_b_air</th>\n",
       "      <th>secondary_cleaner.state.floatbank5_b_level</th>\n",
       "      <th>secondary_cleaner.state.floatbank6_a_air</th>\n",
       "      <th>secondary_cleaner.state.floatbank6_a_level</th>\n",
       "      <th>rougher.output.recovery</th>\n",
       "      <th>final.output.recovery</th>\n",
       "    </tr>\n",
       "  </thead>\n",
       "  <tbody>\n",
       "    <tr>\n",
       "      <th>0</th>\n",
       "      <td>2016-09-01 00:59:59</td>\n",
       "      <td>210.800909</td>\n",
       "      <td>14.993118</td>\n",
       "      <td>8.080000</td>\n",
       "      <td>1.005021</td>\n",
       "      <td>1398.981301</td>\n",
       "      <td>-500.225577</td>\n",
       "      <td>1399.144926</td>\n",
       "      <td>-499.919735</td>\n",
       "      <td>1400.102998</td>\n",
       "      <td>...</td>\n",
       "      <td>8.016656</td>\n",
       "      <td>-501.289139</td>\n",
       "      <td>7.946562</td>\n",
       "      <td>-432.317850</td>\n",
       "      <td>4.872511</td>\n",
       "      <td>-500.037437</td>\n",
       "      <td>26.705889</td>\n",
       "      <td>-499.709414</td>\n",
       "      <td>89.993421</td>\n",
       "      <td>70.273583</td>\n",
       "    </tr>\n",
       "    <tr>\n",
       "      <th>1</th>\n",
       "      <td>2016-09-01 01:59:59</td>\n",
       "      <td>215.392455</td>\n",
       "      <td>14.987471</td>\n",
       "      <td>8.080000</td>\n",
       "      <td>0.990469</td>\n",
       "      <td>1398.777912</td>\n",
       "      <td>-500.057435</td>\n",
       "      <td>1398.055362</td>\n",
       "      <td>-499.778182</td>\n",
       "      <td>1396.151033</td>\n",
       "      <td>...</td>\n",
       "      <td>8.130979</td>\n",
       "      <td>-499.634209</td>\n",
       "      <td>7.958270</td>\n",
       "      <td>-525.839648</td>\n",
       "      <td>4.878850</td>\n",
       "      <td>-500.162375</td>\n",
       "      <td>25.019940</td>\n",
       "      <td>-499.819438</td>\n",
       "      <td>88.089657</td>\n",
       "      <td>68.910432</td>\n",
       "    </tr>\n",
       "    <tr>\n",
       "      <th>2</th>\n",
       "      <td>2016-09-01 02:59:59</td>\n",
       "      <td>215.259946</td>\n",
       "      <td>12.884934</td>\n",
       "      <td>7.786667</td>\n",
       "      <td>0.996043</td>\n",
       "      <td>1398.493666</td>\n",
       "      <td>-500.868360</td>\n",
       "      <td>1398.860436</td>\n",
       "      <td>-499.764529</td>\n",
       "      <td>1398.075709</td>\n",
       "      <td>...</td>\n",
       "      <td>8.096893</td>\n",
       "      <td>-500.827423</td>\n",
       "      <td>8.071056</td>\n",
       "      <td>-500.801673</td>\n",
       "      <td>4.905125</td>\n",
       "      <td>-499.828510</td>\n",
       "      <td>24.994862</td>\n",
       "      <td>-500.622559</td>\n",
       "      <td>88.412756</td>\n",
       "      <td>68.143213</td>\n",
       "    </tr>\n",
       "    <tr>\n",
       "      <th>3</th>\n",
       "      <td>2016-09-01 03:59:59</td>\n",
       "      <td>215.336236</td>\n",
       "      <td>12.006805</td>\n",
       "      <td>7.640000</td>\n",
       "      <td>0.863514</td>\n",
       "      <td>1399.618111</td>\n",
       "      <td>-498.863574</td>\n",
       "      <td>1397.440120</td>\n",
       "      <td>-499.211024</td>\n",
       "      <td>1400.129303</td>\n",
       "      <td>...</td>\n",
       "      <td>8.074946</td>\n",
       "      <td>-499.474407</td>\n",
       "      <td>7.897085</td>\n",
       "      <td>-500.868509</td>\n",
       "      <td>4.931400</td>\n",
       "      <td>-499.963623</td>\n",
       "      <td>24.948919</td>\n",
       "      <td>-498.709987</td>\n",
       "      <td>87.360133</td>\n",
       "      <td>67.776393</td>\n",
       "    </tr>\n",
       "    <tr>\n",
       "      <th>4</th>\n",
       "      <td>2016-09-01 04:59:59</td>\n",
       "      <td>199.099327</td>\n",
       "      <td>10.682530</td>\n",
       "      <td>7.530000</td>\n",
       "      <td>0.805575</td>\n",
       "      <td>1401.268123</td>\n",
       "      <td>-500.808305</td>\n",
       "      <td>1398.128818</td>\n",
       "      <td>-499.504543</td>\n",
       "      <td>1402.172226</td>\n",
       "      <td>...</td>\n",
       "      <td>8.054678</td>\n",
       "      <td>-500.397500</td>\n",
       "      <td>8.107890</td>\n",
       "      <td>-509.526725</td>\n",
       "      <td>4.957674</td>\n",
       "      <td>-500.360026</td>\n",
       "      <td>25.003331</td>\n",
       "      <td>-500.856333</td>\n",
       "      <td>83.236367</td>\n",
       "      <td>61.467078</td>\n",
       "    </tr>\n",
       "  </tbody>\n",
       "</table>\n",
       "<p>5 rows × 55 columns</p>\n",
       "</div>"
      ],
      "text/plain": [
       "                  date  primary_cleaner.input.sulfate  \\\n",
       "0  2016-09-01 00:59:59                     210.800909   \n",
       "1  2016-09-01 01:59:59                     215.392455   \n",
       "2  2016-09-01 02:59:59                     215.259946   \n",
       "3  2016-09-01 03:59:59                     215.336236   \n",
       "4  2016-09-01 04:59:59                     199.099327   \n",
       "\n",
       "   primary_cleaner.input.depressant  primary_cleaner.input.feed_size  \\\n",
       "0                         14.993118                         8.080000   \n",
       "1                         14.987471                         8.080000   \n",
       "2                         12.884934                         7.786667   \n",
       "3                         12.006805                         7.640000   \n",
       "4                         10.682530                         7.530000   \n",
       "\n",
       "   primary_cleaner.input.xanthate  primary_cleaner.state.floatbank8_a_air  \\\n",
       "0                        1.005021                             1398.981301   \n",
       "1                        0.990469                             1398.777912   \n",
       "2                        0.996043                             1398.493666   \n",
       "3                        0.863514                             1399.618111   \n",
       "4                        0.805575                             1401.268123   \n",
       "\n",
       "   primary_cleaner.state.floatbank8_a_level  \\\n",
       "0                               -500.225577   \n",
       "1                               -500.057435   \n",
       "2                               -500.868360   \n",
       "3                               -498.863574   \n",
       "4                               -500.808305   \n",
       "\n",
       "   primary_cleaner.state.floatbank8_b_air  \\\n",
       "0                             1399.144926   \n",
       "1                             1398.055362   \n",
       "2                             1398.860436   \n",
       "3                             1397.440120   \n",
       "4                             1398.128818   \n",
       "\n",
       "   primary_cleaner.state.floatbank8_b_level  \\\n",
       "0                               -499.919735   \n",
       "1                               -499.778182   \n",
       "2                               -499.764529   \n",
       "3                               -499.211024   \n",
       "4                               -499.504543   \n",
       "\n",
       "   primary_cleaner.state.floatbank8_c_air  ...  \\\n",
       "0                             1400.102998  ...   \n",
       "1                             1396.151033  ...   \n",
       "2                             1398.075709  ...   \n",
       "3                             1400.129303  ...   \n",
       "4                             1402.172226  ...   \n",
       "\n",
       "   secondary_cleaner.state.floatbank4_b_air  \\\n",
       "0                                  8.016656   \n",
       "1                                  8.130979   \n",
       "2                                  8.096893   \n",
       "3                                  8.074946   \n",
       "4                                  8.054678   \n",
       "\n",
       "   secondary_cleaner.state.floatbank4_b_level  \\\n",
       "0                                 -501.289139   \n",
       "1                                 -499.634209   \n",
       "2                                 -500.827423   \n",
       "3                                 -499.474407   \n",
       "4                                 -500.397500   \n",
       "\n",
       "   secondary_cleaner.state.floatbank5_a_air  \\\n",
       "0                                  7.946562   \n",
       "1                                  7.958270   \n",
       "2                                  8.071056   \n",
       "3                                  7.897085   \n",
       "4                                  8.107890   \n",
       "\n",
       "   secondary_cleaner.state.floatbank5_a_level  \\\n",
       "0                                 -432.317850   \n",
       "1                                 -525.839648   \n",
       "2                                 -500.801673   \n",
       "3                                 -500.868509   \n",
       "4                                 -509.526725   \n",
       "\n",
       "   secondary_cleaner.state.floatbank5_b_air  \\\n",
       "0                                  4.872511   \n",
       "1                                  4.878850   \n",
       "2                                  4.905125   \n",
       "3                                  4.931400   \n",
       "4                                  4.957674   \n",
       "\n",
       "   secondary_cleaner.state.floatbank5_b_level  \\\n",
       "0                                 -500.037437   \n",
       "1                                 -500.162375   \n",
       "2                                 -499.828510   \n",
       "3                                 -499.963623   \n",
       "4                                 -500.360026   \n",
       "\n",
       "   secondary_cleaner.state.floatbank6_a_air  \\\n",
       "0                                 26.705889   \n",
       "1                                 25.019940   \n",
       "2                                 24.994862   \n",
       "3                                 24.948919   \n",
       "4                                 25.003331   \n",
       "\n",
       "   secondary_cleaner.state.floatbank6_a_level  rougher.output.recovery  \\\n",
       "0                                 -499.709414                89.993421   \n",
       "1                                 -499.819438                88.089657   \n",
       "2                                 -500.622559                88.412756   \n",
       "3                                 -498.709987                87.360133   \n",
       "4                                 -500.856333                83.236367   \n",
       "\n",
       "   final.output.recovery  \n",
       "0              70.273583  \n",
       "1              68.910432  \n",
       "2              68.143213  \n",
       "3              67.776393  \n",
       "4              61.467078  \n",
       "\n",
       "[5 rows x 55 columns]"
      ]
     },
     "execution_count": 28,
     "metadata": {},
     "output_type": "execute_result"
    }
   ],
   "source": [
    "test_data.head()"
   ]
  },
  {
   "cell_type": "code",
   "execution_count": 29,
   "metadata": {},
   "outputs": [
    {
     "data": {
      "text/plain": [
       "(5290, 55)"
      ]
     },
     "execution_count": 29,
     "metadata": {},
     "output_type": "execute_result"
    }
   ],
   "source": [
    "test_data.shape"
   ]
  },
  {
   "cell_type": "markdown",
   "metadata": {},
   "source": [
    "Размерность увеличилась с 53 до 55 признаков."
   ]
  },
  {
   "cell_type": "markdown",
   "metadata": {},
   "source": [
    "### Обработка пропусков и аномалий"
   ]
  },
  {
   "cell_type": "markdown",
   "metadata": {},
   "source": [
    "Посмотрим на распределение целевых признаков `rougher.output.recovery` и `final.output.recovery` в тренировочной выборкe:"
   ]
  },
  {
   "cell_type": "code",
   "execution_count": 30,
   "metadata": {
    "scrolled": true
   },
   "outputs": [
    {
     "data": {
      "image/png": "[encoded data removed]",
      "text/plain": [
       "<Figure size 720x576 with 4 Axes>"
      ]
     },
     "metadata": {
      "needs_background": "light"
     },
     "output_type": "display_data"
    }
   ],
   "source": [
    "fig = plt.figure(figsize=(10,8))\n",
    "ax_1 = fig.add_subplot(2,2,1)\n",
    "ax_2 = fig.add_subplot(2,2,2)\n",
    "ax_3 = fig.add_subplot(2,2,3)\n",
    "ax_4 = fig.add_subplot(2,2,4)\n",
    "\n",
    "sns.histplot(train_data['rougher.output.recovery'], bins=100, ax=ax_1)\n",
    "sns.histplot(train_data['final.output.recovery'], bins=100, ax=ax_2)\n",
    "sns.histplot(test_data['rougher.output.recovery'], bins=100, color='red', ax=ax_3)\n",
    "sns.histplot(test_data['final.output.recovery'], bins=100, color='red', ax=ax_4)\n",
    "\n",
    "\n",
    "\n",
    "plt.show()\n"
   ]
  },
  {
   "cell_type": "markdown",
   "metadata": {},
   "source": [
    "График `rougher.output.recovery` имеет аномальный всплеск значений у нуля. Посмотрим на эти объекты."
   ]
  },
  {
   "cell_type": "code",
   "execution_count": 31,
   "metadata": {
    "scrolled": true
   },
   "outputs": [
    {
     "data": {
      "text/html": [
       "<div>\n",
       "<style scoped>\n",
       "    .dataframe tbody tr th:only-of-type {\n",
       "        vertical-align: middle;\n",
       "    }\n",
       "\n",
       "    .dataframe tbody tr th {\n",
       "        vertical-align: top;\n",
       "    }\n",
       "\n",
       "    .dataframe thead th {\n",
       "        text-align: right;\n",
       "    }\n",
       "</style>\n",
       "<table border=\"1\" class=\"dataframe\">\n",
       "  <thead>\n",
       "    <tr style=\"text-align: right;\">\n",
       "      <th></th>\n",
       "      <th>date</th>\n",
       "      <th>final.output.concentrate_ag</th>\n",
       "      <th>final.output.concentrate_pb</th>\n",
       "      <th>final.output.concentrate_sol</th>\n",
       "      <th>final.output.concentrate_au</th>\n",
       "      <th>final.output.recovery</th>\n",
       "      <th>final.output.tail_ag</th>\n",
       "      <th>final.output.tail_pb</th>\n",
       "      <th>final.output.tail_sol</th>\n",
       "      <th>final.output.tail_au</th>\n",
       "      <th>...</th>\n",
       "      <th>secondary_cleaner.state.floatbank4_a_air</th>\n",
       "      <th>secondary_cleaner.state.floatbank4_a_level</th>\n",
       "      <th>secondary_cleaner.state.floatbank4_b_air</th>\n",
       "      <th>secondary_cleaner.state.floatbank4_b_level</th>\n",
       "      <th>secondary_cleaner.state.floatbank5_a_air</th>\n",
       "      <th>secondary_cleaner.state.floatbank5_a_level</th>\n",
       "      <th>secondary_cleaner.state.floatbank5_b_air</th>\n",
       "      <th>secondary_cleaner.state.floatbank5_b_level</th>\n",
       "      <th>secondary_cleaner.state.floatbank6_a_air</th>\n",
       "      <th>secondary_cleaner.state.floatbank6_a_level</th>\n",
       "    </tr>\n",
       "  </thead>\n",
       "  <tbody>\n",
       "    <tr>\n",
       "      <th>45</th>\n",
       "      <td>2016-01-16 21:00:00</td>\n",
       "      <td>4.566664</td>\n",
       "      <td>10.406178</td>\n",
       "      <td>4.588698</td>\n",
       "      <td>46.614456</td>\n",
       "      <td>68.403877</td>\n",
       "      <td>10.705777</td>\n",
       "      <td>1.509070</td>\n",
       "      <td>17.875134</td>\n",
       "      <td>2.509776</td>\n",
       "      <td>...</td>\n",
       "      <td>14.025588</td>\n",
       "      <td>-550.404242</td>\n",
       "      <td>12.028925</td>\n",
       "      <td>-550.570104</td>\n",
       "      <td>10.052072</td>\n",
       "      <td>-500.797905</td>\n",
       "      <td>7.984500</td>\n",
       "      <td>-499.581046</td>\n",
       "      <td>11.982025</td>\n",
       "      <td>-599.161228</td>\n",
       "    </tr>\n",
       "    <tr>\n",
       "      <th>46</th>\n",
       "      <td>2016-01-16 22:00:00</td>\n",
       "      <td>4.577832</td>\n",
       "      <td>10.691605</td>\n",
       "      <td>5.274175</td>\n",
       "      <td>46.250638</td>\n",
       "      <td>70.675633</td>\n",
       "      <td>10.728531</td>\n",
       "      <td>1.641216</td>\n",
       "      <td>18.349339</td>\n",
       "      <td>2.540843</td>\n",
       "      <td>...</td>\n",
       "      <td>14.094808</td>\n",
       "      <td>-550.676337</td>\n",
       "      <td>12.004728</td>\n",
       "      <td>-550.496522</td>\n",
       "      <td>9.953139</td>\n",
       "      <td>-500.330920</td>\n",
       "      <td>8.012074</td>\n",
       "      <td>-500.133530</td>\n",
       "      <td>11.975316</td>\n",
       "      <td>-598.839683</td>\n",
       "    </tr>\n",
       "    <tr>\n",
       "      <th>47</th>\n",
       "      <td>2016-01-16 23:00:00</td>\n",
       "      <td>4.591462</td>\n",
       "      <td>10.628846</td>\n",
       "      <td>5.688961</td>\n",
       "      <td>46.663335</td>\n",
       "      <td>55.088448</td>\n",
       "      <td>10.694584</td>\n",
       "      <td>1.671644</td>\n",
       "      <td>17.910312</td>\n",
       "      <td>2.686782</td>\n",
       "      <td>...</td>\n",
       "      <td>13.997488</td>\n",
       "      <td>-551.224653</td>\n",
       "      <td>11.971272</td>\n",
       "      <td>-550.095619</td>\n",
       "      <td>9.981163</td>\n",
       "      <td>-502.869109</td>\n",
       "      <td>7.941184</td>\n",
       "      <td>-500.623610</td>\n",
       "      <td>12.018837</td>\n",
       "      <td>-600.916665</td>\n",
       "    </tr>\n",
       "    <tr>\n",
       "      <th>48</th>\n",
       "      <td>2016-01-17 00:00:00</td>\n",
       "      <td>5.296830</td>\n",
       "      <td>10.597469</td>\n",
       "      <td>NaN</td>\n",
       "      <td>44.015642</td>\n",
       "      <td>41.962008</td>\n",
       "      <td>11.975654</td>\n",
       "      <td>1.846558</td>\n",
       "      <td>8.138408</td>\n",
       "      <td>2.889469</td>\n",
       "      <td>...</td>\n",
       "      <td>14.006476</td>\n",
       "      <td>-549.388727</td>\n",
       "      <td>11.975967</td>\n",
       "      <td>-550.778624</td>\n",
       "      <td>9.989726</td>\n",
       "      <td>-499.607365</td>\n",
       "      <td>7.958252</td>\n",
       "      <td>-498.882560</td>\n",
       "      <td>11.967977</td>\n",
       "      <td>-599.440603</td>\n",
       "    </tr>\n",
       "    <tr>\n",
       "      <th>49</th>\n",
       "      <td>2016-01-17 02:00:00</td>\n",
       "      <td>8.162896</td>\n",
       "      <td>8.877528</td>\n",
       "      <td>NaN</td>\n",
       "      <td>40.715973</td>\n",
       "      <td>49.884856</td>\n",
       "      <td>10.381465</td>\n",
       "      <td>1.024030</td>\n",
       "      <td>12.974257</td>\n",
       "      <td>2.739224</td>\n",
       "      <td>...</td>\n",
       "      <td>13.984906</td>\n",
       "      <td>-550.563329</td>\n",
       "      <td>11.999730</td>\n",
       "      <td>-550.549773</td>\n",
       "      <td>9.941869</td>\n",
       "      <td>-503.282068</td>\n",
       "      <td>8.018850</td>\n",
       "      <td>-500.970716</td>\n",
       "      <td>11.991078</td>\n",
       "      <td>-598.475929</td>\n",
       "    </tr>\n",
       "    <tr>\n",
       "      <th>...</th>\n",
       "      <td>...</td>\n",
       "      <td>...</td>\n",
       "      <td>...</td>\n",
       "      <td>...</td>\n",
       "      <td>...</td>\n",
       "      <td>...</td>\n",
       "      <td>...</td>\n",
       "      <td>...</td>\n",
       "      <td>...</td>\n",
       "      <td>...</td>\n",
       "      <td>...</td>\n",
       "      <td>...</td>\n",
       "      <td>...</td>\n",
       "      <td>...</td>\n",
       "      <td>...</td>\n",
       "      <td>...</td>\n",
       "      <td>...</td>\n",
       "      <td>...</td>\n",
       "      <td>...</td>\n",
       "      <td>...</td>\n",
       "      <td>...</td>\n",
       "    </tr>\n",
       "    <tr>\n",
       "      <th>10330</th>\n",
       "      <td>2018-02-11 23:59:59</td>\n",
       "      <td>4.909904</td>\n",
       "      <td>9.941006</td>\n",
       "      <td>8.191698</td>\n",
       "      <td>47.660737</td>\n",
       "      <td>83.597741</td>\n",
       "      <td>8.853800</td>\n",
       "      <td>0.717677</td>\n",
       "      <td>13.399798</td>\n",
       "      <td>1.515512</td>\n",
       "      <td>...</td>\n",
       "      <td>19.999169</td>\n",
       "      <td>-502.266441</td>\n",
       "      <td>14.943901</td>\n",
       "      <td>-500.386063</td>\n",
       "      <td>10.998883</td>\n",
       "      <td>-499.846204</td>\n",
       "      <td>8.972741</td>\n",
       "      <td>-500.118532</td>\n",
       "      <td>10.966205</td>\n",
       "      <td>-500.707126</td>\n",
       "    </tr>\n",
       "    <tr>\n",
       "      <th>10331</th>\n",
       "      <td>2018-02-12 00:59:59</td>\n",
       "      <td>4.797572</td>\n",
       "      <td>9.889303</td>\n",
       "      <td>8.326773</td>\n",
       "      <td>47.801056</td>\n",
       "      <td>84.738648</td>\n",
       "      <td>8.503813</td>\n",
       "      <td>0.757507</td>\n",
       "      <td>13.591903</td>\n",
       "      <td>1.573222</td>\n",
       "      <td>...</td>\n",
       "      <td>19.961164</td>\n",
       "      <td>-499.274851</td>\n",
       "      <td>14.950879</td>\n",
       "      <td>-499.891798</td>\n",
       "      <td>11.010768</td>\n",
       "      <td>-494.562898</td>\n",
       "      <td>9.028307</td>\n",
       "      <td>-499.007596</td>\n",
       "      <td>10.978016</td>\n",
       "      <td>-497.924873</td>\n",
       "    </tr>\n",
       "    <tr>\n",
       "      <th>10332</th>\n",
       "      <td>2018-02-12 01:59:59</td>\n",
       "      <td>4.329492</td>\n",
       "      <td>9.413122</td>\n",
       "      <td>8.173988</td>\n",
       "      <td>49.412576</td>\n",
       "      <td>73.519948</td>\n",
       "      <td>8.846540</td>\n",
       "      <td>1.479231</td>\n",
       "      <td>13.094763</td>\n",
       "      <td>2.760905</td>\n",
       "      <td>...</td>\n",
       "      <td>20.013736</td>\n",
       "      <td>-499.502171</td>\n",
       "      <td>14.957857</td>\n",
       "      <td>-499.873967</td>\n",
       "      <td>11.034954</td>\n",
       "      <td>-493.250025</td>\n",
       "      <td>9.029441</td>\n",
       "      <td>-480.953533</td>\n",
       "      <td>11.021042</td>\n",
       "      <td>-499.685577</td>\n",
       "    </tr>\n",
       "    <tr>\n",
       "      <th>10333</th>\n",
       "      <td>2018-02-12 02:59:59</td>\n",
       "      <td>4.317169</td>\n",
       "      <td>9.642271</td>\n",
       "      <td>8.396492</td>\n",
       "      <td>48.839994</td>\n",
       "      <td>78.415342</td>\n",
       "      <td>8.485093</td>\n",
       "      <td>1.155559</td>\n",
       "      <td>13.380461</td>\n",
       "      <td>2.198065</td>\n",
       "      <td>...</td>\n",
       "      <td>20.013476</td>\n",
       "      <td>-500.511253</td>\n",
       "      <td>14.964835</td>\n",
       "      <td>-500.084773</td>\n",
       "      <td>10.972473</td>\n",
       "      <td>-511.806312</td>\n",
       "      <td>8.991251</td>\n",
       "      <td>-500.706169</td>\n",
       "      <td>10.990072</td>\n",
       "      <td>-499.775802</td>\n",
       "    </tr>\n",
       "    <tr>\n",
       "      <th>10334</th>\n",
       "      <td>2018-02-12 03:59:59</td>\n",
       "      <td>4.772368</td>\n",
       "      <td>10.273324</td>\n",
       "      <td>8.756321</td>\n",
       "      <td>47.346243</td>\n",
       "      <td>81.353620</td>\n",
       "      <td>8.900304</td>\n",
       "      <td>0.954961</td>\n",
       "      <td>13.374091</td>\n",
       "      <td>1.847744</td>\n",
       "      <td>...</td>\n",
       "      <td>20.044884</td>\n",
       "      <td>-499.593708</td>\n",
       "      <td>14.971608</td>\n",
       "      <td>-499.902077</td>\n",
       "      <td>10.982694</td>\n",
       "      <td>-499.780753</td>\n",
       "      <td>8.932517</td>\n",
       "      <td>-500.147271</td>\n",
       "      <td>11.001657</td>\n",
       "      <td>-499.736922</td>\n",
       "    </tr>\n",
       "  </tbody>\n",
       "</table>\n",
       "<p>297 rows × 87 columns</p>\n",
       "</div>"
      ],
      "text/plain": [
       "                      date  final.output.concentrate_ag  \\\n",
       "45     2016-01-16 21:00:00                     4.566664   \n",
       "46     2016-01-16 22:00:00                     4.577832   \n",
       "47     2016-01-16 23:00:00                     4.591462   \n",
       "48     2016-01-17 00:00:00                     5.296830   \n",
       "49     2016-01-17 02:00:00                     8.162896   \n",
       "...                    ...                          ...   \n",
       "10330  2018-02-11 23:59:59                     4.909904   \n",
       "10331  2018-02-12 00:59:59                     4.797572   \n",
       "10332  2018-02-12 01:59:59                     4.329492   \n",
       "10333  2018-02-12 02:59:59                     4.317169   \n",
       "10334  2018-02-12 03:59:59                     4.772368   \n",
       "\n",
       "       final.output.concentrate_pb  final.output.concentrate_sol  \\\n",
       "45                       10.406178                      4.588698   \n",
       "46                       10.691605                      5.274175   \n",
       "47                       10.628846                      5.688961   \n",
       "48                       10.597469                           NaN   \n",
       "49                        8.877528                           NaN   \n",
       "...                            ...                           ...   \n",
       "10330                     9.941006                      8.191698   \n",
       "10331                     9.889303                      8.326773   \n",
       "10332                     9.413122                      8.173988   \n",
       "10333                     9.642271                      8.396492   \n",
       "10334                    10.273324                      8.756321   \n",
       "\n",
       "       final.output.concentrate_au  final.output.recovery  \\\n",
       "45                       46.614456              68.403877   \n",
       "46                       46.250638              70.675633   \n",
       "47                       46.663335              55.088448   \n",
       "48                       44.015642              41.962008   \n",
       "49                       40.715973              49.884856   \n",
       "...                            ...                    ...   \n",
       "10330                    47.660737              83.597741   \n",
       "10331                    47.801056              84.738648   \n",
       "10332                    49.412576              73.519948   \n",
       "10333                    48.839994              78.415342   \n",
       "10334                    47.346243              81.353620   \n",
       "\n",
       "       final.output.tail_ag  final.output.tail_pb  final.output.tail_sol  \\\n",
       "45                10.705777              1.509070              17.875134   \n",
       "46                10.728531              1.641216              18.349339   \n",
       "47                10.694584              1.671644              17.910312   \n",
       "48                11.975654              1.846558               8.138408   \n",
       "49                10.381465              1.024030              12.974257   \n",
       "...                     ...                   ...                    ...   \n",
       "10330              8.853800              0.717677              13.399798   \n",
       "10331              8.503813              0.757507              13.591903   \n",
       "10332              8.846540              1.479231              13.094763   \n",
       "10333              8.485093              1.155559              13.380461   \n",
       "10334              8.900304              0.954961              13.374091   \n",
       "\n",
       "       final.output.tail_au  ...  secondary_cleaner.state.floatbank4_a_air  \\\n",
       "45                 2.509776  ...                                 14.025588   \n",
       "46                 2.540843  ...                                 14.094808   \n",
       "47                 2.686782  ...                                 13.997488   \n",
       "48                 2.889469  ...                                 14.006476   \n",
       "49                 2.739224  ...                                 13.984906   \n",
       "...                     ...  ...                                       ...   \n",
       "10330              1.515512  ...                                 19.999169   \n",
       "10331              1.573222  ...                                 19.961164   \n",
       "10332              2.760905  ...                                 20.013736   \n",
       "10333              2.198065  ...                                 20.013476   \n",
       "10334              1.847744  ...                                 20.044884   \n",
       "\n",
       "       secondary_cleaner.state.floatbank4_a_level  \\\n",
       "45                                    -550.404242   \n",
       "46                                    -550.676337   \n",
       "47                                    -551.224653   \n",
       "48                                    -549.388727   \n",
       "49                                    -550.563329   \n",
       "...                                           ...   \n",
       "10330                                 -502.266441   \n",
       "10331                                 -499.274851   \n",
       "10332                                 -499.502171   \n",
       "10333                                 -500.511253   \n",
       "10334                                 -499.593708   \n",
       "\n",
       "       secondary_cleaner.state.floatbank4_b_air  \\\n",
       "45                                    12.028925   \n",
       "46                                    12.004728   \n",
       "47                                    11.971272   \n",
       "48                                    11.975967   \n",
       "49                                    11.999730   \n",
       "...                                         ...   \n",
       "10330                                 14.943901   \n",
       "10331                                 14.950879   \n",
       "10332                                 14.957857   \n",
       "10333                                 14.964835   \n",
       "10334                                 14.971608   \n",
       "\n",
       "       secondary_cleaner.state.floatbank4_b_level  \\\n",
       "45                                    -550.570104   \n",
       "46                                    -550.496522   \n",
       "47                                    -550.095619   \n",
       "48                                    -550.778624   \n",
       "49                                    -550.549773   \n",
       "...                                           ...   \n",
       "10330                                 -500.386063   \n",
       "10331                                 -499.891798   \n",
       "10332                                 -499.873967   \n",
       "10333                                 -500.084773   \n",
       "10334                                 -499.902077   \n",
       "\n",
       "       secondary_cleaner.state.floatbank5_a_air  \\\n",
       "45                                    10.052072   \n",
       "46                                     9.953139   \n",
       "47                                     9.981163   \n",
       "48                                     9.989726   \n",
       "49                                     9.941869   \n",
       "...                                         ...   \n",
       "10330                                 10.998883   \n",
       "10331                                 11.010768   \n",
       "10332                                 11.034954   \n",
       "10333                                 10.972473   \n",
       "10334                                 10.982694   \n",
       "\n",
       "       secondary_cleaner.state.floatbank5_a_level  \\\n",
       "45                                    -500.797905   \n",
       "46                                    -500.330920   \n",
       "47                                    -502.869109   \n",
       "48                                    -499.607365   \n",
       "49                                    -503.282068   \n",
       "...                                           ...   \n",
       "10330                                 -499.846204   \n",
       "10331                                 -494.562898   \n",
       "10332                                 -493.250025   \n",
       "10333                                 -511.806312   \n",
       "10334                                 -499.780753   \n",
       "\n",
       "       secondary_cleaner.state.floatbank5_b_air  \\\n",
       "45                                     7.984500   \n",
       "46                                     8.012074   \n",
       "47                                     7.941184   \n",
       "48                                     7.958252   \n",
       "49                                     8.018850   \n",
       "...                                         ...   \n",
       "10330                                  8.972741   \n",
       "10331                                  9.028307   \n",
       "10332                                  9.029441   \n",
       "10333                                  8.991251   \n",
       "10334                                  8.932517   \n",
       "\n",
       "       secondary_cleaner.state.floatbank5_b_level  \\\n",
       "45                                    -499.581046   \n",
       "46                                    -500.133530   \n",
       "47                                    -500.623610   \n",
       "48                                    -498.882560   \n",
       "49                                    -500.970716   \n",
       "...                                           ...   \n",
       "10330                                 -500.118532   \n",
       "10331                                 -499.007596   \n",
       "10332                                 -480.953533   \n",
       "10333                                 -500.706169   \n",
       "10334                                 -500.147271   \n",
       "\n",
       "       secondary_cleaner.state.floatbank6_a_air  \\\n",
       "45                                    11.982025   \n",
       "46                                    11.975316   \n",
       "47                                    12.018837   \n",
       "48                                    11.967977   \n",
       "49                                    11.991078   \n",
       "...                                         ...   \n",
       "10330                                 10.966205   \n",
       "10331                                 10.978016   \n",
       "10332                                 11.021042   \n",
       "10333                                 10.990072   \n",
       "10334                                 11.001657   \n",
       "\n",
       "       secondary_cleaner.state.floatbank6_a_level  \n",
       "45                                    -599.161228  \n",
       "46                                    -598.839683  \n",
       "47                                    -600.916665  \n",
       "48                                    -599.440603  \n",
       "49                                    -598.475929  \n",
       "...                                           ...  \n",
       "10330                                 -500.707126  \n",
       "10331                                 -497.924873  \n",
       "10332                                 -499.685577  \n",
       "10333                                 -499.775802  \n",
       "10334                                 -499.736922  \n",
       "\n",
       "[297 rows x 87 columns]"
      ]
     },
     "execution_count": 31,
     "metadata": {},
     "output_type": "execute_result"
    }
   ],
   "source": [
    "train_data[train_data['rougher.output.recovery']==0] #в обучающей выборке"
   ]
  },
  {
   "cell_type": "markdown",
   "metadata": {},
   "source": [
    "Нулевые значения могли быть вызваны как ошибкой учета, так и технологическими особенностями процесса — например, запуском флотационной установки без руды для промывки прибора.\n",
    "\n",
    "У второго целевого признака `final.output.recovery` имеются два всплеска - около 0 и около 100.\n",
    "\n",
    "**Важно**: рисунок графиков на тестовой выборке повторяет рисунки обучающей выборки с соответствующими всплесками — учитывая это, даже если появление этих аномальных значений вызвано ошибкой учета или технологическими особенностями, модель должна их предсказать т.к. имеет соответвующие объекты для обучения."
   ]
  },
  {
   "cell_type": "markdown",
   "metadata": {},
   "source": [
    "## Анализ данных"
   ]
  },
  {
   "cell_type": "markdown",
   "metadata": {},
   "source": [
    "### Концентрация металлов на различных этапах очистки"
   ]
  },
  {
   "cell_type": "markdown",
   "metadata": {},
   "source": [
    "В руде и последущих концентратах, передающихся с этапа на этап, содержится не только золото, но также серебро и свинец. Посмотрим как меняются их концентрации после каждого этапа."
   ]
  },
  {
   "cell_type": "markdown",
   "metadata": {},
   "source": [
    "#### Концентрация золота"
   ]
  },
  {
   "cell_type": "markdown",
   "metadata": {},
   "source": [
    "Концентрацию золота отражают следующие признаки: \n",
    "- `rougher.output.concentrate_au`,\n",
    "- `primary_cleaner.output.concentrate_au`,\n",
    "- `final.output.concentrate_au`."
   ]
  },
  {
   "cell_type": "code",
   "execution_count": 32,
   "metadata": {},
   "outputs": [
    {
     "data": {
      "image/png": "[encoded data removed]",
      "text/plain": [
       "<Figure size 1080x360 with 3 Axes>"
      ]
     },
     "metadata": {
      "needs_background": "light"
     },
     "output_type": "display_data"
    }
   ],
   "source": [
    "fig = plt.figure(figsize=([15,5]))\n",
    "\n",
    "ax_1 = fig.add_subplot(1,3,1)\n",
    "ax_2 = fig.add_subplot(1,3,2)\n",
    "ax_3 = fig.add_subplot(1,3,3)\n",
    "\n",
    "sns.histplot(full_data['rougher.output.concentrate_au'], bins=100, alpha=0.6, color='yellow', ax = ax_1)\n",
    "sns.histplot(full_data['primary_cleaner.output.concentrate_au'], bins=100, alpha=0.6, color='orange', ax = ax_2)\n",
    "sns.histplot(full_data['final.output.concentrate_au'], bins=100, alpha=0.6, color='red', ax = ax_3)\n",
    "\n",
    "ax_1.set_title('После флотации')\n",
    "ax_1.set_xlabel('Доля золота')\n",
    "ax_2.set_title('После первого этапа очистки')\n",
    "ax_2.set_xlabel('Доля золота')\n",
    "ax_3.set_title('Финальный концентрат')\n",
    "ax_3.set_xlabel('Доля золота')\n",
    "plt.show()"
   ]
  },
  {
   "cell_type": "markdown",
   "metadata": {},
   "source": [
    "Доля золота растет от этапа к этапу, что логично, т.к. это и является целью технологочисеского процесса. Если после флотации средняя доля равняется примерно 20%, то к завершению процесса она достигает уже 45%."
   ]
  },
  {
   "cell_type": "markdown",
   "metadata": {},
   "source": [
    "Для наглядности динамики изменения концентрации золота, выведем графики на одном графике:"
   ]
  },
  {
   "cell_type": "code",
   "execution_count": 33,
   "metadata": {},
   "outputs": [
    {
     "data": {
      "image/png": "[encoded data removed]",
      "text/plain": [
       "<Figure size 432x288 with 1 Axes>"
      ]
     },
     "metadata": {
      "needs_background": "light"
     },
     "output_type": "display_data"
    }
   ],
   "source": [
    "fig, ax = plt.subplots()\n",
    "\n",
    "sns.histplot(full_data['rougher.output.concentrate_au'], bins=100, alpha=0.4, color='yellow')\n",
    "sns.histplot(full_data['primary_cleaner.output.concentrate_au'], bins=100, alpha=0.6, color='orange')\n",
    "sns.histplot(full_data['final.output.concentrate_au'], bins=100, alpha=0.8, color='red')\n",
    "\n",
    "ax.set_xlabel('Концентрация золота на разных этапах')\n",
    "ax.set_ylabel('Количество объектов')\n",
    "\n",
    "plt.show()"
   ]
  },
  {
   "cell_type": "markdown",
   "metadata": {},
   "source": [
    "#### Концентрация серебра"
   ]
  },
  {
   "cell_type": "code",
   "execution_count": 34,
   "metadata": {
    "scrolled": true
   },
   "outputs": [
    {
     "data": {
      "image/png": "[encoded data removed]",
      "text/plain": [
       "<Figure size 1080x360 with 3 Axes>"
      ]
     },
     "metadata": {
      "needs_background": "light"
     },
     "output_type": "display_data"
    }
   ],
   "source": [
    "fig = plt.figure(figsize=([15,5]))\n",
    "\n",
    "ax_1 = fig.add_subplot(1,3,1)\n",
    "ax_2 = fig.add_subplot(1,3,2)\n",
    "ax_3 = fig.add_subplot(1,3,3)\n",
    "\n",
    "sns.histplot(full_data['rougher.output.concentrate_ag'], bins=100, alpha=0.6, color='yellow', ax = ax_1)\n",
    "sns.histplot(full_data['primary_cleaner.output.concentrate_ag'], bins=100, alpha=0.6, color='orange', ax = ax_2)\n",
    "sns.histplot(full_data['final.output.concentrate_ag'], bins=100, alpha=0.6, color='red', ax = ax_3)\n",
    "\n",
    "ax_1.set_title('После флотации')\n",
    "ax_1.set_xlabel('Доля серебра')\n",
    "ax_2.set_title('После первого этапа очистки')\n",
    "ax_2.set_xlabel('Доля серебра')\n",
    "ax_3.set_title('Финальный концентрат')\n",
    "ax_3.set_xlabel('Доля серебра')\n",
    "\n",
    "plt.show()"
   ]
  },
  {
   "cell_type": "code",
   "execution_count": 40,
   "metadata": {
    "scrolled": true
   },
   "outputs": [
    {
     "data": {
      "image/png": "[encoded data removed]",
      "text/plain": [
       "<Figure size 432x288 with 1 Axes>"
      ]
     },
     "metadata": {
      "needs_background": "light"
     },
     "output_type": "display_data"
    }
   ],
   "source": [
    "fig, ax = plt.subplots()\n",
    "\n",
    "sns.histplot(full_data['rougher.output.concentrate_ag'], bins=100, alpha=0.4, color='yellow')\n",
    "sns.histplot(full_data['primary_cleaner.output.concentrate_ag'], bins=100, alpha=0.6, color='orange')\n",
    "sns.histplot(full_data['final.output.concentrate_ag'], bins=100, alpha=0.8, color='red')\n",
    "\n",
    "ax.set_xlabel('Концентрация серебра на разных этапах')\n",
    "ax.set_ylabel('Количество объектов')\n",
    "\n",
    "plt.show()"
   ]
  },
  {
   "cell_type": "markdown",
   "metadata": {},
   "source": [
    "Концентрация серебра, напротив, снижается от этапа к этапу - средняя доля падает с 11% до 5%"
   ]
  },
  {
   "cell_type": "markdown",
   "metadata": {},
   "source": [
    "#### Концентрация свинца"
   ]
  },
  {
   "cell_type": "code",
   "execution_count": 35,
   "metadata": {},
   "outputs": [
    {
     "data": {
      "image/png": "[encoded data removed]",
      "text/plain": [
       "<Figure size 1080x360 with 3 Axes>"
      ]
     },
     "metadata": {
      "needs_background": "light"
     },
     "output_type": "display_data"
    }
   ],
   "source": [
    "fig = plt.figure(figsize=([15,5]))\n",
    "\n",
    "ax_1 = fig.add_subplot(1,3,1)\n",
    "ax_2 = fig.add_subplot(1,3,2)\n",
    "ax_3 = fig.add_subplot(1,3,3)\n",
    "\n",
    "sns.histplot(full_data['rougher.output.concentrate_pb'], bins=100, alpha=0.6, color='yellow', ax = ax_1)\n",
    "sns.histplot(full_data['primary_cleaner.output.concentrate_pb'], bins=100, alpha=0.6, color='orange', ax = ax_2)\n",
    "sns.histplot(full_data['final.output.concentrate_pb'], bins=100, alpha=0.6, color='red', ax = ax_3)\n",
    "\n",
    "ax_1.set_title('После флотации')\n",
    "ax_1.set_xlabel('Доля свинца')\n",
    "ax_2.set_title('После первого этапа очистки')\n",
    "ax_2.set_xlabel('Доля свинца')\n",
    "ax_3.set_title('Финальный концентрат')\n",
    "ax_3.set_xlabel('Доля свинца')\n",
    "\n",
    "plt.show()"
   ]
  },
  {
   "cell_type": "code",
   "execution_count": 36,
   "metadata": {},
   "outputs": [
    {
     "data": {
      "image/png": "[encoded data removed]",
      "text/plain": [
       "<Figure size 432x288 with 1 Axes>"
      ]
     },
     "metadata": {
      "needs_background": "light"
     },
     "output_type": "display_data"
    }
   ],
   "source": [
    "fig, ax = plt.subplots()\n",
    "\n",
    "sns.histplot(full_data['rougher.output.concentrate_pb'], bins=100, alpha=0.3, color='yellow')\n",
    "sns.histplot(full_data['primary_cleaner.output.concentrate_pb'], bins=100, alpha=0.5, color='orange')\n",
    "sns.histplot(full_data['final.output.concentrate_pb'], bins=100, alpha=0.5, color='red')\n",
    "\n",
    "ax.set_xlabel('Концентрация свинца на разных этапах')\n",
    "ax.set_ylabel('Количество объектов')\n",
    "\n",
    "plt.show()"
   ]
  },
  {
   "cell_type": "markdown",
   "metadata": {},
   "source": [
    "Со свинцом картина несколько иная — сначала доля этого металла сокращается, а далее - усредняяется (пик у среднего значения вырастает). Вероятно это связано с тем, что свинец отделяется только на этапе флотации — а из-за снижения доли других элементов (например, серебра), его доля растет."
   ]
  },
  {
   "cell_type": "markdown",
   "metadata": {},
   "source": [
    "### Распределение размеров гранул сырья на обучающей и тестовой выборках"
   ]
  },
  {
   "cell_type": "markdown",
   "metadata": {},
   "source": [
    "Перед обучением модели стоит также проверить распределение размеров гранул сырья (`feed_size`) на обучающей и тестовой выборках. На этапе подготовки данных мы отметили, что у некоторых признаков в них отличаются средние и дисперсии — разница в этом параметре может привести к ошибке обучения."
   ]
  },
  {
   "cell_type": "code",
   "execution_count": 37,
   "metadata": {
    "scrolled": true
   },
   "outputs": [
    {
     "data": {
      "image/png": "[encoded data removed]",
      "text/plain": [
       "<Figure size 576x576 with 1 Axes>"
      ]
     },
     "metadata": {
      "needs_background": "light"
     },
     "output_type": "display_data"
    }
   ],
   "source": [
    "plt.figure(figsize=[8,8])\n",
    "\n",
    "sns.histplot(train_data['rougher.input.feed_size'], bins=100, color='yellow', alpha=0.5)\n",
    "sns.histplot(test_data['rougher.input.feed_size'], bins=100, color='red', alpha=0.5)\n",
    "\n",
    "plt.xlabel(\"Размер гранул сырья\")\n",
    "plt.ylabel(\"Количество\")\n",
    "\n",
    "plt.title(\"Гистограмма распределения размера гранул до начала процесса обработки руды\")\n",
    "plt.show()"
   ]
  },
  {
   "cell_type": "markdown",
   "metadata": {},
   "source": [
    "Повторим график, указав доли вместо объектов, вместо абсолюного значения"
   ]
  },
  {
   "cell_type": "code",
   "execution_count": 38,
   "metadata": {},
   "outputs": [
    {
     "data": {
      "image/png": "[encoded data removed]",
      "text/plain": [
       "<Figure size 576x576 with 1 Axes>"
      ]
     },
     "metadata": {
      "needs_background": "light"
     },
     "output_type": "display_data"
    }
   ],
   "source": [
    "plt.figure(figsize=[8,8])\n",
    "\n",
    "sns.histplot(train_data['rougher.input.feed_size'], bins=100, color='yellow', alpha=0.5, stat= 'density' )\n",
    "sns.histplot(test_data['rougher.input.feed_size'], bins=100, color='red', alpha=0.5, stat= 'density')\n",
    "\n",
    "plt.xlabel(\"Размер гранул сырья\")\n",
    "plt.ylabel(\"Количество\")\n",
    "\n",
    "plt.title(\"Гистограмма распределения размера гранул до начала процесса обработки руды\")\n",
    "plt.show()"
   ]
  },
  {
   "cell_type": "markdown",
   "metadata": {},
   "source": [
    "В обоих выборках распределение размеров грапнул сырья похоже на нормальное со смещением влево, правда в обучающей выборке среднее значение чуть выше. \n",
    "\n",
    "Отметим, что на графике видны выбросы из-за которых график растянулся вправо по оси X до 500."
   ]
  },
  {
   "cell_type": "code",
   "execution_count": 39,
   "metadata": {
    "scrolled": true
   },
   "outputs": [
    {
     "data": {
      "image/png": "[encoded data removed]",
      "text/plain": [
       "<Figure size 576x576 with 1 Axes>"
      ]
     },
     "metadata": {
      "needs_background": "light"
     },
     "output_type": "display_data"
    }
   ],
   "source": [
    "plt.figure(figsize=[8,8])\n",
    "\n",
    "sns.histplot(train_data['primary_cleaner.input.feed_size'], bins=100, color='yellow', alpha=0.5)\n",
    "sns.histplot(test_data['primary_cleaner.input.feed_size'], bins=100, color='red', alpha=0.5)\n",
    "\n",
    "plt.xlabel(\"Размер гранул сырья\")\n",
    "plt.ylabel(\"Количество\")\n",
    "\n",
    "plt.title(\"Гистограмма распределения размера гранул перед началом первичной обработки\")\n",
    "plt.show()"
   ]
  },
  {
   "cell_type": "markdown",
   "metadata": {},
   "source": [
    "После флотации размер гранул уменьшается, а распределение в обоих выборках становится нормальным — флотация позволяет избавиться от выбросов и нетипичного сырья. Таким образом, модель должна обучиться правильно."
   ]
  },
  {
   "cell_type": "markdown",
   "metadata": {},
   "source": [
    "### Суммарная концентрация веществ на всех этапах"
   ]
  },
  {
   "cell_type": "markdown",
   "metadata": {},
   "source": [
    "Анализ суммарной концентрации веществ в руде на разных этапах позволит выявить в данных аномалии."
   ]
  },
  {
   "cell_type": "markdown",
   "metadata": {},
   "source": [
    "К веществам мы отнесем Au, Aq, Pb, Sol. Произведем расчет их общей концентрации."
   ]
  },
  {
   "cell_type": "code",
   "execution_count": 46,
   "metadata": {},
   "outputs": [],
   "source": [
    "# перед флотацией\n",
    "\n",
    "rougher_total_feed_train = (train_data['rougher.input.feed_au'] +\n",
    "                            train_data['rougher.input.feed_ag'] +\n",
    "                            train_data['rougher.input.feed_pb'] +\n",
    "                            train_data['rougher.input.feed_sol'])\n",
    "\n",
    "# на этапе флотации\n",
    "    \n",
    "rougher_total_concentrate_train = (train_data['rougher.output.concentrate_au'] +\n",
    "                                   train_data['rougher.output.concentrate_ag'] + \n",
    "                                   train_data['rougher.output.concentrate_pb'] +\n",
    "                                   train_data['rougher.output.concentrate_sol'])\n",
    "\n",
    "# на этапе первичной обработки\n",
    "\n",
    "primary_cleaner_total_concentrate_train = (train_data['primary_cleaner.output.concentrate_au'] +\n",
    "                                           train_data['primary_cleaner.output.concentrate_ag'] +\n",
    "                                           train_data['primary_cleaner.output.concentrate_pb'] +\n",
    "                                           train_data['primary_cleaner.output.concentrate_sol'])\n",
    "\n",
    "# финальный концентрат\n",
    "final_total_concentrate_train = (train_data['final.output.concentrate_au'] +\n",
    "                                 train_data['final.output.concentrate_ag'] +\n",
    "                                 train_data['final.output.concentrate_pb'] +\n",
    "                                 train_data['final.output.concentrate_sol'])"
   ]
  },
  {
   "cell_type": "code",
   "execution_count": 47,
   "metadata": {},
   "outputs": [
    {
     "data": {
      "image/png": "[encoded data removed]",
      "text/plain": [
       "<Figure size 360x360 with 1 Axes>"
      ]
     },
     "metadata": {
      "needs_background": "light"
     },
     "output_type": "display_data"
    }
   ],
   "source": [
    "plt.figure(figsize = (5,5))\n",
    "\n",
    "\n",
    "sns.histplot(rougher_total_feed_train, bins=100, color ='yellow', alpha=.5)\n",
    "sns.histplot(rougher_total_concentrate_train, bins=100, color ='green', alpha=.5)\n",
    "sns.histplot(primary_cleaner_total_concentrate_train, bins=100, color='blue', alpha=.5)\n",
    "sns.histplot(final_total_concentrate_train, bins=100, color='red', alpha=.5)\n",
    "\n",
    "plt.title('Концентрация основных веществ в продуктах каждого этапа')\n",
    "\n",
    "plt.show()"
   ]
  },
  {
   "cell_type": "markdown",
   "metadata": {},
   "source": [
    "На графике видно, что содержание основных веществ в продуктах от этапа к этапу становится больше - т.е. сырье очищается, а также нормализуется — на третьем этапе высокий пик в среднем значении.\n",
    "\n",
    "Не менее интресно, что за выбросы у нуля — попробуем посмотреть на этот участок графика ближе."
   ]
  },
  {
   "cell_type": "code",
   "execution_count": 50,
   "metadata": {
    "scrolled": false
   },
   "outputs": [
    {
     "data": {
      "image/png": "[encoded data removed]",
      "text/plain": [
       "<Figure size 720x720 with 1 Axes>"
      ]
     },
     "metadata": {
      "needs_background": "light"
     },
     "output_type": "display_data"
    }
   ],
   "source": [
    "plt.figure(figsize = (10,10))\n",
    "\n",
    "sns.histplot(rougher_total_feed_train, bins=100, color ='yellow', alpha=.5)\n",
    "sns.histplot(rougher_total_concentrate_train, bins=100, color ='green', alpha=.5)\n",
    "sns.histplot(primary_cleaner_total_concentrate_train, bins=100, color='blue', alpha=.5)\n",
    "sns.histplot(final_total_concentrate_train, bins=100, color='red', alpha=.5)\n",
    "\n",
    "plt.xlim([0, 20])\n",
    "plt.ylim([0, 400])\n",
    "\n",
    "plt.title('Концентрация основных веществ в продуктах каждого этапа')\n",
    "\n",
    "plt.show()"
   ]
  },
  {
   "cell_type": "markdown",
   "metadata": {},
   "source": [
    "Суммарный продукт равный нулю — это либо технические запуски установки без сырья, либо какая-то ошибка. Такие аномалии все же стоит отбросить."
   ]
  },
  {
   "cell_type": "markdown",
   "metadata": {},
   "source": [
    "Чтобы вычленить эти строки, отбросим объекты с нулевой концентрацией определенных веществ на этапе флотации, а потом еще раз посмотрим на гистограмму распределения"
   ]
  },
  {
   "cell_type": "code",
   "execution_count": 51,
   "metadata": {},
   "outputs": [],
   "source": [
    "train_data = train_data[train_data['rougher.output.concentrate_au']!=0]\n",
    "train_data = train_data[train_data['primary_cleaner.output.concentrate_au']!=0]\n",
    "train_data = train_data[train_data['final.output.concentrate_au']!=0]"
   ]
  },
  {
   "cell_type": "code",
   "execution_count": 52,
   "metadata": {},
   "outputs": [],
   "source": [
    "# на этапе флотации\n",
    "    \n",
    "rougher_total_concentrate_train = (train_data['rougher.output.concentrate_au'] +\n",
    "                                   train_data['rougher.output.concentrate_ag'] + \n",
    "                                   train_data['rougher.output.concentrate_pb'] +\n",
    "                                   train_data['rougher.output.concentrate_sol'])\n",
    "\n",
    "# на этапе первичной обработки\n",
    "\n",
    "primary_cleaner_total_concentrate_train = (train_data['primary_cleaner.output.concentrate_au'] +\n",
    "                                           train_data['primary_cleaner.output.concentrate_ag'] +\n",
    "                                           train_data['primary_cleaner.output.concentrate_pb'] +\n",
    "                                           train_data['primary_cleaner.output.concentrate_sol'])\n",
    "\n",
    "# финальный концентрат\n",
    "final_total_concentrate_train = (train_data['final.output.concentrate_au'] +\n",
    "                                 train_data['final.output.concentrate_ag'] +\n",
    "                                 train_data['final.output.concentrate_pb'] +\n",
    "                                 train_data['final.output.concentrate_sol'])"
   ]
  },
  {
   "cell_type": "code",
   "execution_count": 53,
   "metadata": {
    "scrolled": false
   },
   "outputs": [
    {
     "data": {
      "image/png": "[encoded data removed]",
      "text/plain": [
       "<Figure size 360x360 with 1 Axes>"
      ]
     },
     "metadata": {
      "needs_background": "light"
     },
     "output_type": "display_data"
    }
   ],
   "source": [
    "plt.figure(figsize = (5,5))\n",
    "\n",
    "sns.histplot(rougher_total_feed_train, bins=100, color ='yellow', alpha=.5)\n",
    "sns.histplot(rougher_total_concentrate_train, bins=100, color ='green', alpha=.5)\n",
    "sns.histplot(primary_cleaner_total_concentrate_train, bins=100, color='blue', alpha=.5)\n",
    "sns.histplot(final_total_concentrate_train, bins=100, color='red', alpha=.5)\n",
    "\n",
    "#plt.xlim([0, 20]) # данные строки можно разкомментировать для приближения масштаба\n",
    "#plt.ylim([0, 400])\n",
    "\n",
    "plt.title('Концентрация основных веществ в продуктах каждого этапа')\n",
    "\n",
    "plt.show()"
   ]
  },
  {
   "cell_type": "markdown",
   "metadata": {},
   "source": [
    "Пик около нуля остался только для концентрата после первичной очистки, обозначенный синим. На этапе обработки пропусков мы отмечали, что такие же всплески есть и в целевых признаках, как в обучающей, так и в тестовой выборках. Попробуем оставить и  \"не вылавливать\" объекты с нулевым концентратом, т.к. модель должна обучиться предсказывать и нули."
   ]
  },
  {
   "cell_type": "markdown",
   "metadata": {},
   "source": [
    "## Модель"
   ]
  },
  {
   "cell_type": "markdown",
   "metadata": {},
   "source": [
    "Теперь перед нами стоит задача регрессии: предсказать количественные целевые признаки `rougher.output.recovery` и `final.output.recovery`. \n",
    "    "
   ]
  },
  {
   "cell_type": "markdown",
   "metadata": {},
   "source": [
    "Для построения моделей будут использованы следующие алгоритмы:\n",
    "- LinearRegression - линейная регрессия;\n",
    "- DecisionTreeRegressor;\n",
    "- RandomForestRegressor."
   ]
  },
  {
   "cell_type": "markdown",
   "metadata": {},
   "source": [
    "Оценка качетсва модели будет осуществляться путем расчета  **sMAPE** (англ. Symmetric Mean Absolute Percentage Error, «симметричное среднее абсолютное процентное отклонение»). Причем у  разных этапов будет разный вес в финальном **sMAPE** - 25% у чернового концентрата после флотации и 75% у финального концентрата."
   ]
  },
  {
   "cell_type": "markdown",
   "metadata": {},
   "source": [
    "### Функция расчета sMAPE"
   ]
  },
  {
   "cell_type": "code",
   "execution_count": 54,
   "metadata": {},
   "outputs": [],
   "source": [
    "def smape(target, pred):\n",
    "    \"\"\"\n",
    "    Эта функция считает симметричное среднее абсолютное процентное отклонение.\n",
    "    На вход функция принимает целевые значения и предсказания модели.\n",
    "    \n",
    "    \"\"\"   \n",
    "    return ((1/len(target)) * np.sum(2 * np.abs(target - pred) / (np.abs(target) + np.abs(pred)))) * 100\n",
    "\n",
    "    "
   ]
  },
  {
   "cell_type": "markdown",
   "metadata": {},
   "source": [
    "В условиях задачи нам нужно посчитать sMAPE для продукта флотации и для финального продукта всего процесса. Определим дополнительную функцию."
   ]
  },
  {
   "cell_type": "code",
   "execution_count": 55,
   "metadata": {},
   "outputs": [],
   "source": [
    "def smape_weighed(sMAPE_first, sMAPE_second, first_weight = .25, second_weight = .75):\n",
    "    \"\"\"\n",
    "    Эта функция возвращает \"взвешенное\" симметричное среднее абсолютное процентное отклонение\n",
    "    для двух исходных симметричных средних абсолютных процентных отклонениях исходя из их вклада.\n",
    "    \n",
    "    За веса отвечают параметры first_weight и second_weight.\n",
    "    По умолчанию имеют веса 25% и 75% соответственно.\n",
    "    \n",
    "    \"\"\"\n",
    "    return sMAPE_first * first_weight + sMAPE_second * second_weight"
   ]
  },
  {
   "cell_type": "markdown",
   "metadata": {},
   "source": [
    "#### sMAPE моделей"
   ]
  },
  {
   "cell_type": "markdown",
   "metadata": {},
   "source": [
    "Для оценки эффеткивности моделей далее мы будем использовать метрику `.score` по умолчанию (коэффициент детерминации). Однако ниже, за счет импорта `make_scorer`, мы определим новую метрику — при необъожимости ее можно будет передать для выбора модели в GridSearchCV."
   ]
  },
  {
   "cell_type": "code",
   "execution_count": 57,
   "metadata": {},
   "outputs": [],
   "source": [
    "smape_score = make_scorer(smape, greater_is_better=False)"
   ]
  },
  {
   "cell_type": "markdown",
   "metadata": {},
   "source": [
    "### Определение признаков и целевого признака"
   ]
  },
  {
   "cell_type": "markdown",
   "metadata": {},
   "source": [
    "Наличие пропусков приведет к ошибке при обучении моделей — отбросим их."
   ]
  },
  {
   "cell_type": "code",
   "execution_count": 58,
   "metadata": {},
   "outputs": [],
   "source": [
    "train_data = train_data.dropna()\n",
    "test_data = test_data.dropna()"
   ]
  },
  {
   "cell_type": "markdown",
   "metadata": {},
   "source": [
    "#### Определение целевых признаков"
   ]
  },
  {
   "cell_type": "markdown",
   "metadata": {},
   "source": [
    "Целевые признаки поставлены по условию задачи: это эффективность обогащения чернового концентрата `rougher.output.recovery` и  эффективность обогащения финального продукта `final.output.recovery`"
   ]
  },
  {
   "cell_type": "code",
   "execution_count": 59,
   "metadata": {},
   "outputs": [],
   "source": [
    "target_train_rougher = train_data['rougher.output.recovery']\n",
    "target_train_final = train_data['final.output.recovery']\n",
    "\n",
    "target_test_rougher = test_data['rougher.output.recovery']\n",
    "target_test_final = test_data['final.output.recovery'] "
   ]
  },
  {
   "cell_type": "markdown",
   "metadata": {},
   "source": [
    "#### Определение признаков для этапа rougher"
   ]
  },
  {
   "cell_type": "markdown",
   "metadata": {},
   "source": [
    "В качестве признаков, которые мы будем передавать модели для предсказания целевых признаков определим данные, которые нам известны до начала процесса.\n",
    "\n",
    "Для финального продукта это параметры типа `rougher.input` — т.е. параметры сырья перед началом флотации, — а также параметры типа `state` на каждом этапе и количество флотационных реагентов в начале первичной очистки.\n",
    "\n",
    "Для чернового концентрата — параметры типа `input` и `state` для этапа `rouger`."
   ]
  },
  {
   "cell_type": "markdown",
   "metadata": {},
   "source": [
    "Создадим цикл, который выберет из всех столбцов тестовой выборки те, в названии которых есть `rougher` — при загрузке данных мы отметили, что там уже нет параметров типа `output` и `calculated`. Этот же список можно будет передать тренировочной выборке для выбора подходящих признаков для обучения модели."
   ]
  },
  {
   "cell_type": "code",
   "execution_count": 60,
   "metadata": {},
   "outputs": [],
   "source": [
    "rouger_features_columns = []\n",
    "for column in test_data.columns:\n",
    "    if 'rougher' in column:\n",
    "        rouger_features_columns.append(column)"
   ]
  },
  {
   "cell_type": "code",
   "execution_count": 61,
   "metadata": {
    "scrolled": true
   },
   "outputs": [
    {
     "data": {
      "text/plain": [
       "['rougher.input.feed_ag',\n",
       " 'rougher.input.feed_pb',\n",
       " 'rougher.input.feed_rate',\n",
       " 'rougher.input.feed_size',\n",
       " 'rougher.input.feed_sol',\n",
       " 'rougher.input.feed_au',\n",
       " 'rougher.input.floatbank10_sulfate',\n",
       " 'rougher.input.floatbank10_xanthate',\n",
       " 'rougher.input.floatbank11_sulfate',\n",
       " 'rougher.input.floatbank11_xanthate',\n",
       " 'rougher.state.floatbank10_a_air',\n",
       " 'rougher.state.floatbank10_a_level',\n",
       " 'rougher.state.floatbank10_b_air',\n",
       " 'rougher.state.floatbank10_b_level',\n",
       " 'rougher.state.floatbank10_c_air',\n",
       " 'rougher.state.floatbank10_c_level',\n",
       " 'rougher.state.floatbank10_d_air',\n",
       " 'rougher.state.floatbank10_d_level',\n",
       " 'rougher.state.floatbank10_e_air',\n",
       " 'rougher.state.floatbank10_e_level',\n",
       " 'rougher.state.floatbank10_f_air',\n",
       " 'rougher.state.floatbank10_f_level',\n",
       " 'rougher.output.recovery']"
      ]
     },
     "execution_count": 61,
     "metadata": {},
     "output_type": "execute_result"
    }
   ],
   "source": [
    "rouger_features_columns #посмотрим список признаков для предсказания `rougher.output.recovery`"
   ]
  },
  {
   "cell_type": "markdown",
   "metadata": {},
   "source": [
    "Определяем признаки тестовой выборки для предсказания `rougher.output.recovery`"
   ]
  },
  {
   "cell_type": "code",
   "execution_count": 62,
   "metadata": {},
   "outputs": [],
   "source": [
    "features_test_rougher = test_data[rouger_features_columns].drop(['rougher.output.recovery'], axis=1)"
   ]
  },
  {
   "cell_type": "code",
   "execution_count": 63,
   "metadata": {
    "scrolled": true
   },
   "outputs": [
    {
     "data": {
      "text/html": [
       "<div>\n",
       "<style scoped>\n",
       "    .dataframe tbody tr th:only-of-type {\n",
       "        vertical-align: middle;\n",
       "    }\n",
       "\n",
       "    .dataframe tbody tr th {\n",
       "        vertical-align: top;\n",
       "    }\n",
       "\n",
       "    .dataframe thead th {\n",
       "        text-align: right;\n",
       "    }\n",
       "</style>\n",
       "<table border=\"1\" class=\"dataframe\">\n",
       "  <thead>\n",
       "    <tr style=\"text-align: right;\">\n",
       "      <th></th>\n",
       "      <th>rougher.input.feed_ag</th>\n",
       "      <th>rougher.input.feed_pb</th>\n",
       "      <th>rougher.input.feed_rate</th>\n",
       "      <th>rougher.input.feed_size</th>\n",
       "      <th>rougher.input.feed_sol</th>\n",
       "      <th>rougher.input.feed_au</th>\n",
       "      <th>rougher.input.floatbank10_sulfate</th>\n",
       "      <th>rougher.input.floatbank10_xanthate</th>\n",
       "      <th>rougher.input.floatbank11_sulfate</th>\n",
       "      <th>rougher.input.floatbank11_xanthate</th>\n",
       "      <th>...</th>\n",
       "      <th>rougher.state.floatbank10_b_air</th>\n",
       "      <th>rougher.state.floatbank10_b_level</th>\n",
       "      <th>rougher.state.floatbank10_c_air</th>\n",
       "      <th>rougher.state.floatbank10_c_level</th>\n",
       "      <th>rougher.state.floatbank10_d_air</th>\n",
       "      <th>rougher.state.floatbank10_d_level</th>\n",
       "      <th>rougher.state.floatbank10_e_air</th>\n",
       "      <th>rougher.state.floatbank10_e_level</th>\n",
       "      <th>rougher.state.floatbank10_f_air</th>\n",
       "      <th>rougher.state.floatbank10_f_level</th>\n",
       "    </tr>\n",
       "  </thead>\n",
       "  <tbody>\n",
       "    <tr>\n",
       "      <th>0</th>\n",
       "      <td>13.128569</td>\n",
       "      <td>5.636710</td>\n",
       "      <td>489.793655</td>\n",
       "      <td>62.710452</td>\n",
       "      <td>42.022440</td>\n",
       "      <td>12.084103</td>\n",
       "      <td>16.922877</td>\n",
       "      <td>6.153479</td>\n",
       "      <td>16.867518</td>\n",
       "      <td>6.150709</td>\n",
       "      <td>...</td>\n",
       "      <td>1249.738612</td>\n",
       "      <td>-399.107531</td>\n",
       "      <td>1249.750520</td>\n",
       "      <td>-399.396730</td>\n",
       "      <td>1198.287855</td>\n",
       "      <td>-399.488594</td>\n",
       "      <td>999.472250</td>\n",
       "      <td>-399.530962</td>\n",
       "      <td>949.566189</td>\n",
       "      <td>-398.180807</td>\n",
       "    </tr>\n",
       "    <tr>\n",
       "      <th>1</th>\n",
       "      <td>13.036280</td>\n",
       "      <td>5.526065</td>\n",
       "      <td>490.104534</td>\n",
       "      <td>61.961163</td>\n",
       "      <td>41.187903</td>\n",
       "      <td>11.918977</td>\n",
       "      <td>17.002532</td>\n",
       "      <td>5.999043</td>\n",
       "      <td>16.996063</td>\n",
       "      <td>6.002315</td>\n",
       "      <td>...</td>\n",
       "      <td>1248.395457</td>\n",
       "      <td>-399.946025</td>\n",
       "      <td>1249.514451</td>\n",
       "      <td>-399.630810</td>\n",
       "      <td>1200.506459</td>\n",
       "      <td>-399.942434</td>\n",
       "      <td>1000.002114</td>\n",
       "      <td>-399.491528</td>\n",
       "      <td>950.200009</td>\n",
       "      <td>-405.787514</td>\n",
       "    </tr>\n",
       "    <tr>\n",
       "      <th>2</th>\n",
       "      <td>13.138412</td>\n",
       "      <td>5.426561</td>\n",
       "      <td>489.617969</td>\n",
       "      <td>66.903807</td>\n",
       "      <td>42.546294</td>\n",
       "      <td>12.091332</td>\n",
       "      <td>16.992520</td>\n",
       "      <td>5.850632</td>\n",
       "      <td>16.982096</td>\n",
       "      <td>5.853594</td>\n",
       "      <td>...</td>\n",
       "      <td>1247.440748</td>\n",
       "      <td>-400.264330</td>\n",
       "      <td>1248.207204</td>\n",
       "      <td>-401.074405</td>\n",
       "      <td>1199.770026</td>\n",
       "      <td>-400.790582</td>\n",
       "      <td>999.925519</td>\n",
       "      <td>-399.236999</td>\n",
       "      <td>950.320481</td>\n",
       "      <td>-400.864340</td>\n",
       "    </tr>\n",
       "    <tr>\n",
       "      <th>3</th>\n",
       "      <td>12.400507</td>\n",
       "      <td>5.114758</td>\n",
       "      <td>476.618130</td>\n",
       "      <td>59.865919</td>\n",
       "      <td>41.060195</td>\n",
       "      <td>12.181597</td>\n",
       "      <td>16.532144</td>\n",
       "      <td>5.801935</td>\n",
       "      <td>16.515277</td>\n",
       "      <td>5.803657</td>\n",
       "      <td>...</td>\n",
       "      <td>1251.322675</td>\n",
       "      <td>-398.655289</td>\n",
       "      <td>1250.493702</td>\n",
       "      <td>-399.746728</td>\n",
       "      <td>1199.398691</td>\n",
       "      <td>-397.503052</td>\n",
       "      <td>1001.930679</td>\n",
       "      <td>-400.437573</td>\n",
       "      <td>950.735324</td>\n",
       "      <td>-399.802986</td>\n",
       "    </tr>\n",
       "    <tr>\n",
       "      <th>4</th>\n",
       "      <td>11.327427</td>\n",
       "      <td>4.767383</td>\n",
       "      <td>488.248117</td>\n",
       "      <td>63.315324</td>\n",
       "      <td>41.269161</td>\n",
       "      <td>11.290425</td>\n",
       "      <td>13.607257</td>\n",
       "      <td>5.738081</td>\n",
       "      <td>13.650053</td>\n",
       "      <td>5.739634</td>\n",
       "      <td>...</td>\n",
       "      <td>1304.658848</td>\n",
       "      <td>-399.511519</td>\n",
       "      <td>1306.455515</td>\n",
       "      <td>-399.050685</td>\n",
       "      <td>1248.699349</td>\n",
       "      <td>-400.876894</td>\n",
       "      <td>1058.839106</td>\n",
       "      <td>-398.988239</td>\n",
       "      <td>949.645313</td>\n",
       "      <td>-399.277632</td>\n",
       "    </tr>\n",
       "  </tbody>\n",
       "</table>\n",
       "<p>5 rows × 22 columns</p>\n",
       "</div>"
      ],
      "text/plain": [
       "   rougher.input.feed_ag  rougher.input.feed_pb  rougher.input.feed_rate  \\\n",
       "0              13.128569               5.636710               489.793655   \n",
       "1              13.036280               5.526065               490.104534   \n",
       "2              13.138412               5.426561               489.617969   \n",
       "3              12.400507               5.114758               476.618130   \n",
       "4              11.327427               4.767383               488.248117   \n",
       "\n",
       "   rougher.input.feed_size  rougher.input.feed_sol  rougher.input.feed_au  \\\n",
       "0                62.710452               42.022440              12.084103   \n",
       "1                61.961163               41.187903              11.918977   \n",
       "2                66.903807               42.546294              12.091332   \n",
       "3                59.865919               41.060195              12.181597   \n",
       "4                63.315324               41.269161              11.290425   \n",
       "\n",
       "   rougher.input.floatbank10_sulfate  rougher.input.floatbank10_xanthate  \\\n",
       "0                          16.922877                            6.153479   \n",
       "1                          17.002532                            5.999043   \n",
       "2                          16.992520                            5.850632   \n",
       "3                          16.532144                            5.801935   \n",
       "4                          13.607257                            5.738081   \n",
       "\n",
       "   rougher.input.floatbank11_sulfate  rougher.input.floatbank11_xanthate  ...  \\\n",
       "0                          16.867518                            6.150709  ...   \n",
       "1                          16.996063                            6.002315  ...   \n",
       "2                          16.982096                            5.853594  ...   \n",
       "3                          16.515277                            5.803657  ...   \n",
       "4                          13.650053                            5.739634  ...   \n",
       "\n",
       "   rougher.state.floatbank10_b_air  rougher.state.floatbank10_b_level  \\\n",
       "0                      1249.738612                        -399.107531   \n",
       "1                      1248.395457                        -399.946025   \n",
       "2                      1247.440748                        -400.264330   \n",
       "3                      1251.322675                        -398.655289   \n",
       "4                      1304.658848                        -399.511519   \n",
       "\n",
       "   rougher.state.floatbank10_c_air  rougher.state.floatbank10_c_level  \\\n",
       "0                      1249.750520                        -399.396730   \n",
       "1                      1249.514451                        -399.630810   \n",
       "2                      1248.207204                        -401.074405   \n",
       "3                      1250.493702                        -399.746728   \n",
       "4                      1306.455515                        -399.050685   \n",
       "\n",
       "   rougher.state.floatbank10_d_air  rougher.state.floatbank10_d_level  \\\n",
       "0                      1198.287855                        -399.488594   \n",
       "1                      1200.506459                        -399.942434   \n",
       "2                      1199.770026                        -400.790582   \n",
       "3                      1199.398691                        -397.503052   \n",
       "4                      1248.699349                        -400.876894   \n",
       "\n",
       "   rougher.state.floatbank10_e_air  rougher.state.floatbank10_e_level  \\\n",
       "0                       999.472250                        -399.530962   \n",
       "1                      1000.002114                        -399.491528   \n",
       "2                       999.925519                        -399.236999   \n",
       "3                      1001.930679                        -400.437573   \n",
       "4                      1058.839106                        -398.988239   \n",
       "\n",
       "   rougher.state.floatbank10_f_air  rougher.state.floatbank10_f_level  \n",
       "0                       949.566189                        -398.180807  \n",
       "1                       950.200009                        -405.787514  \n",
       "2                       950.320481                        -400.864340  \n",
       "3                       950.735324                        -399.802986  \n",
       "4                       949.645313                        -399.277632  \n",
       "\n",
       "[5 rows x 22 columns]"
      ]
     },
     "execution_count": 63,
     "metadata": {},
     "output_type": "execute_result"
    }
   ],
   "source": [
    "features_test_rougher.head()"
   ]
  },
  {
   "cell_type": "code",
   "execution_count": 64,
   "metadata": {},
   "outputs": [
    {
     "data": {
      "text/plain": [
       "(5229, 22)"
      ]
     },
     "execution_count": 64,
     "metadata": {},
     "output_type": "execute_result"
    }
   ],
   "source": [
    "features_test_rougher.shape"
   ]
  },
  {
   "cell_type": "markdown",
   "metadata": {},
   "source": [
    "Аналогично в тренировочной выборке:"
   ]
  },
  {
   "cell_type": "code",
   "execution_count": 65,
   "metadata": {},
   "outputs": [],
   "source": [
    "features_train_rougher = train_data[rouger_features_columns].drop(['rougher.output.recovery'], axis=1)"
   ]
  },
  {
   "cell_type": "code",
   "execution_count": 66,
   "metadata": {},
   "outputs": [
    {
     "data": {
      "text/plain": [
       "(10737, 22)"
      ]
     },
     "execution_count": 66,
     "metadata": {},
     "output_type": "execute_result"
    }
   ],
   "source": [
    "features_train_rougher.shape"
   ]
  },
  {
   "cell_type": "markdown",
   "metadata": {},
   "source": [
    "#### Определение признаков для final.output.recovery"
   ]
  },
  {
   "cell_type": "markdown",
   "metadata": {},
   "source": [
    "Для финального продукта признаки — это все столбцы тестовой выборки, за исключением целевых признаков (которые мы туда присоединили из общей даты ☺)."
   ]
  },
  {
   "cell_type": "code",
   "execution_count": 67,
   "metadata": {},
   "outputs": [],
   "source": [
    "features_test_final = test_data.drop(['final.output.recovery','rougher.output.recovery','date'], axis=1)"
   ]
  },
  {
   "cell_type": "markdown",
   "metadata": {},
   "source": [
    "Для тренировочной передадим список столбцов, \"вынутый\" нами из тестовой выборки."
   ]
  },
  {
   "cell_type": "code",
   "execution_count": 68,
   "metadata": {},
   "outputs": [],
   "source": [
    "features_train_final = train_data[features_test_final.columns]"
   ]
  },
  {
   "cell_type": "code",
   "execution_count": 69,
   "metadata": {},
   "outputs": [
    {
     "data": {
      "text/html": [
       "<div>\n",
       "<style scoped>\n",
       "    .dataframe tbody tr th:only-of-type {\n",
       "        vertical-align: middle;\n",
       "    }\n",
       "\n",
       "    .dataframe tbody tr th {\n",
       "        vertical-align: top;\n",
       "    }\n",
       "\n",
       "    .dataframe thead th {\n",
       "        text-align: right;\n",
       "    }\n",
       "</style>\n",
       "<table border=\"1\" class=\"dataframe\">\n",
       "  <thead>\n",
       "    <tr style=\"text-align: right;\">\n",
       "      <th></th>\n",
       "      <th>primary_cleaner.input.sulfate</th>\n",
       "      <th>primary_cleaner.input.depressant</th>\n",
       "      <th>primary_cleaner.input.feed_size</th>\n",
       "      <th>primary_cleaner.input.xanthate</th>\n",
       "      <th>primary_cleaner.state.floatbank8_a_air</th>\n",
       "      <th>primary_cleaner.state.floatbank8_a_level</th>\n",
       "      <th>primary_cleaner.state.floatbank8_b_air</th>\n",
       "      <th>primary_cleaner.state.floatbank8_b_level</th>\n",
       "      <th>primary_cleaner.state.floatbank8_c_air</th>\n",
       "      <th>primary_cleaner.state.floatbank8_c_level</th>\n",
       "      <th>...</th>\n",
       "      <th>secondary_cleaner.state.floatbank4_a_air</th>\n",
       "      <th>secondary_cleaner.state.floatbank4_a_level</th>\n",
       "      <th>secondary_cleaner.state.floatbank4_b_air</th>\n",
       "      <th>secondary_cleaner.state.floatbank4_b_level</th>\n",
       "      <th>secondary_cleaner.state.floatbank5_a_air</th>\n",
       "      <th>secondary_cleaner.state.floatbank5_a_level</th>\n",
       "      <th>secondary_cleaner.state.floatbank5_b_air</th>\n",
       "      <th>secondary_cleaner.state.floatbank5_b_level</th>\n",
       "      <th>secondary_cleaner.state.floatbank6_a_air</th>\n",
       "      <th>secondary_cleaner.state.floatbank6_a_level</th>\n",
       "    </tr>\n",
       "  </thead>\n",
       "  <tbody>\n",
       "    <tr>\n",
       "      <th>0</th>\n",
       "      <td>127.092003</td>\n",
       "      <td>10.128295</td>\n",
       "      <td>7.25</td>\n",
       "      <td>0.988759</td>\n",
       "      <td>1549.775757</td>\n",
       "      <td>-498.912140</td>\n",
       "      <td>1551.434204</td>\n",
       "      <td>-516.403442</td>\n",
       "      <td>1549.873901</td>\n",
       "      <td>-498.666595</td>\n",
       "      <td>...</td>\n",
       "      <td>14.016835</td>\n",
       "      <td>-502.488007</td>\n",
       "      <td>12.099931</td>\n",
       "      <td>-504.715942</td>\n",
       "      <td>9.925633</td>\n",
       "      <td>-498.310211</td>\n",
       "      <td>8.079666</td>\n",
       "      <td>-500.470978</td>\n",
       "      <td>14.151341</td>\n",
       "      <td>-605.841980</td>\n",
       "    </tr>\n",
       "    <tr>\n",
       "      <th>1</th>\n",
       "      <td>125.629232</td>\n",
       "      <td>10.296251</td>\n",
       "      <td>7.25</td>\n",
       "      <td>1.002663</td>\n",
       "      <td>1576.166671</td>\n",
       "      <td>-500.904965</td>\n",
       "      <td>1575.950626</td>\n",
       "      <td>-499.865889</td>\n",
       "      <td>1575.994189</td>\n",
       "      <td>-499.315107</td>\n",
       "      <td>...</td>\n",
       "      <td>13.992281</td>\n",
       "      <td>-505.503262</td>\n",
       "      <td>11.950531</td>\n",
       "      <td>-501.331529</td>\n",
       "      <td>10.039245</td>\n",
       "      <td>-500.169983</td>\n",
       "      <td>7.984757</td>\n",
       "      <td>-500.582168</td>\n",
       "      <td>13.998353</td>\n",
       "      <td>-599.787184</td>\n",
       "    </tr>\n",
       "    <tr>\n",
       "      <th>2</th>\n",
       "      <td>123.819808</td>\n",
       "      <td>11.316280</td>\n",
       "      <td>7.25</td>\n",
       "      <td>0.991265</td>\n",
       "      <td>1601.556163</td>\n",
       "      <td>-499.997791</td>\n",
       "      <td>1600.386685</td>\n",
       "      <td>-500.607762</td>\n",
       "      <td>1602.003542</td>\n",
       "      <td>-500.870069</td>\n",
       "      <td>...</td>\n",
       "      <td>14.015015</td>\n",
       "      <td>-502.520901</td>\n",
       "      <td>11.912783</td>\n",
       "      <td>-501.133383</td>\n",
       "      <td>10.070913</td>\n",
       "      <td>-500.129135</td>\n",
       "      <td>8.013877</td>\n",
       "      <td>-500.517572</td>\n",
       "      <td>14.028663</td>\n",
       "      <td>-601.427363</td>\n",
       "    </tr>\n",
       "    <tr>\n",
       "      <th>3</th>\n",
       "      <td>122.270188</td>\n",
       "      <td>11.322140</td>\n",
       "      <td>7.25</td>\n",
       "      <td>0.996739</td>\n",
       "      <td>1599.968720</td>\n",
       "      <td>-500.951778</td>\n",
       "      <td>1600.659236</td>\n",
       "      <td>-499.677094</td>\n",
       "      <td>1600.304144</td>\n",
       "      <td>-500.727997</td>\n",
       "      <td>...</td>\n",
       "      <td>14.036510</td>\n",
       "      <td>-500.857308</td>\n",
       "      <td>11.999550</td>\n",
       "      <td>-501.193686</td>\n",
       "      <td>9.970366</td>\n",
       "      <td>-499.201640</td>\n",
       "      <td>7.977324</td>\n",
       "      <td>-500.255908</td>\n",
       "      <td>14.005551</td>\n",
       "      <td>-599.996129</td>\n",
       "    </tr>\n",
       "    <tr>\n",
       "      <th>4</th>\n",
       "      <td>117.988169</td>\n",
       "      <td>11.913613</td>\n",
       "      <td>7.25</td>\n",
       "      <td>1.009869</td>\n",
       "      <td>1601.339707</td>\n",
       "      <td>-498.975456</td>\n",
       "      <td>1601.437854</td>\n",
       "      <td>-500.323246</td>\n",
       "      <td>1599.581894</td>\n",
       "      <td>-500.888152</td>\n",
       "      <td>...</td>\n",
       "      <td>14.027298</td>\n",
       "      <td>-499.838632</td>\n",
       "      <td>11.953070</td>\n",
       "      <td>-501.053894</td>\n",
       "      <td>9.925709</td>\n",
       "      <td>-501.686727</td>\n",
       "      <td>7.894242</td>\n",
       "      <td>-500.356035</td>\n",
       "      <td>13.996647</td>\n",
       "      <td>-601.496691</td>\n",
       "    </tr>\n",
       "    <tr>\n",
       "      <th>...</th>\n",
       "      <td>...</td>\n",
       "      <td>...</td>\n",
       "      <td>...</td>\n",
       "      <td>...</td>\n",
       "      <td>...</td>\n",
       "      <td>...</td>\n",
       "      <td>...</td>\n",
       "      <td>...</td>\n",
       "      <td>...</td>\n",
       "      <td>...</td>\n",
       "      <td>...</td>\n",
       "      <td>...</td>\n",
       "      <td>...</td>\n",
       "      <td>...</td>\n",
       "      <td>...</td>\n",
       "      <td>...</td>\n",
       "      <td>...</td>\n",
       "      <td>...</td>\n",
       "      <td>...</td>\n",
       "      <td>...</td>\n",
       "      <td>...</td>\n",
       "    </tr>\n",
       "    <tr>\n",
       "      <th>14144</th>\n",
       "      <td>123.381787</td>\n",
       "      <td>8.028927</td>\n",
       "      <td>6.50</td>\n",
       "      <td>1.304232</td>\n",
       "      <td>1648.421193</td>\n",
       "      <td>-400.382169</td>\n",
       "      <td>1648.742005</td>\n",
       "      <td>-400.359661</td>\n",
       "      <td>1648.578230</td>\n",
       "      <td>-399.363624</td>\n",
       "      <td>...</td>\n",
       "      <td>23.031497</td>\n",
       "      <td>-501.167942</td>\n",
       "      <td>20.007571</td>\n",
       "      <td>-499.740028</td>\n",
       "      <td>18.006038</td>\n",
       "      <td>-499.834374</td>\n",
       "      <td>13.001114</td>\n",
       "      <td>-500.155694</td>\n",
       "      <td>20.007840</td>\n",
       "      <td>-501.296428</td>\n",
       "    </tr>\n",
       "    <tr>\n",
       "      <th>14145</th>\n",
       "      <td>120.878188</td>\n",
       "      <td>7.962636</td>\n",
       "      <td>6.50</td>\n",
       "      <td>1.302419</td>\n",
       "      <td>1649.820162</td>\n",
       "      <td>-399.930973</td>\n",
       "      <td>1649.357538</td>\n",
       "      <td>-399.721222</td>\n",
       "      <td>1648.656192</td>\n",
       "      <td>-401.195834</td>\n",
       "      <td>...</td>\n",
       "      <td>22.960095</td>\n",
       "      <td>-501.612783</td>\n",
       "      <td>20.035660</td>\n",
       "      <td>-500.251357</td>\n",
       "      <td>17.998535</td>\n",
       "      <td>-500.395178</td>\n",
       "      <td>12.954048</td>\n",
       "      <td>-499.895163</td>\n",
       "      <td>19.968498</td>\n",
       "      <td>-501.041608</td>\n",
       "    </tr>\n",
       "    <tr>\n",
       "      <th>14146</th>\n",
       "      <td>105.666118</td>\n",
       "      <td>7.955111</td>\n",
       "      <td>6.50</td>\n",
       "      <td>1.315926</td>\n",
       "      <td>1649.166761</td>\n",
       "      <td>-399.888631</td>\n",
       "      <td>1649.196904</td>\n",
       "      <td>-399.677571</td>\n",
       "      <td>1647.896999</td>\n",
       "      <td>-399.988275</td>\n",
       "      <td>...</td>\n",
       "      <td>23.015718</td>\n",
       "      <td>-501.711599</td>\n",
       "      <td>19.951231</td>\n",
       "      <td>-499.857027</td>\n",
       "      <td>18.019543</td>\n",
       "      <td>-500.451156</td>\n",
       "      <td>13.023431</td>\n",
       "      <td>-499.914391</td>\n",
       "      <td>19.990885</td>\n",
       "      <td>-501.518452</td>\n",
       "    </tr>\n",
       "    <tr>\n",
       "      <th>14147</th>\n",
       "      <td>98.880538</td>\n",
       "      <td>7.984164</td>\n",
       "      <td>6.50</td>\n",
       "      <td>1.241969</td>\n",
       "      <td>1646.547763</td>\n",
       "      <td>-398.977083</td>\n",
       "      <td>1648.212240</td>\n",
       "      <td>-400.383265</td>\n",
       "      <td>1648.917387</td>\n",
       "      <td>-399.521344</td>\n",
       "      <td>...</td>\n",
       "      <td>23.024963</td>\n",
       "      <td>-501.153409</td>\n",
       "      <td>20.054122</td>\n",
       "      <td>-500.314711</td>\n",
       "      <td>17.979515</td>\n",
       "      <td>-499.272871</td>\n",
       "      <td>12.992404</td>\n",
       "      <td>-499.976268</td>\n",
       "      <td>20.013986</td>\n",
       "      <td>-500.625471</td>\n",
       "    </tr>\n",
       "    <tr>\n",
       "      <th>14148</th>\n",
       "      <td>95.248427</td>\n",
       "      <td>8.078957</td>\n",
       "      <td>6.50</td>\n",
       "      <td>1.283045</td>\n",
       "      <td>1648.759906</td>\n",
       "      <td>-399.862053</td>\n",
       "      <td>1650.135395</td>\n",
       "      <td>-399.957321</td>\n",
       "      <td>1648.831890</td>\n",
       "      <td>-400.586116</td>\n",
       "      <td>...</td>\n",
       "      <td>23.018622</td>\n",
       "      <td>-500.492702</td>\n",
       "      <td>20.020205</td>\n",
       "      <td>-500.220296</td>\n",
       "      <td>17.963512</td>\n",
       "      <td>-499.939490</td>\n",
       "      <td>12.990306</td>\n",
       "      <td>-500.080993</td>\n",
       "      <td>19.990336</td>\n",
       "      <td>-499.191575</td>\n",
       "    </tr>\n",
       "  </tbody>\n",
       "</table>\n",
       "<p>10737 rows × 52 columns</p>\n",
       "</div>"
      ],
      "text/plain": [
       "       primary_cleaner.input.sulfate  primary_cleaner.input.depressant  \\\n",
       "0                         127.092003                         10.128295   \n",
       "1                         125.629232                         10.296251   \n",
       "2                         123.819808                         11.316280   \n",
       "3                         122.270188                         11.322140   \n",
       "4                         117.988169                         11.913613   \n",
       "...                              ...                               ...   \n",
       "14144                     123.381787                          8.028927   \n",
       "14145                     120.878188                          7.962636   \n",
       "14146                     105.666118                          7.955111   \n",
       "14147                      98.880538                          7.984164   \n",
       "14148                      95.248427                          8.078957   \n",
       "\n",
       "       primary_cleaner.input.feed_size  primary_cleaner.input.xanthate  \\\n",
       "0                                 7.25                        0.988759   \n",
       "1                                 7.25                        1.002663   \n",
       "2                                 7.25                        0.991265   \n",
       "3                                 7.25                        0.996739   \n",
       "4                                 7.25                        1.009869   \n",
       "...                                ...                             ...   \n",
       "14144                             6.50                        1.304232   \n",
       "14145                             6.50                        1.302419   \n",
       "14146                             6.50                        1.315926   \n",
       "14147                             6.50                        1.241969   \n",
       "14148                             6.50                        1.283045   \n",
       "\n",
       "       primary_cleaner.state.floatbank8_a_air  \\\n",
       "0                                 1549.775757   \n",
       "1                                 1576.166671   \n",
       "2                                 1601.556163   \n",
       "3                                 1599.968720   \n",
       "4                                 1601.339707   \n",
       "...                                       ...   \n",
       "14144                             1648.421193   \n",
       "14145                             1649.820162   \n",
       "14146                             1649.166761   \n",
       "14147                             1646.547763   \n",
       "14148                             1648.759906   \n",
       "\n",
       "       primary_cleaner.state.floatbank8_a_level  \\\n",
       "0                                   -498.912140   \n",
       "1                                   -500.904965   \n",
       "2                                   -499.997791   \n",
       "3                                   -500.951778   \n",
       "4                                   -498.975456   \n",
       "...                                         ...   \n",
       "14144                               -400.382169   \n",
       "14145                               -399.930973   \n",
       "14146                               -399.888631   \n",
       "14147                               -398.977083   \n",
       "14148                               -399.862053   \n",
       "\n",
       "       primary_cleaner.state.floatbank8_b_air  \\\n",
       "0                                 1551.434204   \n",
       "1                                 1575.950626   \n",
       "2                                 1600.386685   \n",
       "3                                 1600.659236   \n",
       "4                                 1601.437854   \n",
       "...                                       ...   \n",
       "14144                             1648.742005   \n",
       "14145                             1649.357538   \n",
       "14146                             1649.196904   \n",
       "14147                             1648.212240   \n",
       "14148                             1650.135395   \n",
       "\n",
       "       primary_cleaner.state.floatbank8_b_level  \\\n",
       "0                                   -516.403442   \n",
       "1                                   -499.865889   \n",
       "2                                   -500.607762   \n",
       "3                                   -499.677094   \n",
       "4                                   -500.323246   \n",
       "...                                         ...   \n",
       "14144                               -400.359661   \n",
       "14145                               -399.721222   \n",
       "14146                               -399.677571   \n",
       "14147                               -400.383265   \n",
       "14148                               -399.957321   \n",
       "\n",
       "       primary_cleaner.state.floatbank8_c_air  \\\n",
       "0                                 1549.873901   \n",
       "1                                 1575.994189   \n",
       "2                                 1602.003542   \n",
       "3                                 1600.304144   \n",
       "4                                 1599.581894   \n",
       "...                                       ...   \n",
       "14144                             1648.578230   \n",
       "14145                             1648.656192   \n",
       "14146                             1647.896999   \n",
       "14147                             1648.917387   \n",
       "14148                             1648.831890   \n",
       "\n",
       "       primary_cleaner.state.floatbank8_c_level  ...  \\\n",
       "0                                   -498.666595  ...   \n",
       "1                                   -499.315107  ...   \n",
       "2                                   -500.870069  ...   \n",
       "3                                   -500.727997  ...   \n",
       "4                                   -500.888152  ...   \n",
       "...                                         ...  ...   \n",
       "14144                               -399.363624  ...   \n",
       "14145                               -401.195834  ...   \n",
       "14146                               -399.988275  ...   \n",
       "14147                               -399.521344  ...   \n",
       "14148                               -400.586116  ...   \n",
       "\n",
       "       secondary_cleaner.state.floatbank4_a_air  \\\n",
       "0                                     14.016835   \n",
       "1                                     13.992281   \n",
       "2                                     14.015015   \n",
       "3                                     14.036510   \n",
       "4                                     14.027298   \n",
       "...                                         ...   \n",
       "14144                                 23.031497   \n",
       "14145                                 22.960095   \n",
       "14146                                 23.015718   \n",
       "14147                                 23.024963   \n",
       "14148                                 23.018622   \n",
       "\n",
       "       secondary_cleaner.state.floatbank4_a_level  \\\n",
       "0                                     -502.488007   \n",
       "1                                     -505.503262   \n",
       "2                                     -502.520901   \n",
       "3                                     -500.857308   \n",
       "4                                     -499.838632   \n",
       "...                                           ...   \n",
       "14144                                 -501.167942   \n",
       "14145                                 -501.612783   \n",
       "14146                                 -501.711599   \n",
       "14147                                 -501.153409   \n",
       "14148                                 -500.492702   \n",
       "\n",
       "       secondary_cleaner.state.floatbank4_b_air  \\\n",
       "0                                     12.099931   \n",
       "1                                     11.950531   \n",
       "2                                     11.912783   \n",
       "3                                     11.999550   \n",
       "4                                     11.953070   \n",
       "...                                         ...   \n",
       "14144                                 20.007571   \n",
       "14145                                 20.035660   \n",
       "14146                                 19.951231   \n",
       "14147                                 20.054122   \n",
       "14148                                 20.020205   \n",
       "\n",
       "       secondary_cleaner.state.floatbank4_b_level  \\\n",
       "0                                     -504.715942   \n",
       "1                                     -501.331529   \n",
       "2                                     -501.133383   \n",
       "3                                     -501.193686   \n",
       "4                                     -501.053894   \n",
       "...                                           ...   \n",
       "14144                                 -499.740028   \n",
       "14145                                 -500.251357   \n",
       "14146                                 -499.857027   \n",
       "14147                                 -500.314711   \n",
       "14148                                 -500.220296   \n",
       "\n",
       "       secondary_cleaner.state.floatbank5_a_air  \\\n",
       "0                                      9.925633   \n",
       "1                                     10.039245   \n",
       "2                                     10.070913   \n",
       "3                                      9.970366   \n",
       "4                                      9.925709   \n",
       "...                                         ...   \n",
       "14144                                 18.006038   \n",
       "14145                                 17.998535   \n",
       "14146                                 18.019543   \n",
       "14147                                 17.979515   \n",
       "14148                                 17.963512   \n",
       "\n",
       "       secondary_cleaner.state.floatbank5_a_level  \\\n",
       "0                                     -498.310211   \n",
       "1                                     -500.169983   \n",
       "2                                     -500.129135   \n",
       "3                                     -499.201640   \n",
       "4                                     -501.686727   \n",
       "...                                           ...   \n",
       "14144                                 -499.834374   \n",
       "14145                                 -500.395178   \n",
       "14146                                 -500.451156   \n",
       "14147                                 -499.272871   \n",
       "14148                                 -499.939490   \n",
       "\n",
       "       secondary_cleaner.state.floatbank5_b_air  \\\n",
       "0                                      8.079666   \n",
       "1                                      7.984757   \n",
       "2                                      8.013877   \n",
       "3                                      7.977324   \n",
       "4                                      7.894242   \n",
       "...                                         ...   \n",
       "14144                                 13.001114   \n",
       "14145                                 12.954048   \n",
       "14146                                 13.023431   \n",
       "14147                                 12.992404   \n",
       "14148                                 12.990306   \n",
       "\n",
       "       secondary_cleaner.state.floatbank5_b_level  \\\n",
       "0                                     -500.470978   \n",
       "1                                     -500.582168   \n",
       "2                                     -500.517572   \n",
       "3                                     -500.255908   \n",
       "4                                     -500.356035   \n",
       "...                                           ...   \n",
       "14144                                 -500.155694   \n",
       "14145                                 -499.895163   \n",
       "14146                                 -499.914391   \n",
       "14147                                 -499.976268   \n",
       "14148                                 -500.080993   \n",
       "\n",
       "       secondary_cleaner.state.floatbank6_a_air  \\\n",
       "0                                     14.151341   \n",
       "1                                     13.998353   \n",
       "2                                     14.028663   \n",
       "3                                     14.005551   \n",
       "4                                     13.996647   \n",
       "...                                         ...   \n",
       "14144                                 20.007840   \n",
       "14145                                 19.968498   \n",
       "14146                                 19.990885   \n",
       "14147                                 20.013986   \n",
       "14148                                 19.990336   \n",
       "\n",
       "       secondary_cleaner.state.floatbank6_a_level  \n",
       "0                                     -605.841980  \n",
       "1                                     -599.787184  \n",
       "2                                     -601.427363  \n",
       "3                                     -599.996129  \n",
       "4                                     -601.496691  \n",
       "...                                           ...  \n",
       "14144                                 -501.296428  \n",
       "14145                                 -501.041608  \n",
       "14146                                 -501.518452  \n",
       "14147                                 -500.625471  \n",
       "14148                                 -499.191575  \n",
       "\n",
       "[10737 rows x 52 columns]"
      ]
     },
     "execution_count": 69,
     "metadata": {},
     "output_type": "execute_result"
    }
   ],
   "source": [
    "features_train_final"
   ]
  },
  {
   "cell_type": "code",
   "execution_count": 70,
   "metadata": {
    "scrolled": false
   },
   "outputs": [
    {
     "data": {
      "text/plain": [
       "(5229, 52)"
      ]
     },
     "execution_count": 70,
     "metadata": {},
     "output_type": "execute_result"
    }
   ],
   "source": [
    "features_test_final.shape"
   ]
  },
  {
   "cell_type": "code",
   "execution_count": 71,
   "metadata": {
    "scrolled": true
   },
   "outputs": [
    {
     "data": {
      "text/plain": [
       "(5229,)"
      ]
     },
     "execution_count": 71,
     "metadata": {},
     "output_type": "execute_result"
    }
   ],
   "source": [
    "target_test_final.shape"
   ]
  },
  {
   "cell_type": "code",
   "execution_count": 72,
   "metadata": {
    "scrolled": true
   },
   "outputs": [
    {
     "data": {
      "text/plain": [
       "(10737, 52)"
      ]
     },
     "execution_count": 72,
     "metadata": {},
     "output_type": "execute_result"
    }
   ],
   "source": [
    "features_train_final.shape"
   ]
  },
  {
   "cell_type": "code",
   "execution_count": 73,
   "metadata": {},
   "outputs": [
    {
     "data": {
      "text/plain": [
       "(10737,)"
      ]
     },
     "execution_count": 73,
     "metadata": {},
     "output_type": "execute_result"
    }
   ],
   "source": [
    "target_train_final.shape"
   ]
  },
  {
   "cell_type": "markdown",
   "metadata": {},
   "source": [
    "#### Выводы по определению признаков"
   ]
  },
  {
   "cell_type": "markdown",
   "metadata": {},
   "source": [
    "Таким образом модель будет обучена на 10737 объектах, и проверена на 5229 объектах. Для предсказания `rougher.output.recovery` будет использовано 22 признака, а для предсказания `final.ouput.recovery` — 52."
   ]
  },
  {
   "cell_type": "markdown",
   "metadata": {},
   "source": [
    "### Обучение модели Линейной Регрессии"
   ]
  },
  {
   "cell_type": "markdown",
   "metadata": {},
   "source": [
    "Обучим модель линейной регрессии и проверим ее качество кросс-валидацией."
   ]
  },
  {
   "cell_type": "markdown",
   "metadata": {},
   "source": [
    "Для модели линейной регрессии в качестве метрики используем `smape_score` — его среднее значение мы и получим на выходе."
   ]
  },
  {
   "cell_type": "code",
   "execution_count": 76,
   "metadata": {
    "scrolled": true
   },
   "outputs": [
    {
     "data": {
      "text/plain": [
       "-6.339313090680679"
      ]
     },
     "execution_count": 76,
     "metadata": {},
     "output_type": "execute_result"
    }
   ],
   "source": [
    "#для продукта флотации\n",
    "\n",
    "model = LinearRegression()\n",
    "cross_val_score(model, features_train_rougher, target_train_rougher, cv=5, scoring =smape_score).mean()"
   ]
  },
  {
   "cell_type": "code",
   "execution_count": 77,
   "metadata": {},
   "outputs": [
    {
     "data": {
      "text/plain": [
       "-9.018601124709146"
      ]
     },
     "execution_count": 77,
     "metadata": {},
     "output_type": "execute_result"
    }
   ],
   "source": [
    "#для финального продукта\n",
    "\n",
    "model = LinearRegression()\n",
    "cross_val_score(model, features_train_final, target_train_final,scoring =smape_score, cv=5).mean()"
   ]
  },
  {
   "cell_type": "markdown",
   "metadata": {},
   "source": [
    "На качество предсказания моделей, обученных по алгоритму линейной регресии может влиять различный мастшаб признаков — попробуем нормализовать данные и сравнить результат."
   ]
  },
  {
   "cell_type": "code",
   "execution_count": 78,
   "metadata": {},
   "outputs": [
    {
     "data": {
      "text/plain": [
       "-9.018601124709138"
      ]
     },
     "execution_count": 78,
     "metadata": {},
     "output_type": "execute_result"
    }
   ],
   "source": [
    "model = LinearRegression()\n",
    "\n",
    "scaled_features_train_final = scale(features_train_final)\n",
    "\n",
    "cross_val_score(model, scaled_features_train_final, target_train_final, scoring =smape_score, cv=5).mean()"
   ]
  },
  {
   "cell_type": "markdown",
   "metadata": {},
   "source": [
    "Нормализация не помогла, а линейная регрессия очевидно не справляется."
   ]
  },
  {
   "cell_type": "markdown",
   "metadata": {},
   "source": [
    "### Регрессия с помощью древа принятия решения"
   ]
  },
  {
   "cell_type": "markdown",
   "metadata": {},
   "source": [
    "Для построения модели регрессии DecisionTreeRegressor применим GridSearchCV — как следует из названия в нем уже \"зашита\" кросс-валидация."
   ]
  },
  {
   "cell_type": "code",
   "execution_count": 79,
   "metadata": {},
   "outputs": [],
   "source": [
    "model = DecisionTreeRegressor(random_state = 800)"
   ]
  },
  {
   "cell_type": "code",
   "execution_count": 80,
   "metadata": {},
   "outputs": [],
   "source": [
    "# создаем словарь с параметрами для регрессора\n",
    "\n",
    "parametrs = {'max_depth' : range(1,20,2),\n",
    "             'min_samples_leaf': range (1,8),\n",
    "             'min_samples_split': range (2,10,2)}"
   ]
  },
  {
   "cell_type": "code",
   "execution_count": 83,
   "metadata": {
    "scrolled": true
   },
   "outputs": [
    {
     "data": {
      "text/plain": [
       "GridSearchCV(cv=5, estimator=DecisionTreeRegressor(random_state=800),\n",
       "             param_grid={'max_depth': range(1, 20, 2),\n",
       "                         'min_samples_leaf': range(1, 8),\n",
       "                         'min_samples_split': range(2, 10, 2)},\n",
       "             scoring=make_scorer(smape, greater_is_better=False))"
      ]
     },
     "execution_count": 83,
     "metadata": {},
     "output_type": "execute_result"
    }
   ],
   "source": [
    "grid = GridSearchCV(model, parametrs,  scoring = smape_score, cv=5)\n",
    "grid.fit(features_train_rougher, target_train_rougher)"
   ]
  },
  {
   "cell_type": "code",
   "execution_count": 84,
   "metadata": {
    "scrolled": false
   },
   "outputs": [
    {
     "data": {
      "text/plain": [
       "{'max_depth': 3, 'min_samples_leaf': 1, 'min_samples_split': 2}"
      ]
     },
     "execution_count": 84,
     "metadata": {},
     "output_type": "execute_result"
    }
   ],
   "source": [
    "grid.best_params_ # модель с лучшими предсказаниями"
   ]
  },
  {
   "cell_type": "code",
   "execution_count": 86,
   "metadata": {},
   "outputs": [
    {
     "data": {
      "text/plain": [
       "-7.875214608177567"
      ]
     },
     "execution_count": 86,
     "metadata": {},
     "output_type": "execute_result"
    }
   ],
   "source": [
    "# создаем и обучаем модель с нужными параметрами\n",
    "model = DecisionTreeRegressor(max_depth= 3,\n",
    "                              min_samples_leaf = 1,\n",
    "                              min_samples_split = 2,\n",
    "                              random_state = 800)\n",
    "\n",
    "model.fit(features_train_rougher, target_train_rougher)\n",
    "smape_score(model, features_test_rougher, target_test_rougher)"
   ]
  },
  {
   "cell_type": "markdown",
   "metadata": {},
   "source": [
    "Качество модели все еще очень низкое. Попробуем использовать модель для финального продукта."
   ]
  },
  {
   "cell_type": "code",
   "execution_count": 87,
   "metadata": {
    "scrolled": true
   },
   "outputs": [
    {
     "data": {
      "text/plain": [
       "{'max_depth': 1, 'min_samples_leaf': 1, 'min_samples_split': 2}"
      ]
     },
     "execution_count": 87,
     "metadata": {},
     "output_type": "execute_result"
    }
   ],
   "source": [
    "model = DecisionTreeRegressor(random_state = 800)\n",
    "grid = GridSearchCV(model, parametrs, scoring = smape_score, cv=5)\n",
    "grid.fit(features_train_final, target_train_final)\n",
    "grid.best_params_"
   ]
  },
  {
   "cell_type": "code",
   "execution_count": 88,
   "metadata": {},
   "outputs": [
    {
     "data": {
      "text/plain": [
       "-7.888373608383762"
      ]
     },
     "execution_count": 88,
     "metadata": {},
     "output_type": "execute_result"
    }
   ],
   "source": [
    "# создаем и обучаем модель с нужными параметрами\n",
    "model = DecisionTreeRegressor(max_depth= 1,\n",
    "                              min_samples_leaf = 1,\n",
    "                              min_samples_split = 2,\n",
    "                              random_state = 800)\n",
    "\n",
    "model.fit(features_train_final, target_train_final)\n",
    "smape_score(model, features_train_final, target_train_final)"
   ]
  },
  {
   "cell_type": "markdown",
   "metadata": {},
   "source": [
    "Модель все еще не справляется. Коэффициент детерминации 0.17 это не очень хорошо, но уже что-то."
   ]
  },
  {
   "cell_type": "markdown",
   "metadata": {},
   "source": [
    "### Регрессия с помощью RandomForestRegressor"
   ]
  },
  {
   "cell_type": "markdown",
   "metadata": {},
   "source": [
    "Как и в случае с решающим древом, воспользуемся GridSearchCV"
   ]
  },
  {
   "cell_type": "code",
   "execution_count": 89,
   "metadata": {},
   "outputs": [
    {
     "data": {
      "text/plain": [
       "GridSearchCV(cv=5, estimator=RandomForestRegressor(random_state=800),\n",
       "             param_grid={'min_samples_split': range(2, 6),\n",
       "                         'n_estimators': range(10, 100, 20)},\n",
       "             scoring=make_scorer(smape, greater_is_better=False))"
      ]
     },
     "execution_count": 89,
     "metadata": {},
     "output_type": "execute_result"
    }
   ],
   "source": [
    "model = RandomForestRegressor(random_state = 800)\n",
    "\n",
    "parametrs = {'n_estimators' : range(10,100,20),\n",
    "             'min_samples_split' : range(2,6,1)}\n",
    "\n",
    "grid = GridSearchCV(model, parametrs, scoring = smape_score, cv=5)\n",
    "grid.fit(features_train_rougher, target_train_rougher)\n"
   ]
  },
  {
   "cell_type": "code",
   "execution_count": 91,
   "metadata": {
    "scrolled": true
   },
   "outputs": [
    {
     "data": {
      "text/plain": [
       "-8.019607217317956"
      ]
     },
     "execution_count": 91,
     "metadata": {},
     "output_type": "execute_result"
    }
   ],
   "source": [
    "# создаем и обучаем модель с нужными параметрами\n",
    "model = RandomForestRegressor(n_estimators = 50,\n",
    "                              min_samples_split = 2,\n",
    "                              random_state = 800)\n",
    "\n",
    "model.fit(features_train_rougher, target_train_rougher)\n",
    "smape_score(model, features_test_rougher, target_test_rougher)"
   ]
  },
  {
   "cell_type": "code",
   "execution_count": 92,
   "metadata": {},
   "outputs": [
    {
     "data": {
      "text/plain": [
       "GridSearchCV(cv=5, estimator=RandomForestRegressor(random_state=800),\n",
       "             param_grid={'min_samples_split': range(2, 6),\n",
       "                         'n_estimators': range(10, 100, 20)},\n",
       "             scoring=make_scorer(smape, greater_is_better=False))"
      ]
     },
     "execution_count": 92,
     "metadata": {},
     "output_type": "execute_result"
    }
   ],
   "source": [
    "model = RandomForestRegressor(random_state = 800)\n",
    "\n",
    "parametrs = {'n_estimators' : range(10,100,20),\n",
    "             'min_samples_split' : range(2,6,1)}\n",
    "\n",
    "grid = GridSearchCV(model, parametrs, scoring = smape_score, cv=5)\n",
    "grid.fit(features_train_final, target_train_final)"
   ]
  },
  {
   "cell_type": "code",
   "execution_count": 94,
   "metadata": {
    "scrolled": false
   },
   "outputs": [
    {
     "data": {
      "text/plain": [
       "{'min_samples_split': 3, 'n_estimators': 90}"
      ]
     },
     "execution_count": 94,
     "metadata": {},
     "output_type": "execute_result"
    }
   ],
   "source": [
    "grid.best_params_"
   ]
  },
  {
   "cell_type": "markdown",
   "metadata": {},
   "source": [
    "Для предсказания финального продукта гиперпаметры лучше поменять."
   ]
  },
  {
   "cell_type": "code",
   "execution_count": 95,
   "metadata": {},
   "outputs": [
    {
     "data": {
      "text/plain": [
       "0.9476520863263731"
      ]
     },
     "execution_count": 95,
     "metadata": {},
     "output_type": "execute_result"
    }
   ],
   "source": [
    "# создаем и обучаем модель с нужными параметрами\n",
    "model = RandomForestRegressor(n_estimators = 90,\n",
    "                              min_samples_split = 3,\n",
    "                              random_state = 800)\n",
    "\n",
    "model.fit(features_train_final, target_train_final)\n",
    "model.score(features_train_final, target_train_final)"
   ]
  },
  {
   "cell_type": "markdown",
   "metadata": {},
   "source": [
    "Коэффициент детерминации снова близок к единице — можель предсказывает почти безошибочно."
   ]
  },
  {
   "cell_type": "code",
   "execution_count": 96,
   "metadata": {},
   "outputs": [
    {
     "data": {
      "text/plain": [
       "-1.835918098997631"
      ]
     },
     "execution_count": 96,
     "metadata": {},
     "output_type": "execute_result"
    }
   ],
   "source": [
    "smape_score(model, features_train_final, target_train_final)"
   ]
  },
  {
   "cell_type": "markdown",
   "metadata": {},
   "source": [
    "### Расчет sMAPE для лучшей модели"
   ]
  },
  {
   "cell_type": "markdown",
   "metadata": {},
   "source": [
    "Настало время показать лучшей модели предсказания тестовую выборку и посмотреть какое значение целевой метрики sMAPE мы получим. Для этого:\n",
    "- обучим модель для предсказания `rougher.ouput.recovery` и сохраним ее предсказания на тестовой выборке;\n",
    "- рассчитаем sMAPE для этапа флотации;\n",
    "- обучим модель для предсказания `final.output.recovery`, сохраним ее предсказания на тестовой выборке;\n",
    "- рассчитаем sMAPE для общего технологического процесса;\n",
    "- рассчитаем финальный sMAPE исходя из весов каждого этапа."
   ]
  },
  {
   "cell_type": "code",
   "execution_count": 97,
   "metadata": {},
   "outputs": [],
   "source": [
    "# обучаем модель Случайного леса с лучшими гиперпараметрами для этапа флотации\n",
    "\n",
    "model = RandomForestRegressor(n_estimators = 50,\n",
    "                              min_samples_split = 2,\n",
    "                              random_state = 800)              # создаем объект модели\n",
    "\n",
    "model.fit(features_train_rougher, target_train_rougher)        # обучаем на тренировочной выборке\n",
    "rougher_predictions = model.predict(features_test_rougher)         # сохраняем предсказания\n",
    "\n",
    "rougher_smape =smape(target_test_rougher, rougher_predictions)"
   ]
  },
  {
   "cell_type": "code",
   "execution_count": 98,
   "metadata": {},
   "outputs": [],
   "source": [
    "# обучаем модель Случайного леса с лучшими гиперпараметрами для всего процесса\n",
    "\n",
    "model = RandomForestRegressor(n_estimators = 90,\n",
    "                              min_samples_split = 3,\n",
    "                              random_state = 800)              # создаем объект модели\n",
    "\n",
    "model.fit(features_train_final, target_train_final)            # обучаем на тренировочной выборке\n",
    "final_predictions = model.predict(features_test_final)     # сохраняем предсказания\n",
    "\n",
    "final_smape =smape(target_test_final, final_predictions)"
   ]
  },
  {
   "cell_type": "code",
   "execution_count": 99,
   "metadata": {
    "scrolled": true
   },
   "outputs": [
    {
     "data": {
      "text/plain": [
       "8.019607217317956"
      ]
     },
     "execution_count": 99,
     "metadata": {},
     "output_type": "execute_result"
    }
   ],
   "source": [
    "rougher_smape"
   ]
  },
  {
   "cell_type": "code",
   "execution_count": 100,
   "metadata": {
    "scrolled": true
   },
   "outputs": [
    {
     "data": {
      "text/plain": [
       "9.745902389087526"
      ]
     },
     "execution_count": 100,
     "metadata": {},
     "output_type": "execute_result"
    }
   ],
   "source": [
    "final_smape"
   ]
  },
  {
   "cell_type": "code",
   "execution_count": 101,
   "metadata": {
    "scrolled": true
   },
   "outputs": [
    {
     "data": {
      "text/plain": [
       "9.314328596145133"
      ]
     },
     "execution_count": 101,
     "metadata": {},
     "output_type": "execute_result"
    }
   ],
   "source": [
    "best_model_smape = smape_weighed(rougher_smape,final_smape)\n",
    "best_model_smape"
   ]
  },
  {
   "cell_type": "markdown",
   "metadata": {},
   "source": [
    "Итоговый sMAPE для лучшей модели равен `9.3 %` — т.е модель может ошибаться в среднем на 9,3 % — кажется, неплохая точность?"
   ]
  },
  {
   "cell_type": "markdown",
   "metadata": {},
   "source": [
    "Сравним нашу модель с константной моделью, предсказывающей для всех объектов среднее значение."
   ]
  },
  {
   "cell_type": "code",
   "execution_count": 102,
   "metadata": {},
   "outputs": [],
   "source": [
    "dummy_regr = DummyRegressor(strategy=\"mean\") #константная модель\n",
    "\n",
    "#обучаем для продукта флотации\n",
    "\n",
    "dummy_regr.fit(features_train_rougher, target_train_rougher)\n",
    "\n",
    "#сохраянем предсказания на флотации\n",
    "rougher_predictions_dummy  = dummy_regr.predict(features_test_rougher)  \n",
    "\n",
    "#считаем smape\n",
    "rougher_smape_dummy =smape(target_test_rougher, rougher_predictions_dummy)\n",
    "\n",
    "#повторяем для final\n",
    "\n",
    "dummy_regr.fit(features_train_final, target_train_final)\n",
    "\n",
    "final_predictions_dummy  = dummy_regr.predict(features_test_final)  \n",
    "\n",
    "final_smape_dummy =smape(target_test_final, final_predictions_dummy)"
   ]
  },
  {
   "cell_type": "code",
   "execution_count": 103,
   "metadata": {},
   "outputs": [
    {
     "data": {
      "text/plain": [
       "9.336557219082437"
      ]
     },
     "execution_count": 103,
     "metadata": {},
     "output_type": "execute_result"
    }
   ],
   "source": [
    "dummy_model_smape = smape_weighed(rougher_smape_dummy,final_smape_dummy)\n",
    "dummy_model_smape"
   ]
  },
  {
   "cell_type": "markdown",
   "metadata": {},
   "source": [
    "## Вывод по работе"
   ]
  },
  {
   "cell_type": "markdown",
   "metadata": {},
   "source": [
    "Целью работы было построить модель, которая бы предсказывала коэффициенты обогащения золотой руды после флотации и после всего технологического процесса, включающего в себя также две очистки.\n",
    "\n",
    "В начале мы загрузили общие данные, тренировочную и тестовую выборку. При просмотре математической статистики выборок было замечено, что у многих признаков отличаются значенения средних и дисперсий, что говорит о большом разбросе признаков и непостоянстве входного сырья. \n",
    "\n",
    "В ходе предобработки данных были замечены объекты, у которых доля основных металлов в концентрате была равна 0 — предположительно, это были технологические запуски без руды. Такие объекты мы отбросили перед обучением моделей.\n",
    "\n",
    "Кроме того, мы проверили концентрации металлов на разных этапах - и отметили, что по ходу технологического процесса доля золота растет, а примесей сокращается.\n",
    "\n",
    "Перед обучением модели мы также сравнили размеры гранул в тренировочной и тестовой выборках, так чтобы не было ошибки в обучении.\n",
    "\n",
    "После этого, мы обучили несколько моделей регресии. Лучший результат дала модель случайного леса — при чем для разных целевых признаков, мы использовали разные гиперпараметры.\n",
    "\n",
    "Выбрав лучшую модель, мы оценили точность ее работы с помощью метрики симметричного среднее абсолютного процентного отклонения."
   ]
  }
 ],
 "metadata": {
  "ExecuteTimeLog": [
   {
    "duration": 1752,
    "start_time": "2022-07-06T15:09:43.947Z"
   },
   {
    "duration": 13,
    "start_time": "2022-07-06T15:10:13.315Z"
   },
   {
    "duration": 3,
    "start_time": "2022-07-06T15:10:21.557Z"
   },
   {
    "duration": 1248,
    "start_time": "2022-07-06T15:23:42.168Z"
   },
   {
    "duration": 432,
    "start_time": "2022-07-06T15:24:57.995Z"
   },
   {
    "duration": 60,
    "start_time": "2022-07-06T15:27:07.146Z"
   },
   {
    "duration": 1762,
    "start_time": "2022-07-06T15:27:31.170Z"
   },
   {
    "duration": 23,
    "start_time": "2022-07-06T15:31:37.902Z"
   },
   {
    "duration": 31,
    "start_time": "2022-07-06T15:40:44.833Z"
   },
   {
    "duration": 267,
    "start_time": "2022-07-06T17:20:06.385Z"
   },
   {
    "duration": 118,
    "start_time": "2022-07-06T17:24:30.537Z"
   },
   {
    "duration": 13,
    "start_time": "2022-07-06T17:24:38.549Z"
   },
   {
    "duration": 106,
    "start_time": "2022-07-06T17:25:41.124Z"
   },
   {
    "duration": 91,
    "start_time": "2022-07-06T17:26:25.041Z"
   },
   {
    "duration": 16,
    "start_time": "2022-07-06T17:27:23.093Z"
   },
   {
    "duration": 5,
    "start_time": "2022-07-06T17:27:35.586Z"
   },
   {
    "duration": 4,
    "start_time": "2022-07-06T17:28:12.726Z"
   },
   {
    "duration": 6,
    "start_time": "2022-07-06T17:28:41.971Z"
   },
   {
    "duration": 6,
    "start_time": "2022-07-06T17:29:09.931Z"
   },
   {
    "duration": 98,
    "start_time": "2022-07-06T17:30:28.060Z"
   },
   {
    "duration": 35,
    "start_time": "2022-07-06T17:41:11.453Z"
   },
   {
    "duration": 158,
    "start_time": "2022-07-06T17:43:23.953Z"
   },
   {
    "duration": 10,
    "start_time": "2022-07-06T17:46:41.773Z"
   },
   {
    "duration": 101,
    "start_time": "2022-07-06T17:52:49.371Z"
   },
   {
    "duration": 6,
    "start_time": "2022-07-06T17:58:24.310Z"
   },
   {
    "duration": 24,
    "start_time": "2022-07-06T17:58:44.338Z"
   },
   {
    "duration": 7,
    "start_time": "2022-07-06T18:00:13.407Z"
   },
   {
    "duration": 12,
    "start_time": "2022-07-06T18:00:43.052Z"
   },
   {
    "duration": 19,
    "start_time": "2022-07-06T18:00:49.260Z"
   },
   {
    "duration": 4,
    "start_time": "2022-07-06T18:02:45.549Z"
   },
   {
    "duration": 6,
    "start_time": "2022-07-06T18:02:58.798Z"
   },
   {
    "duration": 10,
    "start_time": "2022-07-06T18:04:30.252Z"
   },
   {
    "duration": 10,
    "start_time": "2022-07-06T18:04:55.339Z"
   },
   {
    "duration": 9,
    "start_time": "2022-07-06T18:04:58.367Z"
   },
   {
    "duration": 26,
    "start_time": "2022-07-06T18:10:44.630Z"
   },
   {
    "duration": 135,
    "start_time": "2022-07-06T18:11:30.865Z"
   },
   {
    "duration": 9,
    "start_time": "2022-07-06T18:11:34.515Z"
   },
   {
    "duration": 7,
    "start_time": "2022-07-06T18:12:14.557Z"
   },
   {
    "duration": 84,
    "start_time": "2022-07-06T18:12:30.735Z"
   },
   {
    "duration": 83,
    "start_time": "2022-07-06T18:17:59.784Z"
   },
   {
    "duration": 100,
    "start_time": "2022-07-06T18:30:11.398Z"
   },
   {
    "duration": 11,
    "start_time": "2022-07-06T18:32:53.081Z"
   },
   {
    "duration": 13,
    "start_time": "2022-07-06T18:33:04.891Z"
   },
   {
    "duration": 9,
    "start_time": "2022-07-06T18:35:44.463Z"
   },
   {
    "duration": 11,
    "start_time": "2022-07-06T18:36:38.504Z"
   },
   {
    "duration": 9,
    "start_time": "2022-07-06T18:36:39.019Z"
   },
   {
    "duration": 10,
    "start_time": "2022-07-06T18:36:54.843Z"
   },
   {
    "duration": 2,
    "start_time": "2022-07-06T18:37:45.814Z"
   },
   {
    "duration": 1509,
    "start_time": "2022-07-06T18:37:54.903Z"
   },
   {
    "duration": 291,
    "start_time": "2022-07-06T18:37:56.414Z"
   },
   {
    "duration": 94,
    "start_time": "2022-07-06T18:37:56.707Z"
   },
   {
    "duration": 380,
    "start_time": "2022-07-06T18:37:56.803Z"
   },
   {
    "duration": 38,
    "start_time": "2022-07-06T18:37:57.185Z"
   },
   {
    "duration": 21,
    "start_time": "2022-07-06T18:37:57.225Z"
   },
   {
    "duration": 280,
    "start_time": "2022-07-06T18:37:57.248Z"
   },
   {
    "duration": 27,
    "start_time": "2022-07-06T18:37:57.530Z"
   },
   {
    "duration": 16,
    "start_time": "2022-07-06T18:37:57.559Z"
   },
   {
    "duration": 24,
    "start_time": "2022-07-06T18:37:57.578Z"
   },
   {
    "duration": 167,
    "start_time": "2022-07-06T18:37:57.605Z"
   },
   {
    "duration": 9,
    "start_time": "2022-07-06T18:37:57.774Z"
   },
   {
    "duration": 35,
    "start_time": "2022-07-06T18:37:57.784Z"
   },
   {
    "duration": 34,
    "start_time": "2022-07-06T18:37:57.821Z"
   },
   {
    "duration": 13,
    "start_time": "2022-07-06T18:37:57.857Z"
   },
   {
    "duration": 27,
    "start_time": "2022-07-06T18:37:57.872Z"
   },
   {
    "duration": 8,
    "start_time": "2022-07-06T18:37:57.901Z"
   },
   {
    "duration": 7,
    "start_time": "2022-07-06T18:37:57.911Z"
   },
   {
    "duration": 15,
    "start_time": "2022-07-06T18:37:57.920Z"
   },
   {
    "duration": 4,
    "start_time": "2022-07-06T18:37:57.936Z"
   },
   {
    "duration": 136,
    "start_time": "2022-07-06T18:37:57.942Z"
   },
   {
    "duration": 0,
    "start_time": "2022-07-06T18:37:58.080Z"
   },
   {
    "duration": 0,
    "start_time": "2022-07-06T18:37:58.081Z"
   },
   {
    "duration": 21,
    "start_time": "2022-07-06T18:38:21.650Z"
   },
   {
    "duration": 1565,
    "start_time": "2022-07-06T18:38:55.990Z"
   },
   {
    "duration": 280,
    "start_time": "2022-07-06T18:38:57.557Z"
   },
   {
    "duration": 75,
    "start_time": "2022-07-06T18:38:57.839Z"
   },
   {
    "duration": 348,
    "start_time": "2022-07-06T18:38:57.916Z"
   },
   {
    "duration": 33,
    "start_time": "2022-07-06T18:38:58.267Z"
   },
   {
    "duration": 20,
    "start_time": "2022-07-06T18:38:58.302Z"
   },
   {
    "duration": 274,
    "start_time": "2022-07-06T18:38:58.324Z"
   },
   {
    "duration": 23,
    "start_time": "2022-07-06T18:38:58.599Z"
   },
   {
    "duration": 15,
    "start_time": "2022-07-06T18:38:58.624Z"
   },
   {
    "duration": 7,
    "start_time": "2022-07-06T18:38:58.642Z"
   },
   {
    "duration": 165,
    "start_time": "2022-07-06T18:38:58.651Z"
   },
   {
    "duration": 9,
    "start_time": "2022-07-06T18:38:58.818Z"
   },
   {
    "duration": 29,
    "start_time": "2022-07-06T18:38:58.829Z"
   },
   {
    "duration": 41,
    "start_time": "2022-07-06T18:38:58.861Z"
   },
   {
    "duration": 11,
    "start_time": "2022-07-06T18:38:58.905Z"
   },
   {
    "duration": 11,
    "start_time": "2022-07-06T18:38:58.919Z"
   },
   {
    "duration": 12,
    "start_time": "2022-07-06T18:38:58.932Z"
   },
   {
    "duration": 18,
    "start_time": "2022-07-06T18:38:58.947Z"
   },
   {
    "duration": 158,
    "start_time": "2022-07-06T18:38:58.966Z"
   },
   {
    "duration": 10,
    "start_time": "2022-07-06T18:39:26.354Z"
   },
   {
    "duration": 14,
    "start_time": "2022-07-06T18:39:38.396Z"
   },
   {
    "duration": 10,
    "start_time": "2022-07-06T18:40:39.706Z"
   },
   {
    "duration": 16,
    "start_time": "2022-07-06T18:40:48.785Z"
   },
   {
    "duration": 13,
    "start_time": "2022-07-06T18:40:59.601Z"
   },
   {
    "duration": 110,
    "start_time": "2022-07-06T18:42:13.669Z"
   },
   {
    "duration": 6,
    "start_time": "2022-07-06T18:42:18.493Z"
   },
   {
    "duration": 12,
    "start_time": "2022-07-06T18:42:33.607Z"
   },
   {
    "duration": 12,
    "start_time": "2022-07-06T18:47:10.977Z"
   },
   {
    "duration": 13,
    "start_time": "2022-07-06T18:47:31.174Z"
   },
   {
    "duration": 2,
    "start_time": "2022-07-06T18:47:36.121Z"
   },
   {
    "duration": 13,
    "start_time": "2022-07-06T18:47:46.621Z"
   },
   {
    "duration": 12,
    "start_time": "2022-07-06T18:48:00.358Z"
   },
   {
    "duration": 14,
    "start_time": "2022-07-06T18:50:05.553Z"
   },
   {
    "duration": 9,
    "start_time": "2022-07-06T18:50:26.469Z"
   },
   {
    "duration": 35,
    "start_time": "2022-07-06T18:50:44.679Z"
   },
   {
    "duration": 17,
    "start_time": "2022-07-06T18:51:07.895Z"
   },
   {
    "duration": 29,
    "start_time": "2022-07-06T18:52:31.356Z"
   },
   {
    "duration": 13,
    "start_time": "2022-07-06T18:53:12.965Z"
   },
   {
    "duration": 32,
    "start_time": "2022-07-06T18:53:19.263Z"
   },
   {
    "duration": 2,
    "start_time": "2022-07-06T18:55:12.376Z"
   },
   {
    "duration": 7,
    "start_time": "2022-07-06T18:55:17.663Z"
   },
   {
    "duration": 3,
    "start_time": "2022-07-06T18:55:48.520Z"
   },
   {
    "duration": 3,
    "start_time": "2022-07-06T18:56:47.662Z"
   },
   {
    "duration": 6,
    "start_time": "2022-07-06T18:58:16.768Z"
   },
   {
    "duration": 6,
    "start_time": "2022-07-06T18:58:20.424Z"
   },
   {
    "duration": 8,
    "start_time": "2022-07-06T18:59:38.875Z"
   },
   {
    "duration": 6,
    "start_time": "2022-07-06T19:17:07.250Z"
   },
   {
    "duration": 26,
    "start_time": "2022-07-06T19:21:38.559Z"
   },
   {
    "duration": 154,
    "start_time": "2022-07-06T19:21:48.863Z"
   },
   {
    "duration": 110,
    "start_time": "2022-07-06T19:22:00.752Z"
   },
   {
    "duration": 78,
    "start_time": "2022-07-06T19:22:10.861Z"
   },
   {
    "duration": 148,
    "start_time": "2022-07-06T19:40:23.734Z"
   },
   {
    "duration": 117,
    "start_time": "2022-07-06T19:42:03.835Z"
   },
   {
    "duration": 179,
    "start_time": "2022-07-06T19:42:20.839Z"
   },
   {
    "duration": 229,
    "start_time": "2022-07-06T19:42:27.546Z"
   },
   {
    "duration": 191,
    "start_time": "2022-07-06T19:42:32.138Z"
   },
   {
    "duration": 298,
    "start_time": "2022-07-06T19:44:47.770Z"
   },
   {
    "duration": 400,
    "start_time": "2022-07-06T19:45:06.442Z"
   },
   {
    "duration": 197,
    "start_time": "2022-07-06T19:46:11.422Z"
   },
   {
    "duration": 1659,
    "start_time": "2022-07-06T19:48:36.668Z"
   },
   {
    "duration": 1570,
    "start_time": "2022-07-06T19:48:58.946Z"
   },
   {
    "duration": 412,
    "start_time": "2022-07-06T19:50:19.284Z"
   },
   {
    "duration": 570,
    "start_time": "2022-07-06T19:50:26.555Z"
   },
   {
    "duration": 184,
    "start_time": "2022-07-06T19:50:54.647Z"
   },
   {
    "duration": 335,
    "start_time": "2022-07-06T19:51:16.657Z"
   },
   {
    "duration": 554,
    "start_time": "2022-07-06T19:51:57.004Z"
   },
   {
    "duration": 11,
    "start_time": "2022-07-06T19:57:13.387Z"
   },
   {
    "duration": 5,
    "start_time": "2022-07-06T19:57:20.671Z"
   },
   {
    "duration": 11,
    "start_time": "2022-07-06T19:58:29.920Z"
   },
   {
    "duration": 46,
    "start_time": "2022-07-06T19:58:34.521Z"
   },
   {
    "duration": 35,
    "start_time": "2022-07-06T19:58:39.895Z"
   },
   {
    "duration": 30,
    "start_time": "2022-07-06T19:58:44.477Z"
   },
   {
    "duration": 14,
    "start_time": "2022-07-06T20:02:26.059Z"
   },
   {
    "duration": 1486,
    "start_time": "2022-07-06T20:02:53.078Z"
   },
   {
    "duration": 282,
    "start_time": "2022-07-06T20:02:54.566Z"
   },
   {
    "duration": 80,
    "start_time": "2022-07-06T20:02:54.850Z"
   },
   {
    "duration": 358,
    "start_time": "2022-07-06T20:02:54.933Z"
   },
   {
    "duration": 30,
    "start_time": "2022-07-06T20:02:55.292Z"
   },
   {
    "duration": 20,
    "start_time": "2022-07-06T20:02:55.324Z"
   },
   {
    "duration": 300,
    "start_time": "2022-07-06T20:02:55.346Z"
   },
   {
    "duration": 24,
    "start_time": "2022-07-06T20:02:55.648Z"
   },
   {
    "duration": 27,
    "start_time": "2022-07-06T20:02:55.674Z"
   },
   {
    "duration": 6,
    "start_time": "2022-07-06T20:02:55.703Z"
   },
   {
    "duration": 151,
    "start_time": "2022-07-06T20:02:55.711Z"
   },
   {
    "duration": 9,
    "start_time": "2022-07-06T20:02:55.864Z"
   },
   {
    "duration": 35,
    "start_time": "2022-07-06T20:02:55.875Z"
   },
   {
    "duration": 18,
    "start_time": "2022-07-06T20:02:55.912Z"
   },
   {
    "duration": 8,
    "start_time": "2022-07-06T20:02:55.932Z"
   },
   {
    "duration": 8,
    "start_time": "2022-07-06T20:02:55.942Z"
   },
   {
    "duration": 8,
    "start_time": "2022-07-06T20:02:55.952Z"
   },
   {
    "duration": 43,
    "start_time": "2022-07-06T20:02:55.961Z"
   },
   {
    "duration": 18,
    "start_time": "2022-07-06T20:02:56.006Z"
   },
   {
    "duration": 6,
    "start_time": "2022-07-06T20:02:56.025Z"
   },
   {
    "duration": 7,
    "start_time": "2022-07-06T20:02:56.033Z"
   },
   {
    "duration": 7,
    "start_time": "2022-07-06T20:02:56.042Z"
   },
   {
    "duration": 49,
    "start_time": "2022-07-06T20:02:56.050Z"
   },
   {
    "duration": 137,
    "start_time": "2022-07-06T20:02:56.101Z"
   },
   {
    "duration": 99,
    "start_time": "2022-07-06T20:02:56.241Z"
   },
   {
    "duration": 4,
    "start_time": "2022-07-06T20:02:56.342Z"
   },
   {
    "duration": 147,
    "start_time": "2022-07-06T20:02:56.347Z"
   },
   {
    "duration": 0,
    "start_time": "2022-07-06T20:02:56.496Z"
   },
   {
    "duration": 15,
    "start_time": "2022-07-06T20:03:17.789Z"
   },
   {
    "duration": 14,
    "start_time": "2022-07-06T20:03:59.758Z"
   },
   {
    "duration": 15,
    "start_time": "2022-07-06T20:04:10.783Z"
   },
   {
    "duration": 22,
    "start_time": "2022-07-06T20:04:35.693Z"
   },
   {
    "duration": 22,
    "start_time": "2022-07-06T20:06:28.272Z"
   },
   {
    "duration": 75,
    "start_time": "2022-07-06T20:08:30.518Z"
   },
   {
    "duration": 3,
    "start_time": "2022-07-06T20:08:41.893Z"
   },
   {
    "duration": 17,
    "start_time": "2022-07-06T20:09:12.902Z"
   },
   {
    "duration": 10,
    "start_time": "2022-07-06T20:12:52.525Z"
   },
   {
    "duration": 1268,
    "start_time": "2022-07-06T20:13:03.039Z"
   },
   {
    "duration": 5,
    "start_time": "2022-07-06T20:13:13.782Z"
   },
   {
    "duration": 17,
    "start_time": "2022-07-06T20:13:21.816Z"
   },
   {
    "duration": 11,
    "start_time": "2022-07-06T20:13:30.950Z"
   },
   {
    "duration": 12,
    "start_time": "2022-07-06T20:13:41.707Z"
   },
   {
    "duration": 10,
    "start_time": "2022-07-06T20:13:44.687Z"
   },
   {
    "duration": 19,
    "start_time": "2022-07-06T20:14:16.788Z"
   },
   {
    "duration": 17,
    "start_time": "2022-07-06T20:14:30.188Z"
   },
   {
    "duration": 16,
    "start_time": "2022-07-06T20:14:36.314Z"
   },
   {
    "duration": 2464,
    "start_time": "2022-07-06T20:15:24.990Z"
   },
   {
    "duration": 77,
    "start_time": "2022-07-06T20:15:38.241Z"
   },
   {
    "duration": 78,
    "start_time": "2022-07-06T20:15:41.428Z"
   },
   {
    "duration": 16,
    "start_time": "2022-07-06T20:15:46.539Z"
   },
   {
    "duration": 9,
    "start_time": "2022-07-06T20:16:10.342Z"
   },
   {
    "duration": 16,
    "start_time": "2022-07-06T20:16:22.590Z"
   },
   {
    "duration": 15,
    "start_time": "2022-07-06T20:16:26.165Z"
   },
   {
    "duration": 632,
    "start_time": "2022-07-06T20:17:53.644Z"
   },
   {
    "duration": 538,
    "start_time": "2022-07-06T20:18:09.333Z"
   },
   {
    "duration": 38,
    "start_time": "2022-07-06T20:26:52.862Z"
   },
   {
    "duration": 35,
    "start_time": "2022-07-06T20:26:58.809Z"
   },
   {
    "duration": 22,
    "start_time": "2022-07-06T20:27:45.054Z"
   },
   {
    "duration": 19,
    "start_time": "2022-07-06T20:27:58.329Z"
   },
   {
    "duration": 35,
    "start_time": "2022-07-06T20:28:02.575Z"
   },
   {
    "duration": 15,
    "start_time": "2022-07-06T20:28:12.554Z"
   },
   {
    "duration": 30,
    "start_time": "2022-07-06T20:28:16.953Z"
   },
   {
    "duration": 28,
    "start_time": "2022-07-06T20:28:48.624Z"
   },
   {
    "duration": 55,
    "start_time": "2022-07-07T05:59:22.425Z"
   },
   {
    "duration": 1577,
    "start_time": "2022-07-07T05:59:29.278Z"
   },
   {
    "duration": 924,
    "start_time": "2022-07-07T05:59:30.857Z"
   },
   {
    "duration": 134,
    "start_time": "2022-07-07T05:59:31.783Z"
   },
   {
    "duration": 575,
    "start_time": "2022-07-07T05:59:31.919Z"
   },
   {
    "duration": 29,
    "start_time": "2022-07-07T05:59:32.496Z"
   },
   {
    "duration": 22,
    "start_time": "2022-07-07T05:59:32.526Z"
   },
   {
    "duration": 293,
    "start_time": "2022-07-07T05:59:32.550Z"
   },
   {
    "duration": 35,
    "start_time": "2022-07-07T05:59:32.845Z"
   },
   {
    "duration": 17,
    "start_time": "2022-07-07T05:59:32.881Z"
   },
   {
    "duration": 5,
    "start_time": "2022-07-07T05:59:32.899Z"
   },
   {
    "duration": 132,
    "start_time": "2022-07-07T05:59:32.905Z"
   },
   {
    "duration": 8,
    "start_time": "2022-07-07T05:59:33.039Z"
   },
   {
    "duration": 40,
    "start_time": "2022-07-07T05:59:33.048Z"
   },
   {
    "duration": 17,
    "start_time": "2022-07-07T05:59:33.091Z"
   },
   {
    "duration": 8,
    "start_time": "2022-07-07T05:59:33.110Z"
   },
   {
    "duration": 8,
    "start_time": "2022-07-07T05:59:33.119Z"
   },
   {
    "duration": 8,
    "start_time": "2022-07-07T05:59:33.128Z"
   },
   {
    "duration": 30,
    "start_time": "2022-07-07T05:59:33.137Z"
   },
   {
    "duration": 16,
    "start_time": "2022-07-07T05:59:33.175Z"
   },
   {
    "duration": 5,
    "start_time": "2022-07-07T05:59:33.193Z"
   },
   {
    "duration": 8,
    "start_time": "2022-07-07T05:59:33.199Z"
   },
   {
    "duration": 7,
    "start_time": "2022-07-07T05:59:33.208Z"
   },
   {
    "duration": 21,
    "start_time": "2022-07-07T05:59:33.217Z"
   },
   {
    "duration": 147,
    "start_time": "2022-07-07T05:59:33.239Z"
   },
   {
    "duration": 97,
    "start_time": "2022-07-07T05:59:33.388Z"
   },
   {
    "duration": 4,
    "start_time": "2022-07-07T05:59:33.487Z"
   },
   {
    "duration": 14,
    "start_time": "2022-07-07T05:59:33.493Z"
   },
   {
    "duration": 23,
    "start_time": "2022-07-07T05:59:33.509Z"
   },
   {
    "duration": 512,
    "start_time": "2022-07-07T05:59:33.535Z"
   },
   {
    "duration": 111,
    "start_time": "2022-07-07T05:59:34.048Z"
   },
   {
    "duration": 30,
    "start_time": "2022-07-07T06:00:50.059Z"
   },
   {
    "duration": 11,
    "start_time": "2022-07-07T06:00:53.583Z"
   },
   {
    "duration": 22,
    "start_time": "2022-07-07T06:00:55.618Z"
   },
   {
    "duration": 8,
    "start_time": "2022-07-07T06:01:05.677Z"
   },
   {
    "duration": 4,
    "start_time": "2022-07-07T06:01:09.438Z"
   },
   {
    "duration": 5,
    "start_time": "2022-07-07T06:03:08.795Z"
   },
   {
    "duration": 57,
    "start_time": "2022-07-07T06:03:45.180Z"
   },
   {
    "duration": 63,
    "start_time": "2022-07-07T06:05:39.359Z"
   },
   {
    "duration": 31,
    "start_time": "2022-07-07T06:05:44.969Z"
   },
   {
    "duration": 102,
    "start_time": "2022-07-07T06:06:53.009Z"
   },
   {
    "duration": 33,
    "start_time": "2022-07-07T06:09:13.381Z"
   },
   {
    "duration": 7,
    "start_time": "2022-07-07T06:13:04.493Z"
   },
   {
    "duration": 15,
    "start_time": "2022-07-07T06:13:14.179Z"
   },
   {
    "duration": 989,
    "start_time": "2022-07-07T06:17:08.624Z"
   },
   {
    "duration": 1386,
    "start_time": "2022-07-07T06:17:43.798Z"
   },
   {
    "duration": 261,
    "start_time": "2022-07-07T06:17:45.186Z"
   },
   {
    "duration": 71,
    "start_time": "2022-07-07T06:17:45.448Z"
   },
   {
    "duration": 338,
    "start_time": "2022-07-07T06:17:45.521Z"
   },
   {
    "duration": 38,
    "start_time": "2022-07-07T06:17:45.860Z"
   },
   {
    "duration": 19,
    "start_time": "2022-07-07T06:17:45.900Z"
   },
   {
    "duration": 233,
    "start_time": "2022-07-07T06:17:45.921Z"
   },
   {
    "duration": 37,
    "start_time": "2022-07-07T06:17:46.156Z"
   },
   {
    "duration": 17,
    "start_time": "2022-07-07T06:17:46.194Z"
   },
   {
    "duration": 5,
    "start_time": "2022-07-07T06:17:46.213Z"
   },
   {
    "duration": 136,
    "start_time": "2022-07-07T06:17:46.219Z"
   },
   {
    "duration": 8,
    "start_time": "2022-07-07T06:17:46.357Z"
   },
   {
    "duration": 34,
    "start_time": "2022-07-07T06:17:46.367Z"
   },
   {
    "duration": 20,
    "start_time": "2022-07-07T06:17:46.403Z"
   },
   {
    "duration": 8,
    "start_time": "2022-07-07T06:17:46.426Z"
   },
   {
    "duration": 9,
    "start_time": "2022-07-07T06:17:46.435Z"
   },
   {
    "duration": 29,
    "start_time": "2022-07-07T06:17:46.445Z"
   },
   {
    "duration": 13,
    "start_time": "2022-07-07T06:17:46.476Z"
   },
   {
    "duration": 19,
    "start_time": "2022-07-07T06:17:46.491Z"
   },
   {
    "duration": 7,
    "start_time": "2022-07-07T06:17:46.512Z"
   },
   {
    "duration": 10,
    "start_time": "2022-07-07T06:17:46.521Z"
   },
   {
    "duration": 22,
    "start_time": "2022-07-07T06:17:46.532Z"
   },
   {
    "duration": 39,
    "start_time": "2022-07-07T06:17:46.556Z"
   },
   {
    "duration": 114,
    "start_time": "2022-07-07T06:17:46.597Z"
   },
   {
    "duration": 90,
    "start_time": "2022-07-07T06:17:46.712Z"
   },
   {
    "duration": 4,
    "start_time": "2022-07-07T06:17:46.804Z"
   },
   {
    "duration": 18,
    "start_time": "2022-07-07T06:17:46.810Z"
   },
   {
    "duration": 39,
    "start_time": "2022-07-07T06:17:46.830Z"
   },
   {
    "duration": 15,
    "start_time": "2022-07-07T06:17:46.876Z"
   },
   {
    "duration": 1042,
    "start_time": "2022-07-07T06:17:46.893Z"
   },
   {
    "duration": 41,
    "start_time": "2022-07-07T06:17:47.936Z"
   },
   {
    "duration": 5,
    "start_time": "2022-07-07T06:17:47.979Z"
   },
   {
    "duration": 9,
    "start_time": "2022-07-07T06:17:47.986Z"
   },
   {
    "duration": 911,
    "start_time": "2022-07-07T06:46:47.075Z"
   },
   {
    "duration": 12,
    "start_time": "2022-07-07T06:47:17.098Z"
   },
   {
    "duration": 1338,
    "start_time": "2022-07-07T06:47:23.296Z"
   },
   {
    "duration": 259,
    "start_time": "2022-07-07T06:47:24.636Z"
   },
   {
    "duration": 66,
    "start_time": "2022-07-07T06:47:24.897Z"
   },
   {
    "duration": 345,
    "start_time": "2022-07-07T06:47:24.965Z"
   },
   {
    "duration": 28,
    "start_time": "2022-07-07T06:47:25.312Z"
   },
   {
    "duration": 36,
    "start_time": "2022-07-07T06:47:25.342Z"
   },
   {
    "duration": 236,
    "start_time": "2022-07-07T06:47:25.381Z"
   },
   {
    "duration": 20,
    "start_time": "2022-07-07T06:47:25.618Z"
   },
   {
    "duration": 25,
    "start_time": "2022-07-07T06:47:25.640Z"
   },
   {
    "duration": 14,
    "start_time": "2022-07-07T06:47:25.668Z"
   },
   {
    "duration": 127,
    "start_time": "2022-07-07T06:47:25.683Z"
   },
   {
    "duration": 8,
    "start_time": "2022-07-07T06:47:25.812Z"
   },
   {
    "duration": 25,
    "start_time": "2022-07-07T06:47:25.821Z"
   },
   {
    "duration": 30,
    "start_time": "2022-07-07T06:47:25.848Z"
   },
   {
    "duration": 9,
    "start_time": "2022-07-07T06:47:25.879Z"
   },
   {
    "duration": 26,
    "start_time": "2022-07-07T06:47:25.889Z"
   },
   {
    "duration": 8,
    "start_time": "2022-07-07T06:47:25.916Z"
   },
   {
    "duration": 17,
    "start_time": "2022-07-07T06:47:25.926Z"
   },
   {
    "duration": 28,
    "start_time": "2022-07-07T06:47:25.945Z"
   },
   {
    "duration": 5,
    "start_time": "2022-07-07T06:47:25.975Z"
   },
   {
    "duration": 9,
    "start_time": "2022-07-07T06:47:25.982Z"
   },
   {
    "duration": 6,
    "start_time": "2022-07-07T06:47:25.993Z"
   },
   {
    "duration": 26,
    "start_time": "2022-07-07T06:47:26.000Z"
   },
   {
    "duration": 152,
    "start_time": "2022-07-07T06:47:26.027Z"
   },
   {
    "duration": 94,
    "start_time": "2022-07-07T06:47:26.180Z"
   },
   {
    "duration": 4,
    "start_time": "2022-07-07T06:47:26.275Z"
   },
   {
    "duration": 17,
    "start_time": "2022-07-07T06:47:26.280Z"
   },
   {
    "duration": 20,
    "start_time": "2022-07-07T06:47:26.299Z"
   },
   {
    "duration": 5,
    "start_time": "2022-07-07T06:47:26.320Z"
   },
   {
    "duration": 1022,
    "start_time": "2022-07-07T06:47:26.327Z"
   },
   {
    "duration": 43,
    "start_time": "2022-07-07T06:47:27.351Z"
   },
   {
    "duration": 3,
    "start_time": "2022-07-07T06:47:27.396Z"
   },
   {
    "duration": 3,
    "start_time": "2022-07-07T06:53:20.233Z"
   },
   {
    "duration": 121,
    "start_time": "2022-07-07T06:59:32.182Z"
   },
   {
    "duration": 73,
    "start_time": "2022-07-07T06:59:56.543Z"
   },
   {
    "duration": 6,
    "start_time": "2022-07-07T07:00:00.145Z"
   },
   {
    "duration": 234,
    "start_time": "2022-07-07T07:01:13.960Z"
   },
   {
    "duration": 232,
    "start_time": "2022-07-07T07:01:25.801Z"
   },
   {
    "duration": 403,
    "start_time": "2022-07-07T07:03:07.045Z"
   },
   {
    "duration": 50,
    "start_time": "2022-07-07T07:03:31.885Z"
   },
   {
    "duration": 577,
    "start_time": "2022-07-07T07:03:36.209Z"
   },
   {
    "duration": 564,
    "start_time": "2022-07-07T07:03:42.376Z"
   },
   {
    "duration": 802,
    "start_time": "2022-07-07T07:04:12.313Z"
   },
   {
    "duration": 902,
    "start_time": "2022-07-07T07:04:30.892Z"
   },
   {
    "duration": 750,
    "start_time": "2022-07-07T07:08:35.090Z"
   },
   {
    "duration": 934,
    "start_time": "2022-07-07T07:09:17.674Z"
   },
   {
    "duration": 2,
    "start_time": "2022-07-07T07:12:27.286Z"
   },
   {
    "duration": 780,
    "start_time": "2022-07-07T07:14:13.937Z"
   },
   {
    "duration": 1090,
    "start_time": "2022-07-07T07:14:41.836Z"
   },
   {
    "duration": 753,
    "start_time": "2022-07-07T07:14:48.391Z"
   },
   {
    "duration": 3,
    "start_time": "2022-07-07T07:19:20.953Z"
   },
   {
    "duration": 828,
    "start_time": "2022-07-07T07:20:28.890Z"
   },
   {
    "duration": 3,
    "start_time": "2022-07-07T07:24:53.707Z"
   },
   {
    "duration": 6,
    "start_time": "2022-07-07T07:34:26.780Z"
   },
   {
    "duration": 26,
    "start_time": "2022-07-07T07:34:52.269Z"
   },
   {
    "duration": 345,
    "start_time": "2022-07-07T07:35:05.142Z"
   },
   {
    "duration": 108,
    "start_time": "2022-07-07T07:35:12.005Z"
   },
   {
    "duration": 141,
    "start_time": "2022-07-07T07:38:05.329Z"
   },
   {
    "duration": 128,
    "start_time": "2022-07-07T07:38:43.067Z"
   },
   {
    "duration": 248,
    "start_time": "2022-07-07T07:38:56.739Z"
   },
   {
    "duration": 370,
    "start_time": "2022-07-07T07:39:23.407Z"
   },
   {
    "duration": 391,
    "start_time": "2022-07-07T07:39:29.806Z"
   },
   {
    "duration": 368,
    "start_time": "2022-07-07T07:39:44.435Z"
   },
   {
    "duration": 686,
    "start_time": "2022-07-07T07:40:29.877Z"
   },
   {
    "duration": 420,
    "start_time": "2022-07-07T07:42:28.520Z"
   },
   {
    "duration": 416,
    "start_time": "2022-07-07T07:43:09.813Z"
   },
   {
    "duration": 409,
    "start_time": "2022-07-07T07:43:17.303Z"
   },
   {
    "duration": 421,
    "start_time": "2022-07-07T07:43:35.304Z"
   },
   {
    "duration": 398,
    "start_time": "2022-07-07T07:43:43.936Z"
   },
   {
    "duration": 913,
    "start_time": "2022-07-07T07:47:47.271Z"
   },
   {
    "duration": 399,
    "start_time": "2022-07-07T07:48:16.696Z"
   },
   {
    "duration": 430,
    "start_time": "2022-07-07T08:00:30.382Z"
   },
   {
    "duration": 453,
    "start_time": "2022-07-07T08:00:40.240Z"
   },
   {
    "duration": 54,
    "start_time": "2022-07-07T08:02:25.119Z"
   },
   {
    "duration": 47,
    "start_time": "2022-07-07T08:04:14.418Z"
   },
   {
    "duration": 2,
    "start_time": "2022-07-07T08:04:28.478Z"
   },
   {
    "duration": 14,
    "start_time": "2022-07-07T08:22:02.054Z"
   },
   {
    "duration": 5,
    "start_time": "2022-07-07T08:22:29.602Z"
   },
   {
    "duration": 5,
    "start_time": "2022-07-07T08:22:35.665Z"
   },
   {
    "duration": 1036,
    "start_time": "2022-07-07T08:29:59.546Z"
   },
   {
    "duration": 7,
    "start_time": "2022-07-07T08:31:09.139Z"
   },
   {
    "duration": 7,
    "start_time": "2022-07-07T08:32:50.258Z"
   },
   {
    "duration": 306,
    "start_time": "2022-07-07T09:24:13.006Z"
   },
   {
    "duration": 618,
    "start_time": "2022-07-07T09:25:29.997Z"
   },
   {
    "duration": 891,
    "start_time": "2022-07-07T09:25:39.279Z"
   },
   {
    "duration": 612,
    "start_time": "2022-07-07T09:26:00.195Z"
   },
   {
    "duration": 650,
    "start_time": "2022-07-07T09:26:12.179Z"
   },
   {
    "duration": 601,
    "start_time": "2022-07-07T09:26:20.858Z"
   },
   {
    "duration": 981,
    "start_time": "2022-07-07T09:27:09.459Z"
   },
   {
    "duration": 650,
    "start_time": "2022-07-07T09:27:20.292Z"
   },
   {
    "duration": 578,
    "start_time": "2022-07-07T09:29:50.852Z"
   },
   {
    "duration": 71,
    "start_time": "2022-07-07T09:30:58.210Z"
   },
   {
    "duration": 595,
    "start_time": "2022-07-07T09:31:43.513Z"
   },
   {
    "duration": 9,
    "start_time": "2022-07-07T09:34:24.261Z"
   },
   {
    "duration": 31,
    "start_time": "2022-07-07T09:34:31.945Z"
   },
   {
    "duration": 9,
    "start_time": "2022-07-07T09:35:37.373Z"
   },
   {
    "duration": 551,
    "start_time": "2022-07-07T09:35:45.668Z"
   },
   {
    "duration": 984,
    "start_time": "2022-07-07T09:35:58.159Z"
   },
   {
    "duration": 18,
    "start_time": "2022-07-07T09:37:06.568Z"
   },
   {
    "duration": 29,
    "start_time": "2022-07-07T09:37:07.191Z"
   },
   {
    "duration": 9,
    "start_time": "2022-07-07T09:37:07.953Z"
   },
   {
    "duration": 568,
    "start_time": "2022-07-07T09:37:09.185Z"
   },
   {
    "duration": 108,
    "start_time": "2022-07-07T09:38:43.845Z"
   },
   {
    "duration": 567,
    "start_time": "2022-07-07T09:39:20.485Z"
   },
   {
    "duration": 589,
    "start_time": "2022-07-07T10:04:01.447Z"
   },
   {
    "duration": 1615,
    "start_time": "2022-07-07T18:50:02.223Z"
   },
   {
    "duration": 772,
    "start_time": "2022-07-07T18:50:03.840Z"
   },
   {
    "duration": 114,
    "start_time": "2022-07-07T18:50:04.614Z"
   },
   {
    "duration": 488,
    "start_time": "2022-07-07T18:50:04.730Z"
   },
   {
    "duration": 26,
    "start_time": "2022-07-07T18:50:05.219Z"
   },
   {
    "duration": 19,
    "start_time": "2022-07-07T18:50:05.246Z"
   },
   {
    "duration": 226,
    "start_time": "2022-07-07T18:50:05.266Z"
   },
   {
    "duration": 20,
    "start_time": "2022-07-07T18:50:05.493Z"
   },
   {
    "duration": 13,
    "start_time": "2022-07-07T18:50:05.515Z"
   },
   {
    "duration": 5,
    "start_time": "2022-07-07T18:50:05.531Z"
   },
   {
    "duration": 153,
    "start_time": "2022-07-07T18:50:05.538Z"
   },
   {
    "duration": 7,
    "start_time": "2022-07-07T18:50:05.693Z"
   },
   {
    "duration": 21,
    "start_time": "2022-07-07T18:50:05.702Z"
   },
   {
    "duration": 42,
    "start_time": "2022-07-07T18:50:05.724Z"
   },
   {
    "duration": 9,
    "start_time": "2022-07-07T18:50:05.767Z"
   },
   {
    "duration": 9,
    "start_time": "2022-07-07T18:50:05.777Z"
   },
   {
    "duration": 7,
    "start_time": "2022-07-07T18:50:05.787Z"
   },
   {
    "duration": 6,
    "start_time": "2022-07-07T18:50:05.796Z"
   },
   {
    "duration": 17,
    "start_time": "2022-07-07T18:50:05.803Z"
   },
   {
    "duration": 42,
    "start_time": "2022-07-07T18:50:05.822Z"
   },
   {
    "duration": 5,
    "start_time": "2022-07-07T18:50:05.868Z"
   },
   {
    "duration": 9,
    "start_time": "2022-07-07T18:50:05.875Z"
   },
   {
    "duration": 38,
    "start_time": "2022-07-07T18:50:05.886Z"
   },
   {
    "duration": 144,
    "start_time": "2022-07-07T18:50:05.927Z"
   },
   {
    "duration": 92,
    "start_time": "2022-07-07T18:50:06.073Z"
   },
   {
    "duration": 4,
    "start_time": "2022-07-07T18:50:06.166Z"
   },
   {
    "duration": 16,
    "start_time": "2022-07-07T18:50:06.172Z"
   },
   {
    "duration": 21,
    "start_time": "2022-07-07T18:50:06.191Z"
   },
   {
    "duration": 4,
    "start_time": "2022-07-07T18:50:06.213Z"
   },
   {
    "duration": 968,
    "start_time": "2022-07-07T18:50:06.219Z"
   },
   {
    "duration": 27,
    "start_time": "2022-07-07T18:50:07.188Z"
   },
   {
    "duration": 755,
    "start_time": "2022-07-07T18:50:07.216Z"
   },
   {
    "duration": 850,
    "start_time": "2022-07-07T18:50:07.973Z"
   },
   {
    "duration": 782,
    "start_time": "2022-07-07T18:50:08.825Z"
   },
   {
    "duration": 396,
    "start_time": "2022-07-07T18:50:09.608Z"
   },
   {
    "duration": 582,
    "start_time": "2022-07-07T18:50:10.005Z"
   },
   {
    "duration": 50,
    "start_time": "2022-07-07T18:50:10.590Z"
   },
   {
    "duration": 0,
    "start_time": "2022-07-07T18:50:10.643Z"
   },
   {
    "duration": 0,
    "start_time": "2022-07-07T18:50:10.644Z"
   },
   {
    "duration": 0,
    "start_time": "2022-07-07T18:50:10.645Z"
   },
   {
    "duration": 0,
    "start_time": "2022-07-07T18:50:10.646Z"
   },
   {
    "duration": 0,
    "start_time": "2022-07-07T18:50:10.647Z"
   },
   {
    "duration": 6,
    "start_time": "2022-07-07T18:51:41.259Z"
   },
   {
    "duration": 1336,
    "start_time": "2022-07-07T18:51:47.305Z"
   },
   {
    "duration": 266,
    "start_time": "2022-07-07T18:51:48.643Z"
   },
   {
    "duration": 71,
    "start_time": "2022-07-07T18:51:48.911Z"
   },
   {
    "duration": 349,
    "start_time": "2022-07-07T18:51:48.984Z"
   },
   {
    "duration": 30,
    "start_time": "2022-07-07T18:51:49.335Z"
   },
   {
    "duration": 25,
    "start_time": "2022-07-07T18:51:49.367Z"
   },
   {
    "duration": 236,
    "start_time": "2022-07-07T18:51:49.394Z"
   },
   {
    "duration": 20,
    "start_time": "2022-07-07T18:51:49.633Z"
   },
   {
    "duration": 16,
    "start_time": "2022-07-07T18:51:49.663Z"
   },
   {
    "duration": 9,
    "start_time": "2022-07-07T18:51:49.681Z"
   },
   {
    "duration": 141,
    "start_time": "2022-07-07T18:51:49.692Z"
   },
   {
    "duration": 8,
    "start_time": "2022-07-07T18:51:49.834Z"
   },
   {
    "duration": 41,
    "start_time": "2022-07-07T18:51:49.843Z"
   },
   {
    "duration": 30,
    "start_time": "2022-07-07T18:51:49.885Z"
   },
   {
    "duration": 19,
    "start_time": "2022-07-07T18:51:49.916Z"
   },
   {
    "duration": 29,
    "start_time": "2022-07-07T18:51:49.937Z"
   },
   {
    "duration": 20,
    "start_time": "2022-07-07T18:51:49.967Z"
   },
   {
    "duration": 13,
    "start_time": "2022-07-07T18:51:49.989Z"
   },
   {
    "duration": 40,
    "start_time": "2022-07-07T18:51:50.004Z"
   },
   {
    "duration": 13,
    "start_time": "2022-07-07T18:51:50.046Z"
   },
   {
    "duration": 23,
    "start_time": "2022-07-07T18:51:50.060Z"
   },
   {
    "duration": 9,
    "start_time": "2022-07-07T18:51:50.085Z"
   },
   {
    "duration": 39,
    "start_time": "2022-07-07T18:51:50.098Z"
   },
   {
    "duration": 121,
    "start_time": "2022-07-07T18:51:50.139Z"
   },
   {
    "duration": 102,
    "start_time": "2022-07-07T18:51:50.263Z"
   },
   {
    "duration": 5,
    "start_time": "2022-07-07T18:51:50.367Z"
   },
   {
    "duration": 29,
    "start_time": "2022-07-07T18:51:50.373Z"
   },
   {
    "duration": 29,
    "start_time": "2022-07-07T18:51:50.403Z"
   },
   {
    "duration": 27,
    "start_time": "2022-07-07T18:51:50.434Z"
   },
   {
    "duration": 1042,
    "start_time": "2022-07-07T18:51:50.463Z"
   },
   {
    "duration": 26,
    "start_time": "2022-07-07T18:51:51.507Z"
   },
   {
    "duration": 735,
    "start_time": "2022-07-07T18:51:51.535Z"
   },
   {
    "duration": 970,
    "start_time": "2022-07-07T18:51:52.271Z"
   },
   {
    "duration": 726,
    "start_time": "2022-07-07T18:51:53.242Z"
   },
   {
    "duration": 425,
    "start_time": "2022-07-07T18:51:53.969Z"
   },
   {
    "duration": 569,
    "start_time": "2022-07-07T18:51:54.396Z"
   },
   {
    "duration": 6,
    "start_time": "2022-07-07T18:51:54.967Z"
   },
   {
    "duration": 526,
    "start_time": "2022-07-07T18:51:54.975Z"
   },
   {
    "duration": 546,
    "start_time": "2022-07-07T18:51:55.502Z"
   },
   {
    "duration": 31,
    "start_time": "2022-07-07T18:51:56.049Z"
   },
   {
    "duration": 6,
    "start_time": "2022-07-07T18:51:56.082Z"
   },
   {
    "duration": 787,
    "start_time": "2022-07-07T18:51:56.090Z"
   },
   {
    "duration": 51,
    "start_time": "2022-07-07T19:13:35.761Z"
   },
   {
    "duration": 4,
    "start_time": "2022-07-07T19:13:55.626Z"
   },
   {
    "duration": 3,
    "start_time": "2022-07-07T19:21:16.003Z"
   },
   {
    "duration": 3,
    "start_time": "2022-07-07T19:44:15.364Z"
   },
   {
    "duration": 4,
    "start_time": "2022-07-07T19:51:55.528Z"
   },
   {
    "duration": 29,
    "start_time": "2022-07-07T20:06:19.427Z"
   },
   {
    "duration": 5,
    "start_time": "2022-07-07T20:07:04.551Z"
   },
   {
    "duration": 28,
    "start_time": "2022-07-07T20:07:13.923Z"
   },
   {
    "duration": 3,
    "start_time": "2022-07-07T20:12:51.990Z"
   },
   {
    "duration": 4,
    "start_time": "2022-07-07T20:12:58.154Z"
   },
   {
    "duration": 5,
    "start_time": "2022-07-07T20:16:13.101Z"
   },
   {
    "duration": 4,
    "start_time": "2022-07-07T20:16:47.076Z"
   },
   {
    "duration": 26,
    "start_time": "2022-07-07T20:16:50.120Z"
   },
   {
    "duration": 5,
    "start_time": "2022-07-07T20:17:33.819Z"
   },
   {
    "duration": 25,
    "start_time": "2022-07-07T20:17:34.316Z"
   },
   {
    "duration": 115,
    "start_time": "2022-07-07T20:18:44.361Z"
   },
   {
    "duration": 6,
    "start_time": "2022-07-07T20:18:47.200Z"
   },
   {
    "duration": 20,
    "start_time": "2022-07-07T20:18:47.634Z"
   },
   {
    "duration": 57,
    "start_time": "2022-07-07T20:20:21.241Z"
   },
   {
    "duration": 43,
    "start_time": "2022-07-07T20:20:27.418Z"
   },
   {
    "duration": 6,
    "start_time": "2022-07-07T20:20:58.252Z"
   },
   {
    "duration": 30,
    "start_time": "2022-07-07T20:21:04.244Z"
   },
   {
    "duration": 4,
    "start_time": "2022-07-07T20:21:19.236Z"
   },
   {
    "duration": 4,
    "start_time": "2022-07-07T20:21:30.824Z"
   },
   {
    "duration": 16,
    "start_time": "2022-07-07T20:29:09.239Z"
   },
   {
    "duration": 19,
    "start_time": "2022-07-07T20:29:17.849Z"
   },
   {
    "duration": 4,
    "start_time": "2022-07-07T20:29:28.216Z"
   },
   {
    "duration": 34,
    "start_time": "2022-07-07T20:29:36.358Z"
   },
   {
    "duration": 6,
    "start_time": "2022-07-07T20:29:43.481Z"
   },
   {
    "duration": 6,
    "start_time": "2022-07-07T20:29:54.504Z"
   },
   {
    "duration": 7,
    "start_time": "2022-07-07T20:31:23.011Z"
   },
   {
    "duration": 4,
    "start_time": "2022-07-07T20:31:40.847Z"
   },
   {
    "duration": 3,
    "start_time": "2022-07-07T20:31:50.551Z"
   },
   {
    "duration": 3,
    "start_time": "2022-07-07T20:32:19.654Z"
   },
   {
    "duration": 10,
    "start_time": "2022-07-07T20:32:55.210Z"
   },
   {
    "duration": 9,
    "start_time": "2022-07-07T20:33:19.292Z"
   },
   {
    "duration": 1464,
    "start_time": "2022-07-07T20:33:26.842Z"
   },
   {
    "duration": 293,
    "start_time": "2022-07-07T20:33:28.309Z"
   },
   {
    "duration": 78,
    "start_time": "2022-07-07T20:33:28.603Z"
   },
   {
    "duration": 373,
    "start_time": "2022-07-07T20:33:28.683Z"
   },
   {
    "duration": 35,
    "start_time": "2022-07-07T20:33:29.058Z"
   },
   {
    "duration": 18,
    "start_time": "2022-07-07T20:33:29.094Z"
   },
   {
    "duration": 252,
    "start_time": "2022-07-07T20:33:29.114Z"
   },
   {
    "duration": 33,
    "start_time": "2022-07-07T20:33:29.368Z"
   },
   {
    "duration": 14,
    "start_time": "2022-07-07T20:33:29.403Z"
   },
   {
    "duration": 5,
    "start_time": "2022-07-07T20:33:29.420Z"
   },
   {
    "duration": 161,
    "start_time": "2022-07-07T20:33:29.426Z"
   },
   {
    "duration": 8,
    "start_time": "2022-07-07T20:33:29.589Z"
   },
   {
    "duration": 20,
    "start_time": "2022-07-07T20:33:29.599Z"
   },
   {
    "duration": 18,
    "start_time": "2022-07-07T20:33:29.621Z"
   },
   {
    "duration": 32,
    "start_time": "2022-07-07T20:33:29.641Z"
   },
   {
    "duration": 17,
    "start_time": "2022-07-07T20:33:29.674Z"
   },
   {
    "duration": 7,
    "start_time": "2022-07-07T20:33:29.692Z"
   },
   {
    "duration": 12,
    "start_time": "2022-07-07T20:33:29.701Z"
   },
   {
    "duration": 14,
    "start_time": "2022-07-07T20:33:29.715Z"
   },
   {
    "duration": 4,
    "start_time": "2022-07-07T20:33:29.731Z"
   },
   {
    "duration": 8,
    "start_time": "2022-07-07T20:33:29.736Z"
   },
   {
    "duration": 23,
    "start_time": "2022-07-07T20:33:29.745Z"
   },
   {
    "duration": 38,
    "start_time": "2022-07-07T20:33:29.770Z"
   },
   {
    "duration": 128,
    "start_time": "2022-07-07T20:33:29.809Z"
   },
   {
    "duration": 111,
    "start_time": "2022-07-07T20:33:29.939Z"
   },
   {
    "duration": 4,
    "start_time": "2022-07-07T20:33:30.051Z"
   },
   {
    "duration": 30,
    "start_time": "2022-07-07T20:33:30.064Z"
   },
   {
    "duration": 21,
    "start_time": "2022-07-07T20:33:30.098Z"
   },
   {
    "duration": 17,
    "start_time": "2022-07-07T20:33:30.121Z"
   },
   {
    "duration": 1090,
    "start_time": "2022-07-07T20:33:30.139Z"
   },
   {
    "duration": 34,
    "start_time": "2022-07-07T20:33:31.231Z"
   },
   {
    "duration": 755,
    "start_time": "2022-07-07T20:33:31.268Z"
   },
   {
    "duration": 977,
    "start_time": "2022-07-07T20:33:32.025Z"
   },
   {
    "duration": 797,
    "start_time": "2022-07-07T20:33:33.004Z"
   },
   {
    "duration": 420,
    "start_time": "2022-07-07T20:33:33.803Z"
   },
   {
    "duration": 603,
    "start_time": "2022-07-07T20:33:34.224Z"
   },
   {
    "duration": 7,
    "start_time": "2022-07-07T20:33:34.829Z"
   },
   {
    "duration": 574,
    "start_time": "2022-07-07T20:33:34.837Z"
   },
   {
    "duration": 597,
    "start_time": "2022-07-07T20:33:35.413Z"
   },
   {
    "duration": 18,
    "start_time": "2022-07-07T20:33:36.012Z"
   },
   {
    "duration": 10,
    "start_time": "2022-07-07T20:33:36.032Z"
   },
   {
    "duration": 714,
    "start_time": "2022-07-07T20:33:36.043Z"
   },
   {
    "duration": 7,
    "start_time": "2022-07-07T20:33:36.758Z"
   },
   {
    "duration": 26,
    "start_time": "2022-07-07T20:33:36.766Z"
   },
   {
    "duration": 5,
    "start_time": "2022-07-07T20:33:36.793Z"
   },
   {
    "duration": 7,
    "start_time": "2022-07-07T20:33:36.800Z"
   },
   {
    "duration": 6,
    "start_time": "2022-07-07T20:33:36.809Z"
   },
   {
    "duration": 8,
    "start_time": "2022-07-07T20:33:36.816Z"
   },
   {
    "duration": 20,
    "start_time": "2022-07-07T20:33:36.825Z"
   },
   {
    "duration": 6,
    "start_time": "2022-07-07T20:33:36.846Z"
   },
   {
    "duration": 27,
    "start_time": "2022-07-07T20:33:36.853Z"
   },
   {
    "duration": 8,
    "start_time": "2022-07-07T20:33:36.881Z"
   },
   {
    "duration": 11,
    "start_time": "2022-07-07T20:33:36.890Z"
   },
   {
    "duration": 10,
    "start_time": "2022-07-07T20:33:36.902Z"
   },
   {
    "duration": 8,
    "start_time": "2022-07-07T20:33:36.913Z"
   },
   {
    "duration": 7,
    "start_time": "2022-07-07T20:33:36.923Z"
   },
   {
    "duration": 6,
    "start_time": "2022-07-07T20:33:36.931Z"
   },
   {
    "duration": 4,
    "start_time": "2022-07-07T20:33:56.093Z"
   },
   {
    "duration": 5,
    "start_time": "2022-07-07T20:34:03.880Z"
   },
   {
    "duration": 114,
    "start_time": "2022-07-07T20:34:34.812Z"
   },
   {
    "duration": 4,
    "start_time": "2022-07-07T20:34:46.418Z"
   },
   {
    "duration": 4,
    "start_time": "2022-07-07T20:34:56.157Z"
   },
   {
    "duration": 5,
    "start_time": "2022-07-07T20:47:50.583Z"
   },
   {
    "duration": 3,
    "start_time": "2022-07-07T20:55:15.581Z"
   },
   {
    "duration": 11,
    "start_time": "2022-07-07T20:57:45.598Z"
   },
   {
    "duration": 38,
    "start_time": "2022-07-07T20:58:12.801Z"
   },
   {
    "duration": 19,
    "start_time": "2022-07-07T21:00:03.286Z"
   },
   {
    "duration": 36,
    "start_time": "2022-07-07T21:00:53.606Z"
   },
   {
    "duration": 1512,
    "start_time": "2022-07-07T21:04:26.930Z"
   },
   {
    "duration": 290,
    "start_time": "2022-07-07T21:04:28.444Z"
   },
   {
    "duration": 81,
    "start_time": "2022-07-07T21:04:28.735Z"
   },
   {
    "duration": 398,
    "start_time": "2022-07-07T21:04:28.818Z"
   },
   {
    "duration": 34,
    "start_time": "2022-07-07T21:04:29.218Z"
   },
   {
    "duration": 29,
    "start_time": "2022-07-07T21:04:29.254Z"
   },
   {
    "duration": 255,
    "start_time": "2022-07-07T21:04:29.285Z"
   },
   {
    "duration": 18,
    "start_time": "2022-07-07T21:04:29.541Z"
   },
   {
    "duration": 38,
    "start_time": "2022-07-07T21:04:29.567Z"
   },
   {
    "duration": 6,
    "start_time": "2022-07-07T21:04:29.608Z"
   },
   {
    "duration": 127,
    "start_time": "2022-07-07T21:04:29.616Z"
   },
   {
    "duration": 7,
    "start_time": "2022-07-07T21:04:29.745Z"
   },
   {
    "duration": 37,
    "start_time": "2022-07-07T21:04:29.753Z"
   },
   {
    "duration": 17,
    "start_time": "2022-07-07T21:04:29.792Z"
   },
   {
    "duration": 7,
    "start_time": "2022-07-07T21:04:29.811Z"
   },
   {
    "duration": 7,
    "start_time": "2022-07-07T21:04:29.819Z"
   },
   {
    "duration": 7,
    "start_time": "2022-07-07T21:04:29.827Z"
   },
   {
    "duration": 32,
    "start_time": "2022-07-07T21:04:29.835Z"
   },
   {
    "duration": 15,
    "start_time": "2022-07-07T21:04:29.869Z"
   },
   {
    "duration": 5,
    "start_time": "2022-07-07T21:04:29.889Z"
   },
   {
    "duration": 10,
    "start_time": "2022-07-07T21:04:29.896Z"
   },
   {
    "duration": 7,
    "start_time": "2022-07-07T21:04:29.908Z"
   },
   {
    "duration": 22,
    "start_time": "2022-07-07T21:04:29.916Z"
   },
   {
    "duration": 166,
    "start_time": "2022-07-07T21:04:29.939Z"
   },
   {
    "duration": 106,
    "start_time": "2022-07-07T21:04:30.107Z"
   },
   {
    "duration": 4,
    "start_time": "2022-07-07T21:04:30.215Z"
   },
   {
    "duration": 36,
    "start_time": "2022-07-07T21:04:30.221Z"
   },
   {
    "duration": 33,
    "start_time": "2022-07-07T21:04:30.261Z"
   },
   {
    "duration": 7,
    "start_time": "2022-07-07T21:04:30.296Z"
   },
   {
    "duration": 1139,
    "start_time": "2022-07-07T21:04:30.305Z"
   },
   {
    "duration": 40,
    "start_time": "2022-07-07T21:04:31.445Z"
   },
   {
    "duration": 803,
    "start_time": "2022-07-07T21:04:31.491Z"
   },
   {
    "duration": 993,
    "start_time": "2022-07-07T21:04:32.296Z"
   },
   {
    "duration": 805,
    "start_time": "2022-07-07T21:04:33.291Z"
   },
   {
    "duration": 440,
    "start_time": "2022-07-07T21:04:34.098Z"
   },
   {
    "duration": 639,
    "start_time": "2022-07-07T21:04:34.540Z"
   },
   {
    "duration": 11,
    "start_time": "2022-07-07T21:04:35.181Z"
   },
   {
    "duration": 600,
    "start_time": "2022-07-07T21:04:35.194Z"
   },
   {
    "duration": 591,
    "start_time": "2022-07-07T21:04:35.796Z"
   },
   {
    "duration": 21,
    "start_time": "2022-07-07T21:04:36.389Z"
   },
   {
    "duration": 7,
    "start_time": "2022-07-07T21:04:36.412Z"
   },
   {
    "duration": 754,
    "start_time": "2022-07-07T21:04:36.420Z"
   },
   {
    "duration": 6,
    "start_time": "2022-07-07T21:04:37.176Z"
   },
   {
    "duration": 17,
    "start_time": "2022-07-07T21:04:37.184Z"
   },
   {
    "duration": 20,
    "start_time": "2022-07-07T21:04:37.202Z"
   },
   {
    "duration": 4,
    "start_time": "2022-07-07T21:04:37.223Z"
   },
   {
    "duration": 6,
    "start_time": "2022-07-07T21:04:37.228Z"
   },
   {
    "duration": 8,
    "start_time": "2022-07-07T21:04:37.235Z"
   },
   {
    "duration": 7,
    "start_time": "2022-07-07T21:04:37.244Z"
   },
   {
    "duration": 33,
    "start_time": "2022-07-07T21:04:37.252Z"
   },
   {
    "duration": 11,
    "start_time": "2022-07-07T21:04:37.287Z"
   },
   {
    "duration": 7,
    "start_time": "2022-07-07T21:04:37.299Z"
   },
   {
    "duration": 9,
    "start_time": "2022-07-07T21:04:37.308Z"
   },
   {
    "duration": 8,
    "start_time": "2022-07-07T21:04:37.318Z"
   },
   {
    "duration": 132,
    "start_time": "2022-07-07T21:04:37.328Z"
   },
   {
    "duration": 0,
    "start_time": "2022-07-07T21:04:37.461Z"
   },
   {
    "duration": 0,
    "start_time": "2022-07-07T21:04:37.463Z"
   },
   {
    "duration": 0,
    "start_time": "2022-07-07T21:04:37.464Z"
   },
   {
    "duration": 0,
    "start_time": "2022-07-07T21:04:37.464Z"
   },
   {
    "duration": 0,
    "start_time": "2022-07-07T21:04:37.465Z"
   },
   {
    "duration": 0,
    "start_time": "2022-07-07T21:04:37.467Z"
   },
   {
    "duration": 0,
    "start_time": "2022-07-07T21:04:37.467Z"
   },
   {
    "duration": 0,
    "start_time": "2022-07-07T21:04:37.468Z"
   },
   {
    "duration": 1600,
    "start_time": "2022-07-07T21:05:00.666Z"
   },
   {
    "duration": 339,
    "start_time": "2022-07-07T21:05:02.268Z"
   },
   {
    "duration": 94,
    "start_time": "2022-07-07T21:05:02.610Z"
   },
   {
    "duration": 400,
    "start_time": "2022-07-07T21:05:02.707Z"
   },
   {
    "duration": 25,
    "start_time": "2022-07-07T21:05:03.109Z"
   },
   {
    "duration": 30,
    "start_time": "2022-07-07T21:05:03.135Z"
   },
   {
    "duration": 251,
    "start_time": "2022-07-07T21:05:03.171Z"
   },
   {
    "duration": 21,
    "start_time": "2022-07-07T21:05:03.424Z"
   },
   {
    "duration": 28,
    "start_time": "2022-07-07T21:05:03.446Z"
   },
   {
    "duration": 21,
    "start_time": "2022-07-07T21:05:03.477Z"
   },
   {
    "duration": 127,
    "start_time": "2022-07-07T21:05:03.500Z"
   },
   {
    "duration": 9,
    "start_time": "2022-07-07T21:05:03.629Z"
   },
   {
    "duration": 47,
    "start_time": "2022-07-07T21:05:03.639Z"
   },
   {
    "duration": 25,
    "start_time": "2022-07-07T21:05:03.691Z"
   },
   {
    "duration": 11,
    "start_time": "2022-07-07T21:05:03.718Z"
   },
   {
    "duration": 11,
    "start_time": "2022-07-07T21:05:03.730Z"
   },
   {
    "duration": 8,
    "start_time": "2022-07-07T21:05:03.743Z"
   },
   {
    "duration": 23,
    "start_time": "2022-07-07T21:05:03.753Z"
   },
   {
    "duration": 33,
    "start_time": "2022-07-07T21:05:03.782Z"
   },
   {
    "duration": 11,
    "start_time": "2022-07-07T21:05:03.817Z"
   },
   {
    "duration": 13,
    "start_time": "2022-07-07T21:05:03.829Z"
   },
   {
    "duration": 21,
    "start_time": "2022-07-07T21:05:03.843Z"
   },
   {
    "duration": 56,
    "start_time": "2022-07-07T21:05:03.865Z"
   },
   {
    "duration": 123,
    "start_time": "2022-07-07T21:05:03.923Z"
   },
   {
    "duration": 107,
    "start_time": "2022-07-07T21:05:04.048Z"
   },
   {
    "duration": 3,
    "start_time": "2022-07-07T21:05:04.157Z"
   },
   {
    "duration": 45,
    "start_time": "2022-07-07T21:05:04.164Z"
   },
   {
    "duration": 20,
    "start_time": "2022-07-07T21:05:04.212Z"
   },
   {
    "duration": 15,
    "start_time": "2022-07-07T21:05:04.234Z"
   },
   {
    "duration": 1085,
    "start_time": "2022-07-07T21:05:04.251Z"
   },
   {
    "duration": 49,
    "start_time": "2022-07-07T21:05:05.338Z"
   },
   {
    "duration": 766,
    "start_time": "2022-07-07T21:05:05.393Z"
   },
   {
    "duration": 904,
    "start_time": "2022-07-07T21:05:06.161Z"
   },
   {
    "duration": 823,
    "start_time": "2022-07-07T21:05:07.067Z"
   },
   {
    "duration": 459,
    "start_time": "2022-07-07T21:05:07.893Z"
   },
   {
    "duration": 652,
    "start_time": "2022-07-07T21:05:08.353Z"
   },
   {
    "duration": 7,
    "start_time": "2022-07-07T21:05:09.007Z"
   },
   {
    "duration": 594,
    "start_time": "2022-07-07T21:05:09.016Z"
   },
   {
    "duration": 613,
    "start_time": "2022-07-07T21:05:09.612Z"
   },
   {
    "duration": 19,
    "start_time": "2022-07-07T21:05:10.227Z"
   },
   {
    "duration": 23,
    "start_time": "2022-07-07T21:05:10.248Z"
   },
   {
    "duration": 823,
    "start_time": "2022-07-07T21:05:10.287Z"
   },
   {
    "duration": 3,
    "start_time": "2022-07-07T21:05:11.112Z"
   },
   {
    "duration": 8,
    "start_time": "2022-07-07T21:05:11.117Z"
   },
   {
    "duration": 18,
    "start_time": "2022-07-07T21:05:11.127Z"
   },
   {
    "duration": 4,
    "start_time": "2022-07-07T21:05:11.147Z"
   },
   {
    "duration": 18,
    "start_time": "2022-07-07T21:05:11.163Z"
   },
   {
    "duration": 11,
    "start_time": "2022-07-07T21:05:11.183Z"
   },
   {
    "duration": 8,
    "start_time": "2022-07-07T21:05:11.196Z"
   },
   {
    "duration": 27,
    "start_time": "2022-07-07T21:05:11.206Z"
   },
   {
    "duration": 5,
    "start_time": "2022-07-07T21:05:11.235Z"
   },
   {
    "duration": 9,
    "start_time": "2022-07-07T21:05:11.241Z"
   },
   {
    "duration": 9,
    "start_time": "2022-07-07T21:05:11.251Z"
   },
   {
    "duration": 27,
    "start_time": "2022-07-07T21:05:11.264Z"
   },
   {
    "duration": 8,
    "start_time": "2022-07-07T21:05:11.293Z"
   },
   {
    "duration": 29,
    "start_time": "2022-07-07T21:05:11.302Z"
   },
   {
    "duration": 4,
    "start_time": "2022-07-07T21:05:11.332Z"
   },
   {
    "duration": 5,
    "start_time": "2022-07-07T21:05:11.338Z"
   },
   {
    "duration": 6,
    "start_time": "2022-07-07T21:05:11.345Z"
   },
   {
    "duration": 6,
    "start_time": "2022-07-07T21:05:11.352Z"
   },
   {
    "duration": 5,
    "start_time": "2022-07-07T21:05:11.365Z"
   },
   {
    "duration": 136,
    "start_time": "2022-07-07T21:05:11.371Z"
   },
   {
    "duration": 0,
    "start_time": "2022-07-07T21:05:11.508Z"
   },
   {
    "duration": 12,
    "start_time": "2022-07-07T21:06:28.808Z"
   },
   {
    "duration": 3,
    "start_time": "2022-07-07T21:06:37.690Z"
   },
   {
    "duration": 9,
    "start_time": "2022-07-07T21:06:38.105Z"
   },
   {
    "duration": 9,
    "start_time": "2022-07-07T21:06:56.711Z"
   },
   {
    "duration": 900,
    "start_time": "2022-07-07T21:07:29.964Z"
   },
   {
    "duration": 2322,
    "start_time": "2022-07-07T21:09:15.045Z"
   },
   {
    "duration": 1148,
    "start_time": "2022-07-07T21:17:44.519Z"
   },
   {
    "duration": 1655,
    "start_time": "2022-07-08T04:53:30.400Z"
   },
   {
    "duration": 919,
    "start_time": "2022-07-08T04:53:32.057Z"
   },
   {
    "duration": 169,
    "start_time": "2022-07-08T04:53:32.977Z"
   },
   {
    "duration": 591,
    "start_time": "2022-07-08T04:53:33.148Z"
   },
   {
    "duration": 25,
    "start_time": "2022-07-08T04:53:33.741Z"
   },
   {
    "duration": 17,
    "start_time": "2022-07-08T04:53:33.767Z"
   },
   {
    "duration": 221,
    "start_time": "2022-07-08T04:53:33.785Z"
   },
   {
    "duration": 31,
    "start_time": "2022-07-08T04:53:34.008Z"
   },
   {
    "duration": 11,
    "start_time": "2022-07-08T04:53:34.041Z"
   },
   {
    "duration": 5,
    "start_time": "2022-07-08T04:53:34.055Z"
   },
   {
    "duration": 135,
    "start_time": "2022-07-08T04:53:34.061Z"
   },
   {
    "duration": 8,
    "start_time": "2022-07-08T04:53:34.198Z"
   },
   {
    "duration": 50,
    "start_time": "2022-07-08T04:53:34.208Z"
   },
   {
    "duration": 21,
    "start_time": "2022-07-08T04:53:34.260Z"
   },
   {
    "duration": 9,
    "start_time": "2022-07-08T04:53:34.283Z"
   },
   {
    "duration": 8,
    "start_time": "2022-07-08T04:53:34.294Z"
   },
   {
    "duration": 17,
    "start_time": "2022-07-08T04:53:34.327Z"
   },
   {
    "duration": 11,
    "start_time": "2022-07-08T04:53:34.346Z"
   },
   {
    "duration": 15,
    "start_time": "2022-07-08T04:53:34.358Z"
   },
   {
    "duration": 6,
    "start_time": "2022-07-08T04:53:34.375Z"
   },
   {
    "duration": 8,
    "start_time": "2022-07-08T04:53:34.383Z"
   },
   {
    "duration": 6,
    "start_time": "2022-07-08T04:53:34.392Z"
   },
   {
    "duration": 35,
    "start_time": "2022-07-08T04:53:34.399Z"
   },
   {
    "duration": 133,
    "start_time": "2022-07-08T04:53:34.440Z"
   },
   {
    "duration": 110,
    "start_time": "2022-07-08T04:53:34.574Z"
   },
   {
    "duration": 4,
    "start_time": "2022-07-08T04:53:34.686Z"
   },
   {
    "duration": 15,
    "start_time": "2022-07-08T04:53:34.691Z"
   },
   {
    "duration": 41,
    "start_time": "2022-07-08T04:53:34.709Z"
   },
   {
    "duration": 3,
    "start_time": "2022-07-08T04:53:34.752Z"
   },
   {
    "duration": 1005,
    "start_time": "2022-07-08T04:53:34.757Z"
   },
   {
    "duration": 25,
    "start_time": "2022-07-08T04:53:35.765Z"
   },
   {
    "duration": 753,
    "start_time": "2022-07-08T04:53:35.792Z"
   },
   {
    "duration": 908,
    "start_time": "2022-07-08T04:53:36.546Z"
   },
   {
    "duration": 784,
    "start_time": "2022-07-08T04:53:37.456Z"
   },
   {
    "duration": 430,
    "start_time": "2022-07-08T04:53:38.242Z"
   },
   {
    "duration": 567,
    "start_time": "2022-07-08T04:53:38.674Z"
   },
   {
    "duration": 7,
    "start_time": "2022-07-08T04:53:39.242Z"
   },
   {
    "duration": 532,
    "start_time": "2022-07-08T04:53:39.251Z"
   },
   {
    "duration": 550,
    "start_time": "2022-07-08T04:53:39.785Z"
   },
   {
    "duration": 18,
    "start_time": "2022-07-08T04:53:40.337Z"
   },
   {
    "duration": 9,
    "start_time": "2022-07-08T04:53:40.357Z"
   },
   {
    "duration": 653,
    "start_time": "2022-07-08T04:53:40.367Z"
   },
   {
    "duration": 14,
    "start_time": "2022-07-08T04:53:41.024Z"
   },
   {
    "duration": 12,
    "start_time": "2022-07-08T04:53:41.040Z"
   },
   {
    "duration": 21,
    "start_time": "2022-07-08T04:53:41.053Z"
   },
   {
    "duration": 4,
    "start_time": "2022-07-08T04:53:41.076Z"
   },
   {
    "duration": 6,
    "start_time": "2022-07-08T04:53:41.082Z"
   },
   {
    "duration": 8,
    "start_time": "2022-07-08T04:53:41.090Z"
   },
   {
    "duration": 7,
    "start_time": "2022-07-08T04:53:41.100Z"
   },
   {
    "duration": 39,
    "start_time": "2022-07-08T04:53:41.108Z"
   },
   {
    "duration": 4,
    "start_time": "2022-07-08T04:53:41.149Z"
   },
   {
    "duration": 9,
    "start_time": "2022-07-08T04:53:41.154Z"
   },
   {
    "duration": 12,
    "start_time": "2022-07-08T04:53:41.164Z"
   },
   {
    "duration": 10,
    "start_time": "2022-07-08T04:53:41.178Z"
   },
   {
    "duration": 10,
    "start_time": "2022-07-08T04:53:41.189Z"
   },
   {
    "duration": 41,
    "start_time": "2022-07-08T04:53:41.201Z"
   },
   {
    "duration": 4,
    "start_time": "2022-07-08T04:53:41.244Z"
   },
   {
    "duration": 7,
    "start_time": "2022-07-08T04:53:41.250Z"
   },
   {
    "duration": 5,
    "start_time": "2022-07-08T04:53:41.259Z"
   },
   {
    "duration": 7,
    "start_time": "2022-07-08T04:53:41.266Z"
   },
   {
    "duration": 650,
    "start_time": "2022-07-08T04:53:41.274Z"
   },
   {
    "duration": 2023,
    "start_time": "2022-07-08T04:53:41.925Z"
   },
   {
    "duration": 2077,
    "start_time": "2022-07-08T04:53:43.950Z"
   },
   {
    "duration": 130,
    "start_time": "2022-07-08T05:02:20.673Z"
   },
   {
    "duration": 3,
    "start_time": "2022-07-08T05:02:38.794Z"
   },
   {
    "duration": 9,
    "start_time": "2022-07-08T05:02:45.305Z"
   },
   {
    "duration": 3,
    "start_time": "2022-07-08T05:02:52.272Z"
   },
   {
    "duration": 3,
    "start_time": "2022-07-08T05:02:53.087Z"
   },
   {
    "duration": 208867,
    "start_time": "2022-07-08T05:02:53.700Z"
   },
   {
    "duration": 4,
    "start_time": "2022-07-08T05:07:08.817Z"
   },
   {
    "duration": 4,
    "start_time": "2022-07-08T05:07:25.549Z"
   },
   {
    "duration": 58,
    "start_time": "2022-07-08T05:08:09.761Z"
   },
   {
    "duration": 71,
    "start_time": "2022-07-08T05:08:32.250Z"
   },
   {
    "duration": 2,
    "start_time": "2022-07-08T05:09:46.266Z"
   },
   {
    "duration": 136,
    "start_time": "2022-07-08T05:10:49.312Z"
   },
   {
    "duration": 117,
    "start_time": "2022-07-08T05:13:30.279Z"
   },
   {
    "duration": 171,
    "start_time": "2022-07-08T05:14:30.218Z"
   },
   {
    "duration": 501841,
    "start_time": "2022-07-08T05:32:14.640Z"
   },
   {
    "duration": 96,
    "start_time": "2022-07-08T05:40:36.483Z"
   },
   {
    "duration": 0,
    "start_time": "2022-07-08T05:40:36.581Z"
   },
   {
    "duration": 1443,
    "start_time": "2022-07-08T06:17:56.253Z"
   },
   {
    "duration": 283,
    "start_time": "2022-07-08T06:17:57.698Z"
   },
   {
    "duration": 76,
    "start_time": "2022-07-08T06:17:57.982Z"
   },
   {
    "duration": 359,
    "start_time": "2022-07-08T06:17:58.060Z"
   },
   {
    "duration": 32,
    "start_time": "2022-07-08T06:17:58.424Z"
   },
   {
    "duration": 20,
    "start_time": "2022-07-08T06:17:58.458Z"
   },
   {
    "duration": 271,
    "start_time": "2022-07-08T06:17:58.480Z"
   },
   {
    "duration": 23,
    "start_time": "2022-07-08T06:17:58.752Z"
   },
   {
    "duration": 18,
    "start_time": "2022-07-08T06:17:58.777Z"
   },
   {
    "duration": 25,
    "start_time": "2022-07-08T06:17:58.798Z"
   },
   {
    "duration": 162,
    "start_time": "2022-07-08T06:17:58.824Z"
   },
   {
    "duration": 9,
    "start_time": "2022-07-08T06:17:58.988Z"
   },
   {
    "duration": 56,
    "start_time": "2022-07-08T06:17:58.998Z"
   },
   {
    "duration": 19,
    "start_time": "2022-07-08T06:17:59.057Z"
   },
   {
    "duration": 8,
    "start_time": "2022-07-08T06:17:59.077Z"
   },
   {
    "duration": 9,
    "start_time": "2022-07-08T06:17:59.086Z"
   },
   {
    "duration": 10,
    "start_time": "2022-07-08T06:17:59.096Z"
   },
   {
    "duration": 21,
    "start_time": "2022-07-08T06:17:59.123Z"
   },
   {
    "duration": 20,
    "start_time": "2022-07-08T06:17:59.150Z"
   },
   {
    "duration": 5,
    "start_time": "2022-07-08T06:17:59.172Z"
   },
   {
    "duration": 7,
    "start_time": "2022-07-08T06:17:59.178Z"
   },
   {
    "duration": 8,
    "start_time": "2022-07-08T06:17:59.186Z"
   },
   {
    "duration": 23,
    "start_time": "2022-07-08T06:17:59.196Z"
   },
   {
    "duration": 133,
    "start_time": "2022-07-08T06:17:59.224Z"
   },
   {
    "duration": 98,
    "start_time": "2022-07-08T06:17:59.358Z"
   },
   {
    "duration": 5,
    "start_time": "2022-07-08T06:17:59.458Z"
   },
   {
    "duration": 16,
    "start_time": "2022-07-08T06:17:59.464Z"
   },
   {
    "duration": 19,
    "start_time": "2022-07-08T06:17:59.484Z"
   },
   {
    "duration": 3,
    "start_time": "2022-07-08T06:17:59.505Z"
   },
   {
    "duration": 1070,
    "start_time": "2022-07-08T06:17:59.509Z"
   },
   {
    "duration": 27,
    "start_time": "2022-07-08T06:18:00.581Z"
   },
   {
    "duration": 824,
    "start_time": "2022-07-08T06:18:00.609Z"
   },
   {
    "duration": 950,
    "start_time": "2022-07-08T06:18:01.435Z"
   },
   {
    "duration": 820,
    "start_time": "2022-07-08T06:18:02.387Z"
   },
   {
    "duration": 451,
    "start_time": "2022-07-08T06:18:03.209Z"
   },
   {
    "duration": 618,
    "start_time": "2022-07-08T06:18:03.662Z"
   },
   {
    "duration": 7,
    "start_time": "2022-07-08T06:18:04.281Z"
   },
   {
    "duration": 690,
    "start_time": "2022-07-08T06:18:04.290Z"
   },
   {
    "duration": 623,
    "start_time": "2022-07-08T06:18:04.981Z"
   },
   {
    "duration": 33,
    "start_time": "2022-07-08T06:18:05.605Z"
   },
   {
    "duration": 22,
    "start_time": "2022-07-08T06:18:05.641Z"
   },
   {
    "duration": 732,
    "start_time": "2022-07-08T06:18:05.665Z"
   },
   {
    "duration": 4,
    "start_time": "2022-07-08T06:18:06.399Z"
   },
   {
    "duration": 14,
    "start_time": "2022-07-08T06:18:06.404Z"
   },
   {
    "duration": 35,
    "start_time": "2022-07-08T06:18:06.419Z"
   },
   {
    "duration": 18,
    "start_time": "2022-07-08T06:18:06.455Z"
   },
   {
    "duration": 3,
    "start_time": "2022-07-08T06:18:06.474Z"
   },
   {
    "duration": 10,
    "start_time": "2022-07-08T06:18:06.479Z"
   },
   {
    "duration": 7,
    "start_time": "2022-07-08T06:18:06.491Z"
   },
   {
    "duration": 14,
    "start_time": "2022-07-08T06:18:06.500Z"
   },
   {
    "duration": 31,
    "start_time": "2022-07-08T06:18:06.516Z"
   },
   {
    "duration": 14,
    "start_time": "2022-07-08T06:18:06.549Z"
   },
   {
    "duration": 9,
    "start_time": "2022-07-08T06:18:06.565Z"
   },
   {
    "duration": 7,
    "start_time": "2022-07-08T06:18:06.575Z"
   },
   {
    "duration": 8,
    "start_time": "2022-07-08T06:18:06.584Z"
   },
   {
    "duration": 11,
    "start_time": "2022-07-08T06:18:06.594Z"
   },
   {
    "duration": 44,
    "start_time": "2022-07-08T06:18:06.606Z"
   },
   {
    "duration": 6,
    "start_time": "2022-07-08T06:18:06.652Z"
   },
   {
    "duration": 9,
    "start_time": "2022-07-08T06:18:06.659Z"
   },
   {
    "duration": 7,
    "start_time": "2022-07-08T06:18:06.670Z"
   },
   {
    "duration": 7,
    "start_time": "2022-07-08T06:18:06.678Z"
   },
   {
    "duration": 1156,
    "start_time": "2022-07-08T06:18:06.687Z"
   },
   {
    "duration": 2987,
    "start_time": "2022-07-08T06:18:07.845Z"
   },
   {
    "duration": 3899,
    "start_time": "2022-07-08T06:18:10.835Z"
   },
   {
    "duration": 4,
    "start_time": "2022-07-08T06:18:14.742Z"
   },
   {
    "duration": 102,
    "start_time": "2022-07-08T06:18:14.752Z"
   },
   {
    "duration": 202201,
    "start_time": "2022-07-08T06:18:14.859Z"
   },
   {
    "duration": 10,
    "start_time": "2022-07-08T06:21:37.067Z"
   },
   {
    "duration": 157,
    "start_time": "2022-07-08T06:21:37.078Z"
   },
   {
    "duration": 45,
    "start_time": "2022-07-08T20:40:26.946Z"
   },
   {
    "duration": 1501,
    "start_time": "2022-07-08T20:40:32.597Z"
   },
   {
    "duration": 69,
    "start_time": "2022-07-08T20:40:36.044Z"
   },
   {
    "duration": 4,
    "start_time": "2022-07-08T20:40:47.154Z"
   },
   {
    "duration": 3,
    "start_time": "2022-07-08T20:40:50.300Z"
   },
   {
    "duration": 1340,
    "start_time": "2022-07-08T20:43:36.372Z"
   },
   {
    "duration": 975,
    "start_time": "2022-07-08T20:43:37.714Z"
   },
   {
    "duration": 138,
    "start_time": "2022-07-08T20:43:38.691Z"
   },
   {
    "duration": 542,
    "start_time": "2022-07-08T20:43:38.831Z"
   },
   {
    "duration": 26,
    "start_time": "2022-07-08T20:43:39.375Z"
   },
   {
    "duration": 16,
    "start_time": "2022-07-08T20:43:39.402Z"
   },
   {
    "duration": 221,
    "start_time": "2022-07-08T20:43:39.419Z"
   },
   {
    "duration": 30,
    "start_time": "2022-07-08T20:43:39.641Z"
   },
   {
    "duration": 13,
    "start_time": "2022-07-08T20:43:39.672Z"
   },
   {
    "duration": 6,
    "start_time": "2022-07-08T20:43:39.686Z"
   },
   {
    "duration": 159,
    "start_time": "2022-07-08T20:43:39.693Z"
   },
   {
    "duration": 12,
    "start_time": "2022-07-08T20:43:39.854Z"
   },
   {
    "duration": 22,
    "start_time": "2022-07-08T20:43:39.868Z"
   },
   {
    "duration": 18,
    "start_time": "2022-07-08T20:43:39.893Z"
   },
   {
    "duration": 8,
    "start_time": "2022-07-08T20:43:39.912Z"
   },
   {
    "duration": 9,
    "start_time": "2022-07-08T20:43:39.921Z"
   },
   {
    "duration": 35,
    "start_time": "2022-07-08T20:43:39.931Z"
   },
   {
    "duration": 6,
    "start_time": "2022-07-08T20:43:39.967Z"
   },
   {
    "duration": 14,
    "start_time": "2022-07-08T20:43:39.975Z"
   },
   {
    "duration": 5,
    "start_time": "2022-07-08T20:43:39.990Z"
   },
   {
    "duration": 14,
    "start_time": "2022-07-08T20:43:39.996Z"
   },
   {
    "duration": 8,
    "start_time": "2022-07-08T20:43:40.011Z"
   },
   {
    "duration": 40,
    "start_time": "2022-07-08T20:43:40.021Z"
   },
   {
    "duration": 125,
    "start_time": "2022-07-08T20:43:40.063Z"
   },
   {
    "duration": 91,
    "start_time": "2022-07-08T20:43:40.189Z"
   },
   {
    "duration": 4,
    "start_time": "2022-07-08T20:43:40.281Z"
   },
   {
    "duration": 20,
    "start_time": "2022-07-08T20:43:40.286Z"
   },
   {
    "duration": 24,
    "start_time": "2022-07-08T20:43:40.307Z"
   },
   {
    "duration": 8,
    "start_time": "2022-07-08T20:43:40.332Z"
   },
   {
    "duration": 976,
    "start_time": "2022-07-08T20:43:40.341Z"
   },
   {
    "duration": 27,
    "start_time": "2022-07-08T20:43:41.318Z"
   },
   {
    "duration": 717,
    "start_time": "2022-07-08T20:43:41.346Z"
   },
   {
    "duration": 1431,
    "start_time": "2022-07-08T20:43:42.065Z"
   },
   {
    "duration": 910,
    "start_time": "2022-07-08T20:43:43.498Z"
   },
   {
    "duration": 397,
    "start_time": "2022-07-08T20:43:44.410Z"
   },
   {
    "duration": 542,
    "start_time": "2022-07-08T20:43:44.809Z"
   },
   {
    "duration": 10,
    "start_time": "2022-07-08T20:43:45.352Z"
   },
   {
    "duration": 498,
    "start_time": "2022-07-08T20:43:45.364Z"
   },
   {
    "duration": 639,
    "start_time": "2022-07-08T20:43:45.864Z"
   },
   {
    "duration": 18,
    "start_time": "2022-07-08T20:43:46.505Z"
   },
   {
    "duration": 7,
    "start_time": "2022-07-08T20:43:46.527Z"
   },
   {
    "duration": 1134,
    "start_time": "2022-07-08T20:43:46.535Z"
   },
   {
    "duration": 3,
    "start_time": "2022-07-08T20:43:47.671Z"
   },
   {
    "duration": 10,
    "start_time": "2022-07-08T20:43:47.676Z"
   },
   {
    "duration": 5,
    "start_time": "2022-07-08T20:43:47.687Z"
   },
   {
    "duration": 5,
    "start_time": "2022-07-08T20:43:47.693Z"
   },
   {
    "duration": 63,
    "start_time": "2022-07-08T20:43:47.700Z"
   },
   {
    "duration": 3,
    "start_time": "2022-07-08T20:43:47.765Z"
   },
   {
    "duration": 5,
    "start_time": "2022-07-08T20:43:47.769Z"
   },
   {
    "duration": 9,
    "start_time": "2022-07-08T20:43:47.776Z"
   },
   {
    "duration": 7,
    "start_time": "2022-07-08T20:43:47.786Z"
   },
   {
    "duration": 76,
    "start_time": "2022-07-08T20:43:47.794Z"
   },
   {
    "duration": 5,
    "start_time": "2022-07-08T20:43:47.872Z"
   },
   {
    "duration": 7,
    "start_time": "2022-07-08T20:43:47.878Z"
   },
   {
    "duration": 6,
    "start_time": "2022-07-08T20:43:47.887Z"
   },
   {
    "duration": 6,
    "start_time": "2022-07-08T20:43:47.894Z"
   },
   {
    "duration": 8,
    "start_time": "2022-07-08T20:43:47.901Z"
   },
   {
    "duration": 92,
    "start_time": "2022-07-08T20:43:47.911Z"
   },
   {
    "duration": 4,
    "start_time": "2022-07-08T20:43:48.005Z"
   },
   {
    "duration": 4,
    "start_time": "2022-07-08T20:43:48.061Z"
   },
   {
    "duration": 6,
    "start_time": "2022-07-08T20:43:48.066Z"
   },
   {
    "duration": 5,
    "start_time": "2022-07-08T20:43:48.074Z"
   },
   {
    "duration": 789,
    "start_time": "2022-07-08T20:43:48.080Z"
   },
   {
    "duration": 1704,
    "start_time": "2022-07-08T20:43:48.961Z"
   },
   {
    "duration": 1394,
    "start_time": "2022-07-08T20:43:50.667Z"
   },
   {
    "duration": 2,
    "start_time": "2022-07-08T20:43:52.063Z"
   },
   {
    "duration": 13,
    "start_time": "2022-07-08T20:43:52.067Z"
   },
   {
    "duration": 183563,
    "start_time": "2022-07-08T20:43:52.082Z"
   },
   {
    "duration": 4,
    "start_time": "2022-07-08T20:46:55.646Z"
   },
   {
    "duration": 113,
    "start_time": "2022-07-08T20:46:55.660Z"
   },
   {
    "duration": 176,
    "start_time": "2022-07-08T20:46:55.775Z"
   },
   {
    "duration": 0,
    "start_time": "2022-07-08T20:46:55.953Z"
   },
   {
    "duration": 0,
    "start_time": "2022-07-08T20:46:55.954Z"
   },
   {
    "duration": 456715,
    "start_time": "2022-07-08T20:58:23.151Z"
   },
   {
    "duration": 4,
    "start_time": "2022-07-08T21:06:46.891Z"
   },
   {
    "duration": 9,
    "start_time": "2022-07-08T21:08:23.010Z"
   },
   {
    "duration": 69,
    "start_time": "2022-07-08T21:08:42.403Z"
   },
   {
    "duration": 660884,
    "start_time": "2022-07-08T21:11:45.251Z"
   },
   {
    "duration": 5,
    "start_time": "2022-07-08T21:23:10.840Z"
   },
   {
    "duration": 32450,
    "start_time": "2022-07-08T21:24:16.788Z"
   },
   {
    "duration": 11706,
    "start_time": "2022-07-08T21:25:37.581Z"
   },
   {
    "duration": 1884472,
    "start_time": "2022-07-08T21:31:03.174Z"
   },
   {
    "duration": 15,
    "start_time": "2022-07-08T22:02:46.762Z"
   },
   {
    "duration": 95,
    "start_time": "2022-07-08T22:03:20.656Z"
   },
   {
    "duration": 83,
    "start_time": "2022-07-08T22:03:24.606Z"
   },
   {
    "duration": 45609,
    "start_time": "2022-07-08T22:04:15.788Z"
   },
   {
    "duration": 3,
    "start_time": "2022-07-08T22:05:58.250Z"
   },
   {
    "duration": 11982,
    "start_time": "2022-07-08T22:15:04.135Z"
   },
   {
    "duration": 6,
    "start_time": "2022-07-08T22:15:24.199Z"
   },
   {
    "duration": 3,
    "start_time": "2022-07-08T22:17:40.504Z"
   },
   {
    "duration": 3,
    "start_time": "2022-07-08T22:18:09.833Z"
   },
   {
    "duration": 11632,
    "start_time": "2022-07-08T22:18:15.691Z"
   },
   {
    "duration": 4,
    "start_time": "2022-07-08T22:18:29.423Z"
   },
   {
    "duration": 3,
    "start_time": "2022-07-08T22:20:07.280Z"
   },
   {
    "duration": 3,
    "start_time": "2022-07-08T22:20:08.391Z"
   },
   {
    "duration": 11140,
    "start_time": "2022-07-08T22:24:34.081Z"
   },
   {
    "duration": 3,
    "start_time": "2022-07-08T22:24:46.932Z"
   },
   {
    "duration": 41614,
    "start_time": "2022-07-08T22:26:07.942Z"
   },
   {
    "duration": 4,
    "start_time": "2022-07-08T22:26:55.850Z"
   },
   {
    "duration": 2,
    "start_time": "2022-07-08T22:27:48.023Z"
   },
   {
    "duration": 4,
    "start_time": "2022-07-08T22:27:55.216Z"
   },
   {
    "duration": 4,
    "start_time": "2022-07-08T22:28:18.397Z"
   },
   {
    "duration": 1365,
    "start_time": "2022-07-08T22:47:56.241Z"
   },
   {
    "duration": 276,
    "start_time": "2022-07-08T22:47:57.608Z"
   },
   {
    "duration": 68,
    "start_time": "2022-07-08T22:47:57.886Z"
   },
   {
    "duration": 365,
    "start_time": "2022-07-08T22:47:57.956Z"
   },
   {
    "duration": 26,
    "start_time": "2022-07-08T22:47:58.323Z"
   },
   {
    "duration": 26,
    "start_time": "2022-07-08T22:47:58.350Z"
   },
   {
    "duration": 242,
    "start_time": "2022-07-08T22:47:58.378Z"
   },
   {
    "duration": 19,
    "start_time": "2022-07-08T22:47:58.622Z"
   },
   {
    "duration": 37,
    "start_time": "2022-07-08T22:47:58.642Z"
   },
   {
    "duration": 9,
    "start_time": "2022-07-08T22:47:58.685Z"
   },
   {
    "duration": 133,
    "start_time": "2022-07-08T22:47:58.696Z"
   },
   {
    "duration": 8,
    "start_time": "2022-07-08T22:47:58.830Z"
   },
   {
    "duration": 32,
    "start_time": "2022-07-08T22:47:58.840Z"
   },
   {
    "duration": 16,
    "start_time": "2022-07-08T22:47:58.874Z"
   },
   {
    "duration": 8,
    "start_time": "2022-07-08T22:47:58.891Z"
   },
   {
    "duration": 10,
    "start_time": "2022-07-08T22:47:58.900Z"
   },
   {
    "duration": 6,
    "start_time": "2022-07-08T22:47:58.912Z"
   },
   {
    "duration": 6,
    "start_time": "2022-07-08T22:47:58.920Z"
   },
   {
    "duration": 51,
    "start_time": "2022-07-08T22:47:58.928Z"
   },
   {
    "duration": 6,
    "start_time": "2022-07-08T22:47:58.980Z"
   },
   {
    "duration": 6,
    "start_time": "2022-07-08T22:47:58.988Z"
   },
   {
    "duration": 13,
    "start_time": "2022-07-08T22:47:58.995Z"
   },
   {
    "duration": 23,
    "start_time": "2022-07-08T22:47:59.009Z"
   },
   {
    "duration": 121,
    "start_time": "2022-07-08T22:47:59.034Z"
   },
   {
    "duration": 92,
    "start_time": "2022-07-08T22:47:59.157Z"
   },
   {
    "duration": 13,
    "start_time": "2022-07-08T22:47:59.250Z"
   },
   {
    "duration": 14,
    "start_time": "2022-07-08T22:47:59.267Z"
   },
   {
    "duration": 20,
    "start_time": "2022-07-08T22:47:59.285Z"
   },
   {
    "duration": 5,
    "start_time": "2022-07-08T22:47:59.306Z"
   },
   {
    "duration": 999,
    "start_time": "2022-07-08T22:47:59.313Z"
   },
   {
    "duration": 26,
    "start_time": "2022-07-08T22:48:00.314Z"
   },
   {
    "duration": 744,
    "start_time": "2022-07-08T22:48:00.342Z"
   },
   {
    "duration": 843,
    "start_time": "2022-07-08T22:48:01.088Z"
   },
   {
    "duration": 746,
    "start_time": "2022-07-08T22:48:01.932Z"
   },
   {
    "duration": 420,
    "start_time": "2022-07-08T22:48:02.680Z"
   },
   {
    "duration": 544,
    "start_time": "2022-07-08T22:48:03.102Z"
   },
   {
    "duration": 7,
    "start_time": "2022-07-08T22:48:03.647Z"
   },
   {
    "duration": 545,
    "start_time": "2022-07-08T22:48:03.665Z"
   },
   {
    "duration": 610,
    "start_time": "2022-07-08T22:48:04.212Z"
   },
   {
    "duration": 17,
    "start_time": "2022-07-08T22:48:04.824Z"
   },
   {
    "duration": 23,
    "start_time": "2022-07-08T22:48:04.843Z"
   },
   {
    "duration": 706,
    "start_time": "2022-07-08T22:48:04.868Z"
   },
   {
    "duration": 3,
    "start_time": "2022-07-08T22:48:05.577Z"
   },
   {
    "duration": 17,
    "start_time": "2022-07-08T22:48:05.582Z"
   },
   {
    "duration": 112,
    "start_time": "2022-07-08T22:48:05.600Z"
   },
   {
    "duration": 0,
    "start_time": "2022-07-08T22:48:05.713Z"
   },
   {
    "duration": 0,
    "start_time": "2022-07-08T22:48:05.714Z"
   },
   {
    "duration": 0,
    "start_time": "2022-07-08T22:48:05.715Z"
   },
   {
    "duration": 0,
    "start_time": "2022-07-08T22:48:05.717Z"
   },
   {
    "duration": 0,
    "start_time": "2022-07-08T22:48:05.717Z"
   },
   {
    "duration": 0,
    "start_time": "2022-07-08T22:48:05.718Z"
   },
   {
    "duration": 0,
    "start_time": "2022-07-08T22:48:05.719Z"
   },
   {
    "duration": 0,
    "start_time": "2022-07-08T22:48:05.720Z"
   },
   {
    "duration": 0,
    "start_time": "2022-07-08T22:48:05.721Z"
   },
   {
    "duration": 0,
    "start_time": "2022-07-08T22:48:05.722Z"
   },
   {
    "duration": 0,
    "start_time": "2022-07-08T22:48:05.723Z"
   },
   {
    "duration": 0,
    "start_time": "2022-07-08T22:48:05.724Z"
   },
   {
    "duration": 0,
    "start_time": "2022-07-08T22:48:05.725Z"
   },
   {
    "duration": 0,
    "start_time": "2022-07-08T22:48:05.726Z"
   },
   {
    "duration": 0,
    "start_time": "2022-07-08T22:48:05.728Z"
   },
   {
    "duration": 0,
    "start_time": "2022-07-08T22:48:05.729Z"
   },
   {
    "duration": 0,
    "start_time": "2022-07-08T22:48:05.730Z"
   },
   {
    "duration": 0,
    "start_time": "2022-07-08T22:48:05.731Z"
   },
   {
    "duration": 0,
    "start_time": "2022-07-08T22:48:05.767Z"
   },
   {
    "duration": 0,
    "start_time": "2022-07-08T22:48:05.768Z"
   },
   {
    "duration": 0,
    "start_time": "2022-07-08T22:48:05.771Z"
   },
   {
    "duration": 0,
    "start_time": "2022-07-08T22:48:05.772Z"
   },
   {
    "duration": 0,
    "start_time": "2022-07-08T22:48:05.775Z"
   },
   {
    "duration": 0,
    "start_time": "2022-07-08T22:48:05.776Z"
   },
   {
    "duration": 0,
    "start_time": "2022-07-08T22:48:05.777Z"
   },
   {
    "duration": 0,
    "start_time": "2022-07-08T22:48:05.778Z"
   },
   {
    "duration": 0,
    "start_time": "2022-07-08T22:48:05.779Z"
   },
   {
    "duration": 0,
    "start_time": "2022-07-08T22:48:05.781Z"
   },
   {
    "duration": 0,
    "start_time": "2022-07-08T22:48:05.781Z"
   },
   {
    "duration": 0,
    "start_time": "2022-07-08T22:48:05.782Z"
   },
   {
    "duration": 0,
    "start_time": "2022-07-08T22:48:05.783Z"
   },
   {
    "duration": 1,
    "start_time": "2022-07-08T22:48:05.784Z"
   },
   {
    "duration": 0,
    "start_time": "2022-07-08T22:48:05.785Z"
   },
   {
    "duration": 0,
    "start_time": "2022-07-08T22:48:05.786Z"
   },
   {
    "duration": 0,
    "start_time": "2022-07-08T22:48:05.787Z"
   },
   {
    "duration": 0,
    "start_time": "2022-07-08T22:48:05.788Z"
   },
   {
    "duration": 0,
    "start_time": "2022-07-08T22:48:05.789Z"
   },
   {
    "duration": 1446,
    "start_time": "2022-07-08T22:48:29.741Z"
   },
   {
    "duration": 278,
    "start_time": "2022-07-08T22:48:31.190Z"
   },
   {
    "duration": 73,
    "start_time": "2022-07-08T22:48:31.470Z"
   },
   {
    "duration": 355,
    "start_time": "2022-07-08T22:48:31.545Z"
   },
   {
    "duration": 29,
    "start_time": "2022-07-08T22:48:31.902Z"
   },
   {
    "duration": 32,
    "start_time": "2022-07-08T22:48:31.932Z"
   },
   {
    "duration": 230,
    "start_time": "2022-07-08T22:48:31.966Z"
   },
   {
    "duration": 26,
    "start_time": "2022-07-08T22:48:32.198Z"
   },
   {
    "duration": 15,
    "start_time": "2022-07-08T22:48:32.226Z"
   },
   {
    "duration": 5,
    "start_time": "2022-07-08T22:48:32.260Z"
   },
   {
    "duration": 136,
    "start_time": "2022-07-08T22:48:32.267Z"
   },
   {
    "duration": 9,
    "start_time": "2022-07-08T22:48:32.405Z"
   },
   {
    "duration": 29,
    "start_time": "2022-07-08T22:48:32.416Z"
   },
   {
    "duration": 27,
    "start_time": "2022-07-08T22:48:32.447Z"
   },
   {
    "duration": 8,
    "start_time": "2022-07-08T22:48:32.476Z"
   },
   {
    "duration": 13,
    "start_time": "2022-07-08T22:48:32.486Z"
   },
   {
    "duration": 12,
    "start_time": "2022-07-08T22:48:32.501Z"
   },
   {
    "duration": 6,
    "start_time": "2022-07-08T22:48:32.515Z"
   },
   {
    "duration": 44,
    "start_time": "2022-07-08T22:48:32.523Z"
   },
   {
    "duration": 5,
    "start_time": "2022-07-08T22:48:32.569Z"
   },
   {
    "duration": 9,
    "start_time": "2022-07-08T22:48:32.576Z"
   },
   {
    "duration": 7,
    "start_time": "2022-07-08T22:48:32.587Z"
   },
   {
    "duration": 22,
    "start_time": "2022-07-08T22:48:32.596Z"
   },
   {
    "duration": 142,
    "start_time": "2022-07-08T22:48:32.620Z"
   },
   {
    "duration": 85,
    "start_time": "2022-07-08T22:48:32.764Z"
   },
   {
    "duration": 5,
    "start_time": "2022-07-08T22:48:32.860Z"
   },
   {
    "duration": 15,
    "start_time": "2022-07-08T22:48:32.866Z"
   },
   {
    "duration": 20,
    "start_time": "2022-07-08T22:48:32.885Z"
   },
   {
    "duration": 4,
    "start_time": "2022-07-08T22:48:32.906Z"
   },
   {
    "duration": 931,
    "start_time": "2022-07-08T22:48:32.911Z"
   },
   {
    "duration": 29,
    "start_time": "2022-07-08T22:48:33.844Z"
   },
   {
    "duration": 662,
    "start_time": "2022-07-08T22:48:33.875Z"
   },
   {
    "duration": 815,
    "start_time": "2022-07-08T22:48:34.539Z"
   },
   {
    "duration": 695,
    "start_time": "2022-07-08T22:48:35.356Z"
   },
   {
    "duration": 455,
    "start_time": "2022-07-08T22:48:36.053Z"
   },
   {
    "duration": 526,
    "start_time": "2022-07-08T22:48:36.510Z"
   },
   {
    "duration": 6,
    "start_time": "2022-07-08T22:48:37.037Z"
   },
   {
    "duration": 507,
    "start_time": "2022-07-08T22:48:37.045Z"
   },
   {
    "duration": 549,
    "start_time": "2022-07-08T22:48:37.554Z"
   },
   {
    "duration": 17,
    "start_time": "2022-07-08T22:48:38.105Z"
   },
   {
    "duration": 6,
    "start_time": "2022-07-08T22:48:38.124Z"
   },
   {
    "duration": 642,
    "start_time": "2022-07-08T22:48:38.132Z"
   },
   {
    "duration": 4,
    "start_time": "2022-07-08T22:48:38.776Z"
   },
   {
    "duration": 10,
    "start_time": "2022-07-08T22:48:38.781Z"
   },
   {
    "duration": 5,
    "start_time": "2022-07-08T22:48:38.792Z"
   },
   {
    "duration": 16,
    "start_time": "2022-07-08T22:48:38.799Z"
   },
   {
    "duration": 4,
    "start_time": "2022-07-08T22:48:38.817Z"
   },
   {
    "duration": 5,
    "start_time": "2022-07-08T22:48:38.823Z"
   },
   {
    "duration": 6,
    "start_time": "2022-07-08T22:48:38.830Z"
   },
   {
    "duration": 24,
    "start_time": "2022-07-08T22:48:38.837Z"
   },
   {
    "duration": 22,
    "start_time": "2022-07-08T22:48:38.863Z"
   },
   {
    "duration": 6,
    "start_time": "2022-07-08T22:48:38.887Z"
   },
   {
    "duration": 9,
    "start_time": "2022-07-08T22:48:38.894Z"
   },
   {
    "duration": 9,
    "start_time": "2022-07-08T22:48:38.905Z"
   },
   {
    "duration": 8,
    "start_time": "2022-07-08T22:48:38.916Z"
   },
   {
    "duration": 7,
    "start_time": "2022-07-08T22:48:38.926Z"
   },
   {
    "duration": 51,
    "start_time": "2022-07-08T22:48:38.935Z"
   },
   {
    "duration": 4,
    "start_time": "2022-07-08T22:48:38.988Z"
   },
   {
    "duration": 5,
    "start_time": "2022-07-08T22:48:38.994Z"
   },
   {
    "duration": 7,
    "start_time": "2022-07-08T22:48:39.000Z"
   },
   {
    "duration": 5,
    "start_time": "2022-07-08T22:48:39.009Z"
   },
   {
    "duration": 748,
    "start_time": "2022-07-08T22:48:39.016Z"
   },
   {
    "duration": 1197,
    "start_time": "2022-07-08T22:48:39.766Z"
   },
   {
    "duration": 1496,
    "start_time": "2022-07-08T22:48:40.965Z"
   },
   {
    "duration": 3,
    "start_time": "2022-07-08T22:48:42.463Z"
   },
   {
    "duration": 94,
    "start_time": "2022-07-08T22:48:42.467Z"
   },
   {
    "duration": 182933,
    "start_time": "2022-07-08T22:48:42.563Z"
   },
   {
    "duration": 3,
    "start_time": "2022-07-08T22:51:45.498Z"
   },
   {
    "duration": 132,
    "start_time": "2022-07-08T22:51:45.503Z"
   },
   {
    "duration": 439887,
    "start_time": "2022-07-08T22:51:45.636Z"
   },
   {
    "duration": 71,
    "start_time": "2022-07-08T22:59:05.524Z"
   },
   {
    "duration": 642210,
    "start_time": "2022-07-08T22:59:05.597Z"
   },
   {
    "duration": 5,
    "start_time": "2022-07-08T23:09:47.809Z"
   },
   {
    "duration": 11278,
    "start_time": "2022-07-08T23:09:47.815Z"
   },
   {
    "duration": 1821712,
    "start_time": "2022-07-08T23:09:59.094Z"
   },
   {
    "duration": 4,
    "start_time": "2022-07-08T23:40:20.807Z"
   },
   {
    "duration": 42011,
    "start_time": "2022-07-08T23:40:20.813Z"
   },
   {
    "duration": 11950,
    "start_time": "2022-07-08T23:41:02.825Z"
   },
   {
    "duration": 4,
    "start_time": "2022-07-08T23:41:14.777Z"
   },
   {
    "duration": 41867,
    "start_time": "2022-07-08T23:41:14.782Z"
   },
   {
    "duration": 3,
    "start_time": "2022-07-08T23:41:56.651Z"
   },
   {
    "duration": 19,
    "start_time": "2022-07-08T23:41:56.664Z"
   },
   {
    "duration": 3655,
    "start_time": "2022-07-09T08:13:44.129Z"
   },
   {
    "duration": 2264,
    "start_time": "2022-07-09T08:13:47.786Z"
   },
   {
    "duration": 677,
    "start_time": "2022-07-09T08:13:50.059Z"
   },
   {
    "duration": 3187,
    "start_time": "2022-07-09T08:13:50.744Z"
   },
   {
    "duration": 42,
    "start_time": "2022-07-09T08:13:53.940Z"
   },
   {
    "duration": 32,
    "start_time": "2022-07-09T08:13:53.983Z"
   },
   {
    "duration": 322,
    "start_time": "2022-07-09T08:13:54.021Z"
   },
   {
    "duration": 28,
    "start_time": "2022-07-09T08:13:54.350Z"
   },
   {
    "duration": 23,
    "start_time": "2022-07-09T08:13:54.380Z"
   },
   {
    "duration": 19,
    "start_time": "2022-07-09T08:13:54.406Z"
   },
   {
    "duration": 222,
    "start_time": "2022-07-09T08:13:54.427Z"
   },
   {
    "duration": 10,
    "start_time": "2022-07-09T08:13:54.651Z"
   },
   {
    "duration": 50,
    "start_time": "2022-07-09T08:13:54.662Z"
   },
   {
    "duration": 69,
    "start_time": "2022-07-09T08:13:54.715Z"
   },
   {
    "duration": 9,
    "start_time": "2022-07-09T08:13:54.786Z"
   },
   {
    "duration": 69,
    "start_time": "2022-07-09T08:13:54.797Z"
   },
   {
    "duration": 11,
    "start_time": "2022-07-09T08:13:54.867Z"
   },
   {
    "duration": 7,
    "start_time": "2022-07-09T08:13:54.880Z"
   },
   {
    "duration": 26,
    "start_time": "2022-07-09T08:13:54.889Z"
   },
   {
    "duration": 50,
    "start_time": "2022-07-09T08:13:54.923Z"
   },
   {
    "duration": 10,
    "start_time": "2022-07-09T08:13:54.975Z"
   },
   {
    "duration": 18,
    "start_time": "2022-07-09T08:13:54.987Z"
   },
   {
    "duration": 82,
    "start_time": "2022-07-09T08:13:55.008Z"
   },
   {
    "duration": 162,
    "start_time": "2022-07-09T08:13:55.091Z"
   },
   {
    "duration": 114,
    "start_time": "2022-07-09T08:13:55.257Z"
   },
   {
    "duration": 4,
    "start_time": "2022-07-09T08:13:55.372Z"
   },
   {
    "duration": 23,
    "start_time": "2022-07-09T08:13:55.378Z"
   },
   {
    "duration": 30,
    "start_time": "2022-07-09T08:13:55.414Z"
   },
   {
    "duration": 17,
    "start_time": "2022-07-09T08:13:55.451Z"
   },
   {
    "duration": 1440,
    "start_time": "2022-07-09T08:13:55.470Z"
   },
   {
    "duration": 38,
    "start_time": "2022-07-09T08:13:56.912Z"
   },
   {
    "duration": 1057,
    "start_time": "2022-07-09T08:13:56.953Z"
   },
   {
    "duration": 1136,
    "start_time": "2022-07-09T08:13:58.012Z"
   },
   {
    "duration": 984,
    "start_time": "2022-07-09T08:13:59.150Z"
   },
   {
    "duration": 549,
    "start_time": "2022-07-09T08:14:00.136Z"
   },
   {
    "duration": 1561,
    "start_time": "2022-07-09T20:44:18.611Z"
   },
   {
    "duration": 823,
    "start_time": "2022-07-09T20:44:24.747Z"
   },
   {
    "duration": 140,
    "start_time": "2022-07-09T20:44:26.056Z"
   },
   {
    "duration": 609,
    "start_time": "2022-07-09T20:44:26.873Z"
   },
   {
    "duration": 30,
    "start_time": "2022-07-09T20:44:28.891Z"
   },
   {
    "duration": 18,
    "start_time": "2022-07-09T20:44:35.604Z"
   },
   {
    "duration": 233,
    "start_time": "2022-07-09T20:45:06.771Z"
   },
   {
    "duration": 25,
    "start_time": "2022-07-09T20:45:12.251Z"
   },
   {
    "duration": 14,
    "start_time": "2022-07-09T20:45:16.054Z"
   },
   {
    "duration": 6,
    "start_time": "2022-07-09T20:45:19.914Z"
   },
   {
    "duration": 121,
    "start_time": "2022-07-09T20:45:24.858Z"
   },
   {
    "duration": 9,
    "start_time": "2022-07-09T20:45:29.861Z"
   },
   {
    "duration": 22,
    "start_time": "2022-07-09T20:45:36.087Z"
   },
   {
    "duration": 17,
    "start_time": "2022-07-09T20:45:39.953Z"
   },
   {
    "duration": 10,
    "start_time": "2022-07-09T20:46:00.075Z"
   },
   {
    "duration": 10,
    "start_time": "2022-07-09T20:46:00.871Z"
   },
   {
    "duration": 7,
    "start_time": "2022-07-09T20:46:03.655Z"
   },
   {
    "duration": 9,
    "start_time": "2022-07-09T21:14:16.613Z"
   },
   {
    "duration": 32,
    "start_time": "2022-07-09T21:14:25.511Z"
   },
   {
    "duration": 5,
    "start_time": "2022-07-09T21:14:26.049Z"
   },
   {
    "duration": 5,
    "start_time": "2022-07-09T21:14:30.906Z"
   },
   {
    "duration": 5,
    "start_time": "2022-07-09T21:15:12.709Z"
   },
   {
    "duration": 20,
    "start_time": "2022-07-09T21:15:16.753Z"
   },
   {
    "duration": 143,
    "start_time": "2022-07-09T21:15:17.221Z"
   },
   {
    "duration": 86,
    "start_time": "2022-07-09T21:15:17.703Z"
   },
   {
    "duration": 4,
    "start_time": "2022-07-09T21:15:22.979Z"
   },
   {
    "duration": 15,
    "start_time": "2022-07-09T21:15:23.687Z"
   },
   {
    "duration": 22,
    "start_time": "2022-07-09T21:15:26.661Z"
   },
   {
    "duration": 4,
    "start_time": "2022-07-09T21:15:30.793Z"
   },
   {
    "duration": 1055,
    "start_time": "2022-07-09T21:15:44.449Z"
   },
   {
    "duration": 25,
    "start_time": "2022-07-09T21:15:47.984Z"
   },
   {
    "duration": 770,
    "start_time": "2022-07-09T21:16:04.048Z"
   },
   {
    "duration": 625,
    "start_time": "2022-07-09T21:17:50.006Z"
   },
   {
    "duration": 618,
    "start_time": "2022-07-09T21:18:32.236Z"
   },
   {
    "duration": 550,
    "start_time": "2022-07-09T21:22:55.021Z"
   },
   {
    "duration": 779,
    "start_time": "2022-07-09T21:23:09.276Z"
   },
   {
    "duration": 522,
    "start_time": "2022-07-09T21:23:32.003Z"
   },
   {
    "duration": 510,
    "start_time": "2022-07-09T21:24:58.194Z"
   },
   {
    "duration": 888,
    "start_time": "2022-07-09T21:27:34.328Z"
   },
   {
    "duration": 494,
    "start_time": "2022-07-09T21:28:17.468Z"
   },
   {
    "duration": 645,
    "start_time": "2022-07-09T21:29:14.735Z"
   },
   {
    "duration": 528,
    "start_time": "2022-07-09T21:29:23.680Z"
   },
   {
    "duration": 509,
    "start_time": "2022-07-09T21:29:38.715Z"
   },
   {
    "duration": 567,
    "start_time": "2022-07-09T21:31:08.497Z"
   },
   {
    "duration": 394,
    "start_time": "2022-07-09T21:31:37.581Z"
   },
   {
    "duration": 399,
    "start_time": "2022-07-09T21:33:45.876Z"
   },
   {
    "duration": 464,
    "start_time": "2022-07-09T21:33:46.400Z"
   },
   {
    "duration": 1510,
    "start_time": "2022-07-10T03:34:28.184Z"
   },
   {
    "duration": 765,
    "start_time": "2022-07-10T03:34:33.620Z"
   },
   {
    "duration": 117,
    "start_time": "2022-07-10T03:34:34.388Z"
   },
   {
    "duration": 493,
    "start_time": "2022-07-10T03:34:34.506Z"
   },
   {
    "duration": 29,
    "start_time": "2022-07-10T03:34:38.350Z"
   },
   {
    "duration": 18,
    "start_time": "2022-07-10T03:34:41.710Z"
   },
   {
    "duration": 213,
    "start_time": "2022-07-10T03:34:46.803Z"
   },
   {
    "duration": 23,
    "start_time": "2022-07-10T03:34:50.008Z"
   },
   {
    "duration": 12,
    "start_time": "2022-07-10T03:34:56.202Z"
   },
   {
    "duration": 4,
    "start_time": "2022-07-10T03:35:00.314Z"
   },
   {
    "duration": 118,
    "start_time": "2022-07-10T03:35:03.647Z"
   },
   {
    "duration": 9,
    "start_time": "2022-07-10T03:35:13.666Z"
   },
   {
    "duration": 23,
    "start_time": "2022-07-10T03:35:17.011Z"
   },
   {
    "duration": 20,
    "start_time": "2022-07-10T03:35:22.076Z"
   },
   {
    "duration": 9,
    "start_time": "2022-07-10T03:35:25.715Z"
   },
   {
    "duration": 8,
    "start_time": "2022-07-10T03:35:27.647Z"
   },
   {
    "duration": 8,
    "start_time": "2022-07-10T03:35:28.151Z"
   },
   {
    "duration": 8,
    "start_time": "2022-07-10T03:35:31.269Z"
   },
   {
    "duration": 13,
    "start_time": "2022-07-10T03:35:36.524Z"
   },
   {
    "duration": 5,
    "start_time": "2022-07-10T03:35:38.111Z"
   },
   {
    "duration": 6,
    "start_time": "2022-07-10T03:35:41.319Z"
   },
   {
    "duration": 5,
    "start_time": "2022-07-10T03:35:47.948Z"
   },
   {
    "duration": 23,
    "start_time": "2022-07-10T03:35:53.524Z"
   },
   {
    "duration": 115,
    "start_time": "2022-07-10T03:35:54.426Z"
   },
   {
    "duration": 86,
    "start_time": "2022-07-10T03:35:55.008Z"
   },
   {
    "duration": 4,
    "start_time": "2022-07-10T03:36:00.780Z"
   },
   {
    "duration": 13,
    "start_time": "2022-07-10T03:36:01.746Z"
   },
   {
    "duration": 20,
    "start_time": "2022-07-10T03:36:04.861Z"
   },
   {
    "duration": 4,
    "start_time": "2022-07-10T03:36:06.011Z"
   },
   {
    "duration": 952,
    "start_time": "2022-07-10T03:36:12.076Z"
   },
   {
    "duration": 26,
    "start_time": "2022-07-10T03:36:16.206Z"
   },
   {
    "duration": 687,
    "start_time": "2022-07-10T03:36:21.758Z"
   },
   {
    "duration": 616,
    "start_time": "2022-07-10T03:36:28.183Z"
   },
   {
    "duration": 747,
    "start_time": "2022-07-10T03:36:51.624Z"
   },
   {
    "duration": 766,
    "start_time": "2022-07-10T03:36:55.216Z"
   },
   {
    "duration": 671,
    "start_time": "2022-07-10T03:37:02.638Z"
   },
   {
    "duration": 482,
    "start_time": "2022-07-10T03:37:15.084Z"
   },
   {
    "duration": 397,
    "start_time": "2022-07-10T03:37:18.756Z"
   },
   {
    "duration": 564,
    "start_time": "2022-07-10T03:37:21.696Z"
   },
   {
    "duration": 4,
    "start_time": "2022-07-10T03:38:50.282Z"
   },
   {
    "duration": 4,
    "start_time": "2022-07-10T03:39:45.766Z"
   },
   {
    "duration": 4,
    "start_time": "2022-07-10T03:41:02.796Z"
   },
   {
    "duration": 8,
    "start_time": "2022-07-10T03:41:22.570Z"
   },
   {
    "duration": 625,
    "start_time": "2022-07-10T03:42:16.823Z"
   },
   {
    "duration": 682,
    "start_time": "2022-07-10T03:42:34.555Z"
   },
   {
    "duration": 572,
    "start_time": "2022-07-10T03:46:04.710Z"
   },
   {
    "duration": 654,
    "start_time": "2022-07-10T03:46:17.391Z"
   },
   {
    "duration": 18,
    "start_time": "2022-07-10T03:46:23.189Z"
   },
   {
    "duration": 7,
    "start_time": "2022-07-10T03:46:24.144Z"
   },
   {
    "duration": 772,
    "start_time": "2022-07-10T03:46:31.941Z"
   },
   {
    "duration": 3,
    "start_time": "2022-07-10T03:46:39.175Z"
   },
   {
    "duration": 3,
    "start_time": "2022-07-10T03:46:41.779Z"
   },
   {
    "duration": 2,
    "start_time": "2022-07-10T03:46:49.613Z"
   },
   {
    "duration": 2,
    "start_time": "2022-07-10T03:47:04.936Z"
   },
   {
    "duration": 13,
    "start_time": "2022-07-10T03:47:16.508Z"
   },
   {
    "duration": 3,
    "start_time": "2022-07-10T04:17:17.748Z"
   },
   {
    "duration": 4,
    "start_time": "2022-07-10T04:17:25.196Z"
   },
   {
    "duration": 3,
    "start_time": "2022-07-10T04:17:29.278Z"
   },
   {
    "duration": 5,
    "start_time": "2022-07-10T04:17:30.753Z"
   },
   {
    "duration": 20,
    "start_time": "2022-07-10T04:17:31.350Z"
   },
   {
    "duration": 4,
    "start_time": "2022-07-10T04:17:31.920Z"
   },
   {
    "duration": 6,
    "start_time": "2022-07-10T04:17:33.373Z"
   },
   {
    "duration": 4,
    "start_time": "2022-07-10T04:17:33.842Z"
   },
   {
    "duration": 5,
    "start_time": "2022-07-10T04:17:38.957Z"
   },
   {
    "duration": 5,
    "start_time": "2022-07-10T04:17:39.659Z"
   },
   {
    "duration": 25,
    "start_time": "2022-07-10T04:17:40.401Z"
   },
   {
    "duration": 4,
    "start_time": "2022-07-10T04:17:41.541Z"
   },
   {
    "duration": 4,
    "start_time": "2022-07-10T04:17:42.189Z"
   },
   {
    "duration": 4,
    "start_time": "2022-07-10T04:17:42.618Z"
   },
   {
    "duration": 4,
    "start_time": "2022-07-10T04:17:43.022Z"
   },
   {
    "duration": 115,
    "start_time": "2022-07-10T04:18:56.477Z"
   },
   {
    "duration": 888,
    "start_time": "2022-07-10T04:19:15.019Z"
   },
   {
    "duration": 783,
    "start_time": "2022-07-10T04:21:09.226Z"
   },
   {
    "duration": 1134,
    "start_time": "2022-07-10T04:21:30.078Z"
   },
   {
    "duration": 1311,
    "start_time": "2022-07-10T04:21:51.496Z"
   },
   {
    "duration": 2,
    "start_time": "2022-07-10T04:24:15.019Z"
   },
   {
    "duration": 3,
    "start_time": "2022-07-10T04:24:15.512Z"
   },
   {
    "duration": 2250,
    "start_time": "2022-07-10T04:26:06.434Z"
   },
   {
    "duration": 2202,
    "start_time": "2022-07-10T04:26:32.458Z"
   },
   {
    "duration": 172698,
    "start_time": "2022-07-10T04:26:36.908Z"
   },
   {
    "duration": 5,
    "start_time": "2022-07-10T04:30:35.166Z"
   },
   {
    "duration": 82,
    "start_time": "2022-07-10T04:32:26.303Z"
   },
   {
    "duration": 78,
    "start_time": "2022-07-10T04:33:09.437Z"
   },
   {
    "duration": 421094,
    "start_time": "2022-07-10T04:34:06.151Z"
   },
   {
    "duration": 64,
    "start_time": "2022-07-10T04:43:01.222Z"
   },
   {
    "duration": 620345,
    "start_time": "2022-07-10T04:50:00.917Z"
   },
   {
    "duration": 5,
    "start_time": "2022-07-10T05:00:47.089Z"
   },
   {
    "duration": 8002,
    "start_time": "2022-07-10T05:01:12.453Z"
   },
   {
    "duration": 1725702,
    "start_time": "2022-07-10T05:03:54.800Z"
   },
   {
    "duration": 4,
    "start_time": "2022-07-10T05:32:59.851Z"
   },
   {
    "duration": 5,
    "start_time": "2022-07-10T05:34:46.775Z"
   },
   {
    "duration": 39355,
    "start_time": "2022-07-10T05:35:36.260Z"
   },
   {
    "duration": 169,
    "start_time": "2022-07-10T05:37:01.422Z"
   },
   {
    "duration": 7937,
    "start_time": "2022-07-10T05:37:27.853Z"
   },
   {
    "duration": 38196,
    "start_time": "2022-07-10T05:37:56.221Z"
   },
   {
    "duration": 4,
    "start_time": "2022-07-10T05:39:33.723Z"
   },
   {
    "duration": 4,
    "start_time": "2022-07-10T05:39:34.475Z"
   },
   {
    "duration": 4,
    "start_time": "2022-07-10T05:39:37.589Z"
   },
   {
    "duration": 9,
    "start_time": "2022-07-10T05:46:20.763Z"
   },
   {
    "duration": 5,
    "start_time": "2022-07-10T05:46:26.313Z"
   }
  ],
  "kernelspec": {
   "display_name": "Python 3",
   "language": "python",
   "name": "python3"
  },
  "language_info": {
   "codemirror_mode": {
    "name": "ipython",
    "version": 3
   },
   "file_extension": ".py",
   "mimetype": "text/x-python",
   "name": "python",
   "nbconvert_exporter": "python",
   "pygments_lexer": "ipython3",
   "version": "3.8.8"
  },
  "toc": {
   "base_numbering": 1,
   "nav_menu": {},
   "number_sections": true,
   "sideBar": true,
   "skip_h1_title": true,
   "title_cell": "Содержание",
   "title_sidebar": "Contents",
   "toc_cell": true,
   "toc_position": {
    "height": "calc(100% - 180px)",
    "left": "10px",
    "top": "150px",
    "width": "165px"
   },
   "toc_section_display": true,
   "toc_window_display": true
  }
 },
 "nbformat": 4,
 "nbformat_minor": 2
}
