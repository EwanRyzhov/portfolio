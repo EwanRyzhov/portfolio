{
 "cells": [
  {
   "cell_type": "markdown",
   "metadata": {},
   "source": [
    "# Исследование объявлений о продаже квартир\n",
    "\n",
    "В данном исследовании анализируются данные сервиса Яндекс Недвижимость — точнее, архив объявлений о продаже квартир в Санкт-Петербурге и соседних населенных пунктах. Цель исследования — подготовить данные, так чтобы на их основе можно было научить модель определять примерную рыночную стоимость объектов недвижимости: она отследит аномалии и мошенническую деятельность. В работе мы установим параметры, которые влияют на цену. \n",
    "\n",
    "По каждому объекту недвижимости на продажу доступны два вида данных. Первые вписаны пользователем, вторые получены автоматически на основе картографических данных: например, расстояние до центра, аэропорта, ближайшего парка и водоёма. "
   ]
  },
  {
   "cell_type": "markdown",
   "metadata": {},
   "source": [
    "## Изучение данных из файла"
   ]
  },
  {
   "cell_type": "markdown",
   "metadata": {},
   "source": [
    "### Импорт библиотек"
   ]
  },
  {
   "cell_type": "code",
   "execution_count": 1,
   "metadata": {},
   "outputs": [],
   "source": [
    "import pandas as pd\n",
    "\n",
    "import seaborn as sns \n",
    "\n",
    "from matplotlib import pyplot as plt"
   ]
  },
  {
   "cell_type": "markdown",
   "metadata": {},
   "source": [
    "### Загрузка датасета"
   ]
  },
  {
   "cell_type": "code",
   "execution_count": 2,
   "metadata": {},
   "outputs": [],
   "source": [
    "df = pd.read_csv('real_estate_data.csv', sep='\\t') #сохраняем датасет в переменную df"
   ]
  },
  {
   "cell_type": "markdown",
   "metadata": {},
   "source": [
    "Для начала посмотрим на общий вид таблицы. Для этого выведем ее первые десять строк."
   ]
  },
  {
   "cell_type": "code",
   "execution_count": 3,
   "metadata": {},
   "outputs": [
    {
     "data": {
      "text/html": [
       "<div>\n",
       "<style scoped>\n",
       "    .dataframe tbody tr th:only-of-type {\n",
       "        vertical-align: middle;\n",
       "    }\n",
       "\n",
       "    .dataframe tbody tr th {\n",
       "        vertical-align: top;\n",
       "    }\n",
       "\n",
       "    .dataframe thead th {\n",
       "        text-align: right;\n",
       "    }\n",
       "</style>\n",
       "<table border=\"1\" class=\"dataframe\">\n",
       "  <thead>\n",
       "    <tr style=\"text-align: right;\">\n",
       "      <th></th>\n",
       "      <th>total_images</th>\n",
       "      <th>last_price</th>\n",
       "      <th>total_area</th>\n",
       "      <th>first_day_exposition</th>\n",
       "      <th>rooms</th>\n",
       "      <th>ceiling_height</th>\n",
       "      <th>floors_total</th>\n",
       "      <th>living_area</th>\n",
       "      <th>floor</th>\n",
       "      <th>is_apartment</th>\n",
       "      <th>...</th>\n",
       "      <th>kitchen_area</th>\n",
       "      <th>balcony</th>\n",
       "      <th>locality_name</th>\n",
       "      <th>airports_nearest</th>\n",
       "      <th>cityCenters_nearest</th>\n",
       "      <th>parks_around3000</th>\n",
       "      <th>parks_nearest</th>\n",
       "      <th>ponds_around3000</th>\n",
       "      <th>ponds_nearest</th>\n",
       "      <th>days_exposition</th>\n",
       "    </tr>\n",
       "  </thead>\n",
       "  <tbody>\n",
       "    <tr>\n",
       "      <th>0</th>\n",
       "      <td>20</td>\n",
       "      <td>13000000.0</td>\n",
       "      <td>108.00</td>\n",
       "      <td>2019-03-07T00:00:00</td>\n",
       "      <td>3</td>\n",
       "      <td>2.70</td>\n",
       "      <td>16.0</td>\n",
       "      <td>51.00</td>\n",
       "      <td>8</td>\n",
       "      <td>NaN</td>\n",
       "      <td>...</td>\n",
       "      <td>25.00</td>\n",
       "      <td>NaN</td>\n",
       "      <td>Санкт-Петербург</td>\n",
       "      <td>18863.0</td>\n",
       "      <td>16028.0</td>\n",
       "      <td>1.0</td>\n",
       "      <td>482.0</td>\n",
       "      <td>2.0</td>\n",
       "      <td>755.0</td>\n",
       "      <td>NaN</td>\n",
       "    </tr>\n",
       "    <tr>\n",
       "      <th>1</th>\n",
       "      <td>7</td>\n",
       "      <td>3350000.0</td>\n",
       "      <td>40.40</td>\n",
       "      <td>2018-12-04T00:00:00</td>\n",
       "      <td>1</td>\n",
       "      <td>NaN</td>\n",
       "      <td>11.0</td>\n",
       "      <td>18.60</td>\n",
       "      <td>1</td>\n",
       "      <td>NaN</td>\n",
       "      <td>...</td>\n",
       "      <td>11.00</td>\n",
       "      <td>2.0</td>\n",
       "      <td>посёлок Шушары</td>\n",
       "      <td>12817.0</td>\n",
       "      <td>18603.0</td>\n",
       "      <td>0.0</td>\n",
       "      <td>NaN</td>\n",
       "      <td>0.0</td>\n",
       "      <td>NaN</td>\n",
       "      <td>81.0</td>\n",
       "    </tr>\n",
       "    <tr>\n",
       "      <th>2</th>\n",
       "      <td>10</td>\n",
       "      <td>5196000.0</td>\n",
       "      <td>56.00</td>\n",
       "      <td>2015-08-20T00:00:00</td>\n",
       "      <td>2</td>\n",
       "      <td>NaN</td>\n",
       "      <td>5.0</td>\n",
       "      <td>34.30</td>\n",
       "      <td>4</td>\n",
       "      <td>NaN</td>\n",
       "      <td>...</td>\n",
       "      <td>8.30</td>\n",
       "      <td>0.0</td>\n",
       "      <td>Санкт-Петербург</td>\n",
       "      <td>21741.0</td>\n",
       "      <td>13933.0</td>\n",
       "      <td>1.0</td>\n",
       "      <td>90.0</td>\n",
       "      <td>2.0</td>\n",
       "      <td>574.0</td>\n",
       "      <td>558.0</td>\n",
       "    </tr>\n",
       "    <tr>\n",
       "      <th>3</th>\n",
       "      <td>0</td>\n",
       "      <td>64900000.0</td>\n",
       "      <td>159.00</td>\n",
       "      <td>2015-07-24T00:00:00</td>\n",
       "      <td>3</td>\n",
       "      <td>NaN</td>\n",
       "      <td>14.0</td>\n",
       "      <td>NaN</td>\n",
       "      <td>9</td>\n",
       "      <td>NaN</td>\n",
       "      <td>...</td>\n",
       "      <td>NaN</td>\n",
       "      <td>0.0</td>\n",
       "      <td>Санкт-Петербург</td>\n",
       "      <td>28098.0</td>\n",
       "      <td>6800.0</td>\n",
       "      <td>2.0</td>\n",
       "      <td>84.0</td>\n",
       "      <td>3.0</td>\n",
       "      <td>234.0</td>\n",
       "      <td>424.0</td>\n",
       "    </tr>\n",
       "    <tr>\n",
       "      <th>4</th>\n",
       "      <td>2</td>\n",
       "      <td>10000000.0</td>\n",
       "      <td>100.00</td>\n",
       "      <td>2018-06-19T00:00:00</td>\n",
       "      <td>2</td>\n",
       "      <td>3.03</td>\n",
       "      <td>14.0</td>\n",
       "      <td>32.00</td>\n",
       "      <td>13</td>\n",
       "      <td>NaN</td>\n",
       "      <td>...</td>\n",
       "      <td>41.00</td>\n",
       "      <td>NaN</td>\n",
       "      <td>Санкт-Петербург</td>\n",
       "      <td>31856.0</td>\n",
       "      <td>8098.0</td>\n",
       "      <td>2.0</td>\n",
       "      <td>112.0</td>\n",
       "      <td>1.0</td>\n",
       "      <td>48.0</td>\n",
       "      <td>121.0</td>\n",
       "    </tr>\n",
       "    <tr>\n",
       "      <th>5</th>\n",
       "      <td>10</td>\n",
       "      <td>2890000.0</td>\n",
       "      <td>30.40</td>\n",
       "      <td>2018-09-10T00:00:00</td>\n",
       "      <td>1</td>\n",
       "      <td>NaN</td>\n",
       "      <td>12.0</td>\n",
       "      <td>14.40</td>\n",
       "      <td>5</td>\n",
       "      <td>NaN</td>\n",
       "      <td>...</td>\n",
       "      <td>9.10</td>\n",
       "      <td>NaN</td>\n",
       "      <td>городской посёлок Янино-1</td>\n",
       "      <td>NaN</td>\n",
       "      <td>NaN</td>\n",
       "      <td>NaN</td>\n",
       "      <td>NaN</td>\n",
       "      <td>NaN</td>\n",
       "      <td>NaN</td>\n",
       "      <td>55.0</td>\n",
       "    </tr>\n",
       "    <tr>\n",
       "      <th>6</th>\n",
       "      <td>6</td>\n",
       "      <td>3700000.0</td>\n",
       "      <td>37.30</td>\n",
       "      <td>2017-11-02T00:00:00</td>\n",
       "      <td>1</td>\n",
       "      <td>NaN</td>\n",
       "      <td>26.0</td>\n",
       "      <td>10.60</td>\n",
       "      <td>6</td>\n",
       "      <td>NaN</td>\n",
       "      <td>...</td>\n",
       "      <td>14.40</td>\n",
       "      <td>1.0</td>\n",
       "      <td>посёлок Парголово</td>\n",
       "      <td>52996.0</td>\n",
       "      <td>19143.0</td>\n",
       "      <td>0.0</td>\n",
       "      <td>NaN</td>\n",
       "      <td>0.0</td>\n",
       "      <td>NaN</td>\n",
       "      <td>155.0</td>\n",
       "    </tr>\n",
       "    <tr>\n",
       "      <th>7</th>\n",
       "      <td>5</td>\n",
       "      <td>7915000.0</td>\n",
       "      <td>71.60</td>\n",
       "      <td>2019-04-18T00:00:00</td>\n",
       "      <td>2</td>\n",
       "      <td>NaN</td>\n",
       "      <td>24.0</td>\n",
       "      <td>NaN</td>\n",
       "      <td>22</td>\n",
       "      <td>NaN</td>\n",
       "      <td>...</td>\n",
       "      <td>18.90</td>\n",
       "      <td>2.0</td>\n",
       "      <td>Санкт-Петербург</td>\n",
       "      <td>23982.0</td>\n",
       "      <td>11634.0</td>\n",
       "      <td>0.0</td>\n",
       "      <td>NaN</td>\n",
       "      <td>0.0</td>\n",
       "      <td>NaN</td>\n",
       "      <td>NaN</td>\n",
       "    </tr>\n",
       "    <tr>\n",
       "      <th>8</th>\n",
       "      <td>20</td>\n",
       "      <td>2900000.0</td>\n",
       "      <td>33.16</td>\n",
       "      <td>2018-05-23T00:00:00</td>\n",
       "      <td>1</td>\n",
       "      <td>NaN</td>\n",
       "      <td>27.0</td>\n",
       "      <td>15.43</td>\n",
       "      <td>26</td>\n",
       "      <td>NaN</td>\n",
       "      <td>...</td>\n",
       "      <td>8.81</td>\n",
       "      <td>NaN</td>\n",
       "      <td>посёлок Мурино</td>\n",
       "      <td>NaN</td>\n",
       "      <td>NaN</td>\n",
       "      <td>NaN</td>\n",
       "      <td>NaN</td>\n",
       "      <td>NaN</td>\n",
       "      <td>NaN</td>\n",
       "      <td>189.0</td>\n",
       "    </tr>\n",
       "    <tr>\n",
       "      <th>9</th>\n",
       "      <td>18</td>\n",
       "      <td>5400000.0</td>\n",
       "      <td>61.00</td>\n",
       "      <td>2017-02-26T00:00:00</td>\n",
       "      <td>3</td>\n",
       "      <td>2.50</td>\n",
       "      <td>9.0</td>\n",
       "      <td>43.60</td>\n",
       "      <td>7</td>\n",
       "      <td>NaN</td>\n",
       "      <td>...</td>\n",
       "      <td>6.50</td>\n",
       "      <td>2.0</td>\n",
       "      <td>Санкт-Петербург</td>\n",
       "      <td>50898.0</td>\n",
       "      <td>15008.0</td>\n",
       "      <td>0.0</td>\n",
       "      <td>NaN</td>\n",
       "      <td>0.0</td>\n",
       "      <td>NaN</td>\n",
       "      <td>289.0</td>\n",
       "    </tr>\n",
       "  </tbody>\n",
       "</table>\n",
       "<p>10 rows × 22 columns</p>\n",
       "</div>"
      ],
      "text/plain": [
       "   total_images  last_price  total_area first_day_exposition  rooms  \\\n",
       "0            20  13000000.0      108.00  2019-03-07T00:00:00      3   \n",
       "1             7   3350000.0       40.40  2018-12-04T00:00:00      1   \n",
       "2            10   5196000.0       56.00  2015-08-20T00:00:00      2   \n",
       "3             0  64900000.0      159.00  2015-07-24T00:00:00      3   \n",
       "4             2  10000000.0      100.00  2018-06-19T00:00:00      2   \n",
       "5            10   2890000.0       30.40  2018-09-10T00:00:00      1   \n",
       "6             6   3700000.0       37.30  2017-11-02T00:00:00      1   \n",
       "7             5   7915000.0       71.60  2019-04-18T00:00:00      2   \n",
       "8            20   2900000.0       33.16  2018-05-23T00:00:00      1   \n",
       "9            18   5400000.0       61.00  2017-02-26T00:00:00      3   \n",
       "\n",
       "   ceiling_height  floors_total  living_area  floor is_apartment  ...  \\\n",
       "0            2.70          16.0        51.00      8          NaN  ...   \n",
       "1             NaN          11.0        18.60      1          NaN  ...   \n",
       "2             NaN           5.0        34.30      4          NaN  ...   \n",
       "3             NaN          14.0          NaN      9          NaN  ...   \n",
       "4            3.03          14.0        32.00     13          NaN  ...   \n",
       "5             NaN          12.0        14.40      5          NaN  ...   \n",
       "6             NaN          26.0        10.60      6          NaN  ...   \n",
       "7             NaN          24.0          NaN     22          NaN  ...   \n",
       "8             NaN          27.0        15.43     26          NaN  ...   \n",
       "9            2.50           9.0        43.60      7          NaN  ...   \n",
       "\n",
       "   kitchen_area  balcony              locality_name  airports_nearest  \\\n",
       "0         25.00      NaN            Санкт-Петербург           18863.0   \n",
       "1         11.00      2.0             посёлок Шушары           12817.0   \n",
       "2          8.30      0.0            Санкт-Петербург           21741.0   \n",
       "3           NaN      0.0            Санкт-Петербург           28098.0   \n",
       "4         41.00      NaN            Санкт-Петербург           31856.0   \n",
       "5          9.10      NaN  городской посёлок Янино-1               NaN   \n",
       "6         14.40      1.0          посёлок Парголово           52996.0   \n",
       "7         18.90      2.0            Санкт-Петербург           23982.0   \n",
       "8          8.81      NaN             посёлок Мурино               NaN   \n",
       "9          6.50      2.0            Санкт-Петербург           50898.0   \n",
       "\n",
       "  cityCenters_nearest  parks_around3000  parks_nearest  ponds_around3000  \\\n",
       "0             16028.0               1.0          482.0               2.0   \n",
       "1             18603.0               0.0            NaN               0.0   \n",
       "2             13933.0               1.0           90.0               2.0   \n",
       "3              6800.0               2.0           84.0               3.0   \n",
       "4              8098.0               2.0          112.0               1.0   \n",
       "5                 NaN               NaN            NaN               NaN   \n",
       "6             19143.0               0.0            NaN               0.0   \n",
       "7             11634.0               0.0            NaN               0.0   \n",
       "8                 NaN               NaN            NaN               NaN   \n",
       "9             15008.0               0.0            NaN               0.0   \n",
       "\n",
       "   ponds_nearest  days_exposition  \n",
       "0          755.0              NaN  \n",
       "1            NaN             81.0  \n",
       "2          574.0            558.0  \n",
       "3          234.0            424.0  \n",
       "4           48.0            121.0  \n",
       "5            NaN             55.0  \n",
       "6            NaN            155.0  \n",
       "7            NaN              NaN  \n",
       "8            NaN            189.0  \n",
       "9            NaN            289.0  \n",
       "\n",
       "[10 rows x 22 columns]"
      ]
     },
     "execution_count": 3,
     "metadata": {},
     "output_type": "execute_result"
    }
   ],
   "source": [
    "df.head(10)"
   ]
  },
  {
   "cell_type": "code",
   "execution_count": 4,
   "metadata": {},
   "outputs": [
    {
     "name": "stdout",
     "output_type": "stream",
     "text": [
      "<class 'pandas.core.frame.DataFrame'>\n",
      "RangeIndex: 23699 entries, 0 to 23698\n",
      "Data columns (total 22 columns):\n",
      " #   Column                Non-Null Count  Dtype  \n",
      "---  ------                --------------  -----  \n",
      " 0   total_images          23699 non-null  int64  \n",
      " 1   last_price            23699 non-null  float64\n",
      " 2   total_area            23699 non-null  float64\n",
      " 3   first_day_exposition  23699 non-null  object \n",
      " 4   rooms                 23699 non-null  int64  \n",
      " 5   ceiling_height        14504 non-null  float64\n",
      " 6   floors_total          23613 non-null  float64\n",
      " 7   living_area           21796 non-null  float64\n",
      " 8   floor                 23699 non-null  int64  \n",
      " 9   is_apartment          2775 non-null   object \n",
      " 10  studio                23699 non-null  bool   \n",
      " 11  open_plan             23699 non-null  bool   \n",
      " 12  kitchen_area          21421 non-null  float64\n",
      " 13  balcony               12180 non-null  float64\n",
      " 14  locality_name         23650 non-null  object \n",
      " 15  airports_nearest      18157 non-null  float64\n",
      " 16  cityCenters_nearest   18180 non-null  float64\n",
      " 17  parks_around3000      18181 non-null  float64\n",
      " 18  parks_nearest         8079 non-null   float64\n",
      " 19  ponds_around3000      18181 non-null  float64\n",
      " 20  ponds_nearest         9110 non-null   float64\n",
      " 21  days_exposition       20518 non-null  float64\n",
      "dtypes: bool(2), float64(14), int64(3), object(3)\n",
      "memory usage: 3.7+ MB\n"
     ]
    }
   ],
   "source": [
    "df.info() # теперь смотрим обшую информацию о таблице"
   ]
  },
  {
   "cell_type": "markdown",
   "metadata": {},
   "source": [
    "Всего в исходном датасете 22 столбца и 23699 строк.\n",
    "\n",
    "* `total_images`             — количестве фотографий в объявлении;\n",
    "* `last_price`               — цена на момент снятия объявления;\n",
    "* `total_area`               — общая площадь недвижимости;\n",
    "* `first_day_exposition`     — дата публикации;\n",
    "* `rooms`                    — число комнат;\n",
    "* `ceiling_height`           — высота потолков;\n",
    "* `floors_total`             — всего этажей;\n",
    "* `living_area`              — жилая площадь;\n",
    "* `floor`                    — этаж;\n",
    "* `is_apartment`             — указывает, является ли недвижимость апартаментами;\n",
    "* `studio`                   — указывает, является ли недвижимость студией;\n",
    "* `open_plan`                — свободная планировка;\n",
    "* `kitchen_area`             — площадь кухни;\n",
    "* `balcony`                  — количество балконов;\n",
    "* `locality_name`            — название населенного пункта;\n",
    "* `airports_nearest`         — расстояние до ближайшего аэропорта в м;\n",
    "* `cityCenters_nearest`      — расстояние до центра города в м;\n",
    "* `parks_around3000`         — число парков в радиусе 3 км;\n",
    "* `parks_nearest`            — расстояние до ближайшего парка;\n",
    "* `ponds_around3000`         — число водоемов в радиусе 3 км;\n",
    "* `ponds_nearest`            — расстояние до ближайшего водоема в м;\n",
    "* `days_exposition`          — сколько дней было размещено объявление (от публикации до снятия)"
   ]
  },
  {
   "cell_type": "markdown",
   "metadata": {},
   "source": [
    "Заметим, что в столбцах следующих столбцах есть пропуски: `ceiling_height`, `floor_total`, `living_area`, `is_apartment`, `kitchen_area`, `balcony`, `locality_name`, `airports_nearest`, `cityCenters_nearest`, `parks_around3000`, `parks_nearest`, `ponds_around3000`,`ponds_nearest`,`days_expositions`."
   ]
  },
  {
   "cell_type": "code",
   "execution_count": 5,
   "metadata": {},
   "outputs": [
    {
     "data": {
      "text/html": [
       "<div>\n",
       "<style scoped>\n",
       "    .dataframe tbody tr th:only-of-type {\n",
       "        vertical-align: middle;\n",
       "    }\n",
       "\n",
       "    .dataframe tbody tr th {\n",
       "        vertical-align: top;\n",
       "    }\n",
       "\n",
       "    .dataframe thead th {\n",
       "        text-align: right;\n",
       "    }\n",
       "</style>\n",
       "<table border=\"1\" class=\"dataframe\">\n",
       "  <thead>\n",
       "    <tr style=\"text-align: right;\">\n",
       "      <th></th>\n",
       "      <th>total_images</th>\n",
       "      <th>last_price</th>\n",
       "      <th>total_area</th>\n",
       "      <th>rooms</th>\n",
       "      <th>ceiling_height</th>\n",
       "      <th>floors_total</th>\n",
       "      <th>living_area</th>\n",
       "      <th>floor</th>\n",
       "      <th>kitchen_area</th>\n",
       "      <th>balcony</th>\n",
       "      <th>airports_nearest</th>\n",
       "      <th>cityCenters_nearest</th>\n",
       "      <th>parks_around3000</th>\n",
       "      <th>parks_nearest</th>\n",
       "      <th>ponds_around3000</th>\n",
       "      <th>ponds_nearest</th>\n",
       "      <th>days_exposition</th>\n",
       "    </tr>\n",
       "  </thead>\n",
       "  <tbody>\n",
       "    <tr>\n",
       "      <th>count</th>\n",
       "      <td>23699.000000</td>\n",
       "      <td>2.369900e+04</td>\n",
       "      <td>23699.000000</td>\n",
       "      <td>23699.000000</td>\n",
       "      <td>14504.000000</td>\n",
       "      <td>23613.000000</td>\n",
       "      <td>21796.000000</td>\n",
       "      <td>23699.000000</td>\n",
       "      <td>21421.000000</td>\n",
       "      <td>12180.000000</td>\n",
       "      <td>18157.000000</td>\n",
       "      <td>18180.000000</td>\n",
       "      <td>18181.000000</td>\n",
       "      <td>8079.000000</td>\n",
       "      <td>18181.000000</td>\n",
       "      <td>9110.000000</td>\n",
       "      <td>20518.000000</td>\n",
       "    </tr>\n",
       "    <tr>\n",
       "      <th>mean</th>\n",
       "      <td>9.858475</td>\n",
       "      <td>6.541549e+06</td>\n",
       "      <td>60.348651</td>\n",
       "      <td>2.070636</td>\n",
       "      <td>2.771499</td>\n",
       "      <td>10.673824</td>\n",
       "      <td>34.457852</td>\n",
       "      <td>5.892358</td>\n",
       "      <td>10.569807</td>\n",
       "      <td>1.150082</td>\n",
       "      <td>28793.672193</td>\n",
       "      <td>14191.277833</td>\n",
       "      <td>0.611408</td>\n",
       "      <td>490.804555</td>\n",
       "      <td>0.770255</td>\n",
       "      <td>517.980900</td>\n",
       "      <td>180.888634</td>\n",
       "    </tr>\n",
       "    <tr>\n",
       "      <th>std</th>\n",
       "      <td>5.682529</td>\n",
       "      <td>1.088701e+07</td>\n",
       "      <td>35.654083</td>\n",
       "      <td>1.078405</td>\n",
       "      <td>1.261056</td>\n",
       "      <td>6.597173</td>\n",
       "      <td>22.030445</td>\n",
       "      <td>4.885249</td>\n",
       "      <td>5.905438</td>\n",
       "      <td>1.071300</td>\n",
       "      <td>12630.880622</td>\n",
       "      <td>8608.386210</td>\n",
       "      <td>0.802074</td>\n",
       "      <td>342.317995</td>\n",
       "      <td>0.938346</td>\n",
       "      <td>277.720643</td>\n",
       "      <td>219.727988</td>\n",
       "    </tr>\n",
       "    <tr>\n",
       "      <th>min</th>\n",
       "      <td>0.000000</td>\n",
       "      <td>1.219000e+04</td>\n",
       "      <td>12.000000</td>\n",
       "      <td>0.000000</td>\n",
       "      <td>1.000000</td>\n",
       "      <td>1.000000</td>\n",
       "      <td>2.000000</td>\n",
       "      <td>1.000000</td>\n",
       "      <td>1.300000</td>\n",
       "      <td>0.000000</td>\n",
       "      <td>0.000000</td>\n",
       "      <td>181.000000</td>\n",
       "      <td>0.000000</td>\n",
       "      <td>1.000000</td>\n",
       "      <td>0.000000</td>\n",
       "      <td>13.000000</td>\n",
       "      <td>1.000000</td>\n",
       "    </tr>\n",
       "    <tr>\n",
       "      <th>25%</th>\n",
       "      <td>6.000000</td>\n",
       "      <td>3.400000e+06</td>\n",
       "      <td>40.000000</td>\n",
       "      <td>1.000000</td>\n",
       "      <td>2.520000</td>\n",
       "      <td>5.000000</td>\n",
       "      <td>18.600000</td>\n",
       "      <td>2.000000</td>\n",
       "      <td>7.000000</td>\n",
       "      <td>0.000000</td>\n",
       "      <td>18585.000000</td>\n",
       "      <td>9238.000000</td>\n",
       "      <td>0.000000</td>\n",
       "      <td>288.000000</td>\n",
       "      <td>0.000000</td>\n",
       "      <td>294.000000</td>\n",
       "      <td>45.000000</td>\n",
       "    </tr>\n",
       "    <tr>\n",
       "      <th>50%</th>\n",
       "      <td>9.000000</td>\n",
       "      <td>4.650000e+06</td>\n",
       "      <td>52.000000</td>\n",
       "      <td>2.000000</td>\n",
       "      <td>2.650000</td>\n",
       "      <td>9.000000</td>\n",
       "      <td>30.000000</td>\n",
       "      <td>4.000000</td>\n",
       "      <td>9.100000</td>\n",
       "      <td>1.000000</td>\n",
       "      <td>26726.000000</td>\n",
       "      <td>13098.500000</td>\n",
       "      <td>0.000000</td>\n",
       "      <td>455.000000</td>\n",
       "      <td>1.000000</td>\n",
       "      <td>502.000000</td>\n",
       "      <td>95.000000</td>\n",
       "    </tr>\n",
       "    <tr>\n",
       "      <th>75%</th>\n",
       "      <td>14.000000</td>\n",
       "      <td>6.800000e+06</td>\n",
       "      <td>69.900000</td>\n",
       "      <td>3.000000</td>\n",
       "      <td>2.800000</td>\n",
       "      <td>16.000000</td>\n",
       "      <td>42.300000</td>\n",
       "      <td>8.000000</td>\n",
       "      <td>12.000000</td>\n",
       "      <td>2.000000</td>\n",
       "      <td>37273.000000</td>\n",
       "      <td>16293.000000</td>\n",
       "      <td>1.000000</td>\n",
       "      <td>612.000000</td>\n",
       "      <td>1.000000</td>\n",
       "      <td>729.000000</td>\n",
       "      <td>232.000000</td>\n",
       "    </tr>\n",
       "    <tr>\n",
       "      <th>max</th>\n",
       "      <td>50.000000</td>\n",
       "      <td>7.630000e+08</td>\n",
       "      <td>900.000000</td>\n",
       "      <td>19.000000</td>\n",
       "      <td>100.000000</td>\n",
       "      <td>60.000000</td>\n",
       "      <td>409.700000</td>\n",
       "      <td>33.000000</td>\n",
       "      <td>112.000000</td>\n",
       "      <td>5.000000</td>\n",
       "      <td>84869.000000</td>\n",
       "      <td>65968.000000</td>\n",
       "      <td>3.000000</td>\n",
       "      <td>3190.000000</td>\n",
       "      <td>3.000000</td>\n",
       "      <td>1344.000000</td>\n",
       "      <td>1580.000000</td>\n",
       "    </tr>\n",
       "  </tbody>\n",
       "</table>\n",
       "</div>"
      ],
      "text/plain": [
       "       total_images    last_price    total_area         rooms  ceiling_height  \\\n",
       "count  23699.000000  2.369900e+04  23699.000000  23699.000000    14504.000000   \n",
       "mean       9.858475  6.541549e+06     60.348651      2.070636        2.771499   \n",
       "std        5.682529  1.088701e+07     35.654083      1.078405        1.261056   \n",
       "min        0.000000  1.219000e+04     12.000000      0.000000        1.000000   \n",
       "25%        6.000000  3.400000e+06     40.000000      1.000000        2.520000   \n",
       "50%        9.000000  4.650000e+06     52.000000      2.000000        2.650000   \n",
       "75%       14.000000  6.800000e+06     69.900000      3.000000        2.800000   \n",
       "max       50.000000  7.630000e+08    900.000000     19.000000      100.000000   \n",
       "\n",
       "       floors_total   living_area         floor  kitchen_area       balcony  \\\n",
       "count  23613.000000  21796.000000  23699.000000  21421.000000  12180.000000   \n",
       "mean      10.673824     34.457852      5.892358     10.569807      1.150082   \n",
       "std        6.597173     22.030445      4.885249      5.905438      1.071300   \n",
       "min        1.000000      2.000000      1.000000      1.300000      0.000000   \n",
       "25%        5.000000     18.600000      2.000000      7.000000      0.000000   \n",
       "50%        9.000000     30.000000      4.000000      9.100000      1.000000   \n",
       "75%       16.000000     42.300000      8.000000     12.000000      2.000000   \n",
       "max       60.000000    409.700000     33.000000    112.000000      5.000000   \n",
       "\n",
       "       airports_nearest  cityCenters_nearest  parks_around3000  parks_nearest  \\\n",
       "count      18157.000000         18180.000000      18181.000000    8079.000000   \n",
       "mean       28793.672193         14191.277833          0.611408     490.804555   \n",
       "std        12630.880622          8608.386210          0.802074     342.317995   \n",
       "min            0.000000           181.000000          0.000000       1.000000   \n",
       "25%        18585.000000          9238.000000          0.000000     288.000000   \n",
       "50%        26726.000000         13098.500000          0.000000     455.000000   \n",
       "75%        37273.000000         16293.000000          1.000000     612.000000   \n",
       "max        84869.000000         65968.000000          3.000000    3190.000000   \n",
       "\n",
       "       ponds_around3000  ponds_nearest  days_exposition  \n",
       "count      18181.000000    9110.000000     20518.000000  \n",
       "mean           0.770255     517.980900       180.888634  \n",
       "std            0.938346     277.720643       219.727988  \n",
       "min            0.000000      13.000000         1.000000  \n",
       "25%            0.000000     294.000000        45.000000  \n",
       "50%            1.000000     502.000000        95.000000  \n",
       "75%            1.000000     729.000000       232.000000  \n",
       "max            3.000000    1344.000000      1580.000000  "
      ]
     },
     "execution_count": 5,
     "metadata": {},
     "output_type": "execute_result"
    }
   ],
   "source": [
    "df.describe() #используем метод .describe(), чтобы посмотреть агрегированные данные по столбцам"
   ]
  },
  {
   "cell_type": "markdown",
   "metadata": {},
   "source": [
    "В некоторых столбцах можно сразу заметить большой разброс данных (например, в `total_area` максимальное значение составляет 900, при среднем значении 60), в других - потенциальные ошибки (максимальная высота потолков в  `ceiling_height` 100 м)."
   ]
  },
  {
   "cell_type": "code",
   "execution_count": 6,
   "metadata": {
    "scrolled": true
   },
   "outputs": [
    {
     "data": {
      "text/html": [
       "<div>\n",
       "<style scoped>\n",
       "    .dataframe tbody tr th:only-of-type {\n",
       "        vertical-align: middle;\n",
       "    }\n",
       "\n",
       "    .dataframe tbody tr th {\n",
       "        vertical-align: top;\n",
       "    }\n",
       "\n",
       "    .dataframe thead th {\n",
       "        text-align: right;\n",
       "    }\n",
       "</style>\n",
       "<table border=\"1\" class=\"dataframe\">\n",
       "  <thead>\n",
       "    <tr style=\"text-align: right;\">\n",
       "      <th></th>\n",
       "      <th>total_images</th>\n",
       "      <th>last_price</th>\n",
       "      <th>total_area</th>\n",
       "      <th>first_day_exposition</th>\n",
       "      <th>rooms</th>\n",
       "      <th>ceiling_height</th>\n",
       "      <th>floors_total</th>\n",
       "      <th>living_area</th>\n",
       "      <th>floor</th>\n",
       "      <th>is_apartment</th>\n",
       "      <th>...</th>\n",
       "      <th>kitchen_area</th>\n",
       "      <th>balcony</th>\n",
       "      <th>locality_name</th>\n",
       "      <th>airports_nearest</th>\n",
       "      <th>cityCenters_nearest</th>\n",
       "      <th>parks_around3000</th>\n",
       "      <th>parks_nearest</th>\n",
       "      <th>ponds_around3000</th>\n",
       "      <th>ponds_nearest</th>\n",
       "      <th>days_exposition</th>\n",
       "    </tr>\n",
       "  </thead>\n",
       "  <tbody>\n",
       "    <tr>\n",
       "      <th>22869</th>\n",
       "      <td>0</td>\n",
       "      <td>15000000.0</td>\n",
       "      <td>25.0</td>\n",
       "      <td>2018-07-25T00:00:00</td>\n",
       "      <td>1</td>\n",
       "      <td>100.0</td>\n",
       "      <td>5.0</td>\n",
       "      <td>14.0</td>\n",
       "      <td>5</td>\n",
       "      <td>True</td>\n",
       "      <td>...</td>\n",
       "      <td>11.0</td>\n",
       "      <td>5.0</td>\n",
       "      <td>Санкт-Петербург</td>\n",
       "      <td>34963.0</td>\n",
       "      <td>8283.0</td>\n",
       "      <td>1.0</td>\n",
       "      <td>223.0</td>\n",
       "      <td>3.0</td>\n",
       "      <td>30.0</td>\n",
       "      <td>19.0</td>\n",
       "    </tr>\n",
       "  </tbody>\n",
       "</table>\n",
       "<p>1 rows × 22 columns</p>\n",
       "</div>"
      ],
      "text/plain": [
       "       total_images  last_price  total_area first_day_exposition  rooms  \\\n",
       "22869             0  15000000.0        25.0  2018-07-25T00:00:00      1   \n",
       "\n",
       "       ceiling_height  floors_total  living_area  floor is_apartment  ...  \\\n",
       "22869           100.0           5.0         14.0      5         True  ...   \n",
       "\n",
       "       kitchen_area  balcony    locality_name  airports_nearest  \\\n",
       "22869          11.0      5.0  Санкт-Петербург           34963.0   \n",
       "\n",
       "      cityCenters_nearest  parks_around3000  parks_nearest  ponds_around3000  \\\n",
       "22869              8283.0               1.0          223.0               3.0   \n",
       "\n",
       "       ponds_nearest  days_exposition  \n",
       "22869           30.0             19.0  \n",
       "\n",
       "[1 rows x 22 columns]"
      ]
     },
     "execution_count": 6,
     "metadata": {},
     "output_type": "execute_result"
    }
   ],
   "source": [
    "df[df['ceiling_height']==100] # найдем это предложение недвижимости - \n",
    "                              # 5 балконов — жалко нет фотографий"
   ]
  },
  {
   "cell_type": "code",
   "execution_count": 7,
   "metadata": {},
   "outputs": [
    {
     "data": {
      "text/html": [
       "<div>\n",
       "<style scoped>\n",
       "    .dataframe tbody tr th:only-of-type {\n",
       "        vertical-align: middle;\n",
       "    }\n",
       "\n",
       "    .dataframe tbody tr th {\n",
       "        vertical-align: top;\n",
       "    }\n",
       "\n",
       "    .dataframe thead th {\n",
       "        text-align: right;\n",
       "    }\n",
       "</style>\n",
       "<table border=\"1\" class=\"dataframe\">\n",
       "  <thead>\n",
       "    <tr style=\"text-align: right;\">\n",
       "      <th></th>\n",
       "      <th>total_images</th>\n",
       "      <th>last_price</th>\n",
       "      <th>total_area</th>\n",
       "      <th>first_day_exposition</th>\n",
       "      <th>rooms</th>\n",
       "      <th>ceiling_height</th>\n",
       "      <th>floors_total</th>\n",
       "      <th>living_area</th>\n",
       "      <th>floor</th>\n",
       "      <th>is_apartment</th>\n",
       "      <th>...</th>\n",
       "      <th>kitchen_area</th>\n",
       "      <th>balcony</th>\n",
       "      <th>locality_name</th>\n",
       "      <th>airports_nearest</th>\n",
       "      <th>cityCenters_nearest</th>\n",
       "      <th>parks_around3000</th>\n",
       "      <th>parks_nearest</th>\n",
       "      <th>ponds_around3000</th>\n",
       "      <th>ponds_nearest</th>\n",
       "      <th>days_exposition</th>\n",
       "    </tr>\n",
       "  </thead>\n",
       "  <tbody>\n",
       "    <tr>\n",
       "      <th>5358</th>\n",
       "      <td>20</td>\n",
       "      <td>65000000.0</td>\n",
       "      <td>590.0</td>\n",
       "      <td>2019-02-14T00:00:00</td>\n",
       "      <td>15</td>\n",
       "      <td>3.5</td>\n",
       "      <td>6.0</td>\n",
       "      <td>409.0</td>\n",
       "      <td>3</td>\n",
       "      <td>NaN</td>\n",
       "      <td>...</td>\n",
       "      <td>100.0</td>\n",
       "      <td>NaN</td>\n",
       "      <td>Санкт-Петербург</td>\n",
       "      <td>24447.0</td>\n",
       "      <td>4666.0</td>\n",
       "      <td>1.0</td>\n",
       "      <td>767.0</td>\n",
       "      <td>0.0</td>\n",
       "      <td>NaN</td>\n",
       "      <td>14.0</td>\n",
       "    </tr>\n",
       "    <tr>\n",
       "      <th>19540</th>\n",
       "      <td>8</td>\n",
       "      <td>420000000.0</td>\n",
       "      <td>900.0</td>\n",
       "      <td>2017-12-06T00:00:00</td>\n",
       "      <td>12</td>\n",
       "      <td>2.8</td>\n",
       "      <td>25.0</td>\n",
       "      <td>409.7</td>\n",
       "      <td>25</td>\n",
       "      <td>NaN</td>\n",
       "      <td>...</td>\n",
       "      <td>112.0</td>\n",
       "      <td>NaN</td>\n",
       "      <td>Санкт-Петербург</td>\n",
       "      <td>30706.0</td>\n",
       "      <td>7877.0</td>\n",
       "      <td>0.0</td>\n",
       "      <td>NaN</td>\n",
       "      <td>2.0</td>\n",
       "      <td>318.0</td>\n",
       "      <td>106.0</td>\n",
       "    </tr>\n",
       "  </tbody>\n",
       "</table>\n",
       "<p>2 rows × 22 columns</p>\n",
       "</div>"
      ],
      "text/plain": [
       "       total_images   last_price  total_area first_day_exposition  rooms  \\\n",
       "5358             20   65000000.0       590.0  2019-02-14T00:00:00     15   \n",
       "19540             8  420000000.0       900.0  2017-12-06T00:00:00     12   \n",
       "\n",
       "       ceiling_height  floors_total  living_area  floor is_apartment  ...  \\\n",
       "5358              3.5           6.0        409.0      3          NaN  ...   \n",
       "19540             2.8          25.0        409.7     25          NaN  ...   \n",
       "\n",
       "       kitchen_area  balcony    locality_name  airports_nearest  \\\n",
       "5358          100.0      NaN  Санкт-Петербург           24447.0   \n",
       "19540         112.0      NaN  Санкт-Петербург           30706.0   \n",
       "\n",
       "      cityCenters_nearest  parks_around3000  parks_nearest  ponds_around3000  \\\n",
       "5358               4666.0               1.0          767.0               0.0   \n",
       "19540              7877.0               0.0            NaN               2.0   \n",
       "\n",
       "       ponds_nearest  days_exposition  \n",
       "5358             NaN             14.0  \n",
       "19540          318.0            106.0  \n",
       "\n",
       "[2 rows x 22 columns]"
      ]
     },
     "execution_count": 7,
     "metadata": {},
     "output_type": "execute_result"
    }
   ],
   "source": [
    "df[df['living_area'] > 400] # теперь посмотрим, что за объекты более 400 метров представлены в датасете"
   ]
  },
  {
   "cell_type": "markdown",
   "metadata": {},
   "source": [
    "В датасете есть пентхаус на 25 этаже - кажется, неплохая цена, но до центра далеко."
   ]
  },
  {
   "cell_type": "markdown",
   "metadata": {},
   "source": [
    "### Вывод"
   ]
  },
  {
   "cell_type": "markdown",
   "metadata": {},
   "source": [
    "Данные требуют преобработки перед дальнейшим исследованием. Кроме того, в таблицу потребуется добавить некоторые общепринятые метрики для объектов недвижимости (например, цену за квадратный метр)."
   ]
  },
  {
   "cell_type": "markdown",
   "metadata": {},
   "source": [
    "## Предобработка данных"
   ]
  },
  {
   "cell_type": "markdown",
   "metadata": {},
   "source": [
    "### Стиль заголовков"
   ]
  },
  {
   "cell_type": "markdown",
   "metadata": {},
   "source": [
    "Перед тем как перейти к предобработке данных, приведем заголовки датасета к одному стилю. Это упростит чтение и визуальное восприятие таблицы."
   ]
  },
  {
   "cell_type": "code",
   "execution_count": 8,
   "metadata": {},
   "outputs": [],
   "source": [
    "df = df.rename(columns={'cityCenters_nearest':'city_centers_nearest',\n",
    "                        'parks_around3000':'parks_around_3000',\n",
    "                        'ponds_around3000':'ponds_around_3000'})"
   ]
  },
  {
   "cell_type": "code",
   "execution_count": 9,
   "metadata": {},
   "outputs": [
    {
     "data": {
      "text/plain": [
       "Index(['total_images', 'last_price', 'total_area', 'first_day_exposition',\n",
       "       'rooms', 'ceiling_height', 'floors_total', 'living_area', 'floor',\n",
       "       'is_apartment', 'studio', 'open_plan', 'kitchen_area', 'balcony',\n",
       "       'locality_name', 'airports_nearest', 'city_centers_nearest',\n",
       "       'parks_around_3000', 'parks_nearest', 'ponds_around_3000',\n",
       "       'ponds_nearest', 'days_exposition'],\n",
       "      dtype='object')"
      ]
     },
     "execution_count": 9,
     "metadata": {},
     "output_type": "execute_result"
    }
   ],
   "source": [
    "df.columns # проверим изменения названий столбцов"
   ]
  },
  {
   "cell_type": "markdown",
   "metadata": {},
   "source": [
    "### Проверка явных дубликатов"
   ]
  },
  {
   "cell_type": "code",
   "execution_count": 10,
   "metadata": {},
   "outputs": [
    {
     "data": {
      "text/plain": [
       "0"
      ]
     },
     "execution_count": 10,
     "metadata": {},
     "output_type": "execute_result"
    }
   ],
   "source": [
    "df.duplicated().sum()"
   ]
  },
  {
   "cell_type": "markdown",
   "metadata": {},
   "source": [
    "Явных дубликатов в датасете нет."
   ]
  },
  {
   "cell_type": "markdown",
   "metadata": {},
   "source": [
    "### Работа с пропущенными значениями"
   ]
  },
  {
   "cell_type": "markdown",
   "metadata": {},
   "source": [
    "На этапе обзора данных были замечены пропуски в нескольких столбцах. Проанализируем их и заполним, где это целесообразно."
   ]
  },
  {
   "cell_type": "code",
   "execution_count": 11,
   "metadata": {
    "scrolled": true
   },
   "outputs": [
    {
     "data": {
      "text/plain": [
       "total_images                0\n",
       "last_price                  0\n",
       "total_area                  0\n",
       "first_day_exposition        0\n",
       "rooms                       0\n",
       "ceiling_height           9195\n",
       "floors_total               86\n",
       "living_area              1903\n",
       "floor                       0\n",
       "is_apartment            20924\n",
       "studio                      0\n",
       "open_plan                   0\n",
       "kitchen_area             2278\n",
       "balcony                 11519\n",
       "locality_name              49\n",
       "airports_nearest         5542\n",
       "city_centers_nearest     5519\n",
       "parks_around_3000        5518\n",
       "parks_nearest           15620\n",
       "ponds_around_3000        5518\n",
       "ponds_nearest           14589\n",
       "days_exposition          3181\n",
       "dtype: int64"
      ]
     },
     "execution_count": 11,
     "metadata": {},
     "output_type": "execute_result"
    }
   ],
   "source": [
    "df.isna().sum()                      # количество пропусков в столбцах"
   ]
  },
  {
   "cell_type": "code",
   "execution_count": 12,
   "metadata": {},
   "outputs": [
    {
     "data": {
      "text/plain": [
       "total_images            0.00\n",
       "last_price              0.00\n",
       "total_area              0.00\n",
       "first_day_exposition    0.00\n",
       "rooms                   0.00\n",
       "ceiling_height          0.39\n",
       "floors_total            0.00\n",
       "living_area             0.08\n",
       "floor                   0.00\n",
       "is_apartment            0.88\n",
       "studio                  0.00\n",
       "open_plan               0.00\n",
       "kitchen_area            0.10\n",
       "balcony                 0.49\n",
       "locality_name           0.00\n",
       "airports_nearest        0.23\n",
       "city_centers_nearest    0.23\n",
       "parks_around_3000       0.23\n",
       "parks_nearest           0.66\n",
       "ponds_around_3000       0.23\n",
       "ponds_nearest           0.62\n",
       "days_exposition         0.13\n",
       "dtype: float64"
      ]
     },
     "execution_count": 12,
     "metadata": {},
     "output_type": "execute_result"
    }
   ],
   "source": [
    "round(df.isna().mean(), 2) # доля пропусков в столбцах"
   ]
  },
  {
   "cell_type": "markdown",
   "metadata": {},
   "source": [
    "У большей доли объявлений не указаны расстояния до парков и водоемов. Видно, этому не придают большого значения при продажи. Но у части пропущены и более \"практичные\" параметры - например, высота потолков."
   ]
  },
  {
   "cell_type": "markdown",
   "metadata": {},
   "source": [
    "Первый столбец с пропусками `ceiling_height` хранит информацию о высоте потолков. Взглянем на пропуски в нем."
   ]
  },
  {
   "cell_type": "code",
   "execution_count": 13,
   "metadata": {},
   "outputs": [
    {
     "data": {
      "text/html": [
       "<div>\n",
       "<style scoped>\n",
       "    .dataframe tbody tr th:only-of-type {\n",
       "        vertical-align: middle;\n",
       "    }\n",
       "\n",
       "    .dataframe tbody tr th {\n",
       "        vertical-align: top;\n",
       "    }\n",
       "\n",
       "    .dataframe thead th {\n",
       "        text-align: right;\n",
       "    }\n",
       "</style>\n",
       "<table border=\"1\" class=\"dataframe\">\n",
       "  <thead>\n",
       "    <tr style=\"text-align: right;\">\n",
       "      <th></th>\n",
       "      <th>total_images</th>\n",
       "      <th>last_price</th>\n",
       "      <th>total_area</th>\n",
       "      <th>first_day_exposition</th>\n",
       "      <th>rooms</th>\n",
       "      <th>ceiling_height</th>\n",
       "      <th>floors_total</th>\n",
       "      <th>living_area</th>\n",
       "      <th>floor</th>\n",
       "      <th>is_apartment</th>\n",
       "      <th>...</th>\n",
       "      <th>kitchen_area</th>\n",
       "      <th>balcony</th>\n",
       "      <th>locality_name</th>\n",
       "      <th>airports_nearest</th>\n",
       "      <th>city_centers_nearest</th>\n",
       "      <th>parks_around_3000</th>\n",
       "      <th>parks_nearest</th>\n",
       "      <th>ponds_around_3000</th>\n",
       "      <th>ponds_nearest</th>\n",
       "      <th>days_exposition</th>\n",
       "    </tr>\n",
       "  </thead>\n",
       "  <tbody>\n",
       "    <tr>\n",
       "      <th>1</th>\n",
       "      <td>7</td>\n",
       "      <td>3350000.0</td>\n",
       "      <td>40.4</td>\n",
       "      <td>2018-12-04T00:00:00</td>\n",
       "      <td>1</td>\n",
       "      <td>NaN</td>\n",
       "      <td>11.0</td>\n",
       "      <td>18.6</td>\n",
       "      <td>1</td>\n",
       "      <td>NaN</td>\n",
       "      <td>...</td>\n",
       "      <td>11.0</td>\n",
       "      <td>2.0</td>\n",
       "      <td>посёлок Шушары</td>\n",
       "      <td>12817.0</td>\n",
       "      <td>18603.0</td>\n",
       "      <td>0.0</td>\n",
       "      <td>NaN</td>\n",
       "      <td>0.0</td>\n",
       "      <td>NaN</td>\n",
       "      <td>81.0</td>\n",
       "    </tr>\n",
       "    <tr>\n",
       "      <th>2</th>\n",
       "      <td>10</td>\n",
       "      <td>5196000.0</td>\n",
       "      <td>56.0</td>\n",
       "      <td>2015-08-20T00:00:00</td>\n",
       "      <td>2</td>\n",
       "      <td>NaN</td>\n",
       "      <td>5.0</td>\n",
       "      <td>34.3</td>\n",
       "      <td>4</td>\n",
       "      <td>NaN</td>\n",
       "      <td>...</td>\n",
       "      <td>8.3</td>\n",
       "      <td>0.0</td>\n",
       "      <td>Санкт-Петербург</td>\n",
       "      <td>21741.0</td>\n",
       "      <td>13933.0</td>\n",
       "      <td>1.0</td>\n",
       "      <td>90.0</td>\n",
       "      <td>2.0</td>\n",
       "      <td>574.0</td>\n",
       "      <td>558.0</td>\n",
       "    </tr>\n",
       "    <tr>\n",
       "      <th>3</th>\n",
       "      <td>0</td>\n",
       "      <td>64900000.0</td>\n",
       "      <td>159.0</td>\n",
       "      <td>2015-07-24T00:00:00</td>\n",
       "      <td>3</td>\n",
       "      <td>NaN</td>\n",
       "      <td>14.0</td>\n",
       "      <td>NaN</td>\n",
       "      <td>9</td>\n",
       "      <td>NaN</td>\n",
       "      <td>...</td>\n",
       "      <td>NaN</td>\n",
       "      <td>0.0</td>\n",
       "      <td>Санкт-Петербург</td>\n",
       "      <td>28098.0</td>\n",
       "      <td>6800.0</td>\n",
       "      <td>2.0</td>\n",
       "      <td>84.0</td>\n",
       "      <td>3.0</td>\n",
       "      <td>234.0</td>\n",
       "      <td>424.0</td>\n",
       "    </tr>\n",
       "    <tr>\n",
       "      <th>5</th>\n",
       "      <td>10</td>\n",
       "      <td>2890000.0</td>\n",
       "      <td>30.4</td>\n",
       "      <td>2018-09-10T00:00:00</td>\n",
       "      <td>1</td>\n",
       "      <td>NaN</td>\n",
       "      <td>12.0</td>\n",
       "      <td>14.4</td>\n",
       "      <td>5</td>\n",
       "      <td>NaN</td>\n",
       "      <td>...</td>\n",
       "      <td>9.1</td>\n",
       "      <td>NaN</td>\n",
       "      <td>городской посёлок Янино-1</td>\n",
       "      <td>NaN</td>\n",
       "      <td>NaN</td>\n",
       "      <td>NaN</td>\n",
       "      <td>NaN</td>\n",
       "      <td>NaN</td>\n",
       "      <td>NaN</td>\n",
       "      <td>55.0</td>\n",
       "    </tr>\n",
       "    <tr>\n",
       "      <th>6</th>\n",
       "      <td>6</td>\n",
       "      <td>3700000.0</td>\n",
       "      <td>37.3</td>\n",
       "      <td>2017-11-02T00:00:00</td>\n",
       "      <td>1</td>\n",
       "      <td>NaN</td>\n",
       "      <td>26.0</td>\n",
       "      <td>10.6</td>\n",
       "      <td>6</td>\n",
       "      <td>NaN</td>\n",
       "      <td>...</td>\n",
       "      <td>14.4</td>\n",
       "      <td>1.0</td>\n",
       "      <td>посёлок Парголово</td>\n",
       "      <td>52996.0</td>\n",
       "      <td>19143.0</td>\n",
       "      <td>0.0</td>\n",
       "      <td>NaN</td>\n",
       "      <td>0.0</td>\n",
       "      <td>NaN</td>\n",
       "      <td>155.0</td>\n",
       "    </tr>\n",
       "    <tr>\n",
       "      <th>...</th>\n",
       "      <td>...</td>\n",
       "      <td>...</td>\n",
       "      <td>...</td>\n",
       "      <td>...</td>\n",
       "      <td>...</td>\n",
       "      <td>...</td>\n",
       "      <td>...</td>\n",
       "      <td>...</td>\n",
       "      <td>...</td>\n",
       "      <td>...</td>\n",
       "      <td>...</td>\n",
       "      <td>...</td>\n",
       "      <td>...</td>\n",
       "      <td>...</td>\n",
       "      <td>...</td>\n",
       "      <td>...</td>\n",
       "      <td>...</td>\n",
       "      <td>...</td>\n",
       "      <td>...</td>\n",
       "      <td>...</td>\n",
       "      <td>...</td>\n",
       "    </tr>\n",
       "    <tr>\n",
       "      <th>23687</th>\n",
       "      <td>6</td>\n",
       "      <td>3200000.0</td>\n",
       "      <td>39.0</td>\n",
       "      <td>2017-12-16T00:00:00</td>\n",
       "      <td>1</td>\n",
       "      <td>NaN</td>\n",
       "      <td>9.0</td>\n",
       "      <td>20.0</td>\n",
       "      <td>6</td>\n",
       "      <td>NaN</td>\n",
       "      <td>...</td>\n",
       "      <td>11.0</td>\n",
       "      <td>2.0</td>\n",
       "      <td>Санкт-Петербург</td>\n",
       "      <td>40837.0</td>\n",
       "      <td>16704.0</td>\n",
       "      <td>0.0</td>\n",
       "      <td>NaN</td>\n",
       "      <td>0.0</td>\n",
       "      <td>NaN</td>\n",
       "      <td>38.0</td>\n",
       "    </tr>\n",
       "    <tr>\n",
       "      <th>23690</th>\n",
       "      <td>3</td>\n",
       "      <td>5500000.0</td>\n",
       "      <td>52.0</td>\n",
       "      <td>2018-07-19T00:00:00</td>\n",
       "      <td>2</td>\n",
       "      <td>NaN</td>\n",
       "      <td>5.0</td>\n",
       "      <td>31.0</td>\n",
       "      <td>2</td>\n",
       "      <td>NaN</td>\n",
       "      <td>...</td>\n",
       "      <td>6.0</td>\n",
       "      <td>NaN</td>\n",
       "      <td>Санкт-Петербург</td>\n",
       "      <td>20151.0</td>\n",
       "      <td>6263.0</td>\n",
       "      <td>1.0</td>\n",
       "      <td>300.0</td>\n",
       "      <td>0.0</td>\n",
       "      <td>NaN</td>\n",
       "      <td>15.0</td>\n",
       "    </tr>\n",
       "    <tr>\n",
       "      <th>23692</th>\n",
       "      <td>2</td>\n",
       "      <td>1350000.0</td>\n",
       "      <td>30.0</td>\n",
       "      <td>2017-07-07T00:00:00</td>\n",
       "      <td>1</td>\n",
       "      <td>NaN</td>\n",
       "      <td>5.0</td>\n",
       "      <td>17.5</td>\n",
       "      <td>4</td>\n",
       "      <td>NaN</td>\n",
       "      <td>...</td>\n",
       "      <td>6.0</td>\n",
       "      <td>NaN</td>\n",
       "      <td>Тихвин</td>\n",
       "      <td>NaN</td>\n",
       "      <td>NaN</td>\n",
       "      <td>NaN</td>\n",
       "      <td>NaN</td>\n",
       "      <td>NaN</td>\n",
       "      <td>NaN</td>\n",
       "      <td>413.0</td>\n",
       "    </tr>\n",
       "    <tr>\n",
       "      <th>23695</th>\n",
       "      <td>14</td>\n",
       "      <td>3100000.0</td>\n",
       "      <td>59.0</td>\n",
       "      <td>2018-01-15T00:00:00</td>\n",
       "      <td>3</td>\n",
       "      <td>NaN</td>\n",
       "      <td>5.0</td>\n",
       "      <td>38.0</td>\n",
       "      <td>4</td>\n",
       "      <td>NaN</td>\n",
       "      <td>...</td>\n",
       "      <td>8.5</td>\n",
       "      <td>NaN</td>\n",
       "      <td>Тосно</td>\n",
       "      <td>NaN</td>\n",
       "      <td>NaN</td>\n",
       "      <td>NaN</td>\n",
       "      <td>NaN</td>\n",
       "      <td>NaN</td>\n",
       "      <td>NaN</td>\n",
       "      <td>45.0</td>\n",
       "    </tr>\n",
       "    <tr>\n",
       "      <th>23696</th>\n",
       "      <td>18</td>\n",
       "      <td>2500000.0</td>\n",
       "      <td>56.7</td>\n",
       "      <td>2018-02-11T00:00:00</td>\n",
       "      <td>2</td>\n",
       "      <td>NaN</td>\n",
       "      <td>3.0</td>\n",
       "      <td>29.7</td>\n",
       "      <td>1</td>\n",
       "      <td>NaN</td>\n",
       "      <td>...</td>\n",
       "      <td>NaN</td>\n",
       "      <td>NaN</td>\n",
       "      <td>село Рождествено</td>\n",
       "      <td>NaN</td>\n",
       "      <td>NaN</td>\n",
       "      <td>NaN</td>\n",
       "      <td>NaN</td>\n",
       "      <td>NaN</td>\n",
       "      <td>NaN</td>\n",
       "      <td>NaN</td>\n",
       "    </tr>\n",
       "  </tbody>\n",
       "</table>\n",
       "<p>9195 rows × 22 columns</p>\n",
       "</div>"
      ],
      "text/plain": [
       "       total_images  last_price  total_area first_day_exposition  rooms  \\\n",
       "1                 7   3350000.0        40.4  2018-12-04T00:00:00      1   \n",
       "2                10   5196000.0        56.0  2015-08-20T00:00:00      2   \n",
       "3                 0  64900000.0       159.0  2015-07-24T00:00:00      3   \n",
       "5                10   2890000.0        30.4  2018-09-10T00:00:00      1   \n",
       "6                 6   3700000.0        37.3  2017-11-02T00:00:00      1   \n",
       "...             ...         ...         ...                  ...    ...   \n",
       "23687             6   3200000.0        39.0  2017-12-16T00:00:00      1   \n",
       "23690             3   5500000.0        52.0  2018-07-19T00:00:00      2   \n",
       "23692             2   1350000.0        30.0  2017-07-07T00:00:00      1   \n",
       "23695            14   3100000.0        59.0  2018-01-15T00:00:00      3   \n",
       "23696            18   2500000.0        56.7  2018-02-11T00:00:00      2   \n",
       "\n",
       "       ceiling_height  floors_total  living_area  floor is_apartment  ...  \\\n",
       "1                 NaN          11.0         18.6      1          NaN  ...   \n",
       "2                 NaN           5.0         34.3      4          NaN  ...   \n",
       "3                 NaN          14.0          NaN      9          NaN  ...   \n",
       "5                 NaN          12.0         14.4      5          NaN  ...   \n",
       "6                 NaN          26.0         10.6      6          NaN  ...   \n",
       "...               ...           ...          ...    ...          ...  ...   \n",
       "23687             NaN           9.0         20.0      6          NaN  ...   \n",
       "23690             NaN           5.0         31.0      2          NaN  ...   \n",
       "23692             NaN           5.0         17.5      4          NaN  ...   \n",
       "23695             NaN           5.0         38.0      4          NaN  ...   \n",
       "23696             NaN           3.0         29.7      1          NaN  ...   \n",
       "\n",
       "       kitchen_area  balcony              locality_name  airports_nearest  \\\n",
       "1              11.0      2.0             посёлок Шушары           12817.0   \n",
       "2               8.3      0.0            Санкт-Петербург           21741.0   \n",
       "3               NaN      0.0            Санкт-Петербург           28098.0   \n",
       "5               9.1      NaN  городской посёлок Янино-1               NaN   \n",
       "6              14.4      1.0          посёлок Парголово           52996.0   \n",
       "...             ...      ...                        ...               ...   \n",
       "23687          11.0      2.0            Санкт-Петербург           40837.0   \n",
       "23690           6.0      NaN            Санкт-Петербург           20151.0   \n",
       "23692           6.0      NaN                     Тихвин               NaN   \n",
       "23695           8.5      NaN                      Тосно               NaN   \n",
       "23696           NaN      NaN           село Рождествено               NaN   \n",
       "\n",
       "      city_centers_nearest  parks_around_3000  parks_nearest  \\\n",
       "1                  18603.0                0.0            NaN   \n",
       "2                  13933.0                1.0           90.0   \n",
       "3                   6800.0                2.0           84.0   \n",
       "5                      NaN                NaN            NaN   \n",
       "6                  19143.0                0.0            NaN   \n",
       "...                    ...                ...            ...   \n",
       "23687              16704.0                0.0            NaN   \n",
       "23690               6263.0                1.0          300.0   \n",
       "23692                  NaN                NaN            NaN   \n",
       "23695                  NaN                NaN            NaN   \n",
       "23696                  NaN                NaN            NaN   \n",
       "\n",
       "       ponds_around_3000  ponds_nearest  days_exposition  \n",
       "1                    0.0            NaN             81.0  \n",
       "2                    2.0          574.0            558.0  \n",
       "3                    3.0          234.0            424.0  \n",
       "5                    NaN            NaN             55.0  \n",
       "6                    0.0            NaN            155.0  \n",
       "...                  ...            ...              ...  \n",
       "23687                0.0            NaN             38.0  \n",
       "23690                0.0            NaN             15.0  \n",
       "23692                NaN            NaN            413.0  \n",
       "23695                NaN            NaN             45.0  \n",
       "23696                NaN            NaN              NaN  \n",
       "\n",
       "[9195 rows x 22 columns]"
      ]
     },
     "execution_count": 13,
     "metadata": {},
     "output_type": "execute_result"
    }
   ],
   "source": [
    "df[df['ceiling_height'].isnull()]"
   ]
  },
  {
   "cell_type": "code",
   "execution_count": 14,
   "metadata": {},
   "outputs": [
    {
     "name": "stdout",
     "output_type": "stream",
     "text": [
      "[1.0, 2.0, 2.3, 2.4, 2.45, 2.46, 2.48, 2.53, 2.59, 2.62, 2.63, 2.7, nan, 1.2, 1.75, 2.2, 2.25, 2.34, 2.47, 2.49, 2.5, 2.51, 2.52, 2.54, 2.55, 2.56, 2.57, 2.58, 2.6, 2.61, 2.64, 2.65, 2.66, 2.67, 2.68, 2.69, 2.71, 2.72, 2.73, 2.74, 2.75, 2.76, 2.77, 2.78, 2.79, 2.8, 2.81, 2.82, 2.83, 2.84, 2.85, 2.86, 2.87, 2.88, 2.89, 2.9, 2.91, 2.92, 2.93, 2.94, 2.95, 2.96, 2.97, 2.98, 2.99, 3.0, 3.01, 3.02, 3.03, 3.04, 3.05, 3.06, 3.07, 3.08, 3.09, 3.1, 3.11, 3.12, 3.13, 3.14, 3.15, 3.16, 3.17, 3.18, 3.2, 3.21, 3.22, 3.23, 3.24, 3.25, 3.26, 3.27, 3.28, 3.29, 3.3, 3.31, 3.32, 3.33, 3.34, 3.35, 3.36, 3.37, 3.38, 3.39, 3.4, 3.42, 3.43, 3.44, 3.45, 3.46, 3.47, 3.48, 3.49, 3.5, 3.51, 3.52, 3.53, 3.54, 3.55, 3.56, 3.57, 3.58, 3.59, 3.6, 3.62, 3.63, 3.65, 3.66, 3.67, 3.68, 3.69, 3.7, 3.75, 3.76, 3.78, 3.8, 3.82, 3.83, 3.84, 3.85, 3.86, 3.87, 3.88, 3.9, 3.93, 3.95, 3.98, 4.0, 4.06, 4.1, 4.14, 4.15, 4.19, 4.2, 4.25, 4.3, 4.37, 4.4, 4.45, 4.5, 4.65, 4.7, 4.8, 4.9, 5.0, 5.2, 5.3, 5.5, 5.6, 5.8, 6.0, 8.0, 8.3, 10.3, 14.0, 20.0, 22.6, 24.0, 25.0, 26.0, 27.0, 27.5, 32.0, 100.0]\n"
     ]
    }
   ],
   "source": [
    "print(sorted(df['ceiling_height'].unique())) # выводим уникальные значения в столбце.\n",
    "                                             # используем print, чтобы сделать вывод компактным"
   ]
  },
  {
   "cell_type": "markdown",
   "metadata": {},
   "source": [
    "Когда планируешь ремонт и заказываешь мебель каждый сантиметр может быть важен. Поэтому, заменить пропуски медианным значением не получится - оставляем пропуски.\n",
    "\n",
    "Переходим к пропускам в столбце `floors_total`"
   ]
  },
  {
   "cell_type": "code",
   "execution_count": 15,
   "metadata": {
    "scrolled": true
   },
   "outputs": [
    {
     "data": {
      "text/html": [
       "<div>\n",
       "<style scoped>\n",
       "    .dataframe tbody tr th:only-of-type {\n",
       "        vertical-align: middle;\n",
       "    }\n",
       "\n",
       "    .dataframe tbody tr th {\n",
       "        vertical-align: top;\n",
       "    }\n",
       "\n",
       "    .dataframe thead th {\n",
       "        text-align: right;\n",
       "    }\n",
       "</style>\n",
       "<table border=\"1\" class=\"dataframe\">\n",
       "  <thead>\n",
       "    <tr style=\"text-align: right;\">\n",
       "      <th></th>\n",
       "      <th>total_images</th>\n",
       "      <th>last_price</th>\n",
       "      <th>total_area</th>\n",
       "      <th>first_day_exposition</th>\n",
       "      <th>rooms</th>\n",
       "      <th>ceiling_height</th>\n",
       "      <th>floors_total</th>\n",
       "      <th>living_area</th>\n",
       "      <th>floor</th>\n",
       "      <th>is_apartment</th>\n",
       "      <th>...</th>\n",
       "      <th>kitchen_area</th>\n",
       "      <th>balcony</th>\n",
       "      <th>locality_name</th>\n",
       "      <th>airports_nearest</th>\n",
       "      <th>city_centers_nearest</th>\n",
       "      <th>parks_around_3000</th>\n",
       "      <th>parks_nearest</th>\n",
       "      <th>ponds_around_3000</th>\n",
       "      <th>ponds_nearest</th>\n",
       "      <th>days_exposition</th>\n",
       "    </tr>\n",
       "  </thead>\n",
       "  <tbody>\n",
       "    <tr>\n",
       "      <th>186</th>\n",
       "      <td>12</td>\n",
       "      <td>11640000.0</td>\n",
       "      <td>65.2</td>\n",
       "      <td>2018-10-02T00:00:00</td>\n",
       "      <td>2</td>\n",
       "      <td>NaN</td>\n",
       "      <td>NaN</td>\n",
       "      <td>30.80</td>\n",
       "      <td>4</td>\n",
       "      <td>NaN</td>\n",
       "      <td>...</td>\n",
       "      <td>12.00</td>\n",
       "      <td>NaN</td>\n",
       "      <td>Санкт-Петербург</td>\n",
       "      <td>39197.0</td>\n",
       "      <td>12373.0</td>\n",
       "      <td>1.0</td>\n",
       "      <td>123.0</td>\n",
       "      <td>0.0</td>\n",
       "      <td>NaN</td>\n",
       "      <td>49.0</td>\n",
       "    </tr>\n",
       "    <tr>\n",
       "      <th>237</th>\n",
       "      <td>4</td>\n",
       "      <td>2438033.0</td>\n",
       "      <td>28.1</td>\n",
       "      <td>2016-11-23T00:00:00</td>\n",
       "      <td>1</td>\n",
       "      <td>NaN</td>\n",
       "      <td>NaN</td>\n",
       "      <td>20.75</td>\n",
       "      <td>1</td>\n",
       "      <td>NaN</td>\n",
       "      <td>...</td>\n",
       "      <td>NaN</td>\n",
       "      <td>0.0</td>\n",
       "      <td>Санкт-Петербург</td>\n",
       "      <td>22041.0</td>\n",
       "      <td>17369.0</td>\n",
       "      <td>0.0</td>\n",
       "      <td>NaN</td>\n",
       "      <td>1.0</td>\n",
       "      <td>374.0</td>\n",
       "      <td>251.0</td>\n",
       "    </tr>\n",
       "    <tr>\n",
       "      <th>457</th>\n",
       "      <td>4</td>\n",
       "      <td>9788348.0</td>\n",
       "      <td>70.8</td>\n",
       "      <td>2015-08-01T00:00:00</td>\n",
       "      <td>2</td>\n",
       "      <td>NaN</td>\n",
       "      <td>NaN</td>\n",
       "      <td>38.40</td>\n",
       "      <td>12</td>\n",
       "      <td>NaN</td>\n",
       "      <td>...</td>\n",
       "      <td>10.63</td>\n",
       "      <td>0.0</td>\n",
       "      <td>Санкт-Петербург</td>\n",
       "      <td>37364.0</td>\n",
       "      <td>8322.0</td>\n",
       "      <td>2.0</td>\n",
       "      <td>309.0</td>\n",
       "      <td>2.0</td>\n",
       "      <td>706.0</td>\n",
       "      <td>727.0</td>\n",
       "    </tr>\n",
       "    <tr>\n",
       "      <th>671</th>\n",
       "      <td>4</td>\n",
       "      <td>6051191.0</td>\n",
       "      <td>93.6</td>\n",
       "      <td>2017-04-06T00:00:00</td>\n",
       "      <td>3</td>\n",
       "      <td>NaN</td>\n",
       "      <td>NaN</td>\n",
       "      <td>47.10</td>\n",
       "      <td>8</td>\n",
       "      <td>NaN</td>\n",
       "      <td>...</td>\n",
       "      <td>16.80</td>\n",
       "      <td>0.0</td>\n",
       "      <td>Санкт-Петербург</td>\n",
       "      <td>22041.0</td>\n",
       "      <td>17369.0</td>\n",
       "      <td>0.0</td>\n",
       "      <td>NaN</td>\n",
       "      <td>1.0</td>\n",
       "      <td>374.0</td>\n",
       "      <td>123.0</td>\n",
       "    </tr>\n",
       "    <tr>\n",
       "      <th>1757</th>\n",
       "      <td>5</td>\n",
       "      <td>3600000.0</td>\n",
       "      <td>39.0</td>\n",
       "      <td>2017-04-22T00:00:00</td>\n",
       "      <td>1</td>\n",
       "      <td>NaN</td>\n",
       "      <td>NaN</td>\n",
       "      <td>NaN</td>\n",
       "      <td>9</td>\n",
       "      <td>NaN</td>\n",
       "      <td>...</td>\n",
       "      <td>NaN</td>\n",
       "      <td>0.0</td>\n",
       "      <td>Санкт-Петербург</td>\n",
       "      <td>22735.0</td>\n",
       "      <td>11618.0</td>\n",
       "      <td>1.0</td>\n",
       "      <td>835.0</td>\n",
       "      <td>1.0</td>\n",
       "      <td>652.0</td>\n",
       "      <td>77.0</td>\n",
       "    </tr>\n",
       "    <tr>\n",
       "      <th>...</th>\n",
       "      <td>...</td>\n",
       "      <td>...</td>\n",
       "      <td>...</td>\n",
       "      <td>...</td>\n",
       "      <td>...</td>\n",
       "      <td>...</td>\n",
       "      <td>...</td>\n",
       "      <td>...</td>\n",
       "      <td>...</td>\n",
       "      <td>...</td>\n",
       "      <td>...</td>\n",
       "      <td>...</td>\n",
       "      <td>...</td>\n",
       "      <td>...</td>\n",
       "      <td>...</td>\n",
       "      <td>...</td>\n",
       "      <td>...</td>\n",
       "      <td>...</td>\n",
       "      <td>...</td>\n",
       "      <td>...</td>\n",
       "      <td>...</td>\n",
       "    </tr>\n",
       "    <tr>\n",
       "      <th>22542</th>\n",
       "      <td>5</td>\n",
       "      <td>8500000.0</td>\n",
       "      <td>63.5</td>\n",
       "      <td>2017-05-24T00:00:00</td>\n",
       "      <td>2</td>\n",
       "      <td>2.8</td>\n",
       "      <td>NaN</td>\n",
       "      <td>NaN</td>\n",
       "      <td>3</td>\n",
       "      <td>NaN</td>\n",
       "      <td>...</td>\n",
       "      <td>NaN</td>\n",
       "      <td>NaN</td>\n",
       "      <td>Санкт-Петербург</td>\n",
       "      <td>51340.0</td>\n",
       "      <td>15363.0</td>\n",
       "      <td>0.0</td>\n",
       "      <td>NaN</td>\n",
       "      <td>1.0</td>\n",
       "      <td>853.0</td>\n",
       "      <td>512.0</td>\n",
       "    </tr>\n",
       "    <tr>\n",
       "      <th>22656</th>\n",
       "      <td>4</td>\n",
       "      <td>4574160.0</td>\n",
       "      <td>64.5</td>\n",
       "      <td>2017-04-02T00:00:00</td>\n",
       "      <td>2</td>\n",
       "      <td>NaN</td>\n",
       "      <td>NaN</td>\n",
       "      <td>31.70</td>\n",
       "      <td>20</td>\n",
       "      <td>NaN</td>\n",
       "      <td>...</td>\n",
       "      <td>14.40</td>\n",
       "      <td>0.0</td>\n",
       "      <td>Санкт-Петербург</td>\n",
       "      <td>22041.0</td>\n",
       "      <td>17369.0</td>\n",
       "      <td>0.0</td>\n",
       "      <td>NaN</td>\n",
       "      <td>1.0</td>\n",
       "      <td>374.0</td>\n",
       "      <td>127.0</td>\n",
       "    </tr>\n",
       "    <tr>\n",
       "      <th>22808</th>\n",
       "      <td>0</td>\n",
       "      <td>14569263.0</td>\n",
       "      <td>110.4</td>\n",
       "      <td>2016-11-20T00:00:00</td>\n",
       "      <td>3</td>\n",
       "      <td>NaN</td>\n",
       "      <td>NaN</td>\n",
       "      <td>45.38</td>\n",
       "      <td>6</td>\n",
       "      <td>NaN</td>\n",
       "      <td>...</td>\n",
       "      <td>23.42</td>\n",
       "      <td>0.0</td>\n",
       "      <td>Санкт-Петербург</td>\n",
       "      <td>19095.0</td>\n",
       "      <td>4529.0</td>\n",
       "      <td>0.0</td>\n",
       "      <td>NaN</td>\n",
       "      <td>0.0</td>\n",
       "      <td>NaN</td>\n",
       "      <td>260.0</td>\n",
       "    </tr>\n",
       "    <tr>\n",
       "      <th>23590</th>\n",
       "      <td>0</td>\n",
       "      <td>21187872.0</td>\n",
       "      <td>123.3</td>\n",
       "      <td>2017-04-25T00:00:00</td>\n",
       "      <td>3</td>\n",
       "      <td>NaN</td>\n",
       "      <td>NaN</td>\n",
       "      <td>50.40</td>\n",
       "      <td>18</td>\n",
       "      <td>NaN</td>\n",
       "      <td>...</td>\n",
       "      <td>23.60</td>\n",
       "      <td>0.0</td>\n",
       "      <td>Санкт-Петербург</td>\n",
       "      <td>19095.0</td>\n",
       "      <td>4529.0</td>\n",
       "      <td>0.0</td>\n",
       "      <td>NaN</td>\n",
       "      <td>0.0</td>\n",
       "      <td>NaN</td>\n",
       "      <td>104.0</td>\n",
       "    </tr>\n",
       "    <tr>\n",
       "      <th>23658</th>\n",
       "      <td>6</td>\n",
       "      <td>3063600.0</td>\n",
       "      <td>43.8</td>\n",
       "      <td>2016-11-28T00:00:00</td>\n",
       "      <td>1</td>\n",
       "      <td>2.7</td>\n",
       "      <td>NaN</td>\n",
       "      <td>14.00</td>\n",
       "      <td>8</td>\n",
       "      <td>NaN</td>\n",
       "      <td>...</td>\n",
       "      <td>15.50</td>\n",
       "      <td>2.0</td>\n",
       "      <td>Санкт-Петербург</td>\n",
       "      <td>8426.0</td>\n",
       "      <td>12082.0</td>\n",
       "      <td>2.0</td>\n",
       "      <td>24.0</td>\n",
       "      <td>1.0</td>\n",
       "      <td>271.0</td>\n",
       "      <td>246.0</td>\n",
       "    </tr>\n",
       "  </tbody>\n",
       "</table>\n",
       "<p>86 rows × 22 columns</p>\n",
       "</div>"
      ],
      "text/plain": [
       "       total_images  last_price  total_area first_day_exposition  rooms  \\\n",
       "186              12  11640000.0        65.2  2018-10-02T00:00:00      2   \n",
       "237               4   2438033.0        28.1  2016-11-23T00:00:00      1   \n",
       "457               4   9788348.0        70.8  2015-08-01T00:00:00      2   \n",
       "671               4   6051191.0        93.6  2017-04-06T00:00:00      3   \n",
       "1757              5   3600000.0        39.0  2017-04-22T00:00:00      1   \n",
       "...             ...         ...         ...                  ...    ...   \n",
       "22542             5   8500000.0        63.5  2017-05-24T00:00:00      2   \n",
       "22656             4   4574160.0        64.5  2017-04-02T00:00:00      2   \n",
       "22808             0  14569263.0       110.4  2016-11-20T00:00:00      3   \n",
       "23590             0  21187872.0       123.3  2017-04-25T00:00:00      3   \n",
       "23658             6   3063600.0        43.8  2016-11-28T00:00:00      1   \n",
       "\n",
       "       ceiling_height  floors_total  living_area  floor is_apartment  ...  \\\n",
       "186               NaN           NaN        30.80      4          NaN  ...   \n",
       "237               NaN           NaN        20.75      1          NaN  ...   \n",
       "457               NaN           NaN        38.40     12          NaN  ...   \n",
       "671               NaN           NaN        47.10      8          NaN  ...   \n",
       "1757              NaN           NaN          NaN      9          NaN  ...   \n",
       "...               ...           ...          ...    ...          ...  ...   \n",
       "22542             2.8           NaN          NaN      3          NaN  ...   \n",
       "22656             NaN           NaN        31.70     20          NaN  ...   \n",
       "22808             NaN           NaN        45.38      6          NaN  ...   \n",
       "23590             NaN           NaN        50.40     18          NaN  ...   \n",
       "23658             2.7           NaN        14.00      8          NaN  ...   \n",
       "\n",
       "       kitchen_area  balcony    locality_name  airports_nearest  \\\n",
       "186           12.00      NaN  Санкт-Петербург           39197.0   \n",
       "237             NaN      0.0  Санкт-Петербург           22041.0   \n",
       "457           10.63      0.0  Санкт-Петербург           37364.0   \n",
       "671           16.80      0.0  Санкт-Петербург           22041.0   \n",
       "1757            NaN      0.0  Санкт-Петербург           22735.0   \n",
       "...             ...      ...              ...               ...   \n",
       "22542           NaN      NaN  Санкт-Петербург           51340.0   \n",
       "22656         14.40      0.0  Санкт-Петербург           22041.0   \n",
       "22808         23.42      0.0  Санкт-Петербург           19095.0   \n",
       "23590         23.60      0.0  Санкт-Петербург           19095.0   \n",
       "23658         15.50      2.0  Санкт-Петербург            8426.0   \n",
       "\n",
       "      city_centers_nearest  parks_around_3000  parks_nearest  \\\n",
       "186                12373.0                1.0          123.0   \n",
       "237                17369.0                0.0            NaN   \n",
       "457                 8322.0                2.0          309.0   \n",
       "671                17369.0                0.0            NaN   \n",
       "1757               11618.0                1.0          835.0   \n",
       "...                    ...                ...            ...   \n",
       "22542              15363.0                0.0            NaN   \n",
       "22656              17369.0                0.0            NaN   \n",
       "22808               4529.0                0.0            NaN   \n",
       "23590               4529.0                0.0            NaN   \n",
       "23658              12082.0                2.0           24.0   \n",
       "\n",
       "       ponds_around_3000  ponds_nearest  days_exposition  \n",
       "186                  0.0            NaN             49.0  \n",
       "237                  1.0          374.0            251.0  \n",
       "457                  2.0          706.0            727.0  \n",
       "671                  1.0          374.0            123.0  \n",
       "1757                 1.0          652.0             77.0  \n",
       "...                  ...            ...              ...  \n",
       "22542                1.0          853.0            512.0  \n",
       "22656                1.0          374.0            127.0  \n",
       "22808                0.0            NaN            260.0  \n",
       "23590                0.0            NaN            104.0  \n",
       "23658                1.0          271.0            246.0  \n",
       "\n",
       "[86 rows x 22 columns]"
      ]
     },
     "execution_count": 15,
     "metadata": {},
     "output_type": "execute_result"
    }
   ],
   "source": [
    "df[df['floors_total'].isnull()]"
   ]
  },
  {
   "cell_type": "markdown",
   "metadata": {},
   "source": [
    "Никаких очевидных закономерностей — разве что пропуски преимущественно идут в паре с пропусками в `ceiling_height` — кажется, объявление о продаже просто заполнял ленивый риелтор. **Оставляем пропуски** и движемся в следующий столбец — `living_area`."
   ]
  },
  {
   "cell_type": "code",
   "execution_count": 16,
   "metadata": {
    "scrolled": true
   },
   "outputs": [
    {
     "data": {
      "text/html": [
       "<div>\n",
       "<style scoped>\n",
       "    .dataframe tbody tr th:only-of-type {\n",
       "        vertical-align: middle;\n",
       "    }\n",
       "\n",
       "    .dataframe tbody tr th {\n",
       "        vertical-align: top;\n",
       "    }\n",
       "\n",
       "    .dataframe thead th {\n",
       "        text-align: right;\n",
       "    }\n",
       "</style>\n",
       "<table border=\"1\" class=\"dataframe\">\n",
       "  <thead>\n",
       "    <tr style=\"text-align: right;\">\n",
       "      <th></th>\n",
       "      <th>total_images</th>\n",
       "      <th>last_price</th>\n",
       "      <th>total_area</th>\n",
       "      <th>first_day_exposition</th>\n",
       "      <th>rooms</th>\n",
       "      <th>ceiling_height</th>\n",
       "      <th>floors_total</th>\n",
       "      <th>living_area</th>\n",
       "      <th>floor</th>\n",
       "      <th>is_apartment</th>\n",
       "      <th>...</th>\n",
       "      <th>kitchen_area</th>\n",
       "      <th>balcony</th>\n",
       "      <th>locality_name</th>\n",
       "      <th>airports_nearest</th>\n",
       "      <th>city_centers_nearest</th>\n",
       "      <th>parks_around_3000</th>\n",
       "      <th>parks_nearest</th>\n",
       "      <th>ponds_around_3000</th>\n",
       "      <th>ponds_nearest</th>\n",
       "      <th>days_exposition</th>\n",
       "    </tr>\n",
       "  </thead>\n",
       "  <tbody>\n",
       "    <tr>\n",
       "      <th>3</th>\n",
       "      <td>0</td>\n",
       "      <td>64900000.0</td>\n",
       "      <td>159.00</td>\n",
       "      <td>2015-07-24T00:00:00</td>\n",
       "      <td>3</td>\n",
       "      <td>NaN</td>\n",
       "      <td>14.0</td>\n",
       "      <td>NaN</td>\n",
       "      <td>9</td>\n",
       "      <td>NaN</td>\n",
       "      <td>...</td>\n",
       "      <td>NaN</td>\n",
       "      <td>0.0</td>\n",
       "      <td>Санкт-Петербург</td>\n",
       "      <td>28098.0</td>\n",
       "      <td>6800.0</td>\n",
       "      <td>2.0</td>\n",
       "      <td>84.0</td>\n",
       "      <td>3.0</td>\n",
       "      <td>234.0</td>\n",
       "      <td>424.0</td>\n",
       "    </tr>\n",
       "    <tr>\n",
       "      <th>7</th>\n",
       "      <td>5</td>\n",
       "      <td>7915000.0</td>\n",
       "      <td>71.60</td>\n",
       "      <td>2019-04-18T00:00:00</td>\n",
       "      <td>2</td>\n",
       "      <td>NaN</td>\n",
       "      <td>24.0</td>\n",
       "      <td>NaN</td>\n",
       "      <td>22</td>\n",
       "      <td>NaN</td>\n",
       "      <td>...</td>\n",
       "      <td>18.9</td>\n",
       "      <td>2.0</td>\n",
       "      <td>Санкт-Петербург</td>\n",
       "      <td>23982.0</td>\n",
       "      <td>11634.0</td>\n",
       "      <td>0.0</td>\n",
       "      <td>NaN</td>\n",
       "      <td>0.0</td>\n",
       "      <td>NaN</td>\n",
       "      <td>NaN</td>\n",
       "    </tr>\n",
       "    <tr>\n",
       "      <th>30</th>\n",
       "      <td>12</td>\n",
       "      <td>2200000.0</td>\n",
       "      <td>32.80</td>\n",
       "      <td>2018-02-19T00:00:00</td>\n",
       "      <td>1</td>\n",
       "      <td>NaN</td>\n",
       "      <td>9.0</td>\n",
       "      <td>NaN</td>\n",
       "      <td>2</td>\n",
       "      <td>NaN</td>\n",
       "      <td>...</td>\n",
       "      <td>NaN</td>\n",
       "      <td>NaN</td>\n",
       "      <td>Коммунар</td>\n",
       "      <td>NaN</td>\n",
       "      <td>NaN</td>\n",
       "      <td>NaN</td>\n",
       "      <td>NaN</td>\n",
       "      <td>NaN</td>\n",
       "      <td>NaN</td>\n",
       "      <td>63.0</td>\n",
       "    </tr>\n",
       "    <tr>\n",
       "      <th>37</th>\n",
       "      <td>10</td>\n",
       "      <td>1990000.0</td>\n",
       "      <td>45.80</td>\n",
       "      <td>2017-10-28T00:00:00</td>\n",
       "      <td>2</td>\n",
       "      <td>2.50</td>\n",
       "      <td>5.0</td>\n",
       "      <td>NaN</td>\n",
       "      <td>1</td>\n",
       "      <td>NaN</td>\n",
       "      <td>...</td>\n",
       "      <td>NaN</td>\n",
       "      <td>NaN</td>\n",
       "      <td>поселок городского типа Красный Бор</td>\n",
       "      <td>NaN</td>\n",
       "      <td>NaN</td>\n",
       "      <td>NaN</td>\n",
       "      <td>NaN</td>\n",
       "      <td>NaN</td>\n",
       "      <td>NaN</td>\n",
       "      <td>196.0</td>\n",
       "    </tr>\n",
       "    <tr>\n",
       "      <th>44</th>\n",
       "      <td>13</td>\n",
       "      <td>5350000.0</td>\n",
       "      <td>40.00</td>\n",
       "      <td>2018-11-18T00:00:00</td>\n",
       "      <td>1</td>\n",
       "      <td>NaN</td>\n",
       "      <td>22.0</td>\n",
       "      <td>NaN</td>\n",
       "      <td>3</td>\n",
       "      <td>NaN</td>\n",
       "      <td>...</td>\n",
       "      <td>NaN</td>\n",
       "      <td>1.0</td>\n",
       "      <td>Санкт-Петербург</td>\n",
       "      <td>30471.0</td>\n",
       "      <td>11603.0</td>\n",
       "      <td>1.0</td>\n",
       "      <td>620.0</td>\n",
       "      <td>1.0</td>\n",
       "      <td>1152.0</td>\n",
       "      <td>NaN</td>\n",
       "    </tr>\n",
       "    <tr>\n",
       "      <th>...</th>\n",
       "      <td>...</td>\n",
       "      <td>...</td>\n",
       "      <td>...</td>\n",
       "      <td>...</td>\n",
       "      <td>...</td>\n",
       "      <td>...</td>\n",
       "      <td>...</td>\n",
       "      <td>...</td>\n",
       "      <td>...</td>\n",
       "      <td>...</td>\n",
       "      <td>...</td>\n",
       "      <td>...</td>\n",
       "      <td>...</td>\n",
       "      <td>...</td>\n",
       "      <td>...</td>\n",
       "      <td>...</td>\n",
       "      <td>...</td>\n",
       "      <td>...</td>\n",
       "      <td>...</td>\n",
       "      <td>...</td>\n",
       "      <td>...</td>\n",
       "    </tr>\n",
       "    <tr>\n",
       "      <th>23642</th>\n",
       "      <td>14</td>\n",
       "      <td>5950000.0</td>\n",
       "      <td>80.30</td>\n",
       "      <td>2018-07-03T00:00:00</td>\n",
       "      <td>3</td>\n",
       "      <td>2.70</td>\n",
       "      <td>12.0</td>\n",
       "      <td>NaN</td>\n",
       "      <td>5</td>\n",
       "      <td>NaN</td>\n",
       "      <td>...</td>\n",
       "      <td>NaN</td>\n",
       "      <td>NaN</td>\n",
       "      <td>Колпино</td>\n",
       "      <td>27933.0</td>\n",
       "      <td>33719.0</td>\n",
       "      <td>0.0</td>\n",
       "      <td>NaN</td>\n",
       "      <td>2.0</td>\n",
       "      <td>562.0</td>\n",
       "      <td>60.0</td>\n",
       "    </tr>\n",
       "    <tr>\n",
       "      <th>23663</th>\n",
       "      <td>12</td>\n",
       "      <td>6400000.0</td>\n",
       "      <td>88.00</td>\n",
       "      <td>2018-01-12T00:00:00</td>\n",
       "      <td>4</td>\n",
       "      <td>2.55</td>\n",
       "      <td>10.0</td>\n",
       "      <td>NaN</td>\n",
       "      <td>1</td>\n",
       "      <td>NaN</td>\n",
       "      <td>...</td>\n",
       "      <td>NaN</td>\n",
       "      <td>NaN</td>\n",
       "      <td>Санкт-Петербург</td>\n",
       "      <td>33642.0</td>\n",
       "      <td>13943.0</td>\n",
       "      <td>0.0</td>\n",
       "      <td>NaN</td>\n",
       "      <td>2.0</td>\n",
       "      <td>844.0</td>\n",
       "      <td>59.0</td>\n",
       "    </tr>\n",
       "    <tr>\n",
       "      <th>23670</th>\n",
       "      <td>9</td>\n",
       "      <td>2450000.0</td>\n",
       "      <td>45.60</td>\n",
       "      <td>2018-02-08T00:00:00</td>\n",
       "      <td>1</td>\n",
       "      <td>2.80</td>\n",
       "      <td>9.0</td>\n",
       "      <td>NaN</td>\n",
       "      <td>2</td>\n",
       "      <td>NaN</td>\n",
       "      <td>...</td>\n",
       "      <td>NaN</td>\n",
       "      <td>NaN</td>\n",
       "      <td>поселок городского типа Синявино</td>\n",
       "      <td>NaN</td>\n",
       "      <td>NaN</td>\n",
       "      <td>NaN</td>\n",
       "      <td>NaN</td>\n",
       "      <td>NaN</td>\n",
       "      <td>NaN</td>\n",
       "      <td>45.0</td>\n",
       "    </tr>\n",
       "    <tr>\n",
       "      <th>23679</th>\n",
       "      <td>0</td>\n",
       "      <td>2500000.0</td>\n",
       "      <td>35.00</td>\n",
       "      <td>2017-12-08T00:00:00</td>\n",
       "      <td>1</td>\n",
       "      <td>NaN</td>\n",
       "      <td>9.0</td>\n",
       "      <td>NaN</td>\n",
       "      <td>4</td>\n",
       "      <td>NaN</td>\n",
       "      <td>...</td>\n",
       "      <td>NaN</td>\n",
       "      <td>NaN</td>\n",
       "      <td>Сосновый Бор</td>\n",
       "      <td>NaN</td>\n",
       "      <td>NaN</td>\n",
       "      <td>NaN</td>\n",
       "      <td>NaN</td>\n",
       "      <td>NaN</td>\n",
       "      <td>NaN</td>\n",
       "      <td>45.0</td>\n",
       "    </tr>\n",
       "    <tr>\n",
       "      <th>23697</th>\n",
       "      <td>13</td>\n",
       "      <td>11475000.0</td>\n",
       "      <td>76.75</td>\n",
       "      <td>2017-03-28T00:00:00</td>\n",
       "      <td>2</td>\n",
       "      <td>3.00</td>\n",
       "      <td>17.0</td>\n",
       "      <td>NaN</td>\n",
       "      <td>12</td>\n",
       "      <td>NaN</td>\n",
       "      <td>...</td>\n",
       "      <td>23.3</td>\n",
       "      <td>2.0</td>\n",
       "      <td>Санкт-Петербург</td>\n",
       "      <td>39140.0</td>\n",
       "      <td>10364.0</td>\n",
       "      <td>2.0</td>\n",
       "      <td>173.0</td>\n",
       "      <td>3.0</td>\n",
       "      <td>196.0</td>\n",
       "      <td>602.0</td>\n",
       "    </tr>\n",
       "  </tbody>\n",
       "</table>\n",
       "<p>1903 rows × 22 columns</p>\n",
       "</div>"
      ],
      "text/plain": [
       "       total_images  last_price  total_area first_day_exposition  rooms  \\\n",
       "3                 0  64900000.0      159.00  2015-07-24T00:00:00      3   \n",
       "7                 5   7915000.0       71.60  2019-04-18T00:00:00      2   \n",
       "30               12   2200000.0       32.80  2018-02-19T00:00:00      1   \n",
       "37               10   1990000.0       45.80  2017-10-28T00:00:00      2   \n",
       "44               13   5350000.0       40.00  2018-11-18T00:00:00      1   \n",
       "...             ...         ...         ...                  ...    ...   \n",
       "23642            14   5950000.0       80.30  2018-07-03T00:00:00      3   \n",
       "23663            12   6400000.0       88.00  2018-01-12T00:00:00      4   \n",
       "23670             9   2450000.0       45.60  2018-02-08T00:00:00      1   \n",
       "23679             0   2500000.0       35.00  2017-12-08T00:00:00      1   \n",
       "23697            13  11475000.0       76.75  2017-03-28T00:00:00      2   \n",
       "\n",
       "       ceiling_height  floors_total  living_area  floor is_apartment  ...  \\\n",
       "3                 NaN          14.0          NaN      9          NaN  ...   \n",
       "7                 NaN          24.0          NaN     22          NaN  ...   \n",
       "30                NaN           9.0          NaN      2          NaN  ...   \n",
       "37               2.50           5.0          NaN      1          NaN  ...   \n",
       "44                NaN          22.0          NaN      3          NaN  ...   \n",
       "...               ...           ...          ...    ...          ...  ...   \n",
       "23642            2.70          12.0          NaN      5          NaN  ...   \n",
       "23663            2.55          10.0          NaN      1          NaN  ...   \n",
       "23670            2.80           9.0          NaN      2          NaN  ...   \n",
       "23679             NaN           9.0          NaN      4          NaN  ...   \n",
       "23697            3.00          17.0          NaN     12          NaN  ...   \n",
       "\n",
       "       kitchen_area  balcony                        locality_name  \\\n",
       "3               NaN      0.0                      Санкт-Петербург   \n",
       "7              18.9      2.0                      Санкт-Петербург   \n",
       "30              NaN      NaN                             Коммунар   \n",
       "37              NaN      NaN  поселок городского типа Красный Бор   \n",
       "44              NaN      1.0                      Санкт-Петербург   \n",
       "...             ...      ...                                  ...   \n",
       "23642           NaN      NaN                              Колпино   \n",
       "23663           NaN      NaN                      Санкт-Петербург   \n",
       "23670           NaN      NaN     поселок городского типа Синявино   \n",
       "23679           NaN      NaN                         Сосновый Бор   \n",
       "23697          23.3      2.0                      Санкт-Петербург   \n",
       "\n",
       "       airports_nearest city_centers_nearest  parks_around_3000  \\\n",
       "3               28098.0               6800.0                2.0   \n",
       "7               23982.0              11634.0                0.0   \n",
       "30                  NaN                  NaN                NaN   \n",
       "37                  NaN                  NaN                NaN   \n",
       "44              30471.0              11603.0                1.0   \n",
       "...                 ...                  ...                ...   \n",
       "23642           27933.0              33719.0                0.0   \n",
       "23663           33642.0              13943.0                0.0   \n",
       "23670               NaN                  NaN                NaN   \n",
       "23679               NaN                  NaN                NaN   \n",
       "23697           39140.0              10364.0                2.0   \n",
       "\n",
       "       parks_nearest  ponds_around_3000  ponds_nearest  days_exposition  \n",
       "3               84.0                3.0          234.0            424.0  \n",
       "7                NaN                0.0            NaN              NaN  \n",
       "30               NaN                NaN            NaN             63.0  \n",
       "37               NaN                NaN            NaN            196.0  \n",
       "44             620.0                1.0         1152.0              NaN  \n",
       "...              ...                ...            ...              ...  \n",
       "23642            NaN                2.0          562.0             60.0  \n",
       "23663            NaN                2.0          844.0             59.0  \n",
       "23670            NaN                NaN            NaN             45.0  \n",
       "23679            NaN                NaN            NaN             45.0  \n",
       "23697          173.0                3.0          196.0            602.0  \n",
       "\n",
       "[1903 rows x 22 columns]"
      ]
     },
     "execution_count": 16,
     "metadata": {},
     "output_type": "execute_result"
    }
   ],
   "source": [
    "df[df['living_area'].isnull()]"
   ]
  },
  {
   "cell_type": "markdown",
   "metadata": {},
   "source": [
    "Как и в случае с потолками, заменить пропуски в жилой площади медианным значением не получится, как и взять среднее соотношение жилой площади к общей: каждый объект недвижимости слишком уникален."
   ]
  },
  {
   "cell_type": "markdown",
   "metadata": {},
   "source": [
    "`is_apartment` имеет значительное число пропусков. Причиной стала ошибка заполнения - у данных в столбце тип `object`, хотя по содержанию — это булев тип. Заменим пропуски на **False** т. е. подразумеваем, что пропуск означает, что недвижимость не является апартаментами."
   ]
  },
  {
   "cell_type": "code",
   "execution_count": 17,
   "metadata": {},
   "outputs": [],
   "source": [
    "df['is_apartment'] = df['is_apartment'].fillna(False) # заменим пропуски на False"
   ]
  },
  {
   "cell_type": "code",
   "execution_count": 18,
   "metadata": {
    "scrolled": true
   },
   "outputs": [
    {
     "data": {
      "text/plain": [
       "False    23649\n",
       "True        50\n",
       "Name: is_apartment, dtype: int64"
      ]
     },
     "execution_count": 18,
     "metadata": {},
     "output_type": "execute_result"
    }
   ],
   "source": [
    "df['is_apartment'].value_counts() #проверим замену пропусков"
   ]
  },
  {
   "cell_type": "code",
   "execution_count": 19,
   "metadata": {},
   "outputs": [
    {
     "data": {
      "text/plain": [
       "dtype('bool')"
      ]
     },
     "execution_count": 19,
     "metadata": {},
     "output_type": "execute_result"
    }
   ],
   "source": [
    "df['is_apartment'].dtypes       # без пропусков тип данных сменился на bool"
   ]
  },
  {
   "cell_type": "code",
   "execution_count": 20,
   "metadata": {},
   "outputs": [
    {
     "data": {
      "text/html": [
       "<div>\n",
       "<style scoped>\n",
       "    .dataframe tbody tr th:only-of-type {\n",
       "        vertical-align: middle;\n",
       "    }\n",
       "\n",
       "    .dataframe tbody tr th {\n",
       "        vertical-align: top;\n",
       "    }\n",
       "\n",
       "    .dataframe thead th {\n",
       "        text-align: right;\n",
       "    }\n",
       "</style>\n",
       "<table border=\"1\" class=\"dataframe\">\n",
       "  <thead>\n",
       "    <tr style=\"text-align: right;\">\n",
       "      <th></th>\n",
       "      <th>total_images</th>\n",
       "      <th>last_price</th>\n",
       "      <th>total_area</th>\n",
       "      <th>first_day_exposition</th>\n",
       "      <th>rooms</th>\n",
       "      <th>ceiling_height</th>\n",
       "      <th>floors_total</th>\n",
       "      <th>living_area</th>\n",
       "      <th>floor</th>\n",
       "      <th>is_apartment</th>\n",
       "      <th>...</th>\n",
       "      <th>kitchen_area</th>\n",
       "      <th>balcony</th>\n",
       "      <th>locality_name</th>\n",
       "      <th>airports_nearest</th>\n",
       "      <th>city_centers_nearest</th>\n",
       "      <th>parks_around_3000</th>\n",
       "      <th>parks_nearest</th>\n",
       "      <th>ponds_around_3000</th>\n",
       "      <th>ponds_nearest</th>\n",
       "      <th>days_exposition</th>\n",
       "    </tr>\n",
       "  </thead>\n",
       "  <tbody>\n",
       "    <tr>\n",
       "      <th>3</th>\n",
       "      <td>0</td>\n",
       "      <td>64900000.0</td>\n",
       "      <td>159.0</td>\n",
       "      <td>2015-07-24T00:00:00</td>\n",
       "      <td>3</td>\n",
       "      <td>NaN</td>\n",
       "      <td>14.0</td>\n",
       "      <td>NaN</td>\n",
       "      <td>9</td>\n",
       "      <td>False</td>\n",
       "      <td>...</td>\n",
       "      <td>NaN</td>\n",
       "      <td>0.0</td>\n",
       "      <td>Санкт-Петербург</td>\n",
       "      <td>28098.0</td>\n",
       "      <td>6800.0</td>\n",
       "      <td>2.0</td>\n",
       "      <td>84.0</td>\n",
       "      <td>3.0</td>\n",
       "      <td>234.0</td>\n",
       "      <td>424.0</td>\n",
       "    </tr>\n",
       "    <tr>\n",
       "      <th>30</th>\n",
       "      <td>12</td>\n",
       "      <td>2200000.0</td>\n",
       "      <td>32.8</td>\n",
       "      <td>2018-02-19T00:00:00</td>\n",
       "      <td>1</td>\n",
       "      <td>NaN</td>\n",
       "      <td>9.0</td>\n",
       "      <td>NaN</td>\n",
       "      <td>2</td>\n",
       "      <td>False</td>\n",
       "      <td>...</td>\n",
       "      <td>NaN</td>\n",
       "      <td>NaN</td>\n",
       "      <td>Коммунар</td>\n",
       "      <td>NaN</td>\n",
       "      <td>NaN</td>\n",
       "      <td>NaN</td>\n",
       "      <td>NaN</td>\n",
       "      <td>NaN</td>\n",
       "      <td>NaN</td>\n",
       "      <td>63.0</td>\n",
       "    </tr>\n",
       "    <tr>\n",
       "      <th>37</th>\n",
       "      <td>10</td>\n",
       "      <td>1990000.0</td>\n",
       "      <td>45.8</td>\n",
       "      <td>2017-10-28T00:00:00</td>\n",
       "      <td>2</td>\n",
       "      <td>2.50</td>\n",
       "      <td>5.0</td>\n",
       "      <td>NaN</td>\n",
       "      <td>1</td>\n",
       "      <td>False</td>\n",
       "      <td>...</td>\n",
       "      <td>NaN</td>\n",
       "      <td>NaN</td>\n",
       "      <td>поселок городского типа Красный Бор</td>\n",
       "      <td>NaN</td>\n",
       "      <td>NaN</td>\n",
       "      <td>NaN</td>\n",
       "      <td>NaN</td>\n",
       "      <td>NaN</td>\n",
       "      <td>NaN</td>\n",
       "      <td>196.0</td>\n",
       "    </tr>\n",
       "    <tr>\n",
       "      <th>44</th>\n",
       "      <td>13</td>\n",
       "      <td>5350000.0</td>\n",
       "      <td>40.0</td>\n",
       "      <td>2018-11-18T00:00:00</td>\n",
       "      <td>1</td>\n",
       "      <td>NaN</td>\n",
       "      <td>22.0</td>\n",
       "      <td>NaN</td>\n",
       "      <td>3</td>\n",
       "      <td>False</td>\n",
       "      <td>...</td>\n",
       "      <td>NaN</td>\n",
       "      <td>1.0</td>\n",
       "      <td>Санкт-Петербург</td>\n",
       "      <td>30471.0</td>\n",
       "      <td>11603.0</td>\n",
       "      <td>1.0</td>\n",
       "      <td>620.0</td>\n",
       "      <td>1.0</td>\n",
       "      <td>1152.0</td>\n",
       "      <td>NaN</td>\n",
       "    </tr>\n",
       "    <tr>\n",
       "      <th>59</th>\n",
       "      <td>15</td>\n",
       "      <td>6300000.0</td>\n",
       "      <td>46.5</td>\n",
       "      <td>2017-03-06T00:00:00</td>\n",
       "      <td>1</td>\n",
       "      <td>NaN</td>\n",
       "      <td>13.0</td>\n",
       "      <td>NaN</td>\n",
       "      <td>13</td>\n",
       "      <td>False</td>\n",
       "      <td>...</td>\n",
       "      <td>NaN</td>\n",
       "      <td>NaN</td>\n",
       "      <td>Санкт-Петербург</td>\n",
       "      <td>11125.0</td>\n",
       "      <td>14501.0</td>\n",
       "      <td>0.0</td>\n",
       "      <td>NaN</td>\n",
       "      <td>0.0</td>\n",
       "      <td>NaN</td>\n",
       "      <td>336.0</td>\n",
       "    </tr>\n",
       "    <tr>\n",
       "      <th>...</th>\n",
       "      <td>...</td>\n",
       "      <td>...</td>\n",
       "      <td>...</td>\n",
       "      <td>...</td>\n",
       "      <td>...</td>\n",
       "      <td>...</td>\n",
       "      <td>...</td>\n",
       "      <td>...</td>\n",
       "      <td>...</td>\n",
       "      <td>...</td>\n",
       "      <td>...</td>\n",
       "      <td>...</td>\n",
       "      <td>...</td>\n",
       "      <td>...</td>\n",
       "      <td>...</td>\n",
       "      <td>...</td>\n",
       "      <td>...</td>\n",
       "      <td>...</td>\n",
       "      <td>...</td>\n",
       "      <td>...</td>\n",
       "      <td>...</td>\n",
       "    </tr>\n",
       "    <tr>\n",
       "      <th>23655</th>\n",
       "      <td>1</td>\n",
       "      <td>2414306.0</td>\n",
       "      <td>40.5</td>\n",
       "      <td>2016-09-08T00:00:00</td>\n",
       "      <td>1</td>\n",
       "      <td>2.56</td>\n",
       "      <td>18.0</td>\n",
       "      <td>19.6</td>\n",
       "      <td>10</td>\n",
       "      <td>False</td>\n",
       "      <td>...</td>\n",
       "      <td>NaN</td>\n",
       "      <td>NaN</td>\n",
       "      <td>Никольское</td>\n",
       "      <td>NaN</td>\n",
       "      <td>NaN</td>\n",
       "      <td>NaN</td>\n",
       "      <td>NaN</td>\n",
       "      <td>NaN</td>\n",
       "      <td>NaN</td>\n",
       "      <td>627.0</td>\n",
       "    </tr>\n",
       "    <tr>\n",
       "      <th>23663</th>\n",
       "      <td>12</td>\n",
       "      <td>6400000.0</td>\n",
       "      <td>88.0</td>\n",
       "      <td>2018-01-12T00:00:00</td>\n",
       "      <td>4</td>\n",
       "      <td>2.55</td>\n",
       "      <td>10.0</td>\n",
       "      <td>NaN</td>\n",
       "      <td>1</td>\n",
       "      <td>False</td>\n",
       "      <td>...</td>\n",
       "      <td>NaN</td>\n",
       "      <td>NaN</td>\n",
       "      <td>Санкт-Петербург</td>\n",
       "      <td>33642.0</td>\n",
       "      <td>13943.0</td>\n",
       "      <td>0.0</td>\n",
       "      <td>NaN</td>\n",
       "      <td>2.0</td>\n",
       "      <td>844.0</td>\n",
       "      <td>59.0</td>\n",
       "    </tr>\n",
       "    <tr>\n",
       "      <th>23670</th>\n",
       "      <td>9</td>\n",
       "      <td>2450000.0</td>\n",
       "      <td>45.6</td>\n",
       "      <td>2018-02-08T00:00:00</td>\n",
       "      <td>1</td>\n",
       "      <td>2.80</td>\n",
       "      <td>9.0</td>\n",
       "      <td>NaN</td>\n",
       "      <td>2</td>\n",
       "      <td>False</td>\n",
       "      <td>...</td>\n",
       "      <td>NaN</td>\n",
       "      <td>NaN</td>\n",
       "      <td>поселок городского типа Синявино</td>\n",
       "      <td>NaN</td>\n",
       "      <td>NaN</td>\n",
       "      <td>NaN</td>\n",
       "      <td>NaN</td>\n",
       "      <td>NaN</td>\n",
       "      <td>NaN</td>\n",
       "      <td>45.0</td>\n",
       "    </tr>\n",
       "    <tr>\n",
       "      <th>23679</th>\n",
       "      <td>0</td>\n",
       "      <td>2500000.0</td>\n",
       "      <td>35.0</td>\n",
       "      <td>2017-12-08T00:00:00</td>\n",
       "      <td>1</td>\n",
       "      <td>NaN</td>\n",
       "      <td>9.0</td>\n",
       "      <td>NaN</td>\n",
       "      <td>4</td>\n",
       "      <td>False</td>\n",
       "      <td>...</td>\n",
       "      <td>NaN</td>\n",
       "      <td>NaN</td>\n",
       "      <td>Сосновый Бор</td>\n",
       "      <td>NaN</td>\n",
       "      <td>NaN</td>\n",
       "      <td>NaN</td>\n",
       "      <td>NaN</td>\n",
       "      <td>NaN</td>\n",
       "      <td>NaN</td>\n",
       "      <td>45.0</td>\n",
       "    </tr>\n",
       "    <tr>\n",
       "      <th>23696</th>\n",
       "      <td>18</td>\n",
       "      <td>2500000.0</td>\n",
       "      <td>56.7</td>\n",
       "      <td>2018-02-11T00:00:00</td>\n",
       "      <td>2</td>\n",
       "      <td>NaN</td>\n",
       "      <td>3.0</td>\n",
       "      <td>29.7</td>\n",
       "      <td>1</td>\n",
       "      <td>False</td>\n",
       "      <td>...</td>\n",
       "      <td>NaN</td>\n",
       "      <td>NaN</td>\n",
       "      <td>село Рождествено</td>\n",
       "      <td>NaN</td>\n",
       "      <td>NaN</td>\n",
       "      <td>NaN</td>\n",
       "      <td>NaN</td>\n",
       "      <td>NaN</td>\n",
       "      <td>NaN</td>\n",
       "      <td>NaN</td>\n",
       "    </tr>\n",
       "  </tbody>\n",
       "</table>\n",
       "<p>2278 rows × 22 columns</p>\n",
       "</div>"
      ],
      "text/plain": [
       "       total_images  last_price  total_area first_day_exposition  rooms  \\\n",
       "3                 0  64900000.0       159.0  2015-07-24T00:00:00      3   \n",
       "30               12   2200000.0        32.8  2018-02-19T00:00:00      1   \n",
       "37               10   1990000.0        45.8  2017-10-28T00:00:00      2   \n",
       "44               13   5350000.0        40.0  2018-11-18T00:00:00      1   \n",
       "59               15   6300000.0        46.5  2017-03-06T00:00:00      1   \n",
       "...             ...         ...         ...                  ...    ...   \n",
       "23655             1   2414306.0        40.5  2016-09-08T00:00:00      1   \n",
       "23663            12   6400000.0        88.0  2018-01-12T00:00:00      4   \n",
       "23670             9   2450000.0        45.6  2018-02-08T00:00:00      1   \n",
       "23679             0   2500000.0        35.0  2017-12-08T00:00:00      1   \n",
       "23696            18   2500000.0        56.7  2018-02-11T00:00:00      2   \n",
       "\n",
       "       ceiling_height  floors_total  living_area  floor  is_apartment  ...  \\\n",
       "3                 NaN          14.0          NaN      9         False  ...   \n",
       "30                NaN           9.0          NaN      2         False  ...   \n",
       "37               2.50           5.0          NaN      1         False  ...   \n",
       "44                NaN          22.0          NaN      3         False  ...   \n",
       "59                NaN          13.0          NaN     13         False  ...   \n",
       "...               ...           ...          ...    ...           ...  ...   \n",
       "23655            2.56          18.0         19.6     10         False  ...   \n",
       "23663            2.55          10.0          NaN      1         False  ...   \n",
       "23670            2.80           9.0          NaN      2         False  ...   \n",
       "23679             NaN           9.0          NaN      4         False  ...   \n",
       "23696             NaN           3.0         29.7      1         False  ...   \n",
       "\n",
       "       kitchen_area  balcony                        locality_name  \\\n",
       "3               NaN      0.0                      Санкт-Петербург   \n",
       "30              NaN      NaN                             Коммунар   \n",
       "37              NaN      NaN  поселок городского типа Красный Бор   \n",
       "44              NaN      1.0                      Санкт-Петербург   \n",
       "59              NaN      NaN                      Санкт-Петербург   \n",
       "...             ...      ...                                  ...   \n",
       "23655           NaN      NaN                           Никольское   \n",
       "23663           NaN      NaN                      Санкт-Петербург   \n",
       "23670           NaN      NaN     поселок городского типа Синявино   \n",
       "23679           NaN      NaN                         Сосновый Бор   \n",
       "23696           NaN      NaN                     село Рождествено   \n",
       "\n",
       "       airports_nearest city_centers_nearest  parks_around_3000  \\\n",
       "3               28098.0               6800.0                2.0   \n",
       "30                  NaN                  NaN                NaN   \n",
       "37                  NaN                  NaN                NaN   \n",
       "44              30471.0              11603.0                1.0   \n",
       "59              11125.0              14501.0                0.0   \n",
       "...                 ...                  ...                ...   \n",
       "23655               NaN                  NaN                NaN   \n",
       "23663           33642.0              13943.0                0.0   \n",
       "23670               NaN                  NaN                NaN   \n",
       "23679               NaN                  NaN                NaN   \n",
       "23696               NaN                  NaN                NaN   \n",
       "\n",
       "       parks_nearest  ponds_around_3000  ponds_nearest  days_exposition  \n",
       "3               84.0                3.0          234.0            424.0  \n",
       "30               NaN                NaN            NaN             63.0  \n",
       "37               NaN                NaN            NaN            196.0  \n",
       "44             620.0                1.0         1152.0              NaN  \n",
       "59               NaN                0.0            NaN            336.0  \n",
       "...              ...                ...            ...              ...  \n",
       "23655            NaN                NaN            NaN            627.0  \n",
       "23663            NaN                2.0          844.0             59.0  \n",
       "23670            NaN                NaN            NaN             45.0  \n",
       "23679            NaN                NaN            NaN             45.0  \n",
       "23696            NaN                NaN            NaN              NaN  \n",
       "\n",
       "[2278 rows x 22 columns]"
      ]
     },
     "execution_count": 20,
     "metadata": {},
     "output_type": "execute_result"
    }
   ],
   "source": [
    "df[df['kitchen_area'].isna()] # посмотрим на строки с пропусками в столбце kitchen_area"
   ]
  },
  {
   "cell_type": "markdown",
   "metadata": {},
   "source": [
    "На кухне важен каждый сантиметр - поэтому заменить медианным значением пропуски не получится."
   ]
  },
  {
   "cell_type": "markdown",
   "metadata": {},
   "source": [
    "А вот пропуски в столбце `balcony`, вероятно, подразумевают отсутствие балкона. В этом случае их можно заменить нулем."
   ]
  },
  {
   "cell_type": "code",
   "execution_count": 21,
   "metadata": {},
   "outputs": [],
   "source": [
    "df['balcony'] = df['balcony'].fillna(0)"
   ]
  },
  {
   "cell_type": "code",
   "execution_count": 22,
   "metadata": {},
   "outputs": [
    {
     "data": {
      "text/plain": [
       "total_images                0\n",
       "last_price                  0\n",
       "total_area                  0\n",
       "first_day_exposition        0\n",
       "rooms                       0\n",
       "ceiling_height           9195\n",
       "floors_total               86\n",
       "living_area              1903\n",
       "floor                       0\n",
       "is_apartment                0\n",
       "studio                      0\n",
       "open_plan                   0\n",
       "kitchen_area             2278\n",
       "balcony                     0\n",
       "locality_name              49\n",
       "airports_nearest         5542\n",
       "city_centers_nearest     5519\n",
       "parks_around_3000        5518\n",
       "parks_nearest           15620\n",
       "ponds_around_3000        5518\n",
       "ponds_nearest           14589\n",
       "days_exposition          3181\n",
       "dtype: int64"
      ]
     },
     "execution_count": 22,
     "metadata": {},
     "output_type": "execute_result"
    }
   ],
   "source": [
    "df.isna().sum() #взглянем на пропуски еще раз"
   ]
  },
  {
   "cell_type": "markdown",
   "metadata": {},
   "source": [
    "Можно заметить, что пропуски в столбцах `city_centers_nearest`, `airports_nearest`, `parks_around_3000`, `ponds_around_3000` почти равны. Есть вероятность, что пропуски у одних и тех, же объектов т. к. тот, кто публиковал объявления о продаже этой недвижимости не вносил данную информацию."
   ]
  },
  {
   "cell_type": "code",
   "execution_count": 23,
   "metadata": {
    "scrolled": true
   },
   "outputs": [
    {
     "data": {
      "text/html": [
       "<div>\n",
       "<style scoped>\n",
       "    .dataframe tbody tr th:only-of-type {\n",
       "        vertical-align: middle;\n",
       "    }\n",
       "\n",
       "    .dataframe tbody tr th {\n",
       "        vertical-align: top;\n",
       "    }\n",
       "\n",
       "    .dataframe thead th {\n",
       "        text-align: right;\n",
       "    }\n",
       "</style>\n",
       "<table border=\"1\" class=\"dataframe\">\n",
       "  <thead>\n",
       "    <tr style=\"text-align: right;\">\n",
       "      <th></th>\n",
       "      <th>total_images</th>\n",
       "      <th>last_price</th>\n",
       "      <th>total_area</th>\n",
       "      <th>first_day_exposition</th>\n",
       "      <th>rooms</th>\n",
       "      <th>ceiling_height</th>\n",
       "      <th>floors_total</th>\n",
       "      <th>living_area</th>\n",
       "      <th>floor</th>\n",
       "      <th>is_apartment</th>\n",
       "      <th>...</th>\n",
       "      <th>kitchen_area</th>\n",
       "      <th>balcony</th>\n",
       "      <th>locality_name</th>\n",
       "      <th>airports_nearest</th>\n",
       "      <th>city_centers_nearest</th>\n",
       "      <th>parks_around_3000</th>\n",
       "      <th>parks_nearest</th>\n",
       "      <th>ponds_around_3000</th>\n",
       "      <th>ponds_nearest</th>\n",
       "      <th>days_exposition</th>\n",
       "    </tr>\n",
       "  </thead>\n",
       "  <tbody>\n",
       "    <tr>\n",
       "      <th>5</th>\n",
       "      <td>10</td>\n",
       "      <td>2890000.0</td>\n",
       "      <td>30.40</td>\n",
       "      <td>2018-09-10T00:00:00</td>\n",
       "      <td>1</td>\n",
       "      <td>NaN</td>\n",
       "      <td>12.0</td>\n",
       "      <td>14.40</td>\n",
       "      <td>5</td>\n",
       "      <td>False</td>\n",
       "      <td>...</td>\n",
       "      <td>9.10</td>\n",
       "      <td>0.0</td>\n",
       "      <td>городской посёлок Янино-1</td>\n",
       "      <td>NaN</td>\n",
       "      <td>NaN</td>\n",
       "      <td>NaN</td>\n",
       "      <td>NaN</td>\n",
       "      <td>NaN</td>\n",
       "      <td>NaN</td>\n",
       "      <td>55.0</td>\n",
       "    </tr>\n",
       "    <tr>\n",
       "      <th>8</th>\n",
       "      <td>20</td>\n",
       "      <td>2900000.0</td>\n",
       "      <td>33.16</td>\n",
       "      <td>2018-05-23T00:00:00</td>\n",
       "      <td>1</td>\n",
       "      <td>NaN</td>\n",
       "      <td>27.0</td>\n",
       "      <td>15.43</td>\n",
       "      <td>26</td>\n",
       "      <td>False</td>\n",
       "      <td>...</td>\n",
       "      <td>8.81</td>\n",
       "      <td>0.0</td>\n",
       "      <td>посёлок Мурино</td>\n",
       "      <td>NaN</td>\n",
       "      <td>NaN</td>\n",
       "      <td>NaN</td>\n",
       "      <td>NaN</td>\n",
       "      <td>NaN</td>\n",
       "      <td>NaN</td>\n",
       "      <td>189.0</td>\n",
       "    </tr>\n",
       "    <tr>\n",
       "      <th>12</th>\n",
       "      <td>10</td>\n",
       "      <td>3890000.0</td>\n",
       "      <td>54.00</td>\n",
       "      <td>2016-06-30T00:00:00</td>\n",
       "      <td>2</td>\n",
       "      <td>NaN</td>\n",
       "      <td>5.0</td>\n",
       "      <td>30.00</td>\n",
       "      <td>5</td>\n",
       "      <td>False</td>\n",
       "      <td>...</td>\n",
       "      <td>9.00</td>\n",
       "      <td>0.0</td>\n",
       "      <td>Сертолово</td>\n",
       "      <td>NaN</td>\n",
       "      <td>NaN</td>\n",
       "      <td>NaN</td>\n",
       "      <td>NaN</td>\n",
       "      <td>NaN</td>\n",
       "      <td>NaN</td>\n",
       "      <td>90.0</td>\n",
       "    </tr>\n",
       "    <tr>\n",
       "      <th>22</th>\n",
       "      <td>20</td>\n",
       "      <td>5000000.0</td>\n",
       "      <td>58.00</td>\n",
       "      <td>2017-04-24T00:00:00</td>\n",
       "      <td>2</td>\n",
       "      <td>2.75</td>\n",
       "      <td>25.0</td>\n",
       "      <td>30.00</td>\n",
       "      <td>15</td>\n",
       "      <td>False</td>\n",
       "      <td>...</td>\n",
       "      <td>11.00</td>\n",
       "      <td>2.0</td>\n",
       "      <td>деревня Кудрово</td>\n",
       "      <td>NaN</td>\n",
       "      <td>NaN</td>\n",
       "      <td>NaN</td>\n",
       "      <td>NaN</td>\n",
       "      <td>NaN</td>\n",
       "      <td>NaN</td>\n",
       "      <td>60.0</td>\n",
       "    </tr>\n",
       "    <tr>\n",
       "      <th>30</th>\n",
       "      <td>12</td>\n",
       "      <td>2200000.0</td>\n",
       "      <td>32.80</td>\n",
       "      <td>2018-02-19T00:00:00</td>\n",
       "      <td>1</td>\n",
       "      <td>NaN</td>\n",
       "      <td>9.0</td>\n",
       "      <td>NaN</td>\n",
       "      <td>2</td>\n",
       "      <td>False</td>\n",
       "      <td>...</td>\n",
       "      <td>NaN</td>\n",
       "      <td>0.0</td>\n",
       "      <td>Коммунар</td>\n",
       "      <td>NaN</td>\n",
       "      <td>NaN</td>\n",
       "      <td>NaN</td>\n",
       "      <td>NaN</td>\n",
       "      <td>NaN</td>\n",
       "      <td>NaN</td>\n",
       "      <td>63.0</td>\n",
       "    </tr>\n",
       "    <tr>\n",
       "      <th>...</th>\n",
       "      <td>...</td>\n",
       "      <td>...</td>\n",
       "      <td>...</td>\n",
       "      <td>...</td>\n",
       "      <td>...</td>\n",
       "      <td>...</td>\n",
       "      <td>...</td>\n",
       "      <td>...</td>\n",
       "      <td>...</td>\n",
       "      <td>...</td>\n",
       "      <td>...</td>\n",
       "      <td>...</td>\n",
       "      <td>...</td>\n",
       "      <td>...</td>\n",
       "      <td>...</td>\n",
       "      <td>...</td>\n",
       "      <td>...</td>\n",
       "      <td>...</td>\n",
       "      <td>...</td>\n",
       "      <td>...</td>\n",
       "      <td>...</td>\n",
       "    </tr>\n",
       "    <tr>\n",
       "      <th>23683</th>\n",
       "      <td>16</td>\n",
       "      <td>2100000.0</td>\n",
       "      <td>62.80</td>\n",
       "      <td>2018-09-18T00:00:00</td>\n",
       "      <td>4</td>\n",
       "      <td>2.50</td>\n",
       "      <td>5.0</td>\n",
       "      <td>45.50</td>\n",
       "      <td>3</td>\n",
       "      <td>False</td>\n",
       "      <td>...</td>\n",
       "      <td>5.50</td>\n",
       "      <td>0.0</td>\n",
       "      <td>посёлок Дзержинского</td>\n",
       "      <td>NaN</td>\n",
       "      <td>NaN</td>\n",
       "      <td>NaN</td>\n",
       "      <td>NaN</td>\n",
       "      <td>NaN</td>\n",
       "      <td>NaN</td>\n",
       "      <td>NaN</td>\n",
       "    </tr>\n",
       "    <tr>\n",
       "      <th>23692</th>\n",
       "      <td>2</td>\n",
       "      <td>1350000.0</td>\n",
       "      <td>30.00</td>\n",
       "      <td>2017-07-07T00:00:00</td>\n",
       "      <td>1</td>\n",
       "      <td>NaN</td>\n",
       "      <td>5.0</td>\n",
       "      <td>17.50</td>\n",
       "      <td>4</td>\n",
       "      <td>False</td>\n",
       "      <td>...</td>\n",
       "      <td>6.00</td>\n",
       "      <td>0.0</td>\n",
       "      <td>Тихвин</td>\n",
       "      <td>NaN</td>\n",
       "      <td>NaN</td>\n",
       "      <td>NaN</td>\n",
       "      <td>NaN</td>\n",
       "      <td>NaN</td>\n",
       "      <td>NaN</td>\n",
       "      <td>413.0</td>\n",
       "    </tr>\n",
       "    <tr>\n",
       "      <th>23695</th>\n",
       "      <td>14</td>\n",
       "      <td>3100000.0</td>\n",
       "      <td>59.00</td>\n",
       "      <td>2018-01-15T00:00:00</td>\n",
       "      <td>3</td>\n",
       "      <td>NaN</td>\n",
       "      <td>5.0</td>\n",
       "      <td>38.00</td>\n",
       "      <td>4</td>\n",
       "      <td>False</td>\n",
       "      <td>...</td>\n",
       "      <td>8.50</td>\n",
       "      <td>0.0</td>\n",
       "      <td>Тосно</td>\n",
       "      <td>NaN</td>\n",
       "      <td>NaN</td>\n",
       "      <td>NaN</td>\n",
       "      <td>NaN</td>\n",
       "      <td>NaN</td>\n",
       "      <td>NaN</td>\n",
       "      <td>45.0</td>\n",
       "    </tr>\n",
       "    <tr>\n",
       "      <th>23696</th>\n",
       "      <td>18</td>\n",
       "      <td>2500000.0</td>\n",
       "      <td>56.70</td>\n",
       "      <td>2018-02-11T00:00:00</td>\n",
       "      <td>2</td>\n",
       "      <td>NaN</td>\n",
       "      <td>3.0</td>\n",
       "      <td>29.70</td>\n",
       "      <td>1</td>\n",
       "      <td>False</td>\n",
       "      <td>...</td>\n",
       "      <td>NaN</td>\n",
       "      <td>0.0</td>\n",
       "      <td>село Рождествено</td>\n",
       "      <td>NaN</td>\n",
       "      <td>NaN</td>\n",
       "      <td>NaN</td>\n",
       "      <td>NaN</td>\n",
       "      <td>NaN</td>\n",
       "      <td>NaN</td>\n",
       "      <td>NaN</td>\n",
       "    </tr>\n",
       "    <tr>\n",
       "      <th>23698</th>\n",
       "      <td>4</td>\n",
       "      <td>1350000.0</td>\n",
       "      <td>32.30</td>\n",
       "      <td>2017-07-21T00:00:00</td>\n",
       "      <td>1</td>\n",
       "      <td>2.50</td>\n",
       "      <td>5.0</td>\n",
       "      <td>12.30</td>\n",
       "      <td>1</td>\n",
       "      <td>False</td>\n",
       "      <td>...</td>\n",
       "      <td>9.00</td>\n",
       "      <td>0.0</td>\n",
       "      <td>поселок Новый Учхоз</td>\n",
       "      <td>NaN</td>\n",
       "      <td>NaN</td>\n",
       "      <td>NaN</td>\n",
       "      <td>NaN</td>\n",
       "      <td>NaN</td>\n",
       "      <td>NaN</td>\n",
       "      <td>NaN</td>\n",
       "    </tr>\n",
       "  </tbody>\n",
       "</table>\n",
       "<p>5518 rows × 22 columns</p>\n",
       "</div>"
      ],
      "text/plain": [
       "       total_images  last_price  total_area first_day_exposition  rooms  \\\n",
       "5                10   2890000.0       30.40  2018-09-10T00:00:00      1   \n",
       "8                20   2900000.0       33.16  2018-05-23T00:00:00      1   \n",
       "12               10   3890000.0       54.00  2016-06-30T00:00:00      2   \n",
       "22               20   5000000.0       58.00  2017-04-24T00:00:00      2   \n",
       "30               12   2200000.0       32.80  2018-02-19T00:00:00      1   \n",
       "...             ...         ...         ...                  ...    ...   \n",
       "23683            16   2100000.0       62.80  2018-09-18T00:00:00      4   \n",
       "23692             2   1350000.0       30.00  2017-07-07T00:00:00      1   \n",
       "23695            14   3100000.0       59.00  2018-01-15T00:00:00      3   \n",
       "23696            18   2500000.0       56.70  2018-02-11T00:00:00      2   \n",
       "23698             4   1350000.0       32.30  2017-07-21T00:00:00      1   \n",
       "\n",
       "       ceiling_height  floors_total  living_area  floor  is_apartment  ...  \\\n",
       "5                 NaN          12.0        14.40      5         False  ...   \n",
       "8                 NaN          27.0        15.43     26         False  ...   \n",
       "12                NaN           5.0        30.00      5         False  ...   \n",
       "22               2.75          25.0        30.00     15         False  ...   \n",
       "30                NaN           9.0          NaN      2         False  ...   \n",
       "...               ...           ...          ...    ...           ...  ...   \n",
       "23683            2.50           5.0        45.50      3         False  ...   \n",
       "23692             NaN           5.0        17.50      4         False  ...   \n",
       "23695             NaN           5.0        38.00      4         False  ...   \n",
       "23696             NaN           3.0        29.70      1         False  ...   \n",
       "23698            2.50           5.0        12.30      1         False  ...   \n",
       "\n",
       "       kitchen_area  balcony              locality_name  airports_nearest  \\\n",
       "5              9.10      0.0  городской посёлок Янино-1               NaN   \n",
       "8              8.81      0.0             посёлок Мурино               NaN   \n",
       "12             9.00      0.0                  Сертолово               NaN   \n",
       "22            11.00      2.0            деревня Кудрово               NaN   \n",
       "30              NaN      0.0                   Коммунар               NaN   \n",
       "...             ...      ...                        ...               ...   \n",
       "23683          5.50      0.0       посёлок Дзержинского               NaN   \n",
       "23692          6.00      0.0                     Тихвин               NaN   \n",
       "23695          8.50      0.0                      Тосно               NaN   \n",
       "23696           NaN      0.0           село Рождествено               NaN   \n",
       "23698          9.00      0.0        поселок Новый Учхоз               NaN   \n",
       "\n",
       "      city_centers_nearest  parks_around_3000  parks_nearest  \\\n",
       "5                      NaN                NaN            NaN   \n",
       "8                      NaN                NaN            NaN   \n",
       "12                     NaN                NaN            NaN   \n",
       "22                     NaN                NaN            NaN   \n",
       "30                     NaN                NaN            NaN   \n",
       "...                    ...                ...            ...   \n",
       "23683                  NaN                NaN            NaN   \n",
       "23692                  NaN                NaN            NaN   \n",
       "23695                  NaN                NaN            NaN   \n",
       "23696                  NaN                NaN            NaN   \n",
       "23698                  NaN                NaN            NaN   \n",
       "\n",
       "       ponds_around_3000  ponds_nearest  days_exposition  \n",
       "5                    NaN            NaN             55.0  \n",
       "8                    NaN            NaN            189.0  \n",
       "12                   NaN            NaN             90.0  \n",
       "22                   NaN            NaN             60.0  \n",
       "30                   NaN            NaN             63.0  \n",
       "...                  ...            ...              ...  \n",
       "23683                NaN            NaN              NaN  \n",
       "23692                NaN            NaN            413.0  \n",
       "23695                NaN            NaN             45.0  \n",
       "23696                NaN            NaN              NaN  \n",
       "23698                NaN            NaN              NaN  \n",
       "\n",
       "[5518 rows x 22 columns]"
      ]
     },
     "execution_count": 23,
     "metadata": {},
     "output_type": "execute_result"
    }
   ],
   "source": [
    "# Посмотрим, верно ли наше предположение, что пропуски в столбцах допущены у одних и тех же объектов\n",
    "\n",
    "df[(df['city_centers_nearest'].isnull())&(df['parks_around_3000'].isnull())&(df['ponds_around_3000'].isnull())] "
   ]
  },
  {
   "cell_type": "markdown",
   "metadata": {},
   "source": [
    "5518 объектов — действительно, пропуски с расстояниями до географических объектов находятся в одних и тех же строках."
   ]
  },
  {
   "cell_type": "markdown",
   "metadata": {},
   "source": [
    "Заполнить пропуски для парков и водоемов вряд ли возможно. А вот для аэропорта, учитывая что в Санкт-Петербурге и ЛО единственный международный аэропорт — Пулково, пропуски можно заменить медианным значением для населенного пункта там, где он указан."
   ]
  },
  {
   "cell_type": "code",
   "execution_count": 24,
   "metadata": {
    "scrolled": false
   },
   "outputs": [
    {
     "data": {
      "text/plain": [
       "array(['Санкт-Петербург', 'посёлок Шушары', 'городской посёлок Янино-1',\n",
       "       'посёлок Парголово', 'посёлок Мурино', 'Ломоносов', 'Сертолово',\n",
       "       'Петергоф', 'Пушкин', 'деревня Кудрово', 'Коммунар', 'Колпино',\n",
       "       'поселок городского типа Красный Бор', 'Гатчина', 'поселок Мурино',\n",
       "       'деревня Фёдоровское', 'Выборг', 'Кронштадт', 'Кировск',\n",
       "       'деревня Новое Девяткино', 'посёлок Металлострой',\n",
       "       'посёлок городского типа Лебяжье',\n",
       "       'посёлок городского типа Сиверский', 'поселок Молодцово',\n",
       "       'поселок городского типа Кузьмоловский',\n",
       "       'садовое товарищество Новая Ропша', 'Павловск',\n",
       "       'деревня Пикколово', 'Всеволожск', 'Волхов', 'Кингисепп',\n",
       "       'Приозерск', 'Сестрорецк', 'деревня Куттузи', 'посёлок Аннино',\n",
       "       'поселок городского типа Ефимовский', 'посёлок Плодовое',\n",
       "       'деревня Заклинье', 'поселок Торковичи', 'поселок Первомайское',\n",
       "       'Красное Село', 'посёлок Понтонный', 'Сясьстрой', 'деревня Старая',\n",
       "       'деревня Лесколово', 'посёлок Новый Свет', 'Сланцы',\n",
       "       'село Путилово', 'Ивангород', 'Мурино', 'Шлиссельбург',\n",
       "       'Никольское', 'Зеленогорск', 'Сосновый Бор', 'поселок Новый Свет',\n",
       "       'деревня Оржицы', 'деревня Кальтино', 'Кудрово',\n",
       "       'поселок Романовка', 'посёлок Бугры', 'поселок Бугры',\n",
       "       'поселок городского типа Рощино', 'Кириши', 'Луга', 'Волосово',\n",
       "       'Отрадное', 'село Павлово', 'поселок Оредеж', 'село Копорье',\n",
       "       'посёлок городского типа Красный Бор', 'посёлок Молодёжное',\n",
       "       'Тихвин', 'посёлок Победа', 'деревня Нурма',\n",
       "       'поселок городского типа Синявино', 'Тосно',\n",
       "       'посёлок городского типа Кузьмоловский', 'посёлок Стрельна',\n",
       "       'Бокситогорск', 'посёлок Александровская', 'деревня Лопухинка',\n",
       "       'Пикалёво', 'поселок Терволово',\n",
       "       'поселок городского типа Советский', 'Подпорожье',\n",
       "       'посёлок Петровское', 'посёлок городского типа Токсово',\n",
       "       'поселок Сельцо', 'посёлок городского типа Вырица',\n",
       "       'деревня Кипень', 'деревня Келози', 'деревня Вартемяги',\n",
       "       'посёлок Тельмана', 'поселок Севастьяново',\n",
       "       'городской поселок Большая Ижора', nan,\n",
       "       'городской посёлок Павлово', 'деревня Агалатово',\n",
       "       'посёлок Новогорелово', 'городской посёлок Лесогорский',\n",
       "       'деревня Лаголово', 'поселок Цвелодубово',\n",
       "       'поселок городского типа Рахья', 'поселок городского типа Вырица',\n",
       "       'деревня Белогорка', 'поселок Заводской',\n",
       "       'городской посёлок Новоселье', 'деревня Большие Колпаны',\n",
       "       'деревня Горбунки', 'деревня Батово', 'деревня Заневка',\n",
       "       'деревня Иссад', 'Приморск', 'городской посёлок Фёдоровское',\n",
       "       'деревня Мистолово', 'Новая Ладога', 'поселок Зимитицы',\n",
       "       'поселок Барышево', 'деревня Разметелево',\n",
       "       'поселок городского типа имени Свердлова', 'деревня Пеники',\n",
       "       'поселок Рябово', 'деревня Пудомяги', 'поселок станции Корнево',\n",
       "       'деревня Низино', 'деревня Бегуницы', 'посёлок Поляны',\n",
       "       'городской посёлок Мга', 'поселок Елизаветино',\n",
       "       'посёлок городского типа Кузнечное', 'деревня Колтуши',\n",
       "       'поселок Запорожское', 'посёлок городского типа Рощино',\n",
       "       'деревня Гостилицы', 'деревня Малое Карлино',\n",
       "       'посёлок Мичуринское', 'посёлок городского типа имени Морозова',\n",
       "       'посёлок Песочный', 'посёлок Сосново', 'деревня Аро',\n",
       "       'поселок Ильичёво', 'посёлок городского типа Тайцы',\n",
       "       'деревня Малое Верево', 'деревня Извара', 'поселок станции Вещево',\n",
       "       'село Паша', 'деревня Калитино',\n",
       "       'посёлок городского типа Ульяновка', 'деревня Чудской Бор',\n",
       "       'поселок городского типа Дубровка', 'деревня Мины',\n",
       "       'поселок Войсковицы', 'посёлок городского типа имени Свердлова',\n",
       "       'деревня Коркино', 'посёлок Ропша',\n",
       "       'поселок городского типа Приладожский', 'посёлок Щеглово',\n",
       "       'посёлок Гаврилово', 'Лодейное Поле', 'деревня Рабитицы',\n",
       "       'поселок городского типа Никольский', 'деревня Кузьмолово',\n",
       "       'деревня Малые Колпаны', 'поселок Тельмана',\n",
       "       'посёлок Петро-Славянка', 'городской посёлок Назия',\n",
       "       'посёлок Репино', 'посёлок Ильичёво', 'поселок Углово',\n",
       "       'поселок Старая Малукса', 'садовое товарищество Рахья',\n",
       "       'поселок Аннино', 'поселок Победа', 'деревня Меньково',\n",
       "       'деревня Старые Бегуницы', 'посёлок Сапёрный', 'поселок Семрино',\n",
       "       'поселок Гаврилово', 'поселок Глажево', 'поселок Кобринское',\n",
       "       'деревня Гарболово', 'деревня Юкки',\n",
       "       'поселок станции Приветнинское', 'деревня Мануйлово',\n",
       "       'деревня Пчева', 'поселок Поляны', 'поселок Цвылёво',\n",
       "       'поселок Мельниково', 'посёлок Пудость', 'посёлок Усть-Луга',\n",
       "       'Светогорск', 'Любань', 'поселок Селезнёво',\n",
       "       'поселок городского типа Рябово', 'Каменногорск', 'деревня Кривко',\n",
       "       'поселок Глебычево', 'деревня Парицы', 'поселок Жилпосёлок',\n",
       "       'посёлок городского типа Мга', 'городской поселок Янино-1',\n",
       "       'посёлок Войскорово', 'село Никольское', 'посёлок Терволово',\n",
       "       'поселок Стеклянный', 'посёлок городского типа Важины',\n",
       "       'посёлок Мыза-Ивановка', 'село Русско-Высоцкое',\n",
       "       'поселок городского типа Лебяжье',\n",
       "       'поселок городского типа Форносово', 'село Старая Ладога',\n",
       "       'поселок Житково', 'городской посёлок Виллози', 'деревня Лампово',\n",
       "       'деревня Шпаньково', 'деревня Лаврики', 'посёлок Сумино',\n",
       "       'посёлок Возрождение', 'деревня Старосиверская',\n",
       "       'посёлок Кикерино', 'поселок Возрождение',\n",
       "       'деревня Старое Хинколово', 'посёлок Пригородный',\n",
       "       'посёлок Торфяное', 'городской посёлок Будогощь',\n",
       "       'поселок Суходолье', 'поселок Красная Долина', 'деревня Хапо-Ое',\n",
       "       'поселок городского типа Дружная Горка', 'поселок Лисий Нос',\n",
       "       'деревня Яльгелево', 'посёлок Стеклянный', 'село Рождествено',\n",
       "       'деревня Старополье', 'посёлок Левашово', 'деревня Сяськелево',\n",
       "       'деревня Камышовка',\n",
       "       'садоводческое некоммерческое товарищество Лесная Поляна',\n",
       "       'деревня Хязельки', 'поселок Жилгородок',\n",
       "       'посёлок городского типа Павлово', 'деревня Ялгино',\n",
       "       'поселок Новый Учхоз', 'городской посёлок Рощино',\n",
       "       'поселок Гончарово', 'поселок Почап', 'посёлок Сапёрное',\n",
       "       'посёлок Платформа 69-й километр', 'поселок Каложицы',\n",
       "       'деревня Фалилеево', 'деревня Пельгора',\n",
       "       'поселок городского типа Лесогорский', 'деревня Торошковичи',\n",
       "       'посёлок Белоостров', 'посёлок Алексеевка', 'поселок Серебрянский',\n",
       "       'поселок Лукаши', 'поселок Петровское', 'деревня Щеглово',\n",
       "       'поселок Мичуринское', 'деревня Тарасово', 'поселок Кингисеппский',\n",
       "       'посёлок при железнодорожной станции Вещево', 'поселок Ушаки',\n",
       "       'деревня Котлы', 'деревня Сижно', 'деревня Торосово',\n",
       "       'посёлок Форт Красная Горка', 'поселок городского типа Токсово',\n",
       "       'деревня Новолисино', 'посёлок станции Громово', 'деревня Глинка',\n",
       "       'посёлок Мельниково', 'поселок городского типа Назия',\n",
       "       'деревня Старая Пустошь', 'поселок Коммунары', 'поселок Починок',\n",
       "       'посёлок городского типа Вознесенье', 'деревня Разбегаево',\n",
       "       'посёлок городского типа Рябово', 'поселок Гладкое',\n",
       "       'посёлок при железнодорожной станции Приветнинское',\n",
       "       'поселок Тёсово-4', 'посёлок Жилгородок', 'деревня Бор',\n",
       "       'посёлок Коробицыно', 'деревня Большая Вруда', 'деревня Курковицы',\n",
       "       'посёлок Лисий Нос', 'городской посёлок Советский',\n",
       "       'посёлок Кобралово', 'деревня Суоранда', 'поселок Кобралово',\n",
       "       'поселок городского типа Кондратьево',\n",
       "       'коттеджный поселок Счастье', 'поселок Любань', 'деревня Реброво',\n",
       "       'деревня Зимитицы', 'деревня Тойворово', 'поселок Семиозерье',\n",
       "       'поселок Лесное', 'поселок Совхозный', 'поселок Усть-Луга',\n",
       "       'посёлок Ленинское', 'посёлок Суйда',\n",
       "       'посёлок городского типа Форносово', 'деревня Нижние Осельки',\n",
       "       'посёлок станции Свирь', 'поселок Перово', 'Высоцк',\n",
       "       'поселок Гарболово', 'село Шум', 'поселок Котельский',\n",
       "       'поселок станции Лужайка', 'деревня Большая Пустомержа',\n",
       "       'поселок Красносельское', 'деревня Вахнова Кара', 'деревня Пижма',\n",
       "       'коттеджный поселок Кивеннапа Север', 'поселок Коробицыно',\n",
       "       'поселок Ромашки', 'посёлок Перово', 'деревня Каськово',\n",
       "       'деревня Куровицы', 'посёлок Плоское', 'поселок Сумино',\n",
       "       'поселок городского типа Большая Ижора', 'поселок Кирпичное',\n",
       "       'деревня Ям-Тесово', 'деревня Раздолье', 'деревня Терпилицы',\n",
       "       'посёлок Шугозеро', 'деревня Ваганово', 'поселок Пушное',\n",
       "       'садовое товарищество Садко', 'посёлок Усть-Ижора',\n",
       "       'деревня Выскатка', 'городской посёлок Свирьстрой',\n",
       "       'поселок Громово', 'деревня Кисельня', 'посёлок Старая Малукса',\n",
       "       'деревня Трубников Бор', 'поселок Калитино',\n",
       "       'посёлок Высокоключевой', 'садовое товарищество Приладожский',\n",
       "       'посёлок Пансионат Зелёный Бор', 'деревня Ненимяки',\n",
       "       'поселок Пансионат Зелёный Бор', 'деревня Снегирёвка',\n",
       "       'деревня Рапполово', 'деревня Пустынка', 'поселок Рабитицы',\n",
       "       'деревня Большой Сабск', 'деревня Русско', 'деревня Лупполово',\n",
       "       'деревня Большое Рейзино', 'деревня Малая Романовка',\n",
       "       'поселок Дружноселье', 'поселок Пчевжа', 'поселок Володарское',\n",
       "       'деревня Нижняя', 'коттеджный посёлок Лесное', 'деревня Тихковицы',\n",
       "       'деревня Борисова Грива', 'посёлок Дзержинского'], dtype=object)"
      ]
     },
     "execution_count": 24,
     "metadata": {},
     "output_type": "execute_result"
    }
   ],
   "source": [
    "df['locality_name'].unique() # выведем список всех населенных пунктов, в которых расположена недвижимость из датасета"
   ]
  },
  {
   "cell_type": "code",
   "execution_count": 25,
   "metadata": {
    "scrolled": true
   },
   "outputs": [
    {
     "data": {
      "text/html": [
       "<div>\n",
       "<style scoped>\n",
       "    .dataframe tbody tr th:only-of-type {\n",
       "        vertical-align: middle;\n",
       "    }\n",
       "\n",
       "    .dataframe tbody tr th {\n",
       "        vertical-align: top;\n",
       "    }\n",
       "\n",
       "    .dataframe thead th {\n",
       "        text-align: right;\n",
       "    }\n",
       "</style>\n",
       "<table border=\"1\" class=\"dataframe\">\n",
       "  <thead>\n",
       "    <tr style=\"text-align: right;\">\n",
       "      <th></th>\n",
       "      <th>airports_nearest</th>\n",
       "    </tr>\n",
       "    <tr>\n",
       "      <th>locality_name</th>\n",
       "      <th></th>\n",
       "    </tr>\n",
       "  </thead>\n",
       "  <tbody>\n",
       "    <tr>\n",
       "      <th>Зеленогорск</th>\n",
       "      <td>72282.0</td>\n",
       "    </tr>\n",
       "    <tr>\n",
       "      <th>Колпино</th>\n",
       "      <td>26232.0</td>\n",
       "    </tr>\n",
       "    <tr>\n",
       "      <th>Красное Село</th>\n",
       "      <td>25715.5</td>\n",
       "    </tr>\n",
       "    <tr>\n",
       "      <th>Кронштадт</th>\n",
       "      <td>67850.0</td>\n",
       "    </tr>\n",
       "    <tr>\n",
       "      <th>Ломоносов</th>\n",
       "      <td>48415.5</td>\n",
       "    </tr>\n",
       "    <tr>\n",
       "      <th>Павловск</th>\n",
       "      <td>20529.5</td>\n",
       "    </tr>\n",
       "    <tr>\n",
       "      <th>Петергоф</th>\n",
       "      <td>39231.0</td>\n",
       "    </tr>\n",
       "    <tr>\n",
       "      <th>Пушкин</th>\n",
       "      <td>15766.0</td>\n",
       "    </tr>\n",
       "    <tr>\n",
       "      <th>Санкт-Петербург</th>\n",
       "      <td>26757.5</td>\n",
       "    </tr>\n",
       "    <tr>\n",
       "      <th>Сестрорецк</th>\n",
       "      <td>56692.0</td>\n",
       "    </tr>\n",
       "    <tr>\n",
       "      <th>поселок Лисий Нос</th>\n",
       "      <td>55930.0</td>\n",
       "    </tr>\n",
       "    <tr>\n",
       "      <th>поселок Мурино</th>\n",
       "      <td>51553.0</td>\n",
       "    </tr>\n",
       "    <tr>\n",
       "      <th>посёлок Александровская</th>\n",
       "      <td>12896.5</td>\n",
       "    </tr>\n",
       "    <tr>\n",
       "      <th>посёлок Белоостров</th>\n",
       "      <td>57769.0</td>\n",
       "    </tr>\n",
       "    <tr>\n",
       "      <th>посёлок Левашово</th>\n",
       "      <td>52693.0</td>\n",
       "    </tr>\n",
       "    <tr>\n",
       "      <th>посёлок Лисий Нос</th>\n",
       "      <td>54988.5</td>\n",
       "    </tr>\n",
       "    <tr>\n",
       "      <th>посёлок Металлострой</th>\n",
       "      <td>25758.0</td>\n",
       "    </tr>\n",
       "    <tr>\n",
       "      <th>посёлок Молодёжное</th>\n",
       "      <td>84665.0</td>\n",
       "    </tr>\n",
       "    <tr>\n",
       "      <th>посёлок Парголово</th>\n",
       "      <td>53426.0</td>\n",
       "    </tr>\n",
       "    <tr>\n",
       "      <th>посёлок Песочный</th>\n",
       "      <td>54831.5</td>\n",
       "    </tr>\n",
       "    <tr>\n",
       "      <th>посёлок Петро-Славянка</th>\n",
       "      <td>20605.0</td>\n",
       "    </tr>\n",
       "    <tr>\n",
       "      <th>посёлок Понтонный</th>\n",
       "      <td>30642.0</td>\n",
       "    </tr>\n",
       "    <tr>\n",
       "      <th>посёлок Репино</th>\n",
       "      <td>61797.5</td>\n",
       "    </tr>\n",
       "    <tr>\n",
       "      <th>посёлок Сапёрный</th>\n",
       "      <td>34147.5</td>\n",
       "    </tr>\n",
       "    <tr>\n",
       "      <th>посёлок Стрельна</th>\n",
       "      <td>28317.0</td>\n",
       "    </tr>\n",
       "    <tr>\n",
       "      <th>посёлок Усть-Ижора</th>\n",
       "      <td>26510.5</td>\n",
       "    </tr>\n",
       "    <tr>\n",
       "      <th>посёлок Шушары</th>\n",
       "      <td>17427.0</td>\n",
       "    </tr>\n",
       "    <tr>\n",
       "      <th>посёлок Щеглово</th>\n",
       "      <td>61908.0</td>\n",
       "    </tr>\n",
       "  </tbody>\n",
       "</table>\n",
       "</div>"
      ],
      "text/plain": [
       "                         airports_nearest\n",
       "locality_name                            \n",
       "Зеленогорск                       72282.0\n",
       "Колпино                           26232.0\n",
       "Красное Село                      25715.5\n",
       "Кронштадт                         67850.0\n",
       "Ломоносов                         48415.5\n",
       "Павловск                          20529.5\n",
       "Петергоф                          39231.0\n",
       "Пушкин                            15766.0\n",
       "Санкт-Петербург                   26757.5\n",
       "Сестрорецк                        56692.0\n",
       "поселок Лисий Нос                 55930.0\n",
       "поселок Мурино                    51553.0\n",
       "посёлок Александровская           12896.5\n",
       "посёлок Белоостров                57769.0\n",
       "посёлок Левашово                  52693.0\n",
       "посёлок Лисий Нос                 54988.5\n",
       "посёлок Металлострой              25758.0\n",
       "посёлок Молодёжное                84665.0\n",
       "посёлок Парголово                 53426.0\n",
       "посёлок Песочный                  54831.5\n",
       "посёлок Петро-Славянка            20605.0\n",
       "посёлок Понтонный                 30642.0\n",
       "посёлок Репино                    61797.5\n",
       "посёлок Сапёрный                  34147.5\n",
       "посёлок Стрельна                  28317.0\n",
       "посёлок Усть-Ижора                26510.5\n",
       "посёлок Шушары                    17427.0\n",
       "посёлок Щеглово                   61908.0"
      ]
     },
     "execution_count": 25,
     "metadata": {},
     "output_type": "execute_result"
    }
   ],
   "source": [
    "df.pivot_table(index='locality_name', values='airports_nearest', aggfunc=('median')) # теперь посчитаем медианные значения"
   ]
  },
  {
   "cell_type": "markdown",
   "metadata": {},
   "source": [
    "Медианы рассчитаны для значительно меньшего количества населенных пунктов, чем представлены в датасете. Это означает, что для большинства населенных пунктов информация о расстоянии до аэропорта не указано не в одном объявлении. Проверим на примере одного из отсутствующих в сводной таблице поселка."
   ]
  },
  {
   "cell_type": "code",
   "execution_count": 26,
   "metadata": {
    "scrolled": true
   },
   "outputs": [
    {
     "data": {
      "text/html": [
       "<div>\n",
       "<style scoped>\n",
       "    .dataframe tbody tr th:only-of-type {\n",
       "        vertical-align: middle;\n",
       "    }\n",
       "\n",
       "    .dataframe tbody tr th {\n",
       "        vertical-align: top;\n",
       "    }\n",
       "\n",
       "    .dataframe thead th {\n",
       "        text-align: right;\n",
       "    }\n",
       "</style>\n",
       "<table border=\"1\" class=\"dataframe\">\n",
       "  <thead>\n",
       "    <tr style=\"text-align: right;\">\n",
       "      <th></th>\n",
       "      <th>total_images</th>\n",
       "      <th>last_price</th>\n",
       "      <th>total_area</th>\n",
       "      <th>first_day_exposition</th>\n",
       "      <th>rooms</th>\n",
       "      <th>ceiling_height</th>\n",
       "      <th>floors_total</th>\n",
       "      <th>living_area</th>\n",
       "      <th>floor</th>\n",
       "      <th>is_apartment</th>\n",
       "      <th>...</th>\n",
       "      <th>kitchen_area</th>\n",
       "      <th>balcony</th>\n",
       "      <th>locality_name</th>\n",
       "      <th>airports_nearest</th>\n",
       "      <th>city_centers_nearest</th>\n",
       "      <th>parks_around_3000</th>\n",
       "      <th>parks_nearest</th>\n",
       "      <th>ponds_around_3000</th>\n",
       "      <th>ponds_nearest</th>\n",
       "      <th>days_exposition</th>\n",
       "    </tr>\n",
       "  </thead>\n",
       "  <tbody>\n",
       "    <tr>\n",
       "      <th>5</th>\n",
       "      <td>10</td>\n",
       "      <td>2890000.0</td>\n",
       "      <td>30.40</td>\n",
       "      <td>2018-09-10T00:00:00</td>\n",
       "      <td>1</td>\n",
       "      <td>NaN</td>\n",
       "      <td>12.0</td>\n",
       "      <td>14.4</td>\n",
       "      <td>5</td>\n",
       "      <td>False</td>\n",
       "      <td>...</td>\n",
       "      <td>9.10</td>\n",
       "      <td>0.0</td>\n",
       "      <td>городской посёлок Янино-1</td>\n",
       "      <td>NaN</td>\n",
       "      <td>NaN</td>\n",
       "      <td>NaN</td>\n",
       "      <td>NaN</td>\n",
       "      <td>NaN</td>\n",
       "      <td>NaN</td>\n",
       "      <td>55.0</td>\n",
       "    </tr>\n",
       "    <tr>\n",
       "      <th>158</th>\n",
       "      <td>15</td>\n",
       "      <td>3100000.0</td>\n",
       "      <td>47.30</td>\n",
       "      <td>2017-11-07T00:00:00</td>\n",
       "      <td>2</td>\n",
       "      <td>NaN</td>\n",
       "      <td>5.0</td>\n",
       "      <td>27.5</td>\n",
       "      <td>2</td>\n",
       "      <td>False</td>\n",
       "      <td>...</td>\n",
       "      <td>8.50</td>\n",
       "      <td>0.0</td>\n",
       "      <td>городской посёлок Янино-1</td>\n",
       "      <td>NaN</td>\n",
       "      <td>NaN</td>\n",
       "      <td>NaN</td>\n",
       "      <td>NaN</td>\n",
       "      <td>NaN</td>\n",
       "      <td>NaN</td>\n",
       "      <td>45.0</td>\n",
       "    </tr>\n",
       "    <tr>\n",
       "      <th>529</th>\n",
       "      <td>2</td>\n",
       "      <td>5790000.0</td>\n",
       "      <td>78.89</td>\n",
       "      <td>2017-11-26T00:00:00</td>\n",
       "      <td>3</td>\n",
       "      <td>NaN</td>\n",
       "      <td>12.0</td>\n",
       "      <td>44.5</td>\n",
       "      <td>3</td>\n",
       "      <td>False</td>\n",
       "      <td>...</td>\n",
       "      <td>15.00</td>\n",
       "      <td>0.0</td>\n",
       "      <td>городской посёлок Янино-1</td>\n",
       "      <td>NaN</td>\n",
       "      <td>NaN</td>\n",
       "      <td>NaN</td>\n",
       "      <td>NaN</td>\n",
       "      <td>NaN</td>\n",
       "      <td>NaN</td>\n",
       "      <td>21.0</td>\n",
       "    </tr>\n",
       "    <tr>\n",
       "      <th>746</th>\n",
       "      <td>7</td>\n",
       "      <td>2160000.0</td>\n",
       "      <td>36.00</td>\n",
       "      <td>2018-10-25T00:00:00</td>\n",
       "      <td>1</td>\n",
       "      <td>NaN</td>\n",
       "      <td>12.0</td>\n",
       "      <td>16.0</td>\n",
       "      <td>8</td>\n",
       "      <td>False</td>\n",
       "      <td>...</td>\n",
       "      <td>9.30</td>\n",
       "      <td>0.0</td>\n",
       "      <td>городской посёлок Янино-1</td>\n",
       "      <td>NaN</td>\n",
       "      <td>NaN</td>\n",
       "      <td>NaN</td>\n",
       "      <td>NaN</td>\n",
       "      <td>NaN</td>\n",
       "      <td>NaN</td>\n",
       "      <td>45.0</td>\n",
       "    </tr>\n",
       "    <tr>\n",
       "      <th>1121</th>\n",
       "      <td>13</td>\n",
       "      <td>3000000.0</td>\n",
       "      <td>50.40</td>\n",
       "      <td>2018-02-07T00:00:00</td>\n",
       "      <td>2</td>\n",
       "      <td>2.55</td>\n",
       "      <td>5.0</td>\n",
       "      <td>30.7</td>\n",
       "      <td>1</td>\n",
       "      <td>False</td>\n",
       "      <td>...</td>\n",
       "      <td>8.70</td>\n",
       "      <td>1.0</td>\n",
       "      <td>городской посёлок Янино-1</td>\n",
       "      <td>NaN</td>\n",
       "      <td>NaN</td>\n",
       "      <td>NaN</td>\n",
       "      <td>NaN</td>\n",
       "      <td>NaN</td>\n",
       "      <td>NaN</td>\n",
       "      <td>288.0</td>\n",
       "    </tr>\n",
       "    <tr>\n",
       "      <th>...</th>\n",
       "      <td>...</td>\n",
       "      <td>...</td>\n",
       "      <td>...</td>\n",
       "      <td>...</td>\n",
       "      <td>...</td>\n",
       "      <td>...</td>\n",
       "      <td>...</td>\n",
       "      <td>...</td>\n",
       "      <td>...</td>\n",
       "      <td>...</td>\n",
       "      <td>...</td>\n",
       "      <td>...</td>\n",
       "      <td>...</td>\n",
       "      <td>...</td>\n",
       "      <td>...</td>\n",
       "      <td>...</td>\n",
       "      <td>...</td>\n",
       "      <td>...</td>\n",
       "      <td>...</td>\n",
       "      <td>...</td>\n",
       "      <td>...</td>\n",
       "    </tr>\n",
       "    <tr>\n",
       "      <th>21766</th>\n",
       "      <td>7</td>\n",
       "      <td>2006000.0</td>\n",
       "      <td>25.00</td>\n",
       "      <td>2018-03-28T00:00:00</td>\n",
       "      <td>1</td>\n",
       "      <td>2.75</td>\n",
       "      <td>12.0</td>\n",
       "      <td>14.7</td>\n",
       "      <td>11</td>\n",
       "      <td>False</td>\n",
       "      <td>...</td>\n",
       "      <td>9.20</td>\n",
       "      <td>0.0</td>\n",
       "      <td>городской посёлок Янино-1</td>\n",
       "      <td>NaN</td>\n",
       "      <td>NaN</td>\n",
       "      <td>NaN</td>\n",
       "      <td>NaN</td>\n",
       "      <td>NaN</td>\n",
       "      <td>NaN</td>\n",
       "      <td>45.0</td>\n",
       "    </tr>\n",
       "    <tr>\n",
       "      <th>22921</th>\n",
       "      <td>3</td>\n",
       "      <td>6036000.0</td>\n",
       "      <td>78.89</td>\n",
       "      <td>2018-07-16T00:00:00</td>\n",
       "      <td>3</td>\n",
       "      <td>2.70</td>\n",
       "      <td>12.0</td>\n",
       "      <td>44.6</td>\n",
       "      <td>5</td>\n",
       "      <td>False</td>\n",
       "      <td>...</td>\n",
       "      <td>14.98</td>\n",
       "      <td>2.0</td>\n",
       "      <td>городской посёлок Янино-1</td>\n",
       "      <td>NaN</td>\n",
       "      <td>NaN</td>\n",
       "      <td>NaN</td>\n",
       "      <td>NaN</td>\n",
       "      <td>NaN</td>\n",
       "      <td>NaN</td>\n",
       "      <td>65.0</td>\n",
       "    </tr>\n",
       "    <tr>\n",
       "      <th>23258</th>\n",
       "      <td>12</td>\n",
       "      <td>3000000.0</td>\n",
       "      <td>42.50</td>\n",
       "      <td>2018-01-09T00:00:00</td>\n",
       "      <td>1</td>\n",
       "      <td>NaN</td>\n",
       "      <td>12.0</td>\n",
       "      <td>14.7</td>\n",
       "      <td>6</td>\n",
       "      <td>False</td>\n",
       "      <td>...</td>\n",
       "      <td>14.60</td>\n",
       "      <td>0.0</td>\n",
       "      <td>городской посёлок Янино-1</td>\n",
       "      <td>NaN</td>\n",
       "      <td>NaN</td>\n",
       "      <td>NaN</td>\n",
       "      <td>NaN</td>\n",
       "      <td>NaN</td>\n",
       "      <td>NaN</td>\n",
       "      <td>208.0</td>\n",
       "    </tr>\n",
       "    <tr>\n",
       "      <th>23372</th>\n",
       "      <td>13</td>\n",
       "      <td>3600000.0</td>\n",
       "      <td>59.10</td>\n",
       "      <td>2017-11-24T00:00:00</td>\n",
       "      <td>2</td>\n",
       "      <td>2.50</td>\n",
       "      <td>6.0</td>\n",
       "      <td>31.3</td>\n",
       "      <td>4</td>\n",
       "      <td>False</td>\n",
       "      <td>...</td>\n",
       "      <td>13.60</td>\n",
       "      <td>1.0</td>\n",
       "      <td>городской посёлок Янино-1</td>\n",
       "      <td>NaN</td>\n",
       "      <td>NaN</td>\n",
       "      <td>NaN</td>\n",
       "      <td>NaN</td>\n",
       "      <td>NaN</td>\n",
       "      <td>NaN</td>\n",
       "      <td>237.0</td>\n",
       "    </tr>\n",
       "    <tr>\n",
       "      <th>23390</th>\n",
       "      <td>8</td>\n",
       "      <td>2156000.0</td>\n",
       "      <td>36.00</td>\n",
       "      <td>2018-10-29T00:00:00</td>\n",
       "      <td>1</td>\n",
       "      <td>NaN</td>\n",
       "      <td>12.0</td>\n",
       "      <td>16.0</td>\n",
       "      <td>3</td>\n",
       "      <td>False</td>\n",
       "      <td>...</td>\n",
       "      <td>9.30</td>\n",
       "      <td>0.0</td>\n",
       "      <td>городской посёлок Янино-1</td>\n",
       "      <td>NaN</td>\n",
       "      <td>NaN</td>\n",
       "      <td>NaN</td>\n",
       "      <td>NaN</td>\n",
       "      <td>NaN</td>\n",
       "      <td>NaN</td>\n",
       "      <td>45.0</td>\n",
       "    </tr>\n",
       "  </tbody>\n",
       "</table>\n",
       "<p>61 rows × 22 columns</p>\n",
       "</div>"
      ],
      "text/plain": [
       "       total_images  last_price  total_area first_day_exposition  rooms  \\\n",
       "5                10   2890000.0       30.40  2018-09-10T00:00:00      1   \n",
       "158              15   3100000.0       47.30  2017-11-07T00:00:00      2   \n",
       "529               2   5790000.0       78.89  2017-11-26T00:00:00      3   \n",
       "746               7   2160000.0       36.00  2018-10-25T00:00:00      1   \n",
       "1121             13   3000000.0       50.40  2018-02-07T00:00:00      2   \n",
       "...             ...         ...         ...                  ...    ...   \n",
       "21766             7   2006000.0       25.00  2018-03-28T00:00:00      1   \n",
       "22921             3   6036000.0       78.89  2018-07-16T00:00:00      3   \n",
       "23258            12   3000000.0       42.50  2018-01-09T00:00:00      1   \n",
       "23372            13   3600000.0       59.10  2017-11-24T00:00:00      2   \n",
       "23390             8   2156000.0       36.00  2018-10-29T00:00:00      1   \n",
       "\n",
       "       ceiling_height  floors_total  living_area  floor  is_apartment  ...  \\\n",
       "5                 NaN          12.0         14.4      5         False  ...   \n",
       "158               NaN           5.0         27.5      2         False  ...   \n",
       "529               NaN          12.0         44.5      3         False  ...   \n",
       "746               NaN          12.0         16.0      8         False  ...   \n",
       "1121             2.55           5.0         30.7      1         False  ...   \n",
       "...               ...           ...          ...    ...           ...  ...   \n",
       "21766            2.75          12.0         14.7     11         False  ...   \n",
       "22921            2.70          12.0         44.6      5         False  ...   \n",
       "23258             NaN          12.0         14.7      6         False  ...   \n",
       "23372            2.50           6.0         31.3      4         False  ...   \n",
       "23390             NaN          12.0         16.0      3         False  ...   \n",
       "\n",
       "       kitchen_area  balcony              locality_name  airports_nearest  \\\n",
       "5              9.10      0.0  городской посёлок Янино-1               NaN   \n",
       "158            8.50      0.0  городской посёлок Янино-1               NaN   \n",
       "529           15.00      0.0  городской посёлок Янино-1               NaN   \n",
       "746            9.30      0.0  городской посёлок Янино-1               NaN   \n",
       "1121           8.70      1.0  городской посёлок Янино-1               NaN   \n",
       "...             ...      ...                        ...               ...   \n",
       "21766          9.20      0.0  городской посёлок Янино-1               NaN   \n",
       "22921         14.98      2.0  городской посёлок Янино-1               NaN   \n",
       "23258         14.60      0.0  городской посёлок Янино-1               NaN   \n",
       "23372         13.60      1.0  городской посёлок Янино-1               NaN   \n",
       "23390          9.30      0.0  городской посёлок Янино-1               NaN   \n",
       "\n",
       "      city_centers_nearest  parks_around_3000  parks_nearest  \\\n",
       "5                      NaN                NaN            NaN   \n",
       "158                    NaN                NaN            NaN   \n",
       "529                    NaN                NaN            NaN   \n",
       "746                    NaN                NaN            NaN   \n",
       "1121                   NaN                NaN            NaN   \n",
       "...                    ...                ...            ...   \n",
       "21766                  NaN                NaN            NaN   \n",
       "22921                  NaN                NaN            NaN   \n",
       "23258                  NaN                NaN            NaN   \n",
       "23372                  NaN                NaN            NaN   \n",
       "23390                  NaN                NaN            NaN   \n",
       "\n",
       "       ponds_around_3000  ponds_nearest  days_exposition  \n",
       "5                    NaN            NaN             55.0  \n",
       "158                  NaN            NaN             45.0  \n",
       "529                  NaN            NaN             21.0  \n",
       "746                  NaN            NaN             45.0  \n",
       "1121                 NaN            NaN            288.0  \n",
       "...                  ...            ...              ...  \n",
       "21766                NaN            NaN             45.0  \n",
       "22921                NaN            NaN             65.0  \n",
       "23258                NaN            NaN            208.0  \n",
       "23372                NaN            NaN            237.0  \n",
       "23390                NaN            NaN             45.0  \n",
       "\n",
       "[61 rows x 22 columns]"
      ]
     },
     "execution_count": 26,
     "metadata": {},
     "output_type": "execute_result"
    }
   ],
   "source": [
    "df[df['locality_name'] == 'городской посёлок Янино-1'] # посмотрим общее количество объявлений"
   ]
  },
  {
   "cell_type": "code",
   "execution_count": 27,
   "metadata": {
    "scrolled": true
   },
   "outputs": [
    {
     "name": "stdout",
     "output_type": "stream",
     "text": [
      "61\n"
     ]
    }
   ],
   "source": [
    "# а теперь количество пропусков в столбце с информацией о рассоянии до аэропорта\n",
    "print(df[df['locality_name'] == 'городской посёлок Янино-1']['airports_nearest'].isna().sum())"
   ]
  },
  {
   "cell_type": "markdown",
   "metadata": {},
   "source": [
    "Для всех объектов (61/61) в городском поселке Янино-1 нет информации о расстоянии. Таким образом заполнить пропуски в столбце `airports_nearest` также не удастся.\n",
    "\n",
    "Посмотрим, сколько пропусков можно заполнить медианой. Для этого создадим вспомогательную сводную таблицу."
   ]
  },
  {
   "cell_type": "markdown",
   "metadata": {},
   "source": [
    "Закончим с пропусками на столбце `days_exposition`, в котором хранится информация, сколько дней было размещено объявление."
   ]
  },
  {
   "cell_type": "code",
   "execution_count": 28,
   "metadata": {
    "scrolled": true
   },
   "outputs": [
    {
     "data": {
      "text/html": [
       "<div>\n",
       "<style scoped>\n",
       "    .dataframe tbody tr th:only-of-type {\n",
       "        vertical-align: middle;\n",
       "    }\n",
       "\n",
       "    .dataframe tbody tr th {\n",
       "        vertical-align: top;\n",
       "    }\n",
       "\n",
       "    .dataframe thead th {\n",
       "        text-align: right;\n",
       "    }\n",
       "</style>\n",
       "<table border=\"1\" class=\"dataframe\">\n",
       "  <thead>\n",
       "    <tr style=\"text-align: right;\">\n",
       "      <th></th>\n",
       "      <th>total_images</th>\n",
       "      <th>last_price</th>\n",
       "      <th>total_area</th>\n",
       "      <th>first_day_exposition</th>\n",
       "      <th>rooms</th>\n",
       "      <th>ceiling_height</th>\n",
       "      <th>floors_total</th>\n",
       "      <th>living_area</th>\n",
       "      <th>floor</th>\n",
       "      <th>is_apartment</th>\n",
       "      <th>...</th>\n",
       "      <th>kitchen_area</th>\n",
       "      <th>balcony</th>\n",
       "      <th>locality_name</th>\n",
       "      <th>airports_nearest</th>\n",
       "      <th>city_centers_nearest</th>\n",
       "      <th>parks_around_3000</th>\n",
       "      <th>parks_nearest</th>\n",
       "      <th>ponds_around_3000</th>\n",
       "      <th>ponds_nearest</th>\n",
       "      <th>days_exposition</th>\n",
       "    </tr>\n",
       "  </thead>\n",
       "  <tbody>\n",
       "    <tr>\n",
       "      <th>0</th>\n",
       "      <td>20</td>\n",
       "      <td>13000000.0</td>\n",
       "      <td>108.00</td>\n",
       "      <td>2019-03-07T00:00:00</td>\n",
       "      <td>3</td>\n",
       "      <td>2.70</td>\n",
       "      <td>16.0</td>\n",
       "      <td>51.0</td>\n",
       "      <td>8</td>\n",
       "      <td>False</td>\n",
       "      <td>...</td>\n",
       "      <td>25.00</td>\n",
       "      <td>0.0</td>\n",
       "      <td>Санкт-Петербург</td>\n",
       "      <td>18863.0</td>\n",
       "      <td>16028.0</td>\n",
       "      <td>1.0</td>\n",
       "      <td>482.0</td>\n",
       "      <td>2.0</td>\n",
       "      <td>755.0</td>\n",
       "      <td>NaN</td>\n",
       "    </tr>\n",
       "    <tr>\n",
       "      <th>7</th>\n",
       "      <td>5</td>\n",
       "      <td>7915000.0</td>\n",
       "      <td>71.60</td>\n",
       "      <td>2019-04-18T00:00:00</td>\n",
       "      <td>2</td>\n",
       "      <td>NaN</td>\n",
       "      <td>24.0</td>\n",
       "      <td>NaN</td>\n",
       "      <td>22</td>\n",
       "      <td>False</td>\n",
       "      <td>...</td>\n",
       "      <td>18.90</td>\n",
       "      <td>2.0</td>\n",
       "      <td>Санкт-Петербург</td>\n",
       "      <td>23982.0</td>\n",
       "      <td>11634.0</td>\n",
       "      <td>0.0</td>\n",
       "      <td>NaN</td>\n",
       "      <td>0.0</td>\n",
       "      <td>NaN</td>\n",
       "      <td>NaN</td>\n",
       "    </tr>\n",
       "    <tr>\n",
       "      <th>44</th>\n",
       "      <td>13</td>\n",
       "      <td>5350000.0</td>\n",
       "      <td>40.00</td>\n",
       "      <td>2018-11-18T00:00:00</td>\n",
       "      <td>1</td>\n",
       "      <td>NaN</td>\n",
       "      <td>22.0</td>\n",
       "      <td>NaN</td>\n",
       "      <td>3</td>\n",
       "      <td>False</td>\n",
       "      <td>...</td>\n",
       "      <td>NaN</td>\n",
       "      <td>1.0</td>\n",
       "      <td>Санкт-Петербург</td>\n",
       "      <td>30471.0</td>\n",
       "      <td>11603.0</td>\n",
       "      <td>1.0</td>\n",
       "      <td>620.0</td>\n",
       "      <td>1.0</td>\n",
       "      <td>1152.0</td>\n",
       "      <td>NaN</td>\n",
       "    </tr>\n",
       "    <tr>\n",
       "      <th>45</th>\n",
       "      <td>17</td>\n",
       "      <td>5200000.0</td>\n",
       "      <td>50.60</td>\n",
       "      <td>2018-12-02T00:00:00</td>\n",
       "      <td>2</td>\n",
       "      <td>2.65</td>\n",
       "      <td>9.0</td>\n",
       "      <td>30.3</td>\n",
       "      <td>7</td>\n",
       "      <td>False</td>\n",
       "      <td>...</td>\n",
       "      <td>7.00</td>\n",
       "      <td>0.0</td>\n",
       "      <td>Санкт-Петербург</td>\n",
       "      <td>30011.0</td>\n",
       "      <td>12872.0</td>\n",
       "      <td>0.0</td>\n",
       "      <td>NaN</td>\n",
       "      <td>0.0</td>\n",
       "      <td>NaN</td>\n",
       "      <td>NaN</td>\n",
       "    </tr>\n",
       "    <tr>\n",
       "      <th>46</th>\n",
       "      <td>17</td>\n",
       "      <td>6600000.0</td>\n",
       "      <td>52.10</td>\n",
       "      <td>2019-01-31T00:00:00</td>\n",
       "      <td>2</td>\n",
       "      <td>2.60</td>\n",
       "      <td>24.0</td>\n",
       "      <td>29.7</td>\n",
       "      <td>9</td>\n",
       "      <td>False</td>\n",
       "      <td>...</td>\n",
       "      <td>8.30</td>\n",
       "      <td>2.0</td>\n",
       "      <td>Санкт-Петербург</td>\n",
       "      <td>15114.0</td>\n",
       "      <td>12702.0</td>\n",
       "      <td>0.0</td>\n",
       "      <td>NaN</td>\n",
       "      <td>0.0</td>\n",
       "      <td>NaN</td>\n",
       "      <td>NaN</td>\n",
       "    </tr>\n",
       "    <tr>\n",
       "      <th>...</th>\n",
       "      <td>...</td>\n",
       "      <td>...</td>\n",
       "      <td>...</td>\n",
       "      <td>...</td>\n",
       "      <td>...</td>\n",
       "      <td>...</td>\n",
       "      <td>...</td>\n",
       "      <td>...</td>\n",
       "      <td>...</td>\n",
       "      <td>...</td>\n",
       "      <td>...</td>\n",
       "      <td>...</td>\n",
       "      <td>...</td>\n",
       "      <td>...</td>\n",
       "      <td>...</td>\n",
       "      <td>...</td>\n",
       "      <td>...</td>\n",
       "      <td>...</td>\n",
       "      <td>...</td>\n",
       "      <td>...</td>\n",
       "      <td>...</td>\n",
       "    </tr>\n",
       "    <tr>\n",
       "      <th>23684</th>\n",
       "      <td>20</td>\n",
       "      <td>21400000.0</td>\n",
       "      <td>145.00</td>\n",
       "      <td>2018-11-02T00:00:00</td>\n",
       "      <td>4</td>\n",
       "      <td>3.00</td>\n",
       "      <td>26.0</td>\n",
       "      <td>71.4</td>\n",
       "      <td>17</td>\n",
       "      <td>False</td>\n",
       "      <td>...</td>\n",
       "      <td>15.60</td>\n",
       "      <td>0.0</td>\n",
       "      <td>Санкт-Петербург</td>\n",
       "      <td>11827.0</td>\n",
       "      <td>11459.0</td>\n",
       "      <td>0.0</td>\n",
       "      <td>NaN</td>\n",
       "      <td>0.0</td>\n",
       "      <td>NaN</td>\n",
       "      <td>NaN</td>\n",
       "    </tr>\n",
       "    <tr>\n",
       "      <th>23685</th>\n",
       "      <td>15</td>\n",
       "      <td>2490000.0</td>\n",
       "      <td>31.00</td>\n",
       "      <td>2019-01-24T00:00:00</td>\n",
       "      <td>1</td>\n",
       "      <td>2.50</td>\n",
       "      <td>5.0</td>\n",
       "      <td>17.3</td>\n",
       "      <td>5</td>\n",
       "      <td>False</td>\n",
       "      <td>...</td>\n",
       "      <td>5.60</td>\n",
       "      <td>1.0</td>\n",
       "      <td>Ломоносов</td>\n",
       "      <td>48393.0</td>\n",
       "      <td>51818.0</td>\n",
       "      <td>0.0</td>\n",
       "      <td>NaN</td>\n",
       "      <td>0.0</td>\n",
       "      <td>NaN</td>\n",
       "      <td>NaN</td>\n",
       "    </tr>\n",
       "    <tr>\n",
       "      <th>23694</th>\n",
       "      <td>9</td>\n",
       "      <td>9700000.0</td>\n",
       "      <td>133.81</td>\n",
       "      <td>2017-03-21T00:00:00</td>\n",
       "      <td>3</td>\n",
       "      <td>3.70</td>\n",
       "      <td>5.0</td>\n",
       "      <td>73.3</td>\n",
       "      <td>3</td>\n",
       "      <td>False</td>\n",
       "      <td>...</td>\n",
       "      <td>13.83</td>\n",
       "      <td>0.0</td>\n",
       "      <td>Санкт-Петербург</td>\n",
       "      <td>24665.0</td>\n",
       "      <td>4232.0</td>\n",
       "      <td>1.0</td>\n",
       "      <td>796.0</td>\n",
       "      <td>3.0</td>\n",
       "      <td>381.0</td>\n",
       "      <td>NaN</td>\n",
       "    </tr>\n",
       "    <tr>\n",
       "      <th>23696</th>\n",
       "      <td>18</td>\n",
       "      <td>2500000.0</td>\n",
       "      <td>56.70</td>\n",
       "      <td>2018-02-11T00:00:00</td>\n",
       "      <td>2</td>\n",
       "      <td>NaN</td>\n",
       "      <td>3.0</td>\n",
       "      <td>29.7</td>\n",
       "      <td>1</td>\n",
       "      <td>False</td>\n",
       "      <td>...</td>\n",
       "      <td>NaN</td>\n",
       "      <td>0.0</td>\n",
       "      <td>село Рождествено</td>\n",
       "      <td>NaN</td>\n",
       "      <td>NaN</td>\n",
       "      <td>NaN</td>\n",
       "      <td>NaN</td>\n",
       "      <td>NaN</td>\n",
       "      <td>NaN</td>\n",
       "      <td>NaN</td>\n",
       "    </tr>\n",
       "    <tr>\n",
       "      <th>23698</th>\n",
       "      <td>4</td>\n",
       "      <td>1350000.0</td>\n",
       "      <td>32.30</td>\n",
       "      <td>2017-07-21T00:00:00</td>\n",
       "      <td>1</td>\n",
       "      <td>2.50</td>\n",
       "      <td>5.0</td>\n",
       "      <td>12.3</td>\n",
       "      <td>1</td>\n",
       "      <td>False</td>\n",
       "      <td>...</td>\n",
       "      <td>9.00</td>\n",
       "      <td>0.0</td>\n",
       "      <td>поселок Новый Учхоз</td>\n",
       "      <td>NaN</td>\n",
       "      <td>NaN</td>\n",
       "      <td>NaN</td>\n",
       "      <td>NaN</td>\n",
       "      <td>NaN</td>\n",
       "      <td>NaN</td>\n",
       "      <td>NaN</td>\n",
       "    </tr>\n",
       "  </tbody>\n",
       "</table>\n",
       "<p>3181 rows × 22 columns</p>\n",
       "</div>"
      ],
      "text/plain": [
       "       total_images  last_price  total_area first_day_exposition  rooms  \\\n",
       "0                20  13000000.0      108.00  2019-03-07T00:00:00      3   \n",
       "7                 5   7915000.0       71.60  2019-04-18T00:00:00      2   \n",
       "44               13   5350000.0       40.00  2018-11-18T00:00:00      1   \n",
       "45               17   5200000.0       50.60  2018-12-02T00:00:00      2   \n",
       "46               17   6600000.0       52.10  2019-01-31T00:00:00      2   \n",
       "...             ...         ...         ...                  ...    ...   \n",
       "23684            20  21400000.0      145.00  2018-11-02T00:00:00      4   \n",
       "23685            15   2490000.0       31.00  2019-01-24T00:00:00      1   \n",
       "23694             9   9700000.0      133.81  2017-03-21T00:00:00      3   \n",
       "23696            18   2500000.0       56.70  2018-02-11T00:00:00      2   \n",
       "23698             4   1350000.0       32.30  2017-07-21T00:00:00      1   \n",
       "\n",
       "       ceiling_height  floors_total  living_area  floor  is_apartment  ...  \\\n",
       "0                2.70          16.0         51.0      8         False  ...   \n",
       "7                 NaN          24.0          NaN     22         False  ...   \n",
       "44                NaN          22.0          NaN      3         False  ...   \n",
       "45               2.65           9.0         30.3      7         False  ...   \n",
       "46               2.60          24.0         29.7      9         False  ...   \n",
       "...               ...           ...          ...    ...           ...  ...   \n",
       "23684            3.00          26.0         71.4     17         False  ...   \n",
       "23685            2.50           5.0         17.3      5         False  ...   \n",
       "23694            3.70           5.0         73.3      3         False  ...   \n",
       "23696             NaN           3.0         29.7      1         False  ...   \n",
       "23698            2.50           5.0         12.3      1         False  ...   \n",
       "\n",
       "       kitchen_area  balcony        locality_name  airports_nearest  \\\n",
       "0             25.00      0.0      Санкт-Петербург           18863.0   \n",
       "7             18.90      2.0      Санкт-Петербург           23982.0   \n",
       "44              NaN      1.0      Санкт-Петербург           30471.0   \n",
       "45             7.00      0.0      Санкт-Петербург           30011.0   \n",
       "46             8.30      2.0      Санкт-Петербург           15114.0   \n",
       "...             ...      ...                  ...               ...   \n",
       "23684         15.60      0.0      Санкт-Петербург           11827.0   \n",
       "23685          5.60      1.0            Ломоносов           48393.0   \n",
       "23694         13.83      0.0      Санкт-Петербург           24665.0   \n",
       "23696           NaN      0.0     село Рождествено               NaN   \n",
       "23698          9.00      0.0  поселок Новый Учхоз               NaN   \n",
       "\n",
       "      city_centers_nearest  parks_around_3000  parks_nearest  \\\n",
       "0                  16028.0                1.0          482.0   \n",
       "7                  11634.0                0.0            NaN   \n",
       "44                 11603.0                1.0          620.0   \n",
       "45                 12872.0                0.0            NaN   \n",
       "46                 12702.0                0.0            NaN   \n",
       "...                    ...                ...            ...   \n",
       "23684              11459.0                0.0            NaN   \n",
       "23685              51818.0                0.0            NaN   \n",
       "23694               4232.0                1.0          796.0   \n",
       "23696                  NaN                NaN            NaN   \n",
       "23698                  NaN                NaN            NaN   \n",
       "\n",
       "       ponds_around_3000  ponds_nearest  days_exposition  \n",
       "0                    2.0          755.0              NaN  \n",
       "7                    0.0            NaN              NaN  \n",
       "44                   1.0         1152.0              NaN  \n",
       "45                   0.0            NaN              NaN  \n",
       "46                   0.0            NaN              NaN  \n",
       "...                  ...            ...              ...  \n",
       "23684                0.0            NaN              NaN  \n",
       "23685                0.0            NaN              NaN  \n",
       "23694                3.0          381.0              NaN  \n",
       "23696                NaN            NaN              NaN  \n",
       "23698                NaN            NaN              NaN  \n",
       "\n",
       "[3181 rows x 22 columns]"
      ]
     },
     "execution_count": 28,
     "metadata": {},
     "output_type": "execute_result"
    }
   ],
   "source": [
    "df[df['days_exposition'].isna()]"
   ]
  },
  {
   "cell_type": "markdown",
   "metadata": {},
   "source": [
    "Можно предположить, что пропуски свидетельствуют о том, что недвижимость еще находилась в продаже на момент, когда был датасет был выгружен. Однако, точно сказать не получится — медианное значение для снятия объявления 95 дней, а в выборке мы видим объявления самых разных годов. Т. о. **пропуски в `days_exposition` не заполняем**."
   ]
  },
  {
   "cell_type": "markdown",
   "metadata": {},
   "source": [
    "### Изменение типов данных"
   ]
  },
  {
   "cell_type": "markdown",
   "metadata": {},
   "source": [
    "При обработке данных мы заметили, что тип данных в некоторых столбцах не соответвует содержанию. Взглянем на типы данных еще раз."
   ]
  },
  {
   "cell_type": "code",
   "execution_count": 29,
   "metadata": {
    "scrolled": true
   },
   "outputs": [
    {
     "name": "stdout",
     "output_type": "stream",
     "text": [
      "<class 'pandas.core.frame.DataFrame'>\n",
      "RangeIndex: 23699 entries, 0 to 23698\n",
      "Data columns (total 22 columns):\n",
      " #   Column                Non-Null Count  Dtype  \n",
      "---  ------                --------------  -----  \n",
      " 0   total_images          23699 non-null  int64  \n",
      " 1   last_price            23699 non-null  float64\n",
      " 2   total_area            23699 non-null  float64\n",
      " 3   first_day_exposition  23699 non-null  object \n",
      " 4   rooms                 23699 non-null  int64  \n",
      " 5   ceiling_height        14504 non-null  float64\n",
      " 6   floors_total          23613 non-null  float64\n",
      " 7   living_area           21796 non-null  float64\n",
      " 8   floor                 23699 non-null  int64  \n",
      " 9   is_apartment          23699 non-null  bool   \n",
      " 10  studio                23699 non-null  bool   \n",
      " 11  open_plan             23699 non-null  bool   \n",
      " 12  kitchen_area          21421 non-null  float64\n",
      " 13  balcony               23699 non-null  float64\n",
      " 14  locality_name         23650 non-null  object \n",
      " 15  airports_nearest      18157 non-null  float64\n",
      " 16  city_centers_nearest  18180 non-null  float64\n",
      " 17  parks_around_3000     18181 non-null  float64\n",
      " 18  parks_nearest         8079 non-null   float64\n",
      " 19  ponds_around_3000     18181 non-null  float64\n",
      " 20  ponds_nearest         9110 non-null   float64\n",
      " 21  days_exposition       20518 non-null  float64\n",
      "dtypes: bool(3), float64(14), int64(3), object(2)\n",
      "memory usage: 3.5+ MB\n"
     ]
    }
   ],
   "source": [
    "df.info()"
   ]
  },
  {
   "cell_type": "markdown",
   "metadata": {},
   "source": [
    "В столбце last_price содержатся целочисленные значения, однако тип данных определен как float64, что приводит к дополнительным затратам памяти. Приведем тип к целочисленному."
   ]
  },
  {
   "cell_type": "code",
   "execution_count": 30,
   "metadata": {},
   "outputs": [],
   "source": [
    "df['last_price'] = df['last_price'].astype(int)"
   ]
  },
  {
   "cell_type": "code",
   "execution_count": 31,
   "metadata": {},
   "outputs": [],
   "source": [
    "# аналогично для balcony\n",
    "\n",
    "df['balcony'] = df['balcony'].astype(int)"
   ]
  },
  {
   "cell_type": "markdown",
   "metadata": {},
   "source": [
    "Для столбцов `floors_total`, `airports_nearest`, `city_centers_nearest`, `city_centers_nearest`,`parks_around_3000`, `ponds_nearest` в теории тоже бы лучше подошёл целочисленный формат, однако наличие пропусков и отсутствие релевантной замены для них не позволяет изменить тип данных в них."
   ]
  },
  {
   "cell_type": "code",
   "execution_count": 32,
   "metadata": {},
   "outputs": [],
   "source": [
    "df['total_area'] = df['total_area'].astype('float32') # в столбце 'total_area' нет пропусков\n",
    "                                                      # заменим тип данных на float32 для экономии памяти"
   ]
  },
  {
   "cell_type": "markdown",
   "metadata": {},
   "source": [
    "Наконец, изменим тип данных в `first_day_exposition` на `datetime`, который позднее позволит применять специфичные методы для обработки даты и времени."
   ]
  },
  {
   "cell_type": "code",
   "execution_count": 33,
   "metadata": {},
   "outputs": [],
   "source": [
    "df['first_day_exposition'] = pd.to_datetime(df['first_day_exposition'], format='%Y-%m-%dT%H:%M:%S')"
   ]
  },
  {
   "cell_type": "code",
   "execution_count": 34,
   "metadata": {
    "scrolled": true
   },
   "outputs": [
    {
     "name": "stdout",
     "output_type": "stream",
     "text": [
      "<class 'pandas.core.frame.DataFrame'>\n",
      "RangeIndex: 23699 entries, 0 to 23698\n",
      "Data columns (total 22 columns):\n",
      " #   Column                Non-Null Count  Dtype         \n",
      "---  ------                --------------  -----         \n",
      " 0   total_images          23699 non-null  int64         \n",
      " 1   last_price            23699 non-null  int32         \n",
      " 2   total_area            23699 non-null  float32       \n",
      " 3   first_day_exposition  23699 non-null  datetime64[ns]\n",
      " 4   rooms                 23699 non-null  int64         \n",
      " 5   ceiling_height        14504 non-null  float64       \n",
      " 6   floors_total          23613 non-null  float64       \n",
      " 7   living_area           21796 non-null  float64       \n",
      " 8   floor                 23699 non-null  int64         \n",
      " 9   is_apartment          23699 non-null  bool          \n",
      " 10  studio                23699 non-null  bool          \n",
      " 11  open_plan             23699 non-null  bool          \n",
      " 12  kitchen_area          21421 non-null  float64       \n",
      " 13  balcony               23699 non-null  int32         \n",
      " 14  locality_name         23650 non-null  object        \n",
      " 15  airports_nearest      18157 non-null  float64       \n",
      " 16  city_centers_nearest  18180 non-null  float64       \n",
      " 17  parks_around_3000     18181 non-null  float64       \n",
      " 18  parks_nearest         8079 non-null   float64       \n",
      " 19  ponds_around_3000     18181 non-null  float64       \n",
      " 20  ponds_nearest         9110 non-null   float64       \n",
      " 21  days_exposition       20518 non-null  float64       \n",
      "dtypes: bool(3), datetime64[ns](1), float32(1), float64(11), int32(2), int64(3), object(1)\n",
      "memory usage: 3.2+ MB\n"
     ]
    }
   ],
   "source": [
    "df.info() #проверим преобразования типов данных"
   ]
  },
  {
   "cell_type": "markdown",
   "metadata": {},
   "source": [
    "### Вывод"
   ]
  },
  {
   "cell_type": "markdown",
   "metadata": {},
   "source": [
    "Перед анализом данных мы привели названия столбцов к единому стандарту, проверили датасет на дубликаты и проверили пропуски — где было возможно, заполнили их.\n",
    "\n",
    "После преодбработки данных можно перейти к расчету необходимой дополнительной информации для анализа объектов недвижимости."
   ]
  },
  {
   "cell_type": "markdown",
   "metadata": {},
   "source": [
    "## Расчёты и добавление  дополнительных параметров в датасет"
   ]
  },
  {
   "cell_type": "markdown",
   "metadata": {},
   "source": [
    "В исходных данных не хватает некоторой \"типичной\" информации для жилой недвижимости — например, цены за квадратный метр. Добавим их в таблицу."
   ]
  },
  {
   "cell_type": "markdown",
   "metadata": {},
   "source": [
    "Создадим новый столбец `meter_price` в который добавим цену за квадратный метр."
   ]
  },
  {
   "cell_type": "code",
   "execution_count": 35,
   "metadata": {},
   "outputs": [],
   "source": [
    "df['meter_price'] = (df['last_price'] / df['total_area']).round().astype('int', errors='ignore')\n",
    "# для подсчета делим цену на общую площадь и округляем значение"
   ]
  },
  {
   "cell_type": "markdown",
   "metadata": {},
   "source": [
    "В дальнейшей обработке также может понадобиться группировать данные по годам, месяцам или дням недели - для этого также добавим соответвующие столбцы `year`,`month`,`weekday`."
   ]
  },
  {
   "cell_type": "code",
   "execution_count": 36,
   "metadata": {},
   "outputs": [],
   "source": [
    "df['year'] = df['first_day_exposition'].dt.year"
   ]
  },
  {
   "cell_type": "code",
   "execution_count": 37,
   "metadata": {},
   "outputs": [],
   "source": [
    "df['month'] = df['first_day_exposition'].dt.month"
   ]
  },
  {
   "cell_type": "code",
   "execution_count": 38,
   "metadata": {},
   "outputs": [],
   "source": [
    "df['weekday'] = df['first_day_exposition'].dt.weekday #дни вернутся в кодированном формате от 0 до 6"
   ]
  },
  {
   "cell_type": "markdown",
   "metadata": {},
   "source": [
    "Для анализа продаж также целесообразно возможность группировки по этажам. Категоризируем недвижимость следующим образом: недвижимость на первом этаже, на последнем, и на других."
   ]
  },
  {
   "cell_type": "code",
   "execution_count": 39,
   "metadata": {},
   "outputs": [],
   "source": [
    "# напишем функцию для обработки значений из столбца floor\n",
    "\n",
    "\n",
    "def floor_filter(df):\n",
    "    \"\"\"\n",
    "    Функция принимает на вход датасет с информацие о том, на каком этаже рассположена недвижимость ['floor']\n",
    "    и общее количество этажей в доме ['floors_total'] и определяет, относится ли она к первому или последнему этажу.\n",
    "    Если недвижимость не относится к первому или последнему этажу, она вернет значение \"другой\".\n",
    "    В случае невозможности сравнения из-за пропусков, также будет возвращено значение \"другой\" [этаж]\n",
    "    \"\"\"\n",
    "    if df['floor'] == 1:\n",
    "        return 'первый'\n",
    "    elif df['floors_total'] - df['floor'] == 0:\n",
    "        return 'последний'\n",
    "    else:\n",
    "        return 'другой'"
   ]
  },
  {
   "cell_type": "code",
   "execution_count": 40,
   "metadata": {},
   "outputs": [],
   "source": [
    "df['floor_category'] = df.apply(floor_filter, axis=1)"
   ]
  },
  {
   "cell_type": "markdown",
   "metadata": {},
   "source": [
    "Еще два важных параметра для оценки недвижимости - соотношение жилой площади к общей и площади кухни к общей."
   ]
  },
  {
   "cell_type": "code",
   "execution_count": 41,
   "metadata": {},
   "outputs": [],
   "source": [
    "df['living_share'] = df['living_area']/df['total_area']"
   ]
  },
  {
   "cell_type": "code",
   "execution_count": 42,
   "metadata": {},
   "outputs": [],
   "source": [
    "df['kitchen_share'] = df['kitchen_area']/df['total_area']"
   ]
  },
  {
   "cell_type": "code",
   "execution_count": 43,
   "metadata": {
    "scrolled": true
   },
   "outputs": [
    {
     "data": {
      "text/html": [
       "<div>\n",
       "<style scoped>\n",
       "    .dataframe tbody tr th:only-of-type {\n",
       "        vertical-align: middle;\n",
       "    }\n",
       "\n",
       "    .dataframe tbody tr th {\n",
       "        vertical-align: top;\n",
       "    }\n",
       "\n",
       "    .dataframe thead th {\n",
       "        text-align: right;\n",
       "    }\n",
       "</style>\n",
       "<table border=\"1\" class=\"dataframe\">\n",
       "  <thead>\n",
       "    <tr style=\"text-align: right;\">\n",
       "      <th></th>\n",
       "      <th>total_images</th>\n",
       "      <th>last_price</th>\n",
       "      <th>total_area</th>\n",
       "      <th>first_day_exposition</th>\n",
       "      <th>rooms</th>\n",
       "      <th>ceiling_height</th>\n",
       "      <th>floors_total</th>\n",
       "      <th>living_area</th>\n",
       "      <th>floor</th>\n",
       "      <th>is_apartment</th>\n",
       "      <th>...</th>\n",
       "      <th>ponds_around_3000</th>\n",
       "      <th>ponds_nearest</th>\n",
       "      <th>days_exposition</th>\n",
       "      <th>meter_price</th>\n",
       "      <th>year</th>\n",
       "      <th>month</th>\n",
       "      <th>weekday</th>\n",
       "      <th>floor_category</th>\n",
       "      <th>living_share</th>\n",
       "      <th>kitchen_share</th>\n",
       "    </tr>\n",
       "  </thead>\n",
       "  <tbody>\n",
       "    <tr>\n",
       "      <th>0</th>\n",
       "      <td>20</td>\n",
       "      <td>13000000</td>\n",
       "      <td>108.000000</td>\n",
       "      <td>2019-03-07</td>\n",
       "      <td>3</td>\n",
       "      <td>2.70</td>\n",
       "      <td>16.0</td>\n",
       "      <td>51.00</td>\n",
       "      <td>8</td>\n",
       "      <td>False</td>\n",
       "      <td>...</td>\n",
       "      <td>2.0</td>\n",
       "      <td>755.0</td>\n",
       "      <td>NaN</td>\n",
       "      <td>120370</td>\n",
       "      <td>2019</td>\n",
       "      <td>3</td>\n",
       "      <td>3</td>\n",
       "      <td>другой</td>\n",
       "      <td>0.472222</td>\n",
       "      <td>0.231481</td>\n",
       "    </tr>\n",
       "    <tr>\n",
       "      <th>1</th>\n",
       "      <td>7</td>\n",
       "      <td>3350000</td>\n",
       "      <td>40.400002</td>\n",
       "      <td>2018-12-04</td>\n",
       "      <td>1</td>\n",
       "      <td>NaN</td>\n",
       "      <td>11.0</td>\n",
       "      <td>18.60</td>\n",
       "      <td>1</td>\n",
       "      <td>False</td>\n",
       "      <td>...</td>\n",
       "      <td>0.0</td>\n",
       "      <td>NaN</td>\n",
       "      <td>81.0</td>\n",
       "      <td>82921</td>\n",
       "      <td>2018</td>\n",
       "      <td>12</td>\n",
       "      <td>1</td>\n",
       "      <td>первый</td>\n",
       "      <td>0.460396</td>\n",
       "      <td>0.272277</td>\n",
       "    </tr>\n",
       "    <tr>\n",
       "      <th>2</th>\n",
       "      <td>10</td>\n",
       "      <td>5196000</td>\n",
       "      <td>56.000000</td>\n",
       "      <td>2015-08-20</td>\n",
       "      <td>2</td>\n",
       "      <td>NaN</td>\n",
       "      <td>5.0</td>\n",
       "      <td>34.30</td>\n",
       "      <td>4</td>\n",
       "      <td>False</td>\n",
       "      <td>...</td>\n",
       "      <td>2.0</td>\n",
       "      <td>574.0</td>\n",
       "      <td>558.0</td>\n",
       "      <td>92786</td>\n",
       "      <td>2015</td>\n",
       "      <td>8</td>\n",
       "      <td>3</td>\n",
       "      <td>другой</td>\n",
       "      <td>0.612500</td>\n",
       "      <td>0.148214</td>\n",
       "    </tr>\n",
       "    <tr>\n",
       "      <th>3</th>\n",
       "      <td>0</td>\n",
       "      <td>64900000</td>\n",
       "      <td>159.000000</td>\n",
       "      <td>2015-07-24</td>\n",
       "      <td>3</td>\n",
       "      <td>NaN</td>\n",
       "      <td>14.0</td>\n",
       "      <td>NaN</td>\n",
       "      <td>9</td>\n",
       "      <td>False</td>\n",
       "      <td>...</td>\n",
       "      <td>3.0</td>\n",
       "      <td>234.0</td>\n",
       "      <td>424.0</td>\n",
       "      <td>408176</td>\n",
       "      <td>2015</td>\n",
       "      <td>7</td>\n",
       "      <td>4</td>\n",
       "      <td>другой</td>\n",
       "      <td>NaN</td>\n",
       "      <td>NaN</td>\n",
       "    </tr>\n",
       "    <tr>\n",
       "      <th>4</th>\n",
       "      <td>2</td>\n",
       "      <td>10000000</td>\n",
       "      <td>100.000000</td>\n",
       "      <td>2018-06-19</td>\n",
       "      <td>2</td>\n",
       "      <td>3.03</td>\n",
       "      <td>14.0</td>\n",
       "      <td>32.00</td>\n",
       "      <td>13</td>\n",
       "      <td>False</td>\n",
       "      <td>...</td>\n",
       "      <td>1.0</td>\n",
       "      <td>48.0</td>\n",
       "      <td>121.0</td>\n",
       "      <td>100000</td>\n",
       "      <td>2018</td>\n",
       "      <td>6</td>\n",
       "      <td>1</td>\n",
       "      <td>другой</td>\n",
       "      <td>0.320000</td>\n",
       "      <td>0.410000</td>\n",
       "    </tr>\n",
       "    <tr>\n",
       "      <th>5</th>\n",
       "      <td>10</td>\n",
       "      <td>2890000</td>\n",
       "      <td>30.400000</td>\n",
       "      <td>2018-09-10</td>\n",
       "      <td>1</td>\n",
       "      <td>NaN</td>\n",
       "      <td>12.0</td>\n",
       "      <td>14.40</td>\n",
       "      <td>5</td>\n",
       "      <td>False</td>\n",
       "      <td>...</td>\n",
       "      <td>NaN</td>\n",
       "      <td>NaN</td>\n",
       "      <td>55.0</td>\n",
       "      <td>95066</td>\n",
       "      <td>2018</td>\n",
       "      <td>9</td>\n",
       "      <td>0</td>\n",
       "      <td>другой</td>\n",
       "      <td>0.473684</td>\n",
       "      <td>0.299342</td>\n",
       "    </tr>\n",
       "    <tr>\n",
       "      <th>6</th>\n",
       "      <td>6</td>\n",
       "      <td>3700000</td>\n",
       "      <td>37.299999</td>\n",
       "      <td>2017-11-02</td>\n",
       "      <td>1</td>\n",
       "      <td>NaN</td>\n",
       "      <td>26.0</td>\n",
       "      <td>10.60</td>\n",
       "      <td>6</td>\n",
       "      <td>False</td>\n",
       "      <td>...</td>\n",
       "      <td>0.0</td>\n",
       "      <td>NaN</td>\n",
       "      <td>155.0</td>\n",
       "      <td>99196</td>\n",
       "      <td>2017</td>\n",
       "      <td>11</td>\n",
       "      <td>3</td>\n",
       "      <td>другой</td>\n",
       "      <td>0.284182</td>\n",
       "      <td>0.386059</td>\n",
       "    </tr>\n",
       "    <tr>\n",
       "      <th>7</th>\n",
       "      <td>5</td>\n",
       "      <td>7915000</td>\n",
       "      <td>71.599998</td>\n",
       "      <td>2019-04-18</td>\n",
       "      <td>2</td>\n",
       "      <td>NaN</td>\n",
       "      <td>24.0</td>\n",
       "      <td>NaN</td>\n",
       "      <td>22</td>\n",
       "      <td>False</td>\n",
       "      <td>...</td>\n",
       "      <td>0.0</td>\n",
       "      <td>NaN</td>\n",
       "      <td>NaN</td>\n",
       "      <td>110545</td>\n",
       "      <td>2019</td>\n",
       "      <td>4</td>\n",
       "      <td>3</td>\n",
       "      <td>другой</td>\n",
       "      <td>NaN</td>\n",
       "      <td>0.263966</td>\n",
       "    </tr>\n",
       "    <tr>\n",
       "      <th>8</th>\n",
       "      <td>20</td>\n",
       "      <td>2900000</td>\n",
       "      <td>33.160000</td>\n",
       "      <td>2018-05-23</td>\n",
       "      <td>1</td>\n",
       "      <td>NaN</td>\n",
       "      <td>27.0</td>\n",
       "      <td>15.43</td>\n",
       "      <td>26</td>\n",
       "      <td>False</td>\n",
       "      <td>...</td>\n",
       "      <td>NaN</td>\n",
       "      <td>NaN</td>\n",
       "      <td>189.0</td>\n",
       "      <td>87455</td>\n",
       "      <td>2018</td>\n",
       "      <td>5</td>\n",
       "      <td>2</td>\n",
       "      <td>другой</td>\n",
       "      <td>0.465320</td>\n",
       "      <td>0.265682</td>\n",
       "    </tr>\n",
       "    <tr>\n",
       "      <th>9</th>\n",
       "      <td>18</td>\n",
       "      <td>5400000</td>\n",
       "      <td>61.000000</td>\n",
       "      <td>2017-02-26</td>\n",
       "      <td>3</td>\n",
       "      <td>2.50</td>\n",
       "      <td>9.0</td>\n",
       "      <td>43.60</td>\n",
       "      <td>7</td>\n",
       "      <td>False</td>\n",
       "      <td>...</td>\n",
       "      <td>0.0</td>\n",
       "      <td>NaN</td>\n",
       "      <td>289.0</td>\n",
       "      <td>88525</td>\n",
       "      <td>2017</td>\n",
       "      <td>2</td>\n",
       "      <td>6</td>\n",
       "      <td>другой</td>\n",
       "      <td>0.714754</td>\n",
       "      <td>0.106557</td>\n",
       "    </tr>\n",
       "  </tbody>\n",
       "</table>\n",
       "<p>10 rows × 29 columns</p>\n",
       "</div>"
      ],
      "text/plain": [
       "   total_images  last_price  total_area first_day_exposition  rooms  \\\n",
       "0            20    13000000  108.000000           2019-03-07      3   \n",
       "1             7     3350000   40.400002           2018-12-04      1   \n",
       "2            10     5196000   56.000000           2015-08-20      2   \n",
       "3             0    64900000  159.000000           2015-07-24      3   \n",
       "4             2    10000000  100.000000           2018-06-19      2   \n",
       "5            10     2890000   30.400000           2018-09-10      1   \n",
       "6             6     3700000   37.299999           2017-11-02      1   \n",
       "7             5     7915000   71.599998           2019-04-18      2   \n",
       "8            20     2900000   33.160000           2018-05-23      1   \n",
       "9            18     5400000   61.000000           2017-02-26      3   \n",
       "\n",
       "   ceiling_height  floors_total  living_area  floor  is_apartment  ...  \\\n",
       "0            2.70          16.0        51.00      8         False  ...   \n",
       "1             NaN          11.0        18.60      1         False  ...   \n",
       "2             NaN           5.0        34.30      4         False  ...   \n",
       "3             NaN          14.0          NaN      9         False  ...   \n",
       "4            3.03          14.0        32.00     13         False  ...   \n",
       "5             NaN          12.0        14.40      5         False  ...   \n",
       "6             NaN          26.0        10.60      6         False  ...   \n",
       "7             NaN          24.0          NaN     22         False  ...   \n",
       "8             NaN          27.0        15.43     26         False  ...   \n",
       "9            2.50           9.0        43.60      7         False  ...   \n",
       "\n",
       "   ponds_around_3000  ponds_nearest  days_exposition  meter_price  year  \\\n",
       "0                2.0          755.0              NaN       120370  2019   \n",
       "1                0.0            NaN             81.0        82921  2018   \n",
       "2                2.0          574.0            558.0        92786  2015   \n",
       "3                3.0          234.0            424.0       408176  2015   \n",
       "4                1.0           48.0            121.0       100000  2018   \n",
       "5                NaN            NaN             55.0        95066  2018   \n",
       "6                0.0            NaN            155.0        99196  2017   \n",
       "7                0.0            NaN              NaN       110545  2019   \n",
       "8                NaN            NaN            189.0        87455  2018   \n",
       "9                0.0            NaN            289.0        88525  2017   \n",
       "\n",
       "   month  weekday  floor_category  living_share  kitchen_share  \n",
       "0      3        3          другой      0.472222       0.231481  \n",
       "1     12        1          первый      0.460396       0.272277  \n",
       "2      8        3          другой      0.612500       0.148214  \n",
       "3      7        4          другой           NaN            NaN  \n",
       "4      6        1          другой      0.320000       0.410000  \n",
       "5      9        0          другой      0.473684       0.299342  \n",
       "6     11        3          другой      0.284182       0.386059  \n",
       "7      4        3          другой           NaN       0.263966  \n",
       "8      5        2          другой      0.465320       0.265682  \n",
       "9      2        6          другой      0.714754       0.106557  \n",
       "\n",
       "[10 rows x 29 columns]"
      ]
     },
     "execution_count": 43,
     "metadata": {},
     "output_type": "execute_result"
    }
   ],
   "source": [
    "df.head(10) #посмотрим первые 10 строк после всех преобразований"
   ]
  },
  {
   "cell_type": "markdown",
   "metadata": {},
   "source": [
    "## Исследовательский анализ данных"
   ]
  },
  {
   "cell_type": "markdown",
   "metadata": {},
   "source": [
    "### Предварительный анализ"
   ]
  },
  {
   "cell_type": "markdown",
   "metadata": {},
   "source": [
    "Рассмотрим параметры, которые влияют на цену недвижимости. Сначала исследуем данные по площади (`total_area`)."
   ]
  },
  {
   "cell_type": "code",
   "execution_count": 44,
   "metadata": {},
   "outputs": [
    {
     "data": {
      "text/plain": [
       "count    23699.000000\n",
       "mean        60.348774\n",
       "std         35.654266\n",
       "min         12.000000\n",
       "25%         40.000000\n",
       "50%         52.000000\n",
       "75%         69.900002\n",
       "max        900.000000\n",
       "Name: total_area, dtype: float64"
      ]
     },
     "execution_count": 44,
     "metadata": {},
     "output_type": "execute_result"
    }
   ],
   "source": [
    "df['total_area'].describe()"
   ]
  },
  {
   "cell_type": "code",
   "execution_count": 45,
   "metadata": {},
   "outputs": [
    {
     "data": {
      "image/png": "[encoded data removed]",
      "text/plain": [
       "<Figure size 432x288 with 1 Axes>"
      ]
     },
     "metadata": {
      "needs_background": "light"
     },
     "output_type": "display_data"
    }
   ],
   "source": [
    "df['total_area'].hist(bins=20) # построим гистограмму по площади\n",
    "plt.title('Распределение объектов по площади')\n",
    "plt.xlabel('Площадь')\n",
    "plt.ylabel('Количество объектов')\n",
    "plt.show()"
   ]
  },
  {
   "cell_type": "markdown",
   "metadata": {},
   "source": [
    "Большинство значений укладываются в диапозон до 200 метров, а основные значения - до 69.9 (третий квартиль). Построим еще одну гистограмму, ограничев диапозон значений до 100 метров, чтобы внимательнее изучить, как выглядят \"типичные\" значения."
   ]
  },
  {
   "cell_type": "code",
   "execution_count": 46,
   "metadata": {},
   "outputs": [
    {
     "data": {
      "image/png": "[encoded data removed]",
      "text/plain": [
       "<Figure size 432x288 with 1 Axes>"
      ]
     },
     "metadata": {
      "needs_background": "light"
     },
     "output_type": "display_data"
    }
   ],
   "source": [
    "df['total_area'].hist(bins=20, range=(0,100))\n",
    "plt.title('Распределение по площади объектов до 100 м')\n",
    "plt.xlabel('Площадь')\n",
    "plt.ylabel('Количество объектов')\n",
    "plt.show()"
   ]
  },
  {
   "cell_type": "markdown",
   "metadata": {},
   "source": [
    "У графика есть несколько пиков. Первый - в районе 30 метров — вероятно, это квартиры-студии. Второй - около 42 метров - типичные \"однушки\". Очевидно, именно маленькие квартиры являются основным предложением на рынке.\n",
    "\n",
    "Посмотрим, сколько в датасете недвижимости больше 400 метров (там, где первая гистограмма сливается с осью)."
   ]
  },
  {
   "cell_type": "code",
   "execution_count": 47,
   "metadata": {
    "scrolled": true
   },
   "outputs": [
    {
     "data": {
      "text/html": [
       "<div>\n",
       "<style scoped>\n",
       "    .dataframe tbody tr th:only-of-type {\n",
       "        vertical-align: middle;\n",
       "    }\n",
       "\n",
       "    .dataframe tbody tr th {\n",
       "        vertical-align: top;\n",
       "    }\n",
       "\n",
       "    .dataframe thead th {\n",
       "        text-align: right;\n",
       "    }\n",
       "</style>\n",
       "<table border=\"1\" class=\"dataframe\">\n",
       "  <thead>\n",
       "    <tr style=\"text-align: right;\">\n",
       "      <th></th>\n",
       "      <th>total_images</th>\n",
       "      <th>last_price</th>\n",
       "      <th>total_area</th>\n",
       "      <th>first_day_exposition</th>\n",
       "      <th>rooms</th>\n",
       "      <th>ceiling_height</th>\n",
       "      <th>floors_total</th>\n",
       "      <th>living_area</th>\n",
       "      <th>floor</th>\n",
       "      <th>is_apartment</th>\n",
       "      <th>...</th>\n",
       "      <th>ponds_around_3000</th>\n",
       "      <th>ponds_nearest</th>\n",
       "      <th>days_exposition</th>\n",
       "      <th>meter_price</th>\n",
       "      <th>year</th>\n",
       "      <th>month</th>\n",
       "      <th>weekday</th>\n",
       "      <th>floor_category</th>\n",
       "      <th>living_share</th>\n",
       "      <th>kitchen_share</th>\n",
       "    </tr>\n",
       "  </thead>\n",
       "  <tbody>\n",
       "    <tr>\n",
       "      <th>660</th>\n",
       "      <td>3</td>\n",
       "      <td>49950000</td>\n",
       "      <td>483.899994</td>\n",
       "      <td>2017-10-04</td>\n",
       "      <td>7</td>\n",
       "      <td>3.20</td>\n",
       "      <td>6.0</td>\n",
       "      <td>312.5</td>\n",
       "      <td>4</td>\n",
       "      <td>False</td>\n",
       "      <td>...</td>\n",
       "      <td>3.0</td>\n",
       "      <td>22.0</td>\n",
       "      <td>391.0</td>\n",
       "      <td>103224</td>\n",
       "      <td>2017</td>\n",
       "      <td>10</td>\n",
       "      <td>2</td>\n",
       "      <td>другой</td>\n",
       "      <td>0.645795</td>\n",
       "      <td>0.054557</td>\n",
       "    </tr>\n",
       "    <tr>\n",
       "      <th>3117</th>\n",
       "      <td>19</td>\n",
       "      <td>140000000</td>\n",
       "      <td>631.000000</td>\n",
       "      <td>2019-03-30</td>\n",
       "      <td>7</td>\n",
       "      <td>NaN</td>\n",
       "      <td>5.0</td>\n",
       "      <td>NaN</td>\n",
       "      <td>5</td>\n",
       "      <td>False</td>\n",
       "      <td>...</td>\n",
       "      <td>2.0</td>\n",
       "      <td>210.0</td>\n",
       "      <td>NaN</td>\n",
       "      <td>221870</td>\n",
       "      <td>2019</td>\n",
       "      <td>3</td>\n",
       "      <td>5</td>\n",
       "      <td>последний</td>\n",
       "      <td>NaN</td>\n",
       "      <td>0.095087</td>\n",
       "    </tr>\n",
       "    <tr>\n",
       "      <th>3676</th>\n",
       "      <td>12</td>\n",
       "      <td>28789000</td>\n",
       "      <td>441.980011</td>\n",
       "      <td>2019-01-23</td>\n",
       "      <td>4</td>\n",
       "      <td>NaN</td>\n",
       "      <td>6.0</td>\n",
       "      <td>NaN</td>\n",
       "      <td>6</td>\n",
       "      <td>False</td>\n",
       "      <td>...</td>\n",
       "      <td>0.0</td>\n",
       "      <td>NaN</td>\n",
       "      <td>NaN</td>\n",
       "      <td>65136</td>\n",
       "      <td>2019</td>\n",
       "      <td>1</td>\n",
       "      <td>2</td>\n",
       "      <td>последний</td>\n",
       "      <td>NaN</td>\n",
       "      <td>0.079302</td>\n",
       "    </tr>\n",
       "    <tr>\n",
       "      <th>4237</th>\n",
       "      <td>1</td>\n",
       "      <td>50000000</td>\n",
       "      <td>517.000000</td>\n",
       "      <td>2017-10-14</td>\n",
       "      <td>7</td>\n",
       "      <td>NaN</td>\n",
       "      <td>4.0</td>\n",
       "      <td>332.0</td>\n",
       "      <td>3</td>\n",
       "      <td>False</td>\n",
       "      <td>...</td>\n",
       "      <td>2.0</td>\n",
       "      <td>540.0</td>\n",
       "      <td>NaN</td>\n",
       "      <td>96712</td>\n",
       "      <td>2017</td>\n",
       "      <td>10</td>\n",
       "      <td>5</td>\n",
       "      <td>другой</td>\n",
       "      <td>0.642166</td>\n",
       "      <td>0.042553</td>\n",
       "    </tr>\n",
       "    <tr>\n",
       "      <th>5358</th>\n",
       "      <td>20</td>\n",
       "      <td>65000000</td>\n",
       "      <td>590.000000</td>\n",
       "      <td>2019-02-14</td>\n",
       "      <td>15</td>\n",
       "      <td>3.50</td>\n",
       "      <td>6.0</td>\n",
       "      <td>409.0</td>\n",
       "      <td>3</td>\n",
       "      <td>False</td>\n",
       "      <td>...</td>\n",
       "      <td>0.0</td>\n",
       "      <td>NaN</td>\n",
       "      <td>14.0</td>\n",
       "      <td>110169</td>\n",
       "      <td>2019</td>\n",
       "      <td>2</td>\n",
       "      <td>3</td>\n",
       "      <td>другой</td>\n",
       "      <td>0.693220</td>\n",
       "      <td>0.169492</td>\n",
       "    </tr>\n",
       "    <tr>\n",
       "      <th>5893</th>\n",
       "      <td>3</td>\n",
       "      <td>230000000</td>\n",
       "      <td>500.000000</td>\n",
       "      <td>2017-05-31</td>\n",
       "      <td>6</td>\n",
       "      <td>NaN</td>\n",
       "      <td>7.0</td>\n",
       "      <td>NaN</td>\n",
       "      <td>7</td>\n",
       "      <td>False</td>\n",
       "      <td>...</td>\n",
       "      <td>2.0</td>\n",
       "      <td>198.0</td>\n",
       "      <td>50.0</td>\n",
       "      <td>460000</td>\n",
       "      <td>2017</td>\n",
       "      <td>5</td>\n",
       "      <td>2</td>\n",
       "      <td>последний</td>\n",
       "      <td>NaN</td>\n",
       "      <td>0.080000</td>\n",
       "    </tr>\n",
       "    <tr>\n",
       "      <th>6221</th>\n",
       "      <td>8</td>\n",
       "      <td>34000000</td>\n",
       "      <td>470.299988</td>\n",
       "      <td>2018-01-14</td>\n",
       "      <td>4</td>\n",
       "      <td>NaN</td>\n",
       "      <td>3.0</td>\n",
       "      <td>248.7</td>\n",
       "      <td>3</td>\n",
       "      <td>False</td>\n",
       "      <td>...</td>\n",
       "      <td>3.0</td>\n",
       "      <td>122.0</td>\n",
       "      <td>179.0</td>\n",
       "      <td>72294</td>\n",
       "      <td>2018</td>\n",
       "      <td>1</td>\n",
       "      <td>6</td>\n",
       "      <td>последний</td>\n",
       "      <td>0.528811</td>\n",
       "      <td>0.085052</td>\n",
       "    </tr>\n",
       "    <tr>\n",
       "      <th>6621</th>\n",
       "      <td>20</td>\n",
       "      <td>99000000</td>\n",
       "      <td>488.000000</td>\n",
       "      <td>2017-04-09</td>\n",
       "      <td>5</td>\n",
       "      <td>2.95</td>\n",
       "      <td>20.0</td>\n",
       "      <td>216.0</td>\n",
       "      <td>17</td>\n",
       "      <td>False</td>\n",
       "      <td>...</td>\n",
       "      <td>1.0</td>\n",
       "      <td>368.0</td>\n",
       "      <td>351.0</td>\n",
       "      <td>202869</td>\n",
       "      <td>2017</td>\n",
       "      <td>4</td>\n",
       "      <td>6</td>\n",
       "      <td>другой</td>\n",
       "      <td>0.442623</td>\n",
       "      <td>0.102459</td>\n",
       "    </tr>\n",
       "    <tr>\n",
       "      <th>8018</th>\n",
       "      <td>20</td>\n",
       "      <td>84000000</td>\n",
       "      <td>507.000000</td>\n",
       "      <td>2015-12-17</td>\n",
       "      <td>5</td>\n",
       "      <td>4.45</td>\n",
       "      <td>7.0</td>\n",
       "      <td>301.5</td>\n",
       "      <td>7</td>\n",
       "      <td>True</td>\n",
       "      <td>...</td>\n",
       "      <td>0.0</td>\n",
       "      <td>NaN</td>\n",
       "      <td>1078.0</td>\n",
       "      <td>165680</td>\n",
       "      <td>2015</td>\n",
       "      <td>12</td>\n",
       "      <td>3</td>\n",
       "      <td>последний</td>\n",
       "      <td>0.594675</td>\n",
       "      <td>0.089744</td>\n",
       "    </tr>\n",
       "    <tr>\n",
       "      <th>9826</th>\n",
       "      <td>1</td>\n",
       "      <td>43185328</td>\n",
       "      <td>494.100006</td>\n",
       "      <td>2017-05-12</td>\n",
       "      <td>1</td>\n",
       "      <td>2.85</td>\n",
       "      <td>12.0</td>\n",
       "      <td>NaN</td>\n",
       "      <td>3</td>\n",
       "      <td>False</td>\n",
       "      <td>...</td>\n",
       "      <td>0.0</td>\n",
       "      <td>NaN</td>\n",
       "      <td>5.0</td>\n",
       "      <td>87402</td>\n",
       "      <td>2017</td>\n",
       "      <td>5</td>\n",
       "      <td>4</td>\n",
       "      <td>другой</td>\n",
       "      <td>NaN</td>\n",
       "      <td>NaN</td>\n",
       "    </tr>\n",
       "    <tr>\n",
       "      <th>12401</th>\n",
       "      <td>20</td>\n",
       "      <td>91500000</td>\n",
       "      <td>495.000000</td>\n",
       "      <td>2017-06-19</td>\n",
       "      <td>7</td>\n",
       "      <td>4.65</td>\n",
       "      <td>7.0</td>\n",
       "      <td>347.5</td>\n",
       "      <td>7</td>\n",
       "      <td>False</td>\n",
       "      <td>...</td>\n",
       "      <td>0.0</td>\n",
       "      <td>NaN</td>\n",
       "      <td>14.0</td>\n",
       "      <td>184848</td>\n",
       "      <td>2017</td>\n",
       "      <td>6</td>\n",
       "      <td>0</td>\n",
       "      <td>последний</td>\n",
       "      <td>0.702020</td>\n",
       "      <td>0.050505</td>\n",
       "    </tr>\n",
       "    <tr>\n",
       "      <th>12859</th>\n",
       "      <td>20</td>\n",
       "      <td>140000000</td>\n",
       "      <td>631.200012</td>\n",
       "      <td>2019-04-09</td>\n",
       "      <td>7</td>\n",
       "      <td>3.90</td>\n",
       "      <td>4.0</td>\n",
       "      <td>322.3</td>\n",
       "      <td>4</td>\n",
       "      <td>False</td>\n",
       "      <td>...</td>\n",
       "      <td>2.0</td>\n",
       "      <td>210.0</td>\n",
       "      <td>NaN</td>\n",
       "      <td>221800</td>\n",
       "      <td>2019</td>\n",
       "      <td>4</td>\n",
       "      <td>1</td>\n",
       "      <td>последний</td>\n",
       "      <td>0.510615</td>\n",
       "      <td>0.030894</td>\n",
       "    </tr>\n",
       "    <tr>\n",
       "      <th>13749</th>\n",
       "      <td>7</td>\n",
       "      <td>240000000</td>\n",
       "      <td>410.000000</td>\n",
       "      <td>2017-04-01</td>\n",
       "      <td>6</td>\n",
       "      <td>3.40</td>\n",
       "      <td>7.0</td>\n",
       "      <td>218.0</td>\n",
       "      <td>7</td>\n",
       "      <td>False</td>\n",
       "      <td>...</td>\n",
       "      <td>2.0</td>\n",
       "      <td>198.0</td>\n",
       "      <td>199.0</td>\n",
       "      <td>585366</td>\n",
       "      <td>2017</td>\n",
       "      <td>4</td>\n",
       "      <td>5</td>\n",
       "      <td>последний</td>\n",
       "      <td>0.531707</td>\n",
       "      <td>0.097561</td>\n",
       "    </tr>\n",
       "    <tr>\n",
       "      <th>14088</th>\n",
       "      <td>8</td>\n",
       "      <td>51000000</td>\n",
       "      <td>402.000000</td>\n",
       "      <td>2017-02-07</td>\n",
       "      <td>6</td>\n",
       "      <td>3.15</td>\n",
       "      <td>8.0</td>\n",
       "      <td>300.0</td>\n",
       "      <td>6</td>\n",
       "      <td>False</td>\n",
       "      <td>...</td>\n",
       "      <td>0.0</td>\n",
       "      <td>NaN</td>\n",
       "      <td>32.0</td>\n",
       "      <td>126866</td>\n",
       "      <td>2017</td>\n",
       "      <td>2</td>\n",
       "      <td>1</td>\n",
       "      <td>другой</td>\n",
       "      <td>0.746269</td>\n",
       "      <td>0.139303</td>\n",
       "    </tr>\n",
       "    <tr>\n",
       "      <th>14706</th>\n",
       "      <td>15</td>\n",
       "      <td>401300000</td>\n",
       "      <td>401.000000</td>\n",
       "      <td>2016-02-20</td>\n",
       "      <td>5</td>\n",
       "      <td>NaN</td>\n",
       "      <td>9.0</td>\n",
       "      <td>204.0</td>\n",
       "      <td>9</td>\n",
       "      <td>False</td>\n",
       "      <td>...</td>\n",
       "      <td>1.0</td>\n",
       "      <td>478.0</td>\n",
       "      <td>393.0</td>\n",
       "      <td>1000748</td>\n",
       "      <td>2016</td>\n",
       "      <td>2</td>\n",
       "      <td>5</td>\n",
       "      <td>последний</td>\n",
       "      <td>0.508728</td>\n",
       "      <td>0.059850</td>\n",
       "    </tr>\n",
       "    <tr>\n",
       "      <th>14991</th>\n",
       "      <td>19</td>\n",
       "      <td>45000000</td>\n",
       "      <td>413.500000</td>\n",
       "      <td>2018-09-20</td>\n",
       "      <td>7</td>\n",
       "      <td>NaN</td>\n",
       "      <td>20.0</td>\n",
       "      <td>74.2</td>\n",
       "      <td>18</td>\n",
       "      <td>False</td>\n",
       "      <td>...</td>\n",
       "      <td>0.0</td>\n",
       "      <td>NaN</td>\n",
       "      <td>182.0</td>\n",
       "      <td>108827</td>\n",
       "      <td>2018</td>\n",
       "      <td>9</td>\n",
       "      <td>3</td>\n",
       "      <td>другой</td>\n",
       "      <td>0.179444</td>\n",
       "      <td>0.033615</td>\n",
       "    </tr>\n",
       "    <tr>\n",
       "      <th>15016</th>\n",
       "      <td>8</td>\n",
       "      <td>150000000</td>\n",
       "      <td>500.000000</td>\n",
       "      <td>2016-01-13</td>\n",
       "      <td>4</td>\n",
       "      <td>3.20</td>\n",
       "      <td>7.0</td>\n",
       "      <td>NaN</td>\n",
       "      <td>7</td>\n",
       "      <td>False</td>\n",
       "      <td>...</td>\n",
       "      <td>3.0</td>\n",
       "      <td>531.0</td>\n",
       "      <td>303.0</td>\n",
       "      <td>300000</td>\n",
       "      <td>2016</td>\n",
       "      <td>1</td>\n",
       "      <td>2</td>\n",
       "      <td>последний</td>\n",
       "      <td>NaN</td>\n",
       "      <td>NaN</td>\n",
       "    </tr>\n",
       "    <tr>\n",
       "      <th>15651</th>\n",
       "      <td>20</td>\n",
       "      <td>300000000</td>\n",
       "      <td>618.000000</td>\n",
       "      <td>2017-12-18</td>\n",
       "      <td>7</td>\n",
       "      <td>3.40</td>\n",
       "      <td>7.0</td>\n",
       "      <td>258.0</td>\n",
       "      <td>5</td>\n",
       "      <td>False</td>\n",
       "      <td>...</td>\n",
       "      <td>2.0</td>\n",
       "      <td>198.0</td>\n",
       "      <td>111.0</td>\n",
       "      <td>485437</td>\n",
       "      <td>2017</td>\n",
       "      <td>12</td>\n",
       "      <td>0</td>\n",
       "      <td>другой</td>\n",
       "      <td>0.417476</td>\n",
       "      <td>0.113269</td>\n",
       "    </tr>\n",
       "    <tr>\n",
       "      <th>19540</th>\n",
       "      <td>8</td>\n",
       "      <td>420000000</td>\n",
       "      <td>900.000000</td>\n",
       "      <td>2017-12-06</td>\n",
       "      <td>12</td>\n",
       "      <td>2.80</td>\n",
       "      <td>25.0</td>\n",
       "      <td>409.7</td>\n",
       "      <td>25</td>\n",
       "      <td>False</td>\n",
       "      <td>...</td>\n",
       "      <td>2.0</td>\n",
       "      <td>318.0</td>\n",
       "      <td>106.0</td>\n",
       "      <td>466667</td>\n",
       "      <td>2017</td>\n",
       "      <td>12</td>\n",
       "      <td>2</td>\n",
       "      <td>последний</td>\n",
       "      <td>0.455222</td>\n",
       "      <td>0.124444</td>\n",
       "    </tr>\n",
       "    <tr>\n",
       "      <th>20273</th>\n",
       "      <td>12</td>\n",
       "      <td>20000000</td>\n",
       "      <td>460.799988</td>\n",
       "      <td>2019-03-20</td>\n",
       "      <td>6</td>\n",
       "      <td>3.10</td>\n",
       "      <td>3.0</td>\n",
       "      <td>279.6</td>\n",
       "      <td>1</td>\n",
       "      <td>False</td>\n",
       "      <td>...</td>\n",
       "      <td>3.0</td>\n",
       "      <td>122.0</td>\n",
       "      <td>21.0</td>\n",
       "      <td>43403</td>\n",
       "      <td>2019</td>\n",
       "      <td>3</td>\n",
       "      <td>2</td>\n",
       "      <td>первый</td>\n",
       "      <td>0.606771</td>\n",
       "      <td>0.120443</td>\n",
       "    </tr>\n",
       "    <tr>\n",
       "      <th>21955</th>\n",
       "      <td>19</td>\n",
       "      <td>130000000</td>\n",
       "      <td>431.000000</td>\n",
       "      <td>2017-10-02</td>\n",
       "      <td>7</td>\n",
       "      <td>3.70</td>\n",
       "      <td>8.0</td>\n",
       "      <td>220.0</td>\n",
       "      <td>5</td>\n",
       "      <td>False</td>\n",
       "      <td>...</td>\n",
       "      <td>NaN</td>\n",
       "      <td>NaN</td>\n",
       "      <td>161.0</td>\n",
       "      <td>301624</td>\n",
       "      <td>2017</td>\n",
       "      <td>10</td>\n",
       "      <td>0</td>\n",
       "      <td>другой</td>\n",
       "      <td>0.510441</td>\n",
       "      <td>0.046404</td>\n",
       "    </tr>\n",
       "    <tr>\n",
       "      <th>22131</th>\n",
       "      <td>14</td>\n",
       "      <td>27000000</td>\n",
       "      <td>422.200012</td>\n",
       "      <td>2018-10-18</td>\n",
       "      <td>5</td>\n",
       "      <td>2.70</td>\n",
       "      <td>13.0</td>\n",
       "      <td>NaN</td>\n",
       "      <td>11</td>\n",
       "      <td>False</td>\n",
       "      <td>...</td>\n",
       "      <td>0.0</td>\n",
       "      <td>NaN</td>\n",
       "      <td>NaN</td>\n",
       "      <td>63951</td>\n",
       "      <td>2018</td>\n",
       "      <td>10</td>\n",
       "      <td>3</td>\n",
       "      <td>другой</td>\n",
       "      <td>NaN</td>\n",
       "      <td>NaN</td>\n",
       "    </tr>\n",
       "    <tr>\n",
       "      <th>22494</th>\n",
       "      <td>7</td>\n",
       "      <td>91075000</td>\n",
       "      <td>491.000000</td>\n",
       "      <td>2017-05-27</td>\n",
       "      <td>5</td>\n",
       "      <td>4.20</td>\n",
       "      <td>9.0</td>\n",
       "      <td>274.0</td>\n",
       "      <td>9</td>\n",
       "      <td>False</td>\n",
       "      <td>...</td>\n",
       "      <td>0.0</td>\n",
       "      <td>NaN</td>\n",
       "      <td>115.0</td>\n",
       "      <td>185489</td>\n",
       "      <td>2017</td>\n",
       "      <td>5</td>\n",
       "      <td>5</td>\n",
       "      <td>последний</td>\n",
       "      <td>0.558045</td>\n",
       "      <td>0.091650</td>\n",
       "    </tr>\n",
       "  </tbody>\n",
       "</table>\n",
       "<p>23 rows × 29 columns</p>\n",
       "</div>"
      ],
      "text/plain": [
       "       total_images  last_price  total_area first_day_exposition  rooms  \\\n",
       "660               3    49950000  483.899994           2017-10-04      7   \n",
       "3117             19   140000000  631.000000           2019-03-30      7   \n",
       "3676             12    28789000  441.980011           2019-01-23      4   \n",
       "4237              1    50000000  517.000000           2017-10-14      7   \n",
       "5358             20    65000000  590.000000           2019-02-14     15   \n",
       "5893              3   230000000  500.000000           2017-05-31      6   \n",
       "6221              8    34000000  470.299988           2018-01-14      4   \n",
       "6621             20    99000000  488.000000           2017-04-09      5   \n",
       "8018             20    84000000  507.000000           2015-12-17      5   \n",
       "9826              1    43185328  494.100006           2017-05-12      1   \n",
       "12401            20    91500000  495.000000           2017-06-19      7   \n",
       "12859            20   140000000  631.200012           2019-04-09      7   \n",
       "13749             7   240000000  410.000000           2017-04-01      6   \n",
       "14088             8    51000000  402.000000           2017-02-07      6   \n",
       "14706            15   401300000  401.000000           2016-02-20      5   \n",
       "14991            19    45000000  413.500000           2018-09-20      7   \n",
       "15016             8   150000000  500.000000           2016-01-13      4   \n",
       "15651            20   300000000  618.000000           2017-12-18      7   \n",
       "19540             8   420000000  900.000000           2017-12-06     12   \n",
       "20273            12    20000000  460.799988           2019-03-20      6   \n",
       "21955            19   130000000  431.000000           2017-10-02      7   \n",
       "22131            14    27000000  422.200012           2018-10-18      5   \n",
       "22494             7    91075000  491.000000           2017-05-27      5   \n",
       "\n",
       "       ceiling_height  floors_total  living_area  floor  is_apartment  ...  \\\n",
       "660              3.20           6.0        312.5      4         False  ...   \n",
       "3117              NaN           5.0          NaN      5         False  ...   \n",
       "3676              NaN           6.0          NaN      6         False  ...   \n",
       "4237              NaN           4.0        332.0      3         False  ...   \n",
       "5358             3.50           6.0        409.0      3         False  ...   \n",
       "5893              NaN           7.0          NaN      7         False  ...   \n",
       "6221              NaN           3.0        248.7      3         False  ...   \n",
       "6621             2.95          20.0        216.0     17         False  ...   \n",
       "8018             4.45           7.0        301.5      7          True  ...   \n",
       "9826             2.85          12.0          NaN      3         False  ...   \n",
       "12401            4.65           7.0        347.5      7         False  ...   \n",
       "12859            3.90           4.0        322.3      4         False  ...   \n",
       "13749            3.40           7.0        218.0      7         False  ...   \n",
       "14088            3.15           8.0        300.0      6         False  ...   \n",
       "14706             NaN           9.0        204.0      9         False  ...   \n",
       "14991             NaN          20.0         74.2     18         False  ...   \n",
       "15016            3.20           7.0          NaN      7         False  ...   \n",
       "15651            3.40           7.0        258.0      5         False  ...   \n",
       "19540            2.80          25.0        409.7     25         False  ...   \n",
       "20273            3.10           3.0        279.6      1         False  ...   \n",
       "21955            3.70           8.0        220.0      5         False  ...   \n",
       "22131            2.70          13.0          NaN     11         False  ...   \n",
       "22494            4.20           9.0        274.0      9         False  ...   \n",
       "\n",
       "       ponds_around_3000  ponds_nearest  days_exposition  meter_price  year  \\\n",
       "660                  3.0           22.0            391.0       103224  2017   \n",
       "3117                 2.0          210.0              NaN       221870  2019   \n",
       "3676                 0.0            NaN              NaN        65136  2019   \n",
       "4237                 2.0          540.0              NaN        96712  2017   \n",
       "5358                 0.0            NaN             14.0       110169  2019   \n",
       "5893                 2.0          198.0             50.0       460000  2017   \n",
       "6221                 3.0          122.0            179.0        72294  2018   \n",
       "6621                 1.0          368.0            351.0       202869  2017   \n",
       "8018                 0.0            NaN           1078.0       165680  2015   \n",
       "9826                 0.0            NaN              5.0        87402  2017   \n",
       "12401                0.0            NaN             14.0       184848  2017   \n",
       "12859                2.0          210.0              NaN       221800  2019   \n",
       "13749                2.0          198.0            199.0       585366  2017   \n",
       "14088                0.0            NaN             32.0       126866  2017   \n",
       "14706                1.0          478.0            393.0      1000748  2016   \n",
       "14991                0.0            NaN            182.0       108827  2018   \n",
       "15016                3.0          531.0            303.0       300000  2016   \n",
       "15651                2.0          198.0            111.0       485437  2017   \n",
       "19540                2.0          318.0            106.0       466667  2017   \n",
       "20273                3.0          122.0             21.0        43403  2019   \n",
       "21955                NaN            NaN            161.0       301624  2017   \n",
       "22131                0.0            NaN              NaN        63951  2018   \n",
       "22494                0.0            NaN            115.0       185489  2017   \n",
       "\n",
       "       month  weekday  floor_category  living_share  kitchen_share  \n",
       "660       10        2          другой      0.645795       0.054557  \n",
       "3117       3        5       последний           NaN       0.095087  \n",
       "3676       1        2       последний           NaN       0.079302  \n",
       "4237      10        5          другой      0.642166       0.042553  \n",
       "5358       2        3          другой      0.693220       0.169492  \n",
       "5893       5        2       последний           NaN       0.080000  \n",
       "6221       1        6       последний      0.528811       0.085052  \n",
       "6621       4        6          другой      0.442623       0.102459  \n",
       "8018      12        3       последний      0.594675       0.089744  \n",
       "9826       5        4          другой           NaN            NaN  \n",
       "12401      6        0       последний      0.702020       0.050505  \n",
       "12859      4        1       последний      0.510615       0.030894  \n",
       "13749      4        5       последний      0.531707       0.097561  \n",
       "14088      2        1          другой      0.746269       0.139303  \n",
       "14706      2        5       последний      0.508728       0.059850  \n",
       "14991      9        3          другой      0.179444       0.033615  \n",
       "15016      1        2       последний           NaN            NaN  \n",
       "15651     12        0          другой      0.417476       0.113269  \n",
       "19540     12        2       последний      0.455222       0.124444  \n",
       "20273      3        2          первый      0.606771       0.120443  \n",
       "21955     10        0          другой      0.510441       0.046404  \n",
       "22131     10        3          другой           NaN            NaN  \n",
       "22494      5        5       последний      0.558045       0.091650  \n",
       "\n",
       "[23 rows x 29 columns]"
      ]
     },
     "execution_count": 47,
     "metadata": {},
     "output_type": "execute_result"
    }
   ],
   "source": [
    "df[df['total_area'] > 400]"
   ]
  },
  {
   "cell_type": "markdown",
   "metadata": {},
   "source": [
    "Половина таких предложений, очевидно, являются премиальными пентхаусами - эти квартиры расположены на последних этажах, а цена за метр доходит до 1 000 000.\n",
    "\n",
    "Тут следует выяснить - а какая цена за метр явлется \"нормальной\"."
   ]
  },
  {
   "cell_type": "code",
   "execution_count": 48,
   "metadata": {},
   "outputs": [
    {
     "data": {
      "text/plain": [
       "count      23699.00\n",
       "mean       99421.66\n",
       "std        50306.80\n",
       "min          112.00\n",
       "25%        76585.50\n",
       "50%        95000.00\n",
       "75%       114256.00\n",
       "max      1907500.00\n",
       "Name: meter_price, dtype: object"
      ]
     },
     "execution_count": 48,
     "metadata": {},
     "output_type": "execute_result"
    }
   ],
   "source": [
    "df['meter_price'].describe().apply(\"{0:.2f}\".format) # к выводу применяется форматирование \n",
    "                                                     # для привычного вида показателя \"цена за метр\""
   ]
  },
  {
   "cell_type": "markdown",
   "metadata": {},
   "source": [
    "При медианном значении 95 000 за метр, мы имеем объект с ценой 112."
   ]
  },
  {
   "cell_type": "code",
   "execution_count": 49,
   "metadata": {
    "scrolled": true
   },
   "outputs": [
    {
     "data": {
      "image/png": "[encoded data removed]",
      "text/plain": [
       "<Figure size 432x288 with 1 Axes>"
      ]
     },
     "metadata": {
      "needs_background": "light"
     },
     "output_type": "display_data"
    }
   ],
   "source": [
    "df['meter_price'].hist(bins=100)\n",
    "plt.title('Распределение объектов по цене за кв.метр')\n",
    "plt.xlabel('Цена за метр')\n",
    "plt.ylabel('Количество объектов')\n",
    "plt.show()"
   ]
  },
  {
   "cell_type": "markdown",
   "metadata": {},
   "source": [
    "График похож на нормальное распределение, хотя кажется должен начинаться с какой-то минимально разумной цены за метр с поправкой на данные о объектах в селах."
   ]
  },
  {
   "cell_type": "code",
   "execution_count": 50,
   "metadata": {},
   "outputs": [
    {
     "data": {
      "text/plain": [
       "Сланцы                                26\n",
       "деревня Старополье                     3\n",
       "поселок городского типа Никольский     3\n",
       "Луга                                   2\n",
       "поселок Совхозный                      2\n",
       "Гатчина                                2\n",
       "деревня Выскатка                       2\n",
       "посёлок станции Свирь                  1\n",
       "поселок Тёсово-4                       1\n",
       "поселок Оредеж                         1\n",
       "деревня Вахнова Кара                   1\n",
       "поселок Житково                        1\n",
       "деревня Ям-Тесово                      1\n",
       "деревня Малая Романовка                1\n",
       "деревня Фалилеево                      1\n",
       "деревня Сижно                          1\n",
       "Санкт-Петербург                        1\n",
       "деревня Бор                            1\n",
       "Пикалёво                               1\n",
       "Подпорожье                             1\n",
       "поселок городского типа Ефимовский     1\n",
       "городской посёлок Будогощь             1\n",
       "Бокситогорск                           1\n",
       "поселок Серебрянский                   1\n",
       "Name: locality_name, dtype: int64"
      ]
     },
     "execution_count": 50,
     "metadata": {},
     "output_type": "execute_result"
    }
   ],
   "source": [
    "df[df['meter_price'] <15000]['locality_name'].value_counts()"
   ]
  },
  {
   "cell_type": "markdown",
   "metadata": {},
   "source": [
    "Кажется, поработав пару лет в Санкт-Петербурге, можно стать помещиком в Сланцах - почти вся дешевая недвижимость расположена именно там."
   ]
  },
  {
   "cell_type": "markdown",
   "metadata": {},
   "source": [
    "Вероятно, остальные \"дешевые метры\" приходятся на старые малоэтажные дома."
   ]
  },
  {
   "cell_type": "code",
   "execution_count": 51,
   "metadata": {},
   "outputs": [
    {
     "data": {
      "text/plain": [
       "4.298283261802575"
      ]
     },
     "execution_count": 51,
     "metadata": {},
     "output_type": "execute_result"
    }
   ],
   "source": [
    "df[df['meter_price'] <30000]['floors_total'].mean()"
   ]
  },
  {
   "cell_type": "code",
   "execution_count": 52,
   "metadata": {},
   "outputs": [
    {
     "data": {
      "text/plain": [
       "10.67382374115953"
      ]
     },
     "execution_count": 52,
     "metadata": {},
     "output_type": "execute_result"
    }
   ],
   "source": [
    "df['floors_total'].mean()"
   ]
  },
  {
   "cell_type": "markdown",
   "metadata": {},
   "source": [
    "Так и есть — при cреднем количестве этаже более 10, дешевую недвижимостьмо можно найти в малоэтажных домах - такие, как правило, относятся к советской застройке и уже находятся не в лучшем состоянии.\n",
    "\n",
    "Продолжим анализ по цене, но уже не за метр, а за объект целиком."
   ]
  },
  {
   "cell_type": "code",
   "execution_count": 53,
   "metadata": {},
   "outputs": [
    {
     "data": {
      "text/plain": [
       "count        23699.00\n",
       "mean       6541548.77\n",
       "std       10887013.27\n",
       "min          12190.00\n",
       "25%        3400000.00\n",
       "50%        4650000.00\n",
       "75%        6800000.00\n",
       "max      763000000.00\n",
       "Name: last_price, dtype: object"
      ]
     },
     "execution_count": 53,
     "metadata": {},
     "output_type": "execute_result"
    }
   ],
   "source": [
    "df['last_price'].describe().apply(\"{0:.2f}\".format)"
   ]
  },
  {
   "cell_type": "markdown",
   "metadata": {},
   "source": [
    "Видно, что в датасете есть объекты с очень высокой и очень низкой ценой, которые дают большое стандартное отклонение."
   ]
  },
  {
   "cell_type": "code",
   "execution_count": 54,
   "metadata": {},
   "outputs": [
    {
     "data": {
      "text/html": [
       "<div>\n",
       "<style scoped>\n",
       "    .dataframe tbody tr th:only-of-type {\n",
       "        vertical-align: middle;\n",
       "    }\n",
       "\n",
       "    .dataframe tbody tr th {\n",
       "        vertical-align: top;\n",
       "    }\n",
       "\n",
       "    .dataframe thead th {\n",
       "        text-align: right;\n",
       "    }\n",
       "</style>\n",
       "<table border=\"1\" class=\"dataframe\">\n",
       "  <thead>\n",
       "    <tr style=\"text-align: right;\">\n",
       "      <th></th>\n",
       "      <th>total_images</th>\n",
       "      <th>last_price</th>\n",
       "      <th>total_area</th>\n",
       "      <th>first_day_exposition</th>\n",
       "      <th>rooms</th>\n",
       "      <th>ceiling_height</th>\n",
       "      <th>floors_total</th>\n",
       "      <th>living_area</th>\n",
       "      <th>floor</th>\n",
       "      <th>is_apartment</th>\n",
       "      <th>...</th>\n",
       "      <th>ponds_around_3000</th>\n",
       "      <th>ponds_nearest</th>\n",
       "      <th>days_exposition</th>\n",
       "      <th>meter_price</th>\n",
       "      <th>year</th>\n",
       "      <th>month</th>\n",
       "      <th>weekday</th>\n",
       "      <th>floor_category</th>\n",
       "      <th>living_share</th>\n",
       "      <th>kitchen_share</th>\n",
       "    </tr>\n",
       "  </thead>\n",
       "  <tbody>\n",
       "    <tr>\n",
       "      <th>8793</th>\n",
       "      <td>7</td>\n",
       "      <td>12190</td>\n",
       "      <td>109.0</td>\n",
       "      <td>2019-03-20</td>\n",
       "      <td>2</td>\n",
       "      <td>2.75</td>\n",
       "      <td>25.0</td>\n",
       "      <td>32.0</td>\n",
       "      <td>25</td>\n",
       "      <td>False</td>\n",
       "      <td>...</td>\n",
       "      <td>0.0</td>\n",
       "      <td>NaN</td>\n",
       "      <td>8.0</td>\n",
       "      <td>112</td>\n",
       "      <td>2019</td>\n",
       "      <td>3</td>\n",
       "      <td>2</td>\n",
       "      <td>последний</td>\n",
       "      <td>0.293578</td>\n",
       "      <td>0.37156</td>\n",
       "    </tr>\n",
       "  </tbody>\n",
       "</table>\n",
       "<p>1 rows × 29 columns</p>\n",
       "</div>"
      ],
      "text/plain": [
       "      total_images  last_price  total_area first_day_exposition  rooms  \\\n",
       "8793             7       12190       109.0           2019-03-20      2   \n",
       "\n",
       "      ceiling_height  floors_total  living_area  floor  is_apartment  ...  \\\n",
       "8793            2.75          25.0         32.0     25         False  ...   \n",
       "\n",
       "      ponds_around_3000  ponds_nearest  days_exposition  meter_price  year  \\\n",
       "8793                0.0            NaN              8.0          112  2019   \n",
       "\n",
       "      month  weekday  floor_category  living_share  kitchen_share  \n",
       "8793      3        2       последний      0.293578        0.37156  \n",
       "\n",
       "[1 rows x 29 columns]"
      ]
     },
     "execution_count": 54,
     "metadata": {},
     "output_type": "execute_result"
    }
   ],
   "source": [
    "df[df['last_price'] == 12190] # тот самый \"подозрительный дом\" за 12190 и ценой за метр 112"
   ]
  },
  {
   "cell_type": "code",
   "execution_count": 55,
   "metadata": {
    "scrolled": false
   },
   "outputs": [
    {
     "data": {
      "image/png": "[encoded data removed]",
      "text/plain": [
       "<Figure size 432x288 with 1 Axes>"
      ]
     },
     "metadata": {
      "needs_background": "light"
     },
     "output_type": "display_data"
    }
   ],
   "source": [
    "df['last_price'].hist(bins=100)\n",
    "plt.title('Распределение объектов по цене продажи')\n",
    "plt.xlabel('Цена объекта')\n",
    "plt.ylabel('Количество объектов')\n",
    "plt.show()"
   ]
  },
  {
   "cell_type": "markdown",
   "metadata": {},
   "source": [
    "Гистограмма по общим данным не наглядна - из-за наличия в выборке \"выбросов\" с крайне высокой ценой. Построим еще одну гистограмму, где ограничим цену слева разумной минимальной границей, а справа - третим квартилем + 1,5 межквартильного размаха."
   ]
  },
  {
   "cell_type": "code",
   "execution_count": 56,
   "metadata": {
    "scrolled": true
   },
   "outputs": [
    {
     "data": {
      "image/png": "[encoded data removed]",
      "text/plain": [
       "<Figure size 432x288 with 1 Axes>"
      ]
     },
     "metadata": {
      "needs_background": "light"
     },
     "output_type": "display_data"
    }
   ],
   "source": [
    "df['last_price'].hist(bins=20, range=(2000000,11900000)) \n",
    "plt.title('Распределение объектов по цене продажи')\n",
    "plt.xlabel('Цена объекта')\n",
    "plt.ylabel('Количество объектов')\n",
    "plt.show()"
   ]
  },
  {
   "cell_type": "markdown",
   "metadata": {},
   "source": [
    "В диапозоне значений, в которые не попадают выбросы, цены похожи на нормальное распределение со средней ценой чуть больше 4 млн."
   ]
  },
  {
   "cell_type": "markdown",
   "metadata": {},
   "source": [
    "Перейдем к анализу в разрезе числа комнат."
   ]
  },
  {
   "cell_type": "code",
   "execution_count": 57,
   "metadata": {},
   "outputs": [
    {
     "data": {
      "text/plain": [
       "1     8047\n",
       "2     7940\n",
       "3     5814\n",
       "4     1180\n",
       "5      326\n",
       "0      197\n",
       "6      105\n",
       "7       59\n",
       "8       12\n",
       "9        8\n",
       "10       3\n",
       "11       2\n",
       "14       2\n",
       "19       1\n",
       "16       1\n",
       "12       1\n",
       "15       1\n",
       "Name: rooms, dtype: int64"
      ]
     },
     "execution_count": 57,
     "metadata": {},
     "output_type": "execute_result"
    }
   ],
   "source": [
    "df['rooms'].value_counts()"
   ]
  },
  {
   "cell_type": "markdown",
   "metadata": {},
   "source": [
    "В датасете примерно одинаковое количество объектов недвижимости с одной и двумя комнатами. Лишь у нескольких их количество превышает 8."
   ]
  },
  {
   "cell_type": "code",
   "execution_count": 58,
   "metadata": {
    "scrolled": true
   },
   "outputs": [
    {
     "data": {
      "text/html": [
       "<div>\n",
       "<style scoped>\n",
       "    .dataframe tbody tr th:only-of-type {\n",
       "        vertical-align: middle;\n",
       "    }\n",
       "\n",
       "    .dataframe tbody tr th {\n",
       "        vertical-align: top;\n",
       "    }\n",
       "\n",
       "    .dataframe thead th {\n",
       "        text-align: right;\n",
       "    }\n",
       "</style>\n",
       "<table border=\"1\" class=\"dataframe\">\n",
       "  <thead>\n",
       "    <tr style=\"text-align: right;\">\n",
       "      <th></th>\n",
       "      <th>total_images</th>\n",
       "      <th>last_price</th>\n",
       "      <th>total_area</th>\n",
       "      <th>first_day_exposition</th>\n",
       "      <th>rooms</th>\n",
       "      <th>ceiling_height</th>\n",
       "      <th>floors_total</th>\n",
       "      <th>living_area</th>\n",
       "      <th>floor</th>\n",
       "      <th>is_apartment</th>\n",
       "      <th>...</th>\n",
       "      <th>ponds_around_3000</th>\n",
       "      <th>ponds_nearest</th>\n",
       "      <th>days_exposition</th>\n",
       "      <th>meter_price</th>\n",
       "      <th>year</th>\n",
       "      <th>month</th>\n",
       "      <th>weekday</th>\n",
       "      <th>floor_category</th>\n",
       "      <th>living_share</th>\n",
       "      <th>kitchen_share</th>\n",
       "    </tr>\n",
       "  </thead>\n",
       "  <tbody>\n",
       "    <tr>\n",
       "      <th>648</th>\n",
       "      <td>3</td>\n",
       "      <td>17500000</td>\n",
       "      <td>183.699997</td>\n",
       "      <td>2018-07-01</td>\n",
       "      <td>11</td>\n",
       "      <td>3.40</td>\n",
       "      <td>7.0</td>\n",
       "      <td>138.8</td>\n",
       "      <td>7</td>\n",
       "      <td>False</td>\n",
       "      <td>...</td>\n",
       "      <td>0.0</td>\n",
       "      <td>NaN</td>\n",
       "      <td>NaN</td>\n",
       "      <td>95264</td>\n",
       "      <td>2018</td>\n",
       "      <td>7</td>\n",
       "      <td>6</td>\n",
       "      <td>последний</td>\n",
       "      <td>0.755580</td>\n",
       "      <td>0.072401</td>\n",
       "    </tr>\n",
       "    <tr>\n",
       "      <th>866</th>\n",
       "      <td>5</td>\n",
       "      <td>25000000</td>\n",
       "      <td>363.000000</td>\n",
       "      <td>2017-12-23</td>\n",
       "      <td>14</td>\n",
       "      <td>3.16</td>\n",
       "      <td>5.0</td>\n",
       "      <td>222.0</td>\n",
       "      <td>4</td>\n",
       "      <td>False</td>\n",
       "      <td>...</td>\n",
       "      <td>2.0</td>\n",
       "      <td>435.0</td>\n",
       "      <td>418.0</td>\n",
       "      <td>68871</td>\n",
       "      <td>2017</td>\n",
       "      <td>12</td>\n",
       "      <td>5</td>\n",
       "      <td>другой</td>\n",
       "      <td>0.611570</td>\n",
       "      <td>0.045730</td>\n",
       "    </tr>\n",
       "    <tr>\n",
       "      <th>4149</th>\n",
       "      <td>6</td>\n",
       "      <td>23000000</td>\n",
       "      <td>272.600006</td>\n",
       "      <td>2018-01-11</td>\n",
       "      <td>10</td>\n",
       "      <td>3.14</td>\n",
       "      <td>7.0</td>\n",
       "      <td>145.9</td>\n",
       "      <td>7</td>\n",
       "      <td>False</td>\n",
       "      <td>...</td>\n",
       "      <td>1.0</td>\n",
       "      <td>531.0</td>\n",
       "      <td>NaN</td>\n",
       "      <td>84373</td>\n",
       "      <td>2018</td>\n",
       "      <td>1</td>\n",
       "      <td>3</td>\n",
       "      <td>последний</td>\n",
       "      <td>0.535216</td>\n",
       "      <td>0.068966</td>\n",
       "    </tr>\n",
       "    <tr>\n",
       "      <th>5358</th>\n",
       "      <td>20</td>\n",
       "      <td>65000000</td>\n",
       "      <td>590.000000</td>\n",
       "      <td>2019-02-14</td>\n",
       "      <td>15</td>\n",
       "      <td>3.50</td>\n",
       "      <td>6.0</td>\n",
       "      <td>409.0</td>\n",
       "      <td>3</td>\n",
       "      <td>False</td>\n",
       "      <td>...</td>\n",
       "      <td>0.0</td>\n",
       "      <td>NaN</td>\n",
       "      <td>14.0</td>\n",
       "      <td>110169</td>\n",
       "      <td>2019</td>\n",
       "      <td>2</td>\n",
       "      <td>3</td>\n",
       "      <td>другой</td>\n",
       "      <td>0.693220</td>\n",
       "      <td>0.169492</td>\n",
       "    </tr>\n",
       "    <tr>\n",
       "      <th>8822</th>\n",
       "      <td>14</td>\n",
       "      <td>49968900</td>\n",
       "      <td>398.000000</td>\n",
       "      <td>2017-07-12</td>\n",
       "      <td>9</td>\n",
       "      <td>3.00</td>\n",
       "      <td>2.0</td>\n",
       "      <td>160.1</td>\n",
       "      <td>1</td>\n",
       "      <td>False</td>\n",
       "      <td>...</td>\n",
       "      <td>2.0</td>\n",
       "      <td>440.0</td>\n",
       "      <td>471.0</td>\n",
       "      <td>125550</td>\n",
       "      <td>2017</td>\n",
       "      <td>7</td>\n",
       "      <td>2</td>\n",
       "      <td>первый</td>\n",
       "      <td>0.402261</td>\n",
       "      <td>0.103015</td>\n",
       "    </tr>\n",
       "    <tr>\n",
       "      <th>8860</th>\n",
       "      <td>12</td>\n",
       "      <td>17000000</td>\n",
       "      <td>235.000000</td>\n",
       "      <td>2018-07-14</td>\n",
       "      <td>9</td>\n",
       "      <td>3.00</td>\n",
       "      <td>6.0</td>\n",
       "      <td>NaN</td>\n",
       "      <td>3</td>\n",
       "      <td>False</td>\n",
       "      <td>...</td>\n",
       "      <td>0.0</td>\n",
       "      <td>NaN</td>\n",
       "      <td>90.0</td>\n",
       "      <td>72340</td>\n",
       "      <td>2018</td>\n",
       "      <td>7</td>\n",
       "      <td>5</td>\n",
       "      <td>другой</td>\n",
       "      <td>NaN</td>\n",
       "      <td>NaN</td>\n",
       "    </tr>\n",
       "    <tr>\n",
       "      <th>9550</th>\n",
       "      <td>10</td>\n",
       "      <td>23500000</td>\n",
       "      <td>313.000000</td>\n",
       "      <td>2017-02-13</td>\n",
       "      <td>9</td>\n",
       "      <td>3.20</td>\n",
       "      <td>6.0</td>\n",
       "      <td>179.2</td>\n",
       "      <td>5</td>\n",
       "      <td>False</td>\n",
       "      <td>...</td>\n",
       "      <td>0.0</td>\n",
       "      <td>NaN</td>\n",
       "      <td>NaN</td>\n",
       "      <td>75080</td>\n",
       "      <td>2017</td>\n",
       "      <td>2</td>\n",
       "      <td>0</td>\n",
       "      <td>другой</td>\n",
       "      <td>0.572524</td>\n",
       "      <td>0.042173</td>\n",
       "    </tr>\n",
       "    <tr>\n",
       "      <th>9688</th>\n",
       "      <td>8</td>\n",
       "      <td>33000000</td>\n",
       "      <td>194.100006</td>\n",
       "      <td>2017-02-07</td>\n",
       "      <td>11</td>\n",
       "      <td>3.43</td>\n",
       "      <td>5.0</td>\n",
       "      <td>129.0</td>\n",
       "      <td>2</td>\n",
       "      <td>False</td>\n",
       "      <td>...</td>\n",
       "      <td>2.0</td>\n",
       "      <td>66.0</td>\n",
       "      <td>813.0</td>\n",
       "      <td>170015</td>\n",
       "      <td>2017</td>\n",
       "      <td>2</td>\n",
       "      <td>1</td>\n",
       "      <td>другой</td>\n",
       "      <td>0.664606</td>\n",
       "      <td>0.061309</td>\n",
       "    </tr>\n",
       "    <tr>\n",
       "      <th>13019</th>\n",
       "      <td>0</td>\n",
       "      <td>22250000</td>\n",
       "      <td>249.899994</td>\n",
       "      <td>2019-04-23</td>\n",
       "      <td>9</td>\n",
       "      <td>3.20</td>\n",
       "      <td>5.0</td>\n",
       "      <td>157.0</td>\n",
       "      <td>5</td>\n",
       "      <td>False</td>\n",
       "      <td>...</td>\n",
       "      <td>0.0</td>\n",
       "      <td>NaN</td>\n",
       "      <td>NaN</td>\n",
       "      <td>89036</td>\n",
       "      <td>2019</td>\n",
       "      <td>4</td>\n",
       "      <td>1</td>\n",
       "      <td>последний</td>\n",
       "      <td>0.628251</td>\n",
       "      <td>0.049620</td>\n",
       "    </tr>\n",
       "    <tr>\n",
       "      <th>13397</th>\n",
       "      <td>14</td>\n",
       "      <td>19500000</td>\n",
       "      <td>309.700012</td>\n",
       "      <td>2016-02-03</td>\n",
       "      <td>9</td>\n",
       "      <td>NaN</td>\n",
       "      <td>5.0</td>\n",
       "      <td>199.0</td>\n",
       "      <td>5</td>\n",
       "      <td>False</td>\n",
       "      <td>...</td>\n",
       "      <td>0.0</td>\n",
       "      <td>NaN</td>\n",
       "      <td>468.0</td>\n",
       "      <td>62964</td>\n",
       "      <td>2016</td>\n",
       "      <td>2</td>\n",
       "      <td>2</td>\n",
       "      <td>последний</td>\n",
       "      <td>0.642557</td>\n",
       "      <td>0.046174</td>\n",
       "    </tr>\n",
       "    <tr>\n",
       "      <th>14498</th>\n",
       "      <td>6</td>\n",
       "      <td>32250000</td>\n",
       "      <td>374.600006</td>\n",
       "      <td>2018-06-09</td>\n",
       "      <td>19</td>\n",
       "      <td>NaN</td>\n",
       "      <td>5.0</td>\n",
       "      <td>264.5</td>\n",
       "      <td>2</td>\n",
       "      <td>False</td>\n",
       "      <td>...</td>\n",
       "      <td>2.0</td>\n",
       "      <td>548.0</td>\n",
       "      <td>114.0</td>\n",
       "      <td>86092</td>\n",
       "      <td>2018</td>\n",
       "      <td>6</td>\n",
       "      <td>5</td>\n",
       "      <td>другой</td>\n",
       "      <td>0.706086</td>\n",
       "      <td>0.073679</td>\n",
       "    </tr>\n",
       "    <tr>\n",
       "      <th>15151</th>\n",
       "      <td>15</td>\n",
       "      <td>88000000</td>\n",
       "      <td>400.000000</td>\n",
       "      <td>2019-03-27</td>\n",
       "      <td>9</td>\n",
       "      <td>2.50</td>\n",
       "      <td>2.0</td>\n",
       "      <td>250.0</td>\n",
       "      <td>1</td>\n",
       "      <td>False</td>\n",
       "      <td>...</td>\n",
       "      <td>1.0</td>\n",
       "      <td>578.0</td>\n",
       "      <td>NaN</td>\n",
       "      <td>220000</td>\n",
       "      <td>2019</td>\n",
       "      <td>3</td>\n",
       "      <td>2</td>\n",
       "      <td>первый</td>\n",
       "      <td>0.625000</td>\n",
       "      <td>0.125000</td>\n",
       "    </tr>\n",
       "    <tr>\n",
       "      <th>16915</th>\n",
       "      <td>14</td>\n",
       "      <td>29000000</td>\n",
       "      <td>292.200012</td>\n",
       "      <td>2017-01-12</td>\n",
       "      <td>9</td>\n",
       "      <td>3.35</td>\n",
       "      <td>5.0</td>\n",
       "      <td>225.9</td>\n",
       "      <td>4</td>\n",
       "      <td>False</td>\n",
       "      <td>...</td>\n",
       "      <td>0.0</td>\n",
       "      <td>NaN</td>\n",
       "      <td>825.0</td>\n",
       "      <td>99247</td>\n",
       "      <td>2017</td>\n",
       "      <td>1</td>\n",
       "      <td>3</td>\n",
       "      <td>другой</td>\n",
       "      <td>0.773101</td>\n",
       "      <td>0.112594</td>\n",
       "    </tr>\n",
       "    <tr>\n",
       "      <th>18119</th>\n",
       "      <td>4</td>\n",
       "      <td>15500000</td>\n",
       "      <td>216.100006</td>\n",
       "      <td>2016-07-04</td>\n",
       "      <td>10</td>\n",
       "      <td>3.15</td>\n",
       "      <td>5.0</td>\n",
       "      <td>161.4</td>\n",
       "      <td>2</td>\n",
       "      <td>False</td>\n",
       "      <td>...</td>\n",
       "      <td>0.0</td>\n",
       "      <td>NaN</td>\n",
       "      <td>11.0</td>\n",
       "      <td>71726</td>\n",
       "      <td>2016</td>\n",
       "      <td>7</td>\n",
       "      <td>0</td>\n",
       "      <td>другой</td>\n",
       "      <td>0.746876</td>\n",
       "      <td>0.091624</td>\n",
       "    </tr>\n",
       "    <tr>\n",
       "      <th>18848</th>\n",
       "      <td>6</td>\n",
       "      <td>28500000</td>\n",
       "      <td>270.000000</td>\n",
       "      <td>2015-03-02</td>\n",
       "      <td>16</td>\n",
       "      <td>3.00</td>\n",
       "      <td>4.0</td>\n",
       "      <td>180.0</td>\n",
       "      <td>4</td>\n",
       "      <td>False</td>\n",
       "      <td>...</td>\n",
       "      <td>0.0</td>\n",
       "      <td>NaN</td>\n",
       "      <td>1365.0</td>\n",
       "      <td>105556</td>\n",
       "      <td>2015</td>\n",
       "      <td>3</td>\n",
       "      <td>0</td>\n",
       "      <td>последний</td>\n",
       "      <td>0.666667</td>\n",
       "      <td>0.048148</td>\n",
       "    </tr>\n",
       "    <tr>\n",
       "      <th>18891</th>\n",
       "      <td>11</td>\n",
       "      <td>40000000</td>\n",
       "      <td>290.000000</td>\n",
       "      <td>2016-06-21</td>\n",
       "      <td>10</td>\n",
       "      <td>3.50</td>\n",
       "      <td>6.0</td>\n",
       "      <td>189.4</td>\n",
       "      <td>6</td>\n",
       "      <td>False</td>\n",
       "      <td>...</td>\n",
       "      <td>1.0</td>\n",
       "      <td>227.0</td>\n",
       "      <td>77.0</td>\n",
       "      <td>137931</td>\n",
       "      <td>2016</td>\n",
       "      <td>6</td>\n",
       "      <td>1</td>\n",
       "      <td>последний</td>\n",
       "      <td>0.653103</td>\n",
       "      <td>0.103448</td>\n",
       "    </tr>\n",
       "    <tr>\n",
       "      <th>19540</th>\n",
       "      <td>8</td>\n",
       "      <td>420000000</td>\n",
       "      <td>900.000000</td>\n",
       "      <td>2017-12-06</td>\n",
       "      <td>12</td>\n",
       "      <td>2.80</td>\n",
       "      <td>25.0</td>\n",
       "      <td>409.7</td>\n",
       "      <td>25</td>\n",
       "      <td>False</td>\n",
       "      <td>...</td>\n",
       "      <td>2.0</td>\n",
       "      <td>318.0</td>\n",
       "      <td>106.0</td>\n",
       "      <td>466667</td>\n",
       "      <td>2017</td>\n",
       "      <td>12</td>\n",
       "      <td>2</td>\n",
       "      <td>последний</td>\n",
       "      <td>0.455222</td>\n",
       "      <td>0.124444</td>\n",
       "    </tr>\n",
       "    <tr>\n",
       "      <th>20791</th>\n",
       "      <td>0</td>\n",
       "      <td>24000000</td>\n",
       "      <td>250.000000</td>\n",
       "      <td>2019-04-23</td>\n",
       "      <td>9</td>\n",
       "      <td>3.20</td>\n",
       "      <td>5.0</td>\n",
       "      <td>160.6</td>\n",
       "      <td>3</td>\n",
       "      <td>False</td>\n",
       "      <td>...</td>\n",
       "      <td>0.0</td>\n",
       "      <td>NaN</td>\n",
       "      <td>NaN</td>\n",
       "      <td>96000</td>\n",
       "      <td>2019</td>\n",
       "      <td>4</td>\n",
       "      <td>1</td>\n",
       "      <td>другой</td>\n",
       "      <td>0.642400</td>\n",
       "      <td>0.046800</td>\n",
       "    </tr>\n",
       "    <tr>\n",
       "      <th>20829</th>\n",
       "      <td>6</td>\n",
       "      <td>28659000</td>\n",
       "      <td>245.399994</td>\n",
       "      <td>2016-03-31</td>\n",
       "      <td>14</td>\n",
       "      <td>NaN</td>\n",
       "      <td>4.0</td>\n",
       "      <td>168.3</td>\n",
       "      <td>2</td>\n",
       "      <td>False</td>\n",
       "      <td>...</td>\n",
       "      <td>2.0</td>\n",
       "      <td>118.0</td>\n",
       "      <td>95.0</td>\n",
       "      <td>116785</td>\n",
       "      <td>2016</td>\n",
       "      <td>3</td>\n",
       "      <td>3</td>\n",
       "      <td>другой</td>\n",
       "      <td>0.685819</td>\n",
       "      <td>0.105542</td>\n",
       "    </tr>\n",
       "  </tbody>\n",
       "</table>\n",
       "<p>19 rows × 29 columns</p>\n",
       "</div>"
      ],
      "text/plain": [
       "       total_images  last_price  total_area first_day_exposition  rooms  \\\n",
       "648               3    17500000  183.699997           2018-07-01     11   \n",
       "866               5    25000000  363.000000           2017-12-23     14   \n",
       "4149              6    23000000  272.600006           2018-01-11     10   \n",
       "5358             20    65000000  590.000000           2019-02-14     15   \n",
       "8822             14    49968900  398.000000           2017-07-12      9   \n",
       "8860             12    17000000  235.000000           2018-07-14      9   \n",
       "9550             10    23500000  313.000000           2017-02-13      9   \n",
       "9688              8    33000000  194.100006           2017-02-07     11   \n",
       "13019             0    22250000  249.899994           2019-04-23      9   \n",
       "13397            14    19500000  309.700012           2016-02-03      9   \n",
       "14498             6    32250000  374.600006           2018-06-09     19   \n",
       "15151            15    88000000  400.000000           2019-03-27      9   \n",
       "16915            14    29000000  292.200012           2017-01-12      9   \n",
       "18119             4    15500000  216.100006           2016-07-04     10   \n",
       "18848             6    28500000  270.000000           2015-03-02     16   \n",
       "18891            11    40000000  290.000000           2016-06-21     10   \n",
       "19540             8   420000000  900.000000           2017-12-06     12   \n",
       "20791             0    24000000  250.000000           2019-04-23      9   \n",
       "20829             6    28659000  245.399994           2016-03-31     14   \n",
       "\n",
       "       ceiling_height  floors_total  living_area  floor  is_apartment  ...  \\\n",
       "648              3.40           7.0        138.8      7         False  ...   \n",
       "866              3.16           5.0        222.0      4         False  ...   \n",
       "4149             3.14           7.0        145.9      7         False  ...   \n",
       "5358             3.50           6.0        409.0      3         False  ...   \n",
       "8822             3.00           2.0        160.1      1         False  ...   \n",
       "8860             3.00           6.0          NaN      3         False  ...   \n",
       "9550             3.20           6.0        179.2      5         False  ...   \n",
       "9688             3.43           5.0        129.0      2         False  ...   \n",
       "13019            3.20           5.0        157.0      5         False  ...   \n",
       "13397             NaN           5.0        199.0      5         False  ...   \n",
       "14498             NaN           5.0        264.5      2         False  ...   \n",
       "15151            2.50           2.0        250.0      1         False  ...   \n",
       "16915            3.35           5.0        225.9      4         False  ...   \n",
       "18119            3.15           5.0        161.4      2         False  ...   \n",
       "18848            3.00           4.0        180.0      4         False  ...   \n",
       "18891            3.50           6.0        189.4      6         False  ...   \n",
       "19540            2.80          25.0        409.7     25         False  ...   \n",
       "20791            3.20           5.0        160.6      3         False  ...   \n",
       "20829             NaN           4.0        168.3      2         False  ...   \n",
       "\n",
       "       ponds_around_3000  ponds_nearest  days_exposition  meter_price  year  \\\n",
       "648                  0.0            NaN              NaN        95264  2018   \n",
       "866                  2.0          435.0            418.0        68871  2017   \n",
       "4149                 1.0          531.0              NaN        84373  2018   \n",
       "5358                 0.0            NaN             14.0       110169  2019   \n",
       "8822                 2.0          440.0            471.0       125550  2017   \n",
       "8860                 0.0            NaN             90.0        72340  2018   \n",
       "9550                 0.0            NaN              NaN        75080  2017   \n",
       "9688                 2.0           66.0            813.0       170015  2017   \n",
       "13019                0.0            NaN              NaN        89036  2019   \n",
       "13397                0.0            NaN            468.0        62964  2016   \n",
       "14498                2.0          548.0            114.0        86092  2018   \n",
       "15151                1.0          578.0              NaN       220000  2019   \n",
       "16915                0.0            NaN            825.0        99247  2017   \n",
       "18119                0.0            NaN             11.0        71726  2016   \n",
       "18848                0.0            NaN           1365.0       105556  2015   \n",
       "18891                1.0          227.0             77.0       137931  2016   \n",
       "19540                2.0          318.0            106.0       466667  2017   \n",
       "20791                0.0            NaN              NaN        96000  2019   \n",
       "20829                2.0          118.0             95.0       116785  2016   \n",
       "\n",
       "       month  weekday  floor_category  living_share  kitchen_share  \n",
       "648        7        6       последний      0.755580       0.072401  \n",
       "866       12        5          другой      0.611570       0.045730  \n",
       "4149       1        3       последний      0.535216       0.068966  \n",
       "5358       2        3          другой      0.693220       0.169492  \n",
       "8822       7        2          первый      0.402261       0.103015  \n",
       "8860       7        5          другой           NaN            NaN  \n",
       "9550       2        0          другой      0.572524       0.042173  \n",
       "9688       2        1          другой      0.664606       0.061309  \n",
       "13019      4        1       последний      0.628251       0.049620  \n",
       "13397      2        2       последний      0.642557       0.046174  \n",
       "14498      6        5          другой      0.706086       0.073679  \n",
       "15151      3        2          первый      0.625000       0.125000  \n",
       "16915      1        3          другой      0.773101       0.112594  \n",
       "18119      7        0          другой      0.746876       0.091624  \n",
       "18848      3        0       последний      0.666667       0.048148  \n",
       "18891      6        1       последний      0.653103       0.103448  \n",
       "19540     12        2       последний      0.455222       0.124444  \n",
       "20791      4        1          другой      0.642400       0.046800  \n",
       "20829      3        3          другой      0.685819       0.105542  \n",
       "\n",
       "[19 rows x 29 columns]"
      ]
     },
     "execution_count": 58,
     "metadata": {},
     "output_type": "execute_result"
    }
   ],
   "source": [
    "df[df['rooms']>8]"
   ]
  },
  {
   "cell_type": "code",
   "execution_count": 59,
   "metadata": {},
   "outputs": [
    {
     "data": {
      "image/png": "[encoded data removed]",
      "text/plain": [
       "<Figure size 432x288 with 1 Axes>"
      ]
     },
     "metadata": {
      "needs_background": "light"
     },
     "output_type": "display_data"
    }
   ],
   "source": [
    "df['rooms'].hist(bins=19) #количество корзин по максимальному значению по кол комнат\n",
    "plt.xticks(range(19))\n",
    "plt.title('Распределение объектов по количеству комнат')\n",
    "plt.xlabel('Количество комнат в объекте')\n",
    "plt.ylabel('Количество объектов')\n",
    "plt.show()\n",
    "plt.show() "
   ]
  },
  {
   "cell_type": "markdown",
   "metadata": {},
   "source": [
    "Наконец, рассмотрим высоту потолков."
   ]
  },
  {
   "cell_type": "code",
   "execution_count": 60,
   "metadata": {},
   "outputs": [
    {
     "data": {
      "text/plain": [
       "count    14504.000000\n",
       "mean         2.771499\n",
       "std          1.261056\n",
       "min          1.000000\n",
       "25%          2.520000\n",
       "50%          2.650000\n",
       "75%          2.800000\n",
       "max        100.000000\n",
       "Name: ceiling_height, dtype: float64"
      ]
     },
     "execution_count": 60,
     "metadata": {},
     "output_type": "execute_result"
    }
   ],
   "source": [
    "df['ceiling_height'].describe()"
   ]
  },
  {
   "cell_type": "markdown",
   "metadata": {},
   "source": [
    "Максимально значение 100 м - кто-то продает башню?"
   ]
  },
  {
   "cell_type": "code",
   "execution_count": 61,
   "metadata": {
    "scrolled": false
   },
   "outputs": [
    {
     "data": {
      "text/html": [
       "<div>\n",
       "<style scoped>\n",
       "    .dataframe tbody tr th:only-of-type {\n",
       "        vertical-align: middle;\n",
       "    }\n",
       "\n",
       "    .dataframe tbody tr th {\n",
       "        vertical-align: top;\n",
       "    }\n",
       "\n",
       "    .dataframe thead th {\n",
       "        text-align: right;\n",
       "    }\n",
       "</style>\n",
       "<table border=\"1\" class=\"dataframe\">\n",
       "  <thead>\n",
       "    <tr style=\"text-align: right;\">\n",
       "      <th></th>\n",
       "      <th>total_images</th>\n",
       "      <th>last_price</th>\n",
       "      <th>total_area</th>\n",
       "      <th>first_day_exposition</th>\n",
       "      <th>rooms</th>\n",
       "      <th>ceiling_height</th>\n",
       "      <th>floors_total</th>\n",
       "      <th>living_area</th>\n",
       "      <th>floor</th>\n",
       "      <th>is_apartment</th>\n",
       "      <th>...</th>\n",
       "      <th>ponds_around_3000</th>\n",
       "      <th>ponds_nearest</th>\n",
       "      <th>days_exposition</th>\n",
       "      <th>meter_price</th>\n",
       "      <th>year</th>\n",
       "      <th>month</th>\n",
       "      <th>weekday</th>\n",
       "      <th>floor_category</th>\n",
       "      <th>living_share</th>\n",
       "      <th>kitchen_share</th>\n",
       "    </tr>\n",
       "  </thead>\n",
       "  <tbody>\n",
       "    <tr>\n",
       "      <th>22869</th>\n",
       "      <td>0</td>\n",
       "      <td>15000000</td>\n",
       "      <td>25.0</td>\n",
       "      <td>2018-07-25</td>\n",
       "      <td>1</td>\n",
       "      <td>100.0</td>\n",
       "      <td>5.0</td>\n",
       "      <td>14.0</td>\n",
       "      <td>5</td>\n",
       "      <td>True</td>\n",
       "      <td>...</td>\n",
       "      <td>3.0</td>\n",
       "      <td>30.0</td>\n",
       "      <td>19.0</td>\n",
       "      <td>600000</td>\n",
       "      <td>2018</td>\n",
       "      <td>7</td>\n",
       "      <td>2</td>\n",
       "      <td>последний</td>\n",
       "      <td>0.56</td>\n",
       "      <td>0.44</td>\n",
       "    </tr>\n",
       "  </tbody>\n",
       "</table>\n",
       "<p>1 rows × 29 columns</p>\n",
       "</div>"
      ],
      "text/plain": [
       "       total_images  last_price  total_area first_day_exposition  rooms  \\\n",
       "22869             0    15000000        25.0           2018-07-25      1   \n",
       "\n",
       "       ceiling_height  floors_total  living_area  floor  is_apartment  ...  \\\n",
       "22869           100.0           5.0         14.0      5          True  ...   \n",
       "\n",
       "       ponds_around_3000  ponds_nearest  days_exposition  meter_price  year  \\\n",
       "22869                3.0           30.0             19.0       600000  2018   \n",
       "\n",
       "       month  weekday  floor_category  living_share  kitchen_share  \n",
       "22869      7        2       последний          0.56           0.44  \n",
       "\n",
       "[1 rows x 29 columns]"
      ]
     },
     "execution_count": 61,
     "metadata": {},
     "output_type": "execute_result"
    }
   ],
   "source": [
    "df[df['ceiling_height'] == 100]"
   ]
  },
  {
   "cell_type": "markdown",
   "metadata": {},
   "source": [
    "Продано за 19 дней, вот что значит высокие потолки"
   ]
  },
  {
   "cell_type": "code",
   "execution_count": 62,
   "metadata": {},
   "outputs": [
    {
     "data": {
      "image/png": "[encoded data removed]",
      "text/plain": [
       "<Figure size 432x288 with 1 Axes>"
      ]
     },
     "metadata": {
      "needs_background": "light"
     },
     "output_type": "display_data"
    }
   ],
   "source": [
    "df['ceiling_height'].hist(bins=100) # построим гистограмму для высоты потолков\n",
    "plt.title('Распределение объектов по высоте потолков')\n",
    "plt.xlabel('Высота потолков')\n",
    "plt.ylabel('Количество объектов')\n",
    "plt.show()"
   ]
  },
  {
   "cell_type": "markdown",
   "metadata": {},
   "source": [
    "Из-за выбросов гистограмма \"растянулась\" вправо. Ограничим вывод 7 метрами — учитывая, что 75% квартиль 2,8 м сюда должны попасть все \"нормальные\" объекты."
   ]
  },
  {
   "cell_type": "code",
   "execution_count": 63,
   "metadata": {
    "scrolled": true
   },
   "outputs": [
    {
     "data": {
      "image/png": "[encoded data removed]",
      "text/plain": [
       "<Figure size 432x288 with 1 Axes>"
      ]
     },
     "metadata": {
      "needs_background": "light"
     },
     "output_type": "display_data"
    }
   ],
   "source": [
    "df['ceiling_height'].hist(bins=7, range=(0,7))\n",
    "plt.title('Распределение объектов по высоте потолков')\n",
    "plt.xlabel('Высота потолков')\n",
    "plt.ylabel('Количество объектов')\n",
    "plt.show()"
   ]
  },
  {
   "cell_type": "markdown",
   "metadata": {},
   "source": [
    "Кажется, все дома с высотой потолков больше 6 метров надо отбросить."
   ]
  },
  {
   "cell_type": "code",
   "execution_count": 64,
   "metadata": {
    "scrolled": false
   },
   "outputs": [
    {
     "data": {
      "text/html": [
       "<div>\n",
       "<style scoped>\n",
       "    .dataframe tbody tr th:only-of-type {\n",
       "        vertical-align: middle;\n",
       "    }\n",
       "\n",
       "    .dataframe tbody tr th {\n",
       "        vertical-align: top;\n",
       "    }\n",
       "\n",
       "    .dataframe thead th {\n",
       "        text-align: right;\n",
       "    }\n",
       "</style>\n",
       "<table border=\"1\" class=\"dataframe\">\n",
       "  <thead>\n",
       "    <tr style=\"text-align: right;\">\n",
       "      <th></th>\n",
       "      <th>total_images</th>\n",
       "      <th>last_price</th>\n",
       "      <th>total_area</th>\n",
       "      <th>first_day_exposition</th>\n",
       "      <th>rooms</th>\n",
       "      <th>ceiling_height</th>\n",
       "      <th>floors_total</th>\n",
       "      <th>living_area</th>\n",
       "      <th>floor</th>\n",
       "      <th>is_apartment</th>\n",
       "      <th>...</th>\n",
       "      <th>ponds_around_3000</th>\n",
       "      <th>ponds_nearest</th>\n",
       "      <th>days_exposition</th>\n",
       "      <th>meter_price</th>\n",
       "      <th>year</th>\n",
       "      <th>month</th>\n",
       "      <th>weekday</th>\n",
       "      <th>floor_category</th>\n",
       "      <th>living_share</th>\n",
       "      <th>kitchen_share</th>\n",
       "    </tr>\n",
       "  </thead>\n",
       "  <tbody>\n",
       "    <tr>\n",
       "      <th>355</th>\n",
       "      <td>17</td>\n",
       "      <td>3600000</td>\n",
       "      <td>55.200001</td>\n",
       "      <td>2018-07-12</td>\n",
       "      <td>2</td>\n",
       "      <td>25.0</td>\n",
       "      <td>5.0</td>\n",
       "      <td>32.0</td>\n",
       "      <td>2</td>\n",
       "      <td>False</td>\n",
       "      <td>...</td>\n",
       "      <td>NaN</td>\n",
       "      <td>NaN</td>\n",
       "      <td>259.0</td>\n",
       "      <td>65217</td>\n",
       "      <td>2018</td>\n",
       "      <td>7</td>\n",
       "      <td>3</td>\n",
       "      <td>другой</td>\n",
       "      <td>0.579710</td>\n",
       "      <td>NaN</td>\n",
       "    </tr>\n",
       "    <tr>\n",
       "      <th>3148</th>\n",
       "      <td>14</td>\n",
       "      <td>2900000</td>\n",
       "      <td>75.000000</td>\n",
       "      <td>2018-11-12</td>\n",
       "      <td>3</td>\n",
       "      <td>32.0</td>\n",
       "      <td>3.0</td>\n",
       "      <td>53.0</td>\n",
       "      <td>2</td>\n",
       "      <td>False</td>\n",
       "      <td>...</td>\n",
       "      <td>NaN</td>\n",
       "      <td>NaN</td>\n",
       "      <td>NaN</td>\n",
       "      <td>38667</td>\n",
       "      <td>2018</td>\n",
       "      <td>11</td>\n",
       "      <td>0</td>\n",
       "      <td>другой</td>\n",
       "      <td>0.706667</td>\n",
       "      <td>0.106667</td>\n",
       "    </tr>\n",
       "    <tr>\n",
       "      <th>3474</th>\n",
       "      <td>3</td>\n",
       "      <td>1400000</td>\n",
       "      <td>30.000000</td>\n",
       "      <td>2018-03-16</td>\n",
       "      <td>1</td>\n",
       "      <td>8.0</td>\n",
       "      <td>5.0</td>\n",
       "      <td>15.3</td>\n",
       "      <td>2</td>\n",
       "      <td>False</td>\n",
       "      <td>...</td>\n",
       "      <td>NaN</td>\n",
       "      <td>NaN</td>\n",
       "      <td>125.0</td>\n",
       "      <td>46667</td>\n",
       "      <td>2018</td>\n",
       "      <td>3</td>\n",
       "      <td>4</td>\n",
       "      <td>другой</td>\n",
       "      <td>0.510000</td>\n",
       "      <td>0.243333</td>\n",
       "    </tr>\n",
       "    <tr>\n",
       "      <th>4643</th>\n",
       "      <td>0</td>\n",
       "      <td>4300000</td>\n",
       "      <td>45.000000</td>\n",
       "      <td>2018-02-01</td>\n",
       "      <td>2</td>\n",
       "      <td>25.0</td>\n",
       "      <td>9.0</td>\n",
       "      <td>30.0</td>\n",
       "      <td>2</td>\n",
       "      <td>False</td>\n",
       "      <td>...</td>\n",
       "      <td>1.0</td>\n",
       "      <td>331.0</td>\n",
       "      <td>181.0</td>\n",
       "      <td>95556</td>\n",
       "      <td>2018</td>\n",
       "      <td>2</td>\n",
       "      <td>3</td>\n",
       "      <td>другой</td>\n",
       "      <td>0.666667</td>\n",
       "      <td>0.155556</td>\n",
       "    </tr>\n",
       "    <tr>\n",
       "      <th>4876</th>\n",
       "      <td>7</td>\n",
       "      <td>3000000</td>\n",
       "      <td>25.000000</td>\n",
       "      <td>2017-09-27</td>\n",
       "      <td>0</td>\n",
       "      <td>27.0</td>\n",
       "      <td>25.0</td>\n",
       "      <td>17.0</td>\n",
       "      <td>17</td>\n",
       "      <td>False</td>\n",
       "      <td>...</td>\n",
       "      <td>NaN</td>\n",
       "      <td>NaN</td>\n",
       "      <td>28.0</td>\n",
       "      <td>120000</td>\n",
       "      <td>2017</td>\n",
       "      <td>9</td>\n",
       "      <td>2</td>\n",
       "      <td>другой</td>\n",
       "      <td>0.680000</td>\n",
       "      <td>NaN</td>\n",
       "    </tr>\n",
       "    <tr>\n",
       "      <th>5076</th>\n",
       "      <td>0</td>\n",
       "      <td>3850000</td>\n",
       "      <td>30.500000</td>\n",
       "      <td>2018-10-03</td>\n",
       "      <td>1</td>\n",
       "      <td>24.0</td>\n",
       "      <td>5.0</td>\n",
       "      <td>19.5</td>\n",
       "      <td>1</td>\n",
       "      <td>True</td>\n",
       "      <td>...</td>\n",
       "      <td>1.0</td>\n",
       "      <td>578.0</td>\n",
       "      <td>7.0</td>\n",
       "      <td>126230</td>\n",
       "      <td>2018</td>\n",
       "      <td>10</td>\n",
       "      <td>2</td>\n",
       "      <td>первый</td>\n",
       "      <td>0.639344</td>\n",
       "      <td>0.180328</td>\n",
       "    </tr>\n",
       "    <tr>\n",
       "      <th>5246</th>\n",
       "      <td>0</td>\n",
       "      <td>2500000</td>\n",
       "      <td>54.000000</td>\n",
       "      <td>2017-10-13</td>\n",
       "      <td>2</td>\n",
       "      <td>27.0</td>\n",
       "      <td>5.0</td>\n",
       "      <td>30.0</td>\n",
       "      <td>3</td>\n",
       "      <td>False</td>\n",
       "      <td>...</td>\n",
       "      <td>NaN</td>\n",
       "      <td>NaN</td>\n",
       "      <td>540.0</td>\n",
       "      <td>46296</td>\n",
       "      <td>2017</td>\n",
       "      <td>10</td>\n",
       "      <td>4</td>\n",
       "      <td>другой</td>\n",
       "      <td>0.555556</td>\n",
       "      <td>0.166667</td>\n",
       "    </tr>\n",
       "    <tr>\n",
       "      <th>5669</th>\n",
       "      <td>4</td>\n",
       "      <td>4400000</td>\n",
       "      <td>50.000000</td>\n",
       "      <td>2017-08-08</td>\n",
       "      <td>2</td>\n",
       "      <td>26.0</td>\n",
       "      <td>9.0</td>\n",
       "      <td>21.3</td>\n",
       "      <td>3</td>\n",
       "      <td>False</td>\n",
       "      <td>...</td>\n",
       "      <td>0.0</td>\n",
       "      <td>NaN</td>\n",
       "      <td>267.0</td>\n",
       "      <td>88000</td>\n",
       "      <td>2017</td>\n",
       "      <td>8</td>\n",
       "      <td>1</td>\n",
       "      <td>другой</td>\n",
       "      <td>0.426000</td>\n",
       "      <td>0.140000</td>\n",
       "    </tr>\n",
       "    <tr>\n",
       "      <th>5807</th>\n",
       "      <td>17</td>\n",
       "      <td>8150000</td>\n",
       "      <td>80.000000</td>\n",
       "      <td>2019-01-09</td>\n",
       "      <td>2</td>\n",
       "      <td>27.0</td>\n",
       "      <td>36.0</td>\n",
       "      <td>41.0</td>\n",
       "      <td>13</td>\n",
       "      <td>False</td>\n",
       "      <td>...</td>\n",
       "      <td>3.0</td>\n",
       "      <td>80.0</td>\n",
       "      <td>38.0</td>\n",
       "      <td>101875</td>\n",
       "      <td>2019</td>\n",
       "      <td>1</td>\n",
       "      <td>2</td>\n",
       "      <td>другой</td>\n",
       "      <td>0.512500</td>\n",
       "      <td>0.150000</td>\n",
       "    </tr>\n",
       "    <tr>\n",
       "      <th>5863</th>\n",
       "      <td>20</td>\n",
       "      <td>5650000</td>\n",
       "      <td>45.000000</td>\n",
       "      <td>2018-08-15</td>\n",
       "      <td>1</td>\n",
       "      <td>8.3</td>\n",
       "      <td>16.0</td>\n",
       "      <td>19.3</td>\n",
       "      <td>14</td>\n",
       "      <td>False</td>\n",
       "      <td>...</td>\n",
       "      <td>1.0</td>\n",
       "      <td>613.0</td>\n",
       "      <td>14.0</td>\n",
       "      <td>125556</td>\n",
       "      <td>2018</td>\n",
       "      <td>8</td>\n",
       "      <td>2</td>\n",
       "      <td>другой</td>\n",
       "      <td>0.428889</td>\n",
       "      <td>0.184444</td>\n",
       "    </tr>\n",
       "    <tr>\n",
       "      <th>6246</th>\n",
       "      <td>6</td>\n",
       "      <td>3300000</td>\n",
       "      <td>44.400002</td>\n",
       "      <td>2019-03-25</td>\n",
       "      <td>2</td>\n",
       "      <td>25.0</td>\n",
       "      <td>5.0</td>\n",
       "      <td>31.3</td>\n",
       "      <td>5</td>\n",
       "      <td>False</td>\n",
       "      <td>...</td>\n",
       "      <td>2.0</td>\n",
       "      <td>73.0</td>\n",
       "      <td>NaN</td>\n",
       "      <td>74324</td>\n",
       "      <td>2019</td>\n",
       "      <td>3</td>\n",
       "      <td>0</td>\n",
       "      <td>последний</td>\n",
       "      <td>0.704955</td>\n",
       "      <td>0.128378</td>\n",
       "    </tr>\n",
       "    <tr>\n",
       "      <th>9379</th>\n",
       "      <td>5</td>\n",
       "      <td>3950000</td>\n",
       "      <td>42.000000</td>\n",
       "      <td>2017-03-26</td>\n",
       "      <td>3</td>\n",
       "      <td>25.0</td>\n",
       "      <td>5.0</td>\n",
       "      <td>30.0</td>\n",
       "      <td>2</td>\n",
       "      <td>False</td>\n",
       "      <td>...</td>\n",
       "      <td>0.0</td>\n",
       "      <td>NaN</td>\n",
       "      <td>NaN</td>\n",
       "      <td>94048</td>\n",
       "      <td>2017</td>\n",
       "      <td>3</td>\n",
       "      <td>6</td>\n",
       "      <td>другой</td>\n",
       "      <td>0.714286</td>\n",
       "      <td>0.123810</td>\n",
       "    </tr>\n",
       "    <tr>\n",
       "      <th>10773</th>\n",
       "      <td>8</td>\n",
       "      <td>3800000</td>\n",
       "      <td>58.000000</td>\n",
       "      <td>2017-10-13</td>\n",
       "      <td>2</td>\n",
       "      <td>27.0</td>\n",
       "      <td>10.0</td>\n",
       "      <td>30.1</td>\n",
       "      <td>3</td>\n",
       "      <td>False</td>\n",
       "      <td>...</td>\n",
       "      <td>NaN</td>\n",
       "      <td>NaN</td>\n",
       "      <td>71.0</td>\n",
       "      <td>65517</td>\n",
       "      <td>2017</td>\n",
       "      <td>10</td>\n",
       "      <td>4</td>\n",
       "      <td>другой</td>\n",
       "      <td>0.518966</td>\n",
       "      <td>0.139655</td>\n",
       "    </tr>\n",
       "    <tr>\n",
       "      <th>11285</th>\n",
       "      <td>0</td>\n",
       "      <td>1950000</td>\n",
       "      <td>37.000000</td>\n",
       "      <td>2019-03-20</td>\n",
       "      <td>1</td>\n",
       "      <td>25.0</td>\n",
       "      <td>5.0</td>\n",
       "      <td>17.0</td>\n",
       "      <td>4</td>\n",
       "      <td>False</td>\n",
       "      <td>...</td>\n",
       "      <td>NaN</td>\n",
       "      <td>NaN</td>\n",
       "      <td>18.0</td>\n",
       "      <td>52703</td>\n",
       "      <td>2019</td>\n",
       "      <td>3</td>\n",
       "      <td>2</td>\n",
       "      <td>другой</td>\n",
       "      <td>0.459459</td>\n",
       "      <td>0.243243</td>\n",
       "    </tr>\n",
       "    <tr>\n",
       "      <th>14382</th>\n",
       "      <td>9</td>\n",
       "      <td>1700000</td>\n",
       "      <td>35.000000</td>\n",
       "      <td>2015-12-04</td>\n",
       "      <td>1</td>\n",
       "      <td>25.0</td>\n",
       "      <td>5.0</td>\n",
       "      <td>20.0</td>\n",
       "      <td>2</td>\n",
       "      <td>False</td>\n",
       "      <td>...</td>\n",
       "      <td>NaN</td>\n",
       "      <td>NaN</td>\n",
       "      <td>206.0</td>\n",
       "      <td>48571</td>\n",
       "      <td>2015</td>\n",
       "      <td>12</td>\n",
       "      <td>4</td>\n",
       "      <td>другой</td>\n",
       "      <td>0.571429</td>\n",
       "      <td>0.228571</td>\n",
       "    </tr>\n",
       "    <tr>\n",
       "      <th>15061</th>\n",
       "      <td>19</td>\n",
       "      <td>5600000</td>\n",
       "      <td>56.400002</td>\n",
       "      <td>2018-05-11</td>\n",
       "      <td>2</td>\n",
       "      <td>14.0</td>\n",
       "      <td>14.0</td>\n",
       "      <td>32.4</td>\n",
       "      <td>5</td>\n",
       "      <td>False</td>\n",
       "      <td>...</td>\n",
       "      <td>0.0</td>\n",
       "      <td>NaN</td>\n",
       "      <td>315.0</td>\n",
       "      <td>99291</td>\n",
       "      <td>2018</td>\n",
       "      <td>5</td>\n",
       "      <td>4</td>\n",
       "      <td>другой</td>\n",
       "      <td>0.574468</td>\n",
       "      <td>0.161348</td>\n",
       "    </tr>\n",
       "    <tr>\n",
       "      <th>15743</th>\n",
       "      <td>14</td>\n",
       "      <td>5600000</td>\n",
       "      <td>67.000000</td>\n",
       "      <td>2016-11-11</td>\n",
       "      <td>3</td>\n",
       "      <td>8.0</td>\n",
       "      <td>16.0</td>\n",
       "      <td>41.0</td>\n",
       "      <td>1</td>\n",
       "      <td>False</td>\n",
       "      <td>...</td>\n",
       "      <td>0.0</td>\n",
       "      <td>NaN</td>\n",
       "      <td>474.0</td>\n",
       "      <td>83582</td>\n",
       "      <td>2016</td>\n",
       "      <td>11</td>\n",
       "      <td>4</td>\n",
       "      <td>первый</td>\n",
       "      <td>0.611940</td>\n",
       "      <td>0.119403</td>\n",
       "    </tr>\n",
       "    <tr>\n",
       "      <th>17442</th>\n",
       "      <td>0</td>\n",
       "      <td>5350000</td>\n",
       "      <td>54.000000</td>\n",
       "      <td>2015-06-16</td>\n",
       "      <td>2</td>\n",
       "      <td>8.0</td>\n",
       "      <td>5.0</td>\n",
       "      <td>29.0</td>\n",
       "      <td>2</td>\n",
       "      <td>False</td>\n",
       "      <td>...</td>\n",
       "      <td>0.0</td>\n",
       "      <td>NaN</td>\n",
       "      <td>469.0</td>\n",
       "      <td>99074</td>\n",
       "      <td>2015</td>\n",
       "      <td>6</td>\n",
       "      <td>1</td>\n",
       "      <td>другой</td>\n",
       "      <td>0.537037</td>\n",
       "      <td>NaN</td>\n",
       "    </tr>\n",
       "    <tr>\n",
       "      <th>17496</th>\n",
       "      <td>15</td>\n",
       "      <td>6700000</td>\n",
       "      <td>92.900002</td>\n",
       "      <td>2019-02-19</td>\n",
       "      <td>3</td>\n",
       "      <td>20.0</td>\n",
       "      <td>17.0</td>\n",
       "      <td>53.2</td>\n",
       "      <td>14</td>\n",
       "      <td>False</td>\n",
       "      <td>...</td>\n",
       "      <td>0.0</td>\n",
       "      <td>NaN</td>\n",
       "      <td>NaN</td>\n",
       "      <td>72121</td>\n",
       "      <td>2019</td>\n",
       "      <td>2</td>\n",
       "      <td>1</td>\n",
       "      <td>другой</td>\n",
       "      <td>0.572659</td>\n",
       "      <td>0.129171</td>\n",
       "    </tr>\n",
       "    <tr>\n",
       "      <th>17857</th>\n",
       "      <td>1</td>\n",
       "      <td>3900000</td>\n",
       "      <td>56.000000</td>\n",
       "      <td>2017-12-22</td>\n",
       "      <td>3</td>\n",
       "      <td>27.0</td>\n",
       "      <td>5.0</td>\n",
       "      <td>33.0</td>\n",
       "      <td>4</td>\n",
       "      <td>False</td>\n",
       "      <td>...</td>\n",
       "      <td>0.0</td>\n",
       "      <td>NaN</td>\n",
       "      <td>73.0</td>\n",
       "      <td>69643</td>\n",
       "      <td>2017</td>\n",
       "      <td>12</td>\n",
       "      <td>4</td>\n",
       "      <td>другой</td>\n",
       "      <td>0.589286</td>\n",
       "      <td>NaN</td>\n",
       "    </tr>\n",
       "    <tr>\n",
       "      <th>18545</th>\n",
       "      <td>6</td>\n",
       "      <td>3750000</td>\n",
       "      <td>43.000000</td>\n",
       "      <td>2019-03-18</td>\n",
       "      <td>2</td>\n",
       "      <td>25.0</td>\n",
       "      <td>5.0</td>\n",
       "      <td>29.0</td>\n",
       "      <td>3</td>\n",
       "      <td>False</td>\n",
       "      <td>...</td>\n",
       "      <td>0.0</td>\n",
       "      <td>NaN</td>\n",
       "      <td>12.0</td>\n",
       "      <td>87209</td>\n",
       "      <td>2019</td>\n",
       "      <td>3</td>\n",
       "      <td>0</td>\n",
       "      <td>другой</td>\n",
       "      <td>0.674419</td>\n",
       "      <td>NaN</td>\n",
       "    </tr>\n",
       "    <tr>\n",
       "      <th>20478</th>\n",
       "      <td>11</td>\n",
       "      <td>8000000</td>\n",
       "      <td>45.000000</td>\n",
       "      <td>2017-07-18</td>\n",
       "      <td>1</td>\n",
       "      <td>27.0</td>\n",
       "      <td>4.0</td>\n",
       "      <td>22.0</td>\n",
       "      <td>2</td>\n",
       "      <td>False</td>\n",
       "      <td>...</td>\n",
       "      <td>3.0</td>\n",
       "      <td>449.0</td>\n",
       "      <td>429.0</td>\n",
       "      <td>177778</td>\n",
       "      <td>2017</td>\n",
       "      <td>7</td>\n",
       "      <td>1</td>\n",
       "      <td>другой</td>\n",
       "      <td>0.488889</td>\n",
       "      <td>0.222222</td>\n",
       "    </tr>\n",
       "    <tr>\n",
       "      <th>20507</th>\n",
       "      <td>12</td>\n",
       "      <td>5950000</td>\n",
       "      <td>60.000000</td>\n",
       "      <td>2018-02-19</td>\n",
       "      <td>2</td>\n",
       "      <td>22.6</td>\n",
       "      <td>14.0</td>\n",
       "      <td>35.0</td>\n",
       "      <td>11</td>\n",
       "      <td>False</td>\n",
       "      <td>...</td>\n",
       "      <td>0.0</td>\n",
       "      <td>NaN</td>\n",
       "      <td>40.0</td>\n",
       "      <td>99167</td>\n",
       "      <td>2018</td>\n",
       "      <td>2</td>\n",
       "      <td>0</td>\n",
       "      <td>другой</td>\n",
       "      <td>0.583333</td>\n",
       "      <td>0.216667</td>\n",
       "    </tr>\n",
       "    <tr>\n",
       "      <th>21377</th>\n",
       "      <td>19</td>\n",
       "      <td>4900000</td>\n",
       "      <td>42.000000</td>\n",
       "      <td>2017-04-18</td>\n",
       "      <td>1</td>\n",
       "      <td>27.5</td>\n",
       "      <td>24.0</td>\n",
       "      <td>37.7</td>\n",
       "      <td>19</td>\n",
       "      <td>False</td>\n",
       "      <td>...</td>\n",
       "      <td>0.0</td>\n",
       "      <td>NaN</td>\n",
       "      <td>61.0</td>\n",
       "      <td>116667</td>\n",
       "      <td>2017</td>\n",
       "      <td>4</td>\n",
       "      <td>1</td>\n",
       "      <td>другой</td>\n",
       "      <td>0.897619</td>\n",
       "      <td>0.261905</td>\n",
       "    </tr>\n",
       "    <tr>\n",
       "      <th>21824</th>\n",
       "      <td>20</td>\n",
       "      <td>2450000</td>\n",
       "      <td>44.000000</td>\n",
       "      <td>2019-02-12</td>\n",
       "      <td>2</td>\n",
       "      <td>27.0</td>\n",
       "      <td>2.0</td>\n",
       "      <td>38.0</td>\n",
       "      <td>2</td>\n",
       "      <td>False</td>\n",
       "      <td>...</td>\n",
       "      <td>NaN</td>\n",
       "      <td>NaN</td>\n",
       "      <td>NaN</td>\n",
       "      <td>55682</td>\n",
       "      <td>2019</td>\n",
       "      <td>2</td>\n",
       "      <td>1</td>\n",
       "      <td>последний</td>\n",
       "      <td>0.863636</td>\n",
       "      <td>0.195455</td>\n",
       "    </tr>\n",
       "    <tr>\n",
       "      <th>22309</th>\n",
       "      <td>20</td>\n",
       "      <td>5300000</td>\n",
       "      <td>45.000000</td>\n",
       "      <td>2017-09-30</td>\n",
       "      <td>1</td>\n",
       "      <td>10.3</td>\n",
       "      <td>16.0</td>\n",
       "      <td>15.5</td>\n",
       "      <td>15</td>\n",
       "      <td>False</td>\n",
       "      <td>...</td>\n",
       "      <td>2.0</td>\n",
       "      <td>450.0</td>\n",
       "      <td>136.0</td>\n",
       "      <td>117778</td>\n",
       "      <td>2017</td>\n",
       "      <td>9</td>\n",
       "      <td>5</td>\n",
       "      <td>другой</td>\n",
       "      <td>0.344444</td>\n",
       "      <td>NaN</td>\n",
       "    </tr>\n",
       "    <tr>\n",
       "      <th>22336</th>\n",
       "      <td>19</td>\n",
       "      <td>9999000</td>\n",
       "      <td>92.400002</td>\n",
       "      <td>2019-04-05</td>\n",
       "      <td>2</td>\n",
       "      <td>32.0</td>\n",
       "      <td>6.0</td>\n",
       "      <td>55.5</td>\n",
       "      <td>5</td>\n",
       "      <td>False</td>\n",
       "      <td>...</td>\n",
       "      <td>3.0</td>\n",
       "      <td>511.0</td>\n",
       "      <td>NaN</td>\n",
       "      <td>108214</td>\n",
       "      <td>2019</td>\n",
       "      <td>4</td>\n",
       "      <td>4</td>\n",
       "      <td>другой</td>\n",
       "      <td>0.600649</td>\n",
       "      <td>0.178571</td>\n",
       "    </tr>\n",
       "    <tr>\n",
       "      <th>22869</th>\n",
       "      <td>0</td>\n",
       "      <td>15000000</td>\n",
       "      <td>25.000000</td>\n",
       "      <td>2018-07-25</td>\n",
       "      <td>1</td>\n",
       "      <td>100.0</td>\n",
       "      <td>5.0</td>\n",
       "      <td>14.0</td>\n",
       "      <td>5</td>\n",
       "      <td>True</td>\n",
       "      <td>...</td>\n",
       "      <td>3.0</td>\n",
       "      <td>30.0</td>\n",
       "      <td>19.0</td>\n",
       "      <td>600000</td>\n",
       "      <td>2018</td>\n",
       "      <td>7</td>\n",
       "      <td>2</td>\n",
       "      <td>последний</td>\n",
       "      <td>0.560000</td>\n",
       "      <td>0.440000</td>\n",
       "    </tr>\n",
       "    <tr>\n",
       "      <th>22938</th>\n",
       "      <td>14</td>\n",
       "      <td>4000000</td>\n",
       "      <td>98.000000</td>\n",
       "      <td>2018-03-15</td>\n",
       "      <td>4</td>\n",
       "      <td>27.0</td>\n",
       "      <td>2.0</td>\n",
       "      <td>73.0</td>\n",
       "      <td>2</td>\n",
       "      <td>True</td>\n",
       "      <td>...</td>\n",
       "      <td>NaN</td>\n",
       "      <td>NaN</td>\n",
       "      <td>27.0</td>\n",
       "      <td>40816</td>\n",
       "      <td>2018</td>\n",
       "      <td>3</td>\n",
       "      <td>3</td>\n",
       "      <td>последний</td>\n",
       "      <td>0.744898</td>\n",
       "      <td>0.091837</td>\n",
       "    </tr>\n",
       "  </tbody>\n",
       "</table>\n",
       "<p>29 rows × 29 columns</p>\n",
       "</div>"
      ],
      "text/plain": [
       "       total_images  last_price  total_area first_day_exposition  rooms  \\\n",
       "355              17     3600000   55.200001           2018-07-12      2   \n",
       "3148             14     2900000   75.000000           2018-11-12      3   \n",
       "3474              3     1400000   30.000000           2018-03-16      1   \n",
       "4643              0     4300000   45.000000           2018-02-01      2   \n",
       "4876              7     3000000   25.000000           2017-09-27      0   \n",
       "5076              0     3850000   30.500000           2018-10-03      1   \n",
       "5246              0     2500000   54.000000           2017-10-13      2   \n",
       "5669              4     4400000   50.000000           2017-08-08      2   \n",
       "5807             17     8150000   80.000000           2019-01-09      2   \n",
       "5863             20     5650000   45.000000           2018-08-15      1   \n",
       "6246              6     3300000   44.400002           2019-03-25      2   \n",
       "9379              5     3950000   42.000000           2017-03-26      3   \n",
       "10773             8     3800000   58.000000           2017-10-13      2   \n",
       "11285             0     1950000   37.000000           2019-03-20      1   \n",
       "14382             9     1700000   35.000000           2015-12-04      1   \n",
       "15061            19     5600000   56.400002           2018-05-11      2   \n",
       "15743            14     5600000   67.000000           2016-11-11      3   \n",
       "17442             0     5350000   54.000000           2015-06-16      2   \n",
       "17496            15     6700000   92.900002           2019-02-19      3   \n",
       "17857             1     3900000   56.000000           2017-12-22      3   \n",
       "18545             6     3750000   43.000000           2019-03-18      2   \n",
       "20478            11     8000000   45.000000           2017-07-18      1   \n",
       "20507            12     5950000   60.000000           2018-02-19      2   \n",
       "21377            19     4900000   42.000000           2017-04-18      1   \n",
       "21824            20     2450000   44.000000           2019-02-12      2   \n",
       "22309            20     5300000   45.000000           2017-09-30      1   \n",
       "22336            19     9999000   92.400002           2019-04-05      2   \n",
       "22869             0    15000000   25.000000           2018-07-25      1   \n",
       "22938            14     4000000   98.000000           2018-03-15      4   \n",
       "\n",
       "       ceiling_height  floors_total  living_area  floor  is_apartment  ...  \\\n",
       "355              25.0           5.0         32.0      2         False  ...   \n",
       "3148             32.0           3.0         53.0      2         False  ...   \n",
       "3474              8.0           5.0         15.3      2         False  ...   \n",
       "4643             25.0           9.0         30.0      2         False  ...   \n",
       "4876             27.0          25.0         17.0     17         False  ...   \n",
       "5076             24.0           5.0         19.5      1          True  ...   \n",
       "5246             27.0           5.0         30.0      3         False  ...   \n",
       "5669             26.0           9.0         21.3      3         False  ...   \n",
       "5807             27.0          36.0         41.0     13         False  ...   \n",
       "5863              8.3          16.0         19.3     14         False  ...   \n",
       "6246             25.0           5.0         31.3      5         False  ...   \n",
       "9379             25.0           5.0         30.0      2         False  ...   \n",
       "10773            27.0          10.0         30.1      3         False  ...   \n",
       "11285            25.0           5.0         17.0      4         False  ...   \n",
       "14382            25.0           5.0         20.0      2         False  ...   \n",
       "15061            14.0          14.0         32.4      5         False  ...   \n",
       "15743             8.0          16.0         41.0      1         False  ...   \n",
       "17442             8.0           5.0         29.0      2         False  ...   \n",
       "17496            20.0          17.0         53.2     14         False  ...   \n",
       "17857            27.0           5.0         33.0      4         False  ...   \n",
       "18545            25.0           5.0         29.0      3         False  ...   \n",
       "20478            27.0           4.0         22.0      2         False  ...   \n",
       "20507            22.6          14.0         35.0     11         False  ...   \n",
       "21377            27.5          24.0         37.7     19         False  ...   \n",
       "21824            27.0           2.0         38.0      2         False  ...   \n",
       "22309            10.3          16.0         15.5     15         False  ...   \n",
       "22336            32.0           6.0         55.5      5         False  ...   \n",
       "22869           100.0           5.0         14.0      5          True  ...   \n",
       "22938            27.0           2.0         73.0      2          True  ...   \n",
       "\n",
       "       ponds_around_3000  ponds_nearest  days_exposition  meter_price  year  \\\n",
       "355                  NaN            NaN            259.0        65217  2018   \n",
       "3148                 NaN            NaN              NaN        38667  2018   \n",
       "3474                 NaN            NaN            125.0        46667  2018   \n",
       "4643                 1.0          331.0            181.0        95556  2018   \n",
       "4876                 NaN            NaN             28.0       120000  2017   \n",
       "5076                 1.0          578.0              7.0       126230  2018   \n",
       "5246                 NaN            NaN            540.0        46296  2017   \n",
       "5669                 0.0            NaN            267.0        88000  2017   \n",
       "5807                 3.0           80.0             38.0       101875  2019   \n",
       "5863                 1.0          613.0             14.0       125556  2018   \n",
       "6246                 2.0           73.0              NaN        74324  2019   \n",
       "9379                 0.0            NaN              NaN        94048  2017   \n",
       "10773                NaN            NaN             71.0        65517  2017   \n",
       "11285                NaN            NaN             18.0        52703  2019   \n",
       "14382                NaN            NaN            206.0        48571  2015   \n",
       "15061                0.0            NaN            315.0        99291  2018   \n",
       "15743                0.0            NaN            474.0        83582  2016   \n",
       "17442                0.0            NaN            469.0        99074  2015   \n",
       "17496                0.0            NaN              NaN        72121  2019   \n",
       "17857                0.0            NaN             73.0        69643  2017   \n",
       "18545                0.0            NaN             12.0        87209  2019   \n",
       "20478                3.0          449.0            429.0       177778  2017   \n",
       "20507                0.0            NaN             40.0        99167  2018   \n",
       "21377                0.0            NaN             61.0       116667  2017   \n",
       "21824                NaN            NaN              NaN        55682  2019   \n",
       "22309                2.0          450.0            136.0       117778  2017   \n",
       "22336                3.0          511.0              NaN       108214  2019   \n",
       "22869                3.0           30.0             19.0       600000  2018   \n",
       "22938                NaN            NaN             27.0        40816  2018   \n",
       "\n",
       "       month  weekday  floor_category  living_share  kitchen_share  \n",
       "355        7        3          другой      0.579710            NaN  \n",
       "3148      11        0          другой      0.706667       0.106667  \n",
       "3474       3        4          другой      0.510000       0.243333  \n",
       "4643       2        3          другой      0.666667       0.155556  \n",
       "4876       9        2          другой      0.680000            NaN  \n",
       "5076      10        2          первый      0.639344       0.180328  \n",
       "5246      10        4          другой      0.555556       0.166667  \n",
       "5669       8        1          другой      0.426000       0.140000  \n",
       "5807       1        2          другой      0.512500       0.150000  \n",
       "5863       8        2          другой      0.428889       0.184444  \n",
       "6246       3        0       последний      0.704955       0.128378  \n",
       "9379       3        6          другой      0.714286       0.123810  \n",
       "10773     10        4          другой      0.518966       0.139655  \n",
       "11285      3        2          другой      0.459459       0.243243  \n",
       "14382     12        4          другой      0.571429       0.228571  \n",
       "15061      5        4          другой      0.574468       0.161348  \n",
       "15743     11        4          первый      0.611940       0.119403  \n",
       "17442      6        1          другой      0.537037            NaN  \n",
       "17496      2        1          другой      0.572659       0.129171  \n",
       "17857     12        4          другой      0.589286            NaN  \n",
       "18545      3        0          другой      0.674419            NaN  \n",
       "20478      7        1          другой      0.488889       0.222222  \n",
       "20507      2        0          другой      0.583333       0.216667  \n",
       "21377      4        1          другой      0.897619       0.261905  \n",
       "21824      2        1       последний      0.863636       0.195455  \n",
       "22309      9        5          другой      0.344444            NaN  \n",
       "22336      4        4          другой      0.600649       0.178571  \n",
       "22869      7        2       последний      0.560000       0.440000  \n",
       "22938      3        3       последний      0.744898       0.091837  \n",
       "\n",
       "[29 rows x 29 columns]"
      ]
     },
     "execution_count": 64,
     "metadata": {},
     "output_type": "execute_result"
    }
   ],
   "source": [
    "df[df['ceiling_height'] > 6]"
   ]
  },
  {
   "cell_type": "code",
   "execution_count": 65,
   "metadata": {},
   "outputs": [
    {
     "data": {
      "text/plain": [
       "88000.0"
      ]
     },
     "execution_count": 65,
     "metadata": {},
     "output_type": "execute_result"
    }
   ],
   "source": [
    "df[df['ceiling_height'] > 6]['meter_price'].median()"
   ]
  },
  {
   "cell_type": "markdown",
   "metadata": {},
   "source": [
    "Интересно, что потолки больше 8 метров не приводят к росту цены за метр. Медианное значение даже ниже общего по выборке - 95,000.00 за метр."
   ]
  },
  {
   "cell_type": "markdown",
   "metadata": {},
   "source": [
    "### Удаление аномальных значений"
   ]
  },
  {
   "cell_type": "markdown",
   "metadata": {},
   "source": [
    "После анализа, избавимся от выбивающихся значений:"
   ]
  },
  {
   "cell_type": "code",
   "execution_count": 66,
   "metadata": {},
   "outputs": [],
   "source": [
    "# оставляем значения с потолками ниже 6 метров и выше 2,5 м — это норма высоты по САНПИН в жилом помещении.\n",
    "# или пропусками\n",
    "\n",
    "df = df[((df['ceiling_height']<6)&(df['ceiling_height']>2.5))|(df['ceiling_height'].isna())]"
   ]
  },
  {
   "cell_type": "code",
   "execution_count": 67,
   "metadata": {},
   "outputs": [],
   "source": [
    "df = df[df['last_price'] > 2000000] # отбросим значения с подозрительно низкой ценой, а с высокой оставим:\n",
    "                                    # вероятно, это квартиры в центре, которые будут интересовать нас позднее"
   ]
  },
  {
   "cell_type": "code",
   "execution_count": 68,
   "metadata": {},
   "outputs": [],
   "source": [
    "df = df[df['total_area'] < 400]     # и избавляемся от \"выбросов\" по площажи объекта"
   ]
  },
  {
   "cell_type": "code",
   "execution_count": 69,
   "metadata": {
    "scrolled": true
   },
   "outputs": [
    {
     "name": "stdout",
     "output_type": "stream",
     "text": [
      "<class 'pandas.core.frame.DataFrame'>\n",
      "Int64Index: 19005 entries, 0 to 23697\n",
      "Data columns (total 29 columns):\n",
      " #   Column                Non-Null Count  Dtype         \n",
      "---  ------                --------------  -----         \n",
      " 0   total_images          19005 non-null  int64         \n",
      " 1   last_price            19005 non-null  int32         \n",
      " 2   total_area            19005 non-null  float32       \n",
      " 3   first_day_exposition  19005 non-null  datetime64[ns]\n",
      " 4   rooms                 19005 non-null  int64         \n",
      " 5   ceiling_height        10523 non-null  float64       \n",
      " 6   floors_total          18921 non-null  float64       \n",
      " 7   living_area           17490 non-null  float64       \n",
      " 8   floor                 19005 non-null  int64         \n",
      " 9   is_apartment          19005 non-null  bool          \n",
      " 10  studio                19005 non-null  bool          \n",
      " 11  open_plan             19005 non-null  bool          \n",
      " 12  kitchen_area          17161 non-null  float64       \n",
      " 13  balcony               19005 non-null  int32         \n",
      " 14  locality_name         18957 non-null  object        \n",
      " 15  airports_nearest      15497 non-null  float64       \n",
      " 16  city_centers_nearest  15517 non-null  float64       \n",
      " 17  parks_around_3000     15518 non-null  float64       \n",
      " 18  parks_nearest         6958 non-null   float64       \n",
      " 19  ponds_around_3000     15518 non-null  float64       \n",
      " 20  ponds_nearest         8029 non-null   float64       \n",
      " 21  days_exposition       16640 non-null  float64       \n",
      " 22  meter_price           19005 non-null  int32         \n",
      " 23  year                  19005 non-null  int64         \n",
      " 24  month                 19005 non-null  int64         \n",
      " 25  weekday               19005 non-null  int64         \n",
      " 26  floor_category        19005 non-null  object        \n",
      " 27  living_share          17490 non-null  float64       \n",
      " 28  kitchen_share         17161 non-null  float64       \n",
      "dtypes: bool(3), datetime64[ns](1), float32(1), float64(13), int32(3), int64(6), object(2)\n",
      "memory usage: 3.7+ MB\n"
     ]
    }
   ],
   "source": [
    "df.info() #информация по датафрейму после удаления выбивающихся значений"
   ]
  },
  {
   "cell_type": "markdown",
   "metadata": {},
   "source": [
    "Мы отбросили 4694 записей (23699-19005) — или 19%. Однако, без аномальных значений, анализ и вывод должны стать более релевантными."
   ]
  },
  {
   "cell_type": "markdown",
   "metadata": {},
   "source": [
    "### Анализ времени продажи объекта недвижимости"
   ]
  },
  {
   "cell_type": "markdown",
   "metadata": {},
   "source": [
    "Данные о времени продажи объекта содержатся в столбце `days_exposition`"
   ]
  },
  {
   "cell_type": "code",
   "execution_count": 70,
   "metadata": {},
   "outputs": [
    {
     "data": {
      "text/plain": [
       "count    16640.000000\n",
       "mean       184.478846\n",
       "std        223.327510\n",
       "min          2.000000\n",
       "25%         45.000000\n",
       "50%         97.000000\n",
       "75%        237.000000\n",
       "max       1572.000000\n",
       "Name: days_exposition, dtype: float64"
      ]
     },
     "execution_count": 70,
     "metadata": {},
     "output_type": "execute_result"
    }
   ],
   "source": [
    "df['days_exposition'].describe()"
   ]
  },
  {
   "cell_type": "markdown",
   "metadata": {},
   "source": [
    "Большинству объектов хватило трех месяцев, чтобы быть продаными, однако, 25% продавались более 232 дней или 7,5 месяцев.\n",
    "Заметим, что среднее сильно отличается от медианы."
   ]
  },
  {
   "cell_type": "code",
   "execution_count": 71,
   "metadata": {},
   "outputs": [
    {
     "data": {
      "image/png": "[encoded data removed]",
      "text/plain": [
       "<Figure size 432x288 with 1 Axes>"
      ]
     },
     "metadata": {
      "needs_background": "light"
     },
     "output_type": "display_data"
    }
   ],
   "source": [
    "df['days_exposition'].hist(bins=100)\n",
    "plt.title('Распределение объектов по времени продажи')\n",
    "plt.xlabel('Количество дней, которые объект был выставлен')\n",
    "plt.ylabel('Количество объектов')\n",
    "plt.show()\n"
   ]
  },
  {
   "cell_type": "code",
   "execution_count": 72,
   "metadata": {},
   "outputs": [
    {
     "data": {
      "text/html": [
       "<div>\n",
       "<style scoped>\n",
       "    .dataframe tbody tr th:only-of-type {\n",
       "        vertical-align: middle;\n",
       "    }\n",
       "\n",
       "    .dataframe tbody tr th {\n",
       "        vertical-align: top;\n",
       "    }\n",
       "\n",
       "    .dataframe thead th {\n",
       "        text-align: right;\n",
       "    }\n",
       "</style>\n",
       "<table border=\"1\" class=\"dataframe\">\n",
       "  <thead>\n",
       "    <tr style=\"text-align: right;\">\n",
       "      <th></th>\n",
       "      <th>total_images</th>\n",
       "      <th>last_price</th>\n",
       "      <th>total_area</th>\n",
       "      <th>first_day_exposition</th>\n",
       "      <th>rooms</th>\n",
       "      <th>ceiling_height</th>\n",
       "      <th>floors_total</th>\n",
       "      <th>living_area</th>\n",
       "      <th>floor</th>\n",
       "      <th>is_apartment</th>\n",
       "      <th>...</th>\n",
       "      <th>ponds_around_3000</th>\n",
       "      <th>ponds_nearest</th>\n",
       "      <th>days_exposition</th>\n",
       "      <th>meter_price</th>\n",
       "      <th>year</th>\n",
       "      <th>month</th>\n",
       "      <th>weekday</th>\n",
       "      <th>floor_category</th>\n",
       "      <th>living_share</th>\n",
       "      <th>kitchen_share</th>\n",
       "    </tr>\n",
       "  </thead>\n",
       "  <tbody>\n",
       "    <tr>\n",
       "      <th>11</th>\n",
       "      <td>9</td>\n",
       "      <td>3300000</td>\n",
       "      <td>44.000000</td>\n",
       "      <td>2018-08-27</td>\n",
       "      <td>2</td>\n",
       "      <td>NaN</td>\n",
       "      <td>5.0</td>\n",
       "      <td>31.0</td>\n",
       "      <td>4</td>\n",
       "      <td>False</td>\n",
       "      <td>...</td>\n",
       "      <td>0.0</td>\n",
       "      <td>NaN</td>\n",
       "      <td>7.0</td>\n",
       "      <td>75000</td>\n",
       "      <td>2018</td>\n",
       "      <td>8</td>\n",
       "      <td>0</td>\n",
       "      <td>другой</td>\n",
       "      <td>0.704545</td>\n",
       "      <td>0.136364</td>\n",
       "    </tr>\n",
       "    <tr>\n",
       "      <th>15</th>\n",
       "      <td>16</td>\n",
       "      <td>4650000</td>\n",
       "      <td>39.000000</td>\n",
       "      <td>2017-11-18</td>\n",
       "      <td>1</td>\n",
       "      <td>NaN</td>\n",
       "      <td>14.0</td>\n",
       "      <td>20.5</td>\n",
       "      <td>5</td>\n",
       "      <td>False</td>\n",
       "      <td>...</td>\n",
       "      <td>1.0</td>\n",
       "      <td>296.0</td>\n",
       "      <td>19.0</td>\n",
       "      <td>119231</td>\n",
       "      <td>2017</td>\n",
       "      <td>11</td>\n",
       "      <td>5</td>\n",
       "      <td>другой</td>\n",
       "      <td>0.525641</td>\n",
       "      <td>0.194872</td>\n",
       "    </tr>\n",
       "    <tr>\n",
       "      <th>34</th>\n",
       "      <td>3</td>\n",
       "      <td>3290000</td>\n",
       "      <td>33.000000</td>\n",
       "      <td>2018-02-04</td>\n",
       "      <td>1</td>\n",
       "      <td>2.55</td>\n",
       "      <td>16.0</td>\n",
       "      <td>14.0</td>\n",
       "      <td>3</td>\n",
       "      <td>False</td>\n",
       "      <td>...</td>\n",
       "      <td>0.0</td>\n",
       "      <td>NaN</td>\n",
       "      <td>15.0</td>\n",
       "      <td>99697</td>\n",
       "      <td>2018</td>\n",
       "      <td>2</td>\n",
       "      <td>6</td>\n",
       "      <td>другой</td>\n",
       "      <td>0.424242</td>\n",
       "      <td>0.242424</td>\n",
       "    </tr>\n",
       "    <tr>\n",
       "      <th>39</th>\n",
       "      <td>15</td>\n",
       "      <td>5200000</td>\n",
       "      <td>54.400002</td>\n",
       "      <td>2018-11-29</td>\n",
       "      <td>2</td>\n",
       "      <td>2.75</td>\n",
       "      <td>9.0</td>\n",
       "      <td>29.7</td>\n",
       "      <td>2</td>\n",
       "      <td>False</td>\n",
       "      <td>...</td>\n",
       "      <td>1.0</td>\n",
       "      <td>1175.0</td>\n",
       "      <td>29.0</td>\n",
       "      <td>95588</td>\n",
       "      <td>2018</td>\n",
       "      <td>11</td>\n",
       "      <td>3</td>\n",
       "      <td>другой</td>\n",
       "      <td>0.545956</td>\n",
       "      <td>0.161765</td>\n",
       "    </tr>\n",
       "    <tr>\n",
       "      <th>53</th>\n",
       "      <td>7</td>\n",
       "      <td>4300000</td>\n",
       "      <td>39.099998</td>\n",
       "      <td>2017-11-10</td>\n",
       "      <td>1</td>\n",
       "      <td>NaN</td>\n",
       "      <td>25.0</td>\n",
       "      <td>15.4</td>\n",
       "      <td>13</td>\n",
       "      <td>False</td>\n",
       "      <td>...</td>\n",
       "      <td>0.0</td>\n",
       "      <td>NaN</td>\n",
       "      <td>6.0</td>\n",
       "      <td>109974</td>\n",
       "      <td>2017</td>\n",
       "      <td>11</td>\n",
       "      <td>4</td>\n",
       "      <td>другой</td>\n",
       "      <td>0.393862</td>\n",
       "      <td>0.396419</td>\n",
       "    </tr>\n",
       "    <tr>\n",
       "      <th>...</th>\n",
       "      <td>...</td>\n",
       "      <td>...</td>\n",
       "      <td>...</td>\n",
       "      <td>...</td>\n",
       "      <td>...</td>\n",
       "      <td>...</td>\n",
       "      <td>...</td>\n",
       "      <td>...</td>\n",
       "      <td>...</td>\n",
       "      <td>...</td>\n",
       "      <td>...</td>\n",
       "      <td>...</td>\n",
       "      <td>...</td>\n",
       "      <td>...</td>\n",
       "      <td>...</td>\n",
       "      <td>...</td>\n",
       "      <td>...</td>\n",
       "      <td>...</td>\n",
       "      <td>...</td>\n",
       "      <td>...</td>\n",
       "      <td>...</td>\n",
       "    </tr>\n",
       "    <tr>\n",
       "      <th>23661</th>\n",
       "      <td>19</td>\n",
       "      <td>8100000</td>\n",
       "      <td>75.400002</td>\n",
       "      <td>2018-09-19</td>\n",
       "      <td>3</td>\n",
       "      <td>2.75</td>\n",
       "      <td>12.0</td>\n",
       "      <td>47.9</td>\n",
       "      <td>11</td>\n",
       "      <td>False</td>\n",
       "      <td>...</td>\n",
       "      <td>0.0</td>\n",
       "      <td>NaN</td>\n",
       "      <td>6.0</td>\n",
       "      <td>107427</td>\n",
       "      <td>2018</td>\n",
       "      <td>9</td>\n",
       "      <td>2</td>\n",
       "      <td>другой</td>\n",
       "      <td>0.635279</td>\n",
       "      <td>0.124668</td>\n",
       "    </tr>\n",
       "    <tr>\n",
       "      <th>23677</th>\n",
       "      <td>8</td>\n",
       "      <td>2450000</td>\n",
       "      <td>35.000000</td>\n",
       "      <td>2018-10-26</td>\n",
       "      <td>1</td>\n",
       "      <td>2.60</td>\n",
       "      <td>5.0</td>\n",
       "      <td>18.0</td>\n",
       "      <td>4</td>\n",
       "      <td>False</td>\n",
       "      <td>...</td>\n",
       "      <td>NaN</td>\n",
       "      <td>NaN</td>\n",
       "      <td>28.0</td>\n",
       "      <td>70000</td>\n",
       "      <td>2018</td>\n",
       "      <td>10</td>\n",
       "      <td>4</td>\n",
       "      <td>другой</td>\n",
       "      <td>0.514286</td>\n",
       "      <td>0.274286</td>\n",
       "    </tr>\n",
       "    <tr>\n",
       "      <th>23688</th>\n",
       "      <td>19</td>\n",
       "      <td>9200000</td>\n",
       "      <td>101.000000</td>\n",
       "      <td>2019-04-01</td>\n",
       "      <td>3</td>\n",
       "      <td>3.05</td>\n",
       "      <td>15.0</td>\n",
       "      <td>63.0</td>\n",
       "      <td>12</td>\n",
       "      <td>False</td>\n",
       "      <td>...</td>\n",
       "      <td>0.0</td>\n",
       "      <td>NaN</td>\n",
       "      <td>23.0</td>\n",
       "      <td>91089</td>\n",
       "      <td>2019</td>\n",
       "      <td>4</td>\n",
       "      <td>0</td>\n",
       "      <td>другой</td>\n",
       "      <td>0.623762</td>\n",
       "      <td>0.148515</td>\n",
       "    </tr>\n",
       "    <tr>\n",
       "      <th>23689</th>\n",
       "      <td>13</td>\n",
       "      <td>3550000</td>\n",
       "      <td>35.299999</td>\n",
       "      <td>2018-02-28</td>\n",
       "      <td>1</td>\n",
       "      <td>2.86</td>\n",
       "      <td>15.0</td>\n",
       "      <td>16.3</td>\n",
       "      <td>4</td>\n",
       "      <td>False</td>\n",
       "      <td>...</td>\n",
       "      <td>2.0</td>\n",
       "      <td>652.0</td>\n",
       "      <td>29.0</td>\n",
       "      <td>100567</td>\n",
       "      <td>2018</td>\n",
       "      <td>2</td>\n",
       "      <td>2</td>\n",
       "      <td>другой</td>\n",
       "      <td>0.461756</td>\n",
       "      <td>0.257790</td>\n",
       "    </tr>\n",
       "    <tr>\n",
       "      <th>23690</th>\n",
       "      <td>3</td>\n",
       "      <td>5500000</td>\n",
       "      <td>52.000000</td>\n",
       "      <td>2018-07-19</td>\n",
       "      <td>2</td>\n",
       "      <td>NaN</td>\n",
       "      <td>5.0</td>\n",
       "      <td>31.0</td>\n",
       "      <td>2</td>\n",
       "      <td>False</td>\n",
       "      <td>...</td>\n",
       "      <td>0.0</td>\n",
       "      <td>NaN</td>\n",
       "      <td>15.0</td>\n",
       "      <td>105769</td>\n",
       "      <td>2018</td>\n",
       "      <td>7</td>\n",
       "      <td>3</td>\n",
       "      <td>другой</td>\n",
       "      <td>0.596154</td>\n",
       "      <td>0.115385</td>\n",
       "    </tr>\n",
       "  </tbody>\n",
       "</table>\n",
       "<p>2828 rows × 29 columns</p>\n",
       "</div>"
      ],
      "text/plain": [
       "       total_images  last_price  total_area first_day_exposition  rooms  \\\n",
       "11                9     3300000   44.000000           2018-08-27      2   \n",
       "15               16     4650000   39.000000           2017-11-18      1   \n",
       "34                3     3290000   33.000000           2018-02-04      1   \n",
       "39               15     5200000   54.400002           2018-11-29      2   \n",
       "53                7     4300000   39.099998           2017-11-10      1   \n",
       "...             ...         ...         ...                  ...    ...   \n",
       "23661            19     8100000   75.400002           2018-09-19      3   \n",
       "23677             8     2450000   35.000000           2018-10-26      1   \n",
       "23688            19     9200000  101.000000           2019-04-01      3   \n",
       "23689            13     3550000   35.299999           2018-02-28      1   \n",
       "23690             3     5500000   52.000000           2018-07-19      2   \n",
       "\n",
       "       ceiling_height  floors_total  living_area  floor  is_apartment  ...  \\\n",
       "11                NaN           5.0         31.0      4         False  ...   \n",
       "15                NaN          14.0         20.5      5         False  ...   \n",
       "34               2.55          16.0         14.0      3         False  ...   \n",
       "39               2.75           9.0         29.7      2         False  ...   \n",
       "53                NaN          25.0         15.4     13         False  ...   \n",
       "...               ...           ...          ...    ...           ...  ...   \n",
       "23661            2.75          12.0         47.9     11         False  ...   \n",
       "23677            2.60           5.0         18.0      4         False  ...   \n",
       "23688            3.05          15.0         63.0     12         False  ...   \n",
       "23689            2.86          15.0         16.3      4         False  ...   \n",
       "23690             NaN           5.0         31.0      2         False  ...   \n",
       "\n",
       "       ponds_around_3000  ponds_nearest  days_exposition  meter_price  year  \\\n",
       "11                   0.0            NaN              7.0        75000  2018   \n",
       "15                   1.0          296.0             19.0       119231  2017   \n",
       "34                   0.0            NaN             15.0        99697  2018   \n",
       "39                   1.0         1175.0             29.0        95588  2018   \n",
       "53                   0.0            NaN              6.0       109974  2017   \n",
       "...                  ...            ...              ...          ...   ...   \n",
       "23661                0.0            NaN              6.0       107427  2018   \n",
       "23677                NaN            NaN             28.0        70000  2018   \n",
       "23688                0.0            NaN             23.0        91089  2019   \n",
       "23689                2.0          652.0             29.0       100567  2018   \n",
       "23690                0.0            NaN             15.0       105769  2018   \n",
       "\n",
       "       month  weekday  floor_category  living_share  kitchen_share  \n",
       "11         8        0          другой      0.704545       0.136364  \n",
       "15        11        5          другой      0.525641       0.194872  \n",
       "34         2        6          другой      0.424242       0.242424  \n",
       "39        11        3          другой      0.545956       0.161765  \n",
       "53        11        4          другой      0.393862       0.396419  \n",
       "...      ...      ...             ...           ...            ...  \n",
       "23661      9        2          другой      0.635279       0.124668  \n",
       "23677     10        4          другой      0.514286       0.274286  \n",
       "23688      4        0          другой      0.623762       0.148515  \n",
       "23689      2        2          другой      0.461756       0.257790  \n",
       "23690      7        3          другой      0.596154       0.115385  \n",
       "\n",
       "[2828 rows x 29 columns]"
      ]
     },
     "execution_count": 72,
     "metadata": {},
     "output_type": "execute_result"
    }
   ],
   "source": [
    "df[df['days_exposition']<30] # количество объектов реализованное за месяц"
   ]
  },
  {
   "cell_type": "markdown",
   "metadata": {},
   "source": [
    "Некоторые объекты улетают как горячие пирожки. Посмотрим диаграмму размаха."
   ]
  },
  {
   "cell_type": "code",
   "execution_count": 73,
   "metadata": {},
   "outputs": [
    {
     "data": {
      "text/plain": [
       "<AxesSubplot:>"
      ]
     },
     "execution_count": 73,
     "metadata": {},
     "output_type": "execute_result"
    },
    {
     "data": {
      "image/png": "[encoded data removed]",
      "text/plain": [
       "<Figure size 360x360 with 1 Axes>"
      ]
     },
     "metadata": {
      "needs_background": "light"
     },
     "output_type": "display_data"
    }
   ],
   "source": [
    "df['days_exposition'].plot(kind='box', figsize=(5,5))"
   ]
  },
  {
   "cell_type": "markdown",
   "metadata": {},
   "source": [
    "«Усы» простираются влево и вправо от границ ящика на расстояние, равное 1,5 IQR. В размах «усов» попадают нормальные значения, а за пределами находятся выбросы, изображённые точками.\n",
    "\n",
    "Таким образом, нормальные значения простираются в диапозоне от 0 дней до 514 дней. Сравним общий датасет и выборку с низколиквидными объектами."
   ]
  },
  {
   "cell_type": "code",
   "execution_count": 74,
   "metadata": {},
   "outputs": [
    {
     "data": {
      "text/html": [
       "<div>\n",
       "<style scoped>\n",
       "    .dataframe tbody tr th:only-of-type {\n",
       "        vertical-align: middle;\n",
       "    }\n",
       "\n",
       "    .dataframe tbody tr th {\n",
       "        vertical-align: top;\n",
       "    }\n",
       "\n",
       "    .dataframe thead th {\n",
       "        text-align: right;\n",
       "    }\n",
       "</style>\n",
       "<table border=\"1\" class=\"dataframe\">\n",
       "  <thead>\n",
       "    <tr style=\"text-align: right;\">\n",
       "      <th></th>\n",
       "      <th>total_images</th>\n",
       "      <th>last_price</th>\n",
       "      <th>total_area</th>\n",
       "      <th>rooms</th>\n",
       "      <th>ceiling_height</th>\n",
       "      <th>floors_total</th>\n",
       "      <th>living_area</th>\n",
       "      <th>floor</th>\n",
       "      <th>kitchen_area</th>\n",
       "      <th>balcony</th>\n",
       "      <th>...</th>\n",
       "      <th>parks_nearest</th>\n",
       "      <th>ponds_around_3000</th>\n",
       "      <th>ponds_nearest</th>\n",
       "      <th>days_exposition</th>\n",
       "      <th>meter_price</th>\n",
       "      <th>year</th>\n",
       "      <th>month</th>\n",
       "      <th>weekday</th>\n",
       "      <th>living_share</th>\n",
       "      <th>kitchen_share</th>\n",
       "    </tr>\n",
       "  </thead>\n",
       "  <tbody>\n",
       "    <tr>\n",
       "      <th>count</th>\n",
       "      <td>19005.000000</td>\n",
       "      <td>1.900500e+04</td>\n",
       "      <td>19005.000000</td>\n",
       "      <td>19005.000000</td>\n",
       "      <td>10523.000000</td>\n",
       "      <td>18921.000000</td>\n",
       "      <td>17490.000000</td>\n",
       "      <td>19005.000000</td>\n",
       "      <td>17161.000000</td>\n",
       "      <td>19005.000000</td>\n",
       "      <td>...</td>\n",
       "      <td>6958.000000</td>\n",
       "      <td>15518.000000</td>\n",
       "      <td>8029.000000</td>\n",
       "      <td>16640.000000</td>\n",
       "      <td>1.900500e+04</td>\n",
       "      <td>19005.000000</td>\n",
       "      <td>19005.000000</td>\n",
       "      <td>19005.000000</td>\n",
       "      <td>17490.000000</td>\n",
       "      <td>17161.000000</td>\n",
       "    </tr>\n",
       "    <tr>\n",
       "      <th>mean</th>\n",
       "      <td>9.944225</td>\n",
       "      <td>7.097928e+06</td>\n",
       "      <td>63.011196</td>\n",
       "      <td>2.097659</td>\n",
       "      <td>2.805337</td>\n",
       "      <td>11.539189</td>\n",
       "      <td>35.579028</td>\n",
       "      <td>6.323073</td>\n",
       "      <td>11.291323</td>\n",
       "      <td>0.608314</td>\n",
       "      <td>...</td>\n",
       "      <td>493.227364</td>\n",
       "      <td>0.808609</td>\n",
       "      <td>512.811184</td>\n",
       "      <td>184.478846</td>\n",
       "      <td>1.053378e+05</td>\n",
       "      <td>2017.306025</td>\n",
       "      <td>6.426888</td>\n",
       "      <td>2.572481</td>\n",
       "      <td>0.555466</td>\n",
       "      <td>0.192705</td>\n",
       "    </tr>\n",
       "    <tr>\n",
       "      <th>std</th>\n",
       "      <td>5.739224</td>\n",
       "      <td>8.926209e+06</td>\n",
       "      <td>34.629467</td>\n",
       "      <td>1.105866</td>\n",
       "      <td>0.280604</td>\n",
       "      <td>6.827066</td>\n",
       "      <td>22.255738</td>\n",
       "      <td>5.136530</td>\n",
       "      <td>6.061362</td>\n",
       "      <td>0.983453</td>\n",
       "      <td>...</td>\n",
       "      <td>354.642305</td>\n",
       "      <td>0.959097</td>\n",
       "      <td>277.284566</td>\n",
       "      <td>223.327510</td>\n",
       "      <td>4.912579e+04</td>\n",
       "      <td>1.048100</td>\n",
       "      <td>3.486780</td>\n",
       "      <td>1.782321</td>\n",
       "      <td>0.106506</td>\n",
       "      <td>0.075488</td>\n",
       "    </tr>\n",
       "    <tr>\n",
       "      <th>min</th>\n",
       "      <td>0.000000</td>\n",
       "      <td>2.006000e+06</td>\n",
       "      <td>12.000000</td>\n",
       "      <td>0.000000</td>\n",
       "      <td>2.510000</td>\n",
       "      <td>1.000000</td>\n",
       "      <td>2.000000</td>\n",
       "      <td>1.000000</td>\n",
       "      <td>1.300000</td>\n",
       "      <td>0.000000</td>\n",
       "      <td>...</td>\n",
       "      <td>1.000000</td>\n",
       "      <td>0.000000</td>\n",
       "      <td>13.000000</td>\n",
       "      <td>2.000000</td>\n",
       "      <td>1.586200e+04</td>\n",
       "      <td>2014.000000</td>\n",
       "      <td>1.000000</td>\n",
       "      <td>0.000000</td>\n",
       "      <td>0.021583</td>\n",
       "      <td>0.025381</td>\n",
       "    </tr>\n",
       "    <tr>\n",
       "      <th>25%</th>\n",
       "      <td>6.000000</td>\n",
       "      <td>3.700000e+06</td>\n",
       "      <td>41.000000</td>\n",
       "      <td>1.000000</td>\n",
       "      <td>2.600000</td>\n",
       "      <td>5.000000</td>\n",
       "      <td>19.000000</td>\n",
       "      <td>3.000000</td>\n",
       "      <td>8.000000</td>\n",
       "      <td>0.000000</td>\n",
       "      <td>...</td>\n",
       "      <td>284.000000</td>\n",
       "      <td>0.000000</td>\n",
       "      <td>287.000000</td>\n",
       "      <td>45.000000</td>\n",
       "      <td>8.139500e+04</td>\n",
       "      <td>2017.000000</td>\n",
       "      <td>3.000000</td>\n",
       "      <td>1.000000</td>\n",
       "      <td>0.482358</td>\n",
       "      <td>0.136364</td>\n",
       "    </tr>\n",
       "    <tr>\n",
       "      <th>50%</th>\n",
       "      <td>10.000000</td>\n",
       "      <td>5.000000e+06</td>\n",
       "      <td>55.000000</td>\n",
       "      <td>2.000000</td>\n",
       "      <td>2.700000</td>\n",
       "      <td>9.000000</td>\n",
       "      <td>31.000000</td>\n",
       "      <td>5.000000</td>\n",
       "      <td>10.000000</td>\n",
       "      <td>0.000000</td>\n",
       "      <td>...</td>\n",
       "      <td>449.000000</td>\n",
       "      <td>1.000000</td>\n",
       "      <td>495.000000</td>\n",
       "      <td>97.000000</td>\n",
       "      <td>9.816000e+04</td>\n",
       "      <td>2017.000000</td>\n",
       "      <td>6.000000</td>\n",
       "      <td>3.000000</td>\n",
       "      <td>0.558793</td>\n",
       "      <td>0.177632</td>\n",
       "    </tr>\n",
       "    <tr>\n",
       "      <th>75%</th>\n",
       "      <td>14.000000</td>\n",
       "      <td>7.500000e+06</td>\n",
       "      <td>73.980003</td>\n",
       "      <td>3.000000</td>\n",
       "      <td>2.920000</td>\n",
       "      <td>16.000000</td>\n",
       "      <td>43.800000</td>\n",
       "      <td>9.000000</td>\n",
       "      <td>12.500000</td>\n",
       "      <td>1.000000</td>\n",
       "      <td>...</td>\n",
       "      <td>612.000000</td>\n",
       "      <td>1.000000</td>\n",
       "      <td>722.000000</td>\n",
       "      <td>237.000000</td>\n",
       "      <td>1.180560e+05</td>\n",
       "      <td>2018.000000</td>\n",
       "      <td>10.000000</td>\n",
       "      <td>4.000000</td>\n",
       "      <td>0.629091</td>\n",
       "      <td>0.241692</td>\n",
       "    </tr>\n",
       "    <tr>\n",
       "      <th>max</th>\n",
       "      <td>50.000000</td>\n",
       "      <td>3.300000e+08</td>\n",
       "      <td>399.000000</td>\n",
       "      <td>19.000000</td>\n",
       "      <td>5.800000</td>\n",
       "      <td>60.000000</td>\n",
       "      <td>264.500000</td>\n",
       "      <td>33.000000</td>\n",
       "      <td>107.000000</td>\n",
       "      <td>5.000000</td>\n",
       "      <td>...</td>\n",
       "      <td>3190.000000</td>\n",
       "      <td>3.000000</td>\n",
       "      <td>1344.000000</td>\n",
       "      <td>1572.000000</td>\n",
       "      <td>1.736842e+06</td>\n",
       "      <td>2019.000000</td>\n",
       "      <td>12.000000</td>\n",
       "      <td>6.000000</td>\n",
       "      <td>1.000000</td>\n",
       "      <td>0.787879</td>\n",
       "    </tr>\n",
       "  </tbody>\n",
       "</table>\n",
       "<p>8 rows × 23 columns</p>\n",
       "</div>"
      ],
      "text/plain": [
       "       total_images    last_price    total_area         rooms  ceiling_height  \\\n",
       "count  19005.000000  1.900500e+04  19005.000000  19005.000000    10523.000000   \n",
       "mean       9.944225  7.097928e+06     63.011196      2.097659        2.805337   \n",
       "std        5.739224  8.926209e+06     34.629467      1.105866        0.280604   \n",
       "min        0.000000  2.006000e+06     12.000000      0.000000        2.510000   \n",
       "25%        6.000000  3.700000e+06     41.000000      1.000000        2.600000   \n",
       "50%       10.000000  5.000000e+06     55.000000      2.000000        2.700000   \n",
       "75%       14.000000  7.500000e+06     73.980003      3.000000        2.920000   \n",
       "max       50.000000  3.300000e+08    399.000000     19.000000        5.800000   \n",
       "\n",
       "       floors_total   living_area         floor  kitchen_area       balcony  \\\n",
       "count  18921.000000  17490.000000  19005.000000  17161.000000  19005.000000   \n",
       "mean      11.539189     35.579028      6.323073     11.291323      0.608314   \n",
       "std        6.827066     22.255738      5.136530      6.061362      0.983453   \n",
       "min        1.000000      2.000000      1.000000      1.300000      0.000000   \n",
       "25%        5.000000     19.000000      3.000000      8.000000      0.000000   \n",
       "50%        9.000000     31.000000      5.000000     10.000000      0.000000   \n",
       "75%       16.000000     43.800000      9.000000     12.500000      1.000000   \n",
       "max       60.000000    264.500000     33.000000    107.000000      5.000000   \n",
       "\n",
       "       ...  parks_nearest  ponds_around_3000  ponds_nearest  days_exposition  \\\n",
       "count  ...    6958.000000       15518.000000    8029.000000     16640.000000   \n",
       "mean   ...     493.227364           0.808609     512.811184       184.478846   \n",
       "std    ...     354.642305           0.959097     277.284566       223.327510   \n",
       "min    ...       1.000000           0.000000      13.000000         2.000000   \n",
       "25%    ...     284.000000           0.000000     287.000000        45.000000   \n",
       "50%    ...     449.000000           1.000000     495.000000        97.000000   \n",
       "75%    ...     612.000000           1.000000     722.000000       237.000000   \n",
       "max    ...    3190.000000           3.000000    1344.000000      1572.000000   \n",
       "\n",
       "        meter_price          year         month       weekday  living_share  \\\n",
       "count  1.900500e+04  19005.000000  19005.000000  19005.000000  17490.000000   \n",
       "mean   1.053378e+05   2017.306025      6.426888      2.572481      0.555466   \n",
       "std    4.912579e+04      1.048100      3.486780      1.782321      0.106506   \n",
       "min    1.586200e+04   2014.000000      1.000000      0.000000      0.021583   \n",
       "25%    8.139500e+04   2017.000000      3.000000      1.000000      0.482358   \n",
       "50%    9.816000e+04   2017.000000      6.000000      3.000000      0.558793   \n",
       "75%    1.180560e+05   2018.000000     10.000000      4.000000      0.629091   \n",
       "max    1.736842e+06   2019.000000     12.000000      6.000000      1.000000   \n",
       "\n",
       "       kitchen_share  \n",
       "count   17161.000000  \n",
       "mean        0.192705  \n",
       "std         0.075488  \n",
       "min         0.025381  \n",
       "25%         0.136364  \n",
       "50%         0.177632  \n",
       "75%         0.241692  \n",
       "max         0.787879  \n",
       "\n",
       "[8 rows x 23 columns]"
      ]
     },
     "execution_count": 74,
     "metadata": {},
     "output_type": "execute_result"
    }
   ],
   "source": [
    "df.describe()"
   ]
  },
  {
   "cell_type": "code",
   "execution_count": 75,
   "metadata": {
    "scrolled": true
   },
   "outputs": [
    {
     "data": {
      "text/html": [
       "<div>\n",
       "<style scoped>\n",
       "    .dataframe tbody tr th:only-of-type {\n",
       "        vertical-align: middle;\n",
       "    }\n",
       "\n",
       "    .dataframe tbody tr th {\n",
       "        vertical-align: top;\n",
       "    }\n",
       "\n",
       "    .dataframe thead th {\n",
       "        text-align: right;\n",
       "    }\n",
       "</style>\n",
       "<table border=\"1\" class=\"dataframe\">\n",
       "  <thead>\n",
       "    <tr style=\"text-align: right;\">\n",
       "      <th></th>\n",
       "      <th>total_images</th>\n",
       "      <th>last_price</th>\n",
       "      <th>total_area</th>\n",
       "      <th>rooms</th>\n",
       "      <th>ceiling_height</th>\n",
       "      <th>floors_total</th>\n",
       "      <th>living_area</th>\n",
       "      <th>floor</th>\n",
       "      <th>kitchen_area</th>\n",
       "      <th>balcony</th>\n",
       "      <th>...</th>\n",
       "      <th>parks_nearest</th>\n",
       "      <th>ponds_around_3000</th>\n",
       "      <th>ponds_nearest</th>\n",
       "      <th>days_exposition</th>\n",
       "      <th>meter_price</th>\n",
       "      <th>year</th>\n",
       "      <th>month</th>\n",
       "      <th>weekday</th>\n",
       "      <th>living_share</th>\n",
       "      <th>kitchen_share</th>\n",
       "    </tr>\n",
       "  </thead>\n",
       "  <tbody>\n",
       "    <tr>\n",
       "      <th>count</th>\n",
       "      <td>1400.000000</td>\n",
       "      <td>1.400000e+03</td>\n",
       "      <td>1400.000000</td>\n",
       "      <td>1400.000000</td>\n",
       "      <td>855.000000</td>\n",
       "      <td>1394.000000</td>\n",
       "      <td>1316.000000</td>\n",
       "      <td>1400.000000</td>\n",
       "      <td>1294.000000</td>\n",
       "      <td>1400.000000</td>\n",
       "      <td>...</td>\n",
       "      <td>594.000000</td>\n",
       "      <td>1186.000000</td>\n",
       "      <td>692.000000</td>\n",
       "      <td>1400.000000</td>\n",
       "      <td>1400.000000</td>\n",
       "      <td>1400.000000</td>\n",
       "      <td>1400.000000</td>\n",
       "      <td>1400.000000</td>\n",
       "      <td>1316.000000</td>\n",
       "      <td>1294.000000</td>\n",
       "    </tr>\n",
       "    <tr>\n",
       "      <th>mean</th>\n",
       "      <td>8.939286</td>\n",
       "      <td>9.116213e+06</td>\n",
       "      <td>74.188698</td>\n",
       "      <td>2.375000</td>\n",
       "      <td>2.871637</td>\n",
       "      <td>10.829986</td>\n",
       "      <td>42.137842</td>\n",
       "      <td>5.965000</td>\n",
       "      <td>12.520185</td>\n",
       "      <td>0.520714</td>\n",
       "      <td>...</td>\n",
       "      <td>506.195286</td>\n",
       "      <td>0.983137</td>\n",
       "      <td>465.683526</td>\n",
       "      <td>774.092857</td>\n",
       "      <td>110714.362143</td>\n",
       "      <td>2015.617857</td>\n",
       "      <td>6.466429</td>\n",
       "      <td>2.507143</td>\n",
       "      <td>0.559298</td>\n",
       "      <td>0.186822</td>\n",
       "    </tr>\n",
       "    <tr>\n",
       "      <th>std</th>\n",
       "      <td>5.545693</td>\n",
       "      <td>1.256107e+07</td>\n",
       "      <td>44.542458</td>\n",
       "      <td>1.292781</td>\n",
       "      <td>0.334156</td>\n",
       "      <td>6.607046</td>\n",
       "      <td>28.301182</td>\n",
       "      <td>4.970915</td>\n",
       "      <td>7.184453</td>\n",
       "      <td>0.910348</td>\n",
       "      <td>...</td>\n",
       "      <td>396.039481</td>\n",
       "      <td>1.043227</td>\n",
       "      <td>277.491867</td>\n",
       "      <td>224.513863</td>\n",
       "      <td>56186.873615</td>\n",
       "      <td>0.859107</td>\n",
       "      <td>3.576032</td>\n",
       "      <td>1.706467</td>\n",
       "      <td>0.105102</td>\n",
       "      <td>0.079248</td>\n",
       "    </tr>\n",
       "    <tr>\n",
       "      <th>min</th>\n",
       "      <td>0.000000</td>\n",
       "      <td>2.050000e+06</td>\n",
       "      <td>18.000000</td>\n",
       "      <td>0.000000</td>\n",
       "      <td>2.510000</td>\n",
       "      <td>2.000000</td>\n",
       "      <td>10.000000</td>\n",
       "      <td>1.000000</td>\n",
       "      <td>4.500000</td>\n",
       "      <td>0.000000</td>\n",
       "      <td>...</td>\n",
       "      <td>11.000000</td>\n",
       "      <td>0.000000</td>\n",
       "      <td>19.000000</td>\n",
       "      <td>515.000000</td>\n",
       "      <td>25573.000000</td>\n",
       "      <td>2014.000000</td>\n",
       "      <td>1.000000</td>\n",
       "      <td>0.000000</td>\n",
       "      <td>0.174419</td>\n",
       "      <td>0.043576</td>\n",
       "    </tr>\n",
       "    <tr>\n",
       "      <th>25%</th>\n",
       "      <td>5.000000</td>\n",
       "      <td>4.100000e+06</td>\n",
       "      <td>44.000000</td>\n",
       "      <td>1.000000</td>\n",
       "      <td>2.645000</td>\n",
       "      <td>5.000000</td>\n",
       "      <td>20.000000</td>\n",
       "      <td>2.000000</td>\n",
       "      <td>8.400000</td>\n",
       "      <td>0.000000</td>\n",
       "      <td>...</td>\n",
       "      <td>282.250000</td>\n",
       "      <td>0.000000</td>\n",
       "      <td>240.000000</td>\n",
       "      <td>590.750000</td>\n",
       "      <td>81087.000000</td>\n",
       "      <td>2015.000000</td>\n",
       "      <td>3.000000</td>\n",
       "      <td>1.000000</td>\n",
       "      <td>0.488896</td>\n",
       "      <td>0.129923</td>\n",
       "    </tr>\n",
       "    <tr>\n",
       "      <th>50%</th>\n",
       "      <td>8.000000</td>\n",
       "      <td>5.899950e+06</td>\n",
       "      <td>62.299999</td>\n",
       "      <td>2.000000</td>\n",
       "      <td>2.750000</td>\n",
       "      <td>9.000000</td>\n",
       "      <td>35.575000</td>\n",
       "      <td>4.000000</td>\n",
       "      <td>10.665000</td>\n",
       "      <td>0.000000</td>\n",
       "      <td>...</td>\n",
       "      <td>441.000000</td>\n",
       "      <td>1.000000</td>\n",
       "      <td>437.000000</td>\n",
       "      <td>711.000000</td>\n",
       "      <td>98716.000000</td>\n",
       "      <td>2016.000000</td>\n",
       "      <td>6.000000</td>\n",
       "      <td>2.000000</td>\n",
       "      <td>0.561241</td>\n",
       "      <td>0.169000</td>\n",
       "    </tr>\n",
       "    <tr>\n",
       "      <th>75%</th>\n",
       "      <td>13.000000</td>\n",
       "      <td>9.738750e+06</td>\n",
       "      <td>89.525000</td>\n",
       "      <td>3.000000</td>\n",
       "      <td>3.000000</td>\n",
       "      <td>16.000000</td>\n",
       "      <td>52.000000</td>\n",
       "      <td>8.000000</td>\n",
       "      <td>14.152500</td>\n",
       "      <td>1.000000</td>\n",
       "      <td>...</td>\n",
       "      <td>622.500000</td>\n",
       "      <td>2.000000</td>\n",
       "      <td>656.250000</td>\n",
       "      <td>900.250000</td>\n",
       "      <td>124440.250000</td>\n",
       "      <td>2016.000000</td>\n",
       "      <td>10.000000</td>\n",
       "      <td>4.000000</td>\n",
       "      <td>0.632461</td>\n",
       "      <td>0.234807</td>\n",
       "    </tr>\n",
       "    <tr>\n",
       "      <th>max</th>\n",
       "      <td>24.000000</td>\n",
       "      <td>1.908700e+08</td>\n",
       "      <td>399.000000</td>\n",
       "      <td>16.000000</td>\n",
       "      <td>5.600000</td>\n",
       "      <td>35.000000</td>\n",
       "      <td>260.000000</td>\n",
       "      <td>25.000000</td>\n",
       "      <td>77.000000</td>\n",
       "      <td>5.000000</td>\n",
       "      <td>...</td>\n",
       "      <td>2467.000000</td>\n",
       "      <td>3.000000</td>\n",
       "      <td>1341.000000</td>\n",
       "      <td>1572.000000</td>\n",
       "      <td>719298.000000</td>\n",
       "      <td>2017.000000</td>\n",
       "      <td>12.000000</td>\n",
       "      <td>6.000000</td>\n",
       "      <td>0.975754</td>\n",
       "      <td>0.675411</td>\n",
       "    </tr>\n",
       "  </tbody>\n",
       "</table>\n",
       "<p>8 rows × 23 columns</p>\n",
       "</div>"
      ],
      "text/plain": [
       "       total_images    last_price   total_area        rooms  ceiling_height  \\\n",
       "count   1400.000000  1.400000e+03  1400.000000  1400.000000      855.000000   \n",
       "mean       8.939286  9.116213e+06    74.188698     2.375000        2.871637   \n",
       "std        5.545693  1.256107e+07    44.542458     1.292781        0.334156   \n",
       "min        0.000000  2.050000e+06    18.000000     0.000000        2.510000   \n",
       "25%        5.000000  4.100000e+06    44.000000     1.000000        2.645000   \n",
       "50%        8.000000  5.899950e+06    62.299999     2.000000        2.750000   \n",
       "75%       13.000000  9.738750e+06    89.525000     3.000000        3.000000   \n",
       "max       24.000000  1.908700e+08   399.000000    16.000000        5.600000   \n",
       "\n",
       "       floors_total  living_area        floor  kitchen_area      balcony  ...  \\\n",
       "count   1394.000000  1316.000000  1400.000000   1294.000000  1400.000000  ...   \n",
       "mean      10.829986    42.137842     5.965000     12.520185     0.520714  ...   \n",
       "std        6.607046    28.301182     4.970915      7.184453     0.910348  ...   \n",
       "min        2.000000    10.000000     1.000000      4.500000     0.000000  ...   \n",
       "25%        5.000000    20.000000     2.000000      8.400000     0.000000  ...   \n",
       "50%        9.000000    35.575000     4.000000     10.665000     0.000000  ...   \n",
       "75%       16.000000    52.000000     8.000000     14.152500     1.000000  ...   \n",
       "max       35.000000   260.000000    25.000000     77.000000     5.000000  ...   \n",
       "\n",
       "       parks_nearest  ponds_around_3000  ponds_nearest  days_exposition  \\\n",
       "count     594.000000        1186.000000     692.000000      1400.000000   \n",
       "mean      506.195286           0.983137     465.683526       774.092857   \n",
       "std       396.039481           1.043227     277.491867       224.513863   \n",
       "min        11.000000           0.000000      19.000000       515.000000   \n",
       "25%       282.250000           0.000000     240.000000       590.750000   \n",
       "50%       441.000000           1.000000     437.000000       711.000000   \n",
       "75%       622.500000           2.000000     656.250000       900.250000   \n",
       "max      2467.000000           3.000000    1341.000000      1572.000000   \n",
       "\n",
       "         meter_price         year        month      weekday  living_share  \\\n",
       "count    1400.000000  1400.000000  1400.000000  1400.000000   1316.000000   \n",
       "mean   110714.362143  2015.617857     6.466429     2.507143      0.559298   \n",
       "std     56186.873615     0.859107     3.576032     1.706467      0.105102   \n",
       "min     25573.000000  2014.000000     1.000000     0.000000      0.174419   \n",
       "25%     81087.000000  2015.000000     3.000000     1.000000      0.488896   \n",
       "50%     98716.000000  2016.000000     6.000000     2.000000      0.561241   \n",
       "75%    124440.250000  2016.000000    10.000000     4.000000      0.632461   \n",
       "max    719298.000000  2017.000000    12.000000     6.000000      0.975754   \n",
       "\n",
       "       kitchen_share  \n",
       "count    1294.000000  \n",
       "mean        0.186822  \n",
       "std         0.079248  \n",
       "min         0.043576  \n",
       "25%         0.129923  \n",
       "50%         0.169000  \n",
       "75%         0.234807  \n",
       "max         0.675411  \n",
       "\n",
       "[8 rows x 23 columns]"
      ]
     },
     "execution_count": 75,
     "metadata": {},
     "output_type": "execute_result"
    }
   ],
   "source": [
    "df[df['days_exposition']>514].describe()"
   ]
  },
  {
   "cell_type": "markdown",
   "metadata": {},
   "source": [
    "Можно заметить: у объектов, которые продавались долго **выше средняя и медианная цена**. Остальные параметры не различаются сильно."
   ]
  },
  {
   "cell_type": "markdown",
   "metadata": {},
   "source": [
    "### Факторы, влияющие на цену недвижимости"
   ]
  },
  {
   "cell_type": "markdown",
   "metadata": {},
   "source": [
    "Посмотрим на влияние на цену недвижимоти её площади, числа комнат, удаленности от центра. Для этого создадим вспомогательную таблицу, в которую поместим срез по необходимым показателям."
   ]
  },
  {
   "cell_type": "code",
   "execution_count": 76,
   "metadata": {},
   "outputs": [],
   "source": [
    "df_price_by_area_rooms_center = df[['last_price','total_area','rooms','city_centers_nearest']]"
   ]
  },
  {
   "cell_type": "code",
   "execution_count": 77,
   "metadata": {
    "scrolled": true
   },
   "outputs": [
    {
     "data": {
      "text/html": [
       "<div>\n",
       "<style scoped>\n",
       "    .dataframe tbody tr th:only-of-type {\n",
       "        vertical-align: middle;\n",
       "    }\n",
       "\n",
       "    .dataframe tbody tr th {\n",
       "        vertical-align: top;\n",
       "    }\n",
       "\n",
       "    .dataframe thead th {\n",
       "        text-align: right;\n",
       "    }\n",
       "</style>\n",
       "<table border=\"1\" class=\"dataframe\">\n",
       "  <thead>\n",
       "    <tr style=\"text-align: right;\">\n",
       "      <th></th>\n",
       "      <th>last_price</th>\n",
       "      <th>total_area</th>\n",
       "      <th>rooms</th>\n",
       "      <th>city_centers_nearest</th>\n",
       "    </tr>\n",
       "  </thead>\n",
       "  <tbody>\n",
       "    <tr>\n",
       "      <th>last_price</th>\n",
       "      <td>1.000000</td>\n",
       "      <td>0.683734</td>\n",
       "      <td>0.411686</td>\n",
       "      <td>-0.257341</td>\n",
       "    </tr>\n",
       "    <tr>\n",
       "      <th>total_area</th>\n",
       "      <td>0.683734</td>\n",
       "      <td>1.000000</td>\n",
       "      <td>0.792294</td>\n",
       "      <td>-0.243432</td>\n",
       "    </tr>\n",
       "    <tr>\n",
       "      <th>rooms</th>\n",
       "      <td>0.411686</td>\n",
       "      <td>0.792294</td>\n",
       "      <td>1.000000</td>\n",
       "      <td>-0.201261</td>\n",
       "    </tr>\n",
       "    <tr>\n",
       "      <th>city_centers_nearest</th>\n",
       "      <td>-0.257341</td>\n",
       "      <td>-0.243432</td>\n",
       "      <td>-0.201261</td>\n",
       "      <td>1.000000</td>\n",
       "    </tr>\n",
       "  </tbody>\n",
       "</table>\n",
       "</div>"
      ],
      "text/plain": [
       "                      last_price  total_area     rooms  city_centers_nearest\n",
       "last_price              1.000000    0.683734  0.411686             -0.257341\n",
       "total_area              0.683734    1.000000  0.792294             -0.243432\n",
       "rooms                   0.411686    0.792294  1.000000             -0.201261\n",
       "city_centers_nearest   -0.257341   -0.243432 -0.201261              1.000000"
      ]
     },
     "execution_count": 77,
     "metadata": {},
     "output_type": "execute_result"
    }
   ],
   "source": [
    "df_price_by_area_rooms_center.corr() "
   ]
  },
  {
   "cell_type": "markdown",
   "metadata": {},
   "source": [
    "Чем больше площадь, тем больше цена - очевидно и факт. Между показателями прямая связь.\n",
    "\n",
    "Количество комнат также влияет на цену недвижимости, но не так сильно, как площадь - ведь бывают и большие однушки, и крошечные трешки.\n",
    "\n",
    "И еще один очевидный вывод: чем дальше от центра, тем дешевле квартира - правда цена падает не слишком быстро - метры все-таки на первом месте."
   ]
  },
  {
   "cell_type": "markdown",
   "metadata": {},
   "source": [
    "После интерпретации коэффициентов корреляции, можно визуализировать данные параметры на графиках, которые покажут парную зависимость между ними."
   ]
  },
  {
   "cell_type": "code",
   "execution_count": 78,
   "metadata": {},
   "outputs": [
    {
     "data": {
      "text/plain": [
       "<seaborn.axisgrid.PairGrid at 0x21c8da96400>"
      ]
     },
     "execution_count": 78,
     "metadata": {},
     "output_type": "execute_result"
    },
    {
     "data": {
      "image/png": "[encoded data removed]",
      "text/plain": [
       "<Figure size 720x720 with 20 Axes>"
      ]
     },
     "metadata": {
      "needs_background": "light"
     },
     "output_type": "display_data"
    }
   ],
   "source": [
    "sns.pairplot(df_price_by_area_rooms_center)"
   ]
  },
  {
   "cell_type": "code",
   "execution_count": 79,
   "metadata": {},
   "outputs": [],
   "source": [
    "#создаем сводную таблицу для оценки влияния этажа на цену\n",
    "df_price_by_floor = df.pivot_table(index='floor_category', values='last_price', aggfunc=['median'])"
   ]
  },
  {
   "cell_type": "code",
   "execution_count": 80,
   "metadata": {},
   "outputs": [
    {
     "data": {
      "text/html": [
       "<div>\n",
       "<style scoped>\n",
       "    .dataframe tbody tr th:only-of-type {\n",
       "        vertical-align: middle;\n",
       "    }\n",
       "\n",
       "    .dataframe tbody tr th {\n",
       "        vertical-align: top;\n",
       "    }\n",
       "\n",
       "    .dataframe thead tr th {\n",
       "        text-align: left;\n",
       "    }\n",
       "\n",
       "    .dataframe thead tr:last-of-type th {\n",
       "        text-align: right;\n",
       "    }\n",
       "</style>\n",
       "<table border=\"1\" class=\"dataframe\">\n",
       "  <thead>\n",
       "    <tr>\n",
       "      <th></th>\n",
       "      <th>median</th>\n",
       "    </tr>\n",
       "    <tr>\n",
       "      <th></th>\n",
       "      <th>last_price</th>\n",
       "    </tr>\n",
       "    <tr>\n",
       "      <th>floor_category</th>\n",
       "      <th></th>\n",
       "    </tr>\n",
       "  </thead>\n",
       "  <tbody>\n",
       "    <tr>\n",
       "      <th>другой</th>\n",
       "      <td>5150000</td>\n",
       "    </tr>\n",
       "    <tr>\n",
       "      <th>первый</th>\n",
       "      <td>4300000</td>\n",
       "    </tr>\n",
       "    <tr>\n",
       "      <th>последний</th>\n",
       "      <td>5000000</td>\n",
       "    </tr>\n",
       "  </tbody>\n",
       "</table>\n",
       "</div>"
      ],
      "text/plain": [
       "                   median\n",
       "               last_price\n",
       "floor_category           \n",
       "другой            5150000\n",
       "первый            4300000\n",
       "последний         5000000"
      ]
     },
     "execution_count": 80,
     "metadata": {},
     "output_type": "execute_result"
    }
   ],
   "source": [
    "df_price_by_floor"
   ]
  },
  {
   "cell_type": "markdown",
   "metadata": {},
   "source": [
    "Квартиры на первом этаже продавались в среднем на 15% дешевле остальных. Неожиданно, но квартиры на последнем этаже стоят на 6% дешевле остальных - кажется, людей либо пугает возможность текущей кровли, либо они хотят общаться с соседями сверху."
   ]
  },
  {
   "cell_type": "markdown",
   "metadata": {},
   "source": [
    "Теперь посмотрим на влияние на цены **года** объявления."
   ]
  },
  {
   "cell_type": "code",
   "execution_count": 81,
   "metadata": {},
   "outputs": [
    {
     "data": {
      "text/html": [
       "<div>\n",
       "<style scoped>\n",
       "    .dataframe tbody tr th:only-of-type {\n",
       "        vertical-align: middle;\n",
       "    }\n",
       "\n",
       "    .dataframe tbody tr th {\n",
       "        vertical-align: top;\n",
       "    }\n",
       "\n",
       "    .dataframe thead tr th {\n",
       "        text-align: left;\n",
       "    }\n",
       "\n",
       "    .dataframe thead tr:last-of-type th {\n",
       "        text-align: right;\n",
       "    }\n",
       "</style>\n",
       "<table border=\"1\" class=\"dataframe\">\n",
       "  <thead>\n",
       "    <tr>\n",
       "      <th></th>\n",
       "      <th>median</th>\n",
       "    </tr>\n",
       "    <tr>\n",
       "      <th></th>\n",
       "      <th>last_price</th>\n",
       "    </tr>\n",
       "    <tr>\n",
       "      <th>year</th>\n",
       "      <th></th>\n",
       "    </tr>\n",
       "  </thead>\n",
       "  <tbody>\n",
       "    <tr>\n",
       "      <th>2014</th>\n",
       "      <td>8681628</td>\n",
       "    </tr>\n",
       "    <tr>\n",
       "      <th>2015</th>\n",
       "      <td>5695205</td>\n",
       "    </tr>\n",
       "    <tr>\n",
       "      <th>2016</th>\n",
       "      <td>4850000</td>\n",
       "    </tr>\n",
       "    <tr>\n",
       "      <th>2017</th>\n",
       "      <td>4800000</td>\n",
       "    </tr>\n",
       "    <tr>\n",
       "      <th>2018</th>\n",
       "      <td>5000000</td>\n",
       "    </tr>\n",
       "    <tr>\n",
       "      <th>2019</th>\n",
       "      <td>5600000</td>\n",
       "    </tr>\n",
       "  </tbody>\n",
       "</table>\n",
       "</div>"
      ],
      "text/plain": [
       "         median\n",
       "     last_price\n",
       "year           \n",
       "2014    8681628\n",
       "2015    5695205\n",
       "2016    4850000\n",
       "2017    4800000\n",
       "2018    5000000\n",
       "2019    5600000"
      ]
     },
     "execution_count": 81,
     "metadata": {},
     "output_type": "execute_result"
    }
   ],
   "source": [
    "df.pivot_table(index='year', values='last_price', aggfunc=['median'])"
   ]
  },
  {
   "cell_type": "markdown",
   "metadata": {},
   "source": [
    "В 2014 году цены оказались неожиданно высокими - возможно, сказалась \"Крымская весна\" и желание населения защитить деньги от инфляции инвестировав их в недвижимость. Возможно, резкий рост курса доллара по той же причине и привязка договоров к иностранной валюте привел к такому росту. А может быть, просто после 2015 года увеличилось количество вводимого жилья - в датасете нет данных за начало \"десятых\", чтобы просмотреть долгосрочный тренд."
   ]
  },
  {
   "cell_type": "code",
   "execution_count": 82,
   "metadata": {},
   "outputs": [
    {
     "data": {
      "image/png": "[encoded data removed]",
      "text/plain": [
       "<Figure size 432x288 with 1 Axes>"
      ]
     },
     "metadata": {
      "needs_background": "light"
     },
     "output_type": "display_data"
    }
   ],
   "source": [
    "df.pivot_table(index='year', values='last_price', aggfunc=['median']).plot(legend=None)\n",
    "plt.title('График медианной цены продажи по годам')\n",
    "plt.xlabel('Год')\n",
    "plt.ylabel('Цена продажи, млн руб.')\n",
    "plt.show()"
   ]
  },
  {
   "cell_type": "markdown",
   "metadata": {},
   "source": [
    "На графике видно, что после 2017 года цены пошли вверх - снижение ключевой ставки и льготная ипотека начали разгонять спрос."
   ]
  },
  {
   "cell_type": "code",
   "execution_count": 83,
   "metadata": {},
   "outputs": [
    {
     "data": {
      "text/html": [
       "<div>\n",
       "<style scoped>\n",
       "    .dataframe tbody tr th:only-of-type {\n",
       "        vertical-align: middle;\n",
       "    }\n",
       "\n",
       "    .dataframe tbody tr th {\n",
       "        vertical-align: top;\n",
       "    }\n",
       "\n",
       "    .dataframe thead tr th {\n",
       "        text-align: left;\n",
       "    }\n",
       "\n",
       "    .dataframe thead tr:last-of-type th {\n",
       "        text-align: right;\n",
       "    }\n",
       "</style>\n",
       "<table border=\"1\" class=\"dataframe\">\n",
       "  <thead>\n",
       "    <tr>\n",
       "      <th></th>\n",
       "      <th>median</th>\n",
       "    </tr>\n",
       "    <tr>\n",
       "      <th></th>\n",
       "      <th>last_price</th>\n",
       "    </tr>\n",
       "    <tr>\n",
       "      <th>month</th>\n",
       "      <th></th>\n",
       "    </tr>\n",
       "  </thead>\n",
       "  <tbody>\n",
       "    <tr>\n",
       "      <th>1</th>\n",
       "      <td>5080000</td>\n",
       "    </tr>\n",
       "    <tr>\n",
       "      <th>2</th>\n",
       "      <td>5045000</td>\n",
       "    </tr>\n",
       "    <tr>\n",
       "      <th>3</th>\n",
       "      <td>5099000</td>\n",
       "    </tr>\n",
       "    <tr>\n",
       "      <th>4</th>\n",
       "      <td>5200000</td>\n",
       "    </tr>\n",
       "    <tr>\n",
       "      <th>5</th>\n",
       "      <td>4800000</td>\n",
       "    </tr>\n",
       "    <tr>\n",
       "      <th>6</th>\n",
       "      <td>4800000</td>\n",
       "    </tr>\n",
       "    <tr>\n",
       "      <th>7</th>\n",
       "      <td>5050000</td>\n",
       "    </tr>\n",
       "    <tr>\n",
       "      <th>8</th>\n",
       "      <td>5050000</td>\n",
       "    </tr>\n",
       "    <tr>\n",
       "      <th>9</th>\n",
       "      <td>5075000</td>\n",
       "    </tr>\n",
       "    <tr>\n",
       "      <th>10</th>\n",
       "      <td>4950000</td>\n",
       "    </tr>\n",
       "    <tr>\n",
       "      <th>11</th>\n",
       "      <td>5050500</td>\n",
       "    </tr>\n",
       "    <tr>\n",
       "      <th>12</th>\n",
       "      <td>5100000</td>\n",
       "    </tr>\n",
       "  </tbody>\n",
       "</table>\n",
       "</div>"
      ],
      "text/plain": [
       "          median\n",
       "      last_price\n",
       "month           \n",
       "1        5080000\n",
       "2        5045000\n",
       "3        5099000\n",
       "4        5200000\n",
       "5        4800000\n",
       "6        4800000\n",
       "7        5050000\n",
       "8        5050000\n",
       "9        5075000\n",
       "10       4950000\n",
       "11       5050500\n",
       "12       5100000"
      ]
     },
     "execution_count": 83,
     "metadata": {},
     "output_type": "execute_result"
    }
   ],
   "source": [
    "df.pivot_table(index='month', values='last_price', aggfunc=['median']) # группируем по месяцу размещения"
   ]
  },
  {
   "cell_type": "markdown",
   "metadata": {},
   "source": [
    "Не совсем очевидный момент - в начале лета цены на недвижимость падают. Люди думают об отпуске, а не о покупке квартиры."
   ]
  },
  {
   "cell_type": "code",
   "execution_count": 84,
   "metadata": {
    "scrolled": false
   },
   "outputs": [
    {
     "data": {
      "image/png": "[encoded data removed]",
      "text/plain": [
       "<Figure size 432x288 with 1 Axes>"
      ]
     },
     "metadata": {
      "needs_background": "light"
     },
     "output_type": "display_data"
    }
   ],
   "source": [
    "df.pivot_table(index='month', values='last_price', aggfunc=['median']).plot(legend=None)\n",
    "plt.title('График медианной цены продажи по месяцам')\n",
    "plt.xlabel('Месяц')\n",
    "plt.ylabel('Цена продажи, млн руб.')\n",
    "plt.show()"
   ]
  },
  {
   "cell_type": "markdown",
   "metadata": {},
   "source": [
    "На графике отлично видно, как цены опускаются к началу лета."
   ]
  },
  {
   "cell_type": "code",
   "execution_count": 85,
   "metadata": {
    "scrolled": true
   },
   "outputs": [
    {
     "data": {
      "text/html": [
       "<div>\n",
       "<style scoped>\n",
       "    .dataframe tbody tr th:only-of-type {\n",
       "        vertical-align: middle;\n",
       "    }\n",
       "\n",
       "    .dataframe tbody tr th {\n",
       "        vertical-align: top;\n",
       "    }\n",
       "\n",
       "    .dataframe thead tr th {\n",
       "        text-align: left;\n",
       "    }\n",
       "\n",
       "    .dataframe thead tr:last-of-type th {\n",
       "        text-align: right;\n",
       "    }\n",
       "</style>\n",
       "<table border=\"1\" class=\"dataframe\">\n",
       "  <thead>\n",
       "    <tr>\n",
       "      <th></th>\n",
       "      <th>median</th>\n",
       "    </tr>\n",
       "    <tr>\n",
       "      <th></th>\n",
       "      <th>last_price</th>\n",
       "    </tr>\n",
       "    <tr>\n",
       "      <th>weekday</th>\n",
       "      <th></th>\n",
       "    </tr>\n",
       "  </thead>\n",
       "  <tbody>\n",
       "    <tr>\n",
       "      <th>0</th>\n",
       "      <td>5044999</td>\n",
       "    </tr>\n",
       "    <tr>\n",
       "      <th>1</th>\n",
       "      <td>5100000</td>\n",
       "    </tr>\n",
       "    <tr>\n",
       "      <th>2</th>\n",
       "      <td>5100000</td>\n",
       "    </tr>\n",
       "    <tr>\n",
       "      <th>3</th>\n",
       "      <td>5100000</td>\n",
       "    </tr>\n",
       "    <tr>\n",
       "      <th>4</th>\n",
       "      <td>4950000</td>\n",
       "    </tr>\n",
       "    <tr>\n",
       "      <th>5</th>\n",
       "      <td>4900000</td>\n",
       "    </tr>\n",
       "    <tr>\n",
       "      <th>6</th>\n",
       "      <td>4900000</td>\n",
       "    </tr>\n",
       "  </tbody>\n",
       "</table>\n",
       "</div>"
      ],
      "text/plain": [
       "            median\n",
       "        last_price\n",
       "weekday           \n",
       "0          5044999\n",
       "1          5100000\n",
       "2          5100000\n",
       "3          5100000\n",
       "4          4950000\n",
       "5          4900000\n",
       "6          4900000"
      ]
     },
     "execution_count": 85,
     "metadata": {},
     "output_type": "execute_result"
    }
   ],
   "source": [
    "df.pivot_table(index='weekday', values='last_price', aggfunc=['median'])"
   ]
  },
  {
   "cell_type": "markdown",
   "metadata": {},
   "source": [
    "Еще одна неочевидная закономерность - в конце недели люди выставляют недвижимость по более низкой цене. Возможно, лучший день для покупки — воскресенье июня?"
   ]
  },
  {
   "cell_type": "code",
   "execution_count": 86,
   "metadata": {
    "scrolled": true
   },
   "outputs": [
    {
     "data": {
      "image/png": "[encoded data removed]",
      "text/plain": [
       "<Figure size 432x288 with 1 Axes>"
      ]
     },
     "metadata": {
      "needs_background": "light"
     },
     "output_type": "display_data"
    }
   ],
   "source": [
    "df.pivot_table(index='weekday', values='last_price', aggfunc=['median']).plot()\n",
    "plt.title('График медианной цены продажи по дням недели')\n",
    "plt.xlabel('День')\n",
    "plt.ylabel('Цена продажи, млн руб.')\n",
    "plt.show()"
   ]
  },
  {
   "cell_type": "code",
   "execution_count": 87,
   "metadata": {},
   "outputs": [
    {
     "data": {
      "text/plain": [
       "4500000.0"
      ]
     },
     "execution_count": 87,
     "metadata": {},
     "output_type": "execute_result"
    }
   ],
   "source": [
    "df[(df['weekday']==6)&(df['month']==6)]['last_price'].median() # медианная цена объектов, проданных в июньские субботы"
   ]
  },
  {
   "cell_type": "code",
   "execution_count": 88,
   "metadata": {},
   "outputs": [
    {
     "data": {
      "text/plain": [
       "5000000.0"
      ]
     },
     "execution_count": 88,
     "metadata": {},
     "output_type": "execute_result"
    }
   ],
   "source": [
    "df['last_price'].median()                                      # медианная цена по всему датасету"
   ]
  },
  {
   "cell_type": "markdown",
   "metadata": {},
   "source": [
    "Так и есть — можно сэкономить  500,000 рублей!"
   ]
  },
  {
   "cell_type": "markdown",
   "metadata": {},
   "source": [
    "### Цены на недвижимость в населенных пунктах с наибольшим количеством объявлений"
   ]
  },
  {
   "cell_type": "markdown",
   "metadata": {},
   "source": [
    "Посмотрим, в каких населенных пунктах наибольшее количество объявлений."
   ]
  },
  {
   "cell_type": "code",
   "execution_count": 89,
   "metadata": {},
   "outputs": [
    {
     "data": {
      "text/plain": [
       "Санкт-Петербург      13527\n",
       "посёлок Мурино         497\n",
       "посёлок Шушары         407\n",
       "Всеволожск             345\n",
       "посёлок Парголово      309\n",
       "деревня Кудрово        297\n",
       "Пушкин                 289\n",
       "Колпино                234\n",
       "Гатчина                221\n",
       "Кудрово                169\n",
       "Name: locality_name, dtype: int64"
      ]
     },
     "execution_count": 89,
     "metadata": {},
     "output_type": "execute_result"
    }
   ],
   "source": [
    "df['locality_name'].value_counts().head(10)"
   ]
  },
  {
   "cell_type": "code",
   "execution_count": 90,
   "metadata": {},
   "outputs": [],
   "source": [
    "#создаем дополнительный датасет по объявлениям из 10 населенных пунктов с наибольшим количеством объявлений\n",
    "df_top10 = df[df['locality_name'].isin(df['locality_name'].value_counts().head(10).index)]"
   ]
  },
  {
   "cell_type": "code",
   "execution_count": 91,
   "metadata": {},
   "outputs": [
    {
     "data": {
      "text/html": [
       "<div>\n",
       "<style scoped>\n",
       "    .dataframe tbody tr th:only-of-type {\n",
       "        vertical-align: middle;\n",
       "    }\n",
       "\n",
       "    .dataframe tbody tr th {\n",
       "        vertical-align: top;\n",
       "    }\n",
       "\n",
       "    .dataframe thead tr th {\n",
       "        text-align: left;\n",
       "    }\n",
       "\n",
       "    .dataframe thead tr:last-of-type th {\n",
       "        text-align: right;\n",
       "    }\n",
       "</style>\n",
       "<table border=\"1\" class=\"dataframe\">\n",
       "  <thead>\n",
       "    <tr>\n",
       "      <th></th>\n",
       "      <th colspan=\"2\" halign=\"left\">count</th>\n",
       "      <th colspan=\"2\" halign=\"left\">min</th>\n",
       "      <th colspan=\"2\" halign=\"left\">max</th>\n",
       "      <th colspan=\"2\" halign=\"left\">mean</th>\n",
       "    </tr>\n",
       "    <tr>\n",
       "      <th></th>\n",
       "      <th>last_price</th>\n",
       "      <th>meter_price</th>\n",
       "      <th>last_price</th>\n",
       "      <th>meter_price</th>\n",
       "      <th>last_price</th>\n",
       "      <th>meter_price</th>\n",
       "      <th>last_price</th>\n",
       "      <th>meter_price</th>\n",
       "    </tr>\n",
       "    <tr>\n",
       "      <th>locality_name</th>\n",
       "      <th></th>\n",
       "      <th></th>\n",
       "      <th></th>\n",
       "      <th></th>\n",
       "      <th></th>\n",
       "      <th></th>\n",
       "      <th></th>\n",
       "      <th></th>\n",
       "    </tr>\n",
       "  </thead>\n",
       "  <tbody>\n",
       "    <tr>\n",
       "      <th>Санкт-Петербург</th>\n",
       "      <td>13527</td>\n",
       "      <td>13527</td>\n",
       "      <td>2050000</td>\n",
       "      <td>15862</td>\n",
       "      <td>330000000</td>\n",
       "      <td>1736842</td>\n",
       "      <td>8.304724e+06</td>\n",
       "      <td>116732.307237</td>\n",
       "    </tr>\n",
       "    <tr>\n",
       "      <th>посёлок Мурино</th>\n",
       "      <td>497</td>\n",
       "      <td>497</td>\n",
       "      <td>2050000</td>\n",
       "      <td>50000</td>\n",
       "      <td>8500000</td>\n",
       "      <td>138580</td>\n",
       "      <td>3.725017e+06</td>\n",
       "      <td>85951.945674</td>\n",
       "    </tr>\n",
       "    <tr>\n",
       "      <th>посёлок Шушары</th>\n",
       "      <td>407</td>\n",
       "      <td>407</td>\n",
       "      <td>2080000</td>\n",
       "      <td>47700</td>\n",
       "      <td>10990000</td>\n",
       "      <td>147826</td>\n",
       "      <td>4.178494e+06</td>\n",
       "      <td>78752.058968</td>\n",
       "    </tr>\n",
       "    <tr>\n",
       "      <th>Всеволожск</th>\n",
       "      <td>345</td>\n",
       "      <td>345</td>\n",
       "      <td>2050000</td>\n",
       "      <td>38226</td>\n",
       "      <td>24412900</td>\n",
       "      <td>640422</td>\n",
       "      <td>3.972951e+06</td>\n",
       "      <td>70017.901449</td>\n",
       "    </tr>\n",
       "    <tr>\n",
       "      <th>посёлок Парголово</th>\n",
       "      <td>309</td>\n",
       "      <td>309</td>\n",
       "      <td>2050000</td>\n",
       "      <td>39206</td>\n",
       "      <td>9140000</td>\n",
       "      <td>138522</td>\n",
       "      <td>4.529202e+06</td>\n",
       "      <td>90424.093851</td>\n",
       "    </tr>\n",
       "    <tr>\n",
       "      <th>деревня Кудрово</th>\n",
       "      <td>297</td>\n",
       "      <td>297</td>\n",
       "      <td>2100000</td>\n",
       "      <td>54160</td>\n",
       "      <td>13000000</td>\n",
       "      <td>142857</td>\n",
       "      <td>4.236240e+06</td>\n",
       "      <td>92463.659933</td>\n",
       "    </tr>\n",
       "    <tr>\n",
       "      <th>Пушкин</th>\n",
       "      <td>289</td>\n",
       "      <td>289</td>\n",
       "      <td>2200000</td>\n",
       "      <td>59836</td>\n",
       "      <td>42000000</td>\n",
       "      <td>256522</td>\n",
       "      <td>6.989620e+06</td>\n",
       "      <td>105140.678201</td>\n",
       "    </tr>\n",
       "    <tr>\n",
       "      <th>Колпино</th>\n",
       "      <td>234</td>\n",
       "      <td>234</td>\n",
       "      <td>2100000</td>\n",
       "      <td>47957</td>\n",
       "      <td>36900000</td>\n",
       "      <td>125000</td>\n",
       "      <td>4.107010e+06</td>\n",
       "      <td>75354.811966</td>\n",
       "    </tr>\n",
       "    <tr>\n",
       "      <th>Гатчина</th>\n",
       "      <td>221</td>\n",
       "      <td>221</td>\n",
       "      <td>2050000</td>\n",
       "      <td>45882</td>\n",
       "      <td>13900000</td>\n",
       "      <td>146316</td>\n",
       "      <td>3.731762e+06</td>\n",
       "      <td>70717.760181</td>\n",
       "    </tr>\n",
       "    <tr>\n",
       "      <th>Кудрово</th>\n",
       "      <td>169</td>\n",
       "      <td>169</td>\n",
       "      <td>2350000</td>\n",
       "      <td>68519</td>\n",
       "      <td>12800000</td>\n",
       "      <td>160401</td>\n",
       "      <td>4.574778e+06</td>\n",
       "      <td>100098.479290</td>\n",
       "    </tr>\n",
       "  </tbody>\n",
       "</table>\n",
       "</div>"
      ],
      "text/plain": [
       "                       count                    min                    max  \\\n",
       "                  last_price meter_price last_price meter_price last_price   \n",
       "locality_name                                                                \n",
       "Санкт-Петербург        13527       13527    2050000       15862  330000000   \n",
       "посёлок Мурино           497         497    2050000       50000    8500000   \n",
       "посёлок Шушары           407         407    2080000       47700   10990000   \n",
       "Всеволожск               345         345    2050000       38226   24412900   \n",
       "посёлок Парголово        309         309    2050000       39206    9140000   \n",
       "деревня Кудрово          297         297    2100000       54160   13000000   \n",
       "Пушкин                   289         289    2200000       59836   42000000   \n",
       "Колпино                  234         234    2100000       47957   36900000   \n",
       "Гатчина                  221         221    2050000       45882   13900000   \n",
       "Кудрово                  169         169    2350000       68519   12800000   \n",
       "\n",
       "                                       mean                 \n",
       "                  meter_price    last_price    meter_price  \n",
       "locality_name                                               \n",
       "Санкт-Петербург       1736842  8.304724e+06  116732.307237  \n",
       "посёлок Мурино         138580  3.725017e+06   85951.945674  \n",
       "посёлок Шушары         147826  4.178494e+06   78752.058968  \n",
       "Всеволожск             640422  3.972951e+06   70017.901449  \n",
       "посёлок Парголово      138522  4.529202e+06   90424.093851  \n",
       "деревня Кудрово        142857  4.236240e+06   92463.659933  \n",
       "Пушкин                 256522  6.989620e+06  105140.678201  \n",
       "Колпино                125000  4.107010e+06   75354.811966  \n",
       "Гатчина                146316  3.731762e+06   70717.760181  \n",
       "Кудрово                160401  4.574778e+06  100098.479290  "
      ]
     },
     "execution_count": 91,
     "metadata": {},
     "output_type": "execute_result"
    }
   ],
   "source": [
    "df_top10.pivot_table(index=['locality_name'], values=['last_price','meter_price'], aggfunc=['count','min','max','mean']).sort_values(by=('count','meter_price'), ascending=False)"
   ]
  },
  {
   "cell_type": "markdown",
   "metadata": {},
   "source": [
    "Как и ожидалось, средняя цена за метр наиболее высокая в Санкт-Петербурге, а в пригородах - цена ниже. \n",
    "\n",
    "Особенно заметная разница цены на наиболее дорогую недвижимость."
   ]
  },
  {
   "cell_type": "markdown",
   "metadata": {},
   "source": [
    "### Цены на недвижимость в центре культурной столицы"
   ]
  },
  {
   "cell_type": "markdown",
   "metadata": {},
   "source": [
    "Т. к. цены на недвижимость в центре Санкт-Петербурга сильно выше остальных, выделим этот регион в отдельный датасет."
   ]
  },
  {
   "cell_type": "code",
   "execution_count": 92,
   "metadata": {},
   "outputs": [],
   "source": [
    "df_spb = df[df['locality_name']=='Санкт-Петербург']"
   ]
  },
  {
   "cell_type": "code",
   "execution_count": 93,
   "metadata": {},
   "outputs": [
    {
     "name": "stdout",
     "output_type": "stream",
     "text": [
      "<class 'pandas.core.frame.DataFrame'>\n",
      "Int64Index: 13527 entries, 0 to 23697\n",
      "Data columns (total 29 columns):\n",
      " #   Column                Non-Null Count  Dtype         \n",
      "---  ------                --------------  -----         \n",
      " 0   total_images          13527 non-null  int64         \n",
      " 1   last_price            13527 non-null  int32         \n",
      " 2   total_area            13527 non-null  float32       \n",
      " 3   first_day_exposition  13527 non-null  datetime64[ns]\n",
      " 4   rooms                 13527 non-null  int64         \n",
      " 5   ceiling_height        7926 non-null   float64       \n",
      " 6   floors_total          13458 non-null  float64       \n",
      " 7   living_area           12491 non-null  float64       \n",
      " 8   floor                 13527 non-null  int64         \n",
      " 9   is_apartment          13527 non-null  bool          \n",
      " 10  studio                13527 non-null  bool          \n",
      " 11  open_plan             13527 non-null  bool          \n",
      " 12  kitchen_area          12268 non-null  float64       \n",
      " 13  balcony               13527 non-null  int32         \n",
      " 14  locality_name         13527 non-null  object        \n",
      " 15  airports_nearest      13447 non-null  float64       \n",
      " 16  city_centers_nearest  13468 non-null  float64       \n",
      " 17  parks_around_3000     13468 non-null  float64       \n",
      " 18  parks_nearest         6328 non-null   float64       \n",
      " 19  ponds_around_3000     13468 non-null  float64       \n",
      " 20  ponds_nearest         7105 non-null   float64       \n",
      " 21  days_exposition       11800 non-null  float64       \n",
      " 22  meter_price           13527 non-null  int32         \n",
      " 23  year                  13527 non-null  int64         \n",
      " 24  month                 13527 non-null  int64         \n",
      " 25  weekday               13527 non-null  int64         \n",
      " 26  floor_category        13527 non-null  object        \n",
      " 27  living_share          12491 non-null  float64       \n",
      " 28  kitchen_share         12268 non-null  float64       \n",
      "dtypes: bool(3), datetime64[ns](1), float32(1), float64(13), int32(3), int64(6), object(2)\n",
      "memory usage: 2.6+ MB\n"
     ]
    }
   ],
   "source": [
    "df_spb.info()"
   ]
  },
  {
   "cell_type": "markdown",
   "metadata": {},
   "source": [
    "В выборке оказалось более половины от исходного датасета. Добавим в него столбец, в котором укажем расстояние до центра в киллометрах, округлив его до целых значений."
   ]
  },
  {
   "cell_type": "code",
   "execution_count": 94,
   "metadata": {},
   "outputs": [
    {
     "name": "stderr",
     "output_type": "stream",
     "text": [
      "<ipython-input-94-9a5ea54809c6>:1: SettingWithCopyWarning: \n",
      "A value is trying to be set on a copy of a slice from a DataFrame.\n",
      "Try using .loc[row_indexer,col_indexer] = value instead\n",
      "\n",
      "See the caveats in the documentation: https://pandas.pydata.org/pandas-docs/stable/user_guide/indexing.html#returning-a-view-versus-a-copy\n",
      "  df_spb['center_km'] = (df_spb['city_centers_nearest'] / 1000).round()\n"
     ]
    }
   ],
   "source": [
    "df_spb['center_km'] = (df_spb['city_centers_nearest'] / 1000).round()"
   ]
  },
  {
   "cell_type": "code",
   "execution_count": 95,
   "metadata": {},
   "outputs": [],
   "source": [
    "# дополнительная сводная таблица для анализа по удаленности от центра\n",
    "df_spb_price_by_km = df_spb.pivot_table(index='center_km',values='last_price', aggfunc=['mean','median'])"
   ]
  },
  {
   "cell_type": "code",
   "execution_count": 96,
   "metadata": {},
   "outputs": [
    {
     "data": {
      "image/png": "[encoded data removed]",
      "text/plain": [
       "<Figure size 432x288 with 1 Axes>"
      ]
     },
     "metadata": {
      "needs_background": "light"
     },
     "output_type": "display_data"
    }
   ],
   "source": [
    "df_spb_price_by_km.plot(grid=True)\n",
    "plt.title('График медианной цены продажи по месяцам')\n",
    "plt.xlabel('Рассстояние до центра, км')\n",
    "plt.ylabel('Цена продажи')\n",
    "plt.show()"
   ]
  },
  {
   "cell_type": "markdown",
   "metadata": {},
   "source": [
    "График преломляется где-то в районе 1 км, а затем резко меняет свой рисунок в раойне 3 км от цента. Соответственно - в пределах первого км расположены наиболее дорогие квартиры (судя по большой разнице между медианой и среднем на этом участке, некоторые из них ОЧЕНЬ дорогие). В районе 3 км цена начинает идти в рост - скорее всего на этом участке появляются новостройки, которые невозможно ставить в центре, находящемся под защитой ЮНЕСКО."
   ]
  },
  {
   "cell_type": "markdown",
   "metadata": {},
   "source": [
    "Рост заканчивается где то в районе 7 км - соответственно, ограничим зону анализа этим расстоянием."
   ]
  },
  {
   "cell_type": "markdown",
   "metadata": {},
   "source": [
    "Выделим квартиры в центре в отдельный сегмент."
   ]
  },
  {
   "cell_type": "code",
   "execution_count": 97,
   "metadata": {},
   "outputs": [],
   "source": [
    "df_spb_center = df_spb[df_spb['center_km'] <= 7]"
   ]
  },
  {
   "cell_type": "code",
   "execution_count": 98,
   "metadata": {
    "scrolled": true
   },
   "outputs": [
    {
     "data": {
      "text/html": [
       "<div>\n",
       "<style scoped>\n",
       "    .dataframe tbody tr th:only-of-type {\n",
       "        vertical-align: middle;\n",
       "    }\n",
       "\n",
       "    .dataframe tbody tr th {\n",
       "        vertical-align: top;\n",
       "    }\n",
       "\n",
       "    .dataframe thead th {\n",
       "        text-align: right;\n",
       "    }\n",
       "</style>\n",
       "<table border=\"1\" class=\"dataframe\">\n",
       "  <thead>\n",
       "    <tr style=\"text-align: right;\">\n",
       "      <th></th>\n",
       "      <th>total_images</th>\n",
       "      <th>last_price</th>\n",
       "      <th>total_area</th>\n",
       "      <th>rooms</th>\n",
       "      <th>ceiling_height</th>\n",
       "      <th>floors_total</th>\n",
       "      <th>living_area</th>\n",
       "      <th>floor</th>\n",
       "      <th>kitchen_area</th>\n",
       "      <th>balcony</th>\n",
       "      <th>...</th>\n",
       "      <th>ponds_around_3000</th>\n",
       "      <th>ponds_nearest</th>\n",
       "      <th>days_exposition</th>\n",
       "      <th>meter_price</th>\n",
       "      <th>year</th>\n",
       "      <th>month</th>\n",
       "      <th>weekday</th>\n",
       "      <th>living_share</th>\n",
       "      <th>kitchen_share</th>\n",
       "      <th>center_km</th>\n",
       "    </tr>\n",
       "  </thead>\n",
       "  <tbody>\n",
       "    <tr>\n",
       "      <th>count</th>\n",
       "      <td>3390.000000</td>\n",
       "      <td>3.390000e+03</td>\n",
       "      <td>3390.000000</td>\n",
       "      <td>3390.000000</td>\n",
       "      <td>2160.000000</td>\n",
       "      <td>3383.000000</td>\n",
       "      <td>3107.000000</td>\n",
       "      <td>3390.000000</td>\n",
       "      <td>3066.000000</td>\n",
       "      <td>3390.000000</td>\n",
       "      <td>...</td>\n",
       "      <td>3390.000000</td>\n",
       "      <td>2459.000000</td>\n",
       "      <td>2826.000000</td>\n",
       "      <td>3.390000e+03</td>\n",
       "      <td>3390.000000</td>\n",
       "      <td>3390.000000</td>\n",
       "      <td>3390.000000</td>\n",
       "      <td>3107.000000</td>\n",
       "      <td>3066.000000</td>\n",
       "      <td>3390.000000</td>\n",
       "    </tr>\n",
       "    <tr>\n",
       "      <th>mean</th>\n",
       "      <td>10.188791</td>\n",
       "      <td>1.428202e+07</td>\n",
       "      <td>91.959396</td>\n",
       "      <td>2.837758</td>\n",
       "      <td>3.120944</td>\n",
       "      <td>7.090452</td>\n",
       "      <td>54.136453</td>\n",
       "      <td>4.188496</td>\n",
       "      <td>14.533969</td>\n",
       "      <td>0.320649</td>\n",
       "      <td>...</td>\n",
       "      <td>1.302655</td>\n",
       "      <td>465.371696</td>\n",
       "      <td>250.910474</td>\n",
       "      <td>1.446283e+05</td>\n",
       "      <td>2017.155162</td>\n",
       "      <td>6.428024</td>\n",
       "      <td>2.514454</td>\n",
       "      <td>0.581666</td>\n",
       "      <td>0.173598</td>\n",
       "      <td>4.471681</td>\n",
       "    </tr>\n",
       "    <tr>\n",
       "      <th>std</th>\n",
       "      <td>6.021138</td>\n",
       "      <td>1.791850e+07</td>\n",
       "      <td>51.059692</td>\n",
       "      <td>1.420747</td>\n",
       "      <td>0.357683</td>\n",
       "      <td>3.858003</td>\n",
       "      <td>34.070117</td>\n",
       "      <td>2.935550</td>\n",
       "      <td>8.897276</td>\n",
       "      <td>0.760188</td>\n",
       "      <td>...</td>\n",
       "      <td>1.094458</td>\n",
       "      <td>271.417351</td>\n",
       "      <td>275.152206</td>\n",
       "      <td>8.783446e+04</td>\n",
       "      <td>1.127251</td>\n",
       "      <td>3.448647</td>\n",
       "      <td>1.713880</td>\n",
       "      <td>0.115891</td>\n",
       "      <td>0.083393</td>\n",
       "      <td>1.684356</td>\n",
       "    </tr>\n",
       "    <tr>\n",
       "      <th>min</th>\n",
       "      <td>0.000000</td>\n",
       "      <td>2.100000e+06</td>\n",
       "      <td>12.000000</td>\n",
       "      <td>0.000000</td>\n",
       "      <td>2.510000</td>\n",
       "      <td>2.000000</td>\n",
       "      <td>2.000000</td>\n",
       "      <td>1.000000</td>\n",
       "      <td>2.000000</td>\n",
       "      <td>0.000000</td>\n",
       "      <td>...</td>\n",
       "      <td>0.000000</td>\n",
       "      <td>22.000000</td>\n",
       "      <td>3.000000</td>\n",
       "      <td>1.586200e+04</td>\n",
       "      <td>2014.000000</td>\n",
       "      <td>1.000000</td>\n",
       "      <td>0.000000</td>\n",
       "      <td>0.021583</td>\n",
       "      <td>0.025381</td>\n",
       "      <td>0.000000</td>\n",
       "    </tr>\n",
       "    <tr>\n",
       "      <th>25%</th>\n",
       "      <td>6.000000</td>\n",
       "      <td>6.750000e+06</td>\n",
       "      <td>58.000000</td>\n",
       "      <td>2.000000</td>\n",
       "      <td>2.900000</td>\n",
       "      <td>5.000000</td>\n",
       "      <td>31.900000</td>\n",
       "      <td>2.000000</td>\n",
       "      <td>9.100000</td>\n",
       "      <td>0.000000</td>\n",
       "      <td>...</td>\n",
       "      <td>0.000000</td>\n",
       "      <td>227.000000</td>\n",
       "      <td>60.000000</td>\n",
       "      <td>9.978525e+04</td>\n",
       "      <td>2017.000000</td>\n",
       "      <td>3.000000</td>\n",
       "      <td>1.000000</td>\n",
       "      <td>0.514035</td>\n",
       "      <td>0.116513</td>\n",
       "      <td>3.000000</td>\n",
       "    </tr>\n",
       "    <tr>\n",
       "      <th>50%</th>\n",
       "      <td>10.000000</td>\n",
       "      <td>9.300000e+06</td>\n",
       "      <td>79.695000</td>\n",
       "      <td>3.000000</td>\n",
       "      <td>3.000000</td>\n",
       "      <td>6.000000</td>\n",
       "      <td>46.640000</td>\n",
       "      <td>4.000000</td>\n",
       "      <td>12.000000</td>\n",
       "      <td>0.000000</td>\n",
       "      <td>...</td>\n",
       "      <td>1.000000</td>\n",
       "      <td>458.000000</td>\n",
       "      <td>144.000000</td>\n",
       "      <td>1.238315e+05</td>\n",
       "      <td>2017.000000</td>\n",
       "      <td>6.000000</td>\n",
       "      <td>3.000000</td>\n",
       "      <td>0.595745</td>\n",
       "      <td>0.152329</td>\n",
       "      <td>5.000000</td>\n",
       "    </tr>\n",
       "    <tr>\n",
       "      <th>75%</th>\n",
       "      <td>15.000000</td>\n",
       "      <td>1.450000e+07</td>\n",
       "      <td>110.000000</td>\n",
       "      <td>3.000000</td>\n",
       "      <td>3.300000</td>\n",
       "      <td>8.000000</td>\n",
       "      <td>67.000000</td>\n",
       "      <td>5.000000</td>\n",
       "      <td>17.000000</td>\n",
       "      <td>0.000000</td>\n",
       "      <td>...</td>\n",
       "      <td>2.000000</td>\n",
       "      <td>666.000000</td>\n",
       "      <td>351.000000</td>\n",
       "      <td>1.559592e+05</td>\n",
       "      <td>2018.000000</td>\n",
       "      <td>10.000000</td>\n",
       "      <td>4.000000</td>\n",
       "      <td>0.663337</td>\n",
       "      <td>0.206630</td>\n",
       "      <td>6.000000</td>\n",
       "    </tr>\n",
       "    <tr>\n",
       "      <th>max</th>\n",
       "      <td>50.000000</td>\n",
       "      <td>3.300000e+08</td>\n",
       "      <td>399.000000</td>\n",
       "      <td>19.000000</td>\n",
       "      <td>5.800000</td>\n",
       "      <td>25.000000</td>\n",
       "      <td>264.500000</td>\n",
       "      <td>25.000000</td>\n",
       "      <td>107.000000</td>\n",
       "      <td>5.000000</td>\n",
       "      <td>...</td>\n",
       "      <td>3.000000</td>\n",
       "      <td>1293.000000</td>\n",
       "      <td>1572.000000</td>\n",
       "      <td>1.736842e+06</td>\n",
       "      <td>2019.000000</td>\n",
       "      <td>12.000000</td>\n",
       "      <td>6.000000</td>\n",
       "      <td>0.983447</td>\n",
       "      <td>0.636986</td>\n",
       "      <td>7.000000</td>\n",
       "    </tr>\n",
       "  </tbody>\n",
       "</table>\n",
       "<p>8 rows × 24 columns</p>\n",
       "</div>"
      ],
      "text/plain": [
       "       total_images    last_price   total_area        rooms  ceiling_height  \\\n",
       "count   3390.000000  3.390000e+03  3390.000000  3390.000000     2160.000000   \n",
       "mean      10.188791  1.428202e+07    91.959396     2.837758        3.120944   \n",
       "std        6.021138  1.791850e+07    51.059692     1.420747        0.357683   \n",
       "min        0.000000  2.100000e+06    12.000000     0.000000        2.510000   \n",
       "25%        6.000000  6.750000e+06    58.000000     2.000000        2.900000   \n",
       "50%       10.000000  9.300000e+06    79.695000     3.000000        3.000000   \n",
       "75%       15.000000  1.450000e+07   110.000000     3.000000        3.300000   \n",
       "max       50.000000  3.300000e+08   399.000000    19.000000        5.800000   \n",
       "\n",
       "       floors_total  living_area        floor  kitchen_area      balcony  ...  \\\n",
       "count   3383.000000  3107.000000  3390.000000   3066.000000  3390.000000  ...   \n",
       "mean       7.090452    54.136453     4.188496     14.533969     0.320649  ...   \n",
       "std        3.858003    34.070117     2.935550      8.897276     0.760188  ...   \n",
       "min        2.000000     2.000000     1.000000      2.000000     0.000000  ...   \n",
       "25%        5.000000    31.900000     2.000000      9.100000     0.000000  ...   \n",
       "50%        6.000000    46.640000     4.000000     12.000000     0.000000  ...   \n",
       "75%        8.000000    67.000000     5.000000     17.000000     0.000000  ...   \n",
       "max       25.000000   264.500000    25.000000    107.000000     5.000000  ...   \n",
       "\n",
       "       ponds_around_3000  ponds_nearest  days_exposition   meter_price  \\\n",
       "count        3390.000000    2459.000000      2826.000000  3.390000e+03   \n",
       "mean            1.302655     465.371696       250.910474  1.446283e+05   \n",
       "std             1.094458     271.417351       275.152206  8.783446e+04   \n",
       "min             0.000000      22.000000         3.000000  1.586200e+04   \n",
       "25%             0.000000     227.000000        60.000000  9.978525e+04   \n",
       "50%             1.000000     458.000000       144.000000  1.238315e+05   \n",
       "75%             2.000000     666.000000       351.000000  1.559592e+05   \n",
       "max             3.000000    1293.000000      1572.000000  1.736842e+06   \n",
       "\n",
       "              year        month      weekday  living_share  kitchen_share  \\\n",
       "count  3390.000000  3390.000000  3390.000000   3107.000000    3066.000000   \n",
       "mean   2017.155162     6.428024     2.514454      0.581666       0.173598   \n",
       "std       1.127251     3.448647     1.713880      0.115891       0.083393   \n",
       "min    2014.000000     1.000000     0.000000      0.021583       0.025381   \n",
       "25%    2017.000000     3.000000     1.000000      0.514035       0.116513   \n",
       "50%    2017.000000     6.000000     3.000000      0.595745       0.152329   \n",
       "75%    2018.000000    10.000000     4.000000      0.663337       0.206630   \n",
       "max    2019.000000    12.000000     6.000000      0.983447       0.636986   \n",
       "\n",
       "         center_km  \n",
       "count  3390.000000  \n",
       "mean      4.471681  \n",
       "std       1.684356  \n",
       "min       0.000000  \n",
       "25%       3.000000  \n",
       "50%       5.000000  \n",
       "75%       6.000000  \n",
       "max       7.000000  \n",
       "\n",
       "[8 rows x 24 columns]"
      ]
     },
     "execution_count": 98,
     "metadata": {},
     "output_type": "execute_result"
    }
   ],
   "source": [
    "df_spb_center.describe()"
   ]
  },
  {
   "cell_type": "markdown",
   "metadata": {},
   "source": [
    "Средняя цена квартиры в центре Петербурга 14,282,020.00, в то время как по общей выборке - 6,708,449.00 — в 2,1 раза выше. \n",
    "\n",
    "Площадь квартиры тоже значительно больше, чем в среднем, - медианное значение 79.6 м (в общей выборке 53). \n",
    "\n",
    "Кроме того, у квартир в центре обычно 3 комнаты, а не две, как в общей выборке. Высота потолков тоже выше - медианное значение 3 против 2,65 по всем объектам.\n",
    "\n",
    "Таким образом, квартиры в центре в целом просторнее. Выясним, зависит ли цена на них от площади и количества комнат, или покупатели платят исключительно за локацию.\n"
   ]
  },
  {
   "cell_type": "code",
   "execution_count": 99,
   "metadata": {},
   "outputs": [],
   "source": [
    "#создадим срез по необходимым столбцам для подсчета корреляции\n",
    "df_spb_center_price_by= df_spb_center[['last_price','total_area','rooms','city_centers_nearest']]"
   ]
  },
  {
   "cell_type": "code",
   "execution_count": 100,
   "metadata": {},
   "outputs": [
    {
     "data": {
      "image/png": "[encoded data removed]",
      "text/plain": [
       "<Figure size 432x288 with 1 Axes>"
      ]
     },
     "metadata": {
      "needs_background": "light"
     },
     "output_type": "display_data"
    }
   ],
   "source": [
    "sns.heatmap(df_spb_center_price_by.corr(), annot = True, cbar=False)\n",
    "plt.yticks(rotation = 45)\n",
    "plt.show()"
   ]
  },
  {
   "cell_type": "markdown",
   "metadata": {},
   "source": [
    "Влияние площади квартиры и количества комнат на цену уже значительно ниже - коэффициенты корреляции 0,56 и 0,23 против 0,68 и 0,39 соответственно. Таким образом, в цене прежде всего местоположение и возможность гулять по историческим улицам."
   ]
  },
  {
   "cell_type": "code",
   "execution_count": 101,
   "metadata": {},
   "outputs": [
    {
     "data": {
      "text/html": [
       "<div>\n",
       "<style scoped>\n",
       "    .dataframe tbody tr th:only-of-type {\n",
       "        vertical-align: middle;\n",
       "    }\n",
       "\n",
       "    .dataframe tbody tr th {\n",
       "        vertical-align: top;\n",
       "    }\n",
       "\n",
       "    .dataframe thead th {\n",
       "        text-align: right;\n",
       "    }\n",
       "</style>\n",
       "<table border=\"1\" class=\"dataframe\">\n",
       "  <thead>\n",
       "    <tr style=\"text-align: right;\">\n",
       "      <th></th>\n",
       "      <th>last_price</th>\n",
       "    </tr>\n",
       "    <tr>\n",
       "      <th>year</th>\n",
       "      <th></th>\n",
       "    </tr>\n",
       "  </thead>\n",
       "  <tbody>\n",
       "    <tr>\n",
       "      <th>2014</th>\n",
       "      <td>19800000</td>\n",
       "    </tr>\n",
       "    <tr>\n",
       "      <th>2015</th>\n",
       "      <td>10500000</td>\n",
       "    </tr>\n",
       "    <tr>\n",
       "      <th>2016</th>\n",
       "      <td>9500000</td>\n",
       "    </tr>\n",
       "    <tr>\n",
       "      <th>2017</th>\n",
       "      <td>9000000</td>\n",
       "    </tr>\n",
       "    <tr>\n",
       "      <th>2018</th>\n",
       "      <td>9000000</td>\n",
       "    </tr>\n",
       "    <tr>\n",
       "      <th>2019</th>\n",
       "      <td>9500000</td>\n",
       "    </tr>\n",
       "  </tbody>\n",
       "</table>\n",
       "</div>"
      ],
      "text/plain": [
       "      last_price\n",
       "year            \n",
       "2014    19800000\n",
       "2015    10500000\n",
       "2016     9500000\n",
       "2017     9000000\n",
       "2018     9000000\n",
       "2019     9500000"
      ]
     },
     "execution_count": 101,
     "metadata": {},
     "output_type": "execute_result"
    }
   ],
   "source": [
    "#посмотрим на цены по годам\n",
    "df_spb_center.pivot_table(index='year',values='last_price',aggfunc='median')"
   ]
  },
  {
   "cell_type": "code",
   "execution_count": 102,
   "metadata": {},
   "outputs": [
    {
     "data": {
      "image/png": "[encoded data removed]",
      "text/plain": [
       "<Figure size 432x288 with 1 Axes>"
      ]
     },
     "metadata": {
      "needs_background": "light"
     },
     "output_type": "display_data"
    }
   ],
   "source": [
    "df_spb_center.pivot_table(index='year',values='last_price',aggfunc='median').plot()\n",
    "plt.title('Медианная цена квартиры в центре по годам')\n",
    "plt.xlabel('Год продажи')\n",
    "plt.ylabel('Цена продажи')\n",
    "plt.show()"
   ]
  },
  {
   "cell_type": "markdown",
   "metadata": {},
   "source": [
    "Динамика цен схожая с общей выборкой, но разницы цен в 2014 году и последующих еще существеннее."
   ]
  },
  {
   "cell_type": "code",
   "execution_count": 103,
   "metadata": {},
   "outputs": [
    {
     "data": {
      "text/html": [
       "<div>\n",
       "<style scoped>\n",
       "    .dataframe tbody tr th:only-of-type {\n",
       "        vertical-align: middle;\n",
       "    }\n",
       "\n",
       "    .dataframe tbody tr th {\n",
       "        vertical-align: top;\n",
       "    }\n",
       "\n",
       "    .dataframe thead tr th {\n",
       "        text-align: left;\n",
       "    }\n",
       "\n",
       "    .dataframe thead tr:last-of-type th {\n",
       "        text-align: right;\n",
       "    }\n",
       "</style>\n",
       "<table border=\"1\" class=\"dataframe\">\n",
       "  <thead>\n",
       "    <tr>\n",
       "      <th></th>\n",
       "      <th>median</th>\n",
       "    </tr>\n",
       "    <tr>\n",
       "      <th></th>\n",
       "      <th>last_price</th>\n",
       "    </tr>\n",
       "    <tr>\n",
       "      <th>month</th>\n",
       "      <th></th>\n",
       "    </tr>\n",
       "  </thead>\n",
       "  <tbody>\n",
       "    <tr>\n",
       "      <th>1</th>\n",
       "      <td>10150000</td>\n",
       "    </tr>\n",
       "    <tr>\n",
       "      <th>2</th>\n",
       "      <td>9520000</td>\n",
       "    </tr>\n",
       "    <tr>\n",
       "      <th>3</th>\n",
       "      <td>9500000</td>\n",
       "    </tr>\n",
       "    <tr>\n",
       "      <th>4</th>\n",
       "      <td>9175000</td>\n",
       "    </tr>\n",
       "    <tr>\n",
       "      <th>5</th>\n",
       "      <td>8850000</td>\n",
       "    </tr>\n",
       "    <tr>\n",
       "      <th>6</th>\n",
       "      <td>8995000</td>\n",
       "    </tr>\n",
       "    <tr>\n",
       "      <th>7</th>\n",
       "      <td>9200000</td>\n",
       "    </tr>\n",
       "    <tr>\n",
       "      <th>8</th>\n",
       "      <td>9200000</td>\n",
       "    </tr>\n",
       "    <tr>\n",
       "      <th>9</th>\n",
       "      <td>9750000</td>\n",
       "    </tr>\n",
       "    <tr>\n",
       "      <th>10</th>\n",
       "      <td>8905131</td>\n",
       "    </tr>\n",
       "    <tr>\n",
       "      <th>11</th>\n",
       "      <td>9500000</td>\n",
       "    </tr>\n",
       "    <tr>\n",
       "      <th>12</th>\n",
       "      <td>8520000</td>\n",
       "    </tr>\n",
       "  </tbody>\n",
       "</table>\n",
       "</div>"
      ],
      "text/plain": [
       "          median\n",
       "      last_price\n",
       "month           \n",
       "1       10150000\n",
       "2        9520000\n",
       "3        9500000\n",
       "4        9175000\n",
       "5        8850000\n",
       "6        8995000\n",
       "7        9200000\n",
       "8        9200000\n",
       "9        9750000\n",
       "10       8905131\n",
       "11       9500000\n",
       "12       8520000"
      ]
     },
     "execution_count": 103,
     "metadata": {},
     "output_type": "execute_result"
    }
   ],
   "source": [
    "df_spb_center.pivot_table(index='month', values='last_price', aggfunc=['median'])"
   ]
  },
  {
   "cell_type": "code",
   "execution_count": 104,
   "metadata": {},
   "outputs": [
    {
     "data": {
      "image/png": "[encoded data removed]",
      "text/plain": [
       "<Figure size 432x288 with 1 Axes>"
      ]
     },
     "metadata": {
      "needs_background": "light"
     },
     "output_type": "display_data"
    }
   ],
   "source": [
    "df_spb_center.pivot_table(index='month', values='last_price', aggfunc=['median']).plot(legend=None)\n",
    "plt.ylim([8000000,11000000])\n",
    "plt.title('График медианной цены продажи квартиры в центре по месяцам')\n",
    "plt.xlabel('Месяц')\n",
    "plt.ylabel('Цена продажи')\n",
    "plt.show()"
   ]
  },
  {
   "cell_type": "markdown",
   "metadata": {},
   "source": [
    "А вот по месяцам в динамике цен есть различие - квартиры в центре выгоднее приобретать к концу года. Вероятно, в декабре часть инвесторов фиксирует прибыль и выставляет квратиры купленные для сдачи на продажу."
   ]
  },
  {
   "cell_type": "markdown",
   "metadata": {},
   "source": [
    "## Общий вывод"
   ]
  },
  {
   "cell_type": "markdown",
   "metadata": {},
   "source": [
    "В ходе исследования мы проанализировали архив объявлений сервиса \"Яндекс.Недвижимость\" по Санкт-Петербургу и ближайшим населенным пунктам.\n",
    "\n",
    "На первом этапе исследования данные были проверены на наличие дубликатов, были заполнены пропуски в столбцах там, где это было возможно. Кроме того, для удобства дальнейшей обработки были изменены типы данных в некоторых столбцах.\n",
    "\n",
    "После этого в датасет были добавлены некоторые необходимые метрики, на основании которых обычно анализируют предложения недвижимости - прежде всего цена за квадратный метр.\n",
    "\n",
    "Для дальнейшей обработки из данных были удалены крайние и аномальные значения — например, объекты не соответсвующие нормам САНПИН. \n",
    "\n",
    "После предобработки данных, удаления аномалий и добавления необходимых метрик, были произведена оценка влияния различных факторов на цену недвижимости.\n",
    "\n",
    "Было установлено, что на стоимость объекта одновременно влияет множество факторов. Наибольшее влияние оказывает площадь объекта, а также его местоположение - по цене квартиры в центре можно взять сразу несколько квартир в пригородах.\n",
    "\n",
    "Можно предположить, что нормальная цена за квадратный метр недвижимости в Санкт-Петербурге составляет 116.000 рублей, а в центре  - 144 000. Соответсвтенно, объявления, где цена сильно отклоняется от данных значений, требуют дополнительной проверки и модерации.\n",
    "\n",
    "Из неочевидного - на цену недвижимости влияет день недели и месяц, когда опубликовано объявление."
   ]
  }
 ],
 "metadata": {
  "ExecuteTimeLog": [
   {
    "duration": 718,
    "start_time": "2022-04-13T16:10:07.000Z"
   },
   {
    "duration": 178,
    "start_time": "2022-04-13T16:10:56.220Z"
   },
   {
    "duration": 109,
    "start_time": "2022-04-13T16:11:11.236Z"
   },
   {
    "duration": 57,
    "start_time": "2022-04-13T16:12:10.123Z"
   },
   {
    "duration": 24,
    "start_time": "2022-04-13T16:12:58.145Z"
   },
   {
    "duration": 108,
    "start_time": "2022-04-13T16:13:39.795Z"
   },
   {
    "duration": 54,
    "start_time": "2022-04-13T16:14:29.606Z"
   },
   {
    "duration": 39,
    "start_time": "2022-04-13T16:15:04.452Z"
   },
   {
    "duration": 607,
    "start_time": "2022-04-13T16:15:23.800Z"
   },
   {
    "duration": 6,
    "start_time": "2022-04-13T16:21:38.965Z"
   },
   {
    "duration": 6,
    "start_time": "2022-04-13T16:21:51.520Z"
   },
   {
    "duration": 6,
    "start_time": "2022-04-13T16:21:58.516Z"
   },
   {
    "duration": 41,
    "start_time": "2022-04-13T16:23:05.862Z"
   },
   {
    "duration": 12,
    "start_time": "2022-04-13T16:24:14.258Z"
   },
   {
    "duration": 65,
    "start_time": "2022-04-13T16:24:40.288Z"
   },
   {
    "duration": 4,
    "start_time": "2022-04-13T16:25:46.244Z"
   },
   {
    "duration": 57,
    "start_time": "2022-04-13T16:28:13.828Z"
   },
   {
    "duration": 60,
    "start_time": "2022-04-13T16:28:54.547Z"
   },
   {
    "duration": 102,
    "start_time": "2022-04-13T16:29:42.948Z"
   },
   {
    "duration": 9,
    "start_time": "2022-04-13T16:30:02.291Z"
   },
   {
    "duration": 8,
    "start_time": "2022-04-13T16:31:13.676Z"
   },
   {
    "duration": 7,
    "start_time": "2022-04-13T16:31:35.659Z"
   },
   {
    "duration": 130,
    "start_time": "2022-04-13T16:32:43.547Z"
   },
   {
    "duration": 5,
    "start_time": "2022-04-13T16:33:46.784Z"
   },
   {
    "duration": 13,
    "start_time": "2022-04-13T16:33:59.532Z"
   },
   {
    "duration": 58,
    "start_time": "2022-04-13T16:34:47.448Z"
   },
   {
    "duration": 11,
    "start_time": "2022-04-13T16:35:14.254Z"
   },
   {
    "duration": 25,
    "start_time": "2022-04-13T16:35:32.927Z"
   },
   {
    "duration": 57,
    "start_time": "2022-04-13T16:36:19.936Z"
   },
   {
    "duration": 9,
    "start_time": "2022-04-13T16:36:35.681Z"
   },
   {
    "duration": 101,
    "start_time": "2022-04-13T16:37:07.557Z"
   },
   {
    "duration": 128,
    "start_time": "2022-04-13T16:37:26.961Z"
   },
   {
    "duration": 57,
    "start_time": "2022-04-13T16:37:39.656Z"
   },
   {
    "duration": 19,
    "start_time": "2022-04-13T16:39:09.669Z"
   },
   {
    "duration": 7,
    "start_time": "2022-04-13T16:40:05.430Z"
   },
   {
    "duration": 7,
    "start_time": "2022-04-13T16:40:15.531Z"
   },
   {
    "duration": 17,
    "start_time": "2022-04-13T16:42:27.952Z"
   },
   {
    "duration": 20,
    "start_time": "2022-04-13T16:42:37.436Z"
   },
   {
    "duration": 129,
    "start_time": "2022-04-13T16:44:10.177Z"
   },
   {
    "duration": 6,
    "start_time": "2022-04-13T16:45:19.312Z"
   },
   {
    "duration": 7,
    "start_time": "2022-04-13T16:45:38.917Z"
   },
   {
    "duration": 8,
    "start_time": "2022-04-13T16:45:49.023Z"
   },
   {
    "duration": 8,
    "start_time": "2022-04-13T16:45:55.952Z"
   },
   {
    "duration": 5,
    "start_time": "2022-04-13T16:46:22.814Z"
   },
   {
    "duration": 587,
    "start_time": "2022-04-13T16:46:35.491Z"
   },
   {
    "duration": 6,
    "start_time": "2022-04-13T16:46:56.000Z"
   },
   {
    "duration": 5,
    "start_time": "2022-04-13T16:47:02.689Z"
   },
   {
    "duration": 38,
    "start_time": "2022-04-13T16:47:13.588Z"
   },
   {
    "duration": 14,
    "start_time": "2022-04-13T16:48:22.126Z"
   },
   {
    "duration": 814,
    "start_time": "2022-04-13T16:48:48.691Z"
   },
   {
    "duration": 128,
    "start_time": "2022-04-13T16:49:17.491Z"
   },
   {
    "duration": 295,
    "start_time": "2022-04-13T16:49:25.348Z"
   },
   {
    "duration": 60,
    "start_time": "2022-04-13T16:50:03.585Z"
   },
   {
    "duration": 18,
    "start_time": "2022-04-13T16:51:46.941Z"
   },
   {
    "duration": 12,
    "start_time": "2022-04-13T16:52:17.315Z"
   },
   {
    "duration": 406,
    "start_time": "2022-04-13T16:52:39.814Z"
   },
   {
    "duration": 11,
    "start_time": "2022-04-13T16:53:10.938Z"
   },
   {
    "duration": 133,
    "start_time": "2022-04-13T16:53:32.726Z"
   },
   {
    "duration": 10,
    "start_time": "2022-04-13T16:53:45.003Z"
   },
   {
    "duration": 8,
    "start_time": "2022-04-13T16:53:53.638Z"
   },
   {
    "duration": 12,
    "start_time": "2022-04-13T16:54:28.712Z"
   },
   {
    "duration": 34,
    "start_time": "2022-04-13T16:54:50.112Z"
   },
   {
    "duration": 290,
    "start_time": "2022-04-13T16:55:21.494Z"
   },
   {
    "duration": 449,
    "start_time": "2022-04-13T16:55:29.743Z"
   },
   {
    "duration": 406,
    "start_time": "2022-04-13T16:55:35.449Z"
   },
   {
    "duration": 265,
    "start_time": "2022-04-13T16:55:40.630Z"
   },
   {
    "duration": 232,
    "start_time": "2022-04-13T16:57:37.349Z"
   },
   {
    "duration": 811,
    "start_time": "2022-04-13T16:59:02.674Z"
   },
   {
    "duration": 133,
    "start_time": "2022-04-13T17:01:39.209Z"
   },
   {
    "duration": 12,
    "start_time": "2022-04-13T17:02:21.781Z"
   },
   {
    "duration": 132,
    "start_time": "2022-04-13T17:02:44.664Z"
   },
   {
    "duration": 50,
    "start_time": "2022-04-13T17:09:10.271Z"
   },
   {
    "duration": 411,
    "start_time": "2022-04-13T17:09:32.307Z"
   },
   {
    "duration": 13,
    "start_time": "2022-04-13T17:10:30.961Z"
   },
   {
    "duration": 141,
    "start_time": "2022-04-13T17:10:51.021Z"
   },
   {
    "duration": 47,
    "start_time": "2022-04-13T17:11:04.330Z"
   },
   {
    "duration": 33,
    "start_time": "2022-04-13T17:11:33.240Z"
   },
   {
    "duration": 629,
    "start_time": "2022-04-13T17:12:24.040Z"
   },
   {
    "duration": 225,
    "start_time": "2022-04-13T17:12:48.332Z"
   },
   {
    "duration": 59,
    "start_time": "2022-04-13T17:13:07.871Z"
   },
   {
    "duration": 10,
    "start_time": "2022-04-13T17:13:30.058Z"
   },
   {
    "duration": 137,
    "start_time": "2022-04-13T17:14:06.278Z"
   },
   {
    "duration": 120,
    "start_time": "2022-04-13T17:14:21.702Z"
   },
   {
    "duration": 14,
    "start_time": "2022-04-13T17:14:57.985Z"
   },
   {
    "duration": 11,
    "start_time": "2022-04-13T17:16:15.108Z"
   },
   {
    "duration": 9,
    "start_time": "2022-04-13T17:16:35.740Z"
   },
   {
    "duration": 11,
    "start_time": "2022-04-13T17:17:16.917Z"
   },
   {
    "duration": 25,
    "start_time": "2022-04-13T17:17:24.144Z"
   },
   {
    "duration": 207,
    "start_time": "2022-04-13T17:19:06.741Z"
   },
   {
    "duration": 14,
    "start_time": "2022-04-13T17:19:18.149Z"
   },
   {
    "duration": 406,
    "start_time": "2022-04-13T17:19:37.110Z"
   },
   {
    "duration": 54,
    "start_time": "2022-04-13T17:19:48.997Z"
   },
   {
    "duration": 167,
    "start_time": "2022-04-13T17:19:58.141Z"
   },
   {
    "duration": 187,
    "start_time": "2022-04-13T17:20:28.234Z"
   },
   {
    "duration": 122,
    "start_time": "2022-04-13T17:20:51.588Z"
   },
   {
    "duration": 99,
    "start_time": "2022-04-13T17:21:00.390Z"
   },
   {
    "duration": 138,
    "start_time": "2022-04-13T17:21:24.012Z"
   },
   {
    "duration": 6,
    "start_time": "2022-04-13T17:22:23.752Z"
   },
   {
    "duration": 16,
    "start_time": "2022-04-13T17:22:36.370Z"
   },
   {
    "duration": 17,
    "start_time": "2022-04-13T17:23:14.653Z"
   },
   {
    "duration": 9,
    "start_time": "2022-04-13T17:23:22.084Z"
   },
   {
    "duration": 21,
    "start_time": "2022-04-13T17:24:00.111Z"
   },
   {
    "duration": 21,
    "start_time": "2022-04-13T17:24:59.803Z"
   },
   {
    "duration": 22,
    "start_time": "2022-04-13T17:25:22.447Z"
   },
   {
    "duration": 11,
    "start_time": "2022-04-13T17:25:46.960Z"
   },
   {
    "duration": 9,
    "start_time": "2022-04-13T17:25:54.909Z"
   },
   {
    "duration": 136,
    "start_time": "2022-04-13T17:26:16.122Z"
   },
   {
    "duration": 11,
    "start_time": "2022-04-13T17:27:40.415Z"
   },
   {
    "duration": 13,
    "start_time": "2022-04-13T17:28:09.353Z"
   },
   {
    "duration": 16,
    "start_time": "2022-04-13T17:29:31.641Z"
   },
   {
    "duration": 55,
    "start_time": "2022-04-13T17:29:33.919Z"
   },
   {
    "duration": 133,
    "start_time": "2022-04-13T17:29:58.273Z"
   },
   {
    "duration": 137,
    "start_time": "2022-04-13T17:30:31.171Z"
   },
   {
    "duration": 131,
    "start_time": "2022-04-13T17:30:34.203Z"
   },
   {
    "duration": 14,
    "start_time": "2022-04-13T17:30:51.352Z"
   },
   {
    "duration": 23,
    "start_time": "2022-04-13T17:30:56.875Z"
   },
   {
    "duration": 6,
    "start_time": "2022-04-13T17:31:16.570Z"
   },
   {
    "duration": 27,
    "start_time": "2022-04-13T17:32:26.302Z"
   },
   {
    "duration": 268,
    "start_time": "2022-04-13T17:32:40.897Z"
   },
   {
    "duration": 152,
    "start_time": "2022-04-13T17:33:00.293Z"
   },
   {
    "duration": 2259,
    "start_time": "2022-04-13T17:33:11.806Z"
   },
   {
    "duration": 2572,
    "start_time": "2022-04-13T17:33:22.913Z"
   },
   {
    "duration": 7,
    "start_time": "2022-04-13T17:33:35.118Z"
   },
   {
    "duration": 101,
    "start_time": "2022-04-13T17:33:41.503Z"
   },
   {
    "duration": 5,
    "start_time": "2022-04-13T17:34:14.951Z"
   },
   {
    "duration": 13,
    "start_time": "2022-04-13T17:34:24.199Z"
   },
   {
    "duration": 19,
    "start_time": "2022-04-13T17:34:45.867Z"
   },
   {
    "duration": 131,
    "start_time": "2022-04-13T17:34:55.780Z"
   },
   {
    "duration": 141,
    "start_time": "2022-04-13T17:35:30.793Z"
   },
   {
    "duration": 21,
    "start_time": "2022-04-13T17:35:40.626Z"
   },
   {
    "duration": 614,
    "start_time": "2022-04-13T17:37:47.079Z"
   },
   {
    "duration": 123,
    "start_time": "2022-04-13T17:37:47.696Z"
   },
   {
    "duration": 56,
    "start_time": "2022-04-13T17:37:47.825Z"
   },
   {
    "duration": 50,
    "start_time": "2022-04-13T17:37:47.884Z"
   },
   {
    "duration": 122,
    "start_time": "2022-04-13T17:37:47.938Z"
   },
   {
    "duration": 39,
    "start_time": "2022-04-13T17:37:48.063Z"
   },
   {
    "duration": 60,
    "start_time": "2022-04-13T17:37:48.105Z"
   },
   {
    "duration": 6,
    "start_time": "2022-04-13T17:37:48.167Z"
   },
   {
    "duration": 12,
    "start_time": "2022-04-13T17:37:48.175Z"
   },
   {
    "duration": 70,
    "start_time": "2022-04-13T17:37:48.190Z"
   },
   {
    "duration": 15,
    "start_time": "2022-04-13T17:37:48.262Z"
   },
   {
    "duration": 95,
    "start_time": "2022-04-13T17:37:48.279Z"
   },
   {
    "duration": 5,
    "start_time": "2022-04-13T17:37:48.377Z"
   },
   {
    "duration": 78,
    "start_time": "2022-04-13T17:37:48.389Z"
   },
   {
    "duration": 80,
    "start_time": "2022-04-13T17:37:48.470Z"
   },
   {
    "duration": 9,
    "start_time": "2022-04-13T17:37:48.553Z"
   },
   {
    "duration": 19,
    "start_time": "2022-04-13T17:37:48.565Z"
   },
   {
    "duration": 14,
    "start_time": "2022-04-13T17:37:48.587Z"
   },
   {
    "duration": 74,
    "start_time": "2022-04-13T17:37:48.603Z"
   },
   {
    "duration": 7,
    "start_time": "2022-04-13T17:37:48.680Z"
   },
   {
    "duration": 46,
    "start_time": "2022-04-13T17:37:48.690Z"
   },
   {
    "duration": 117,
    "start_time": "2022-04-13T17:37:48.740Z"
   },
   {
    "duration": 15,
    "start_time": "2022-04-13T17:37:48.861Z"
   },
   {
    "duration": 51,
    "start_time": "2022-04-13T17:37:48.878Z"
   },
   {
    "duration": 54,
    "start_time": "2022-04-13T17:37:48.931Z"
   },
   {
    "duration": 10,
    "start_time": "2022-04-13T17:37:48.987Z"
   },
   {
    "duration": 134,
    "start_time": "2022-04-13T17:37:48.999Z"
   },
   {
    "duration": 58,
    "start_time": "2022-04-13T17:37:49.136Z"
   },
   {
    "duration": 43,
    "start_time": "2022-04-13T17:37:49.197Z"
   },
   {
    "duration": 7,
    "start_time": "2022-04-13T17:37:49.242Z"
   },
   {
    "duration": 20,
    "start_time": "2022-04-13T17:37:49.251Z"
   },
   {
    "duration": 24,
    "start_time": "2022-04-13T17:37:49.274Z"
   },
   {
    "duration": 36,
    "start_time": "2022-04-13T17:37:49.300Z"
   },
   {
    "duration": 8,
    "start_time": "2022-04-13T17:37:49.338Z"
   },
   {
    "duration": 17,
    "start_time": "2022-04-13T17:37:49.348Z"
   },
   {
    "duration": 9,
    "start_time": "2022-04-13T17:37:49.367Z"
   },
   {
    "duration": 9,
    "start_time": "2022-04-13T17:37:49.378Z"
   },
   {
    "duration": 39,
    "start_time": "2022-04-13T17:37:49.389Z"
   },
   {
    "duration": 620,
    "start_time": "2022-04-13T17:37:49.430Z"
   },
   {
    "duration": 5,
    "start_time": "2022-04-13T17:37:50.053Z"
   },
   {
    "duration": 6,
    "start_time": "2022-04-13T17:37:50.066Z"
   },
   {
    "duration": 64,
    "start_time": "2022-04-13T17:37:50.074Z"
   },
   {
    "duration": 26,
    "start_time": "2022-04-13T17:37:50.141Z"
   },
   {
    "duration": 697,
    "start_time": "2022-04-13T17:37:50.170Z"
   },
   {
    "duration": 302,
    "start_time": "2022-04-13T17:37:50.870Z"
   },
   {
    "duration": 68,
    "start_time": "2022-04-13T17:37:51.175Z"
   },
   {
    "duration": 13,
    "start_time": "2022-04-13T17:37:51.246Z"
   },
   {
    "duration": 431,
    "start_time": "2022-04-13T17:37:51.261Z"
   },
   {
    "duration": 10,
    "start_time": "2022-04-13T17:37:51.695Z"
   },
   {
    "duration": 13,
    "start_time": "2022-04-13T17:37:51.724Z"
   },
   {
    "duration": 22,
    "start_time": "2022-04-13T17:37:51.739Z"
   },
   {
    "duration": 24,
    "start_time": "2022-04-13T17:37:51.763Z"
   },
   {
    "duration": 63,
    "start_time": "2022-04-13T17:37:51.789Z"
   },
   {
    "duration": 640,
    "start_time": "2022-04-13T17:37:51.856Z"
   },
   {
    "duration": 246,
    "start_time": "2022-04-13T17:37:52.499Z"
   },
   {
    "duration": 12,
    "start_time": "2022-04-13T17:37:52.748Z"
   },
   {
    "duration": 70,
    "start_time": "2022-04-13T17:37:52.762Z"
   },
   {
    "duration": 271,
    "start_time": "2022-04-13T17:37:52.834Z"
   },
   {
    "duration": 21,
    "start_time": "2022-04-13T17:37:53.108Z"
   },
   {
    "duration": 31,
    "start_time": "2022-04-13T17:37:53.132Z"
   },
   {
    "duration": 398,
    "start_time": "2022-04-13T17:37:53.166Z"
   },
   {
    "duration": 236,
    "start_time": "2022-04-13T17:37:53.567Z"
   },
   {
    "duration": 64,
    "start_time": "2022-04-13T17:37:53.807Z"
   },
   {
    "duration": 10,
    "start_time": "2022-04-13T17:37:53.874Z"
   },
   {
    "duration": 43,
    "start_time": "2022-04-13T17:37:53.887Z"
   },
   {
    "duration": 21,
    "start_time": "2022-04-13T17:37:53.933Z"
   },
   {
    "duration": 9,
    "start_time": "2022-04-13T17:37:53.957Z"
   },
   {
    "duration": 21,
    "start_time": "2022-04-13T17:37:53.970Z"
   },
   {
    "duration": 38,
    "start_time": "2022-04-13T17:37:53.993Z"
   },
   {
    "duration": 509,
    "start_time": "2022-04-13T17:37:54.033Z"
   },
   {
    "duration": 52,
    "start_time": "2022-04-13T17:37:54.545Z"
   },
   {
    "duration": 216,
    "start_time": "2022-04-13T17:37:54.600Z"
   },
   {
    "duration": 140,
    "start_time": "2022-04-13T17:37:54.824Z"
   },
   {
    "duration": 118,
    "start_time": "2022-04-13T17:37:54.967Z"
   },
   {
    "duration": 6,
    "start_time": "2022-04-13T17:37:55.087Z"
   },
   {
    "duration": 34,
    "start_time": "2022-04-13T17:37:55.096Z"
   },
   {
    "duration": 17,
    "start_time": "2022-04-13T17:37:55.133Z"
   },
   {
    "duration": 10,
    "start_time": "2022-04-13T17:37:55.153Z"
   },
   {
    "duration": 65,
    "start_time": "2022-04-13T17:37:55.165Z"
   },
   {
    "duration": 23,
    "start_time": "2022-04-13T17:37:55.233Z"
   },
   {
    "duration": 21,
    "start_time": "2022-04-13T17:37:55.258Z"
   },
   {
    "duration": 48,
    "start_time": "2022-04-13T17:37:55.281Z"
   },
   {
    "duration": 8,
    "start_time": "2022-04-13T17:37:55.331Z"
   },
   {
    "duration": 10,
    "start_time": "2022-04-13T17:37:55.343Z"
   },
   {
    "duration": 14,
    "start_time": "2022-04-13T17:37:55.356Z"
   },
   {
    "duration": 98,
    "start_time": "2022-04-13T17:37:55.373Z"
   },
   {
    "duration": 12,
    "start_time": "2022-04-13T17:37:55.474Z"
   },
   {
    "duration": 45,
    "start_time": "2022-04-13T17:37:55.488Z"
   },
   {
    "duration": 7,
    "start_time": "2022-04-13T17:37:55.536Z"
   },
   {
    "duration": 27,
    "start_time": "2022-04-13T17:37:55.546Z"
   },
   {
    "duration": 297,
    "start_time": "2022-04-13T17:37:55.575Z"
   },
   {
    "duration": 2552,
    "start_time": "2022-04-13T17:37:55.875Z"
   },
   {
    "duration": 0,
    "start_time": "2022-04-13T17:37:58.430Z"
   },
   {
    "duration": 0,
    "start_time": "2022-04-13T17:37:58.431Z"
   },
   {
    "duration": 1,
    "start_time": "2022-04-13T17:37:58.433Z"
   },
   {
    "duration": 0,
    "start_time": "2022-04-13T17:37:58.435Z"
   },
   {
    "duration": 0,
    "start_time": "2022-04-13T17:37:58.437Z"
   },
   {
    "duration": 49,
    "start_time": "2022-04-25T17:52:24.357Z"
   },
   {
    "duration": 482,
    "start_time": "2022-04-25T17:53:00.022Z"
   },
   {
    "duration": 90,
    "start_time": "2022-04-25T17:53:00.506Z"
   },
   {
    "duration": 36,
    "start_time": "2022-04-25T17:53:00.598Z"
   },
   {
    "duration": 19,
    "start_time": "2022-04-25T17:53:00.637Z"
   },
   {
    "duration": 87,
    "start_time": "2022-04-25T17:53:00.658Z"
   },
   {
    "duration": 40,
    "start_time": "2022-04-25T17:53:00.746Z"
   },
   {
    "duration": 23,
    "start_time": "2022-04-25T17:53:00.788Z"
   },
   {
    "duration": 18,
    "start_time": "2022-04-25T17:53:00.813Z"
   },
   {
    "duration": 24,
    "start_time": "2022-04-25T17:53:00.833Z"
   },
   {
    "duration": 51,
    "start_time": "2022-04-25T17:53:00.860Z"
   },
   {
    "duration": 20,
    "start_time": "2022-04-25T17:53:00.912Z"
   },
   {
    "duration": 45,
    "start_time": "2022-04-25T17:53:00.934Z"
   },
   {
    "duration": 4,
    "start_time": "2022-04-25T17:53:00.982Z"
   },
   {
    "duration": 67,
    "start_time": "2022-04-25T17:53:00.987Z"
   },
   {
    "duration": 38,
    "start_time": "2022-04-25T17:53:01.057Z"
   },
   {
    "duration": 16,
    "start_time": "2022-04-25T17:53:01.097Z"
   },
   {
    "duration": 33,
    "start_time": "2022-04-25T17:53:01.114Z"
   },
   {
    "duration": 34,
    "start_time": "2022-04-25T17:53:01.149Z"
   },
   {
    "duration": 60,
    "start_time": "2022-04-25T17:53:01.185Z"
   },
   {
    "duration": 4,
    "start_time": "2022-04-25T17:53:01.247Z"
   },
   {
    "duration": 21,
    "start_time": "2022-04-25T17:53:01.253Z"
   },
   {
    "duration": 45,
    "start_time": "2022-04-25T17:53:01.276Z"
   },
   {
    "duration": 8,
    "start_time": "2022-04-25T17:53:01.323Z"
   },
   {
    "duration": 40,
    "start_time": "2022-04-25T17:53:01.333Z"
   },
   {
    "duration": 39,
    "start_time": "2022-04-25T17:53:01.374Z"
   },
   {
    "duration": 6,
    "start_time": "2022-04-25T17:53:01.415Z"
   },
   {
    "duration": 92,
    "start_time": "2022-04-25T17:53:01.422Z"
   },
   {
    "duration": 40,
    "start_time": "2022-04-25T17:53:01.519Z"
   },
   {
    "duration": 25,
    "start_time": "2022-04-25T17:53:01.562Z"
   },
   {
    "duration": 8,
    "start_time": "2022-04-25T17:53:01.589Z"
   },
   {
    "duration": 22,
    "start_time": "2022-04-25T17:53:01.599Z"
   },
   {
    "duration": 29,
    "start_time": "2022-04-25T17:53:01.623Z"
   },
   {
    "duration": 31,
    "start_time": "2022-04-25T17:53:01.654Z"
   },
   {
    "duration": 22,
    "start_time": "2022-04-25T17:53:01.688Z"
   },
   {
    "duration": 23,
    "start_time": "2022-04-25T17:53:01.712Z"
   },
   {
    "duration": 19,
    "start_time": "2022-04-25T17:53:01.738Z"
   },
   {
    "duration": 22,
    "start_time": "2022-04-25T17:53:01.759Z"
   },
   {
    "duration": 18,
    "start_time": "2022-04-25T17:53:01.783Z"
   },
   {
    "duration": 407,
    "start_time": "2022-04-25T17:53:01.803Z"
   },
   {
    "duration": 5,
    "start_time": "2022-04-25T17:53:02.212Z"
   },
   {
    "duration": 12,
    "start_time": "2022-04-25T17:53:02.219Z"
   },
   {
    "duration": 37,
    "start_time": "2022-04-25T17:53:02.233Z"
   },
   {
    "duration": 10,
    "start_time": "2022-04-25T17:53:02.271Z"
   },
   {
    "duration": 551,
    "start_time": "2022-04-25T17:53:02.283Z"
   },
   {
    "duration": 225,
    "start_time": "2022-04-25T17:53:02.837Z"
   },
   {
    "duration": 46,
    "start_time": "2022-04-25T17:53:03.063Z"
   },
   {
    "duration": 10,
    "start_time": "2022-04-25T17:53:03.111Z"
   },
   {
    "duration": 275,
    "start_time": "2022-04-25T17:53:03.123Z"
   },
   {
    "duration": 8,
    "start_time": "2022-04-25T17:53:03.400Z"
   },
   {
    "duration": 8,
    "start_time": "2022-04-25T17:53:03.409Z"
   },
   {
    "duration": 5,
    "start_time": "2022-04-25T17:53:03.418Z"
   },
   {
    "duration": 13,
    "start_time": "2022-04-25T17:53:03.425Z"
   },
   {
    "duration": 53,
    "start_time": "2022-04-25T17:53:03.440Z"
   },
   {
    "duration": 263,
    "start_time": "2022-04-25T17:53:03.495Z"
   },
   {
    "duration": 153,
    "start_time": "2022-04-25T17:53:03.760Z"
   },
   {
    "duration": 6,
    "start_time": "2022-04-25T17:53:03.915Z"
   },
   {
    "duration": 50,
    "start_time": "2022-04-25T17:53:03.923Z"
   },
   {
    "duration": 219,
    "start_time": "2022-04-25T17:53:03.975Z"
   },
   {
    "duration": 11,
    "start_time": "2022-04-25T17:53:04.196Z"
   },
   {
    "duration": 21,
    "start_time": "2022-04-25T17:53:04.209Z"
   },
   {
    "duration": 267,
    "start_time": "2022-04-25T17:53:04.232Z"
   },
   {
    "duration": 150,
    "start_time": "2022-04-25T17:53:04.501Z"
   },
   {
    "duration": 46,
    "start_time": "2022-04-25T17:53:04.653Z"
   },
   {
    "duration": 6,
    "start_time": "2022-04-25T17:53:04.700Z"
   },
   {
    "duration": 11,
    "start_time": "2022-04-25T17:53:04.708Z"
   },
   {
    "duration": 10,
    "start_time": "2022-04-25T17:53:04.721Z"
   },
   {
    "duration": 6,
    "start_time": "2022-04-25T17:53:04.732Z"
   },
   {
    "duration": 46,
    "start_time": "2022-04-25T17:53:04.740Z"
   },
   {
    "duration": 12,
    "start_time": "2022-04-25T17:53:04.789Z"
   },
   {
    "duration": 371,
    "start_time": "2022-04-25T17:53:04.804Z"
   },
   {
    "duration": 34,
    "start_time": "2022-04-25T17:53:05.177Z"
   },
   {
    "duration": 129,
    "start_time": "2022-04-25T17:53:05.213Z"
   },
   {
    "duration": 105,
    "start_time": "2022-04-25T17:53:05.344Z"
   },
   {
    "duration": 75,
    "start_time": "2022-04-25T17:53:05.451Z"
   },
   {
    "duration": 5,
    "start_time": "2022-04-25T17:53:05.528Z"
   },
   {
    "duration": 17,
    "start_time": "2022-04-25T17:53:05.535Z"
   },
   {
    "duration": 30,
    "start_time": "2022-04-25T17:53:05.554Z"
   },
   {
    "duration": 11,
    "start_time": "2022-04-25T17:53:05.586Z"
   },
   {
    "duration": 28,
    "start_time": "2022-04-25T17:53:05.599Z"
   },
   {
    "duration": 20,
    "start_time": "2022-04-25T17:53:05.629Z"
   },
   {
    "duration": 42,
    "start_time": "2022-04-25T17:53:05.651Z"
   },
   {
    "duration": 9,
    "start_time": "2022-04-25T17:53:05.701Z"
   },
   {
    "duration": 8,
    "start_time": "2022-04-25T17:53:05.712Z"
   },
   {
    "duration": 11,
    "start_time": "2022-04-25T17:53:05.722Z"
   },
   {
    "duration": 19,
    "start_time": "2022-04-25T17:53:05.734Z"
   },
   {
    "duration": 50,
    "start_time": "2022-04-25T17:53:05.755Z"
   },
   {
    "duration": 8,
    "start_time": "2022-04-25T17:53:05.807Z"
   },
   {
    "duration": 14,
    "start_time": "2022-04-25T17:53:05.817Z"
   },
   {
    "duration": 5,
    "start_time": "2022-04-25T17:53:05.833Z"
   },
   {
    "duration": 46,
    "start_time": "2022-04-25T17:53:05.839Z"
   },
   {
    "duration": 178,
    "start_time": "2022-04-25T17:53:05.887Z"
   },
   {
    "duration": 10,
    "start_time": "2022-04-25T17:53:06.066Z"
   },
   {
    "duration": 67,
    "start_time": "2022-04-25T17:53:06.078Z"
   },
   {
    "duration": 3,
    "start_time": "2022-04-25T17:53:06.147Z"
   },
   {
    "duration": 28,
    "start_time": "2022-04-25T17:53:06.152Z"
   },
   {
    "duration": 15,
    "start_time": "2022-04-25T17:53:06.181Z"
   },
   {
    "duration": 15,
    "start_time": "2022-04-25T17:53:06.198Z"
   },
   {
    "duration": 11,
    "start_time": "2022-04-25T17:53:49.784Z"
   },
   {
    "duration": 15,
    "start_time": "2022-04-25T17:54:15.774Z"
   },
   {
    "duration": 10,
    "start_time": "2022-04-25T17:54:34.914Z"
   },
   {
    "duration": 10,
    "start_time": "2022-04-25T17:55:53.554Z"
   },
   {
    "duration": 10,
    "start_time": "2022-04-25T17:56:07.840Z"
   },
   {
    "duration": 11,
    "start_time": "2022-04-25T17:56:38.407Z"
   },
   {
    "duration": 13,
    "start_time": "2022-04-25T17:57:01.583Z"
   },
   {
    "duration": 74,
    "start_time": "2022-04-25T18:05:07.497Z"
   },
   {
    "duration": 6,
    "start_time": "2022-04-25T18:05:19.381Z"
   },
   {
    "duration": 16,
    "start_time": "2022-04-25T18:05:24.853Z"
   },
   {
    "duration": 4,
    "start_time": "2022-04-25T18:06:42.027Z"
   },
   {
    "duration": 485,
    "start_time": "2022-04-25T18:06:59.959Z"
   },
   {
    "duration": 91,
    "start_time": "2022-04-25T18:07:00.446Z"
   },
   {
    "duration": 42,
    "start_time": "2022-04-25T18:07:00.539Z"
   },
   {
    "duration": 16,
    "start_time": "2022-04-25T18:07:00.583Z"
   },
   {
    "duration": 88,
    "start_time": "2022-04-25T18:07:00.601Z"
   },
   {
    "duration": 23,
    "start_time": "2022-04-25T18:07:00.691Z"
   },
   {
    "duration": 24,
    "start_time": "2022-04-25T18:07:00.716Z"
   },
   {
    "duration": 5,
    "start_time": "2022-04-25T18:07:00.742Z"
   },
   {
    "duration": 5,
    "start_time": "2022-04-25T18:07:00.773Z"
   },
   {
    "duration": 46,
    "start_time": "2022-04-25T18:07:00.781Z"
   },
   {
    "duration": 10,
    "start_time": "2022-04-25T18:07:00.829Z"
   },
   {
    "duration": 22,
    "start_time": "2022-04-25T18:07:00.840Z"
   },
   {
    "duration": 43,
    "start_time": "2022-04-25T18:07:00.872Z"
   },
   {
    "duration": 4,
    "start_time": "2022-04-25T18:07:00.917Z"
   },
   {
    "duration": 63,
    "start_time": "2022-04-25T18:07:00.923Z"
   },
   {
    "duration": 40,
    "start_time": "2022-04-25T18:07:00.988Z"
   },
   {
    "duration": 8,
    "start_time": "2022-04-25T18:07:01.030Z"
   },
   {
    "duration": 38,
    "start_time": "2022-04-25T18:07:01.040Z"
   },
   {
    "duration": 24,
    "start_time": "2022-04-25T18:07:01.080Z"
   },
   {
    "duration": 61,
    "start_time": "2022-04-25T18:07:01.106Z"
   },
   {
    "duration": 19,
    "start_time": "2022-04-25T18:07:01.169Z"
   },
   {
    "duration": 17,
    "start_time": "2022-04-25T18:07:01.190Z"
   },
   {
    "duration": 61,
    "start_time": "2022-04-25T18:07:01.208Z"
   },
   {
    "duration": 7,
    "start_time": "2022-04-25T18:07:01.271Z"
   },
   {
    "duration": 28,
    "start_time": "2022-04-25T18:07:01.280Z"
   },
   {
    "duration": 37,
    "start_time": "2022-04-25T18:07:01.310Z"
   },
   {
    "duration": 7,
    "start_time": "2022-04-25T18:07:01.349Z"
   },
   {
    "duration": 75,
    "start_time": "2022-04-25T18:07:01.373Z"
   },
   {
    "duration": 60,
    "start_time": "2022-04-25T18:07:01.450Z"
   },
   {
    "duration": 14,
    "start_time": "2022-04-25T18:07:01.511Z"
   },
   {
    "duration": 5,
    "start_time": "2022-04-25T18:07:01.527Z"
   },
   {
    "duration": 9,
    "start_time": "2022-04-25T18:07:01.534Z"
   },
   {
    "duration": 31,
    "start_time": "2022-04-25T18:07:01.544Z"
   },
   {
    "duration": 13,
    "start_time": "2022-04-25T18:07:01.577Z"
   },
   {
    "duration": 20,
    "start_time": "2022-04-25T18:07:01.592Z"
   },
   {
    "duration": 5,
    "start_time": "2022-04-25T18:07:01.614Z"
   },
   {
    "duration": 11,
    "start_time": "2022-04-25T18:07:01.620Z"
   },
   {
    "duration": 6,
    "start_time": "2022-04-25T18:07:01.633Z"
   },
   {
    "duration": 35,
    "start_time": "2022-04-25T18:07:01.641Z"
   },
   {
    "duration": 4,
    "start_time": "2022-04-25T18:07:01.678Z"
   },
   {
    "duration": 400,
    "start_time": "2022-04-25T18:07:01.683Z"
   },
   {
    "duration": 4,
    "start_time": "2022-04-25T18:07:02.085Z"
   },
   {
    "duration": 40,
    "start_time": "2022-04-25T18:07:02.091Z"
   },
   {
    "duration": 39,
    "start_time": "2022-04-25T18:07:02.133Z"
   },
   {
    "duration": 31,
    "start_time": "2022-04-25T18:07:02.174Z"
   },
   {
    "duration": 416,
    "start_time": "2022-04-25T18:07:02.206Z"
   },
   {
    "duration": 243,
    "start_time": "2022-04-25T18:07:02.623Z"
   },
   {
    "duration": 42,
    "start_time": "2022-04-25T18:07:02.868Z"
   },
   {
    "duration": 10,
    "start_time": "2022-04-25T18:07:02.912Z"
   },
   {
    "duration": 279,
    "start_time": "2022-04-25T18:07:02.923Z"
   },
   {
    "duration": 8,
    "start_time": "2022-04-25T18:07:03.203Z"
   },
   {
    "duration": 6,
    "start_time": "2022-04-25T18:07:03.213Z"
   },
   {
    "duration": 8,
    "start_time": "2022-04-25T18:07:03.221Z"
   },
   {
    "duration": 11,
    "start_time": "2022-04-25T18:07:03.231Z"
   },
   {
    "duration": 47,
    "start_time": "2022-04-25T18:07:03.244Z"
   },
   {
    "duration": 275,
    "start_time": "2022-04-25T18:07:03.293Z"
   },
   {
    "duration": 155,
    "start_time": "2022-04-25T18:07:03.570Z"
   },
   {
    "duration": 6,
    "start_time": "2022-04-25T18:07:03.727Z"
   },
   {
    "duration": 47,
    "start_time": "2022-04-25T18:07:03.735Z"
   },
   {
    "duration": 175,
    "start_time": "2022-04-25T18:07:03.784Z"
   },
   {
    "duration": 19,
    "start_time": "2022-04-25T18:07:03.961Z"
   },
   {
    "duration": 23,
    "start_time": "2022-04-25T18:07:03.982Z"
   },
   {
    "duration": 262,
    "start_time": "2022-04-25T18:07:04.007Z"
   },
   {
    "duration": 158,
    "start_time": "2022-04-25T18:07:04.273Z"
   },
   {
    "duration": 48,
    "start_time": "2022-04-25T18:07:04.433Z"
   },
   {
    "duration": 21,
    "start_time": "2022-04-25T18:07:04.483Z"
   },
   {
    "duration": 21,
    "start_time": "2022-04-25T18:07:04.505Z"
   },
   {
    "duration": 29,
    "start_time": "2022-04-25T18:07:04.528Z"
   },
   {
    "duration": 29,
    "start_time": "2022-04-25T18:07:04.559Z"
   },
   {
    "duration": 33,
    "start_time": "2022-04-25T18:07:04.590Z"
   },
   {
    "duration": 18,
    "start_time": "2022-04-25T18:07:04.625Z"
   },
   {
    "duration": 375,
    "start_time": "2022-04-25T18:07:04.644Z"
   },
   {
    "duration": 34,
    "start_time": "2022-04-25T18:07:05.021Z"
   },
   {
    "duration": 149,
    "start_time": "2022-04-25T18:07:05.057Z"
   },
   {
    "duration": 98,
    "start_time": "2022-04-25T18:07:05.208Z"
   },
   {
    "duration": 75,
    "start_time": "2022-04-25T18:07:05.308Z"
   },
   {
    "duration": 4,
    "start_time": "2022-04-25T18:07:05.385Z"
   },
   {
    "duration": 22,
    "start_time": "2022-04-25T18:07:05.392Z"
   },
   {
    "duration": 13,
    "start_time": "2022-04-25T18:07:05.416Z"
   },
   {
    "duration": 22,
    "start_time": "2022-04-25T18:07:05.431Z"
   },
   {
    "duration": 45,
    "start_time": "2022-04-25T18:07:05.455Z"
   },
   {
    "duration": 32,
    "start_time": "2022-04-25T18:07:05.506Z"
   },
   {
    "duration": 16,
    "start_time": "2022-04-25T18:07:05.540Z"
   },
   {
    "duration": 9,
    "start_time": "2022-04-25T18:07:05.557Z"
   },
   {
    "duration": 16,
    "start_time": "2022-04-25T18:07:05.568Z"
   },
   {
    "duration": 25,
    "start_time": "2022-04-25T18:07:05.586Z"
   },
   {
    "duration": 12,
    "start_time": "2022-04-25T18:07:05.612Z"
   },
   {
    "duration": 61,
    "start_time": "2022-04-25T18:07:05.626Z"
   },
   {
    "duration": 11,
    "start_time": "2022-04-25T18:07:05.689Z"
   },
   {
    "duration": 40,
    "start_time": "2022-04-25T18:07:05.703Z"
   },
   {
    "duration": 5,
    "start_time": "2022-04-25T18:07:05.745Z"
   },
   {
    "duration": 20,
    "start_time": "2022-04-25T18:07:05.752Z"
   },
   {
    "duration": 201,
    "start_time": "2022-04-25T18:07:05.775Z"
   },
   {
    "duration": 7,
    "start_time": "2022-04-25T18:07:05.978Z"
   },
   {
    "duration": 89,
    "start_time": "2022-04-25T18:07:05.987Z"
   },
   {
    "duration": 4,
    "start_time": "2022-04-25T18:07:06.078Z"
   },
   {
    "duration": 11,
    "start_time": "2022-04-25T18:07:06.084Z"
   },
   {
    "duration": 13,
    "start_time": "2022-04-25T18:07:06.097Z"
   },
   {
    "duration": 17,
    "start_time": "2022-04-25T18:07:06.112Z"
   },
   {
    "duration": 122,
    "start_time": "2022-04-25T18:09:32.142Z"
   },
   {
    "duration": 220,
    "start_time": "2022-04-25T18:14:23.150Z"
   },
   {
    "duration": 159,
    "start_time": "2022-04-25T18:14:28.974Z"
   },
   {
    "duration": 13,
    "start_time": "2022-04-25T18:15:12.262Z"
   },
   {
    "duration": 168,
    "start_time": "2022-04-25T18:15:29.233Z"
   },
   {
    "duration": 149,
    "start_time": "2022-04-25T18:15:41.783Z"
   },
   {
    "duration": 74,
    "start_time": "2022-04-25T18:15:55.549Z"
   },
   {
    "duration": 152,
    "start_time": "2022-04-25T18:17:34.506Z"
   },
   {
    "duration": 10,
    "start_time": "2022-04-25T18:21:33.695Z"
   },
   {
    "duration": 4,
    "start_time": "2022-04-25T18:21:42.720Z"
   },
   {
    "duration": 155,
    "start_time": "2022-04-25T18:22:00.534Z"
   },
   {
    "duration": 262,
    "start_time": "2022-04-25T18:23:07.058Z"
   },
   {
    "duration": 137,
    "start_time": "2022-04-25T18:23:23.345Z"
   },
   {
    "duration": 138,
    "start_time": "2022-04-25T18:26:53.416Z"
   },
   {
    "duration": 160,
    "start_time": "2022-04-25T18:29:44.115Z"
   },
   {
    "duration": 161,
    "start_time": "2022-04-25T18:31:44.941Z"
   },
   {
    "duration": 189,
    "start_time": "2022-04-25T18:31:50.908Z"
   },
   {
    "duration": 212,
    "start_time": "2022-04-25T18:35:17.986Z"
   },
   {
    "duration": 10,
    "start_time": "2022-04-25T18:36:08.034Z"
   },
   {
    "duration": 13,
    "start_time": "2022-04-25T18:36:42.401Z"
   },
   {
    "duration": 8,
    "start_time": "2022-04-25T18:37:05.327Z"
   },
   {
    "duration": 16,
    "start_time": "2022-04-25T18:37:14.633Z"
   },
   {
    "duration": 18,
    "start_time": "2022-04-25T18:37:29.584Z"
   },
   {
    "duration": 10,
    "start_time": "2022-04-25T18:37:33.832Z"
   },
   {
    "duration": 7,
    "start_time": "2022-04-25T18:37:36.475Z"
   },
   {
    "duration": 11,
    "start_time": "2022-04-25T18:37:39.170Z"
   },
   {
    "duration": 9,
    "start_time": "2022-04-25T18:38:12.568Z"
   },
   {
    "duration": 15,
    "start_time": "2022-04-25T18:38:20.143Z"
   },
   {
    "duration": 4,
    "start_time": "2022-04-25T18:42:17.029Z"
   },
   {
    "duration": 7,
    "start_time": "2022-04-25T18:42:26.748Z"
   },
   {
    "duration": 14,
    "start_time": "2022-04-25T18:42:30.418Z"
   },
   {
    "duration": 658,
    "start_time": "2022-04-25T18:42:43.732Z"
   },
   {
    "duration": 91,
    "start_time": "2022-04-25T18:42:44.392Z"
   },
   {
    "duration": 33,
    "start_time": "2022-04-25T18:42:44.485Z"
   },
   {
    "duration": 16,
    "start_time": "2022-04-25T18:42:44.521Z"
   },
   {
    "duration": 101,
    "start_time": "2022-04-25T18:42:44.539Z"
   },
   {
    "duration": 33,
    "start_time": "2022-04-25T18:42:44.641Z"
   },
   {
    "duration": 25,
    "start_time": "2022-04-25T18:42:44.676Z"
   },
   {
    "duration": 9,
    "start_time": "2022-04-25T18:42:44.703Z"
   },
   {
    "duration": 7,
    "start_time": "2022-04-25T18:42:44.714Z"
   },
   {
    "duration": 53,
    "start_time": "2022-04-25T18:42:44.723Z"
   },
   {
    "duration": 10,
    "start_time": "2022-04-25T18:42:44.778Z"
   },
   {
    "duration": 12,
    "start_time": "2022-04-25T18:42:44.790Z"
   },
   {
    "duration": 44,
    "start_time": "2022-04-25T18:42:44.804Z"
   },
   {
    "duration": 4,
    "start_time": "2022-04-25T18:42:44.874Z"
   },
   {
    "duration": 39,
    "start_time": "2022-04-25T18:42:44.880Z"
   },
   {
    "duration": 64,
    "start_time": "2022-04-25T18:42:44.921Z"
   },
   {
    "duration": 7,
    "start_time": "2022-04-25T18:42:44.986Z"
   },
   {
    "duration": 25,
    "start_time": "2022-04-25T18:42:44.995Z"
   },
   {
    "duration": 4,
    "start_time": "2022-04-25T18:42:45.022Z"
   },
   {
    "duration": 47,
    "start_time": "2022-04-25T18:42:45.028Z"
   },
   {
    "duration": 4,
    "start_time": "2022-04-25T18:42:45.076Z"
   },
   {
    "duration": 25,
    "start_time": "2022-04-25T18:42:45.082Z"
   },
   {
    "duration": 63,
    "start_time": "2022-04-25T18:42:45.109Z"
   },
   {
    "duration": 6,
    "start_time": "2022-04-25T18:42:45.174Z"
   },
   {
    "duration": 22,
    "start_time": "2022-04-25T18:42:45.182Z"
   },
   {
    "duration": 37,
    "start_time": "2022-04-25T18:42:45.206Z"
   },
   {
    "duration": 28,
    "start_time": "2022-04-25T18:42:45.245Z"
   },
   {
    "duration": 69,
    "start_time": "2022-04-25T18:42:45.278Z"
   },
   {
    "duration": 57,
    "start_time": "2022-04-25T18:42:45.349Z"
   },
   {
    "duration": 13,
    "start_time": "2022-04-25T18:42:45.408Z"
   },
   {
    "duration": 5,
    "start_time": "2022-04-25T18:42:45.423Z"
   },
   {
    "duration": 6,
    "start_time": "2022-04-25T18:42:45.430Z"
   },
   {
    "duration": 5,
    "start_time": "2022-04-25T18:42:45.438Z"
   },
   {
    "duration": 9,
    "start_time": "2022-04-25T18:42:45.473Z"
   },
   {
    "duration": 16,
    "start_time": "2022-04-25T18:42:45.483Z"
   },
   {
    "duration": 4,
    "start_time": "2022-04-25T18:42:45.501Z"
   },
   {
    "duration": 7,
    "start_time": "2022-04-25T18:42:45.507Z"
   },
   {
    "duration": 8,
    "start_time": "2022-04-25T18:42:45.515Z"
   },
   {
    "duration": 6,
    "start_time": "2022-04-25T18:42:45.525Z"
   },
   {
    "duration": 5,
    "start_time": "2022-04-25T18:42:45.533Z"
   },
   {
    "duration": 329,
    "start_time": "2022-04-25T18:42:45.540Z"
   },
   {
    "duration": 5,
    "start_time": "2022-04-25T18:42:45.871Z"
   },
   {
    "duration": 7,
    "start_time": "2022-04-25T18:42:45.877Z"
   },
   {
    "duration": 27,
    "start_time": "2022-04-25T18:42:45.886Z"
   },
   {
    "duration": 9,
    "start_time": "2022-04-25T18:42:45.915Z"
   },
   {
    "duration": 182,
    "start_time": "2022-04-25T18:42:45.926Z"
   },
   {
    "duration": 215,
    "start_time": "2022-04-25T18:42:46.110Z"
   },
   {
    "duration": 47,
    "start_time": "2022-04-25T18:42:46.327Z"
   },
   {
    "duration": 10,
    "start_time": "2022-04-25T18:42:46.377Z"
   },
   {
    "duration": 267,
    "start_time": "2022-04-25T18:42:46.389Z"
   },
   {
    "duration": 16,
    "start_time": "2022-04-25T18:42:46.658Z"
   },
   {
    "duration": 8,
    "start_time": "2022-04-25T18:42:46.676Z"
   },
   {
    "duration": 6,
    "start_time": "2022-04-25T18:42:46.686Z"
   },
   {
    "duration": 9,
    "start_time": "2022-04-25T18:42:46.693Z"
   },
   {
    "duration": 20,
    "start_time": "2022-04-25T18:42:46.704Z"
   },
   {
    "duration": 272,
    "start_time": "2022-04-25T18:42:46.726Z"
   },
   {
    "duration": 143,
    "start_time": "2022-04-25T18:42:47.000Z"
   },
   {
    "duration": 5,
    "start_time": "2022-04-25T18:42:47.145Z"
   },
   {
    "duration": 42,
    "start_time": "2022-04-25T18:42:47.151Z"
   },
   {
    "duration": 192,
    "start_time": "2022-04-25T18:42:47.194Z"
   },
   {
    "duration": 9,
    "start_time": "2022-04-25T18:42:47.388Z"
   },
   {
    "duration": 22,
    "start_time": "2022-04-25T18:42:47.399Z"
   },
   {
    "duration": 243,
    "start_time": "2022-04-25T18:42:47.422Z"
   },
   {
    "duration": 136,
    "start_time": "2022-04-25T18:42:47.667Z"
   },
   {
    "duration": 35,
    "start_time": "2022-04-25T18:42:47.805Z"
   },
   {
    "duration": 6,
    "start_time": "2022-04-25T18:42:47.842Z"
   },
   {
    "duration": 30,
    "start_time": "2022-04-25T18:42:47.849Z"
   },
   {
    "duration": 9,
    "start_time": "2022-04-25T18:42:47.881Z"
   },
   {
    "duration": 7,
    "start_time": "2022-04-25T18:42:47.892Z"
   },
   {
    "duration": 15,
    "start_time": "2022-04-25T18:42:47.901Z"
   },
   {
    "duration": 9,
    "start_time": "2022-04-25T18:42:47.917Z"
   },
   {
    "duration": 347,
    "start_time": "2022-04-25T18:42:47.928Z"
   },
   {
    "duration": 33,
    "start_time": "2022-04-25T18:42:48.277Z"
   },
   {
    "duration": 122,
    "start_time": "2022-04-25T18:42:48.312Z"
   },
   {
    "duration": 101,
    "start_time": "2022-04-25T18:42:48.436Z"
   },
   {
    "duration": 70,
    "start_time": "2022-04-25T18:42:48.539Z"
   },
   {
    "duration": 4,
    "start_time": "2022-04-25T18:42:48.610Z"
   },
   {
    "duration": 15,
    "start_time": "2022-04-25T18:42:48.615Z"
   },
   {
    "duration": 11,
    "start_time": "2022-04-25T18:42:48.631Z"
   },
   {
    "duration": 7,
    "start_time": "2022-04-25T18:42:48.643Z"
   },
   {
    "duration": 36,
    "start_time": "2022-04-25T18:42:48.651Z"
   },
   {
    "duration": 14,
    "start_time": "2022-04-25T18:42:48.692Z"
   },
   {
    "duration": 13,
    "start_time": "2022-04-25T18:42:48.707Z"
   },
   {
    "duration": 6,
    "start_time": "2022-04-25T18:42:48.722Z"
   },
   {
    "duration": 6,
    "start_time": "2022-04-25T18:42:48.729Z"
   },
   {
    "duration": 8,
    "start_time": "2022-04-25T18:42:48.773Z"
   },
   {
    "duration": 11,
    "start_time": "2022-04-25T18:42:48.782Z"
   },
   {
    "duration": 35,
    "start_time": "2022-04-25T18:42:48.795Z"
   },
   {
    "duration": 7,
    "start_time": "2022-04-25T18:42:48.832Z"
   },
   {
    "duration": 39,
    "start_time": "2022-04-25T18:42:48.841Z"
   },
   {
    "duration": 4,
    "start_time": "2022-04-25T18:42:48.882Z"
   },
   {
    "duration": 29,
    "start_time": "2022-04-25T18:42:48.888Z"
   },
   {
    "duration": 179,
    "start_time": "2022-04-25T18:42:48.919Z"
   },
   {
    "duration": 5,
    "start_time": "2022-04-25T18:42:49.100Z"
   },
   {
    "duration": 77,
    "start_time": "2022-04-25T18:42:49.106Z"
   },
   {
    "duration": 4,
    "start_time": "2022-04-25T18:42:49.185Z"
   },
   {
    "duration": 12,
    "start_time": "2022-04-25T18:42:49.190Z"
   },
   {
    "duration": 12,
    "start_time": "2022-04-25T18:42:49.204Z"
   },
   {
    "duration": 12,
    "start_time": "2022-04-25T18:42:49.217Z"
   },
   {
    "duration": 4,
    "start_time": "2022-04-25T18:43:44.446Z"
   },
   {
    "duration": 9,
    "start_time": "2022-04-25T18:43:57.994Z"
   },
   {
    "duration": 9,
    "start_time": "2022-04-25T18:44:00.371Z"
   },
   {
    "duration": 7,
    "start_time": "2022-04-25T18:44:01.055Z"
   },
   {
    "duration": 8,
    "start_time": "2022-04-25T18:44:13.055Z"
   },
   {
    "duration": 15,
    "start_time": "2022-04-25T18:44:16.655Z"
   },
   {
    "duration": 7,
    "start_time": "2022-04-25T18:44:31.475Z"
   },
   {
    "duration": 148,
    "start_time": "2022-04-25T18:46:10.995Z"
   },
   {
    "duration": 91,
    "start_time": "2022-04-25T18:46:14.275Z"
   },
   {
    "duration": 465,
    "start_time": "2022-04-25T18:48:11.578Z"
   },
   {
    "duration": 101,
    "start_time": "2022-04-25T18:49:26.301Z"
   },
   {
    "duration": 7894,
    "start_time": "2022-04-25T18:52:38.968Z"
   },
   {
    "duration": 1256,
    "start_time": "2022-04-25T20:31:56.763Z"
   },
   {
    "duration": 86,
    "start_time": "2022-04-25T20:31:58.021Z"
   },
   {
    "duration": 32,
    "start_time": "2022-04-25T20:31:58.109Z"
   },
   {
    "duration": 15,
    "start_time": "2022-04-25T20:31:58.143Z"
   },
   {
    "duration": 73,
    "start_time": "2022-04-25T20:31:58.177Z"
   },
   {
    "duration": 37,
    "start_time": "2022-04-25T20:31:58.251Z"
   },
   {
    "duration": 21,
    "start_time": "2022-04-25T20:31:58.290Z"
   },
   {
    "duration": 8,
    "start_time": "2022-04-25T20:31:58.313Z"
   },
   {
    "duration": 5,
    "start_time": "2022-04-25T20:31:58.322Z"
   },
   {
    "duration": 55,
    "start_time": "2022-04-25T20:31:58.329Z"
   },
   {
    "duration": 10,
    "start_time": "2022-04-25T20:31:58.386Z"
   },
   {
    "duration": 11,
    "start_time": "2022-04-25T20:31:58.398Z"
   },
   {
    "duration": 39,
    "start_time": "2022-04-25T20:31:58.411Z"
   },
   {
    "duration": 34,
    "start_time": "2022-04-25T20:31:58.451Z"
   },
   {
    "duration": 36,
    "start_time": "2022-04-25T20:31:58.487Z"
   },
   {
    "duration": 34,
    "start_time": "2022-04-25T20:31:58.525Z"
   },
   {
    "duration": 7,
    "start_time": "2022-04-25T20:31:58.582Z"
   },
   {
    "duration": 8,
    "start_time": "2022-04-25T20:31:58.591Z"
   },
   {
    "duration": 5,
    "start_time": "2022-04-25T20:31:58.601Z"
   },
   {
    "duration": 36,
    "start_time": "2022-04-25T20:31:58.608Z"
   },
   {
    "duration": 3,
    "start_time": "2022-04-25T20:31:58.647Z"
   },
   {
    "duration": 14,
    "start_time": "2022-04-25T20:31:58.675Z"
   },
   {
    "duration": 40,
    "start_time": "2022-04-25T20:31:58.690Z"
   },
   {
    "duration": 8,
    "start_time": "2022-04-25T20:31:58.732Z"
   },
   {
    "duration": 49,
    "start_time": "2022-04-25T20:31:58.742Z"
   },
   {
    "duration": 36,
    "start_time": "2022-04-25T20:31:58.793Z"
   },
   {
    "duration": 7,
    "start_time": "2022-04-25T20:31:58.831Z"
   },
   {
    "duration": 91,
    "start_time": "2022-04-25T20:31:58.844Z"
   },
   {
    "duration": 53,
    "start_time": "2022-04-25T20:31:58.938Z"
   },
   {
    "duration": 14,
    "start_time": "2022-04-25T20:31:58.993Z"
   },
   {
    "duration": 6,
    "start_time": "2022-04-25T20:31:59.009Z"
   },
   {
    "duration": 5,
    "start_time": "2022-04-25T20:31:59.016Z"
   },
   {
    "duration": 7,
    "start_time": "2022-04-25T20:31:59.023Z"
   },
   {
    "duration": 8,
    "start_time": "2022-04-25T20:31:59.032Z"
   },
   {
    "duration": 51,
    "start_time": "2022-04-25T20:31:59.042Z"
   },
   {
    "duration": 6,
    "start_time": "2022-04-25T20:31:59.095Z"
   },
   {
    "duration": 8,
    "start_time": "2022-04-25T20:31:59.103Z"
   },
   {
    "duration": 7,
    "start_time": "2022-04-25T20:31:59.113Z"
   },
   {
    "duration": 7,
    "start_time": "2022-04-25T20:31:59.122Z"
   },
   {
    "duration": 5,
    "start_time": "2022-04-25T20:31:59.130Z"
   },
   {
    "duration": 352,
    "start_time": "2022-04-25T20:31:59.136Z"
   },
   {
    "duration": 5,
    "start_time": "2022-04-25T20:31:59.490Z"
   },
   {
    "duration": 6,
    "start_time": "2022-04-25T20:31:59.497Z"
   },
   {
    "duration": 25,
    "start_time": "2022-04-25T20:31:59.504Z"
   },
   {
    "duration": 10,
    "start_time": "2022-04-25T20:31:59.531Z"
   },
   {
    "duration": 181,
    "start_time": "2022-04-25T20:31:59.543Z"
   },
   {
    "duration": 164,
    "start_time": "2022-04-25T20:31:59.725Z"
   },
   {
    "duration": 37,
    "start_time": "2022-04-25T20:31:59.890Z"
   },
   {
    "duration": 8,
    "start_time": "2022-04-25T20:31:59.929Z"
   },
   {
    "duration": 269,
    "start_time": "2022-04-25T20:31:59.939Z"
   },
   {
    "duration": 8,
    "start_time": "2022-04-25T20:32:00.210Z"
   },
   {
    "duration": 15,
    "start_time": "2022-04-25T20:32:00.219Z"
   },
   {
    "duration": 9,
    "start_time": "2022-04-25T20:32:00.235Z"
   },
   {
    "duration": 18,
    "start_time": "2022-04-25T20:32:00.246Z"
   },
   {
    "duration": 30,
    "start_time": "2022-04-25T20:32:00.265Z"
   },
   {
    "duration": 356,
    "start_time": "2022-04-25T20:32:00.297Z"
   },
   {
    "duration": 151,
    "start_time": "2022-04-25T20:32:00.655Z"
   },
   {
    "duration": 6,
    "start_time": "2022-04-25T20:32:00.808Z"
   },
   {
    "duration": 33,
    "start_time": "2022-04-25T20:32:00.816Z"
   },
   {
    "duration": 219,
    "start_time": "2022-04-25T20:32:00.851Z"
   },
   {
    "duration": 12,
    "start_time": "2022-04-25T20:32:01.073Z"
   },
   {
    "duration": 39,
    "start_time": "2022-04-25T20:32:01.087Z"
   },
   {
    "duration": 266,
    "start_time": "2022-04-25T20:32:01.128Z"
   },
   {
    "duration": 142,
    "start_time": "2022-04-25T20:32:01.395Z"
   },
   {
    "duration": 53,
    "start_time": "2022-04-25T20:32:01.540Z"
   },
   {
    "duration": 10,
    "start_time": "2022-04-25T20:32:01.595Z"
   },
   {
    "duration": 12,
    "start_time": "2022-04-25T20:32:01.607Z"
   },
   {
    "duration": 18,
    "start_time": "2022-04-25T20:32:01.621Z"
   },
   {
    "duration": 14,
    "start_time": "2022-04-25T20:32:01.641Z"
   },
   {
    "duration": 26,
    "start_time": "2022-04-25T20:32:01.657Z"
   },
   {
    "duration": 16,
    "start_time": "2022-04-25T20:32:01.686Z"
   },
   {
    "duration": 288,
    "start_time": "2022-04-25T20:32:01.704Z"
   },
   {
    "duration": 36,
    "start_time": "2022-04-25T20:32:01.994Z"
   },
   {
    "duration": 134,
    "start_time": "2022-04-25T20:32:02.032Z"
   },
   {
    "duration": 92,
    "start_time": "2022-04-25T20:32:02.168Z"
   },
   {
    "duration": 78,
    "start_time": "2022-04-25T20:32:02.262Z"
   },
   {
    "duration": 4,
    "start_time": "2022-04-25T20:32:02.342Z"
   },
   {
    "duration": 34,
    "start_time": "2022-04-25T20:32:02.347Z"
   },
   {
    "duration": 16,
    "start_time": "2022-04-25T20:32:02.383Z"
   },
   {
    "duration": 6,
    "start_time": "2022-04-25T20:32:02.401Z"
   },
   {
    "duration": 21,
    "start_time": "2022-04-25T20:32:02.409Z"
   },
   {
    "duration": 15,
    "start_time": "2022-04-25T20:32:02.436Z"
   },
   {
    "duration": 37,
    "start_time": "2022-04-25T20:32:02.452Z"
   },
   {
    "duration": 10,
    "start_time": "2022-04-25T20:32:02.490Z"
   },
   {
    "duration": 9,
    "start_time": "2022-04-25T20:32:02.502Z"
   },
   {
    "duration": 4854,
    "start_time": "2022-04-25T20:32:02.512Z"
   },
   {
    "duration": 11,
    "start_time": "2022-04-25T20:32:07.367Z"
   },
   {
    "duration": 12,
    "start_time": "2022-04-25T20:32:07.385Z"
   },
   {
    "duration": 64,
    "start_time": "2022-04-25T20:32:07.399Z"
   },
   {
    "duration": 0,
    "start_time": "2022-04-25T20:32:07.465Z"
   },
   {
    "duration": 0,
    "start_time": "2022-04-25T20:32:07.466Z"
   },
   {
    "duration": 0,
    "start_time": "2022-04-25T20:32:07.468Z"
   },
   {
    "duration": 0,
    "start_time": "2022-04-25T20:32:07.486Z"
   },
   {
    "duration": 0,
    "start_time": "2022-04-25T20:32:07.488Z"
   },
   {
    "duration": 0,
    "start_time": "2022-04-25T20:32:07.489Z"
   },
   {
    "duration": 0,
    "start_time": "2022-04-25T20:32:07.490Z"
   },
   {
    "duration": 0,
    "start_time": "2022-04-25T20:32:07.491Z"
   },
   {
    "duration": 0,
    "start_time": "2022-04-25T20:32:07.492Z"
   },
   {
    "duration": 0,
    "start_time": "2022-04-25T20:32:07.493Z"
   },
   {
    "duration": 0,
    "start_time": "2022-04-25T20:32:07.494Z"
   },
   {
    "duration": 9,
    "start_time": "2022-04-25T20:32:35.988Z"
   },
   {
    "duration": 32,
    "start_time": "2022-04-25T20:32:36.908Z"
   },
   {
    "duration": 40,
    "start_time": "2022-04-25T20:33:10.509Z"
   },
   {
    "duration": 8,
    "start_time": "2022-04-25T20:33:35.895Z"
   },
   {
    "duration": 8,
    "start_time": "2022-04-25T20:33:41.622Z"
   },
   {
    "duration": 202,
    "start_time": "2022-04-25T20:33:42.239Z"
   },
   {
    "duration": 5,
    "start_time": "2022-04-25T20:33:47.964Z"
   },
   {
    "duration": 17,
    "start_time": "2022-04-25T20:33:51.828Z"
   },
   {
    "duration": 166,
    "start_time": "2022-04-25T20:33:52.849Z"
   },
   {
    "duration": 11,
    "start_time": "2022-04-25T20:40:23.987Z"
   },
   {
    "duration": 36658,
    "start_time": "2022-04-25T20:44:33.740Z"
   },
   {
    "duration": 4929,
    "start_time": "2022-04-25T20:45:38.388Z"
   },
   {
    "duration": 21,
    "start_time": "2022-04-25T20:50:43.751Z"
   },
   {
    "duration": 150,
    "start_time": "2022-04-25T20:50:52.490Z"
   },
   {
    "duration": 80,
    "start_time": "2022-04-25T20:51:59.030Z"
   },
   {
    "duration": 540,
    "start_time": "2022-04-25T20:52:20.212Z"
   },
   {
    "duration": 153,
    "start_time": "2022-04-25T20:55:26.643Z"
   },
   {
    "duration": 33,
    "start_time": "2022-04-25T21:09:17.286Z"
   },
   {
    "duration": 30,
    "start_time": "2022-04-25T21:09:34.732Z"
   },
   {
    "duration": 35,
    "start_time": "2022-04-25T21:10:04.710Z"
   },
   {
    "duration": 34,
    "start_time": "2022-04-25T21:10:16.427Z"
   },
   {
    "duration": 53,
    "start_time": "2022-04-26T07:48:04.162Z"
   },
   {
    "duration": 1332,
    "start_time": "2022-04-26T07:48:11.740Z"
   },
   {
    "duration": 79,
    "start_time": "2022-04-26T07:48:13.073Z"
   },
   {
    "duration": 30,
    "start_time": "2022-04-26T07:48:13.153Z"
   },
   {
    "duration": 17,
    "start_time": "2022-04-26T07:48:13.194Z"
   },
   {
    "duration": 62,
    "start_time": "2022-04-26T07:48:13.213Z"
   },
   {
    "duration": 23,
    "start_time": "2022-04-26T07:48:13.293Z"
   },
   {
    "duration": 20,
    "start_time": "2022-04-26T07:48:13.317Z"
   },
   {
    "duration": 9,
    "start_time": "2022-04-26T07:48:13.339Z"
   },
   {
    "duration": 6,
    "start_time": "2022-04-26T07:48:13.350Z"
   },
   {
    "duration": 55,
    "start_time": "2022-04-26T07:48:13.359Z"
   },
   {
    "duration": 10,
    "start_time": "2022-04-26T07:48:13.415Z"
   },
   {
    "duration": 11,
    "start_time": "2022-04-26T07:48:13.427Z"
   },
   {
    "duration": 66,
    "start_time": "2022-04-26T07:48:13.439Z"
   },
   {
    "duration": 3,
    "start_time": "2022-04-26T07:48:13.507Z"
   },
   {
    "duration": 33,
    "start_time": "2022-04-26T07:48:13.512Z"
   },
   {
    "duration": 55,
    "start_time": "2022-04-26T07:48:13.547Z"
   },
   {
    "duration": 7,
    "start_time": "2022-04-26T07:48:13.604Z"
   },
   {
    "duration": 11,
    "start_time": "2022-04-26T07:48:13.613Z"
   },
   {
    "duration": 4,
    "start_time": "2022-04-26T07:48:13.625Z"
   },
   {
    "duration": 35,
    "start_time": "2022-04-26T07:48:13.630Z"
   },
   {
    "duration": 3,
    "start_time": "2022-04-26T07:48:13.667Z"
   },
   {
    "duration": 39,
    "start_time": "2022-04-26T07:48:13.671Z"
   },
   {
    "duration": 32,
    "start_time": "2022-04-26T07:48:13.712Z"
   },
   {
    "duration": 6,
    "start_time": "2022-04-26T07:48:13.745Z"
   },
   {
    "duration": 17,
    "start_time": "2022-04-26T07:48:13.753Z"
   },
   {
    "duration": 51,
    "start_time": "2022-04-26T07:48:13.772Z"
   },
   {
    "duration": 6,
    "start_time": "2022-04-26T07:48:13.825Z"
   },
   {
    "duration": 80,
    "start_time": "2022-04-26T07:48:13.836Z"
   },
   {
    "duration": 31,
    "start_time": "2022-04-26T07:48:13.918Z"
   },
   {
    "duration": 12,
    "start_time": "2022-04-26T07:48:13.950Z"
   },
   {
    "duration": 5,
    "start_time": "2022-04-26T07:48:13.963Z"
   },
   {
    "duration": 6,
    "start_time": "2022-04-26T07:48:13.997Z"
   },
   {
    "duration": 11,
    "start_time": "2022-04-26T07:48:14.005Z"
   },
   {
    "duration": 9,
    "start_time": "2022-04-26T07:48:14.018Z"
   },
   {
    "duration": 14,
    "start_time": "2022-04-26T07:48:14.029Z"
   },
   {
    "duration": 5,
    "start_time": "2022-04-26T07:48:14.044Z"
   },
   {
    "duration": 9,
    "start_time": "2022-04-26T07:48:14.050Z"
   },
   {
    "duration": 15,
    "start_time": "2022-04-26T07:48:14.060Z"
   },
   {
    "duration": 16,
    "start_time": "2022-04-26T07:48:14.077Z"
   },
   {
    "duration": 17,
    "start_time": "2022-04-26T07:48:14.094Z"
   },
   {
    "duration": 331,
    "start_time": "2022-04-26T07:48:14.113Z"
   },
   {
    "duration": 4,
    "start_time": "2022-04-26T07:48:14.445Z"
   },
   {
    "duration": 12,
    "start_time": "2022-04-26T07:48:14.451Z"
   },
   {
    "duration": 41,
    "start_time": "2022-04-26T07:48:14.465Z"
   },
   {
    "duration": 10,
    "start_time": "2022-04-26T07:48:14.507Z"
   },
   {
    "duration": 155,
    "start_time": "2022-04-26T07:48:14.519Z"
   },
   {
    "duration": 122,
    "start_time": "2022-04-26T07:48:14.675Z"
   },
   {
    "duration": 35,
    "start_time": "2022-04-26T07:48:14.801Z"
   },
   {
    "duration": 7,
    "start_time": "2022-04-26T07:48:14.838Z"
   },
   {
    "duration": 253,
    "start_time": "2022-04-26T07:48:14.847Z"
   },
   {
    "duration": 8,
    "start_time": "2022-04-26T07:48:15.102Z"
   },
   {
    "duration": 13,
    "start_time": "2022-04-26T07:48:15.111Z"
   },
   {
    "duration": 4,
    "start_time": "2022-04-26T07:48:15.126Z"
   },
   {
    "duration": 14,
    "start_time": "2022-04-26T07:48:15.131Z"
   },
   {
    "duration": 18,
    "start_time": "2022-04-26T07:48:15.146Z"
   },
   {
    "duration": 303,
    "start_time": "2022-04-26T07:48:15.165Z"
   },
   {
    "duration": 139,
    "start_time": "2022-04-26T07:48:15.470Z"
   },
   {
    "duration": 6,
    "start_time": "2022-04-26T07:48:15.611Z"
   },
   {
    "duration": 28,
    "start_time": "2022-04-26T07:48:15.619Z"
   },
   {
    "duration": 198,
    "start_time": "2022-04-26T07:48:15.649Z"
   },
   {
    "duration": 10,
    "start_time": "2022-04-26T07:48:15.849Z"
   },
   {
    "duration": 44,
    "start_time": "2022-04-26T07:48:15.861Z"
   },
   {
    "duration": 206,
    "start_time": "2022-04-26T07:48:15.908Z"
   },
   {
    "duration": 129,
    "start_time": "2022-04-26T07:48:16.116Z"
   },
   {
    "duration": 33,
    "start_time": "2022-04-26T07:48:16.247Z"
   },
   {
    "duration": 15,
    "start_time": "2022-04-26T07:48:16.282Z"
   },
   {
    "duration": 16,
    "start_time": "2022-04-26T07:48:16.298Z"
   },
   {
    "duration": 6,
    "start_time": "2022-04-26T07:48:16.316Z"
   },
   {
    "duration": 6,
    "start_time": "2022-04-26T07:48:16.324Z"
   },
   {
    "duration": 14,
    "start_time": "2022-04-26T07:48:16.331Z"
   },
   {
    "duration": 8,
    "start_time": "2022-04-26T07:48:16.346Z"
   },
   {
    "duration": 255,
    "start_time": "2022-04-26T07:48:16.355Z"
   },
   {
    "duration": 29,
    "start_time": "2022-04-26T07:48:16.611Z"
   },
   {
    "duration": 123,
    "start_time": "2022-04-26T07:48:16.642Z"
   },
   {
    "duration": 87,
    "start_time": "2022-04-26T07:48:16.766Z"
   },
   {
    "duration": 70,
    "start_time": "2022-04-26T07:48:16.854Z"
   },
   {
    "duration": 3,
    "start_time": "2022-04-26T07:48:16.925Z"
   },
   {
    "duration": 13,
    "start_time": "2022-04-26T07:48:16.930Z"
   },
   {
    "duration": 4469,
    "start_time": "2022-04-26T07:48:16.944Z"
   },
   {
    "duration": 13,
    "start_time": "2022-04-26T07:48:21.415Z"
   },
   {
    "duration": 7,
    "start_time": "2022-04-26T07:48:21.429Z"
   },
   {
    "duration": 13,
    "start_time": "2022-04-26T07:48:21.441Z"
   },
   {
    "duration": 285,
    "start_time": "2022-04-26T07:48:21.455Z"
   },
   {
    "duration": 13,
    "start_time": "2022-04-26T07:48:21.742Z"
   },
   {
    "duration": 161,
    "start_time": "2022-04-26T07:48:21.757Z"
   },
   {
    "duration": 13,
    "start_time": "2022-04-26T07:48:21.920Z"
   },
   {
    "duration": 171,
    "start_time": "2022-04-26T07:48:21.934Z"
   },
   {
    "duration": 7,
    "start_time": "2022-04-26T07:48:22.106Z"
   },
   {
    "duration": 6,
    "start_time": "2022-04-26T07:48:22.114Z"
   },
   {
    "duration": 7,
    "start_time": "2022-04-26T07:48:22.122Z"
   },
   {
    "duration": 9,
    "start_time": "2022-04-26T07:48:22.130Z"
   },
   {
    "duration": 29,
    "start_time": "2022-04-26T07:48:22.141Z"
   },
   {
    "duration": 131,
    "start_time": "2022-04-26T07:48:22.201Z"
   },
   {
    "duration": 0,
    "start_time": "2022-04-26T07:48:22.333Z"
   },
   {
    "duration": 0,
    "start_time": "2022-04-26T07:48:22.334Z"
   },
   {
    "duration": 0,
    "start_time": "2022-04-26T07:48:22.336Z"
   },
   {
    "duration": 0,
    "start_time": "2022-04-26T07:48:22.337Z"
   },
   {
    "duration": 0,
    "start_time": "2022-04-26T07:48:22.338Z"
   },
   {
    "duration": 0,
    "start_time": "2022-04-26T07:48:22.339Z"
   },
   {
    "duration": 0,
    "start_time": "2022-04-26T07:48:22.340Z"
   },
   {
    "duration": 0,
    "start_time": "2022-04-26T07:48:22.341Z"
   },
   {
    "duration": 0,
    "start_time": "2022-04-26T07:48:22.342Z"
   },
   {
    "duration": 0,
    "start_time": "2022-04-26T07:48:22.343Z"
   },
   {
    "duration": 0,
    "start_time": "2022-04-26T07:48:22.344Z"
   },
   {
    "duration": 40,
    "start_time": "2022-04-26T07:48:35.409Z"
   },
   {
    "duration": 45,
    "start_time": "2022-04-26T07:50:58.774Z"
   },
   {
    "duration": 34,
    "start_time": "2022-04-26T07:51:10.705Z"
   },
   {
    "duration": 38,
    "start_time": "2022-04-26T07:51:17.077Z"
   },
   {
    "duration": 32,
    "start_time": "2022-04-26T07:51:22.110Z"
   },
   {
    "duration": 29,
    "start_time": "2022-04-26T07:51:29.212Z"
   },
   {
    "duration": 36,
    "start_time": "2022-04-26T07:51:53.162Z"
   },
   {
    "duration": 103,
    "start_time": "2022-04-26T07:52:56.506Z"
   },
   {
    "duration": 38,
    "start_time": "2022-04-26T07:53:01.178Z"
   },
   {
    "duration": 33,
    "start_time": "2022-04-26T07:53:15.404Z"
   },
   {
    "duration": 37,
    "start_time": "2022-04-26T07:54:01.440Z"
   },
   {
    "duration": 40,
    "start_time": "2022-04-26T07:54:25.671Z"
   },
   {
    "duration": 104,
    "start_time": "2022-04-26T07:54:42.399Z"
   },
   {
    "duration": 37,
    "start_time": "2022-04-26T07:54:50.929Z"
   },
   {
    "duration": 3,
    "start_time": "2022-04-26T07:55:31.538Z"
   },
   {
    "duration": 36,
    "start_time": "2022-04-26T07:55:37.010Z"
   },
   {
    "duration": 1241,
    "start_time": "2022-04-26T07:56:40.093Z"
   },
   {
    "duration": 87,
    "start_time": "2022-04-26T07:56:41.336Z"
   },
   {
    "duration": 35,
    "start_time": "2022-04-26T07:56:41.424Z"
   },
   {
    "duration": 34,
    "start_time": "2022-04-26T07:56:41.461Z"
   },
   {
    "duration": 71,
    "start_time": "2022-04-26T07:56:41.498Z"
   },
   {
    "duration": 37,
    "start_time": "2022-04-26T07:56:41.571Z"
   },
   {
    "duration": 29,
    "start_time": "2022-04-26T07:56:41.610Z"
   },
   {
    "duration": 8,
    "start_time": "2022-04-26T07:56:41.641Z"
   },
   {
    "duration": 13,
    "start_time": "2022-04-26T07:56:41.651Z"
   },
   {
    "duration": 40,
    "start_time": "2022-04-26T07:56:41.666Z"
   },
   {
    "duration": 9,
    "start_time": "2022-04-26T07:56:41.708Z"
   },
   {
    "duration": 12,
    "start_time": "2022-04-26T07:56:41.718Z"
   },
   {
    "duration": 63,
    "start_time": "2022-04-26T07:56:41.731Z"
   },
   {
    "duration": 4,
    "start_time": "2022-04-26T07:56:41.797Z"
   },
   {
    "duration": 38,
    "start_time": "2022-04-26T07:56:41.802Z"
   },
   {
    "duration": 53,
    "start_time": "2022-04-26T07:56:41.841Z"
   },
   {
    "duration": 6,
    "start_time": "2022-04-26T07:56:41.895Z"
   },
   {
    "duration": 11,
    "start_time": "2022-04-26T07:56:41.903Z"
   },
   {
    "duration": 6,
    "start_time": "2022-04-26T07:56:41.916Z"
   },
   {
    "duration": 36,
    "start_time": "2022-04-26T07:56:41.924Z"
   },
   {
    "duration": 4,
    "start_time": "2022-04-26T07:56:41.962Z"
   },
   {
    "duration": 34,
    "start_time": "2022-04-26T07:56:41.967Z"
   },
   {
    "duration": 42,
    "start_time": "2022-04-26T07:56:42.003Z"
   },
   {
    "duration": 7,
    "start_time": "2022-04-26T07:56:42.047Z"
   },
   {
    "duration": 38,
    "start_time": "2022-04-26T07:56:42.056Z"
   },
   {
    "duration": 35,
    "start_time": "2022-04-26T07:56:42.096Z"
   },
   {
    "duration": 7,
    "start_time": "2022-04-26T07:56:42.133Z"
   },
   {
    "duration": 91,
    "start_time": "2022-04-26T07:56:42.142Z"
   },
   {
    "duration": 35,
    "start_time": "2022-04-26T07:56:42.235Z"
   },
   {
    "duration": 28,
    "start_time": "2022-04-26T07:56:42.272Z"
   },
   {
    "duration": 6,
    "start_time": "2022-04-26T07:56:42.303Z"
   },
   {
    "duration": 6,
    "start_time": "2022-04-26T07:56:42.311Z"
   },
   {
    "duration": 7,
    "start_time": "2022-04-26T07:56:42.318Z"
   },
   {
    "duration": 10,
    "start_time": "2022-04-26T07:56:42.326Z"
   },
   {
    "duration": 20,
    "start_time": "2022-04-26T07:56:42.338Z"
   },
   {
    "duration": 32,
    "start_time": "2022-04-26T07:56:42.361Z"
   },
   {
    "duration": 7,
    "start_time": "2022-04-26T07:56:42.394Z"
   },
   {
    "duration": 6,
    "start_time": "2022-04-26T07:56:42.403Z"
   },
   {
    "duration": 10,
    "start_time": "2022-04-26T07:56:42.410Z"
   },
   {
    "duration": 8,
    "start_time": "2022-04-26T07:56:42.421Z"
   },
   {
    "duration": 335,
    "start_time": "2022-04-26T07:56:42.435Z"
   },
   {
    "duration": 4,
    "start_time": "2022-04-26T07:56:42.771Z"
   },
   {
    "duration": 17,
    "start_time": "2022-04-26T07:56:42.777Z"
   },
   {
    "duration": 24,
    "start_time": "2022-04-26T07:56:42.795Z"
   },
   {
    "duration": 8,
    "start_time": "2022-04-26T07:56:42.821Z"
   },
   {
    "duration": 163,
    "start_time": "2022-04-26T07:56:42.831Z"
   },
   {
    "duration": 140,
    "start_time": "2022-04-26T07:56:42.996Z"
   },
   {
    "duration": 33,
    "start_time": "2022-04-26T07:56:43.138Z"
   },
   {
    "duration": 25,
    "start_time": "2022-04-26T07:56:43.173Z"
   },
   {
    "duration": 241,
    "start_time": "2022-04-26T07:56:43.200Z"
   },
   {
    "duration": 8,
    "start_time": "2022-04-26T07:56:43.443Z"
   },
   {
    "duration": 8,
    "start_time": "2022-04-26T07:56:43.453Z"
   },
   {
    "duration": 5,
    "start_time": "2022-04-26T07:56:43.463Z"
   },
   {
    "duration": 9,
    "start_time": "2022-04-26T07:56:43.493Z"
   },
   {
    "duration": 20,
    "start_time": "2022-04-26T07:56:43.504Z"
   },
   {
    "duration": 338,
    "start_time": "2022-04-26T07:56:43.527Z"
   },
   {
    "duration": 143,
    "start_time": "2022-04-26T07:56:43.867Z"
   },
   {
    "duration": 6,
    "start_time": "2022-04-26T07:56:44.013Z"
   },
   {
    "duration": 34,
    "start_time": "2022-04-26T07:56:44.021Z"
   },
   {
    "duration": 195,
    "start_time": "2022-04-26T07:56:44.057Z"
   },
   {
    "duration": 10,
    "start_time": "2022-04-26T07:56:44.254Z"
   },
   {
    "duration": 35,
    "start_time": "2022-04-26T07:56:44.267Z"
   },
   {
    "duration": 221,
    "start_time": "2022-04-26T07:56:44.304Z"
   },
   {
    "duration": 131,
    "start_time": "2022-04-26T07:56:44.526Z"
   },
   {
    "duration": 42,
    "start_time": "2022-04-26T07:56:44.658Z"
   },
   {
    "duration": 15,
    "start_time": "2022-04-26T07:56:44.702Z"
   },
   {
    "duration": 17,
    "start_time": "2022-04-26T07:56:44.719Z"
   },
   {
    "duration": 9,
    "start_time": "2022-04-26T07:56:44.737Z"
   },
   {
    "duration": 5,
    "start_time": "2022-04-26T07:56:44.747Z"
   },
   {
    "duration": 23,
    "start_time": "2022-04-26T07:56:44.754Z"
   },
   {
    "duration": 15,
    "start_time": "2022-04-26T07:56:44.779Z"
   },
   {
    "duration": 235,
    "start_time": "2022-04-26T07:56:44.795Z"
   },
   {
    "duration": 33,
    "start_time": "2022-04-26T07:56:45.032Z"
   },
   {
    "duration": 117,
    "start_time": "2022-04-26T07:56:45.066Z"
   },
   {
    "duration": 82,
    "start_time": "2022-04-26T07:56:45.185Z"
   },
   {
    "duration": 77,
    "start_time": "2022-04-26T07:56:45.269Z"
   },
   {
    "duration": 4,
    "start_time": "2022-04-26T07:56:45.347Z"
   },
   {
    "duration": 18,
    "start_time": "2022-04-26T07:56:45.353Z"
   },
   {
    "duration": 4492,
    "start_time": "2022-04-26T07:56:45.373Z"
   },
   {
    "duration": 11,
    "start_time": "2022-04-26T07:56:49.867Z"
   },
   {
    "duration": 7,
    "start_time": "2022-04-26T07:56:49.880Z"
   },
   {
    "duration": 20,
    "start_time": "2022-04-26T07:56:49.889Z"
   },
   {
    "duration": 295,
    "start_time": "2022-04-26T07:56:49.910Z"
   },
   {
    "duration": 14,
    "start_time": "2022-04-26T07:56:50.206Z"
   },
   {
    "duration": 153,
    "start_time": "2022-04-26T07:56:50.222Z"
   },
   {
    "duration": 22,
    "start_time": "2022-04-26T07:56:50.377Z"
   },
   {
    "duration": 156,
    "start_time": "2022-04-26T07:56:50.401Z"
   },
   {
    "duration": 6,
    "start_time": "2022-04-26T07:56:50.559Z"
   },
   {
    "duration": 11,
    "start_time": "2022-04-26T07:56:50.567Z"
   },
   {
    "duration": 16,
    "start_time": "2022-04-26T07:56:50.580Z"
   },
   {
    "duration": 16,
    "start_time": "2022-04-26T07:56:50.598Z"
   },
   {
    "duration": 3,
    "start_time": "2022-04-26T07:56:50.615Z"
   },
   {
    "duration": 48,
    "start_time": "2022-04-26T07:56:50.620Z"
   },
   {
    "duration": 8,
    "start_time": "2022-04-26T07:56:50.670Z"
   },
   {
    "duration": 24,
    "start_time": "2022-04-26T07:56:50.680Z"
   },
   {
    "duration": 5,
    "start_time": "2022-04-26T07:56:50.705Z"
   },
   {
    "duration": 25,
    "start_time": "2022-04-26T07:56:50.711Z"
   },
   {
    "duration": 165,
    "start_time": "2022-04-26T07:56:50.737Z"
   },
   {
    "duration": 4,
    "start_time": "2022-04-26T07:56:50.904Z"
   },
   {
    "duration": 85,
    "start_time": "2022-04-26T07:56:50.910Z"
   },
   {
    "duration": 4,
    "start_time": "2022-04-26T07:56:50.997Z"
   },
   {
    "duration": 43,
    "start_time": "2022-04-26T07:56:51.002Z"
   },
   {
    "duration": 32,
    "start_time": "2022-04-26T07:56:51.047Z"
   },
   {
    "duration": 44,
    "start_time": "2022-04-26T07:56:51.081Z"
   },
   {
    "duration": 1067,
    "start_time": "2022-04-26T08:09:11.221Z"
   },
   {
    "duration": 72,
    "start_time": "2022-04-26T08:09:12.292Z"
   },
   {
    "duration": 34,
    "start_time": "2022-04-26T08:09:12.366Z"
   },
   {
    "duration": 14,
    "start_time": "2022-04-26T08:09:12.402Z"
   },
   {
    "duration": 80,
    "start_time": "2022-04-26T08:09:12.418Z"
   },
   {
    "duration": 22,
    "start_time": "2022-04-26T08:09:12.500Z"
   },
   {
    "duration": 21,
    "start_time": "2022-04-26T08:09:12.524Z"
   },
   {
    "duration": 5,
    "start_time": "2022-04-26T08:09:12.547Z"
   },
   {
    "duration": 8,
    "start_time": "2022-04-26T08:09:12.554Z"
   },
   {
    "duration": 54,
    "start_time": "2022-04-26T08:09:12.565Z"
   },
   {
    "duration": 10,
    "start_time": "2022-04-26T08:09:12.620Z"
   },
   {
    "duration": 11,
    "start_time": "2022-04-26T08:09:12.632Z"
   },
   {
    "duration": 65,
    "start_time": "2022-04-26T08:09:12.645Z"
   },
   {
    "duration": 3,
    "start_time": "2022-04-26T08:09:12.712Z"
   },
   {
    "duration": 33,
    "start_time": "2022-04-26T08:09:12.717Z"
   },
   {
    "duration": 60,
    "start_time": "2022-04-26T08:09:12.751Z"
   },
   {
    "duration": 6,
    "start_time": "2022-04-26T08:09:12.813Z"
   },
   {
    "duration": 14,
    "start_time": "2022-04-26T08:09:12.821Z"
   },
   {
    "duration": 8,
    "start_time": "2022-04-26T08:09:12.837Z"
   },
   {
    "duration": 34,
    "start_time": "2022-04-26T08:09:12.846Z"
   },
   {
    "duration": 13,
    "start_time": "2022-04-26T08:09:12.881Z"
   },
   {
    "duration": 17,
    "start_time": "2022-04-26T08:09:12.895Z"
   },
   {
    "duration": 35,
    "start_time": "2022-04-26T08:09:12.913Z"
   },
   {
    "duration": 6,
    "start_time": "2022-04-26T08:09:12.950Z"
   },
   {
    "duration": 23,
    "start_time": "2022-04-26T08:09:12.957Z"
   },
   {
    "duration": 32,
    "start_time": "2022-04-26T08:09:12.992Z"
   },
   {
    "duration": 6,
    "start_time": "2022-04-26T08:09:13.025Z"
   },
   {
    "duration": 78,
    "start_time": "2022-04-26T08:09:13.034Z"
   },
   {
    "duration": 34,
    "start_time": "2022-04-26T08:09:13.114Z"
   },
   {
    "duration": 13,
    "start_time": "2022-04-26T08:09:13.149Z"
   },
   {
    "duration": 6,
    "start_time": "2022-04-26T08:09:13.192Z"
   },
   {
    "duration": 9,
    "start_time": "2022-04-26T08:09:13.199Z"
   },
   {
    "duration": 7,
    "start_time": "2022-04-26T08:09:13.210Z"
   },
   {
    "duration": 13,
    "start_time": "2022-04-26T08:09:13.219Z"
   },
   {
    "duration": 15,
    "start_time": "2022-04-26T08:09:13.233Z"
   },
   {
    "duration": 4,
    "start_time": "2022-04-26T08:09:13.249Z"
   },
   {
    "duration": 6,
    "start_time": "2022-04-26T08:09:13.255Z"
   },
   {
    "duration": 8,
    "start_time": "2022-04-26T08:09:13.262Z"
   },
   {
    "duration": 21,
    "start_time": "2022-04-26T08:09:13.272Z"
   },
   {
    "duration": 4,
    "start_time": "2022-04-26T08:09:13.294Z"
   },
   {
    "duration": 315,
    "start_time": "2022-04-26T08:09:13.300Z"
   },
   {
    "duration": 4,
    "start_time": "2022-04-26T08:09:13.617Z"
   },
   {
    "duration": 56,
    "start_time": "2022-04-26T08:09:13.622Z"
   },
   {
    "duration": 28,
    "start_time": "2022-04-26T08:09:13.679Z"
   },
   {
    "duration": 8,
    "start_time": "2022-04-26T08:09:13.709Z"
   },
   {
    "duration": 169,
    "start_time": "2022-04-26T08:09:13.719Z"
   },
   {
    "duration": 125,
    "start_time": "2022-04-26T08:09:13.889Z"
   },
   {
    "duration": 32,
    "start_time": "2022-04-26T08:09:14.016Z"
   },
   {
    "duration": 8,
    "start_time": "2022-04-26T08:09:14.049Z"
   },
   {
    "duration": 239,
    "start_time": "2022-04-26T08:09:14.058Z"
   },
   {
    "duration": 7,
    "start_time": "2022-04-26T08:09:14.298Z"
   },
   {
    "duration": 8,
    "start_time": "2022-04-26T08:09:14.307Z"
   },
   {
    "duration": 4,
    "start_time": "2022-04-26T08:09:14.317Z"
   },
   {
    "duration": 11,
    "start_time": "2022-04-26T08:09:14.323Z"
   },
   {
    "duration": 21,
    "start_time": "2022-04-26T08:09:14.339Z"
   },
   {
    "duration": 252,
    "start_time": "2022-04-26T08:09:14.362Z"
   },
   {
    "duration": 195,
    "start_time": "2022-04-26T08:09:14.616Z"
   },
   {
    "duration": 5,
    "start_time": "2022-04-26T08:09:14.813Z"
   },
   {
    "duration": 28,
    "start_time": "2022-04-26T08:09:14.820Z"
   },
   {
    "duration": 284,
    "start_time": "2022-04-26T08:09:14.850Z"
   },
   {
    "duration": 9,
    "start_time": "2022-04-26T08:09:15.135Z"
   },
   {
    "duration": 19,
    "start_time": "2022-04-26T08:09:15.146Z"
   },
   {
    "duration": 223,
    "start_time": "2022-04-26T08:09:15.166Z"
   },
   {
    "duration": 130,
    "start_time": "2022-04-26T08:09:15.392Z"
   },
   {
    "duration": 35,
    "start_time": "2022-04-26T08:09:15.523Z"
   },
   {
    "duration": 11,
    "start_time": "2022-04-26T08:09:15.559Z"
   },
   {
    "duration": 23,
    "start_time": "2022-04-26T08:09:15.572Z"
   },
   {
    "duration": 6,
    "start_time": "2022-04-26T08:09:15.596Z"
   },
   {
    "duration": 5,
    "start_time": "2022-04-26T08:09:15.604Z"
   },
   {
    "duration": 13,
    "start_time": "2022-04-26T08:09:15.611Z"
   },
   {
    "duration": 7,
    "start_time": "2022-04-26T08:09:15.625Z"
   },
   {
    "duration": 244,
    "start_time": "2022-04-26T08:09:15.634Z"
   },
   {
    "duration": 38,
    "start_time": "2022-04-26T08:09:15.880Z"
   },
   {
    "duration": 107,
    "start_time": "2022-04-26T08:09:15.920Z"
   },
   {
    "duration": 79,
    "start_time": "2022-04-26T08:09:16.029Z"
   },
   {
    "duration": 61,
    "start_time": "2022-04-26T08:09:16.110Z"
   },
   {
    "duration": 3,
    "start_time": "2022-04-26T08:09:16.173Z"
   },
   {
    "duration": 9,
    "start_time": "2022-04-26T08:09:16.192Z"
   },
   {
    "duration": 4290,
    "start_time": "2022-04-26T08:09:16.203Z"
   },
   {
    "duration": 11,
    "start_time": "2022-04-26T08:09:20.495Z"
   },
   {
    "duration": 6,
    "start_time": "2022-04-26T08:09:20.508Z"
   },
   {
    "duration": 13,
    "start_time": "2022-04-26T08:09:20.516Z"
   },
   {
    "duration": 152,
    "start_time": "2022-04-26T08:09:20.531Z"
   },
   {
    "duration": 18,
    "start_time": "2022-04-26T08:09:20.684Z"
   },
   {
    "duration": 282,
    "start_time": "2022-04-26T08:09:20.704Z"
   },
   {
    "duration": 15,
    "start_time": "2022-04-26T08:09:20.987Z"
   },
   {
    "duration": 158,
    "start_time": "2022-04-26T08:09:21.003Z"
   },
   {
    "duration": 7,
    "start_time": "2022-04-26T08:09:21.162Z"
   },
   {
    "duration": 6,
    "start_time": "2022-04-26T08:09:21.170Z"
   },
   {
    "duration": 18,
    "start_time": "2022-04-26T08:09:21.178Z"
   },
   {
    "duration": 10,
    "start_time": "2022-04-26T08:09:21.198Z"
   },
   {
    "duration": 3,
    "start_time": "2022-04-26T08:09:21.210Z"
   },
   {
    "duration": 40,
    "start_time": "2022-04-26T08:09:21.214Z"
   },
   {
    "duration": 7,
    "start_time": "2022-04-26T08:09:21.255Z"
   },
   {
    "duration": 38,
    "start_time": "2022-04-26T08:09:21.263Z"
   },
   {
    "duration": 4,
    "start_time": "2022-04-26T08:09:21.303Z"
   },
   {
    "duration": 16,
    "start_time": "2022-04-26T08:09:21.309Z"
   },
   {
    "duration": 159,
    "start_time": "2022-04-26T08:09:21.327Z"
   },
   {
    "duration": 4,
    "start_time": "2022-04-26T08:09:21.492Z"
   },
   {
    "duration": 62,
    "start_time": "2022-04-26T08:09:21.498Z"
   },
   {
    "duration": 3,
    "start_time": "2022-04-26T08:09:21.562Z"
   },
   {
    "duration": 26,
    "start_time": "2022-04-26T08:09:21.567Z"
   },
   {
    "duration": 11,
    "start_time": "2022-04-26T08:09:21.594Z"
   },
   {
    "duration": 12,
    "start_time": "2022-04-26T08:09:21.607Z"
   },
   {
    "duration": 309,
    "start_time": "2022-04-26T08:15:17.729Z"
   },
   {
    "duration": 157,
    "start_time": "2022-04-26T08:15:49.227Z"
   },
   {
    "duration": 65,
    "start_time": "2022-04-26T08:18:19.947Z"
   },
   {
    "duration": 14,
    "start_time": "2022-04-26T08:18:30.933Z"
   },
   {
    "duration": 1442,
    "start_time": "2022-04-26T08:18:55.970Z"
   },
   {
    "duration": 383,
    "start_time": "2022-04-26T08:25:21.454Z"
   },
   {
    "duration": 299,
    "start_time": "2022-04-26T08:26:51.278Z"
   },
   {
    "duration": 4,
    "start_time": "2022-04-26T08:26:59.089Z"
   },
   {
    "duration": 5,
    "start_time": "2022-04-26T08:27:32.882Z"
   },
   {
    "duration": 70,
    "start_time": "2022-04-26T08:27:33.469Z"
   },
   {
    "duration": 257,
    "start_time": "2022-04-26T08:30:16.802Z"
   },
   {
    "duration": 106,
    "start_time": "2022-04-26T08:30:39.788Z"
   },
   {
    "duration": 101,
    "start_time": "2022-04-26T08:30:48.740Z"
   },
   {
    "duration": 248,
    "start_time": "2022-04-26T08:32:40.383Z"
   },
   {
    "duration": 259,
    "start_time": "2022-04-26T08:33:06.674Z"
   },
   {
    "duration": 261,
    "start_time": "2022-04-26T08:33:47.793Z"
   },
   {
    "duration": 231,
    "start_time": "2022-04-26T08:33:55.744Z"
   },
   {
    "duration": 127,
    "start_time": "2022-04-26T08:39:57.436Z"
   },
   {
    "duration": 142,
    "start_time": "2022-04-26T08:40:37.487Z"
   },
   {
    "duration": 18,
    "start_time": "2022-04-26T08:41:27.693Z"
   },
   {
    "duration": 132,
    "start_time": "2022-04-26T08:42:36.725Z"
   },
   {
    "duration": 129,
    "start_time": "2022-04-26T08:42:47.947Z"
   },
   {
    "duration": 1243,
    "start_time": "2022-04-26T08:44:11.851Z"
   },
   {
    "duration": 71,
    "start_time": "2022-04-26T08:44:13.096Z"
   },
   {
    "duration": 35,
    "start_time": "2022-04-26T08:44:13.169Z"
   },
   {
    "duration": 14,
    "start_time": "2022-04-26T08:44:13.205Z"
   },
   {
    "duration": 78,
    "start_time": "2022-04-26T08:44:13.221Z"
   },
   {
    "duration": 22,
    "start_time": "2022-04-26T08:44:13.300Z"
   },
   {
    "duration": 19,
    "start_time": "2022-04-26T08:44:13.323Z"
   },
   {
    "duration": 3,
    "start_time": "2022-04-26T08:44:13.344Z"
   },
   {
    "duration": 10,
    "start_time": "2022-04-26T08:44:13.349Z"
   },
   {
    "duration": 43,
    "start_time": "2022-04-26T08:44:13.361Z"
   },
   {
    "duration": 8,
    "start_time": "2022-04-26T08:44:13.406Z"
   },
   {
    "duration": 10,
    "start_time": "2022-04-26T08:44:13.415Z"
   },
   {
    "duration": 38,
    "start_time": "2022-04-26T08:44:13.426Z"
   },
   {
    "duration": 27,
    "start_time": "2022-04-26T08:44:13.467Z"
   },
   {
    "duration": 33,
    "start_time": "2022-04-26T08:44:13.495Z"
   },
   {
    "duration": 31,
    "start_time": "2022-04-26T08:44:13.530Z"
   },
   {
    "duration": 6,
    "start_time": "2022-04-26T08:44:13.563Z"
   },
   {
    "duration": 26,
    "start_time": "2022-04-26T08:44:13.570Z"
   },
   {
    "duration": 4,
    "start_time": "2022-04-26T08:44:13.598Z"
   },
   {
    "duration": 39,
    "start_time": "2022-04-26T08:44:13.604Z"
   },
   {
    "duration": 3,
    "start_time": "2022-04-26T08:44:13.645Z"
   },
   {
    "duration": 12,
    "start_time": "2022-04-26T08:44:13.650Z"
   },
   {
    "duration": 54,
    "start_time": "2022-04-26T08:44:13.664Z"
   },
   {
    "duration": 6,
    "start_time": "2022-04-26T08:44:13.720Z"
   },
   {
    "duration": 21,
    "start_time": "2022-04-26T08:44:13.727Z"
   },
   {
    "duration": 43,
    "start_time": "2022-04-26T08:44:13.750Z"
   },
   {
    "duration": 6,
    "start_time": "2022-04-26T08:44:13.795Z"
   },
   {
    "duration": 65,
    "start_time": "2022-04-26T08:44:13.803Z"
   },
   {
    "duration": 49,
    "start_time": "2022-04-26T08:44:13.870Z"
   },
   {
    "duration": 12,
    "start_time": "2022-04-26T08:44:13.921Z"
   },
   {
    "duration": 5,
    "start_time": "2022-04-26T08:44:13.934Z"
   },
   {
    "duration": 4,
    "start_time": "2022-04-26T08:44:13.941Z"
   },
   {
    "duration": 7,
    "start_time": "2022-04-26T08:44:13.946Z"
   },
   {
    "duration": 8,
    "start_time": "2022-04-26T08:44:13.955Z"
   },
   {
    "duration": 34,
    "start_time": "2022-04-26T08:44:13.965Z"
   },
   {
    "duration": 4,
    "start_time": "2022-04-26T08:44:14.001Z"
   },
   {
    "duration": 10,
    "start_time": "2022-04-26T08:44:14.007Z"
   },
   {
    "duration": 7,
    "start_time": "2022-04-26T08:44:14.019Z"
   },
   {
    "duration": 8,
    "start_time": "2022-04-26T08:44:14.028Z"
   },
   {
    "duration": 6,
    "start_time": "2022-04-26T08:44:14.038Z"
   },
   {
    "duration": 328,
    "start_time": "2022-04-26T08:44:14.049Z"
   },
   {
    "duration": 5,
    "start_time": "2022-04-26T08:44:14.378Z"
   },
   {
    "duration": 8,
    "start_time": "2022-04-26T08:44:14.384Z"
   },
   {
    "duration": 25,
    "start_time": "2022-04-26T08:44:14.394Z"
   },
   {
    "duration": 7,
    "start_time": "2022-04-26T08:44:14.421Z"
   },
   {
    "duration": 154,
    "start_time": "2022-04-26T08:44:14.429Z"
   },
   {
    "duration": 125,
    "start_time": "2022-04-26T08:44:14.585Z"
   },
   {
    "duration": 31,
    "start_time": "2022-04-26T08:44:14.712Z"
   },
   {
    "duration": 7,
    "start_time": "2022-04-26T08:44:14.745Z"
   },
   {
    "duration": 240,
    "start_time": "2022-04-26T08:44:14.754Z"
   },
   {
    "duration": 9,
    "start_time": "2022-04-26T08:44:14.997Z"
   },
   {
    "duration": 20,
    "start_time": "2022-04-26T08:44:15.007Z"
   },
   {
    "duration": 17,
    "start_time": "2022-04-26T08:44:15.029Z"
   },
   {
    "duration": 10,
    "start_time": "2022-04-26T08:44:15.048Z"
   },
   {
    "duration": 18,
    "start_time": "2022-04-26T08:44:15.060Z"
   },
   {
    "duration": 283,
    "start_time": "2022-04-26T08:44:15.080Z"
   },
   {
    "duration": 120,
    "start_time": "2022-04-26T08:44:15.365Z"
   },
   {
    "duration": 5,
    "start_time": "2022-04-26T08:44:15.493Z"
   },
   {
    "duration": 27,
    "start_time": "2022-04-26T08:44:15.500Z"
   },
   {
    "duration": 187,
    "start_time": "2022-04-26T08:44:15.529Z"
   },
   {
    "duration": 9,
    "start_time": "2022-04-26T08:44:15.717Z"
   },
   {
    "duration": 20,
    "start_time": "2022-04-26T08:44:15.728Z"
   },
   {
    "duration": 224,
    "start_time": "2022-04-26T08:44:15.749Z"
   },
   {
    "duration": 132,
    "start_time": "2022-04-26T08:44:15.975Z"
   },
   {
    "duration": 32,
    "start_time": "2022-04-26T08:44:16.109Z"
   },
   {
    "duration": 7,
    "start_time": "2022-04-26T08:44:16.143Z"
   },
   {
    "duration": 8,
    "start_time": "2022-04-26T08:44:16.152Z"
   },
   {
    "duration": 35,
    "start_time": "2022-04-26T08:44:16.161Z"
   },
   {
    "duration": 6,
    "start_time": "2022-04-26T08:44:16.197Z"
   },
   {
    "duration": 23,
    "start_time": "2022-04-26T08:44:16.205Z"
   },
   {
    "duration": 8,
    "start_time": "2022-04-26T08:44:16.229Z"
   },
   {
    "duration": 245,
    "start_time": "2022-04-26T08:44:16.238Z"
   },
   {
    "duration": 34,
    "start_time": "2022-04-26T08:44:16.484Z"
   },
   {
    "duration": 121,
    "start_time": "2022-04-26T08:44:16.520Z"
   },
   {
    "duration": 91,
    "start_time": "2022-04-26T08:44:16.643Z"
   },
   {
    "duration": 71,
    "start_time": "2022-04-26T08:44:16.737Z"
   },
   {
    "duration": 5,
    "start_time": "2022-04-26T08:44:16.810Z"
   },
   {
    "duration": 14,
    "start_time": "2022-04-26T08:44:16.817Z"
   },
   {
    "duration": 4137,
    "start_time": "2022-04-26T08:44:16.832Z"
   },
   {
    "duration": 10,
    "start_time": "2022-04-26T08:44:20.971Z"
   },
   {
    "duration": 10,
    "start_time": "2022-04-26T08:44:20.983Z"
   },
   {
    "duration": 17,
    "start_time": "2022-04-26T08:44:20.994Z"
   },
   {
    "duration": 288,
    "start_time": "2022-04-26T08:44:21.013Z"
   },
   {
    "duration": 13,
    "start_time": "2022-04-26T08:44:21.303Z"
   },
   {
    "duration": 149,
    "start_time": "2022-04-26T08:44:21.317Z"
   },
   {
    "duration": 14,
    "start_time": "2022-04-26T08:44:21.467Z"
   },
   {
    "duration": 147,
    "start_time": "2022-04-26T08:44:21.492Z"
   },
   {
    "duration": 6,
    "start_time": "2022-04-26T08:44:21.640Z"
   },
   {
    "duration": 6,
    "start_time": "2022-04-26T08:44:21.648Z"
   },
   {
    "duration": 6,
    "start_time": "2022-04-26T08:44:21.655Z"
   },
   {
    "duration": 8,
    "start_time": "2022-04-26T08:44:21.663Z"
   },
   {
    "duration": 21,
    "start_time": "2022-04-26T08:44:21.672Z"
   },
   {
    "duration": 38,
    "start_time": "2022-04-26T08:44:21.694Z"
   },
   {
    "duration": 6,
    "start_time": "2022-04-26T08:44:21.734Z"
   },
   {
    "duration": 12,
    "start_time": "2022-04-26T08:44:21.741Z"
   },
   {
    "duration": 3,
    "start_time": "2022-04-26T08:44:21.755Z"
   },
   {
    "duration": 43,
    "start_time": "2022-04-26T08:44:21.760Z"
   },
   {
    "duration": 147,
    "start_time": "2022-04-26T08:44:21.805Z"
   },
   {
    "duration": 5,
    "start_time": "2022-04-26T08:44:21.954Z"
   },
   {
    "duration": 74,
    "start_time": "2022-04-26T08:44:21.960Z"
   },
   {
    "duration": 4,
    "start_time": "2022-04-26T08:44:22.036Z"
   },
   {
    "duration": 214,
    "start_time": "2022-04-26T08:44:22.041Z"
   },
   {
    "duration": 11,
    "start_time": "2022-04-26T08:44:22.257Z"
   },
   {
    "duration": 140,
    "start_time": "2022-04-26T08:44:22.270Z"
   },
   {
    "duration": 13,
    "start_time": "2022-04-26T08:44:22.412Z"
   },
   {
    "duration": 141,
    "start_time": "2022-04-26T08:44:22.426Z"
   },
   {
    "duration": 165,
    "start_time": "2022-04-26T08:47:16.360Z"
   },
   {
    "duration": 1201,
    "start_time": "2022-04-26T09:07:01.984Z"
   },
   {
    "duration": 74,
    "start_time": "2022-04-26T09:07:03.187Z"
   },
   {
    "duration": 41,
    "start_time": "2022-04-26T09:07:03.263Z"
   },
   {
    "duration": 15,
    "start_time": "2022-04-26T09:07:03.307Z"
   },
   {
    "duration": 80,
    "start_time": "2022-04-26T09:07:03.324Z"
   },
   {
    "duration": 22,
    "start_time": "2022-04-26T09:07:03.405Z"
   },
   {
    "duration": 27,
    "start_time": "2022-04-26T09:07:03.429Z"
   },
   {
    "duration": 18,
    "start_time": "2022-04-26T09:07:03.458Z"
   },
   {
    "duration": 23,
    "start_time": "2022-04-26T09:07:03.478Z"
   },
   {
    "duration": 41,
    "start_time": "2022-04-26T09:07:03.504Z"
   },
   {
    "duration": 9,
    "start_time": "2022-04-26T09:07:03.546Z"
   },
   {
    "duration": 23,
    "start_time": "2022-04-26T09:07:03.557Z"
   },
   {
    "duration": 44,
    "start_time": "2022-04-26T09:07:03.581Z"
   },
   {
    "duration": 4,
    "start_time": "2022-04-26T09:07:03.626Z"
   },
   {
    "duration": 65,
    "start_time": "2022-04-26T09:07:03.632Z"
   },
   {
    "duration": 49,
    "start_time": "2022-04-26T09:07:03.699Z"
   },
   {
    "duration": 8,
    "start_time": "2022-04-26T09:07:03.750Z"
   },
   {
    "duration": 29,
    "start_time": "2022-04-26T09:07:03.760Z"
   },
   {
    "duration": 17,
    "start_time": "2022-04-26T09:07:03.791Z"
   },
   {
    "duration": 75,
    "start_time": "2022-04-26T09:07:03.810Z"
   },
   {
    "duration": 4,
    "start_time": "2022-04-26T09:07:03.887Z"
   },
   {
    "duration": 45,
    "start_time": "2022-04-26T09:07:03.892Z"
   },
   {
    "duration": 55,
    "start_time": "2022-04-26T09:07:03.939Z"
   },
   {
    "duration": 9,
    "start_time": "2022-04-26T09:07:03.996Z"
   },
   {
    "duration": 34,
    "start_time": "2022-04-26T09:07:04.007Z"
   },
   {
    "duration": 64,
    "start_time": "2022-04-26T09:07:04.043Z"
   },
   {
    "duration": 13,
    "start_time": "2022-04-26T09:07:04.109Z"
   },
   {
    "duration": 108,
    "start_time": "2022-04-26T09:07:04.129Z"
   },
   {
    "duration": 33,
    "start_time": "2022-04-26T09:07:04.239Z"
   },
   {
    "duration": 27,
    "start_time": "2022-04-26T09:07:04.274Z"
   },
   {
    "duration": 10,
    "start_time": "2022-04-26T09:07:04.302Z"
   },
   {
    "duration": 27,
    "start_time": "2022-04-26T09:07:04.314Z"
   },
   {
    "duration": 18,
    "start_time": "2022-04-26T09:07:04.343Z"
   },
   {
    "duration": 31,
    "start_time": "2022-04-26T09:07:04.363Z"
   },
   {
    "duration": 28,
    "start_time": "2022-04-26T09:07:04.396Z"
   },
   {
    "duration": 15,
    "start_time": "2022-04-26T09:07:04.426Z"
   },
   {
    "duration": 42,
    "start_time": "2022-04-26T09:07:04.443Z"
   },
   {
    "duration": 26,
    "start_time": "2022-04-26T09:07:04.486Z"
   },
   {
    "duration": 18,
    "start_time": "2022-04-26T09:07:04.514Z"
   },
   {
    "duration": 13,
    "start_time": "2022-04-26T09:07:04.533Z"
   },
   {
    "duration": 318,
    "start_time": "2022-04-26T09:07:04.547Z"
   },
   {
    "duration": 5,
    "start_time": "2022-04-26T09:07:04.866Z"
   },
   {
    "duration": 18,
    "start_time": "2022-04-26T09:07:04.872Z"
   },
   {
    "duration": 47,
    "start_time": "2022-04-26T09:07:04.892Z"
   },
   {
    "duration": 9,
    "start_time": "2022-04-26T09:07:04.940Z"
   },
   {
    "duration": 152,
    "start_time": "2022-04-26T09:07:04.950Z"
   },
   {
    "duration": 129,
    "start_time": "2022-04-26T09:07:05.104Z"
   },
   {
    "duration": 33,
    "start_time": "2022-04-26T09:07:05.235Z"
   },
   {
    "duration": 24,
    "start_time": "2022-04-26T09:07:05.269Z"
   },
   {
    "duration": 226,
    "start_time": "2022-04-26T09:07:05.295Z"
   },
   {
    "duration": 7,
    "start_time": "2022-04-26T09:07:05.523Z"
   },
   {
    "duration": 22,
    "start_time": "2022-04-26T09:07:05.531Z"
   },
   {
    "duration": 15,
    "start_time": "2022-04-26T09:07:05.554Z"
   },
   {
    "duration": 27,
    "start_time": "2022-04-26T09:07:05.570Z"
   },
   {
    "duration": 33,
    "start_time": "2022-04-26T09:07:05.598Z"
   },
   {
    "duration": 285,
    "start_time": "2022-04-26T09:07:05.633Z"
   },
   {
    "duration": 136,
    "start_time": "2022-04-26T09:07:05.920Z"
   },
   {
    "duration": 6,
    "start_time": "2022-04-26T09:07:06.058Z"
   },
   {
    "duration": 64,
    "start_time": "2022-04-26T09:07:06.066Z"
   },
   {
    "duration": 247,
    "start_time": "2022-04-26T09:07:06.132Z"
   },
   {
    "duration": 15,
    "start_time": "2022-04-26T09:07:06.381Z"
   },
   {
    "duration": 42,
    "start_time": "2022-04-26T09:07:06.397Z"
   },
   {
    "duration": 223,
    "start_time": "2022-04-26T09:07:06.441Z"
   },
   {
    "duration": 128,
    "start_time": "2022-04-26T09:07:06.666Z"
   },
   {
    "duration": 33,
    "start_time": "2022-04-26T09:07:06.796Z"
   },
   {
    "duration": 6,
    "start_time": "2022-04-26T09:07:06.830Z"
   },
   {
    "duration": 9,
    "start_time": "2022-04-26T09:07:06.838Z"
   },
   {
    "duration": 6,
    "start_time": "2022-04-26T09:07:06.849Z"
   },
   {
    "duration": 6,
    "start_time": "2022-04-26T09:07:06.857Z"
   },
   {
    "duration": 38,
    "start_time": "2022-04-26T09:07:06.865Z"
   },
   {
    "duration": 8,
    "start_time": "2022-04-26T09:07:06.905Z"
   },
   {
    "duration": 232,
    "start_time": "2022-04-26T09:07:06.914Z"
   },
   {
    "duration": 31,
    "start_time": "2022-04-26T09:07:07.147Z"
   },
   {
    "duration": 108,
    "start_time": "2022-04-26T09:07:07.193Z"
   },
   {
    "duration": 75,
    "start_time": "2022-04-26T09:07:07.302Z"
   },
   {
    "duration": 69,
    "start_time": "2022-04-26T09:07:07.379Z"
   },
   {
    "duration": 4,
    "start_time": "2022-04-26T09:07:07.450Z"
   },
   {
    "duration": 10,
    "start_time": "2022-04-26T09:07:07.456Z"
   },
   {
    "duration": 4417,
    "start_time": "2022-04-26T09:07:07.468Z"
   },
   {
    "duration": 11,
    "start_time": "2022-04-26T09:07:11.887Z"
   },
   {
    "duration": 7,
    "start_time": "2022-04-26T09:07:11.900Z"
   },
   {
    "duration": 13,
    "start_time": "2022-04-26T09:07:11.913Z"
   },
   {
    "duration": 289,
    "start_time": "2022-04-26T09:07:11.928Z"
   },
   {
    "duration": 13,
    "start_time": "2022-04-26T09:07:12.219Z"
   },
   {
    "duration": 153,
    "start_time": "2022-04-26T09:07:12.233Z"
   },
   {
    "duration": 15,
    "start_time": "2022-04-26T09:07:12.387Z"
   },
   {
    "duration": 157,
    "start_time": "2022-04-26T09:07:12.404Z"
   },
   {
    "duration": 6,
    "start_time": "2022-04-26T09:07:12.563Z"
   },
   {
    "duration": 7,
    "start_time": "2022-04-26T09:07:12.571Z"
   },
   {
    "duration": 9,
    "start_time": "2022-04-26T09:07:12.593Z"
   },
   {
    "duration": 13,
    "start_time": "2022-04-26T09:07:12.603Z"
   },
   {
    "duration": 2,
    "start_time": "2022-04-26T09:07:12.618Z"
   },
   {
    "duration": 54,
    "start_time": "2022-04-26T09:07:12.622Z"
   },
   {
    "duration": 8,
    "start_time": "2022-04-26T09:07:12.692Z"
   },
   {
    "duration": 18,
    "start_time": "2022-04-26T09:07:12.702Z"
   },
   {
    "duration": 4,
    "start_time": "2022-04-26T09:07:12.722Z"
   },
   {
    "duration": 21,
    "start_time": "2022-04-26T09:07:12.728Z"
   },
   {
    "duration": 225,
    "start_time": "2022-04-26T09:07:12.751Z"
   },
   {
    "duration": 5,
    "start_time": "2022-04-26T09:07:12.978Z"
   },
   {
    "duration": 83,
    "start_time": "2022-04-26T09:07:12.993Z"
   },
   {
    "duration": 14,
    "start_time": "2022-04-26T09:07:13.078Z"
   },
   {
    "duration": 298,
    "start_time": "2022-04-26T09:07:13.094Z"
   },
   {
    "duration": 14,
    "start_time": "2022-04-26T09:07:13.394Z"
   },
   {
    "duration": 141,
    "start_time": "2022-04-26T09:07:13.409Z"
   },
   {
    "duration": 13,
    "start_time": "2022-04-26T09:07:13.552Z"
   },
   {
    "duration": 209,
    "start_time": "2022-04-26T09:07:13.566Z"
   },
   {
    "duration": 239,
    "start_time": "2022-04-26T13:50:56.045Z"
   }
  ],
  "kernelspec": {
   "display_name": "Python 3",
   "language": "python",
   "name": "python3"
  },
  "language_info": {
   "codemirror_mode": {
    "name": "ipython",
    "version": 3
   },
   "file_extension": ".py",
   "mimetype": "text/x-python",
   "name": "python",
   "nbconvert_exporter": "python",
   "pygments_lexer": "ipython3",
   "version": "3.8.8"
  },
  "toc": {
   "base_numbering": 1,
   "nav_menu": {},
   "number_sections": true,
   "sideBar": true,
   "skip_h1_title": true,
   "title_cell": "Содержание",
   "title_sidebar": "Contents",
   "toc_cell": true,
   "toc_position": {
    "height": "calc(100% - 180px)",
    "left": "10px",
    "top": "150px",
    "width": "165px"
   },
   "toc_section_display": true,
   "toc_window_display": true
  }
 },
 "nbformat": 4,
 "nbformat_minor": 4
}
