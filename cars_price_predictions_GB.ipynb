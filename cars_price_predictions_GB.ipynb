{
 "cells": [
  {
   "cell_type": "markdown",
   "metadata": {},
   "source": [
    "# Определение стоимости автомобилей"
   ]
  },
  {
   "cell_type": "markdown",
   "metadata": {},
   "source": [
    "Сервис по продаже автомобилей с пробегом разрабатывает приложение для привлечения новых клиентов. В нём можно быстро узнать рыночную стоимость своего автомобиля. В работе мы построим модель для определения стоимости.\n",
    "\n",
    "В вашем распоряжении исторические данные: технические характеристики, комплектации и цены автомобилей. \n",
    "\n",
    "Сервису, как заказчику, важны:\n",
    "\n",
    "- качество предсказания;\n",
    "- скорость предсказания;\n",
    "- время обучения."
   ]
  },
  {
   "cell_type": "markdown",
   "metadata": {},
   "source": [
    "## Подготовка данных"
   ]
  },
  {
   "cell_type": "markdown",
   "metadata": {},
   "source": [
    "### Импорт библиотек"
   ]
  },
  {
   "cell_type": "markdown",
   "metadata": {},
   "source": [
    "Перед началом исследования импортируем необходимые библиотеки, а также модели."
   ]
  },
  {
   "cell_type": "code",
   "execution_count": 1,
   "metadata": {},
   "outputs": [],
   "source": [
    "import pandas as pd\n",
    "import numpy as np\n",
    "import seaborn as sns\n",
    "import matplotlib.pyplot as plt\n",
    "\n",
    "from sklearn.model_selection import train_test_split\n",
    "from sklearn.model_selection import GridSearchCV\n",
    "\n",
    "from sklearn.metrics import mean_squared_error\n",
    "\n",
    "from sklearn.preprocessing import scale\n",
    "from sklearn.preprocessing import OrdinalEncoder\n",
    "\n",
    "\n",
    "\n",
    "from catboost import CatBoostRegressor\n",
    "from sklearn.tree import  DecisionTreeRegressor\n",
    "from lightgbm import LGBMRegressor\n"
   ]
  },
  {
   "cell_type": "markdown",
   "metadata": {},
   "source": [
    "### Обзор данных"
   ]
  },
  {
   "cell_type": "code",
   "execution_count": 2,
   "metadata": {},
   "outputs": [],
   "source": [
    "data = pd.read_csv('autos.csv') # загружаем датасет в переменную data"
   ]
  },
  {
   "cell_type": "code",
   "execution_count": 3,
   "metadata": {
    "scrolled": true
   },
   "outputs": [
    {
     "data": {
      "text/html": [
       "<div>\n",
       "<style scoped>\n",
       "    .dataframe tbody tr th:only-of-type {\n",
       "        vertical-align: middle;\n",
       "    }\n",
       "\n",
       "    .dataframe tbody tr th {\n",
       "        vertical-align: top;\n",
       "    }\n",
       "\n",
       "    .dataframe thead th {\n",
       "        text-align: right;\n",
       "    }\n",
       "</style>\n",
       "<table border=\"1\" class=\"dataframe\">\n",
       "  <thead>\n",
       "    <tr style=\"text-align: right;\">\n",
       "      <th></th>\n",
       "      <th>DateCrawled</th>\n",
       "      <th>Price</th>\n",
       "      <th>VehicleType</th>\n",
       "      <th>RegistrationYear</th>\n",
       "      <th>Gearbox</th>\n",
       "      <th>Power</th>\n",
       "      <th>Model</th>\n",
       "      <th>Kilometer</th>\n",
       "      <th>RegistrationMonth</th>\n",
       "      <th>FuelType</th>\n",
       "      <th>Brand</th>\n",
       "      <th>NotRepaired</th>\n",
       "      <th>DateCreated</th>\n",
       "      <th>NumberOfPictures</th>\n",
       "      <th>PostalCode</th>\n",
       "      <th>LastSeen</th>\n",
       "    </tr>\n",
       "  </thead>\n",
       "  <tbody>\n",
       "    <tr>\n",
       "      <th>0</th>\n",
       "      <td>2016-03-24 11:52:17</td>\n",
       "      <td>480</td>\n",
       "      <td>NaN</td>\n",
       "      <td>1993</td>\n",
       "      <td>manual</td>\n",
       "      <td>0</td>\n",
       "      <td>golf</td>\n",
       "      <td>150000</td>\n",
       "      <td>0</td>\n",
       "      <td>petrol</td>\n",
       "      <td>volkswagen</td>\n",
       "      <td>NaN</td>\n",
       "      <td>2016-03-24 00:00:00</td>\n",
       "      <td>0</td>\n",
       "      <td>70435</td>\n",
       "      <td>2016-04-07 03:16:57</td>\n",
       "    </tr>\n",
       "    <tr>\n",
       "      <th>1</th>\n",
       "      <td>2016-03-24 10:58:45</td>\n",
       "      <td>18300</td>\n",
       "      <td>coupe</td>\n",
       "      <td>2011</td>\n",
       "      <td>manual</td>\n",
       "      <td>190</td>\n",
       "      <td>NaN</td>\n",
       "      <td>125000</td>\n",
       "      <td>5</td>\n",
       "      <td>gasoline</td>\n",
       "      <td>audi</td>\n",
       "      <td>yes</td>\n",
       "      <td>2016-03-24 00:00:00</td>\n",
       "      <td>0</td>\n",
       "      <td>66954</td>\n",
       "      <td>2016-04-07 01:46:50</td>\n",
       "    </tr>\n",
       "    <tr>\n",
       "      <th>2</th>\n",
       "      <td>2016-03-14 12:52:21</td>\n",
       "      <td>9800</td>\n",
       "      <td>suv</td>\n",
       "      <td>2004</td>\n",
       "      <td>auto</td>\n",
       "      <td>163</td>\n",
       "      <td>grand</td>\n",
       "      <td>125000</td>\n",
       "      <td>8</td>\n",
       "      <td>gasoline</td>\n",
       "      <td>jeep</td>\n",
       "      <td>NaN</td>\n",
       "      <td>2016-03-14 00:00:00</td>\n",
       "      <td>0</td>\n",
       "      <td>90480</td>\n",
       "      <td>2016-04-05 12:47:46</td>\n",
       "    </tr>\n",
       "    <tr>\n",
       "      <th>3</th>\n",
       "      <td>2016-03-17 16:54:04</td>\n",
       "      <td>1500</td>\n",
       "      <td>small</td>\n",
       "      <td>2001</td>\n",
       "      <td>manual</td>\n",
       "      <td>75</td>\n",
       "      <td>golf</td>\n",
       "      <td>150000</td>\n",
       "      <td>6</td>\n",
       "      <td>petrol</td>\n",
       "      <td>volkswagen</td>\n",
       "      <td>no</td>\n",
       "      <td>2016-03-17 00:00:00</td>\n",
       "      <td>0</td>\n",
       "      <td>91074</td>\n",
       "      <td>2016-03-17 17:40:17</td>\n",
       "    </tr>\n",
       "    <tr>\n",
       "      <th>4</th>\n",
       "      <td>2016-03-31 17:25:20</td>\n",
       "      <td>3600</td>\n",
       "      <td>small</td>\n",
       "      <td>2008</td>\n",
       "      <td>manual</td>\n",
       "      <td>69</td>\n",
       "      <td>fabia</td>\n",
       "      <td>90000</td>\n",
       "      <td>7</td>\n",
       "      <td>gasoline</td>\n",
       "      <td>skoda</td>\n",
       "      <td>no</td>\n",
       "      <td>2016-03-31 00:00:00</td>\n",
       "      <td>0</td>\n",
       "      <td>60437</td>\n",
       "      <td>2016-04-06 10:17:21</td>\n",
       "    </tr>\n",
       "    <tr>\n",
       "      <th>5</th>\n",
       "      <td>2016-04-04 17:36:23</td>\n",
       "      <td>650</td>\n",
       "      <td>sedan</td>\n",
       "      <td>1995</td>\n",
       "      <td>manual</td>\n",
       "      <td>102</td>\n",
       "      <td>3er</td>\n",
       "      <td>150000</td>\n",
       "      <td>10</td>\n",
       "      <td>petrol</td>\n",
       "      <td>bmw</td>\n",
       "      <td>yes</td>\n",
       "      <td>2016-04-04 00:00:00</td>\n",
       "      <td>0</td>\n",
       "      <td>33775</td>\n",
       "      <td>2016-04-06 19:17:07</td>\n",
       "    </tr>\n",
       "    <tr>\n",
       "      <th>6</th>\n",
       "      <td>2016-04-01 20:48:51</td>\n",
       "      <td>2200</td>\n",
       "      <td>convertible</td>\n",
       "      <td>2004</td>\n",
       "      <td>manual</td>\n",
       "      <td>109</td>\n",
       "      <td>2_reihe</td>\n",
       "      <td>150000</td>\n",
       "      <td>8</td>\n",
       "      <td>petrol</td>\n",
       "      <td>peugeot</td>\n",
       "      <td>no</td>\n",
       "      <td>2016-04-01 00:00:00</td>\n",
       "      <td>0</td>\n",
       "      <td>67112</td>\n",
       "      <td>2016-04-05 18:18:39</td>\n",
       "    </tr>\n",
       "    <tr>\n",
       "      <th>7</th>\n",
       "      <td>2016-03-21 18:54:38</td>\n",
       "      <td>0</td>\n",
       "      <td>sedan</td>\n",
       "      <td>1980</td>\n",
       "      <td>manual</td>\n",
       "      <td>50</td>\n",
       "      <td>other</td>\n",
       "      <td>40000</td>\n",
       "      <td>7</td>\n",
       "      <td>petrol</td>\n",
       "      <td>volkswagen</td>\n",
       "      <td>no</td>\n",
       "      <td>2016-03-21 00:00:00</td>\n",
       "      <td>0</td>\n",
       "      <td>19348</td>\n",
       "      <td>2016-03-25 16:47:58</td>\n",
       "    </tr>\n",
       "    <tr>\n",
       "      <th>8</th>\n",
       "      <td>2016-04-04 23:42:13</td>\n",
       "      <td>14500</td>\n",
       "      <td>bus</td>\n",
       "      <td>2014</td>\n",
       "      <td>manual</td>\n",
       "      <td>125</td>\n",
       "      <td>c_max</td>\n",
       "      <td>30000</td>\n",
       "      <td>8</td>\n",
       "      <td>petrol</td>\n",
       "      <td>ford</td>\n",
       "      <td>NaN</td>\n",
       "      <td>2016-04-04 00:00:00</td>\n",
       "      <td>0</td>\n",
       "      <td>94505</td>\n",
       "      <td>2016-04-04 23:42:13</td>\n",
       "    </tr>\n",
       "    <tr>\n",
       "      <th>9</th>\n",
       "      <td>2016-03-17 10:53:50</td>\n",
       "      <td>999</td>\n",
       "      <td>small</td>\n",
       "      <td>1998</td>\n",
       "      <td>manual</td>\n",
       "      <td>101</td>\n",
       "      <td>golf</td>\n",
       "      <td>150000</td>\n",
       "      <td>0</td>\n",
       "      <td>NaN</td>\n",
       "      <td>volkswagen</td>\n",
       "      <td>NaN</td>\n",
       "      <td>2016-03-17 00:00:00</td>\n",
       "      <td>0</td>\n",
       "      <td>27472</td>\n",
       "      <td>2016-03-31 17:17:06</td>\n",
       "    </tr>\n",
       "  </tbody>\n",
       "</table>\n",
       "</div>"
      ],
      "text/plain": [
       "           DateCrawled  Price  VehicleType  RegistrationYear Gearbox  Power  \\\n",
       "0  2016-03-24 11:52:17    480          NaN              1993  manual      0   \n",
       "1  2016-03-24 10:58:45  18300        coupe              2011  manual    190   \n",
       "2  2016-03-14 12:52:21   9800          suv              2004    auto    163   \n",
       "3  2016-03-17 16:54:04   1500        small              2001  manual     75   \n",
       "4  2016-03-31 17:25:20   3600        small              2008  manual     69   \n",
       "5  2016-04-04 17:36:23    650        sedan              1995  manual    102   \n",
       "6  2016-04-01 20:48:51   2200  convertible              2004  manual    109   \n",
       "7  2016-03-21 18:54:38      0        sedan              1980  manual     50   \n",
       "8  2016-04-04 23:42:13  14500          bus              2014  manual    125   \n",
       "9  2016-03-17 10:53:50    999        small              1998  manual    101   \n",
       "\n",
       "     Model  Kilometer  RegistrationMonth  FuelType       Brand NotRepaired  \\\n",
       "0     golf     150000                  0    petrol  volkswagen         NaN   \n",
       "1      NaN     125000                  5  gasoline        audi         yes   \n",
       "2    grand     125000                  8  gasoline        jeep         NaN   \n",
       "3     golf     150000                  6    petrol  volkswagen          no   \n",
       "4    fabia      90000                  7  gasoline       skoda          no   \n",
       "5      3er     150000                 10    petrol         bmw         yes   \n",
       "6  2_reihe     150000                  8    petrol     peugeot          no   \n",
       "7    other      40000                  7    petrol  volkswagen          no   \n",
       "8    c_max      30000                  8    petrol        ford         NaN   \n",
       "9     golf     150000                  0       NaN  volkswagen         NaN   \n",
       "\n",
       "           DateCreated  NumberOfPictures  PostalCode             LastSeen  \n",
       "0  2016-03-24 00:00:00                 0       70435  2016-04-07 03:16:57  \n",
       "1  2016-03-24 00:00:00                 0       66954  2016-04-07 01:46:50  \n",
       "2  2016-03-14 00:00:00                 0       90480  2016-04-05 12:47:46  \n",
       "3  2016-03-17 00:00:00                 0       91074  2016-03-17 17:40:17  \n",
       "4  2016-03-31 00:00:00                 0       60437  2016-04-06 10:17:21  \n",
       "5  2016-04-04 00:00:00                 0       33775  2016-04-06 19:17:07  \n",
       "6  2016-04-01 00:00:00                 0       67112  2016-04-05 18:18:39  \n",
       "7  2016-03-21 00:00:00                 0       19348  2016-03-25 16:47:58  \n",
       "8  2016-04-04 00:00:00                 0       94505  2016-04-04 23:42:13  \n",
       "9  2016-03-17 00:00:00                 0       27472  2016-03-31 17:17:06  "
      ]
     },
     "execution_count": 3,
     "metadata": {},
     "output_type": "execute_result"
    }
   ],
   "source": [
    "data.head(10)                   # первые 10 строчек "
   ]
  },
  {
   "cell_type": "markdown",
   "metadata": {},
   "source": [
    "В датасете 15 столбцов (признаков):\n",
    "\n",
    "- `DateCrawled` — дата, когда анкета скачена из базы;\n",
    "- `Price` — цена продажи — целевой признак;\n",
    "- `VehicleType` — тип автомобильного кузова;\n",
    "- `RegistrationYear`— год регистрации автомобиля;\n",
    "- `Gearbox` — тип коробки передач;\n",
    "- `Power` — мощность в лошадиных силах;\n",
    "- `Model` — модель машины;\n",
    "- `Kilometer` — пробег в км;\n",
    "- `RegistrationMonth` — месяц регистрации автомобиля;\n",
    "- `FuelType` — тип топлива;\n",
    "- `Brand` — марка автомобиля;\n",
    "- `NotRepaired` — была машина в ремонте или нет;\n",
    "- `DateCreated` — дата создания анкеты;\n",
    "- `NumberOfPictures` — количество фотографий;\n",
    "- `PostalCode` — почтовый индекс владельца автомобиля;\n",
    "- `LastSeen` — дата последней активности пользователя.\n",
    "\n"
   ]
  },
  {
   "cell_type": "code",
   "execution_count": 4,
   "metadata": {
    "scrolled": true
   },
   "outputs": [
    {
     "name": "stdout",
     "output_type": "stream",
     "text": [
      "<class 'pandas.core.frame.DataFrame'>\n",
      "RangeIndex: 354369 entries, 0 to 354368\n",
      "Data columns (total 16 columns):\n",
      " #   Column             Non-Null Count   Dtype \n",
      "---  ------             --------------   ----- \n",
      " 0   DateCrawled        354369 non-null  object\n",
      " 1   Price              354369 non-null  int64 \n",
      " 2   VehicleType        316879 non-null  object\n",
      " 3   RegistrationYear   354369 non-null  int64 \n",
      " 4   Gearbox            334536 non-null  object\n",
      " 5   Power              354369 non-null  int64 \n",
      " 6   Model              334664 non-null  object\n",
      " 7   Kilometer          354369 non-null  int64 \n",
      " 8   RegistrationMonth  354369 non-null  int64 \n",
      " 9   FuelType           321474 non-null  object\n",
      " 10  Brand              354369 non-null  object\n",
      " 11  NotRepaired        283215 non-null  object\n",
      " 12  DateCreated        354369 non-null  object\n",
      " 13  NumberOfPictures   354369 non-null  int64 \n",
      " 14  PostalCode         354369 non-null  int64 \n",
      " 15  LastSeen           354369 non-null  object\n",
      "dtypes: int64(7), object(9)\n",
      "memory usage: 43.3+ MB\n"
     ]
    }
   ],
   "source": [
    "data.info()                          #общая информация по датасету"
   ]
  },
  {
   "cell_type": "markdown",
   "metadata": {},
   "source": [
    "В датасете более 350 000 объектов — достаточно большой объем. В некоторых столбцах-признаках имеются пропуски. Кроме того, много признаков являются категориальными — понадобится приобразовать их в численные для обучения моделей."
   ]
  },
  {
   "cell_type": "code",
   "execution_count": 5,
   "metadata": {
    "scrolled": true
   },
   "outputs": [
    {
     "data": {
      "text/html": [
       "<div>\n",
       "<style scoped>\n",
       "    .dataframe tbody tr th:only-of-type {\n",
       "        vertical-align: middle;\n",
       "    }\n",
       "\n",
       "    .dataframe tbody tr th {\n",
       "        vertical-align: top;\n",
       "    }\n",
       "\n",
       "    .dataframe thead th {\n",
       "        text-align: right;\n",
       "    }\n",
       "</style>\n",
       "<table border=\"1\" class=\"dataframe\">\n",
       "  <thead>\n",
       "    <tr style=\"text-align: right;\">\n",
       "      <th></th>\n",
       "      <th>Price</th>\n",
       "      <th>RegistrationYear</th>\n",
       "      <th>Power</th>\n",
       "      <th>Kilometer</th>\n",
       "      <th>RegistrationMonth</th>\n",
       "      <th>NumberOfPictures</th>\n",
       "      <th>PostalCode</th>\n",
       "    </tr>\n",
       "  </thead>\n",
       "  <tbody>\n",
       "    <tr>\n",
       "      <th>count</th>\n",
       "      <td>354369.000000</td>\n",
       "      <td>354369.000000</td>\n",
       "      <td>354369.000000</td>\n",
       "      <td>354369.000000</td>\n",
       "      <td>354369.000000</td>\n",
       "      <td>354369.0</td>\n",
       "      <td>354369.000000</td>\n",
       "    </tr>\n",
       "    <tr>\n",
       "      <th>mean</th>\n",
       "      <td>4416.656776</td>\n",
       "      <td>2004.234448</td>\n",
       "      <td>110.094337</td>\n",
       "      <td>128211.172535</td>\n",
       "      <td>5.714645</td>\n",
       "      <td>0.0</td>\n",
       "      <td>50508.689087</td>\n",
       "    </tr>\n",
       "    <tr>\n",
       "      <th>std</th>\n",
       "      <td>4514.158514</td>\n",
       "      <td>90.227958</td>\n",
       "      <td>189.850405</td>\n",
       "      <td>37905.341530</td>\n",
       "      <td>3.726421</td>\n",
       "      <td>0.0</td>\n",
       "      <td>25783.096248</td>\n",
       "    </tr>\n",
       "    <tr>\n",
       "      <th>min</th>\n",
       "      <td>0.000000</td>\n",
       "      <td>1000.000000</td>\n",
       "      <td>0.000000</td>\n",
       "      <td>5000.000000</td>\n",
       "      <td>0.000000</td>\n",
       "      <td>0.0</td>\n",
       "      <td>1067.000000</td>\n",
       "    </tr>\n",
       "    <tr>\n",
       "      <th>25%</th>\n",
       "      <td>1050.000000</td>\n",
       "      <td>1999.000000</td>\n",
       "      <td>69.000000</td>\n",
       "      <td>125000.000000</td>\n",
       "      <td>3.000000</td>\n",
       "      <td>0.0</td>\n",
       "      <td>30165.000000</td>\n",
       "    </tr>\n",
       "    <tr>\n",
       "      <th>50%</th>\n",
       "      <td>2700.000000</td>\n",
       "      <td>2003.000000</td>\n",
       "      <td>105.000000</td>\n",
       "      <td>150000.000000</td>\n",
       "      <td>6.000000</td>\n",
       "      <td>0.0</td>\n",
       "      <td>49413.000000</td>\n",
       "    </tr>\n",
       "    <tr>\n",
       "      <th>75%</th>\n",
       "      <td>6400.000000</td>\n",
       "      <td>2008.000000</td>\n",
       "      <td>143.000000</td>\n",
       "      <td>150000.000000</td>\n",
       "      <td>9.000000</td>\n",
       "      <td>0.0</td>\n",
       "      <td>71083.000000</td>\n",
       "    </tr>\n",
       "    <tr>\n",
       "      <th>max</th>\n",
       "      <td>20000.000000</td>\n",
       "      <td>9999.000000</td>\n",
       "      <td>20000.000000</td>\n",
       "      <td>150000.000000</td>\n",
       "      <td>12.000000</td>\n",
       "      <td>0.0</td>\n",
       "      <td>99998.000000</td>\n",
       "    </tr>\n",
       "  </tbody>\n",
       "</table>\n",
       "</div>"
      ],
      "text/plain": [
       "               Price  RegistrationYear          Power      Kilometer  \\\n",
       "count  354369.000000     354369.000000  354369.000000  354369.000000   \n",
       "mean     4416.656776       2004.234448     110.094337  128211.172535   \n",
       "std      4514.158514         90.227958     189.850405   37905.341530   \n",
       "min         0.000000       1000.000000       0.000000    5000.000000   \n",
       "25%      1050.000000       1999.000000      69.000000  125000.000000   \n",
       "50%      2700.000000       2003.000000     105.000000  150000.000000   \n",
       "75%      6400.000000       2008.000000     143.000000  150000.000000   \n",
       "max     20000.000000       9999.000000   20000.000000  150000.000000   \n",
       "\n",
       "       RegistrationMonth  NumberOfPictures     PostalCode  \n",
       "count      354369.000000          354369.0  354369.000000  \n",
       "mean            5.714645               0.0   50508.689087  \n",
       "std             3.726421               0.0   25783.096248  \n",
       "min             0.000000               0.0    1067.000000  \n",
       "25%             3.000000               0.0   30165.000000  \n",
       "50%             6.000000               0.0   49413.000000  \n",
       "75%             9.000000               0.0   71083.000000  \n",
       "max            12.000000               0.0   99998.000000  "
      ]
     },
     "execution_count": 5,
     "metadata": {},
     "output_type": "execute_result"
    }
   ],
   "source": [
    "data.describe() #агрегированные данные по численным признакам"
   ]
  },
  {
   "cell_type": "markdown",
   "metadata": {},
   "source": [
    "Из агрегированных данных видно, что в столбце `Price` минимальное значение равно 0 — потребуется далее рассмотреть данные объекты. Интересные минимумы и максимумы в `RegistrationYear` и `Power`. Признак `NumberOfPictures` судя по всему был выгружен с ошибкой — он пустой. "
   ]
  },
  {
   "cell_type": "markdown",
   "metadata": {},
   "source": [
    "### Проверка на явные дубликаты"
   ]
  },
  {
   "cell_type": "code",
   "execution_count": 6,
   "metadata": {},
   "outputs": [
    {
     "data": {
      "text/plain": [
       "4"
      ]
     },
     "execution_count": 6,
     "metadata": {},
     "output_type": "execute_result"
    }
   ],
   "source": [
    "data.duplicated().sum()"
   ]
  },
  {
   "cell_type": "markdown",
   "metadata": {},
   "source": [
    "Незначительное количество объектов в датасете задублированно — их стоит удалить, чтобы модель не переобучилась.\n"
   ]
  },
  {
   "cell_type": "code",
   "execution_count": 7,
   "metadata": {},
   "outputs": [],
   "source": [
    "data = data.drop_duplicates()"
   ]
  },
  {
   "cell_type": "markdown",
   "metadata": {},
   "source": [
    "### Удаление неинформативных признаков"
   ]
  },
  {
   "cell_type": "markdown",
   "metadata": {},
   "source": [
    "От даты выгрузки анкеты конечная цена автомобиля не зависит — этот признак не является информативным и его можно удалить."
   ]
  },
  {
   "cell_type": "code",
   "execution_count": 8,
   "metadata": {},
   "outputs": [],
   "source": [
    "data = data.drop(columns=['DateCrawled'])"
   ]
  },
  {
   "cell_type": "markdown",
   "metadata": {},
   "source": [
    "Формально и дата, когда объявление о продаже было опубликовано, не должна влиять на цену автомобиля. Однако, если в датасете присутствуют объявления за разные годы, то на цене может сказаться инфляция. Проверим за какой период мы имеем объявления."
   ]
  },
  {
   "cell_type": "code",
   "execution_count": 9,
   "metadata": {},
   "outputs": [],
   "source": [
    "data['DateCreated'] = pd.to_datetime(data['DateCreated'], format='%Y-%m-%d %H:%M:%S') # меняем тип данных\n",
    "                                                                                      # для удобства обработки"
   ]
  },
  {
   "cell_type": "code",
   "execution_count": 10,
   "metadata": {
    "scrolled": false
   },
   "outputs": [
    {
     "data": {
      "text/plain": [
       "2016    354339\n",
       "2015        25\n",
       "2014         1\n",
       "Name: DateCreated, dtype: int64"
      ]
     },
     "execution_count": 10,
     "metadata": {},
     "output_type": "execute_result"
    }
   ],
   "source": [
    "data['DateCreated'].dt.year.value_counts()                                            # посчитаем количесвто объектов по годам"
   ]
  },
  {
   "cell_type": "markdown",
   "metadata": {},
   "source": [
    "В датасете всего 26 объектов не за 2016 год. Посмотрим на них:"
   ]
  },
  {
   "cell_type": "code",
   "execution_count": 11,
   "metadata": {
    "scrolled": false
   },
   "outputs": [
    {
     "data": {
      "text/html": [
       "<div>\n",
       "<style scoped>\n",
       "    .dataframe tbody tr th:only-of-type {\n",
       "        vertical-align: middle;\n",
       "    }\n",
       "\n",
       "    .dataframe tbody tr th {\n",
       "        vertical-align: top;\n",
       "    }\n",
       "\n",
       "    .dataframe thead th {\n",
       "        text-align: right;\n",
       "    }\n",
       "</style>\n",
       "<table border=\"1\" class=\"dataframe\">\n",
       "  <thead>\n",
       "    <tr style=\"text-align: right;\">\n",
       "      <th></th>\n",
       "      <th>Price</th>\n",
       "      <th>VehicleType</th>\n",
       "      <th>RegistrationYear</th>\n",
       "      <th>Gearbox</th>\n",
       "      <th>Power</th>\n",
       "      <th>Model</th>\n",
       "      <th>Kilometer</th>\n",
       "      <th>RegistrationMonth</th>\n",
       "      <th>FuelType</th>\n",
       "      <th>Brand</th>\n",
       "      <th>NotRepaired</th>\n",
       "      <th>DateCreated</th>\n",
       "      <th>NumberOfPictures</th>\n",
       "      <th>PostalCode</th>\n",
       "      <th>LastSeen</th>\n",
       "    </tr>\n",
       "  </thead>\n",
       "  <tbody>\n",
       "    <tr>\n",
       "      <th>61207</th>\n",
       "      <td>8999</td>\n",
       "      <td>NaN</td>\n",
       "      <td>2005</td>\n",
       "      <td>NaN</td>\n",
       "      <td>0</td>\n",
       "      <td>147</td>\n",
       "      <td>125000</td>\n",
       "      <td>0</td>\n",
       "      <td>petrol</td>\n",
       "      <td>alfa_romeo</td>\n",
       "      <td>NaN</td>\n",
       "      <td>2014-03-10</td>\n",
       "      <td>0</td>\n",
       "      <td>79669</td>\n",
       "      <td>2016-04-07 04:46:24</td>\n",
       "    </tr>\n",
       "  </tbody>\n",
       "</table>\n",
       "</div>"
      ],
      "text/plain": [
       "       Price VehicleType  RegistrationYear Gearbox  Power Model  Kilometer  \\\n",
       "61207   8999         NaN              2005     NaN      0   147     125000   \n",
       "\n",
       "       RegistrationMonth FuelType       Brand NotRepaired DateCreated  \\\n",
       "61207                  0   petrol  alfa_romeo         NaN  2014-03-10   \n",
       "\n",
       "       NumberOfPictures  PostalCode             LastSeen  \n",
       "61207                 0       79669  2016-04-07 04:46:24  "
      ]
     },
     "execution_count": 11,
     "metadata": {},
     "output_type": "execute_result"
    }
   ],
   "source": [
    "data[data['DateCreated'].dt.year == 2014]                                             # выводим единственный объект за 2014 год"
   ]
  },
  {
   "cell_type": "markdown",
   "metadata": {},
   "source": [
    "**Alfa Romeo** не самая популярная машина на рынке — а марка определенно влияет на цену. Если модель поймет это, пробуя спрогнозировать цену для итальнцев по цене 2014 года, точно ошибемся с прогнозом:"
   ]
  },
  {
   "cell_type": "code",
   "execution_count": 12,
   "metadata": {
    "scrolled": false
   },
   "outputs": [
    {
     "data": {
      "text/html": [
       "<div>\n",
       "<style scoped>\n",
       "    .dataframe tbody tr th:only-of-type {\n",
       "        vertical-align: middle;\n",
       "    }\n",
       "\n",
       "    .dataframe tbody tr th {\n",
       "        vertical-align: top;\n",
       "    }\n",
       "\n",
       "    .dataframe thead th {\n",
       "        text-align: right;\n",
       "    }\n",
       "</style>\n",
       "<table border=\"1\" class=\"dataframe\">\n",
       "  <thead>\n",
       "    <tr style=\"text-align: right;\">\n",
       "      <th></th>\n",
       "      <th>Price</th>\n",
       "      <th>VehicleType</th>\n",
       "      <th>RegistrationYear</th>\n",
       "      <th>Gearbox</th>\n",
       "      <th>Power</th>\n",
       "      <th>Model</th>\n",
       "      <th>Kilometer</th>\n",
       "      <th>RegistrationMonth</th>\n",
       "      <th>FuelType</th>\n",
       "      <th>Brand</th>\n",
       "      <th>NotRepaired</th>\n",
       "      <th>DateCreated</th>\n",
       "      <th>NumberOfPictures</th>\n",
       "      <th>PostalCode</th>\n",
       "      <th>LastSeen</th>\n",
       "    </tr>\n",
       "  </thead>\n",
       "  <tbody>\n",
       "    <tr>\n",
       "      <th>80</th>\n",
       "      <td>250</td>\n",
       "      <td>wagon</td>\n",
       "      <td>2000</td>\n",
       "      <td>manual</td>\n",
       "      <td>155</td>\n",
       "      <td>156</td>\n",
       "      <td>150000</td>\n",
       "      <td>0</td>\n",
       "      <td>petrol</td>\n",
       "      <td>alfa_romeo</td>\n",
       "      <td>yes</td>\n",
       "      <td>2016-04-01</td>\n",
       "      <td>0</td>\n",
       "      <td>8396</td>\n",
       "      <td>2016-04-05 20:18:14</td>\n",
       "    </tr>\n",
       "    <tr>\n",
       "      <th>138</th>\n",
       "      <td>3450</td>\n",
       "      <td>sedan</td>\n",
       "      <td>2007</td>\n",
       "      <td>manual</td>\n",
       "      <td>120</td>\n",
       "      <td>147</td>\n",
       "      <td>150000</td>\n",
       "      <td>4</td>\n",
       "      <td>gasoline</td>\n",
       "      <td>alfa_romeo</td>\n",
       "      <td>no</td>\n",
       "      <td>2016-04-02</td>\n",
       "      <td>0</td>\n",
       "      <td>86678</td>\n",
       "      <td>2016-04-04 07:51:11</td>\n",
       "    </tr>\n",
       "    <tr>\n",
       "      <th>412</th>\n",
       "      <td>13950</td>\n",
       "      <td>other</td>\n",
       "      <td>2011</td>\n",
       "      <td>manual</td>\n",
       "      <td>140</td>\n",
       "      <td>NaN</td>\n",
       "      <td>60000</td>\n",
       "      <td>11</td>\n",
       "      <td>gasoline</td>\n",
       "      <td>alfa_romeo</td>\n",
       "      <td>no</td>\n",
       "      <td>2016-03-26</td>\n",
       "      <td>0</td>\n",
       "      <td>86830</td>\n",
       "      <td>2016-04-06 14:15:39</td>\n",
       "    </tr>\n",
       "    <tr>\n",
       "      <th>422</th>\n",
       "      <td>3200</td>\n",
       "      <td>convertible</td>\n",
       "      <td>2001</td>\n",
       "      <td>manual</td>\n",
       "      <td>150</td>\n",
       "      <td>spider</td>\n",
       "      <td>150000</td>\n",
       "      <td>6</td>\n",
       "      <td>NaN</td>\n",
       "      <td>alfa_romeo</td>\n",
       "      <td>NaN</td>\n",
       "      <td>2016-03-21</td>\n",
       "      <td>0</td>\n",
       "      <td>24939</td>\n",
       "      <td>2016-03-31 08:18:09</td>\n",
       "    </tr>\n",
       "    <tr>\n",
       "      <th>474</th>\n",
       "      <td>2990</td>\n",
       "      <td>sedan</td>\n",
       "      <td>2006</td>\n",
       "      <td>manual</td>\n",
       "      <td>105</td>\n",
       "      <td>147</td>\n",
       "      <td>150000</td>\n",
       "      <td>6</td>\n",
       "      <td>petrol</td>\n",
       "      <td>alfa_romeo</td>\n",
       "      <td>no</td>\n",
       "      <td>2016-03-30</td>\n",
       "      <td>0</td>\n",
       "      <td>74912</td>\n",
       "      <td>2016-04-07 09:44:33</td>\n",
       "    </tr>\n",
       "    <tr>\n",
       "      <th>...</th>\n",
       "      <td>...</td>\n",
       "      <td>...</td>\n",
       "      <td>...</td>\n",
       "      <td>...</td>\n",
       "      <td>...</td>\n",
       "      <td>...</td>\n",
       "      <td>...</td>\n",
       "      <td>...</td>\n",
       "      <td>...</td>\n",
       "      <td>...</td>\n",
       "      <td>...</td>\n",
       "      <td>...</td>\n",
       "      <td>...</td>\n",
       "      <td>...</td>\n",
       "      <td>...</td>\n",
       "    </tr>\n",
       "    <tr>\n",
       "      <th>353947</th>\n",
       "      <td>3800</td>\n",
       "      <td>sedan</td>\n",
       "      <td>2003</td>\n",
       "      <td>manual</td>\n",
       "      <td>166</td>\n",
       "      <td>156</td>\n",
       "      <td>125000</td>\n",
       "      <td>7</td>\n",
       "      <td>petrol</td>\n",
       "      <td>alfa_romeo</td>\n",
       "      <td>no</td>\n",
       "      <td>2016-04-03</td>\n",
       "      <td>0</td>\n",
       "      <td>50827</td>\n",
       "      <td>2016-04-05 17:45:54</td>\n",
       "    </tr>\n",
       "    <tr>\n",
       "      <th>353953</th>\n",
       "      <td>1450</td>\n",
       "      <td>wagon</td>\n",
       "      <td>2005</td>\n",
       "      <td>manual</td>\n",
       "      <td>175</td>\n",
       "      <td>156</td>\n",
       "      <td>150000</td>\n",
       "      <td>7</td>\n",
       "      <td>gasoline</td>\n",
       "      <td>alfa_romeo</td>\n",
       "      <td>no</td>\n",
       "      <td>2016-03-05</td>\n",
       "      <td>0</td>\n",
       "      <td>97082</td>\n",
       "      <td>2016-03-17 05:15:16</td>\n",
       "    </tr>\n",
       "    <tr>\n",
       "      <th>354102</th>\n",
       "      <td>3950</td>\n",
       "      <td>coupe</td>\n",
       "      <td>2006</td>\n",
       "      <td>manual</td>\n",
       "      <td>166</td>\n",
       "      <td>other</td>\n",
       "      <td>150000</td>\n",
       "      <td>5</td>\n",
       "      <td>petrol</td>\n",
       "      <td>alfa_romeo</td>\n",
       "      <td>no</td>\n",
       "      <td>2016-03-19</td>\n",
       "      <td>0</td>\n",
       "      <td>59174</td>\n",
       "      <td>2016-03-29 03:15:54</td>\n",
       "    </tr>\n",
       "    <tr>\n",
       "      <th>354105</th>\n",
       "      <td>750</td>\n",
       "      <td>sedan</td>\n",
       "      <td>1998</td>\n",
       "      <td>manual</td>\n",
       "      <td>190</td>\n",
       "      <td>156</td>\n",
       "      <td>150000</td>\n",
       "      <td>10</td>\n",
       "      <td>petrol</td>\n",
       "      <td>alfa_romeo</td>\n",
       "      <td>no</td>\n",
       "      <td>2016-03-31</td>\n",
       "      <td>0</td>\n",
       "      <td>27568</td>\n",
       "      <td>2016-04-06 13:15:43</td>\n",
       "    </tr>\n",
       "    <tr>\n",
       "      <th>354361</th>\n",
       "      <td>5250</td>\n",
       "      <td>NaN</td>\n",
       "      <td>2016</td>\n",
       "      <td>auto</td>\n",
       "      <td>150</td>\n",
       "      <td>159</td>\n",
       "      <td>150000</td>\n",
       "      <td>12</td>\n",
       "      <td>NaN</td>\n",
       "      <td>alfa_romeo</td>\n",
       "      <td>no</td>\n",
       "      <td>2016-03-09</td>\n",
       "      <td>0</td>\n",
       "      <td>51371</td>\n",
       "      <td>2016-03-13 01:44:13</td>\n",
       "    </tr>\n",
       "  </tbody>\n",
       "</table>\n",
       "<p>2314 rows × 15 columns</p>\n",
       "</div>"
      ],
      "text/plain": [
       "        Price  VehicleType  RegistrationYear Gearbox  Power   Model  \\\n",
       "80        250        wagon              2000  manual    155     156   \n",
       "138      3450        sedan              2007  manual    120     147   \n",
       "412     13950        other              2011  manual    140     NaN   \n",
       "422      3200  convertible              2001  manual    150  spider   \n",
       "474      2990        sedan              2006  manual    105     147   \n",
       "...       ...          ...               ...     ...    ...     ...   \n",
       "353947   3800        sedan              2003  manual    166     156   \n",
       "353953   1450        wagon              2005  manual    175     156   \n",
       "354102   3950        coupe              2006  manual    166   other   \n",
       "354105    750        sedan              1998  manual    190     156   \n",
       "354361   5250          NaN              2016    auto    150     159   \n",
       "\n",
       "        Kilometer  RegistrationMonth  FuelType       Brand NotRepaired  \\\n",
       "80         150000                  0    petrol  alfa_romeo         yes   \n",
       "138        150000                  4  gasoline  alfa_romeo          no   \n",
       "412         60000                 11  gasoline  alfa_romeo          no   \n",
       "422        150000                  6       NaN  alfa_romeo         NaN   \n",
       "474        150000                  6    petrol  alfa_romeo          no   \n",
       "...           ...                ...       ...         ...         ...   \n",
       "353947     125000                  7    petrol  alfa_romeo          no   \n",
       "353953     150000                  7  gasoline  alfa_romeo          no   \n",
       "354102     150000                  5    petrol  alfa_romeo          no   \n",
       "354105     150000                 10    petrol  alfa_romeo          no   \n",
       "354361     150000                 12       NaN  alfa_romeo          no   \n",
       "\n",
       "       DateCreated  NumberOfPictures  PostalCode             LastSeen  \n",
       "80      2016-04-01                 0        8396  2016-04-05 20:18:14  \n",
       "138     2016-04-02                 0       86678  2016-04-04 07:51:11  \n",
       "412     2016-03-26                 0       86830  2016-04-06 14:15:39  \n",
       "422     2016-03-21                 0       24939  2016-03-31 08:18:09  \n",
       "474     2016-03-30                 0       74912  2016-04-07 09:44:33  \n",
       "...            ...               ...         ...                  ...  \n",
       "353947  2016-04-03                 0       50827  2016-04-05 17:45:54  \n",
       "353953  2016-03-05                 0       97082  2016-03-17 05:15:16  \n",
       "354102  2016-03-19                 0       59174  2016-03-29 03:15:54  \n",
       "354105  2016-03-31                 0       27568  2016-04-06 13:15:43  \n",
       "354361  2016-03-09                 0       51371  2016-03-13 01:44:13  \n",
       "\n",
       "[2314 rows x 15 columns]"
      ]
     },
     "execution_count": 12,
     "metadata": {},
     "output_type": "execute_result"
    }
   ],
   "source": [
    "data[data['Brand']== 'alfa_romeo']"
   ]
  },
  {
   "cell_type": "markdown",
   "metadata": {},
   "source": [
    "Из 15 объектов один будет выбросом."
   ]
  },
  {
   "cell_type": "code",
   "execution_count": 13,
   "metadata": {
    "scrolled": true
   },
   "outputs": [
    {
     "data": {
      "text/html": [
       "<div>\n",
       "<style scoped>\n",
       "    .dataframe tbody tr th:only-of-type {\n",
       "        vertical-align: middle;\n",
       "    }\n",
       "\n",
       "    .dataframe tbody tr th {\n",
       "        vertical-align: top;\n",
       "    }\n",
       "\n",
       "    .dataframe thead th {\n",
       "        text-align: right;\n",
       "    }\n",
       "</style>\n",
       "<table border=\"1\" class=\"dataframe\">\n",
       "  <thead>\n",
       "    <tr style=\"text-align: right;\">\n",
       "      <th></th>\n",
       "      <th>Price</th>\n",
       "      <th>VehicleType</th>\n",
       "      <th>RegistrationYear</th>\n",
       "      <th>Gearbox</th>\n",
       "      <th>Power</th>\n",
       "      <th>Model</th>\n",
       "      <th>Kilometer</th>\n",
       "      <th>RegistrationMonth</th>\n",
       "      <th>FuelType</th>\n",
       "      <th>Brand</th>\n",
       "      <th>NotRepaired</th>\n",
       "      <th>DateCreated</th>\n",
       "      <th>NumberOfPictures</th>\n",
       "      <th>PostalCode</th>\n",
       "      <th>LastSeen</th>\n",
       "    </tr>\n",
       "  </thead>\n",
       "  <tbody>\n",
       "    <tr>\n",
       "      <th>4001</th>\n",
       "      <td>6000</td>\n",
       "      <td>bus</td>\n",
       "      <td>1995</td>\n",
       "      <td>auto</td>\n",
       "      <td>200</td>\n",
       "      <td>other</td>\n",
       "      <td>150000</td>\n",
       "      <td>0</td>\n",
       "      <td>petrol</td>\n",
       "      <td>chevrolet</td>\n",
       "      <td>no</td>\n",
       "      <td>2015-03-20</td>\n",
       "      <td>0</td>\n",
       "      <td>24558</td>\n",
       "      <td>2016-04-07 03:45:01</td>\n",
       "    </tr>\n",
       "    <tr>\n",
       "      <th>9972</th>\n",
       "      <td>3490</td>\n",
       "      <td>sedan</td>\n",
       "      <td>2006</td>\n",
       "      <td>manual</td>\n",
       "      <td>88</td>\n",
       "      <td>clio</td>\n",
       "      <td>150000</td>\n",
       "      <td>3</td>\n",
       "      <td>petrol</td>\n",
       "      <td>renault</td>\n",
       "      <td>no</td>\n",
       "      <td>2015-11-02</td>\n",
       "      <td>0</td>\n",
       "      <td>40880</td>\n",
       "      <td>2016-03-17 15:46:57</td>\n",
       "    </tr>\n",
       "    <tr>\n",
       "      <th>29712</th>\n",
       "      <td>6950</td>\n",
       "      <td>sedan</td>\n",
       "      <td>2004</td>\n",
       "      <td>auto</td>\n",
       "      <td>150</td>\n",
       "      <td>a3</td>\n",
       "      <td>100000</td>\n",
       "      <td>1</td>\n",
       "      <td>petrol</td>\n",
       "      <td>audi</td>\n",
       "      <td>no</td>\n",
       "      <td>2015-12-06</td>\n",
       "      <td>0</td>\n",
       "      <td>61389</td>\n",
       "      <td>2016-04-06 14:16:09</td>\n",
       "    </tr>\n",
       "    <tr>\n",
       "      <th>60168</th>\n",
       "      <td>5999</td>\n",
       "      <td>sedan</td>\n",
       "      <td>1997</td>\n",
       "      <td>auto</td>\n",
       "      <td>197</td>\n",
       "      <td>c_klasse</td>\n",
       "      <td>150000</td>\n",
       "      <td>9</td>\n",
       "      <td>petrol</td>\n",
       "      <td>mercedes_benz</td>\n",
       "      <td>no</td>\n",
       "      <td>2015-11-17</td>\n",
       "      <td>0</td>\n",
       "      <td>28816</td>\n",
       "      <td>2016-04-06 05:46:03</td>\n",
       "    </tr>\n",
       "    <tr>\n",
       "      <th>75598</th>\n",
       "      <td>600</td>\n",
       "      <td>small</td>\n",
       "      <td>2005</td>\n",
       "      <td>manual</td>\n",
       "      <td>54</td>\n",
       "      <td>polo</td>\n",
       "      <td>150000</td>\n",
       "      <td>1</td>\n",
       "      <td>petrol</td>\n",
       "      <td>volkswagen</td>\n",
       "      <td>yes</td>\n",
       "      <td>2015-09-04</td>\n",
       "      <td>0</td>\n",
       "      <td>72669</td>\n",
       "      <td>2016-03-15 14:16:58</td>\n",
       "    </tr>\n",
       "    <tr>\n",
       "      <th>75684</th>\n",
       "      <td>5400</td>\n",
       "      <td>small</td>\n",
       "      <td>2009</td>\n",
       "      <td>manual</td>\n",
       "      <td>44</td>\n",
       "      <td>ypsilon</td>\n",
       "      <td>40000</td>\n",
       "      <td>9</td>\n",
       "      <td>petrol</td>\n",
       "      <td>lancia</td>\n",
       "      <td>no</td>\n",
       "      <td>2015-11-12</td>\n",
       "      <td>0</td>\n",
       "      <td>53119</td>\n",
       "      <td>2016-04-06 03:16:57</td>\n",
       "    </tr>\n",
       "    <tr>\n",
       "      <th>76459</th>\n",
       "      <td>7500</td>\n",
       "      <td>sedan</td>\n",
       "      <td>2002</td>\n",
       "      <td>auto</td>\n",
       "      <td>333</td>\n",
       "      <td>7er</td>\n",
       "      <td>150000</td>\n",
       "      <td>9</td>\n",
       "      <td>lpg</td>\n",
       "      <td>bmw</td>\n",
       "      <td>no</td>\n",
       "      <td>2015-12-27</td>\n",
       "      <td>0</td>\n",
       "      <td>46117</td>\n",
       "      <td>2016-03-27 22:15:37</td>\n",
       "    </tr>\n",
       "    <tr>\n",
       "      <th>77378</th>\n",
       "      <td>7999</td>\n",
       "      <td>sedan</td>\n",
       "      <td>2013</td>\n",
       "      <td>manual</td>\n",
       "      <td>75</td>\n",
       "      <td>mii</td>\n",
       "      <td>30000</td>\n",
       "      <td>6</td>\n",
       "      <td>petrol</td>\n",
       "      <td>seat</td>\n",
       "      <td>no</td>\n",
       "      <td>2015-11-24</td>\n",
       "      <td>0</td>\n",
       "      <td>60437</td>\n",
       "      <td>2016-04-05 22:47:33</td>\n",
       "    </tr>\n",
       "    <tr>\n",
       "      <th>85505</th>\n",
       "      <td>900</td>\n",
       "      <td>sedan</td>\n",
       "      <td>1997</td>\n",
       "      <td>auto</td>\n",
       "      <td>115</td>\n",
       "      <td>impreza</td>\n",
       "      <td>150000</td>\n",
       "      <td>4</td>\n",
       "      <td>petrol</td>\n",
       "      <td>subaru</td>\n",
       "      <td>no</td>\n",
       "      <td>2015-12-05</td>\n",
       "      <td>0</td>\n",
       "      <td>2943</td>\n",
       "      <td>2016-03-22 23:16:25</td>\n",
       "    </tr>\n",
       "    <tr>\n",
       "      <th>86601</th>\n",
       "      <td>14250</td>\n",
       "      <td>convertible</td>\n",
       "      <td>2005</td>\n",
       "      <td>manual</td>\n",
       "      <td>163</td>\n",
       "      <td>slk</td>\n",
       "      <td>150000</td>\n",
       "      <td>6</td>\n",
       "      <td>petrol</td>\n",
       "      <td>mercedes_benz</td>\n",
       "      <td>no</td>\n",
       "      <td>2015-08-07</td>\n",
       "      <td>0</td>\n",
       "      <td>76228</td>\n",
       "      <td>2016-04-07 09:15:23</td>\n",
       "    </tr>\n",
       "    <tr>\n",
       "      <th>125286</th>\n",
       "      <td>7999</td>\n",
       "      <td>sedan</td>\n",
       "      <td>2013</td>\n",
       "      <td>manual</td>\n",
       "      <td>75</td>\n",
       "      <td>mii</td>\n",
       "      <td>30000</td>\n",
       "      <td>6</td>\n",
       "      <td>petrol</td>\n",
       "      <td>seat</td>\n",
       "      <td>no</td>\n",
       "      <td>2015-11-24</td>\n",
       "      <td>0</td>\n",
       "      <td>60437</td>\n",
       "      <td>2016-04-07 11:25:36</td>\n",
       "    </tr>\n",
       "    <tr>\n",
       "      <th>153650</th>\n",
       "      <td>11999</td>\n",
       "      <td>NaN</td>\n",
       "      <td>2008</td>\n",
       "      <td>manual</td>\n",
       "      <td>150</td>\n",
       "      <td>NaN</td>\n",
       "      <td>90000</td>\n",
       "      <td>1</td>\n",
       "      <td>gasoline</td>\n",
       "      <td>opel</td>\n",
       "      <td>no</td>\n",
       "      <td>2015-11-23</td>\n",
       "      <td>0</td>\n",
       "      <td>7749</td>\n",
       "      <td>2016-03-27 17:44:16</td>\n",
       "    </tr>\n",
       "    <tr>\n",
       "      <th>161567</th>\n",
       "      <td>15500</td>\n",
       "      <td>wagon</td>\n",
       "      <td>2009</td>\n",
       "      <td>manual</td>\n",
       "      <td>160</td>\n",
       "      <td>a4</td>\n",
       "      <td>100000</td>\n",
       "      <td>11</td>\n",
       "      <td>petrol</td>\n",
       "      <td>audi</td>\n",
       "      <td>no</td>\n",
       "      <td>2015-11-08</td>\n",
       "      <td>0</td>\n",
       "      <td>56410</td>\n",
       "      <td>2016-04-06 23:15:36</td>\n",
       "    </tr>\n",
       "    <tr>\n",
       "      <th>175103</th>\n",
       "      <td>5200</td>\n",
       "      <td>convertible</td>\n",
       "      <td>2006</td>\n",
       "      <td>manual</td>\n",
       "      <td>109</td>\n",
       "      <td>2_reihe</td>\n",
       "      <td>80000</td>\n",
       "      <td>11</td>\n",
       "      <td>petrol</td>\n",
       "      <td>peugeot</td>\n",
       "      <td>no</td>\n",
       "      <td>2015-08-10</td>\n",
       "      <td>0</td>\n",
       "      <td>26382</td>\n",
       "      <td>2016-04-05 20:46:54</td>\n",
       "    </tr>\n",
       "    <tr>\n",
       "      <th>221002</th>\n",
       "      <td>600</td>\n",
       "      <td>small</td>\n",
       "      <td>2005</td>\n",
       "      <td>manual</td>\n",
       "      <td>54</td>\n",
       "      <td>polo</td>\n",
       "      <td>150000</td>\n",
       "      <td>1</td>\n",
       "      <td>petrol</td>\n",
       "      <td>volkswagen</td>\n",
       "      <td>yes</td>\n",
       "      <td>2015-09-04</td>\n",
       "      <td>0</td>\n",
       "      <td>72669</td>\n",
       "      <td>2016-03-15 15:49:29</td>\n",
       "    </tr>\n",
       "    <tr>\n",
       "      <th>226822</th>\n",
       "      <td>900</td>\n",
       "      <td>sedan</td>\n",
       "      <td>1997</td>\n",
       "      <td>auto</td>\n",
       "      <td>115</td>\n",
       "      <td>impreza</td>\n",
       "      <td>150000</td>\n",
       "      <td>4</td>\n",
       "      <td>petrol</td>\n",
       "      <td>subaru</td>\n",
       "      <td>no</td>\n",
       "      <td>2015-12-05</td>\n",
       "      <td>0</td>\n",
       "      <td>2943</td>\n",
       "      <td>2016-03-22 20:16:42</td>\n",
       "    </tr>\n",
       "    <tr>\n",
       "      <th>244633</th>\n",
       "      <td>2400</td>\n",
       "      <td>sedan</td>\n",
       "      <td>2004</td>\n",
       "      <td>auto</td>\n",
       "      <td>61</td>\n",
       "      <td>fortwo</td>\n",
       "      <td>90000</td>\n",
       "      <td>6</td>\n",
       "      <td>petrol</td>\n",
       "      <td>smart</td>\n",
       "      <td>no</td>\n",
       "      <td>2015-12-30</td>\n",
       "      <td>0</td>\n",
       "      <td>10315</td>\n",
       "      <td>2016-04-06 15:17:11</td>\n",
       "    </tr>\n",
       "    <tr>\n",
       "      <th>260635</th>\n",
       "      <td>900</td>\n",
       "      <td>sedan</td>\n",
       "      <td>1997</td>\n",
       "      <td>auto</td>\n",
       "      <td>115</td>\n",
       "      <td>impreza</td>\n",
       "      <td>150000</td>\n",
       "      <td>4</td>\n",
       "      <td>petrol</td>\n",
       "      <td>subaru</td>\n",
       "      <td>no</td>\n",
       "      <td>2015-12-05</td>\n",
       "      <td>0</td>\n",
       "      <td>2943</td>\n",
       "      <td>2016-03-23 13:56:25</td>\n",
       "    </tr>\n",
       "    <tr>\n",
       "      <th>274600</th>\n",
       "      <td>9999</td>\n",
       "      <td>wagon</td>\n",
       "      <td>2006</td>\n",
       "      <td>auto</td>\n",
       "      <td>140</td>\n",
       "      <td>a4</td>\n",
       "      <td>150000</td>\n",
       "      <td>5</td>\n",
       "      <td>gasoline</td>\n",
       "      <td>audi</td>\n",
       "      <td>no</td>\n",
       "      <td>2015-12-17</td>\n",
       "      <td>0</td>\n",
       "      <td>89275</td>\n",
       "      <td>2016-04-05 12:45:51</td>\n",
       "    </tr>\n",
       "    <tr>\n",
       "      <th>282938</th>\n",
       "      <td>5499</td>\n",
       "      <td>sedan</td>\n",
       "      <td>2009</td>\n",
       "      <td>manual</td>\n",
       "      <td>95</td>\n",
       "      <td>2_reihe</td>\n",
       "      <td>70000</td>\n",
       "      <td>3</td>\n",
       "      <td>petrol</td>\n",
       "      <td>peugeot</td>\n",
       "      <td>no</td>\n",
       "      <td>2015-11-10</td>\n",
       "      <td>0</td>\n",
       "      <td>22941</td>\n",
       "      <td>2016-04-07 09:15:21</td>\n",
       "    </tr>\n",
       "    <tr>\n",
       "      <th>301180</th>\n",
       "      <td>5900</td>\n",
       "      <td>convertible</td>\n",
       "      <td>1995</td>\n",
       "      <td>manual</td>\n",
       "      <td>90</td>\n",
       "      <td>mx_reihe</td>\n",
       "      <td>125000</td>\n",
       "      <td>5</td>\n",
       "      <td>petrol</td>\n",
       "      <td>mazda</td>\n",
       "      <td>NaN</td>\n",
       "      <td>2015-11-23</td>\n",
       "      <td>0</td>\n",
       "      <td>63741</td>\n",
       "      <td>2016-03-23 07:18:38</td>\n",
       "    </tr>\n",
       "    <tr>\n",
       "      <th>340616</th>\n",
       "      <td>9500</td>\n",
       "      <td>small</td>\n",
       "      <td>2013</td>\n",
       "      <td>manual</td>\n",
       "      <td>90</td>\n",
       "      <td>corsa</td>\n",
       "      <td>50000</td>\n",
       "      <td>4</td>\n",
       "      <td>gasoline</td>\n",
       "      <td>opel</td>\n",
       "      <td>no</td>\n",
       "      <td>2015-09-09</td>\n",
       "      <td>0</td>\n",
       "      <td>98739</td>\n",
       "      <td>2016-04-05 17:46:04</td>\n",
       "    </tr>\n",
       "    <tr>\n",
       "      <th>342275</th>\n",
       "      <td>10400</td>\n",
       "      <td>bus</td>\n",
       "      <td>1993</td>\n",
       "      <td>NaN</td>\n",
       "      <td>0</td>\n",
       "      <td>ducato</td>\n",
       "      <td>30000</td>\n",
       "      <td>1</td>\n",
       "      <td>gasoline</td>\n",
       "      <td>fiat</td>\n",
       "      <td>NaN</td>\n",
       "      <td>2015-06-18</td>\n",
       "      <td>0</td>\n",
       "      <td>76275</td>\n",
       "      <td>2016-04-05 17:46:09</td>\n",
       "    </tr>\n",
       "    <tr>\n",
       "      <th>343447</th>\n",
       "      <td>18500</td>\n",
       "      <td>sedan</td>\n",
       "      <td>2015</td>\n",
       "      <td>manual</td>\n",
       "      <td>110</td>\n",
       "      <td>golf</td>\n",
       "      <td>10000</td>\n",
       "      <td>3</td>\n",
       "      <td>petrol</td>\n",
       "      <td>volkswagen</td>\n",
       "      <td>no</td>\n",
       "      <td>2015-12-30</td>\n",
       "      <td>0</td>\n",
       "      <td>22391</td>\n",
       "      <td>2016-04-07 07:15:41</td>\n",
       "    </tr>\n",
       "    <tr>\n",
       "      <th>344287</th>\n",
       "      <td>17200</td>\n",
       "      <td>convertible</td>\n",
       "      <td>1985</td>\n",
       "      <td>auto</td>\n",
       "      <td>155</td>\n",
       "      <td>sl</td>\n",
       "      <td>150000</td>\n",
       "      <td>2</td>\n",
       "      <td>petrol</td>\n",
       "      <td>mercedes_benz</td>\n",
       "      <td>NaN</td>\n",
       "      <td>2015-12-30</td>\n",
       "      <td>0</td>\n",
       "      <td>75177</td>\n",
       "      <td>2016-04-05 12:44:49</td>\n",
       "    </tr>\n",
       "  </tbody>\n",
       "</table>\n",
       "</div>"
      ],
      "text/plain": [
       "        Price  VehicleType  RegistrationYear Gearbox  Power     Model  \\\n",
       "4001     6000          bus              1995    auto    200     other   \n",
       "9972     3490        sedan              2006  manual     88      clio   \n",
       "29712    6950        sedan              2004    auto    150        a3   \n",
       "60168    5999        sedan              1997    auto    197  c_klasse   \n",
       "75598     600        small              2005  manual     54      polo   \n",
       "75684    5400        small              2009  manual     44   ypsilon   \n",
       "76459    7500        sedan              2002    auto    333       7er   \n",
       "77378    7999        sedan              2013  manual     75       mii   \n",
       "85505     900        sedan              1997    auto    115   impreza   \n",
       "86601   14250  convertible              2005  manual    163       slk   \n",
       "125286   7999        sedan              2013  manual     75       mii   \n",
       "153650  11999          NaN              2008  manual    150       NaN   \n",
       "161567  15500        wagon              2009  manual    160        a4   \n",
       "175103   5200  convertible              2006  manual    109   2_reihe   \n",
       "221002    600        small              2005  manual     54      polo   \n",
       "226822    900        sedan              1997    auto    115   impreza   \n",
       "244633   2400        sedan              2004    auto     61    fortwo   \n",
       "260635    900        sedan              1997    auto    115   impreza   \n",
       "274600   9999        wagon              2006    auto    140        a4   \n",
       "282938   5499        sedan              2009  manual     95   2_reihe   \n",
       "301180   5900  convertible              1995  manual     90  mx_reihe   \n",
       "340616   9500        small              2013  manual     90     corsa   \n",
       "342275  10400          bus              1993     NaN      0    ducato   \n",
       "343447  18500        sedan              2015  manual    110      golf   \n",
       "344287  17200  convertible              1985    auto    155        sl   \n",
       "\n",
       "        Kilometer  RegistrationMonth  FuelType          Brand NotRepaired  \\\n",
       "4001       150000                  0    petrol      chevrolet          no   \n",
       "9972       150000                  3    petrol        renault          no   \n",
       "29712      100000                  1    petrol           audi          no   \n",
       "60168      150000                  9    petrol  mercedes_benz          no   \n",
       "75598      150000                  1    petrol     volkswagen         yes   \n",
       "75684       40000                  9    petrol         lancia          no   \n",
       "76459      150000                  9       lpg            bmw          no   \n",
       "77378       30000                  6    petrol           seat          no   \n",
       "85505      150000                  4    petrol         subaru          no   \n",
       "86601      150000                  6    petrol  mercedes_benz          no   \n",
       "125286      30000                  6    petrol           seat          no   \n",
       "153650      90000                  1  gasoline           opel          no   \n",
       "161567     100000                 11    petrol           audi          no   \n",
       "175103      80000                 11    petrol        peugeot          no   \n",
       "221002     150000                  1    petrol     volkswagen         yes   \n",
       "226822     150000                  4    petrol         subaru          no   \n",
       "244633      90000                  6    petrol          smart          no   \n",
       "260635     150000                  4    petrol         subaru          no   \n",
       "274600     150000                  5  gasoline           audi          no   \n",
       "282938      70000                  3    petrol        peugeot          no   \n",
       "301180     125000                  5    petrol          mazda         NaN   \n",
       "340616      50000                  4  gasoline           opel          no   \n",
       "342275      30000                  1  gasoline           fiat         NaN   \n",
       "343447      10000                  3    petrol     volkswagen          no   \n",
       "344287     150000                  2    petrol  mercedes_benz         NaN   \n",
       "\n",
       "       DateCreated  NumberOfPictures  PostalCode             LastSeen  \n",
       "4001    2015-03-20                 0       24558  2016-04-07 03:45:01  \n",
       "9972    2015-11-02                 0       40880  2016-03-17 15:46:57  \n",
       "29712   2015-12-06                 0       61389  2016-04-06 14:16:09  \n",
       "60168   2015-11-17                 0       28816  2016-04-06 05:46:03  \n",
       "75598   2015-09-04                 0       72669  2016-03-15 14:16:58  \n",
       "75684   2015-11-12                 0       53119  2016-04-06 03:16:57  \n",
       "76459   2015-12-27                 0       46117  2016-03-27 22:15:37  \n",
       "77378   2015-11-24                 0       60437  2016-04-05 22:47:33  \n",
       "85505   2015-12-05                 0        2943  2016-03-22 23:16:25  \n",
       "86601   2015-08-07                 0       76228  2016-04-07 09:15:23  \n",
       "125286  2015-11-24                 0       60437  2016-04-07 11:25:36  \n",
       "153650  2015-11-23                 0        7749  2016-03-27 17:44:16  \n",
       "161567  2015-11-08                 0       56410  2016-04-06 23:15:36  \n",
       "175103  2015-08-10                 0       26382  2016-04-05 20:46:54  \n",
       "221002  2015-09-04                 0       72669  2016-03-15 15:49:29  \n",
       "226822  2015-12-05                 0        2943  2016-03-22 20:16:42  \n",
       "244633  2015-12-30                 0       10315  2016-04-06 15:17:11  \n",
       "260635  2015-12-05                 0        2943  2016-03-23 13:56:25  \n",
       "274600  2015-12-17                 0       89275  2016-04-05 12:45:51  \n",
       "282938  2015-11-10                 0       22941  2016-04-07 09:15:21  \n",
       "301180  2015-11-23                 0       63741  2016-03-23 07:18:38  \n",
       "340616  2015-09-09                 0       98739  2016-04-05 17:46:04  \n",
       "342275  2015-06-18                 0       76275  2016-04-05 17:46:09  \n",
       "343447  2015-12-30                 0       22391  2016-04-07 07:15:41  \n",
       "344287  2015-12-30                 0       75177  2016-04-05 12:44:49  "
      ]
     },
     "execution_count": 13,
     "metadata": {},
     "output_type": "execute_result"
    }
   ],
   "source": [
    "data[data['DateCreated'].dt.year == 2015]"
   ]
  },
  {
   "cell_type": "markdown",
   "metadata": {},
   "source": [
    "Большинство имеющихся объявлений за 2015 год созданы в ноябре или декабре и должны уже учитывать инфляцию за первые кварталы года, однако, т.к. они составляют незначительное долю от общего датасета (`25 / 354 335 = 0,00007 %`) их можно удалить."
   ]
  },
  {
   "cell_type": "code",
   "execution_count": 14,
   "metadata": {},
   "outputs": [],
   "source": [
    "data = data[data['DateCreated'].dt.year == 2016]    # оставляем объекты за 2016 год\n",
    "data = data.drop(columns=['DateCreated'])           # а после удаляем столбец с датой создания объявления"
   ]
  },
  {
   "cell_type": "markdown",
   "metadata": {},
   "source": [
    "Интересный вопрос, влияет ли месяц регистрации транспортного средства на его цену — формально его \"новизну\" определяет пробег, а не дата регистрации, но в зависимости от месяца мы можем предполагать поколение популярных моделей — а это точно ценообразующий фактор. Например, **Mitsubishi Outlander III поколения** выпускался с 2012 по сентябрь 2014, а в октябре была представлена версия **рестайлинг** — изменились передние и задние бампера, решётка радиатора, появились расширители арок, поменялась задняя оптика, появились светодиоды и новые 18-дюймовые колёсные диски, улучшилась шумоизоляция салона, система охлаждения вариатора, была перенастроена подвеска."
   ]
  },
  {
   "cell_type": "markdown",
   "metadata": {},
   "source": [
    "Ранее мы заметили ошибку в признаке `NumberOfPictures` — все квартили и максимум равнялись нулю. Проверим заполнение признака, посчитав уникальные значения в столбце."
   ]
  },
  {
   "cell_type": "code",
   "execution_count": 15,
   "metadata": {
    "scrolled": true
   },
   "outputs": [
    {
     "data": {
      "text/plain": [
       "0    354339\n",
       "Name: NumberOfPictures, dtype: int64"
      ]
     },
     "execution_count": 15,
     "metadata": {},
     "output_type": "execute_result"
    }
   ],
   "source": [
    "data['NumberOfPictures'].value_counts()"
   ]
  },
  {
   "cell_type": "markdown",
   "metadata": {},
   "source": [
    "Этот признак, а также информацию об авторе объявления (`PostalCode` и `LastSeen`) мы удалим, так как они не влияют на цену транспортного средства."
   ]
  },
  {
   "cell_type": "code",
   "execution_count": 16,
   "metadata": {},
   "outputs": [],
   "source": [
    "data = data.drop(columns=['NumberOfPictures','PostalCode','LastSeen'])"
   ]
  },
  {
   "cell_type": "markdown",
   "metadata": {},
   "source": [
    "Посмотрим на информацию по датасету после удаления неинформативных столбцов"
   ]
  },
  {
   "cell_type": "code",
   "execution_count": 17,
   "metadata": {
    "scrolled": true
   },
   "outputs": [
    {
     "name": "stdout",
     "output_type": "stream",
     "text": [
      "<class 'pandas.core.frame.DataFrame'>\n",
      "Int64Index: 354339 entries, 0 to 354368\n",
      "Data columns (total 11 columns):\n",
      " #   Column             Non-Null Count   Dtype \n",
      "---  ------             --------------   ----- \n",
      " 0   Price              354339 non-null  int64 \n",
      " 1   VehicleType        316851 non-null  object\n",
      " 2   RegistrationYear   354339 non-null  int64 \n",
      " 3   Gearbox            334508 non-null  object\n",
      " 4   Power              354339 non-null  int64 \n",
      " 5   Model              334635 non-null  object\n",
      " 6   Kilometer          354339 non-null  int64 \n",
      " 7   RegistrationMonth  354339 non-null  int64 \n",
      " 8   FuelType           321444 non-null  object\n",
      " 9   Brand              354339 non-null  object\n",
      " 10  NotRepaired        283189 non-null  object\n",
      "dtypes: int64(5), object(6)\n",
      "memory usage: 32.4+ MB\n"
     ]
    }
   ],
   "source": [
    "data.info()"
   ]
  },
  {
   "cell_type": "markdown",
   "metadata": {},
   "source": [
    "Т. о. у нас осталось 11 признаков (один из которых целевой)."
   ]
  },
  {
   "cell_type": "markdown",
   "metadata": {},
   "source": [
    "### Обработка пропусков и аномалий"
   ]
  },
  {
   "cell_type": "markdown",
   "metadata": {},
   "source": [
    "#### Аномалии в целевом признаке"
   ]
  },
  {
   "cell_type": "markdown",
   "metadata": {},
   "source": [
    "В начале исследования мы заметили, что целевой признак `Price` имеет минимальное значение 0. Посмотрим на распределение значений этого признака:"
   ]
  },
  {
   "cell_type": "code",
   "execution_count": 18,
   "metadata": {
    "scrolled": true
   },
   "outputs": [
    {
     "data": {
      "text/plain": [
       "<AxesSubplot:>"
      ]
     },
     "execution_count": 18,
     "metadata": {},
     "output_type": "execute_result"
    },
    {
     "data": {
      "image/png": "[encoded data removed]",
      "text/plain": [
       "<Figure size 432x288 with 1 Axes>"
      ]
     },
     "metadata": {
      "needs_background": "light"
     },
     "output_type": "display_data"
    }
   ],
   "source": [
    "data['Price'].hist(bins=100)"
   ]
  },
  {
   "cell_type": "markdown",
   "metadata": {},
   "source": [
    "Кажется, большинство автомобилей в датасете достаточно дешевые — пик распределения цены где-то около 1000 евро (при этом среднее равняется 4416, а медиана — 2700)."
   ]
  },
  {
   "cell_type": "markdown",
   "metadata": {},
   "source": [
    "Посмотрим на автомобили без указания цены:"
   ]
  },
  {
   "cell_type": "code",
   "execution_count": 19,
   "metadata": {
    "scrolled": false
   },
   "outputs": [
    {
     "name": "stdout",
     "output_type": "stream",
     "text": [
      "<class 'pandas.core.frame.DataFrame'>\n",
      "Int64Index: 10772 entries, 7 to 354364\n",
      "Data columns (total 11 columns):\n",
      " #   Column             Non-Null Count  Dtype \n",
      "---  ------             --------------  ----- \n",
      " 0   Price              10772 non-null  int64 \n",
      " 1   VehicleType        7032 non-null   object\n",
      " 2   RegistrationYear   10772 non-null  int64 \n",
      " 3   Gearbox            8294 non-null   object\n",
      " 4   Power              10772 non-null  int64 \n",
      " 5   Model              8588 non-null   object\n",
      " 6   Kilometer          10772 non-null  int64 \n",
      " 7   RegistrationMonth  10772 non-null  int64 \n",
      " 8   FuelType           7336 non-null   object\n",
      " 9   Brand              10772 non-null  object\n",
      " 10  NotRepaired        5484 non-null   object\n",
      "dtypes: int64(5), object(6)\n",
      "memory usage: 1009.9+ KB\n"
     ]
    }
   ],
   "source": [
    "data[data['Price']==0].info()"
   ]
  },
  {
   "cell_type": "code",
   "execution_count": 20,
   "metadata": {
    "scrolled": true
   },
   "outputs": [
    {
     "data": {
      "text/html": [
       "<div>\n",
       "<style scoped>\n",
       "    .dataframe tbody tr th:only-of-type {\n",
       "        vertical-align: middle;\n",
       "    }\n",
       "\n",
       "    .dataframe tbody tr th {\n",
       "        vertical-align: top;\n",
       "    }\n",
       "\n",
       "    .dataframe thead th {\n",
       "        text-align: right;\n",
       "    }\n",
       "</style>\n",
       "<table border=\"1\" class=\"dataframe\">\n",
       "  <thead>\n",
       "    <tr style=\"text-align: right;\">\n",
       "      <th></th>\n",
       "      <th>Price</th>\n",
       "      <th>VehicleType</th>\n",
       "      <th>RegistrationYear</th>\n",
       "      <th>Gearbox</th>\n",
       "      <th>Power</th>\n",
       "      <th>Model</th>\n",
       "      <th>Kilometer</th>\n",
       "      <th>RegistrationMonth</th>\n",
       "      <th>FuelType</th>\n",
       "      <th>Brand</th>\n",
       "      <th>NotRepaired</th>\n",
       "    </tr>\n",
       "  </thead>\n",
       "  <tbody>\n",
       "    <tr>\n",
       "      <th>7</th>\n",
       "      <td>0</td>\n",
       "      <td>sedan</td>\n",
       "      <td>1980</td>\n",
       "      <td>manual</td>\n",
       "      <td>50</td>\n",
       "      <td>other</td>\n",
       "      <td>40000</td>\n",
       "      <td>7</td>\n",
       "      <td>petrol</td>\n",
       "      <td>volkswagen</td>\n",
       "      <td>no</td>\n",
       "    </tr>\n",
       "    <tr>\n",
       "      <th>40</th>\n",
       "      <td>0</td>\n",
       "      <td>NaN</td>\n",
       "      <td>1990</td>\n",
       "      <td>NaN</td>\n",
       "      <td>0</td>\n",
       "      <td>corsa</td>\n",
       "      <td>150000</td>\n",
       "      <td>1</td>\n",
       "      <td>petrol</td>\n",
       "      <td>opel</td>\n",
       "      <td>NaN</td>\n",
       "    </tr>\n",
       "    <tr>\n",
       "      <th>111</th>\n",
       "      <td>0</td>\n",
       "      <td>NaN</td>\n",
       "      <td>2017</td>\n",
       "      <td>manual</td>\n",
       "      <td>0</td>\n",
       "      <td>golf</td>\n",
       "      <td>5000</td>\n",
       "      <td>12</td>\n",
       "      <td>petrol</td>\n",
       "      <td>volkswagen</td>\n",
       "      <td>NaN</td>\n",
       "    </tr>\n",
       "    <tr>\n",
       "      <th>115</th>\n",
       "      <td>0</td>\n",
       "      <td>small</td>\n",
       "      <td>1999</td>\n",
       "      <td>NaN</td>\n",
       "      <td>0</td>\n",
       "      <td>NaN</td>\n",
       "      <td>5000</td>\n",
       "      <td>0</td>\n",
       "      <td>petrol</td>\n",
       "      <td>volkswagen</td>\n",
       "      <td>NaN</td>\n",
       "    </tr>\n",
       "    <tr>\n",
       "      <th>152</th>\n",
       "      <td>0</td>\n",
       "      <td>bus</td>\n",
       "      <td>2004</td>\n",
       "      <td>manual</td>\n",
       "      <td>101</td>\n",
       "      <td>meriva</td>\n",
       "      <td>150000</td>\n",
       "      <td>10</td>\n",
       "      <td>lpg</td>\n",
       "      <td>opel</td>\n",
       "      <td>yes</td>\n",
       "    </tr>\n",
       "    <tr>\n",
       "      <th>154</th>\n",
       "      <td>0</td>\n",
       "      <td>NaN</td>\n",
       "      <td>2006</td>\n",
       "      <td>NaN</td>\n",
       "      <td>0</td>\n",
       "      <td>other</td>\n",
       "      <td>5000</td>\n",
       "      <td>0</td>\n",
       "      <td>NaN</td>\n",
       "      <td>fiat</td>\n",
       "      <td>NaN</td>\n",
       "    </tr>\n",
       "    <tr>\n",
       "      <th>231</th>\n",
       "      <td>0</td>\n",
       "      <td>wagon</td>\n",
       "      <td>2001</td>\n",
       "      <td>manual</td>\n",
       "      <td>115</td>\n",
       "      <td>mondeo</td>\n",
       "      <td>150000</td>\n",
       "      <td>0</td>\n",
       "      <td>NaN</td>\n",
       "      <td>ford</td>\n",
       "      <td>NaN</td>\n",
       "    </tr>\n",
       "    <tr>\n",
       "      <th>334</th>\n",
       "      <td>0</td>\n",
       "      <td>NaN</td>\n",
       "      <td>2005</td>\n",
       "      <td>NaN</td>\n",
       "      <td>0</td>\n",
       "      <td>polo</td>\n",
       "      <td>150000</td>\n",
       "      <td>0</td>\n",
       "      <td>petrol</td>\n",
       "      <td>volkswagen</td>\n",
       "      <td>NaN</td>\n",
       "    </tr>\n",
       "    <tr>\n",
       "      <th>415</th>\n",
       "      <td>0</td>\n",
       "      <td>NaN</td>\n",
       "      <td>1985</td>\n",
       "      <td>NaN</td>\n",
       "      <td>0</td>\n",
       "      <td>3er</td>\n",
       "      <td>150000</td>\n",
       "      <td>0</td>\n",
       "      <td>NaN</td>\n",
       "      <td>bmw</td>\n",
       "      <td>NaN</td>\n",
       "    </tr>\n",
       "    <tr>\n",
       "      <th>466</th>\n",
       "      <td>0</td>\n",
       "      <td>NaN</td>\n",
       "      <td>2016</td>\n",
       "      <td>auto</td>\n",
       "      <td>197</td>\n",
       "      <td>3er</td>\n",
       "      <td>150000</td>\n",
       "      <td>12</td>\n",
       "      <td>gasoline</td>\n",
       "      <td>bmw</td>\n",
       "      <td>no</td>\n",
       "    </tr>\n",
       "  </tbody>\n",
       "</table>\n",
       "</div>"
      ],
      "text/plain": [
       "     Price VehicleType  RegistrationYear Gearbox  Power   Model  Kilometer  \\\n",
       "7        0       sedan              1980  manual     50   other      40000   \n",
       "40       0         NaN              1990     NaN      0   corsa     150000   \n",
       "111      0         NaN              2017  manual      0    golf       5000   \n",
       "115      0       small              1999     NaN      0     NaN       5000   \n",
       "152      0         bus              2004  manual    101  meriva     150000   \n",
       "154      0         NaN              2006     NaN      0   other       5000   \n",
       "231      0       wagon              2001  manual    115  mondeo     150000   \n",
       "334      0         NaN              2005     NaN      0    polo     150000   \n",
       "415      0         NaN              1985     NaN      0     3er     150000   \n",
       "466      0         NaN              2016    auto    197     3er     150000   \n",
       "\n",
       "     RegistrationMonth  FuelType       Brand NotRepaired  \n",
       "7                    7    petrol  volkswagen          no  \n",
       "40                   1    petrol        opel         NaN  \n",
       "111                 12    petrol  volkswagen         NaN  \n",
       "115                  0    petrol  volkswagen         NaN  \n",
       "152                 10       lpg        opel         yes  \n",
       "154                  0       NaN        fiat         NaN  \n",
       "231                  0       NaN        ford         NaN  \n",
       "334                  0    petrol  volkswagen         NaN  \n",
       "415                  0       NaN         bmw         NaN  \n",
       "466                 12  gasoline         bmw          no  "
      ]
     },
     "execution_count": 20,
     "metadata": {},
     "output_type": "execute_result"
    }
   ],
   "source": [
    "data[data['Price']==0].head(10)"
   ]
  },
  {
   "cell_type": "markdown",
   "metadata": {},
   "source": [
    "Почти 11 000 объектов — возможно это автомобили на разборке, продающиеся на запчасти, возможно автомобили на заказ, которые \"пригонят\" из другой страны (у 2200 не указана конкретная марка), возможно, авторы объявления оставили цену открытой для торга. Так или иначе, обучить по ним модель и предсказать цену для новых объявлений не получится — **удалим эти объекты из датасета**."
   ]
  },
  {
   "cell_type": "code",
   "execution_count": 21,
   "metadata": {},
   "outputs": [],
   "source": [
    "data = data[data['Price']!=0]"
   ]
  },
  {
   "cell_type": "markdown",
   "metadata": {},
   "source": [
    "#### Аномалии в годе регистрации ТС"
   ]
  },
  {
   "cell_type": "code",
   "execution_count": 22,
   "metadata": {
    "scrolled": true
   },
   "outputs": [
    {
     "data": {
      "text/plain": [
       "<AxesSubplot:>"
      ]
     },
     "execution_count": 22,
     "metadata": {},
     "output_type": "execute_result"
    },
    {
     "data": {
      "image/png": "[encoded data removed]",
      "text/plain": [
       "<Figure size 432x288 with 1 Axes>"
      ]
     },
     "metadata": {
      "needs_background": "light"
     },
     "output_type": "display_data"
    }
   ],
   "source": [
    "data['RegistrationYear'].hist(bins=100)"
   ]
  },
  {
   "cell_type": "markdown",
   "metadata": {},
   "source": [
    "График делают непригодным аномальные значения — минимум составляет 1000 год, а максимум 9999. Нормальными очевидно могут является годы с 1908 (появление первого массового автомобиля Ford T — хотя вряд ли такие старые машины есть в датасете) по 2016 (т.к. все анкеты опубликованы в 2016)."
   ]
  },
  {
   "cell_type": "code",
   "execution_count": 23,
   "metadata": {},
   "outputs": [],
   "source": [
    "data = data[data['RegistrationYear'] > 1908]# отбрасываем значения с годом регистрации меньше адекватного"
   ]
  },
  {
   "cell_type": "markdown",
   "metadata": {},
   "source": [
    "Автомобили, с датой регистрации позже выгрузки датасета, следует сначала рассмотреть — возможно это предпродажа будущих моделей."
   ]
  },
  {
   "cell_type": "code",
   "execution_count": 24,
   "metadata": {
    "scrolled": true
   },
   "outputs": [
    {
     "data": {
      "text/html": [
       "<div>\n",
       "<style scoped>\n",
       "    .dataframe tbody tr th:only-of-type {\n",
       "        vertical-align: middle;\n",
       "    }\n",
       "\n",
       "    .dataframe tbody tr th {\n",
       "        vertical-align: top;\n",
       "    }\n",
       "\n",
       "    .dataframe thead th {\n",
       "        text-align: right;\n",
       "    }\n",
       "</style>\n",
       "<table border=\"1\" class=\"dataframe\">\n",
       "  <thead>\n",
       "    <tr style=\"text-align: right;\">\n",
       "      <th></th>\n",
       "      <th>Price</th>\n",
       "      <th>RegistrationYear</th>\n",
       "      <th>Power</th>\n",
       "      <th>Kilometer</th>\n",
       "      <th>RegistrationMonth</th>\n",
       "    </tr>\n",
       "  </thead>\n",
       "  <tbody>\n",
       "    <tr>\n",
       "      <th>count</th>\n",
       "      <td>13779.000000</td>\n",
       "      <td>13779.000000</td>\n",
       "      <td>13779.000000</td>\n",
       "      <td>13779.000000</td>\n",
       "      <td>13779.000000</td>\n",
       "    </tr>\n",
       "    <tr>\n",
       "      <th>mean</th>\n",
       "      <td>3324.007185</td>\n",
       "      <td>2043.060091</td>\n",
       "      <td>89.073735</td>\n",
       "      <td>131936.642717</td>\n",
       "      <td>4.807969</td>\n",
       "    </tr>\n",
       "    <tr>\n",
       "      <th>std</th>\n",
       "      <td>3470.907197</td>\n",
       "      <td>384.355937</td>\n",
       "      <td>252.706240</td>\n",
       "      <td>36573.752919</td>\n",
       "      <td>3.994933</td>\n",
       "    </tr>\n",
       "    <tr>\n",
       "      <th>min</th>\n",
       "      <td>1.000000</td>\n",
       "      <td>2017.000000</td>\n",
       "      <td>0.000000</td>\n",
       "      <td>5000.000000</td>\n",
       "      <td>0.000000</td>\n",
       "    </tr>\n",
       "    <tr>\n",
       "      <th>25%</th>\n",
       "      <td>1050.000000</td>\n",
       "      <td>2017.000000</td>\n",
       "      <td>0.000000</td>\n",
       "      <td>125000.000000</td>\n",
       "      <td>1.000000</td>\n",
       "    </tr>\n",
       "    <tr>\n",
       "      <th>50%</th>\n",
       "      <td>2000.000000</td>\n",
       "      <td>2017.000000</td>\n",
       "      <td>80.000000</td>\n",
       "      <td>150000.000000</td>\n",
       "      <td>4.000000</td>\n",
       "    </tr>\n",
       "    <tr>\n",
       "      <th>75%</th>\n",
       "      <td>4250.000000</td>\n",
       "      <td>2018.000000</td>\n",
       "      <td>117.000000</td>\n",
       "      <td>150000.000000</td>\n",
       "      <td>8.000000</td>\n",
       "    </tr>\n",
       "    <tr>\n",
       "      <th>max</th>\n",
       "      <td>20000.000000</td>\n",
       "      <td>9999.000000</td>\n",
       "      <td>16011.000000</td>\n",
       "      <td>150000.000000</td>\n",
       "      <td>12.000000</td>\n",
       "    </tr>\n",
       "  </tbody>\n",
       "</table>\n",
       "</div>"
      ],
      "text/plain": [
       "              Price  RegistrationYear         Power      Kilometer  \\\n",
       "count  13779.000000      13779.000000  13779.000000   13779.000000   \n",
       "mean    3324.007185       2043.060091     89.073735  131936.642717   \n",
       "std     3470.907197        384.355937    252.706240   36573.752919   \n",
       "min        1.000000       2017.000000      0.000000    5000.000000   \n",
       "25%     1050.000000       2017.000000      0.000000  125000.000000   \n",
       "50%     2000.000000       2017.000000     80.000000  150000.000000   \n",
       "75%     4250.000000       2018.000000    117.000000  150000.000000   \n",
       "max    20000.000000       9999.000000  16011.000000  150000.000000   \n",
       "\n",
       "       RegistrationMonth  \n",
       "count       13779.000000  \n",
       "mean            4.807969  \n",
       "std             3.994933  \n",
       "min             0.000000  \n",
       "25%             1.000000  \n",
       "50%             4.000000  \n",
       "75%             8.000000  \n",
       "max            12.000000  "
      ]
     },
     "execution_count": 24,
     "metadata": {},
     "output_type": "execute_result"
    }
   ],
   "source": [
    "data[data['RegistrationYear'] > 2016].describe()"
   ]
  },
  {
   "cell_type": "markdown",
   "metadata": {},
   "source": [
    "Вероятно, часть объектов действительно относится к такого рода объявлениям, однако средняя цена 3324 евро явно меньше цены нового автомобиля. Т.к. возможности рассматривать каждое из 13779 объявления в ручную нет возможности, признаем такие объекты аномальными и также отбросим их."
   ]
  },
  {
   "cell_type": "code",
   "execution_count": 25,
   "metadata": {},
   "outputs": [],
   "source": [
    "data = data[data['RegistrationYear'] <= 2016]"
   ]
  },
  {
   "cell_type": "code",
   "execution_count": 26,
   "metadata": {
    "scrolled": true
   },
   "outputs": [
    {
     "data": {
      "text/plain": [
       "<AxesSubplot:>"
      ]
     },
     "execution_count": 26,
     "metadata": {},
     "output_type": "execute_result"
    },
    {
     "data": {
      "image/png": "[encoded data removed]",
      "text/plain": [
       "<Figure size 432x288 with 1 Axes>"
      ]
     },
     "metadata": {
      "needs_background": "light"
     },
     "output_type": "display_data"
    }
   ],
   "source": [
    "data['RegistrationYear'].hist(bins=50) # распределение после удаления аномалий"
   ]
  },
  {
   "cell_type": "markdown",
   "metadata": {},
   "source": [
    "#### Пропуски и аномалии в типах автомобильного кузова"
   ]
  },
  {
   "cell_type": "markdown",
   "metadata": {},
   "source": [
    "Сначала посмотрим какие значения имеюся по данному признаку:"
   ]
  },
  {
   "cell_type": "code",
   "execution_count": 27,
   "metadata": {
    "scrolled": false
   },
   "outputs": [
    {
     "data": {
      "text/plain": [
       "sedan          89389\n",
       "small          78009\n",
       "wagon          63694\n",
       "bus            28341\n",
       "convertible    19860\n",
       "coupe          15632\n",
       "suv            11790\n",
       "other           3085\n",
       "Name: VehicleType, dtype: int64"
      ]
     },
     "execution_count": 27,
     "metadata": {},
     "output_type": "execute_result"
    }
   ],
   "source": [
    "data['VehicleType'].value_counts()"
   ]
  },
  {
   "cell_type": "markdown",
   "metadata": {},
   "source": [
    "Нетипичных значений и смысловых синонимов нет. Теперь перейдем к пропускам:"
   ]
  },
  {
   "cell_type": "code",
   "execution_count": 28,
   "metadata": {
    "scrolled": true
   },
   "outputs": [
    {
     "data": {
      "text/plain": [
       "19935"
      ]
     },
     "execution_count": 28,
     "metadata": {},
     "output_type": "execute_result"
    }
   ],
   "source": [
    "data['VehicleType'].isna().sum()"
   ]
  },
  {
   "cell_type": "markdown",
   "metadata": {},
   "source": [
    "Т. к. одна и та же модель может выпускать в разных типах кузова, заменить пропуски по названию модели не получится."
   ]
  },
  {
   "cell_type": "code",
   "execution_count": 29,
   "metadata": {
    "scrolled": false
   },
   "outputs": [
    {
     "data": {
      "text/plain": [
       "<AxesSubplot:>"
      ]
     },
     "execution_count": 29,
     "metadata": {},
     "output_type": "execute_result"
    },
    {
     "data": {
      "image/png": "[encoded data removed]",
      "text/plain": [
       "<Figure size 432x288 with 1 Axes>"
      ]
     },
     "metadata": {
      "needs_background": "light"
     },
     "output_type": "display_data"
    }
   ],
   "source": [
    "data[data['Model']=='golf']['VehicleType'].hist() #распределение типов кузова для гольфов"
   ]
  },
  {
   "cell_type": "markdown",
   "metadata": {},
   "source": [
    "Чтобы при дальнейшей обработке данных не потерять строки с пропусками заменим `NaN` на новое значение **undefined**"
   ]
  },
  {
   "cell_type": "code",
   "execution_count": 30,
   "metadata": {},
   "outputs": [],
   "source": [
    "data['VehicleType'] = data['VehicleType'].fillna('undefined')"
   ]
  },
  {
   "cell_type": "markdown",
   "metadata": {},
   "source": [
    "#### Обработка пропусков и аномалий по коробкам передач"
   ]
  },
  {
   "cell_type": "code",
   "execution_count": 31,
   "metadata": {
    "scrolled": true
   },
   "outputs": [
    {
     "data": {
      "text/plain": [
       "manual    251144\n",
       "auto       62991\n",
       "Name: Gearbox, dtype: int64"
      ]
     },
     "execution_count": 31,
     "metadata": {},
     "output_type": "execute_result"
    }
   ],
   "source": [
    "data['Gearbox'].value_counts()"
   ]
  },
  {
   "cell_type": "markdown",
   "metadata": {},
   "source": [
    "В датасете представлено два типа значений для коробки передач - коробки автомат не делятся на типы (автомат, робот, вариатор)."
   ]
  },
  {
   "cell_type": "code",
   "execution_count": 32,
   "metadata": {},
   "outputs": [
    {
     "data": {
      "text/html": [
       "<div>\n",
       "<style scoped>\n",
       "    .dataframe tbody tr th:only-of-type {\n",
       "        vertical-align: middle;\n",
       "    }\n",
       "\n",
       "    .dataframe tbody tr th {\n",
       "        vertical-align: top;\n",
       "    }\n",
       "\n",
       "    .dataframe thead tr th {\n",
       "        text-align: left;\n",
       "    }\n",
       "\n",
       "    .dataframe thead tr:last-of-type th {\n",
       "        text-align: right;\n",
       "    }\n",
       "</style>\n",
       "<table border=\"1\" class=\"dataframe\">\n",
       "  <thead>\n",
       "    <tr>\n",
       "      <th></th>\n",
       "      <th>mean</th>\n",
       "    </tr>\n",
       "    <tr>\n",
       "      <th></th>\n",
       "      <th>Price</th>\n",
       "    </tr>\n",
       "    <tr>\n",
       "      <th>Gearbox</th>\n",
       "      <th></th>\n",
       "    </tr>\n",
       "  </thead>\n",
       "  <tbody>\n",
       "    <tr>\n",
       "      <th>auto</th>\n",
       "      <td>7048.216031</td>\n",
       "    </tr>\n",
       "    <tr>\n",
       "      <th>manual</th>\n",
       "      <td>4123.514458</td>\n",
       "    </tr>\n",
       "  </tbody>\n",
       "</table>\n",
       "</div>"
      ],
      "text/plain": [
       "                mean\n",
       "               Price\n",
       "Gearbox             \n",
       "auto     7048.216031\n",
       "manual   4123.514458"
      ]
     },
     "execution_count": 32,
     "metadata": {},
     "output_type": "execute_result"
    }
   ],
   "source": [
    "data.pivot_table(index=['Gearbox'],\n",
    "                 values=['Price'],\n",
    "                 aggfunc=['mean'])"
   ]
  },
  {
   "cell_type": "markdown",
   "metadata": {},
   "source": [
    "Тип коробки передач сильно влияет на цену автомобиля (\"автоматы\" дороже). Можно попробовать \"восстановить\" пропуски, сравнив цену со средней для марки текущего года - если она ближе к цене \"механики\" заполнить \"manual\", а если к цене \"автомата\" — \"auto\"."
   ]
  },
  {
   "cell_type": "code",
   "execution_count": 33,
   "metadata": {
    "scrolled": true
   },
   "outputs": [
    {
     "data": {
      "text/html": [
       "<div>\n",
       "<style scoped>\n",
       "    .dataframe tbody tr th:only-of-type {\n",
       "        vertical-align: middle;\n",
       "    }\n",
       "\n",
       "    .dataframe tbody tr th {\n",
       "        vertical-align: top;\n",
       "    }\n",
       "\n",
       "    .dataframe thead tr th {\n",
       "        text-align: left;\n",
       "    }\n",
       "\n",
       "    .dataframe thead tr:last-of-type th {\n",
       "        text-align: right;\n",
       "    }\n",
       "</style>\n",
       "<table border=\"1\" class=\"dataframe\">\n",
       "  <thead>\n",
       "    <tr>\n",
       "      <th></th>\n",
       "      <th colspan=\"21\" halign=\"left\">mean</th>\n",
       "    </tr>\n",
       "    <tr>\n",
       "      <th></th>\n",
       "      <th colspan=\"21\" halign=\"left\">Price</th>\n",
       "    </tr>\n",
       "    <tr>\n",
       "      <th>Model</th>\n",
       "      <th colspan=\"10\" halign=\"left\">100</th>\n",
       "      <th>...</th>\n",
       "      <th colspan=\"10\" halign=\"left\">zafira</th>\n",
       "    </tr>\n",
       "    <tr>\n",
       "      <th>RegistrationYear</th>\n",
       "      <th>1970</th>\n",
       "      <th>1972</th>\n",
       "      <th>1973</th>\n",
       "      <th>1974</th>\n",
       "      <th>1975</th>\n",
       "      <th>1976</th>\n",
       "      <th>1978</th>\n",
       "      <th>1979</th>\n",
       "      <th>1980</th>\n",
       "      <th>1982</th>\n",
       "      <th>...</th>\n",
       "      <th>2007</th>\n",
       "      <th>2008</th>\n",
       "      <th>2009</th>\n",
       "      <th>2010</th>\n",
       "      <th>2011</th>\n",
       "      <th>2012</th>\n",
       "      <th>2013</th>\n",
       "      <th>2014</th>\n",
       "      <th>2015</th>\n",
       "      <th>2016</th>\n",
       "    </tr>\n",
       "    <tr>\n",
       "      <th>Gearbox</th>\n",
       "      <th></th>\n",
       "      <th></th>\n",
       "      <th></th>\n",
       "      <th></th>\n",
       "      <th></th>\n",
       "      <th></th>\n",
       "      <th></th>\n",
       "      <th></th>\n",
       "      <th></th>\n",
       "      <th></th>\n",
       "      <th></th>\n",
       "      <th></th>\n",
       "      <th></th>\n",
       "      <th></th>\n",
       "      <th></th>\n",
       "      <th></th>\n",
       "      <th></th>\n",
       "      <th></th>\n",
       "      <th></th>\n",
       "      <th></th>\n",
       "      <th></th>\n",
       "    </tr>\n",
       "  </thead>\n",
       "  <tbody>\n",
       "    <tr>\n",
       "      <th>auto</th>\n",
       "      <td>2800.0</td>\n",
       "      <td>NaN</td>\n",
       "      <td>NaN</td>\n",
       "      <td>NaN</td>\n",
       "      <td>NaN</td>\n",
       "      <td>NaN</td>\n",
       "      <td>2999.0</td>\n",
       "      <td>NaN</td>\n",
       "      <td>15000.0</td>\n",
       "      <td>8000.0</td>\n",
       "      <td>...</td>\n",
       "      <td>5644.080000</td>\n",
       "      <td>6142.483871</td>\n",
       "      <td>6360.571429</td>\n",
       "      <td>9018.888889</td>\n",
       "      <td>NaN</td>\n",
       "      <td>14950.000000</td>\n",
       "      <td>16925.000000</td>\n",
       "      <td>NaN</td>\n",
       "      <td>NaN</td>\n",
       "      <td>1275.000000</td>\n",
       "    </tr>\n",
       "    <tr>\n",
       "      <th>manual</th>\n",
       "      <td>NaN</td>\n",
       "      <td>7530.0</td>\n",
       "      <td>4463.333333</td>\n",
       "      <td>7000.0</td>\n",
       "      <td>3650.0</td>\n",
       "      <td>4224.5</td>\n",
       "      <td>14950.0</td>\n",
       "      <td>850.0</td>\n",
       "      <td>6500.0</td>\n",
       "      <td>2900.0</td>\n",
       "      <td>...</td>\n",
       "      <td>5300.467456</td>\n",
       "      <td>6498.340206</td>\n",
       "      <td>6973.151515</td>\n",
       "      <td>9241.521739</td>\n",
       "      <td>9152.757143</td>\n",
       "      <td>11401.814815</td>\n",
       "      <td>13203.333333</td>\n",
       "      <td>14902.9</td>\n",
       "      <td>15466.666667</td>\n",
       "      <td>2918.366197</td>\n",
       "    </tr>\n",
       "  </tbody>\n",
       "</table>\n",
       "<p>2 rows × 4573 columns</p>\n",
       "</div>"
      ],
      "text/plain": [
       "                    mean                                               \\\n",
       "                   Price                                                \n",
       "Model                100                                                \n",
       "RegistrationYear    1970    1972         1973    1974    1975    1976   \n",
       "Gearbox                                                                 \n",
       "auto              2800.0     NaN          NaN     NaN     NaN     NaN   \n",
       "manual               NaN  7530.0  4463.333333  7000.0  3650.0  4224.5   \n",
       "\n",
       "                                                   ...               \\\n",
       "                                                   ...                \n",
       "Model                                              ...       zafira   \n",
       "RegistrationYear     1978   1979     1980    1982  ...         2007   \n",
       "Gearbox                                            ...                \n",
       "auto               2999.0    NaN  15000.0  8000.0  ...  5644.080000   \n",
       "manual            14950.0  850.0   6500.0  2900.0  ...  5300.467456   \n",
       "\n",
       "                                                                      \\\n",
       "                                                                       \n",
       "Model                                                                  \n",
       "RegistrationYear         2008         2009         2010         2011   \n",
       "Gearbox                                                                \n",
       "auto              6142.483871  6360.571429  9018.888889          NaN   \n",
       "manual            6498.340206  6973.151515  9241.521739  9152.757143   \n",
       "\n",
       "                                                                     \\\n",
       "                                                                      \n",
       "Model                                                                 \n",
       "RegistrationYear          2012          2013     2014          2015   \n",
       "Gearbox                                                               \n",
       "auto              14950.000000  16925.000000      NaN           NaN   \n",
       "manual            11401.814815  13203.333333  14902.9  15466.666667   \n",
       "\n",
       "                               \n",
       "                               \n",
       "Model                          \n",
       "RegistrationYear         2016  \n",
       "Gearbox                        \n",
       "auto              1275.000000  \n",
       "manual            2918.366197  \n",
       "\n",
       "[2 rows x 4573 columns]"
      ]
     },
     "execution_count": 33,
     "metadata": {},
     "output_type": "execute_result"
    }
   ],
   "source": [
    "data.pivot_table(index=['Gearbox'],\n",
    "                 columns=['Model','RegistrationYear'],\n",
    "                 values=['Price'],\n",
    "                 aggfunc=['mean'])"
   ]
  },
  {
   "cell_type": "markdown",
   "metadata": {},
   "source": [
    "С такой логикой возникли проблемы — для некоторых моделей нет данных по цене за определенные годы, а на примере \"zafira\" мы видим, что цена может и почти не отличаться (у моделей 2008,2009,2010 годов с разными коробками почти одинаковая цена)"
   ]
  },
  {
   "cell_type": "markdown",
   "metadata": {},
   "source": [
    "Поступим с пропусками в признаке \"Gearbox\" аналогично пропускам в \"VehicleType\" — **заменим пропуски на новое значение undefined**, чтобы объекты с пропусками не потерялись при дальнейшей обработке и группировках."
   ]
  },
  {
   "cell_type": "code",
   "execution_count": 34,
   "metadata": {},
   "outputs": [],
   "source": [
    "data['Gearbox'] = data['Gearbox'].fillna('undefined')"
   ]
  },
  {
   "cell_type": "markdown",
   "metadata": {},
   "source": [
    "#### Пропуски и аналомалии по мощности двигателя."
   ]
  },
  {
   "cell_type": "markdown",
   "metadata": {},
   "source": [
    "Известное выражение (то ли Генри Форда, то ли Энзо Феррари) — \"лошадиные силы продают автомобиль, а крутящий момент выигрывает гонки\". Мощность двигателя действительно влияет на цену автомобиля. Посмотрим на распределение по этому параметру."
   ]
  },
  {
   "cell_type": "code",
   "execution_count": 35,
   "metadata": {},
   "outputs": [
    {
     "data": {
      "text/plain": [
       "<AxesSubplot:>"
      ]
     },
     "execution_count": 35,
     "metadata": {},
     "output_type": "execute_result"
    },
    {
     "data": {
      "image/png": "[encoded data removed]",
      "text/plain": [
       "<Figure size 432x288 with 1 Axes>"
      ]
     },
     "metadata": {
      "needs_background": "light"
     },
     "output_type": "display_data"
    }
   ],
   "source": [
    "data['Power'].hist(bins=50)"
   ]
  },
  {
   "cell_type": "markdown",
   "metadata": {},
   "source": [
    "График получается неинформативным. При среднем значении в 110 л.с. в датасете есть объекты со значением в 20 000 л.с.\n",
    "\n",
    "В качестве границы нормальных значений установим 1000 л.с. — хотя сегодня есть суперкары и по 1500 л.с. такие объекты не будут типичными."
   ]
  },
  {
   "cell_type": "code",
   "execution_count": 36,
   "metadata": {},
   "outputs": [],
   "source": [
    "data = data[data['Power'] <= 1000]"
   ]
  },
  {
   "cell_type": "code",
   "execution_count": 37,
   "metadata": {
    "scrolled": false
   },
   "outputs": [
    {
     "data": {
      "text/plain": [
       "<AxesSubplot:>"
      ]
     },
     "execution_count": 37,
     "metadata": {},
     "output_type": "execute_result"
    },
    {
     "data": {
      "image/png": "[encoded data removed]",
      "text/plain": [
       "<Figure size 432x288 with 1 Axes>"
      ]
     },
     "metadata": {
      "needs_background": "light"
     },
     "output_type": "display_data"
    }
   ],
   "source": [
    "data['Power'].hist(bins=50)"
   ]
  },
  {
   "cell_type": "markdown",
   "metadata": {},
   "source": [
    "График растянут вправо из-за сохранившихся крайних значений. Однако, уже после примерно 600 л.с. мы не видим рисунка диаграммы из-за незначительного количества объектов."
   ]
  },
  {
   "cell_type": "code",
   "execution_count": 38,
   "metadata": {
    "scrolled": true
   },
   "outputs": [
    {
     "data": {
      "text/html": [
       "<div>\n",
       "<style scoped>\n",
       "    .dataframe tbody tr th:only-of-type {\n",
       "        vertical-align: middle;\n",
       "    }\n",
       "\n",
       "    .dataframe tbody tr th {\n",
       "        vertical-align: top;\n",
       "    }\n",
       "\n",
       "    .dataframe thead th {\n",
       "        text-align: right;\n",
       "    }\n",
       "</style>\n",
       "<table border=\"1\" class=\"dataframe\">\n",
       "  <thead>\n",
       "    <tr style=\"text-align: right;\">\n",
       "      <th></th>\n",
       "      <th>Price</th>\n",
       "      <th>VehicleType</th>\n",
       "      <th>RegistrationYear</th>\n",
       "      <th>Gearbox</th>\n",
       "      <th>Power</th>\n",
       "      <th>Model</th>\n",
       "      <th>Kilometer</th>\n",
       "      <th>RegistrationMonth</th>\n",
       "      <th>FuelType</th>\n",
       "      <th>Brand</th>\n",
       "      <th>NotRepaired</th>\n",
       "    </tr>\n",
       "  </thead>\n",
       "  <tbody>\n",
       "    <tr>\n",
       "      <th>4060</th>\n",
       "      <td>3100</td>\n",
       "      <td>sedan</td>\n",
       "      <td>2005</td>\n",
       "      <td>manual</td>\n",
       "      <td>953</td>\n",
       "      <td>colt</td>\n",
       "      <td>150000</td>\n",
       "      <td>4</td>\n",
       "      <td>gasoline</td>\n",
       "      <td>mitsubishi</td>\n",
       "      <td>no</td>\n",
       "    </tr>\n",
       "    <tr>\n",
       "      <th>6296</th>\n",
       "      <td>599</td>\n",
       "      <td>small</td>\n",
       "      <td>2002</td>\n",
       "      <td>manual</td>\n",
       "      <td>603</td>\n",
       "      <td>matiz</td>\n",
       "      <td>5000</td>\n",
       "      <td>11</td>\n",
       "      <td>petrol</td>\n",
       "      <td>chevrolet</td>\n",
       "      <td>yes</td>\n",
       "    </tr>\n",
       "    <tr>\n",
       "      <th>6504</th>\n",
       "      <td>3000</td>\n",
       "      <td>small</td>\n",
       "      <td>2009</td>\n",
       "      <td>manual</td>\n",
       "      <td>771</td>\n",
       "      <td>punto</td>\n",
       "      <td>125000</td>\n",
       "      <td>0</td>\n",
       "      <td>petrol</td>\n",
       "      <td>fiat</td>\n",
       "      <td>NaN</td>\n",
       "    </tr>\n",
       "    <tr>\n",
       "      <th>6637</th>\n",
       "      <td>600</td>\n",
       "      <td>small</td>\n",
       "      <td>1996</td>\n",
       "      <td>manual</td>\n",
       "      <td>603</td>\n",
       "      <td>corsa</td>\n",
       "      <td>150000</td>\n",
       "      <td>8</td>\n",
       "      <td>petrol</td>\n",
       "      <td>opel</td>\n",
       "      <td>yes</td>\n",
       "    </tr>\n",
       "    <tr>\n",
       "      <th>8057</th>\n",
       "      <td>500</td>\n",
       "      <td>small</td>\n",
       "      <td>2002</td>\n",
       "      <td>manual</td>\n",
       "      <td>620</td>\n",
       "      <td>ypsilon</td>\n",
       "      <td>150000</td>\n",
       "      <td>12</td>\n",
       "      <td>petrol</td>\n",
       "      <td>lancia</td>\n",
       "      <td>NaN</td>\n",
       "    </tr>\n",
       "    <tr>\n",
       "      <th>...</th>\n",
       "      <td>...</td>\n",
       "      <td>...</td>\n",
       "      <td>...</td>\n",
       "      <td>...</td>\n",
       "      <td>...</td>\n",
       "      <td>...</td>\n",
       "      <td>...</td>\n",
       "      <td>...</td>\n",
       "      <td>...</td>\n",
       "      <td>...</td>\n",
       "      <td>...</td>\n",
       "    </tr>\n",
       "    <tr>\n",
       "      <th>317353</th>\n",
       "      <td>3999</td>\n",
       "      <td>small</td>\n",
       "      <td>2009</td>\n",
       "      <td>manual</td>\n",
       "      <td>682</td>\n",
       "      <td>NaN</td>\n",
       "      <td>70000</td>\n",
       "      <td>1</td>\n",
       "      <td>petrol</td>\n",
       "      <td>peugeot</td>\n",
       "      <td>no</td>\n",
       "    </tr>\n",
       "    <tr>\n",
       "      <th>320442</th>\n",
       "      <td>3400</td>\n",
       "      <td>small</td>\n",
       "      <td>2007</td>\n",
       "      <td>undefined</td>\n",
       "      <td>732</td>\n",
       "      <td>NaN</td>\n",
       "      <td>125000</td>\n",
       "      <td>12</td>\n",
       "      <td>petrol</td>\n",
       "      <td>citroen</td>\n",
       "      <td>no</td>\n",
       "    </tr>\n",
       "    <tr>\n",
       "      <th>328668</th>\n",
       "      <td>599</td>\n",
       "      <td>small</td>\n",
       "      <td>2002</td>\n",
       "      <td>manual</td>\n",
       "      <td>603</td>\n",
       "      <td>matiz</td>\n",
       "      <td>5000</td>\n",
       "      <td>11</td>\n",
       "      <td>petrol</td>\n",
       "      <td>chevrolet</td>\n",
       "      <td>yes</td>\n",
       "    </tr>\n",
       "    <tr>\n",
       "      <th>331252</th>\n",
       "      <td>4600</td>\n",
       "      <td>small</td>\n",
       "      <td>2008</td>\n",
       "      <td>manual</td>\n",
       "      <td>601</td>\n",
       "      <td>polo</td>\n",
       "      <td>80000</td>\n",
       "      <td>1</td>\n",
       "      <td>petrol</td>\n",
       "      <td>volkswagen</td>\n",
       "      <td>no</td>\n",
       "    </tr>\n",
       "    <tr>\n",
       "      <th>353633</th>\n",
       "      <td>2400</td>\n",
       "      <td>sedan</td>\n",
       "      <td>2007</td>\n",
       "      <td>manual</td>\n",
       "      <td>650</td>\n",
       "      <td>c2</td>\n",
       "      <td>150000</td>\n",
       "      <td>8</td>\n",
       "      <td>petrol</td>\n",
       "      <td>citroen</td>\n",
       "      <td>NaN</td>\n",
       "    </tr>\n",
       "  </tbody>\n",
       "</table>\n",
       "<p>68 rows × 11 columns</p>\n",
       "</div>"
      ],
      "text/plain": [
       "        Price VehicleType  RegistrationYear    Gearbox  Power    Model  \\\n",
       "4060     3100       sedan              2005     manual    953     colt   \n",
       "6296      599       small              2002     manual    603    matiz   \n",
       "6504     3000       small              2009     manual    771    punto   \n",
       "6637      600       small              1996     manual    603    corsa   \n",
       "8057      500       small              2002     manual    620  ypsilon   \n",
       "...       ...         ...               ...        ...    ...      ...   \n",
       "317353   3999       small              2009     manual    682      NaN   \n",
       "320442   3400       small              2007  undefined    732      NaN   \n",
       "328668    599       small              2002     manual    603    matiz   \n",
       "331252   4600       small              2008     manual    601     polo   \n",
       "353633   2400       sedan              2007     manual    650       c2   \n",
       "\n",
       "        Kilometer  RegistrationMonth  FuelType       Brand NotRepaired  \n",
       "4060       150000                  4  gasoline  mitsubishi          no  \n",
       "6296         5000                 11    petrol   chevrolet         yes  \n",
       "6504       125000                  0    petrol        fiat         NaN  \n",
       "6637       150000                  8    petrol        opel         yes  \n",
       "8057       150000                 12    petrol      lancia         NaN  \n",
       "...           ...                ...       ...         ...         ...  \n",
       "317353      70000                  1    petrol     peugeot          no  \n",
       "320442     125000                 12    petrol     citroen          no  \n",
       "328668       5000                 11    petrol   chevrolet         yes  \n",
       "331252      80000                  1    petrol  volkswagen          no  \n",
       "353633     150000                  8    petrol     citroen         NaN  \n",
       "\n",
       "[68 rows x 11 columns]"
      ]
     },
     "execution_count": 38,
     "metadata": {},
     "output_type": "execute_result"
    }
   ],
   "source": [
    "data[data['Power'] > 600] #посмотрим на объекты"
   ]
  },
  {
   "cell_type": "markdown",
   "metadata": {},
   "source": [
    "Никаких суперкаров — chevrolet matiz c 600 л.с. (при стоке 52 л.с.), volkswagen polo с 601 л.с. — объявления больше похожи на ошибочные или мошеннические. Удалим их как аномалии. Граница в 600 л.с. позволит оставить в датасете настоящие суперкары (например, Ford Mustang GT).\n",
    "\n",
    "В качестве левой границы установим 20 л.с. — такую мощность имел уже упоминаемый нами Ford T."
   ]
  },
  {
   "cell_type": "code",
   "execution_count": 39,
   "metadata": {
    "scrolled": true
   },
   "outputs": [
    {
     "data": {
      "text/plain": [
       "<AxesSubplot:>"
      ]
     },
     "execution_count": 39,
     "metadata": {},
     "output_type": "execute_result"
    },
    {
     "data": {
      "image/png": "[encoded data removed]",
      "text/plain": [
       "<Figure size 432x288 with 1 Axes>"
      ]
     },
     "metadata": {
      "needs_background": "light"
     },
     "output_type": "display_data"
    }
   ],
   "source": [
    "#отбрасываем крайние значения и смотрим на новое распределение\n",
    "\n",
    "data = data[(data['Power'] > 24)&(data['Power'] < 600)]\n",
    "data['Power'].hist(bins=50)  "
   ]
  },
  {
   "cell_type": "markdown",
   "metadata": {},
   "source": [
    "#### Проверка значений по признаку `Model`"
   ]
  },
  {
   "cell_type": "markdown",
   "metadata": {},
   "source": [
    "В датасете имеются пропуски по признаку `Model`. Восстановить их не представляется возможным, а модель — важнейший ценообразующий фактор — модели одного бренда могут быть несопоставимы по стоимости (например, Ford Focus и Ford Mustang).\n",
    "\n",
    "По этой причине, объекты с пропусками придется отбросить."
   ]
  },
  {
   "cell_type": "code",
   "execution_count": 40,
   "metadata": {},
   "outputs": [],
   "source": [
    "data.dropna(subset=['Model'], inplace=True)"
   ]
  },
  {
   "cell_type": "markdown",
   "metadata": {},
   "source": [
    "#### Проверка пробега "
   ]
  },
  {
   "cell_type": "code",
   "execution_count": 41,
   "metadata": {},
   "outputs": [
    {
     "data": {
      "text/plain": [
       "0"
      ]
     },
     "execution_count": 41,
     "metadata": {},
     "output_type": "execute_result"
    }
   ],
   "source": [
    "data['Kilometer'].isna().sum() #проверка пропусков"
   ]
  },
  {
   "cell_type": "code",
   "execution_count": 42,
   "metadata": {
    "scrolled": true
   },
   "outputs": [
    {
     "data": {
      "text/plain": [
       "<AxesSubplot:>"
      ]
     },
     "execution_count": 42,
     "metadata": {},
     "output_type": "execute_result"
    },
    {
     "data": {
      "image/png": "[encoded data removed]",
      "text/plain": [
       "<Figure size 432x288 with 1 Axes>"
      ]
     },
     "metadata": {
      "needs_background": "light"
     },
     "output_type": "display_data"
    }
   ],
   "source": [
    "data['Kilometer'].hist(bins=10) "
   ]
  },
  {
   "cell_type": "markdown",
   "metadata": {},
   "source": [
    "Кажется, аномалий нет — за исключением почти отсутствующих значений с промежутке 105 000 - 120 000. В датасете преобладают старые \"тачки\" и для них характерен большой пробег — как раз такую картину мы и видим."
   ]
  },
  {
   "cell_type": "markdown",
   "metadata": {},
   "source": [
    "#### Обработка признака Brand"
   ]
  },
  {
   "cell_type": "markdown",
   "metadata": {},
   "source": [
    "Сначала проверим датасет на наличие неявных дубликатов (например, если автор объявления опечатался):"
   ]
  },
  {
   "cell_type": "code",
   "execution_count": 43,
   "metadata": {
    "scrolled": true
   },
   "outputs": [
    {
     "data": {
      "text/plain": [
       "volkswagen       62045\n",
       "opel             31390\n",
       "bmw              31150\n",
       "mercedes_benz    26687\n",
       "audi             24881\n",
       "ford             20148\n",
       "renault          13500\n",
       "peugeot           8894\n",
       "fiat              7315\n",
       "seat              5720\n",
       "skoda             4865\n",
       "mazda             4530\n",
       "smart             4347\n",
       "citroen           4108\n",
       "nissan            3924\n",
       "toyota            3913\n",
       "hyundai           2987\n",
       "mini              2927\n",
       "volvo             2753\n",
       "mitsubishi        2396\n",
       "honda             2274\n",
       "kia               2014\n",
       "alfa_romeo        1905\n",
       "suzuki            1891\n",
       "chevrolet         1396\n",
       "chrysler          1116\n",
       "dacia              787\n",
       "subaru             622\n",
       "porsche            610\n",
       "daihatsu           600\n",
       "jeep               563\n",
       "saab               464\n",
       "land_rover         454\n",
       "jaguar             431\n",
       "daewoo             385\n",
       "lancia             364\n",
       "rover              322\n",
       "trabant            241\n",
       "lada               151\n",
       "Name: Brand, dtype: int64"
      ]
     },
     "execution_count": 43,
     "metadata": {},
     "output_type": "execute_result"
    }
   ],
   "source": [
    "data.Brand.value_counts()"
   ]
  },
  {
   "cell_type": "markdown",
   "metadata": {},
   "source": [
    "Неявные дубликаты не выявлены.\n",
    "Теперь посмотрим на график цены по брендам."
   ]
  },
  {
   "cell_type": "code",
   "execution_count": 44,
   "metadata": {},
   "outputs": [
    {
     "data": {
      "image/png": "[encoded data removed]",
      "text/plain": [
       "<Figure size 1080x720 with 1 Axes>"
      ]
     },
     "metadata": {
      "needs_background": "light"
     },
     "output_type": "display_data"
    }
   ],
   "source": [
    "fig, ax = plt.subplots(figsize=(15,10))\n",
    "sns.boxplot(data=data, x='Brand', y='Price')\n",
    "plt.xticks(rotation=90)\n",
    "plt.show()"
   ]
  },
  {
   "cell_type": "markdown",
   "metadata": {},
   "source": [
    "Разброс цен большой — у многих брендов имеется значительно количество \"выбросов\", которые продавались дороже рынка. Что важно — мы не наблюдаем дорогих daewoo, lada и daihatsu, и видим дорогие porsche и land rover'ы, что кажется логичным."
   ]
  },
  {
   "cell_type": "markdown",
   "metadata": {},
   "source": [
    "#### Обработка признака `FuelType`"
   ]
  },
  {
   "cell_type": "code",
   "execution_count": 45,
   "metadata": {
    "scrolled": true
   },
   "outputs": [
    {
     "data": {
      "text/plain": [
       "petrol      181138\n",
       "gasoline     85894\n",
       "lpg           4418\n",
       "cng            467\n",
       "hybrid         180\n",
       "other           67\n",
       "electric        36\n",
       "Name: FuelType, dtype: int64"
      ]
     },
     "execution_count": 45,
     "metadata": {},
     "output_type": "execute_result"
    }
   ],
   "source": [
    "data.FuelType.value_counts()"
   ]
  },
  {
   "cell_type": "markdown",
   "metadata": {},
   "source": [
    "Помимо традионных бензина и дизеля в датасете еще имеются электрокары, гибриды и машины на газу несольких типов.\n",
    "\n",
    "1.CNG (Compressed Natural Gas) – сжатый природный газ (метан): газообразные углеводороды, образующиеся в земной коре, высокоэкономичное энергетическое топливо.\n",
    "\n",
    "2.LPG (Liquified Petroleum Gas) – сжиженный газ (пропан-бутан). Газ, полученный при добыче и переработке нефти. В жидкое состояние переводят при охлаждении до критической температуры и последующей конденсации в результате отвода теплоты парообразования.\n"
   ]
  },
  {
   "cell_type": "code",
   "execution_count": 46,
   "metadata": {
    "scrolled": true
   },
   "outputs": [
    {
     "data": {
      "image/png": "[encoded data removed]",
      "text/plain": [
       "<Figure size 360x360 with 1 Axes>"
      ]
     },
     "metadata": {
      "needs_background": "light"
     },
     "output_type": "display_data"
    }
   ],
   "source": [
    "fig, ax = plt.subplots(figsize=(5,5))\n",
    "sns.boxplot(data=data, x='FuelType', y='Price')\n",
    "plt.xticks(rotation=90)\n",
    "plt.show()"
   ]
  },
  {
   "cell_type": "markdown",
   "metadata": {},
   "source": [
    "Видно, что гибриды и электрокары как правило дороже — это наши нового поколения. Взглянем на пропуски по признаку:"
   ]
  },
  {
   "cell_type": "code",
   "execution_count": 47,
   "metadata": {},
   "outputs": [
    {
     "data": {
      "text/plain": [
       "12870"
      ]
     },
     "execution_count": 47,
     "metadata": {},
     "output_type": "execute_result"
    }
   ],
   "source": [
    "data.FuelType.isna().sum()"
   ]
  },
  {
   "cell_type": "markdown",
   "metadata": {},
   "source": [
    "Заполним пропуски уже имеющимся значение `other` — так мы не потеряем объекты."
   ]
  },
  {
   "cell_type": "code",
   "execution_count": 48,
   "metadata": {},
   "outputs": [],
   "source": [
    "data['FuelType'] = data['FuelType'].fillna('other')"
   ]
  },
  {
   "cell_type": "markdown",
   "metadata": {},
   "source": [
    "#### Обработка признака \"NotRepaired\""
   ]
  },
  {
   "cell_type": "markdown",
   "metadata": {},
   "source": [
    "Последний оставшийся признак `NotRepaired` — была ли машина в ремонте."
   ]
  },
  {
   "cell_type": "code",
   "execution_count": 49,
   "metadata": {},
   "outputs": [
    {
     "data": {
      "text/plain": [
       "no     218533\n",
       "yes     27424\n",
       "Name: NotRepaired, dtype: int64"
      ]
     },
     "execution_count": 49,
     "metadata": {},
     "output_type": "execute_result"
    }
   ],
   "source": [
    "data.NotRepaired.value_counts() #значения"
   ]
  },
  {
   "cell_type": "code",
   "execution_count": 50,
   "metadata": {
    "scrolled": true
   },
   "outputs": [
    {
     "data": {
      "text/plain": [
       "39113"
      ]
     },
     "execution_count": 50,
     "metadata": {},
     "output_type": "execute_result"
    }
   ],
   "source": [
    "data.NotRepaired.isna().sum() #количество пропусков"
   ]
  },
  {
   "cell_type": "markdown",
   "metadata": {},
   "source": [
    "Почти у 40 тысяч оставшихся объектов нет информации, была ли машина в ремонте, — это большая доля датасета. Заменим признак для новых машин (до 3 лет) на `no`, и для более старых на `yes`. Для этого напишем функцию."
   ]
  },
  {
   "cell_type": "code",
   "execution_count": 51,
   "metadata": {},
   "outputs": [],
   "source": [
    "def get_repaired(row):\n",
    "    \"\"\"\n",
    "    Функция проверит год регистрации автомобиля. Если автомобиль зарегистирован до 2013 года и нет информации о ремонте,\n",
    "    мы предположим, что автомобиль уже был отремонтирован в силу возраста.Если автомобиль не старше 3 лет (предполагается,\n",
    "    что объекты в датасете датируются 2016 годом), и нет информации о ремонте, то мы предположим, что в ремонте он не был.\n",
    "    \n",
    "    Новый признак получит булев тип.\n",
    "    \"\"\"\n",
    "    \n",
    "    if row['RegistrationYear'] <= 2013:\n",
    "        if row['NotRepaired'] == 'no':\n",
    "            return False\n",
    "        elif row['NotRepaired'] == 'yes':\n",
    "            return True\n",
    "        else:\n",
    "            return True\n",
    "    else:\n",
    "        if row['NotRepaired'] == 'no':\n",
    "            return False\n",
    "        elif row['NotRepaired'] == 'yes':\n",
    "            return True\n",
    "        else:\n",
    "            return False\n",
    "        "
   ]
  },
  {
   "cell_type": "code",
   "execution_count": 52,
   "metadata": {},
   "outputs": [],
   "source": [
    "data['WasRepaired'] = data.apply(get_repaired, axis=1) # создаем новый признак WasRepaired с булевым типом\n",
    "                                                       # на основе признака NotRepaired"
   ]
  },
  {
   "cell_type": "code",
   "execution_count": 53,
   "metadata": {
    "scrolled": true
   },
   "outputs": [
    {
     "data": {
      "text/html": [
       "<div>\n",
       "<style scoped>\n",
       "    .dataframe tbody tr th:only-of-type {\n",
       "        vertical-align: middle;\n",
       "    }\n",
       "\n",
       "    .dataframe tbody tr th {\n",
       "        vertical-align: top;\n",
       "    }\n",
       "\n",
       "    .dataframe thead th {\n",
       "        text-align: right;\n",
       "    }\n",
       "</style>\n",
       "<table border=\"1\" class=\"dataframe\">\n",
       "  <thead>\n",
       "    <tr style=\"text-align: right;\">\n",
       "      <th></th>\n",
       "      <th>Price</th>\n",
       "      <th>VehicleType</th>\n",
       "      <th>RegistrationYear</th>\n",
       "      <th>Gearbox</th>\n",
       "      <th>Power</th>\n",
       "      <th>Model</th>\n",
       "      <th>Kilometer</th>\n",
       "      <th>RegistrationMonth</th>\n",
       "      <th>FuelType</th>\n",
       "      <th>Brand</th>\n",
       "      <th>NotRepaired</th>\n",
       "      <th>WasRepaired</th>\n",
       "    </tr>\n",
       "  </thead>\n",
       "  <tbody>\n",
       "    <tr>\n",
       "      <th>2</th>\n",
       "      <td>9800</td>\n",
       "      <td>suv</td>\n",
       "      <td>2004</td>\n",
       "      <td>auto</td>\n",
       "      <td>163</td>\n",
       "      <td>grand</td>\n",
       "      <td>125000</td>\n",
       "      <td>8</td>\n",
       "      <td>gasoline</td>\n",
       "      <td>jeep</td>\n",
       "      <td>NaN</td>\n",
       "      <td>True</td>\n",
       "    </tr>\n",
       "    <tr>\n",
       "      <th>3</th>\n",
       "      <td>1500</td>\n",
       "      <td>small</td>\n",
       "      <td>2001</td>\n",
       "      <td>manual</td>\n",
       "      <td>75</td>\n",
       "      <td>golf</td>\n",
       "      <td>150000</td>\n",
       "      <td>6</td>\n",
       "      <td>petrol</td>\n",
       "      <td>volkswagen</td>\n",
       "      <td>no</td>\n",
       "      <td>False</td>\n",
       "    </tr>\n",
       "    <tr>\n",
       "      <th>4</th>\n",
       "      <td>3600</td>\n",
       "      <td>small</td>\n",
       "      <td>2008</td>\n",
       "      <td>manual</td>\n",
       "      <td>69</td>\n",
       "      <td>fabia</td>\n",
       "      <td>90000</td>\n",
       "      <td>7</td>\n",
       "      <td>gasoline</td>\n",
       "      <td>skoda</td>\n",
       "      <td>no</td>\n",
       "      <td>False</td>\n",
       "    </tr>\n",
       "    <tr>\n",
       "      <th>5</th>\n",
       "      <td>650</td>\n",
       "      <td>sedan</td>\n",
       "      <td>1995</td>\n",
       "      <td>manual</td>\n",
       "      <td>102</td>\n",
       "      <td>3er</td>\n",
       "      <td>150000</td>\n",
       "      <td>10</td>\n",
       "      <td>petrol</td>\n",
       "      <td>bmw</td>\n",
       "      <td>yes</td>\n",
       "      <td>True</td>\n",
       "    </tr>\n",
       "    <tr>\n",
       "      <th>6</th>\n",
       "      <td>2200</td>\n",
       "      <td>convertible</td>\n",
       "      <td>2004</td>\n",
       "      <td>manual</td>\n",
       "      <td>109</td>\n",
       "      <td>2_reihe</td>\n",
       "      <td>150000</td>\n",
       "      <td>8</td>\n",
       "      <td>petrol</td>\n",
       "      <td>peugeot</td>\n",
       "      <td>no</td>\n",
       "      <td>False</td>\n",
       "    </tr>\n",
       "  </tbody>\n",
       "</table>\n",
       "</div>"
      ],
      "text/plain": [
       "   Price  VehicleType  RegistrationYear Gearbox  Power    Model  Kilometer  \\\n",
       "2   9800          suv              2004    auto    163    grand     125000   \n",
       "3   1500        small              2001  manual     75     golf     150000   \n",
       "4   3600        small              2008  manual     69    fabia      90000   \n",
       "5    650        sedan              1995  manual    102      3er     150000   \n",
       "6   2200  convertible              2004  manual    109  2_reihe     150000   \n",
       "\n",
       "   RegistrationMonth  FuelType       Brand NotRepaired  WasRepaired  \n",
       "2                  8  gasoline        jeep         NaN         True  \n",
       "3                  6    petrol  volkswagen          no        False  \n",
       "4                  7  gasoline       skoda          no        False  \n",
       "5                 10    petrol         bmw         yes         True  \n",
       "6                  8    petrol     peugeot          no        False  "
      ]
     },
     "execution_count": 53,
     "metadata": {},
     "output_type": "execute_result"
    }
   ],
   "source": [
    "data.head()"
   ]
  },
  {
   "cell_type": "code",
   "execution_count": 54,
   "metadata": {},
   "outputs": [],
   "source": [
    "data = data.drop(columns=['NotRepaired']) #удаляем дублирующий признак"
   ]
  },
  {
   "cell_type": "markdown",
   "metadata": {},
   "source": [
    "#### Проверка корреляций:"
   ]
  },
  {
   "cell_type": "markdown",
   "metadata": {},
   "source": [
    "Посмотрим на наличие корреляций, между оставшимися признаками — возможно, есть линейная зависимость между признаками и какие-то являются избыточными"
   ]
  },
  {
   "cell_type": "code",
   "execution_count": 55,
   "metadata": {
    "scrolled": true
   },
   "outputs": [
    {
     "data": {
      "text/plain": [
       "Text(0.5, 1.0, 'Корреляции признаков')"
      ]
     },
     "execution_count": 55,
     "metadata": {},
     "output_type": "execute_result"
    },
    {
     "data": {
      "image/png": "[encoded data removed]",
      "text/plain": [
       "<Figure size 360x360 with 1 Axes>"
      ]
     },
     "metadata": {
      "needs_background": "light"
     },
     "output_type": "display_data"
    }
   ],
   "source": [
    "fig = plt.figure(figsize=(5,5))\n",
    "\n",
    "\n",
    "sns.heatmap(data.corr(),\n",
    "            annot = True,\n",
    "            cbar=False)\n",
    "plt.title('Корреляции признаков')"
   ]
  },
  {
   "cell_type": "markdown",
   "metadata": {},
   "source": [
    "Как мы видим, больший вклад в цену дает год регистрации автомобиля и мощность двигателя. Большую роль играет пробег автомобиля. "
   ]
  },
  {
   "cell_type": "markdown",
   "metadata": {},
   "source": [
    "### Выводы по разделу"
   ]
  },
  {
   "cell_type": "markdown",
   "metadata": {},
   "source": [
    "На этапе предобработки данных были последовательно изучены и обработаны все признаки в датасете:\n",
    "- был удален неинформативный признак с датой выгрузки анкеты;\n",
    "- были отброшены объявления до 2016 года, с целью предотвратить влияние инфляции на прогнозируемый признак;\n",
    "- удален выгруженный с ошибкой признак с количеством изображений в объявлении;\n",
    "- обработаны аномалии в целевом признаке — уделаны объявления с нулевым значением цены;\n",
    "- удалены объекты с датой регистрации ТС позже 2016 года;\n",
    "- заполнены пропуски в признаках \"Тип кузова\"  и \"Тип коробки передач\";\n",
    "- удалены объявления с аномальными значениями мощности двигателя;\n",
    "- удалены объявления с отсутствующей маркой автомобиля;\n",
    "- произвеена проверка пробега автомобилей;\n",
    "- заменены пропуски в признаке \"FuelType\";\n",
    "- преобразован тип данных и обработаны пропуски в признаке \"NotReaired\""
   ]
  },
  {
   "cell_type": "code",
   "execution_count": 56,
   "metadata": {
    "scrolled": false
   },
   "outputs": [
    {
     "name": "stdout",
     "output_type": "stream",
     "text": [
      "<class 'pandas.core.frame.DataFrame'>\n",
      "Int64Index: 285070 entries, 2 to 354368\n",
      "Data columns (total 11 columns):\n",
      " #   Column             Non-Null Count   Dtype \n",
      "---  ------             --------------   ----- \n",
      " 0   Price              285070 non-null  int64 \n",
      " 1   VehicleType        285070 non-null  object\n",
      " 2   RegistrationYear   285070 non-null  int64 \n",
      " 3   Gearbox            285070 non-null  object\n",
      " 4   Power              285070 non-null  int64 \n",
      " 5   Model              285070 non-null  object\n",
      " 6   Kilometer          285070 non-null  int64 \n",
      " 7   RegistrationMonth  285070 non-null  int64 \n",
      " 8   FuelType           285070 non-null  object\n",
      " 9   Brand              285070 non-null  object\n",
      " 10  WasRepaired        285070 non-null  bool  \n",
      "dtypes: bool(1), int64(5), object(5)\n",
      "memory usage: 32.3+ MB\n"
     ]
    }
   ],
   "source": [
    "data.info()"
   ]
  },
  {
   "cell_type": "code",
   "execution_count": 57,
   "metadata": {},
   "outputs": [],
   "source": [
    "data = data.reset_index(drop=True) # перезапишем датасет с исправленной индексацией"
   ]
  },
  {
   "cell_type": "markdown",
   "metadata": {},
   "source": [
    "После предобработки данных количество объектов в датасете сократилось почти на 20% с 354366 до 285070. Количество признаков уменьшено с 16 до 11, а использование памяти — с 43,3+ до 32,3+"
   ]
  },
  {
   "cell_type": "markdown",
   "metadata": {},
   "source": [
    "## Обучение моделей"
   ]
  },
  {
   "cell_type": "markdown",
   "metadata": {},
   "source": [
    "### Разделение датасета на выборки"
   ]
  },
  {
   "cell_type": "code",
   "execution_count": 58,
   "metadata": {},
   "outputs": [],
   "source": [
    "target = data['Price']                          # определяем целевой признак\n",
    "features = data.drop('Price', axis=1)          \n",
    "\n",
    "features_train, features_valid_test, target_train, target_valid_test = train_test_split(features,\n",
    "                                                                                        target,\n",
    "                                                                                        test_size=0.4,\n",
    "                                                                                        random_state=1049)\n"
   ]
  },
  {
   "cell_type": "code",
   "execution_count": 59,
   "metadata": {},
   "outputs": [],
   "source": [
    "features_valid, features_test, target_valid, target_test = train_test_split(features_valid_test,\n",
    "                                                                            target_valid_test,\n",
    "                                                                            test_size=0.5,\n",
    "                                                                            random_state=1049)"
   ]
  },
  {
   "cell_type": "code",
   "execution_count": 60,
   "metadata": {},
   "outputs": [
    {
     "data": {
      "text/plain": [
       "(57014, 10)"
      ]
     },
     "execution_count": 60,
     "metadata": {},
     "output_type": "execute_result"
    }
   ],
   "source": [
    "features_valid.shape"
   ]
  },
  {
   "cell_type": "code",
   "execution_count": 61,
   "metadata": {},
   "outputs": [
    {
     "data": {
      "text/plain": [
       "(57014,)"
      ]
     },
     "execution_count": 61,
     "metadata": {},
     "output_type": "execute_result"
    }
   ],
   "source": [
    "target_valid.shape"
   ]
  },
  {
   "cell_type": "markdown",
   "metadata": {},
   "source": [
    "### Обучение модели решающего древа"
   ]
  },
  {
   "cell_type": "markdown",
   "metadata": {},
   "source": [
    "Перед обучением моделей с применение бустинга, обучим регрессор по алгоритму решающего древа. Т.к. в датасете имеются категориальные признаки перед обучение модели применим технику порядкового кодирования."
   ]
  },
  {
   "cell_type": "code",
   "execution_count": 62,
   "metadata": {},
   "outputs": [],
   "source": [
    "cat_features=['VehicleType','Gearbox','FuelType','Brand','Model'] #определяем категориальные признаки"
   ]
  },
  {
   "cell_type": "code",
   "execution_count": 63,
   "metadata": {},
   "outputs": [],
   "source": [
    "encoder = OrdinalEncoder()\n",
    "\n",
    "ord_features = data.drop('Price', axis=1) .copy()\n",
    "\n",
    "ord_features[cat_features] = encoder.fit_transform(data[cat_features]) \n"
   ]
  },
  {
   "cell_type": "code",
   "execution_count": 64,
   "metadata": {},
   "outputs": [],
   "source": [
    "ord_features_train = ord_features.loc[features_train.index, :]\n",
    "ord_features_valid = ord_features.loc[features_valid.index, :]\n",
    "ord_features_test = ord_features.loc[features_test.index, :]\n",
    "    "
   ]
  },
  {
   "cell_type": "code",
   "execution_count": 65,
   "metadata": {},
   "outputs": [
    {
     "data": {
      "text/html": [
       "<div>\n",
       "<style scoped>\n",
       "    .dataframe tbody tr th:only-of-type {\n",
       "        vertical-align: middle;\n",
       "    }\n",
       "\n",
       "    .dataframe tbody tr th {\n",
       "        vertical-align: top;\n",
       "    }\n",
       "\n",
       "    .dataframe thead th {\n",
       "        text-align: right;\n",
       "    }\n",
       "</style>\n",
       "<table border=\"1\" class=\"dataframe\">\n",
       "  <thead>\n",
       "    <tr style=\"text-align: right;\">\n",
       "      <th></th>\n",
       "      <th>VehicleType</th>\n",
       "      <th>RegistrationYear</th>\n",
       "      <th>Gearbox</th>\n",
       "      <th>Power</th>\n",
       "      <th>Model</th>\n",
       "      <th>Kilometer</th>\n",
       "      <th>RegistrationMonth</th>\n",
       "      <th>FuelType</th>\n",
       "      <th>Brand</th>\n",
       "      <th>WasRepaired</th>\n",
       "    </tr>\n",
       "  </thead>\n",
       "  <tbody>\n",
       "    <tr>\n",
       "      <th>83615</th>\n",
       "      <td>8.0</td>\n",
       "      <td>2007</td>\n",
       "      <td>1.0</td>\n",
       "      <td>163</td>\n",
       "      <td>11.0</td>\n",
       "      <td>150000</td>\n",
       "      <td>5</td>\n",
       "      <td>2.0</td>\n",
       "      <td>2.0</td>\n",
       "      <td>False</td>\n",
       "    </tr>\n",
       "    <tr>\n",
       "      <th>278144</th>\n",
       "      <td>5.0</td>\n",
       "      <td>2007</td>\n",
       "      <td>1.0</td>\n",
       "      <td>54</td>\n",
       "      <td>173.0</td>\n",
       "      <td>60000</td>\n",
       "      <td>5</td>\n",
       "      <td>6.0</td>\n",
       "      <td>37.0</td>\n",
       "      <td>False</td>\n",
       "    </tr>\n",
       "    <tr>\n",
       "      <th>109362</th>\n",
       "      <td>7.0</td>\n",
       "      <td>2000</td>\n",
       "      <td>1.0</td>\n",
       "      <td>125</td>\n",
       "      <td>28.0</td>\n",
       "      <td>150000</td>\n",
       "      <td>0</td>\n",
       "      <td>6.0</td>\n",
       "      <td>1.0</td>\n",
       "      <td>True</td>\n",
       "    </tr>\n",
       "    <tr>\n",
       "      <th>56434</th>\n",
       "      <td>4.0</td>\n",
       "      <td>2007</td>\n",
       "      <td>1.0</td>\n",
       "      <td>80</td>\n",
       "      <td>116.0</td>\n",
       "      <td>90000</td>\n",
       "      <td>8</td>\n",
       "      <td>6.0</td>\n",
       "      <td>37.0</td>\n",
       "      <td>False</td>\n",
       "    </tr>\n",
       "    <tr>\n",
       "      <th>181394</th>\n",
       "      <td>5.0</td>\n",
       "      <td>2002</td>\n",
       "      <td>1.0</td>\n",
       "      <td>60</td>\n",
       "      <td>176.0</td>\n",
       "      <td>20000</td>\n",
       "      <td>7</td>\n",
       "      <td>5.0</td>\n",
       "      <td>9.0</td>\n",
       "      <td>True</td>\n",
       "    </tr>\n",
       "  </tbody>\n",
       "</table>\n",
       "</div>"
      ],
      "text/plain": [
       "        VehicleType  RegistrationYear  Gearbox  Power  Model  Kilometer  \\\n",
       "83615           8.0              2007      1.0    163   11.0     150000   \n",
       "278144          5.0              2007      1.0     54  173.0      60000   \n",
       "109362          7.0              2000      1.0    125   28.0     150000   \n",
       "56434           4.0              2007      1.0     80  116.0      90000   \n",
       "181394          5.0              2002      1.0     60  176.0      20000   \n",
       "\n",
       "        RegistrationMonth  FuelType  Brand  WasRepaired  \n",
       "83615                   5       2.0    2.0        False  \n",
       "278144                  5       6.0   37.0        False  \n",
       "109362                  0       6.0    1.0         True  \n",
       "56434                   8       6.0   37.0        False  \n",
       "181394                  7       5.0    9.0         True  "
      ]
     },
     "execution_count": 65,
     "metadata": {},
     "output_type": "execute_result"
    }
   ],
   "source": [
    "ord_features_train.head()"
   ]
  },
  {
   "cell_type": "markdown",
   "metadata": {},
   "source": [
    "Теперь подберем лучшие гиперпараметры для решающего древа"
   ]
  },
  {
   "cell_type": "code",
   "execution_count": 66,
   "metadata": {},
   "outputs": [],
   "source": [
    "model = DecisionTreeRegressor(random_state = 1049) #создаем объект модели"
   ]
  },
  {
   "cell_type": "code",
   "execution_count": 67,
   "metadata": {
    "scrolled": true
   },
   "outputs": [
    {
     "data": {
      "text/plain": [
       "{'max_depth': 19, 'min_samples_leaf': 7}"
      ]
     },
     "execution_count": 67,
     "metadata": {},
     "output_type": "execute_result"
    }
   ],
   "source": [
    "# создаем словарь с параметрами, которые переберем\n",
    "\n",
    "parametrs = {'max_depth' : range(1,20,2),\n",
    "             'min_samples_leaf': range (1,8)}\n",
    "\n",
    "grid = GridSearchCV(model, parametrs, scoring = 'neg_mean_squared_error', cv=5)\n",
    "grid.fit(ord_features_train, target_train)\n",
    "grid.best_params_"
   ]
  },
  {
   "cell_type": "markdown",
   "metadata": {},
   "source": [
    "Обучим модель с лучшими параметрами и посмотрим время обучения."
   ]
  },
  {
   "cell_type": "code",
   "execution_count": 68,
   "metadata": {
    "scrolled": true
   },
   "outputs": [
    {
     "name": "stdout",
     "output_type": "stream",
     "text": [
      "Wall time: 733 ms\n"
     ]
    },
    {
     "data": {
      "text/plain": [
       "DecisionTreeRegressor(max_depth=19, min_samples_leaf=7, random_state=1049)"
      ]
     },
     "execution_count": 68,
     "metadata": {},
     "output_type": "execute_result"
    }
   ],
   "source": [
    "%%time\n",
    "model_DTR = DecisionTreeRegressor(max_depth = 19,\n",
    "                                  min_samples_leaf = 7,\n",
    "                                  random_state = 1049)\n",
    "model_DTR.fit(ord_features_train,target_train)"
   ]
  },
  {
   "cell_type": "code",
   "execution_count": 69,
   "metadata": {},
   "outputs": [
    {
     "name": "stdout",
     "output_type": "stream",
     "text": [
      "1797.064309258793\n",
      "Wall time: 50.9 ms\n"
     ]
    }
   ],
   "source": [
    "%%time\n",
    "predictions_DTR = model_DTR.predict(ord_features_valid)\n",
    "mse = mean_squared_error(target_valid, predictions_DTR)\n",
    "rmse = mse ** 0.5\n",
    "print(rmse)"
   ]
  },
  {
   "cell_type": "markdown",
   "metadata": {},
   "source": [
    "Модель быстро обучаетcя и показывает неплохую метрику RMSE - хотя 1800 евро достаточно существенная ошибка для старых автомобилей, который доминируют в датасете. Кроме того, что на тестовой выборке модель может дать худший результат."
   ]
  },
  {
   "cell_type": "markdown",
   "metadata": {},
   "source": [
    "### Обучение модели LightGBM"
   ]
  },
  {
   "cell_type": "code",
   "execution_count": 70,
   "metadata": {
    "scrolled": true
   },
   "outputs": [
    {
     "data": {
      "text/plain": [
       "{'learning_rate': 0.2, 'num_leaves': 150}"
      ]
     },
     "execution_count": 70,
     "metadata": {},
     "output_type": "execute_result"
    }
   ],
   "source": [
    "model = LGBMRegressor(random_state = 1049)                          # создаем объект модели\n",
    "\n",
    "\n",
    "parametrs = {'num_leaves':[100, 150],                           # словарь, по которому переберем гиперпараметры\n",
    "             'learning_rate':[0.05, 0.2, 0.4]}\n",
    "\n",
    "grid = GridSearchCV(model, parametrs, scoring = 'neg_mean_squared_error', cv=5)\n",
    "grid.fit(ord_features_train, target_train)\n",
    "grid.best_params_\n"
   ]
  },
  {
   "cell_type": "markdown",
   "metadata": {},
   "source": [
    "Обучим модель с лучшими параметрами и посмотрим время обучения."
   ]
  },
  {
   "cell_type": "code",
   "execution_count": 71,
   "metadata": {},
   "outputs": [
    {
     "name": "stdout",
     "output_type": "stream",
     "text": [
      "Wall time: 1.55 s\n"
     ]
    },
    {
     "data": {
      "text/plain": [
       "LGBMRegressor(learning_rate=0.2, num_leaves=150, random_state=1049)"
      ]
     },
     "execution_count": 71,
     "metadata": {},
     "output_type": "execute_result"
    }
   ],
   "source": [
    "%%time\n",
    "model_LGR = LGBMRegressor(learning_rate = 0.2,\n",
    "                          num_leaves = 150,\n",
    "                          random_state = 1049)\n",
    "\n",
    "model_LGR.fit(ord_features_train,target_train)"
   ]
  },
  {
   "cell_type": "code",
   "execution_count": 72,
   "metadata": {},
   "outputs": [
    {
     "name": "stdout",
     "output_type": "stream",
     "text": [
      "1557.4524935517736\n",
      "Wall time: 257 ms\n"
     ]
    }
   ],
   "source": [
    "%%time\n",
    "\n",
    "predictions_LGR = model_LGR.predict(ord_features_valid)\n",
    "mse = mean_squared_error(target_valid, predictions_LGR)\n",
    "rmse = mse ** 0.5\n",
    "print(rmse)"
   ]
  },
  {
   "cell_type": "markdown",
   "metadata": {},
   "source": [
    "Модель обучается быстро, а метрика RMSE превосходит  Древо принятия решений."
   ]
  },
  {
   "cell_type": "markdown",
   "metadata": {},
   "source": [
    "### Обучение CatBoostRegressor"
   ]
  },
  {
   "cell_type": "markdown",
   "metadata": {},
   "source": [
    "CatBoostRegressor может напрямую работать с категориальными признаками (как и LGBMRegressor, при некоторых ухищрениях)."
   ]
  },
  {
   "cell_type": "code",
   "execution_count": 73,
   "metadata": {
    "scrolled": true
   },
   "outputs": [
    {
     "data": {
      "application/vnd.jupyter.widget-view+json": {
       "model_id": "c0b2f9b5766748a5b16a2cbc33ada21b",
       "version_major": 2,
       "version_minor": 0
      },
      "text/plain": [
       "MetricVisualizer(layout=Layout(align_self='stretch', height='500px'))"
      ]
     },
     "metadata": {},
     "output_type": "display_data"
    },
    {
     "name": "stdout",
     "output_type": "stream",
     "text": [
      "0:\tlearn: 6561.8369007\ttest: 6557.4603117\tbest: 6557.4603117 (0)\ttotal: 559ms\tremaining: 9m 18s\n",
      "100:\tlearn: 2139.9458471\ttest: 2116.7366600\tbest: 2116.7366600 (100)\ttotal: 10.4s\tremaining: 1m 32s\n",
      "200:\tlearn: 1916.7788462\ttest: 1892.7999715\tbest: 1892.7999715 (200)\ttotal: 19.2s\tremaining: 1m 16s\n",
      "300:\tlearn: 1848.6313740\ttest: 1826.0601103\tbest: 1826.0601103 (300)\ttotal: 29.3s\tremaining: 1m 7s\n",
      "400:\tlearn: 1807.8508102\ttest: 1786.8516884\tbest: 1786.8516884 (400)\ttotal: 37.9s\tremaining: 56.6s\n",
      "500:\tlearn: 1776.8703531\ttest: 1759.1375106\tbest: 1759.1375106 (500)\ttotal: 46.6s\tremaining: 46.4s\n",
      "600:\tlearn: 1754.5969089\ttest: 1739.2772559\tbest: 1739.2772559 (600)\ttotal: 55.3s\tremaining: 36.7s\n",
      "700:\tlearn: 1735.7665558\ttest: 1721.7529873\tbest: 1721.7529873 (700)\ttotal: 1m 3s\tremaining: 27.2s\n",
      "800:\tlearn: 1721.6721070\ttest: 1709.0255473\tbest: 1709.0255473 (800)\ttotal: 1m 12s\tremaining: 17.9s\n",
      "900:\tlearn: 1710.2255435\ttest: 1698.4859213\tbest: 1698.4859213 (900)\ttotal: 1m 20s\tremaining: 8.85s\n",
      "999:\tlearn: 1699.6478529\ttest: 1689.8946193\tbest: 1689.8946193 (999)\ttotal: 1m 29s\tremaining: 0us\n",
      "\n",
      "bestTest = 1689.894619\n",
      "bestIteration = 999\n",
      "\n",
      "0:\tloss: 1689.8946193\tbest: 1689.8946193 (0)\ttotal: 1m 30s\tremaining: 7m 32s\n",
      "0:\tlearn: 6186.7753996\ttest: 6180.5850692\tbest: 6180.5850692 (0)\ttotal: 111ms\tremaining: 1m 50s\n",
      "100:\tlearn: 1831.4436552\ttest: 1810.0680287\tbest: 1810.0680287 (100)\ttotal: 9.59s\tremaining: 1m 25s\n",
      "200:\tlearn: 1742.6208706\ttest: 1727.2303074\tbest: 1727.2303074 (200)\ttotal: 18.1s\tremaining: 1m 12s\n",
      "300:\tlearn: 1701.3370522\ttest: 1691.4493567\tbest: 1691.4493567 (300)\ttotal: 27s\tremaining: 1m 2s\n",
      "400:\tlearn: 1676.4467919\ttest: 1670.7968344\tbest: 1670.7968344 (400)\ttotal: 35.1s\tremaining: 52.4s\n",
      "500:\tlearn: 1658.8617208\ttest: 1656.9595933\tbest: 1656.9586115 (499)\ttotal: 42.9s\tremaining: 42.7s\n",
      "600:\tlearn: 1644.2088041\ttest: 1645.9648393\tbest: 1645.9542342 (596)\ttotal: 51.4s\tremaining: 34.1s\n",
      "700:\tlearn: 1630.6450427\ttest: 1635.7773760\tbest: 1635.7773760 (700)\ttotal: 59.8s\tremaining: 25.5s\n",
      "800:\tlearn: 1619.9523996\ttest: 1628.5999842\tbest: 1628.5927396 (799)\ttotal: 1m 8s\tremaining: 16.9s\n",
      "900:\tlearn: 1610.0335821\ttest: 1622.6463035\tbest: 1622.6463035 (900)\ttotal: 1m 16s\tremaining: 8.41s\n",
      "999:\tlearn: 1601.8301141\ttest: 1617.6850442\tbest: 1617.6719571 (997)\ttotal: 1m 24s\tremaining: 0us\n",
      "\n",
      "bestTest = 1617.671957\n",
      "bestIteration = 997\n",
      "\n",
      "1:\tloss: 1617.6719571\tbest: 1617.6719571 (1)\ttotal: 2m 55s\tremaining: 5m 51s\n",
      "0:\tlearn: 6556.9308240\ttest: 6552.6686497\tbest: 6552.6686497 (0)\ttotal: 178ms\tremaining: 2m 57s\n",
      "100:\tlearn: 1994.6697813\ttest: 1976.0004779\tbest: 1976.0004779 (100)\ttotal: 13.5s\tremaining: 1m 59s\n",
      "200:\tlearn: 1808.8301954\ttest: 1790.7952115\tbest: 1790.7952115 (200)\ttotal: 26.5s\tremaining: 1m 45s\n",
      "300:\tlearn: 1748.8701060\ttest: 1736.2679317\tbest: 1736.2679317 (300)\ttotal: 39.7s\tremaining: 1m 32s\n",
      "400:\tlearn: 1709.8611386\ttest: 1702.5260254\tbest: 1702.5260254 (400)\ttotal: 52.6s\tremaining: 1m 18s\n",
      "500:\tlearn: 1680.0462945\ttest: 1679.1088809\tbest: 1679.1088809 (500)\ttotal: 1m 5s\tremaining: 1m 5s\n",
      "600:\tlearn: 1660.1302115\ttest: 1663.9756788\tbest: 1663.9756788 (600)\ttotal: 1m 18s\tremaining: 52.2s\n",
      "700:\tlearn: 1645.9720414\ttest: 1654.3394101\tbest: 1654.3394101 (700)\ttotal: 1m 31s\tremaining: 39s\n",
      "800:\tlearn: 1631.4095459\ttest: 1644.1755880\tbest: 1644.1755880 (800)\ttotal: 1m 44s\tremaining: 26s\n",
      "900:\tlearn: 1620.1915527\ttest: 1637.0922977\tbest: 1637.0922977 (900)\ttotal: 1m 57s\tremaining: 12.9s\n",
      "999:\tlearn: 1610.1697378\ttest: 1630.1575364\tbest: 1630.1575364 (999)\ttotal: 2m 9s\tremaining: 0us\n",
      "\n",
      "bestTest = 1630.157536\n",
      "bestIteration = 999\n",
      "\n",
      "2:\tloss: 1630.1575364\tbest: 1617.6719571 (1)\ttotal: 5m 5s\tremaining: 5m 5s\n",
      "0:\tlearn: 6170.0195450\ttest: 6164.1407053\tbest: 6164.1407053 (0)\ttotal: 164ms\tremaining: 2m 44s\n",
      "100:\tlearn: 1734.3941445\ttest: 1725.5177084\tbest: 1725.5177084 (100)\ttotal: 13.2s\tremaining: 1m 57s\n",
      "200:\tlearn: 1650.0512991\ttest: 1662.2200911\tbest: 1662.2200911 (200)\ttotal: 26.3s\tremaining: 1m 44s\n",
      "300:\tlearn: 1608.6216614\ttest: 1633.2392075\tbest: 1633.2392075 (300)\ttotal: 39.3s\tremaining: 1m 31s\n",
      "400:\tlearn: 1583.6069054\ttest: 1618.5475601\tbest: 1618.5475601 (400)\ttotal: 51.8s\tremaining: 1m 17s\n",
      "500:\tlearn: 1562.1681743\ttest: 1606.3170499\tbest: 1606.3170499 (500)\ttotal: 1m 5s\tremaining: 1m 5s\n",
      "600:\tlearn: 1544.8722028\ttest: 1598.2034673\tbest: 1598.2034673 (600)\ttotal: 1m 19s\tremaining: 52.8s\n",
      "700:\tlearn: 1529.4135931\ttest: 1591.3769510\tbest: 1591.3769510 (700)\ttotal: 1m 34s\tremaining: 40.1s\n",
      "800:\tlearn: 1515.5579759\ttest: 1587.1846408\tbest: 1587.1846408 (800)\ttotal: 1m 47s\tremaining: 26.7s\n",
      "900:\tlearn: 1503.1250560\ttest: 1581.9908321\tbest: 1581.9908321 (900)\ttotal: 2m 1s\tremaining: 13.3s\n",
      "999:\tlearn: 1491.4058781\ttest: 1576.8330824\tbest: 1576.8162950 (997)\ttotal: 2m 14s\tremaining: 0us\n",
      "\n",
      "bestTest = 1576.816295\n",
      "bestIteration = 997\n",
      "\n",
      "3:\tloss: 1576.8162950\tbest: 1576.8162950 (3)\ttotal: 7m 19s\tremaining: 3m 39s\n",
      "0:\tlearn: 6549.5442118\ttest: 6545.3112631\tbest: 6545.3112631 (0)\ttotal: 345ms\tremaining: 5m 44s\n",
      "100:\tlearn: 1826.7277003\ttest: 1825.5967517\tbest: 1825.5967517 (100)\ttotal: 26.8s\tremaining: 3m 58s\n",
      "200:\tlearn: 1655.1439230\ttest: 1678.0047320\tbest: 1678.0047320 (200)\ttotal: 53.1s\tremaining: 3m 31s\n",
      "300:\tlearn: 1590.7361276\ttest: 1636.1210305\tbest: 1636.1210305 (300)\ttotal: 1m 20s\tremaining: 3m 7s\n",
      "400:\tlearn: 1549.4292439\ttest: 1612.3930500\tbest: 1612.3930500 (400)\ttotal: 1m 48s\tremaining: 2m 42s\n",
      "500:\tlearn: 1518.6604637\ttest: 1597.5633096\tbest: 1597.5633096 (500)\ttotal: 2m 16s\tremaining: 2m 15s\n",
      "600:\tlearn: 1492.6913181\ttest: 1586.3602838\tbest: 1586.3602838 (600)\ttotal: 2m 44s\tremaining: 1m 49s\n",
      "700:\tlearn: 1470.8342081\ttest: 1577.5803136\tbest: 1577.5803136 (700)\ttotal: 3m 12s\tremaining: 1m 22s\n",
      "800:\tlearn: 1451.7465017\ttest: 1570.0920275\tbest: 1570.0920275 (800)\ttotal: 3m 41s\tremaining: 55.1s\n",
      "900:\tlearn: 1435.4926354\ttest: 1565.0981225\tbest: 1565.0981225 (900)\ttotal: 4m 11s\tremaining: 27.6s\n",
      "999:\tlearn: 1421.3997219\ttest: 1561.5985794\tbest: 1561.5985794 (999)\ttotal: 4m 39s\tremaining: 0us\n",
      "\n",
      "bestTest = 1561.598579\n",
      "bestIteration = 999\n",
      "\n",
      "4:\tloss: 1561.5985794\tbest: 1561.5985794 (4)\ttotal: 11m 59s\tremaining: 2m 23s\n",
      "0:\tlearn: 6144.6686691\ttest: 6138.9333441\tbest: 6138.9333441 (0)\ttotal: 325ms\tremaining: 5m 24s\n",
      "100:\tlearn: 1579.9466757\ttest: 1633.4745399\tbest: 1633.4745399 (100)\ttotal: 26.8s\tremaining: 3m 58s\n",
      "200:\tlearn: 1481.5569946\ttest: 1587.6206739\tbest: 1587.6206739 (200)\ttotal: 54.9s\tremaining: 3m 38s\n",
      "300:\tlearn: 1426.1719549\ttest: 1567.9578379\tbest: 1567.9578379 (300)\ttotal: 1m 23s\tremaining: 3m 14s\n",
      "400:\tlearn: 1383.7458902\ttest: 1558.0878225\tbest: 1558.0878225 (400)\ttotal: 1m 52s\tremaining: 2m 48s\n",
      "500:\tlearn: 1348.4528743\ttest: 1550.3217126\tbest: 1550.3217126 (500)\ttotal: 2m 23s\tremaining: 2m 22s\n",
      "600:\tlearn: 1315.4558958\ttest: 1544.7733904\tbest: 1544.7733904 (600)\ttotal: 2m 54s\tremaining: 1m 55s\n",
      "700:\tlearn: 1288.1813081\ttest: 1541.2918106\tbest: 1541.2918106 (700)\ttotal: 3m 24s\tremaining: 1m 27s\n",
      "800:\tlearn: 1266.9045116\ttest: 1538.7569716\tbest: 1538.7569716 (800)\ttotal: 3m 54s\tremaining: 58.1s\n",
      "900:\tlearn: 1246.5539716\ttest: 1536.2540919\tbest: 1536.1878232 (895)\ttotal: 4m 24s\tremaining: 29s\n",
      "999:\tlearn: 1224.3157107\ttest: 1534.2580177\tbest: 1534.2580177 (999)\ttotal: 4m 53s\tremaining: 0us\n",
      "\n",
      "bestTest = 1534.258018\n",
      "bestIteration = 999\n",
      "\n",
      "5:\tloss: 1534.2580177\tbest: 1534.2580177 (5)\ttotal: 16m 53s\tremaining: 0us\n",
      "Estimating final quality...\n",
      "Training on fold [0/3]\n",
      "0:\tlearn: 6133.4087499\ttest: 6177.3100334\tbest: 6177.3100334 (0)\ttotal: 265ms\tremaining: 4m 24s\n",
      "100:\tlearn: 1574.9321849\ttest: 1655.8635749\tbest: 1655.8635749 (100)\ttotal: 24.3s\tremaining: 3m 36s\n",
      "200:\tlearn: 1473.3309724\ttest: 1604.4858727\tbest: 1604.4858727 (200)\ttotal: 50.5s\tremaining: 3m 20s\n",
      "300:\tlearn: 1415.6970379\ttest: 1584.7986062\tbest: 1584.7986062 (300)\ttotal: 1m 16s\tremaining: 2m 58s\n",
      "400:\tlearn: 1371.9432928\ttest: 1573.5121427\tbest: 1573.5121427 (400)\ttotal: 1m 43s\tremaining: 2m 34s\n",
      "500:\tlearn: 1332.6010660\ttest: 1566.4570099\tbest: 1566.4570099 (500)\ttotal: 2m 9s\tremaining: 2m 9s\n",
      "600:\tlearn: 1302.5107257\ttest: 1562.0769168\tbest: 1562.0769168 (600)\ttotal: 2m 36s\tremaining: 1m 44s\n",
      "700:\tlearn: 1272.4114021\ttest: 1557.4977951\tbest: 1557.4928363 (698)\ttotal: 3m 4s\tremaining: 1m 18s\n",
      "800:\tlearn: 1249.0214698\ttest: 1554.4428988\tbest: 1554.4428988 (800)\ttotal: 3m 31s\tremaining: 52.5s\n",
      "900:\tlearn: 1228.1716994\ttest: 1552.0645572\tbest: 1552.0645572 (900)\ttotal: 3m 58s\tremaining: 26.2s\n",
      "999:\tlearn: 1210.3620681\ttest: 1550.2687896\tbest: 1550.2222088 (996)\ttotal: 4m 25s\tremaining: 0us\n",
      "\n",
      "bestTest = 1550.222209\n",
      "bestIteration = 996\n",
      "\n",
      "Training on fold [1/3]\n",
      "0:\tlearn: 6154.7996248\ttest: 6134.1645853\tbest: 6134.1645853 (0)\ttotal: 269ms\tremaining: 4m 28s\n",
      "100:\tlearn: 1578.3344511\ttest: 1664.2963525\tbest: 1664.2963525 (100)\ttotal: 24.4s\tremaining: 3m 37s\n",
      "200:\tlearn: 1474.1280770\ttest: 1613.0248011\tbest: 1613.0248011 (200)\ttotal: 49.9s\tremaining: 3m 18s\n",
      "300:\tlearn: 1412.4047052\ttest: 1592.7046281\tbest: 1592.7046281 (300)\ttotal: 1m 16s\tremaining: 2m 57s\n",
      "400:\tlearn: 1366.4029174\ttest: 1581.3935115\tbest: 1581.3935115 (400)\ttotal: 1m 42s\tremaining: 2m 33s\n",
      "500:\tlearn: 1329.3391739\ttest: 1574.0840053\tbest: 1574.0840053 (500)\ttotal: 2m 9s\tremaining: 2m 9s\n",
      "600:\tlearn: 1295.8763513\ttest: 1568.6685700\tbest: 1568.6555437 (599)\ttotal: 2m 36s\tremaining: 1m 44s\n",
      "700:\tlearn: 1269.7402019\ttest: 1565.6032437\tbest: 1565.5891868 (699)\ttotal: 3m 3s\tremaining: 1m 18s\n",
      "800:\tlearn: 1243.5304870\ttest: 1562.1387902\tbest: 1562.1018439 (799)\ttotal: 3m 30s\tremaining: 52.4s\n",
      "900:\tlearn: 1221.9718199\ttest: 1560.4550325\tbest: 1560.3961764 (898)\ttotal: 3m 57s\tremaining: 26.1s\n",
      "999:\tlearn: 1203.9797898\ttest: 1559.1153859\tbest: 1558.9483871 (988)\ttotal: 4m 25s\tremaining: 0us\n",
      "\n",
      "bestTest = 1558.948387\n",
      "bestIteration = 988\n",
      "\n",
      "Training on fold [2/3]\n",
      "0:\tlearn: 6174.3916733\ttest: 6149.4906512\tbest: 6149.4906512 (0)\ttotal: 183ms\tremaining: 3m 2s\n",
      "100:\tlearn: 1577.4644823\ttest: 1631.3648372\tbest: 1631.3648372 (100)\ttotal: 24.3s\tremaining: 3m 36s\n",
      "200:\tlearn: 1473.0817879\ttest: 1584.1428528\tbest: 1584.1428528 (200)\ttotal: 50.3s\tremaining: 3m 19s\n",
      "300:\tlearn: 1417.2634671\ttest: 1566.5471666\tbest: 1566.5471666 (300)\ttotal: 1m 16s\tremaining: 2m 57s\n",
      "400:\tlearn: 1364.5456833\ttest: 1553.2893919\tbest: 1553.2893919 (400)\ttotal: 1m 43s\tremaining: 2m 34s\n",
      "500:\tlearn: 1325.2540394\ttest: 1546.0092502\tbest: 1546.0092502 (500)\ttotal: 2m 11s\tremaining: 2m 11s\n",
      "600:\tlearn: 1292.0730013\ttest: 1540.3930381\tbest: 1540.3930381 (600)\ttotal: 2m 38s\tremaining: 1m 45s\n",
      "700:\tlearn: 1261.4310951\ttest: 1535.3226815\tbest: 1535.3226815 (700)\ttotal: 3m 5s\tremaining: 1m 19s\n",
      "800:\tlearn: 1236.2250514\ttest: 1532.6749880\tbest: 1532.6749880 (800)\ttotal: 3m 32s\tremaining: 52.7s\n",
      "900:\tlearn: 1213.0135890\ttest: 1531.4400764\tbest: 1531.3747605 (897)\ttotal: 3m 59s\tremaining: 26.3s\n",
      "999:\tlearn: 1194.9137006\ttest: 1530.2264139\tbest: 1530.0235049 (952)\ttotal: 4m 26s\tremaining: 0us\n",
      "\n",
      "bestTest = 1530.023505\n",
      "bestIteration = 952\n",
      "\n"
     ]
    }
   ],
   "source": [
    "model = CatBoostRegressor(cat_features=cat_features, random_state = 1049, verbose=100)\n",
    "\n",
    "grid = {'learning_rate': [0.03, 0.1],\n",
    "        'depth': [4, 6, 10]}\n",
    "\n",
    "grid_search_result = model.grid_search(grid, \n",
    "                                       X=features_train, \n",
    "                                       y=target_train, \n",
    "                                       plot=True)\n",
    "\n",
    "\n",
    "\n"
   ]
  },
  {
   "cell_type": "markdown",
   "metadata": {},
   "source": [
    "Обучим модель, при которой обеспечен минимум метрики RMSE - 1534:"
   ]
  },
  {
   "cell_type": "code",
   "execution_count": 74,
   "metadata": {
    "scrolled": false
   },
   "outputs": [
    {
     "name": "stdout",
     "output_type": "stream",
     "text": [
      "0:\tlearn: 4274.3974413\ttotal: 312ms\tremaining: 5m 11s\n",
      "100:\tlearn: 1574.6944241\ttotal: 30.4s\tremaining: 4m 30s\n",
      "200:\tlearn: 1493.6761713\ttotal: 1m 3s\tremaining: 4m 10s\n",
      "300:\tlearn: 1443.0665896\ttotal: 1m 35s\tremaining: 3m 42s\n",
      "400:\tlearn: 1400.4511313\ttotal: 2m 8s\tremaining: 3m 12s\n",
      "500:\tlearn: 1367.0312138\ttotal: 2m 42s\tremaining: 2m 41s\n",
      "600:\tlearn: 1338.6098272\ttotal: 3m 15s\tremaining: 2m 10s\n",
      "700:\tlearn: 1312.7027326\ttotal: 3m 49s\tremaining: 1m 37s\n",
      "800:\tlearn: 1290.3797701\ttotal: 4m 23s\tremaining: 1m 5s\n",
      "900:\tlearn: 1272.6475154\ttotal: 4m 58s\tremaining: 32.8s\n",
      "999:\tlearn: 1255.8651641\ttotal: 5m 32s\tremaining: 0us\n",
      "Wall time: 5min 34s\n"
     ]
    },
    {
     "data": {
      "text/plain": [
       "<catboost.core.CatBoostRegressor at 0x2a055e93b20>"
      ]
     },
     "execution_count": 74,
     "metadata": {},
     "output_type": "execute_result"
    }
   ],
   "source": [
    "%%time\n",
    "\n",
    "model = CatBoostRegressor(cat_features=cat_features,\n",
    "                          learning_rate = 0.1,\n",
    "                          depth = 10,\n",
    "                          random_state = 1049,\n",
    "                          verbose=100)\n",
    "model.fit(features_train,target_train)\n"
   ]
  },
  {
   "cell_type": "code",
   "execution_count": 75,
   "metadata": {},
   "outputs": [
    {
     "name": "stdout",
     "output_type": "stream",
     "text": [
      "1536.4182641522734\n",
      "Wall time: 996 ms\n"
     ]
    }
   ],
   "source": [
    "%%time\n",
    "predictions_CBR = model.predict(features_valid)\n",
    "mse = mean_squared_error(target_valid, predictions_CBR)\n",
    "rmse = mse ** 0.5\n",
    "print(rmse)"
   ]
  },
  {
   "cell_type": "markdown",
   "metadata": {},
   "source": [
    "Модель показала лучшую метрику по сравнению с LGBMRegressor, но обучалась значительно дольше."
   ]
  },
  {
   "cell_type": "markdown",
   "metadata": {},
   "source": [
    "## Анализ моделей"
   ]
  },
  {
   "cell_type": "markdown",
   "metadata": {},
   "source": [
    "### Сравнение моделей"
   ]
  },
  {
   "cell_type": "markdown",
   "metadata": {},
   "source": [
    "Сравним результаты, которые показали модели на валидационной выборке:"
   ]
  },
  {
   "cell_type": "code",
   "execution_count": 76,
   "metadata": {
    "scrolled": true
   },
   "outputs": [
    {
     "data": {
      "text/html": [
       "<div>\n",
       "<style scoped>\n",
       "    .dataframe tbody tr th:only-of-type {\n",
       "        vertical-align: middle;\n",
       "    }\n",
       "\n",
       "    .dataframe tbody tr th {\n",
       "        vertical-align: top;\n",
       "    }\n",
       "\n",
       "    .dataframe thead th {\n",
       "        text-align: right;\n",
       "    }\n",
       "</style>\n",
       "<table border=\"1\" class=\"dataframe\">\n",
       "  <thead>\n",
       "    <tr style=\"text-align: right;\">\n",
       "      <th></th>\n",
       "      <th>fit time</th>\n",
       "      <th>predictions time</th>\n",
       "      <th>rmse</th>\n",
       "    </tr>\n",
       "  </thead>\n",
       "  <tbody>\n",
       "    <tr>\n",
       "      <th>DecisionTreeRegressor</th>\n",
       "      <td>689 ms</td>\n",
       "      <td>71.8 ms</td>\n",
       "      <td>1797</td>\n",
       "    </tr>\n",
       "    <tr>\n",
       "      <th>LGBMREgressor</th>\n",
       "      <td>7.2 s</td>\n",
       "      <td>415 ms</td>\n",
       "      <td>1557</td>\n",
       "    </tr>\n",
       "    <tr>\n",
       "      <th>CatBoostRegressor</th>\n",
       "      <td>5 min 19 s</td>\n",
       "      <td>859 ms</td>\n",
       "      <td>1536</td>\n",
       "    </tr>\n",
       "  </tbody>\n",
       "</table>\n",
       "</div>"
      ],
      "text/plain": [
       "                         fit time predictions time  rmse\n",
       "DecisionTreeRegressor      689 ms          71.8 ms  1797\n",
       "LGBMREgressor               7.2 s           415 ms  1557\n",
       "CatBoostRegressor      5 min 19 s           859 ms  1536"
      ]
     },
     "execution_count": 76,
     "metadata": {},
     "output_type": "execute_result"
    }
   ],
   "source": [
    "result_data = {'fit time':['689 ms','7.2 s','5 min 19 s'],\n",
    "              'predictions time':['71.8 ms','415 ms','859 ms'],\n",
    "             'rmse':[1797,1557,1536]}\n",
    "results_data = pd.DataFrame(result_data, index =['DecisionTreeRegressor', 'LGBMREgressor', 'CatBoostRegressor'])\n",
    "results_data"
   ]
  },
  {
   "cell_type": "markdown",
   "metadata": {},
   "source": [
    "Заказчику важны сразу несколько параметров, а модели дали не однозначный вариант."
   ]
  },
  {
   "cell_type": "markdown",
   "metadata": {},
   "source": [
    "Для быстрых решений с очень приблизительной точностью подойдет DecisionTreeRegressor. Это модель быстро обучается, и дает приблизительную стоимость автомобиля.\n",
    "\n",
    "Для более точных решений можно использовать как LGBMRegressor, так и CatBoostRegressor. Первый быстрее обучается, но дает меньшую точность, второй — требует временя на обучение и предсказание, но имеет более высокую точность."
   ]
  },
  {
   "cell_type": "markdown",
   "metadata": {},
   "source": [
    "В целом, когда дело касается денег, лучше не спешить — а потому лучшей нам кажется модель CatBoostRegressor. Проверим ее работу на тестовой выборке для объективной проверки качества ее работы."
   ]
  },
  {
   "cell_type": "markdown",
   "metadata": {},
   "source": [
    "### Проверка работы модели на тестовой выборке"
   ]
  },
  {
   "cell_type": "markdown",
   "metadata": {},
   "source": [
    "Повторно проверим точность предсказаний и засечем время обучения CatBoostRegressor. Категориальные признаки уже определены."
   ]
  },
  {
   "cell_type": "code",
   "execution_count": 77,
   "metadata": {},
   "outputs": [
    {
     "name": "stdout",
     "output_type": "stream",
     "text": [
      "Wall time: 5min 36s\n"
     ]
    },
    {
     "data": {
      "text/plain": [
       "<catboost.core.CatBoostRegressor at 0x2a04706eca0>"
      ]
     },
     "execution_count": 77,
     "metadata": {},
     "output_type": "execute_result"
    }
   ],
   "source": [
    "%%time\n",
    "\n",
    "model_CBR = CatBoostRegressor(cat_features=cat_features,\n",
    "                              learning_rate = 0.1,\n",
    "                              depth = 10,\n",
    "                              l2_leaf_reg = 1,\n",
    "                              random_state = 1049,\n",
    "                              verbose=False)\n",
    "model_CBR.fit(features_train,target_train)"
   ]
  },
  {
   "cell_type": "code",
   "execution_count": 78,
   "metadata": {},
   "outputs": [
    {
     "name": "stdout",
     "output_type": "stream",
     "text": [
      "1532.6367864596314\n",
      "Wall time: 906 ms\n"
     ]
    }
   ],
   "source": [
    "%%time\n",
    "\n",
    "predictions_CBR = model_CBR.predict(features_test)\n",
    "mse = mean_squared_error(target_test, predictions_CBR)\n",
    "rmse = mse ** 0.5\n",
    "print(rmse)"
   ]
  },
  {
   "cell_type": "markdown",
   "metadata": {},
   "source": [
    "Среднеквадратическая ошибка на тестовой выборке 1532 евро — не идеальный результат, но наверняка позволит выявить явно мошеннические схемы сервису, а пользователям"
   ]
  },
  {
   "cell_type": "markdown",
   "metadata": {},
   "source": [
    "### Вывод"
   ]
  },
  {
   "cell_type": "markdown",
   "metadata": {},
   "source": [
    "В ходе работы:\n",
    "\n",
    "- были загружены данные и проведена их предобработка;\n",
    "- выполнено обучение моделей с использованием различных наборов гиперпараметров;\n",
    "- модели разных типов с лучшими гиперпараметрами проверены на валидационной выборке;\n",
    "- работа модели CatBoostRegressor, показавшей наиболее точный результат была проверена на тестовой выборке.\n",
    "\n"
   ]
  }
 ],
 "metadata": {
  "ExecuteTimeLog": [
   {
    "duration": 1544,
    "start_time": "2022-07-28T06:39:39.783Z"
   },
   {
    "duration": 3,
    "start_time": "2022-07-28T06:40:38.186Z"
   },
   {
    "duration": 1158,
    "start_time": "2022-07-28T06:41:18.256Z"
   },
   {
    "duration": 17,
    "start_time": "2022-07-28T06:41:43.234Z"
   },
   {
    "duration": 14,
    "start_time": "2022-07-28T06:41:48.268Z"
   },
   {
    "duration": 15,
    "start_time": "2022-07-28T06:42:01.312Z"
   },
   {
    "duration": 1809,
    "start_time": "2022-07-29T06:59:02.553Z"
   },
   {
    "duration": 2997,
    "start_time": "2022-07-29T06:59:04.364Z"
   },
   {
    "duration": 21,
    "start_time": "2022-07-29T06:59:07.363Z"
   },
   {
    "duration": 137,
    "start_time": "2022-07-29T07:05:10.561Z"
   },
   {
    "duration": 122,
    "start_time": "2022-07-29T07:05:47.023Z"
   },
   {
    "duration": 1584,
    "start_time": "2022-07-30T06:00:11.806Z"
   },
   {
    "duration": 1385,
    "start_time": "2022-07-30T06:00:23.711Z"
   },
   {
    "duration": 1105,
    "start_time": "2022-07-30T06:00:25.098Z"
   },
   {
    "duration": 29,
    "start_time": "2022-07-30T06:00:26.205Z"
   },
   {
    "duration": 197,
    "start_time": "2022-07-30T06:00:26.236Z"
   },
   {
    "duration": 89,
    "start_time": "2022-07-30T06:02:47.992Z"
   },
   {
    "duration": 106,
    "start_time": "2022-07-30T06:07:52.269Z"
   },
   {
    "duration": 9,
    "start_time": "2022-07-30T06:08:00.983Z"
   },
   {
    "duration": 468,
    "start_time": "2022-07-30T06:08:08.454Z"
   },
   {
    "duration": 435,
    "start_time": "2022-07-30T06:08:13.332Z"
   },
   {
    "duration": 45,
    "start_time": "2022-07-30T06:08:58.068Z"
   },
   {
    "duration": 51,
    "start_time": "2022-07-30T06:09:01.572Z"
   },
   {
    "duration": 11,
    "start_time": "2022-07-30T06:09:28.473Z"
   },
   {
    "duration": 476,
    "start_time": "2022-07-30T06:09:35.561Z"
   },
   {
    "duration": 128,
    "start_time": "2022-07-30T06:09:43.269Z"
   },
   {
    "duration": 1556,
    "start_time": "2022-07-30T18:21:25.523Z"
   },
   {
    "duration": 1078,
    "start_time": "2022-07-30T18:21:27.080Z"
   },
   {
    "duration": 18,
    "start_time": "2022-07-30T18:21:28.160Z"
   },
   {
    "duration": 135,
    "start_time": "2022-07-30T18:21:28.179Z"
   },
   {
    "duration": 99,
    "start_time": "2022-07-30T18:21:28.316Z"
   },
   {
    "duration": 459,
    "start_time": "2022-07-30T18:21:28.416Z"
   },
   {
    "duration": 543,
    "start_time": "2022-07-30T18:21:28.877Z"
   },
   {
    "duration": 1330,
    "start_time": "2022-07-30T18:21:56.879Z"
   },
   {
    "duration": 796,
    "start_time": "2022-07-30T18:21:58.211Z"
   },
   {
    "duration": 29,
    "start_time": "2022-07-30T18:21:59.009Z"
   },
   {
    "duration": 172,
    "start_time": "2022-07-30T18:21:59.040Z"
   },
   {
    "duration": 95,
    "start_time": "2022-07-30T18:21:59.214Z"
   },
   {
    "duration": 439,
    "start_time": "2022-07-30T18:21:59.311Z"
   },
   {
    "duration": 455,
    "start_time": "2022-07-30T18:21:59.751Z"
   },
   {
    "duration": 49,
    "start_time": "2022-07-30T18:26:07.001Z"
   },
   {
    "duration": 23,
    "start_time": "2022-07-30T18:26:14.383Z"
   },
   {
    "duration": 111,
    "start_time": "2022-07-30T18:40:11.916Z"
   },
   {
    "duration": 1107,
    "start_time": "2022-07-30T18:40:17.806Z"
   },
   {
    "duration": 831,
    "start_time": "2022-07-30T18:40:23.225Z"
   },
   {
    "duration": 524,
    "start_time": "2022-07-30T18:40:53.256Z"
   },
   {
    "duration": 50,
    "start_time": "2022-07-30T18:41:04.080Z"
   },
   {
    "duration": 21,
    "start_time": "2022-07-30T18:41:10.384Z"
   },
   {
    "duration": 1340,
    "start_time": "2022-07-30T19:27:57.471Z"
   },
   {
    "duration": 830,
    "start_time": "2022-07-30T19:27:58.813Z"
   },
   {
    "duration": 19,
    "start_time": "2022-07-30T19:27:59.644Z"
   },
   {
    "duration": 137,
    "start_time": "2022-07-30T19:27:59.664Z"
   },
   {
    "duration": 103,
    "start_time": "2022-07-30T19:27:59.802Z"
   },
   {
    "duration": 455,
    "start_time": "2022-07-30T19:27:59.907Z"
   },
   {
    "duration": 459,
    "start_time": "2022-07-30T19:28:00.363Z"
   },
   {
    "duration": 44,
    "start_time": "2022-07-30T19:28:00.824Z"
   },
   {
    "duration": 74,
    "start_time": "2022-07-30T19:28:00.869Z"
   },
   {
    "duration": 34,
    "start_time": "2022-07-30T19:28:00.946Z"
   },
   {
    "duration": 44,
    "start_time": "2022-07-30T19:28:56.159Z"
   },
   {
    "duration": 50,
    "start_time": "2022-07-30T19:29:00.707Z"
   },
   {
    "duration": 44,
    "start_time": "2022-07-30T19:29:06.803Z"
   },
   {
    "duration": 40,
    "start_time": "2022-07-30T19:29:19.071Z"
   },
   {
    "duration": 38,
    "start_time": "2022-07-30T19:33:16.642Z"
   },
   {
    "duration": 38,
    "start_time": "2022-07-30T19:37:19.959Z"
   },
   {
    "duration": 27,
    "start_time": "2022-07-30T19:37:37.270Z"
   },
   {
    "duration": 138,
    "start_time": "2022-07-30T19:37:48.318Z"
   },
   {
    "duration": 30,
    "start_time": "2022-07-30T19:37:51.536Z"
   },
   {
    "duration": 41,
    "start_time": "2022-07-30T19:37:56.545Z"
   },
   {
    "duration": 50,
    "start_time": "2022-07-30T19:38:40.851Z"
   },
   {
    "duration": 42,
    "start_time": "2022-07-30T19:43:00.648Z"
   },
   {
    "duration": 43,
    "start_time": "2022-07-30T19:48:16.595Z"
   },
   {
    "duration": 108,
    "start_time": "2022-07-30T19:50:48.995Z"
   },
   {
    "duration": 105,
    "start_time": "2022-07-30T19:51:04.704Z"
   },
   {
    "duration": 7,
    "start_time": "2022-07-30T20:18:36.868Z"
   },
   {
    "duration": 7,
    "start_time": "2022-07-30T20:20:53.523Z"
   },
   {
    "duration": 16,
    "start_time": "2022-07-30T20:23:54.865Z"
   },
   {
    "duration": 16,
    "start_time": "2022-07-30T20:24:15.117Z"
   },
   {
    "duration": 86,
    "start_time": "2022-07-30T20:24:51.248Z"
   },
   {
    "duration": 11,
    "start_time": "2022-07-30T20:25:14.614Z"
   },
   {
    "duration": 1457,
    "start_time": "2022-08-01T11:19:32.389Z"
   },
   {
    "duration": 2769,
    "start_time": "2022-08-01T11:19:33.848Z"
   },
   {
    "duration": 19,
    "start_time": "2022-08-01T11:19:36.618Z"
   },
   {
    "duration": 129,
    "start_time": "2022-08-01T11:19:36.639Z"
   },
   {
    "duration": 103,
    "start_time": "2022-08-01T11:19:36.770Z"
   },
   {
    "duration": 433,
    "start_time": "2022-08-01T11:19:36.874Z"
   },
   {
    "duration": 465,
    "start_time": "2022-08-01T11:19:37.309Z"
   },
   {
    "duration": 53,
    "start_time": "2022-08-01T11:19:37.778Z"
   },
   {
    "duration": 80,
    "start_time": "2022-08-01T11:19:37.833Z"
   },
   {
    "duration": 50,
    "start_time": "2022-08-01T11:19:37.916Z"
   },
   {
    "duration": 43,
    "start_time": "2022-08-01T11:19:37.968Z"
   },
   {
    "duration": 37,
    "start_time": "2022-08-01T11:19:38.031Z"
   },
   {
    "duration": 43,
    "start_time": "2022-08-01T11:19:38.070Z"
   },
   {
    "duration": 90,
    "start_time": "2022-08-01T11:19:38.131Z"
   },
   {
    "duration": 15,
    "start_time": "2022-08-01T11:19:38.223Z"
   },
   {
    "duration": 25,
    "start_time": "2022-08-01T11:19:38.240Z"
   },
   {
    "duration": 105,
    "start_time": "2022-08-01T11:19:38.268Z"
   },
   {
    "duration": 174,
    "start_time": "2022-08-01T11:26:35.858Z"
   },
   {
    "duration": 247,
    "start_time": "2022-08-01T11:26:52.009Z"
   },
   {
    "duration": 266,
    "start_time": "2022-08-01T11:27:05.161Z"
   },
   {
    "duration": 247,
    "start_time": "2022-08-01T11:28:28.094Z"
   },
   {
    "duration": 146,
    "start_time": "2022-08-01T11:30:03.008Z"
   },
   {
    "duration": 19,
    "start_time": "2022-08-01T11:30:20.759Z"
   },
   {
    "duration": 17,
    "start_time": "2022-08-01T11:30:46.179Z"
   },
   {
    "duration": 16,
    "start_time": "2022-08-01T11:31:01.391Z"
   },
   {
    "duration": 22,
    "start_time": "2022-08-01T11:35:52.561Z"
   },
   {
    "duration": 113,
    "start_time": "2022-08-01T11:35:58.961Z"
   },
   {
    "duration": 65,
    "start_time": "2022-08-01T11:36:04.469Z"
   },
   {
    "duration": 44,
    "start_time": "2022-08-01T11:36:32.245Z"
   },
   {
    "duration": 66,
    "start_time": "2022-08-01T11:36:33.061Z"
   },
   {
    "duration": 2,
    "start_time": "2022-08-01T11:37:04.859Z"
   },
   {
    "duration": 2,
    "start_time": "2022-08-01T11:38:37.161Z"
   },
   {
    "duration": 322,
    "start_time": "2022-08-01T11:39:07.649Z"
   },
   {
    "duration": 230,
    "start_time": "2022-08-01T11:39:19.082Z"
   },
   {
    "duration": 25,
    "start_time": "2022-08-01T11:43:02.847Z"
   },
   {
    "duration": 33,
    "start_time": "2022-08-01T11:57:55.847Z"
   },
   {
    "duration": 21,
    "start_time": "2022-08-01T11:58:01.698Z"
   },
   {
    "duration": 7,
    "start_time": "2022-08-01T11:59:35.551Z"
   },
   {
    "duration": 10,
    "start_time": "2022-08-01T12:01:22.816Z"
   },
   {
    "duration": 1326,
    "start_time": "2022-08-01T12:01:46.584Z"
   },
   {
    "duration": 686,
    "start_time": "2022-08-01T12:01:47.912Z"
   },
   {
    "duration": 18,
    "start_time": "2022-08-01T12:01:48.600Z"
   },
   {
    "duration": 117,
    "start_time": "2022-08-01T12:01:48.620Z"
   },
   {
    "duration": 93,
    "start_time": "2022-08-01T12:01:48.739Z"
   },
   {
    "duration": 442,
    "start_time": "2022-08-01T12:01:48.834Z"
   },
   {
    "duration": 460,
    "start_time": "2022-08-01T12:01:49.278Z"
   },
   {
    "duration": 43,
    "start_time": "2022-08-01T12:01:49.740Z"
   },
   {
    "duration": 111,
    "start_time": "2022-08-01T12:01:49.784Z"
   },
   {
    "duration": 41,
    "start_time": "2022-08-01T12:01:49.897Z"
   },
   {
    "duration": 37,
    "start_time": "2022-08-01T12:01:49.939Z"
   },
   {
    "duration": 36,
    "start_time": "2022-08-01T12:01:49.977Z"
   },
   {
    "duration": 55,
    "start_time": "2022-08-01T12:01:50.015Z"
   },
   {
    "duration": 106,
    "start_time": "2022-08-01T12:01:50.071Z"
   },
   {
    "duration": 7,
    "start_time": "2022-08-01T12:01:50.179Z"
   },
   {
    "duration": 20,
    "start_time": "2022-08-01T12:01:50.187Z"
   },
   {
    "duration": 82,
    "start_time": "2022-08-01T12:01:50.209Z"
   },
   {
    "duration": 245,
    "start_time": "2022-08-01T12:01:50.292Z"
   },
   {
    "duration": 16,
    "start_time": "2022-08-01T12:01:50.538Z"
   },
   {
    "duration": 14,
    "start_time": "2022-08-01T12:01:50.555Z"
   },
   {
    "duration": 65,
    "start_time": "2022-08-01T12:01:50.570Z"
   },
   {
    "duration": 280,
    "start_time": "2022-08-01T12:01:50.637Z"
   },
   {
    "duration": 31,
    "start_time": "2022-08-01T12:01:50.919Z"
   },
   {
    "duration": 16,
    "start_time": "2022-08-01T12:01:50.951Z"
   },
   {
    "duration": 29,
    "start_time": "2022-08-01T12:02:14.236Z"
   },
   {
    "duration": 123,
    "start_time": "2022-08-01T12:02:30.057Z"
   },
   {
    "duration": 56,
    "start_time": "2022-08-01T12:02:35.089Z"
   },
   {
    "duration": 44,
    "start_time": "2022-08-01T12:02:37.352Z"
   },
   {
    "duration": 1387,
    "start_time": "2022-08-01T12:02:55.320Z"
   },
   {
    "duration": 711,
    "start_time": "2022-08-01T12:02:56.709Z"
   },
   {
    "duration": 27,
    "start_time": "2022-08-01T12:02:57.422Z"
   },
   {
    "duration": 116,
    "start_time": "2022-08-01T12:02:57.452Z"
   },
   {
    "duration": 95,
    "start_time": "2022-08-01T12:02:57.570Z"
   },
   {
    "duration": 466,
    "start_time": "2022-08-01T12:02:57.666Z"
   },
   {
    "duration": 416,
    "start_time": "2022-08-01T12:02:58.134Z"
   },
   {
    "duration": 42,
    "start_time": "2022-08-01T12:02:58.552Z"
   },
   {
    "duration": 72,
    "start_time": "2022-08-01T12:02:58.596Z"
   },
   {
    "duration": 32,
    "start_time": "2022-08-01T12:02:58.670Z"
   },
   {
    "duration": 47,
    "start_time": "2022-08-01T12:02:58.704Z"
   },
   {
    "duration": 35,
    "start_time": "2022-08-01T12:02:58.752Z"
   },
   {
    "duration": 55,
    "start_time": "2022-08-01T12:02:58.789Z"
   },
   {
    "duration": 98,
    "start_time": "2022-08-01T12:02:58.846Z"
   },
   {
    "duration": 10,
    "start_time": "2022-08-01T12:02:58.946Z"
   },
   {
    "duration": 25,
    "start_time": "2022-08-01T12:02:58.958Z"
   },
   {
    "duration": 82,
    "start_time": "2022-08-01T12:02:58.985Z"
   },
   {
    "duration": 250,
    "start_time": "2022-08-01T12:02:59.069Z"
   },
   {
    "duration": 23,
    "start_time": "2022-08-01T12:02:59.321Z"
   },
   {
    "duration": 16,
    "start_time": "2022-08-01T12:02:59.346Z"
   },
   {
    "duration": 26,
    "start_time": "2022-08-01T12:02:59.363Z"
   },
   {
    "duration": 311,
    "start_time": "2022-08-01T12:02:59.391Z"
   },
   {
    "duration": 29,
    "start_time": "2022-08-01T12:02:59.703Z"
   },
   {
    "duration": 26,
    "start_time": "2022-08-01T12:02:59.734Z"
   },
   {
    "duration": 22,
    "start_time": "2022-08-01T12:05:47.550Z"
   },
   {
    "duration": 254,
    "start_time": "2022-08-01T12:05:57.555Z"
   },
   {
    "duration": 163,
    "start_time": "2022-08-01T12:06:18.649Z"
   },
   {
    "duration": 17,
    "start_time": "2022-08-01T12:07:19.615Z"
   },
   {
    "duration": 179,
    "start_time": "2022-08-01T12:08:46.623Z"
   },
   {
    "duration": 64,
    "start_time": "2022-08-01T12:09:08.579Z"
   },
   {
    "duration": 32,
    "start_time": "2022-08-01T12:10:29.853Z"
   },
   {
    "duration": 1599,
    "start_time": "2022-08-01T19:08:45.490Z"
   },
   {
    "duration": 1051,
    "start_time": "2022-08-01T19:08:47.090Z"
   },
   {
    "duration": 23,
    "start_time": "2022-08-01T19:08:48.144Z"
   },
   {
    "duration": 121,
    "start_time": "2022-08-01T19:08:48.169Z"
   },
   {
    "duration": 132,
    "start_time": "2022-08-01T19:08:48.291Z"
   },
   {
    "duration": 416,
    "start_time": "2022-08-01T19:08:48.425Z"
   },
   {
    "duration": 445,
    "start_time": "2022-08-01T19:08:48.843Z"
   },
   {
    "duration": 46,
    "start_time": "2022-08-01T19:08:49.290Z"
   },
   {
    "duration": 90,
    "start_time": "2022-08-01T19:08:49.338Z"
   },
   {
    "duration": 21,
    "start_time": "2022-08-01T19:08:49.431Z"
   },
   {
    "duration": 25,
    "start_time": "2022-08-01T19:08:49.453Z"
   },
   {
    "duration": 52,
    "start_time": "2022-08-01T19:08:49.480Z"
   },
   {
    "duration": 31,
    "start_time": "2022-08-01T19:08:49.533Z"
   },
   {
    "duration": 108,
    "start_time": "2022-08-01T19:08:49.566Z"
   },
   {
    "duration": 9,
    "start_time": "2022-08-01T19:08:49.675Z"
   },
   {
    "duration": 23,
    "start_time": "2022-08-01T19:08:49.698Z"
   },
   {
    "duration": 91,
    "start_time": "2022-08-01T19:08:49.722Z"
   },
   {
    "duration": 259,
    "start_time": "2022-08-01T19:08:49.815Z"
   },
   {
    "duration": 26,
    "start_time": "2022-08-01T19:08:50.076Z"
   },
   {
    "duration": 14,
    "start_time": "2022-08-01T19:08:50.104Z"
   },
   {
    "duration": 24,
    "start_time": "2022-08-01T19:08:50.120Z"
   },
   {
    "duration": 306,
    "start_time": "2022-08-01T19:08:50.146Z"
   },
   {
    "duration": 23,
    "start_time": "2022-08-01T19:08:50.454Z"
   },
   {
    "duration": 41,
    "start_time": "2022-08-01T19:08:50.480Z"
   },
   {
    "duration": 23,
    "start_time": "2022-08-01T19:08:50.523Z"
   },
   {
    "duration": 191,
    "start_time": "2022-08-01T19:08:50.548Z"
   },
   {
    "duration": 30,
    "start_time": "2022-08-01T19:08:50.741Z"
   },
   {
    "duration": 14,
    "start_time": "2022-08-01T19:09:47.017Z"
   },
   {
    "duration": 24,
    "start_time": "2022-08-01T19:09:53.756Z"
   },
   {
    "duration": 63,
    "start_time": "2022-08-01T19:10:48.807Z"
   },
   {
    "duration": 47,
    "start_time": "2022-08-01T19:11:27.448Z"
   },
   {
    "duration": 46,
    "start_time": "2022-08-01T19:12:28.467Z"
   },
   {
    "duration": 47,
    "start_time": "2022-08-01T19:12:33.387Z"
   },
   {
    "duration": 30,
    "start_time": "2022-08-01T19:15:17.711Z"
   },
   {
    "duration": 29,
    "start_time": "2022-08-01T19:15:38.779Z"
   },
   {
    "duration": 37,
    "start_time": "2022-08-01T19:17:32.457Z"
   },
   {
    "duration": 155,
    "start_time": "2022-08-01T19:18:08.850Z"
   },
   {
    "duration": 157,
    "start_time": "2022-08-01T19:19:10.489Z"
   },
   {
    "duration": 126,
    "start_time": "2022-08-01T19:25:41.362Z"
   },
   {
    "duration": 18,
    "start_time": "2022-08-01T19:25:47.184Z"
   },
   {
    "duration": 72,
    "start_time": "2022-08-01T19:26:10.875Z"
   },
   {
    "duration": 29,
    "start_time": "2022-08-01T19:38:02.164Z"
   },
   {
    "duration": 67,
    "start_time": "2022-08-01T19:40:12.998Z"
   },
   {
    "duration": 51,
    "start_time": "2022-08-01T19:47:53.610Z"
   },
   {
    "duration": 44,
    "start_time": "2022-08-01T19:48:58.737Z"
   },
   {
    "duration": 46,
    "start_time": "2022-08-01T19:49:19.067Z"
   },
   {
    "duration": 60,
    "start_time": "2022-08-01T19:52:52.252Z"
   },
   {
    "duration": 107,
    "start_time": "2022-08-01T19:52:59.149Z"
   },
   {
    "duration": 22,
    "start_time": "2022-08-01T19:57:50.575Z"
   },
   {
    "duration": 101,
    "start_time": "2022-08-01T19:58:04.392Z"
   },
   {
    "duration": 13375,
    "start_time": "2022-08-01T20:22:04.141Z"
   },
   {
    "duration": 253,
    "start_time": "2022-08-01T20:23:38.745Z"
   },
   {
    "duration": 35,
    "start_time": "2022-08-01T20:28:18.777Z"
   },
   {
    "duration": 9322,
    "start_time": "2022-08-01T20:28:20.592Z"
   },
   {
    "duration": 173,
    "start_time": "2022-08-01T20:28:36.311Z"
   },
   {
    "duration": 18,
    "start_time": "2022-08-01T20:30:58.365Z"
   },
   {
    "duration": 1525,
    "start_time": "2022-08-02T06:40:50.069Z"
   },
   {
    "duration": 2740,
    "start_time": "2022-08-02T06:40:51.595Z"
   },
   {
    "duration": 17,
    "start_time": "2022-08-02T06:40:54.336Z"
   },
   {
    "duration": 108,
    "start_time": "2022-08-02T06:40:54.355Z"
   },
   {
    "duration": 96,
    "start_time": "2022-08-02T06:40:54.465Z"
   },
   {
    "duration": 399,
    "start_time": "2022-08-02T06:40:54.562Z"
   },
   {
    "duration": 410,
    "start_time": "2022-08-02T06:40:54.962Z"
   },
   {
    "duration": 40,
    "start_time": "2022-08-02T06:40:55.374Z"
   },
   {
    "duration": 68,
    "start_time": "2022-08-02T06:40:55.415Z"
   },
   {
    "duration": 30,
    "start_time": "2022-08-02T06:40:55.486Z"
   },
   {
    "duration": 46,
    "start_time": "2022-08-02T06:40:55.517Z"
   },
   {
    "duration": 36,
    "start_time": "2022-08-02T06:40:55.565Z"
   },
   {
    "duration": 54,
    "start_time": "2022-08-02T06:40:55.602Z"
   },
   {
    "duration": 94,
    "start_time": "2022-08-02T06:40:55.658Z"
   },
   {
    "duration": 6,
    "start_time": "2022-08-02T06:40:55.754Z"
   },
   {
    "duration": 19,
    "start_time": "2022-08-02T06:40:55.762Z"
   },
   {
    "duration": 78,
    "start_time": "2022-08-02T06:40:55.783Z"
   },
   {
    "duration": 291,
    "start_time": "2022-08-02T06:40:55.862Z"
   },
   {
    "duration": 15,
    "start_time": "2022-08-02T06:40:56.154Z"
   },
   {
    "duration": 13,
    "start_time": "2022-08-02T06:40:56.171Z"
   },
   {
    "duration": 20,
    "start_time": "2022-08-02T06:40:56.186Z"
   },
   {
    "duration": 292,
    "start_time": "2022-08-02T06:40:56.208Z"
   },
   {
    "duration": 20,
    "start_time": "2022-08-02T06:40:56.502Z"
   },
   {
    "duration": 34,
    "start_time": "2022-08-02T06:40:56.524Z"
   },
   {
    "duration": 20,
    "start_time": "2022-08-02T06:40:56.559Z"
   },
   {
    "duration": 164,
    "start_time": "2022-08-02T06:40:56.581Z"
   },
   {
    "duration": 27,
    "start_time": "2022-08-02T06:40:56.746Z"
   },
   {
    "duration": 14,
    "start_time": "2022-08-02T06:40:56.776Z"
   },
   {
    "duration": 162,
    "start_time": "2022-08-02T06:40:56.792Z"
   },
   {
    "duration": 15,
    "start_time": "2022-08-02T06:40:56.955Z"
   },
   {
    "duration": 25,
    "start_time": "2022-08-02T06:40:56.971Z"
   },
   {
    "duration": 34,
    "start_time": "2022-08-02T06:40:56.997Z"
   },
   {
    "duration": 111,
    "start_time": "2022-08-02T06:40:57.032Z"
   },
   {
    "duration": 16,
    "start_time": "2022-08-02T06:40:57.152Z"
   },
   {
    "duration": 187,
    "start_time": "2022-08-02T06:40:57.170Z"
   },
   {
    "duration": 20,
    "start_time": "2022-08-02T06:40:57.359Z"
   },
   {
    "duration": 174,
    "start_time": "2022-08-02T06:40:57.380Z"
   },
   {
    "duration": 74,
    "start_time": "2022-08-02T06:40:57.555Z"
   },
   {
    "duration": 0,
    "start_time": "2022-08-02T06:40:57.631Z"
   },
   {
    "duration": 0,
    "start_time": "2022-08-02T06:40:57.632Z"
   },
   {
    "duration": 17,
    "start_time": "2022-08-02T06:45:04.849Z"
   },
   {
    "duration": 104,
    "start_time": "2022-08-02T06:49:29.821Z"
   },
   {
    "duration": 22,
    "start_time": "2022-08-02T06:50:04.732Z"
   },
   {
    "duration": 17,
    "start_time": "2022-08-02T06:50:08.938Z"
   },
   {
    "duration": 184,
    "start_time": "2022-08-02T06:50:29.691Z"
   },
   {
    "duration": 193,
    "start_time": "2022-08-02T06:52:22.292Z"
   },
   {
    "duration": 61,
    "start_time": "2022-08-02T07:08:20.947Z"
   },
   {
    "duration": 35,
    "start_time": "2022-08-02T07:08:27.630Z"
   },
   {
    "duration": 55,
    "start_time": "2022-08-02T07:08:35.447Z"
   },
   {
    "duration": 81,
    "start_time": "2022-08-02T07:09:38.423Z"
   },
   {
    "duration": 60,
    "start_time": "2022-08-02T07:10:41.522Z"
   },
   {
    "duration": 19,
    "start_time": "2022-08-02T07:13:57.964Z"
   },
   {
    "duration": 18,
    "start_time": "2022-08-02T07:14:09.442Z"
   },
   {
    "duration": 3,
    "start_time": "2022-08-02T07:17:21.452Z"
   },
   {
    "duration": 67735,
    "start_time": "2022-08-02T07:18:20.229Z"
   },
   {
    "duration": 3,
    "start_time": "2022-08-02T07:19:56.118Z"
   },
   {
    "duration": 3,
    "start_time": "2022-08-02T07:21:08.548Z"
   },
   {
    "duration": 6139,
    "start_time": "2022-08-02T07:21:10.323Z"
   },
   {
    "duration": 4,
    "start_time": "2022-08-02T07:21:22.864Z"
   },
   {
    "duration": 88771,
    "start_time": "2022-08-02T07:21:23.482Z"
   },
   {
    "duration": 9,
    "start_time": "2022-08-02T07:25:15.561Z"
   },
   {
    "duration": 2450,
    "start_time": "2022-08-02T07:25:36.197Z"
   },
   {
    "duration": 73,
    "start_time": "2022-08-02T07:27:40.471Z"
   },
   {
    "duration": 66,
    "start_time": "2022-08-02T07:28:18.821Z"
   },
   {
    "duration": 60,
    "start_time": "2022-08-02T07:28:26.920Z"
   },
   {
    "duration": 89,
    "start_time": "2022-08-02T07:43:26.380Z"
   },
   {
    "duration": 50,
    "start_time": "2022-08-02T07:43:37.646Z"
   },
   {
    "duration": 16,
    "start_time": "2022-08-02T07:43:58.575Z"
   },
   {
    "duration": 3,
    "start_time": "2022-08-02T07:45:44.929Z"
   },
   {
    "duration": 19,
    "start_time": "2022-08-02T07:47:53.873Z"
   },
   {
    "duration": 9,
    "start_time": "2022-08-02T07:49:55.573Z"
   },
   {
    "duration": 4,
    "start_time": "2022-08-02T07:50:09.747Z"
   },
   {
    "duration": 176,
    "start_time": "2022-08-02T07:50:36.238Z"
   },
   {
    "duration": 133,
    "start_time": "2022-08-02T07:52:35.759Z"
   },
   {
    "duration": 148,
    "start_time": "2022-08-02T07:52:43.432Z"
   },
   {
    "duration": 61,
    "start_time": "2022-08-02T07:54:18.239Z"
   },
   {
    "duration": 21,
    "start_time": "2022-08-02T07:55:33.262Z"
   },
   {
    "duration": 2,
    "start_time": "2022-08-02T07:56:48.635Z"
   },
   {
    "duration": 18,
    "start_time": "2022-08-02T07:57:16.883Z"
   },
   {
    "duration": 29,
    "start_time": "2022-08-02T07:57:27.084Z"
   },
   {
    "duration": 110,
    "start_time": "2022-08-02T07:58:58.279Z"
   },
   {
    "duration": 74,
    "start_time": "2022-08-02T07:59:13.639Z"
   },
   {
    "duration": 731,
    "start_time": "2022-08-02T08:00:16.946Z"
   },
   {
    "duration": 721,
    "start_time": "2022-08-02T08:00:29.838Z"
   },
   {
    "duration": 705,
    "start_time": "2022-08-02T08:01:44.926Z"
   },
   {
    "duration": 677,
    "start_time": "2022-08-02T08:01:59.240Z"
   },
   {
    "duration": 2,
    "start_time": "2022-08-02T08:47:32.746Z"
   },
   {
    "duration": 24,
    "start_time": "2022-08-02T08:48:01.768Z"
   },
   {
    "duration": 305,
    "start_time": "2022-08-02T08:50:23.357Z"
   },
   {
    "duration": 280,
    "start_time": "2022-08-02T08:50:40.712Z"
   },
   {
    "duration": 4,
    "start_time": "2022-08-02T08:51:36.741Z"
   },
   {
    "duration": 19,
    "start_time": "2022-08-02T08:52:03.842Z"
   },
   {
    "duration": 52,
    "start_time": "2022-08-03T06:26:32.129Z"
   },
   {
    "duration": 1676,
    "start_time": "2022-08-03T06:26:37.432Z"
   },
   {
    "duration": 2950,
    "start_time": "2022-08-03T06:26:39.110Z"
   },
   {
    "duration": 19,
    "start_time": "2022-08-03T06:26:42.062Z"
   },
   {
    "duration": 133,
    "start_time": "2022-08-03T06:26:42.083Z"
   },
   {
    "duration": 148,
    "start_time": "2022-08-03T06:26:42.219Z"
   },
   {
    "duration": 501,
    "start_time": "2022-08-03T06:26:42.368Z"
   },
   {
    "duration": 513,
    "start_time": "2022-08-03T06:26:42.870Z"
   },
   {
    "duration": 47,
    "start_time": "2022-08-03T06:26:43.385Z"
   },
   {
    "duration": 99,
    "start_time": "2022-08-03T06:26:43.434Z"
   },
   {
    "duration": 36,
    "start_time": "2022-08-03T06:26:43.535Z"
   },
   {
    "duration": 54,
    "start_time": "2022-08-03T06:26:43.573Z"
   },
   {
    "duration": 44,
    "start_time": "2022-08-03T06:26:43.629Z"
   },
   {
    "duration": 63,
    "start_time": "2022-08-03T06:26:43.675Z"
   },
   {
    "duration": 113,
    "start_time": "2022-08-03T06:26:43.741Z"
   },
   {
    "duration": 7,
    "start_time": "2022-08-03T06:26:43.856Z"
   },
   {
    "duration": 24,
    "start_time": "2022-08-03T06:26:43.865Z"
   },
   {
    "duration": 104,
    "start_time": "2022-08-03T06:26:43.890Z"
   },
   {
    "duration": 306,
    "start_time": "2022-08-03T06:26:43.995Z"
   },
   {
    "duration": 23,
    "start_time": "2022-08-03T06:26:44.302Z"
   },
   {
    "duration": 18,
    "start_time": "2022-08-03T06:26:44.327Z"
   },
   {
    "duration": 23,
    "start_time": "2022-08-03T06:26:44.347Z"
   },
   {
    "duration": 350,
    "start_time": "2022-08-03T06:26:44.372Z"
   },
   {
    "duration": 24,
    "start_time": "2022-08-03T06:26:44.723Z"
   },
   {
    "duration": 29,
    "start_time": "2022-08-03T06:26:44.748Z"
   },
   {
    "duration": 44,
    "start_time": "2022-08-03T06:26:44.778Z"
   },
   {
    "duration": 198,
    "start_time": "2022-08-03T06:26:44.824Z"
   },
   {
    "duration": 34,
    "start_time": "2022-08-03T06:26:45.024Z"
   },
   {
    "duration": 21,
    "start_time": "2022-08-03T06:26:45.060Z"
   },
   {
    "duration": 205,
    "start_time": "2022-08-03T06:26:45.083Z"
   },
   {
    "duration": 33,
    "start_time": "2022-08-03T06:26:45.290Z"
   },
   {
    "duration": 40,
    "start_time": "2022-08-03T06:26:45.325Z"
   },
   {
    "duration": 49,
    "start_time": "2022-08-03T06:26:45.367Z"
   },
   {
    "duration": 125,
    "start_time": "2022-08-03T06:26:45.418Z"
   },
   {
    "duration": 23,
    "start_time": "2022-08-03T06:26:45.545Z"
   },
   {
    "duration": 224,
    "start_time": "2022-08-03T06:26:45.570Z"
   },
   {
    "duration": 32,
    "start_time": "2022-08-03T06:26:45.795Z"
   },
   {
    "duration": 200,
    "start_time": "2022-08-03T06:26:45.828Z"
   },
   {
    "duration": 19,
    "start_time": "2022-08-03T06:26:46.030Z"
   },
   {
    "duration": 237,
    "start_time": "2022-08-03T06:26:46.051Z"
   },
   {
    "duration": 42,
    "start_time": "2022-08-03T06:26:46.290Z"
   },
   {
    "duration": 4,
    "start_time": "2022-08-03T06:26:46.336Z"
   },
   {
    "duration": 187,
    "start_time": "2022-08-03T06:26:46.342Z"
   },
   {
    "duration": 30,
    "start_time": "2022-08-03T06:26:46.531Z"
   },
   {
    "duration": 943,
    "start_time": "2022-08-03T06:26:46.563Z"
   },
   {
    "duration": 30,
    "start_time": "2022-08-03T06:26:47.508Z"
   },
   {
    "duration": 340,
    "start_time": "2022-08-03T06:26:47.540Z"
   },
   {
    "duration": 16,
    "start_time": "2022-08-03T06:26:47.882Z"
   },
   {
    "duration": 22,
    "start_time": "2022-08-03T06:26:47.909Z"
   },
   {
    "duration": 31,
    "start_time": "2022-08-03T06:29:40.697Z"
   },
   {
    "duration": 30,
    "start_time": "2022-08-03T06:30:18.759Z"
   },
   {
    "duration": 16,
    "start_time": "2022-08-03T06:30:31.074Z"
   },
   {
    "duration": 3,
    "start_time": "2022-08-03T06:37:46.006Z"
   },
   {
    "duration": 192,
    "start_time": "2022-08-03T06:38:20.460Z"
   },
   {
    "duration": 3,
    "start_time": "2022-08-03T06:39:47.085Z"
   },
   {
    "duration": 107,
    "start_time": "2022-08-03T06:39:47.396Z"
   },
   {
    "duration": 90,
    "start_time": "2022-08-03T06:40:05.921Z"
   },
   {
    "duration": 3,
    "start_time": "2022-08-03T06:40:43.085Z"
   },
   {
    "duration": 76,
    "start_time": "2022-08-03T06:40:43.630Z"
   },
   {
    "duration": 3,
    "start_time": "2022-08-03T06:42:34.226Z"
   },
   {
    "duration": 108,
    "start_time": "2022-08-03T06:42:34.762Z"
   },
   {
    "duration": 13,
    "start_time": "2022-08-03T06:43:45.944Z"
   },
   {
    "duration": 1246,
    "start_time": "2022-08-03T06:44:20.152Z"
   },
   {
    "duration": 1225,
    "start_time": "2022-08-03T06:44:47.343Z"
   },
   {
    "duration": 3,
    "start_time": "2022-08-03T06:45:27.136Z"
   },
   {
    "duration": 2814,
    "start_time": "2022-08-03T06:45:27.652Z"
   },
   {
    "duration": 15,
    "start_time": "2022-08-03T06:45:39.863Z"
   },
   {
    "duration": 95,
    "start_time": "2022-08-03T06:46:56.331Z"
   },
   {
    "duration": 25,
    "start_time": "2022-08-03T06:47:02.971Z"
   },
   {
    "duration": 4,
    "start_time": "2022-08-03T06:52:47.503Z"
   },
   {
    "duration": 31,
    "start_time": "2022-08-03T06:52:51.528Z"
   },
   {
    "duration": 108,
    "start_time": "2022-08-03T06:53:26.725Z"
   },
   {
    "duration": 12,
    "start_time": "2022-08-03T06:55:36.352Z"
   },
   {
    "duration": 1579,
    "start_time": "2022-08-03T06:55:42.832Z"
   },
   {
    "duration": 921,
    "start_time": "2022-08-03T06:55:44.413Z"
   },
   {
    "duration": 21,
    "start_time": "2022-08-03T06:55:45.337Z"
   },
   {
    "duration": 180,
    "start_time": "2022-08-03T06:55:45.360Z"
   },
   {
    "duration": 126,
    "start_time": "2022-08-03T06:55:45.543Z"
   },
   {
    "duration": 501,
    "start_time": "2022-08-03T06:55:45.671Z"
   },
   {
    "duration": 523,
    "start_time": "2022-08-03T06:55:46.174Z"
   },
   {
    "duration": 48,
    "start_time": "2022-08-03T06:55:46.699Z"
   },
   {
    "duration": 77,
    "start_time": "2022-08-03T06:55:46.749Z"
   },
   {
    "duration": 38,
    "start_time": "2022-08-03T06:55:46.828Z"
   },
   {
    "duration": 60,
    "start_time": "2022-08-03T06:55:46.867Z"
   },
   {
    "duration": 45,
    "start_time": "2022-08-03T06:55:46.929Z"
   },
   {
    "duration": 66,
    "start_time": "2022-08-03T06:55:46.975Z"
   },
   {
    "duration": 115,
    "start_time": "2022-08-03T06:55:47.046Z"
   },
   {
    "duration": 9,
    "start_time": "2022-08-03T06:55:47.163Z"
   },
   {
    "duration": 37,
    "start_time": "2022-08-03T06:55:47.173Z"
   },
   {
    "duration": 103,
    "start_time": "2022-08-03T06:55:47.212Z"
   },
   {
    "duration": 325,
    "start_time": "2022-08-03T06:55:47.317Z"
   },
   {
    "duration": 23,
    "start_time": "2022-08-03T06:55:47.643Z"
   },
   {
    "duration": 17,
    "start_time": "2022-08-03T06:55:47.667Z"
   },
   {
    "duration": 42,
    "start_time": "2022-08-03T06:55:47.686Z"
   },
   {
    "duration": 360,
    "start_time": "2022-08-03T06:55:47.730Z"
   },
   {
    "duration": 37,
    "start_time": "2022-08-03T06:55:48.092Z"
   },
   {
    "duration": 32,
    "start_time": "2022-08-03T06:55:48.131Z"
   },
   {
    "duration": 23,
    "start_time": "2022-08-03T06:55:48.165Z"
   },
   {
    "duration": 236,
    "start_time": "2022-08-03T06:55:48.190Z"
   },
   {
    "duration": 14,
    "start_time": "2022-08-03T06:55:48.428Z"
   },
   {
    "duration": 35,
    "start_time": "2022-08-03T06:55:48.444Z"
   },
   {
    "duration": 35,
    "start_time": "2022-08-03T06:55:48.481Z"
   },
   {
    "duration": 192,
    "start_time": "2022-08-03T06:55:48.518Z"
   },
   {
    "duration": 21,
    "start_time": "2022-08-03T06:55:48.712Z"
   },
   {
    "duration": 35,
    "start_time": "2022-08-03T06:55:48.735Z"
   },
   {
    "duration": 69,
    "start_time": "2022-08-03T06:55:48.772Z"
   },
   {
    "duration": 126,
    "start_time": "2022-08-03T06:55:48.843Z"
   },
   {
    "duration": 21,
    "start_time": "2022-08-03T06:55:48.971Z"
   },
   {
    "duration": 227,
    "start_time": "2022-08-03T06:55:48.994Z"
   },
   {
    "duration": 24,
    "start_time": "2022-08-03T06:55:49.223Z"
   },
   {
    "duration": 212,
    "start_time": "2022-08-03T06:55:49.249Z"
   },
   {
    "duration": 21,
    "start_time": "2022-08-03T06:55:49.462Z"
   },
   {
    "duration": 244,
    "start_time": "2022-08-03T06:55:49.485Z"
   },
   {
    "duration": 38,
    "start_time": "2022-08-03T06:55:49.734Z"
   },
   {
    "duration": 7,
    "start_time": "2022-08-03T06:55:49.773Z"
   },
   {
    "duration": 189,
    "start_time": "2022-08-03T06:55:49.782Z"
   },
   {
    "duration": 39,
    "start_time": "2022-08-03T06:55:49.973Z"
   },
   {
    "duration": 1016,
    "start_time": "2022-08-03T06:55:50.014Z"
   },
   {
    "duration": 32,
    "start_time": "2022-08-03T06:55:51.032Z"
   },
   {
    "duration": 346,
    "start_time": "2022-08-03T06:55:51.066Z"
   },
   {
    "duration": 17,
    "start_time": "2022-08-03T06:55:51.413Z"
   },
   {
    "duration": 27,
    "start_time": "2022-08-03T06:55:51.431Z"
   },
   {
    "duration": 51,
    "start_time": "2022-08-03T06:55:51.460Z"
   },
   {
    "duration": 16,
    "start_time": "2022-08-03T06:55:51.513Z"
   },
   {
    "duration": 94,
    "start_time": "2022-08-03T06:55:51.531Z"
   },
   {
    "duration": 14,
    "start_time": "2022-08-03T06:55:51.627Z"
   },
   {
    "duration": 4,
    "start_time": "2022-08-03T06:55:51.643Z"
   },
   {
    "duration": 1304,
    "start_time": "2022-08-03T06:55:51.649Z"
   },
   {
    "duration": 1571,
    "start_time": "2022-08-03T06:57:07.267Z"
   },
   {
    "duration": 915,
    "start_time": "2022-08-03T06:57:08.841Z"
   },
   {
    "duration": 20,
    "start_time": "2022-08-03T06:57:09.758Z"
   },
   {
    "duration": 161,
    "start_time": "2022-08-03T06:57:09.781Z"
   },
   {
    "duration": 116,
    "start_time": "2022-08-03T06:57:09.944Z"
   },
   {
    "duration": 521,
    "start_time": "2022-08-03T06:57:10.062Z"
   },
   {
    "duration": 536,
    "start_time": "2022-08-03T06:57:10.585Z"
   },
   {
    "duration": 46,
    "start_time": "2022-08-03T06:57:11.123Z"
   },
   {
    "duration": 82,
    "start_time": "2022-08-03T06:57:11.170Z"
   },
   {
    "duration": 37,
    "start_time": "2022-08-03T06:57:11.255Z"
   },
   {
    "duration": 56,
    "start_time": "2022-08-03T06:57:11.293Z"
   },
   {
    "duration": 45,
    "start_time": "2022-08-03T06:57:11.350Z"
   },
   {
    "duration": 60,
    "start_time": "2022-08-03T06:57:11.396Z"
   },
   {
    "duration": 127,
    "start_time": "2022-08-03T06:57:11.458Z"
   },
   {
    "duration": 9,
    "start_time": "2022-08-03T06:57:11.586Z"
   },
   {
    "duration": 31,
    "start_time": "2022-08-03T06:57:11.596Z"
   },
   {
    "duration": 104,
    "start_time": "2022-08-03T06:57:11.629Z"
   },
   {
    "duration": 383,
    "start_time": "2022-08-03T06:57:11.735Z"
   },
   {
    "duration": 18,
    "start_time": "2022-08-03T06:57:12.120Z"
   },
   {
    "duration": 17,
    "start_time": "2022-08-03T06:57:12.140Z"
   },
   {
    "duration": 25,
    "start_time": "2022-08-03T06:57:12.159Z"
   },
   {
    "duration": 353,
    "start_time": "2022-08-03T06:57:12.210Z"
   },
   {
    "duration": 23,
    "start_time": "2022-08-03T06:57:12.565Z"
   },
   {
    "duration": 43,
    "start_time": "2022-08-03T06:57:12.590Z"
   },
   {
    "duration": 23,
    "start_time": "2022-08-03T06:57:12.634Z"
   },
   {
    "duration": 213,
    "start_time": "2022-08-03T06:57:12.659Z"
   },
   {
    "duration": 40,
    "start_time": "2022-08-03T06:57:12.873Z"
   },
   {
    "duration": 17,
    "start_time": "2022-08-03T06:57:12.917Z"
   },
   {
    "duration": 197,
    "start_time": "2022-08-03T06:57:12.935Z"
   },
   {
    "duration": 20,
    "start_time": "2022-08-03T06:57:13.134Z"
   },
   {
    "duration": 33,
    "start_time": "2022-08-03T06:57:13.156Z"
   },
   {
    "duration": 66,
    "start_time": "2022-08-03T06:57:13.191Z"
   },
   {
    "duration": 127,
    "start_time": "2022-08-03T06:57:13.258Z"
   },
   {
    "duration": 25,
    "start_time": "2022-08-03T06:57:13.387Z"
   },
   {
    "duration": 224,
    "start_time": "2022-08-03T06:57:13.414Z"
   },
   {
    "duration": 22,
    "start_time": "2022-08-03T06:57:13.640Z"
   },
   {
    "duration": 214,
    "start_time": "2022-08-03T06:57:13.664Z"
   },
   {
    "duration": 30,
    "start_time": "2022-08-03T06:57:13.881Z"
   },
   {
    "duration": 222,
    "start_time": "2022-08-03T06:57:13.913Z"
   },
   {
    "duration": 36,
    "start_time": "2022-08-03T06:57:14.137Z"
   },
   {
    "duration": 6,
    "start_time": "2022-08-03T06:57:14.175Z"
   },
   {
    "duration": 203,
    "start_time": "2022-08-03T06:57:14.183Z"
   },
   {
    "duration": 38,
    "start_time": "2022-08-03T06:57:14.387Z"
   },
   {
    "duration": 1018,
    "start_time": "2022-08-03T06:57:14.428Z"
   },
   {
    "duration": 35,
    "start_time": "2022-08-03T06:57:15.449Z"
   },
   {
    "duration": 348,
    "start_time": "2022-08-03T06:57:15.486Z"
   },
   {
    "duration": 16,
    "start_time": "2022-08-03T06:57:15.836Z"
   },
   {
    "duration": 25,
    "start_time": "2022-08-03T06:57:15.853Z"
   },
   {
    "duration": 41,
    "start_time": "2022-08-03T06:57:15.880Z"
   },
   {
    "duration": 19,
    "start_time": "2022-08-03T06:57:15.923Z"
   },
   {
    "duration": 105,
    "start_time": "2022-08-03T06:57:15.944Z"
   },
   {
    "duration": 23,
    "start_time": "2022-08-03T06:57:16.051Z"
   },
   {
    "duration": 9,
    "start_time": "2022-08-03T06:57:16.076Z"
   },
   {
    "duration": 2854,
    "start_time": "2022-08-03T06:57:16.087Z"
   },
   {
    "duration": 20,
    "start_time": "2022-08-03T06:57:22.858Z"
   },
   {
    "duration": 13,
    "start_time": "2022-08-03T07:02:18.648Z"
   },
   {
    "duration": 2739,
    "start_time": "2022-08-03T07:03:09.087Z"
   },
   {
    "duration": 17,
    "start_time": "2022-08-03T07:03:11.829Z"
   },
   {
    "duration": 30,
    "start_time": "2022-08-03T07:04:10.429Z"
   },
   {
    "duration": 14,
    "start_time": "2022-08-03T07:04:17.355Z"
   },
   {
    "duration": 139,
    "start_time": "2022-08-03T07:04:38.245Z"
   },
   {
    "duration": 1489,
    "start_time": "2022-08-03T07:04:43.756Z"
   },
   {
    "duration": 956,
    "start_time": "2022-08-03T07:04:45.248Z"
   },
   {
    "duration": 20,
    "start_time": "2022-08-03T07:04:46.205Z"
   },
   {
    "duration": 146,
    "start_time": "2022-08-03T07:04:46.227Z"
   },
   {
    "duration": 116,
    "start_time": "2022-08-03T07:04:46.375Z"
   },
   {
    "duration": 496,
    "start_time": "2022-08-03T07:04:46.493Z"
   },
   {
    "duration": 504,
    "start_time": "2022-08-03T07:04:46.991Z"
   },
   {
    "duration": 46,
    "start_time": "2022-08-03T07:04:47.497Z"
   },
   {
    "duration": 79,
    "start_time": "2022-08-03T07:04:47.545Z"
   },
   {
    "duration": 37,
    "start_time": "2022-08-03T07:04:47.627Z"
   },
   {
    "duration": 58,
    "start_time": "2022-08-03T07:04:47.666Z"
   },
   {
    "duration": 53,
    "start_time": "2022-08-03T07:04:47.726Z"
   },
   {
    "duration": 74,
    "start_time": "2022-08-03T07:04:47.781Z"
   },
   {
    "duration": 119,
    "start_time": "2022-08-03T07:04:47.857Z"
   },
   {
    "duration": 8,
    "start_time": "2022-08-03T07:04:47.978Z"
   },
   {
    "duration": 32,
    "start_time": "2022-08-03T07:04:47.988Z"
   },
   {
    "duration": 102,
    "start_time": "2022-08-03T07:04:48.022Z"
   },
   {
    "duration": 301,
    "start_time": "2022-08-03T07:04:48.126Z"
   },
   {
    "duration": 18,
    "start_time": "2022-08-03T07:04:48.429Z"
   },
   {
    "duration": 18,
    "start_time": "2022-08-03T07:04:48.449Z"
   },
   {
    "duration": 50,
    "start_time": "2022-08-03T07:04:48.470Z"
   },
   {
    "duration": 368,
    "start_time": "2022-08-03T07:04:48.521Z"
   },
   {
    "duration": 28,
    "start_time": "2022-08-03T07:04:48.891Z"
   },
   {
    "duration": 30,
    "start_time": "2022-08-03T07:04:48.921Z"
   },
   {
    "duration": 23,
    "start_time": "2022-08-03T07:04:48.952Z"
   },
   {
    "duration": 218,
    "start_time": "2022-08-03T07:04:48.977Z"
   },
   {
    "duration": 62,
    "start_time": "2022-08-03T07:04:49.198Z"
   },
   {
    "duration": 19,
    "start_time": "2022-08-03T07:04:49.265Z"
   },
   {
    "duration": 206,
    "start_time": "2022-08-03T07:04:49.286Z"
   },
   {
    "duration": 27,
    "start_time": "2022-08-03T07:04:49.494Z"
   },
   {
    "duration": 49,
    "start_time": "2022-08-03T07:04:49.523Z"
   },
   {
    "duration": 51,
    "start_time": "2022-08-03T07:04:49.573Z"
   },
   {
    "duration": 125,
    "start_time": "2022-08-03T07:04:49.625Z"
   },
   {
    "duration": 22,
    "start_time": "2022-08-03T07:04:49.752Z"
   },
   {
    "duration": 237,
    "start_time": "2022-08-03T07:04:49.776Z"
   },
   {
    "duration": 24,
    "start_time": "2022-08-03T07:04:50.015Z"
   },
   {
    "duration": 221,
    "start_time": "2022-08-03T07:04:50.040Z"
   },
   {
    "duration": 19,
    "start_time": "2022-08-03T07:04:50.263Z"
   },
   {
    "duration": 247,
    "start_time": "2022-08-03T07:04:50.284Z"
   },
   {
    "duration": 45,
    "start_time": "2022-08-03T07:04:50.533Z"
   },
   {
    "duration": 5,
    "start_time": "2022-08-03T07:04:50.580Z"
   },
   {
    "duration": 184,
    "start_time": "2022-08-03T07:04:50.587Z"
   },
   {
    "duration": 41,
    "start_time": "2022-08-03T07:04:50.773Z"
   },
   {
    "duration": 1014,
    "start_time": "2022-08-03T07:04:50.816Z"
   },
   {
    "duration": 40,
    "start_time": "2022-08-03T07:04:51.833Z"
   },
   {
    "duration": 440,
    "start_time": "2022-08-03T07:04:51.875Z"
   },
   {
    "duration": 17,
    "start_time": "2022-08-03T07:04:52.317Z"
   },
   {
    "duration": 19,
    "start_time": "2022-08-03T07:04:52.336Z"
   },
   {
    "duration": 34,
    "start_time": "2022-08-03T07:04:52.358Z"
   },
   {
    "duration": 30,
    "start_time": "2022-08-03T07:04:52.394Z"
   },
   {
    "duration": 8,
    "start_time": "2022-08-03T07:04:52.426Z"
   },
   {
    "duration": 2868,
    "start_time": "2022-08-03T07:04:52.436Z"
   },
   {
    "duration": 17,
    "start_time": "2022-08-03T07:04:55.306Z"
   },
   {
    "duration": 23,
    "start_time": "2022-08-03T07:04:55.325Z"
   },
   {
    "duration": 3,
    "start_time": "2022-08-03T07:05:09.940Z"
   },
   {
    "duration": 96,
    "start_time": "2022-08-03T07:27:46.851Z"
   },
   {
    "duration": 3,
    "start_time": "2022-08-03T07:36:25.532Z"
   },
   {
    "duration": 532,
    "start_time": "2022-08-03T07:39:56.339Z"
   },
   {
    "duration": 456,
    "start_time": "2022-08-03T07:40:02.657Z"
   },
   {
    "duration": 430,
    "start_time": "2022-08-03T07:40:06.009Z"
   },
   {
    "duration": 2,
    "start_time": "2022-08-03T07:40:43.193Z"
   },
   {
    "duration": 404,
    "start_time": "2022-08-03T07:42:03.212Z"
   },
   {
    "duration": 78,
    "start_time": "2022-08-03T07:44:04.928Z"
   },
   {
    "duration": 75,
    "start_time": "2022-08-03T07:50:40.595Z"
   },
   {
    "duration": 1551,
    "start_time": "2022-08-03T07:56:39.393Z"
   },
   {
    "duration": 938,
    "start_time": "2022-08-03T07:56:40.946Z"
   },
   {
    "duration": 33,
    "start_time": "2022-08-03T07:56:41.886Z"
   },
   {
    "duration": 223,
    "start_time": "2022-08-03T07:56:41.923Z"
   },
   {
    "duration": 112,
    "start_time": "2022-08-03T07:56:42.148Z"
   },
   {
    "duration": 516,
    "start_time": "2022-08-03T07:56:42.262Z"
   },
   {
    "duration": 524,
    "start_time": "2022-08-03T07:56:42.781Z"
   },
   {
    "duration": 49,
    "start_time": "2022-08-03T07:56:43.307Z"
   },
   {
    "duration": 81,
    "start_time": "2022-08-03T07:56:43.358Z"
   },
   {
    "duration": 38,
    "start_time": "2022-08-03T07:56:43.442Z"
   },
   {
    "duration": 63,
    "start_time": "2022-08-03T07:56:43.481Z"
   },
   {
    "duration": 42,
    "start_time": "2022-08-03T07:56:43.546Z"
   },
   {
    "duration": 61,
    "start_time": "2022-08-03T07:56:43.590Z"
   },
   {
    "duration": 125,
    "start_time": "2022-08-03T07:56:43.653Z"
   },
   {
    "duration": 8,
    "start_time": "2022-08-03T07:56:43.780Z"
   },
   {
    "duration": 34,
    "start_time": "2022-08-03T07:56:43.790Z"
   },
   {
    "duration": 99,
    "start_time": "2022-08-03T07:56:43.826Z"
   },
   {
    "duration": 311,
    "start_time": "2022-08-03T07:56:43.927Z"
   },
   {
    "duration": 19,
    "start_time": "2022-08-03T07:56:44.240Z"
   },
   {
    "duration": 18,
    "start_time": "2022-08-03T07:56:44.261Z"
   },
   {
    "duration": 50,
    "start_time": "2022-08-03T07:56:44.280Z"
   },
   {
    "duration": 359,
    "start_time": "2022-08-03T07:56:44.331Z"
   },
   {
    "duration": 34,
    "start_time": "2022-08-03T07:56:44.693Z"
   },
   {
    "duration": 36,
    "start_time": "2022-08-03T07:56:44.729Z"
   },
   {
    "duration": 24,
    "start_time": "2022-08-03T07:56:44.767Z"
   },
   {
    "duration": 203,
    "start_time": "2022-08-03T07:56:44.809Z"
   },
   {
    "duration": 34,
    "start_time": "2022-08-03T07:56:45.014Z"
   },
   {
    "duration": 28,
    "start_time": "2022-08-03T07:56:45.052Z"
   },
   {
    "duration": 203,
    "start_time": "2022-08-03T07:56:45.082Z"
   },
   {
    "duration": 32,
    "start_time": "2022-08-03T07:56:45.287Z"
   },
   {
    "duration": 43,
    "start_time": "2022-08-03T07:56:45.322Z"
   },
   {
    "duration": 58,
    "start_time": "2022-08-03T07:56:45.367Z"
   },
   {
    "duration": 127,
    "start_time": "2022-08-03T07:56:45.427Z"
   },
   {
    "duration": 27,
    "start_time": "2022-08-03T07:56:45.556Z"
   },
   {
    "duration": 246,
    "start_time": "2022-08-03T07:56:45.586Z"
   },
   {
    "duration": 23,
    "start_time": "2022-08-03T07:56:45.834Z"
   },
   {
    "duration": 215,
    "start_time": "2022-08-03T07:56:45.859Z"
   },
   {
    "duration": 18,
    "start_time": "2022-08-03T07:56:46.076Z"
   },
   {
    "duration": 233,
    "start_time": "2022-08-03T07:56:46.096Z"
   },
   {
    "duration": 36,
    "start_time": "2022-08-03T07:56:46.331Z"
   },
   {
    "duration": 7,
    "start_time": "2022-08-03T07:56:46.369Z"
   },
   {
    "duration": 190,
    "start_time": "2022-08-03T07:56:46.377Z"
   },
   {
    "duration": 31,
    "start_time": "2022-08-03T07:56:46.569Z"
   },
   {
    "duration": 1031,
    "start_time": "2022-08-03T07:56:46.611Z"
   },
   {
    "duration": 33,
    "start_time": "2022-08-03T07:56:47.644Z"
   },
   {
    "duration": 353,
    "start_time": "2022-08-03T07:56:47.679Z"
   },
   {
    "duration": 17,
    "start_time": "2022-08-03T07:56:48.033Z"
   },
   {
    "duration": 31,
    "start_time": "2022-08-03T07:56:48.052Z"
   },
   {
    "duration": 35,
    "start_time": "2022-08-03T07:56:48.085Z"
   },
   {
    "duration": 18,
    "start_time": "2022-08-03T07:56:48.122Z"
   },
   {
    "duration": 5,
    "start_time": "2022-08-03T07:56:48.141Z"
   },
   {
    "duration": 2779,
    "start_time": "2022-08-03T07:56:48.147Z"
   },
   {
    "duration": 13,
    "start_time": "2022-08-03T07:56:50.928Z"
   },
   {
    "duration": 29,
    "start_time": "2022-08-03T07:56:50.943Z"
   },
   {
    "duration": 410,
    "start_time": "2022-08-03T07:56:50.974Z"
   },
   {
    "duration": 92,
    "start_time": "2022-08-03T07:56:51.386Z"
   },
   {
    "duration": 91,
    "start_time": "2022-08-03T07:56:51.480Z"
   },
   {
    "duration": 632,
    "start_time": "2022-08-03T07:59:12.651Z"
   },
   {
    "duration": 75,
    "start_time": "2022-08-03T08:00:00.253Z"
   },
   {
    "duration": 4,
    "start_time": "2022-08-03T08:03:51.389Z"
   },
   {
    "duration": 4,
    "start_time": "2022-08-03T08:04:22.461Z"
   },
   {
    "duration": 3,
    "start_time": "2022-08-03T08:04:36.007Z"
   },
   {
    "duration": 132,
    "start_time": "2022-08-03T08:09:35.475Z"
   },
   {
    "duration": 18,
    "start_time": "2022-08-03T08:09:52.520Z"
   },
   {
    "duration": 10,
    "start_time": "2022-08-03T08:10:06.633Z"
   },
   {
    "duration": 5025,
    "start_time": "2022-08-03T08:10:50.520Z"
   },
   {
    "duration": 18,
    "start_time": "2022-08-03T08:11:25.986Z"
   },
   {
    "duration": 1533,
    "start_time": "2022-08-03T08:11:46.343Z"
   },
   {
    "duration": 879,
    "start_time": "2022-08-03T08:11:47.878Z"
   },
   {
    "duration": 20,
    "start_time": "2022-08-03T08:11:48.759Z"
   },
   {
    "duration": 146,
    "start_time": "2022-08-03T08:11:48.780Z"
   },
   {
    "duration": 154,
    "start_time": "2022-08-03T08:11:48.929Z"
   },
   {
    "duration": 516,
    "start_time": "2022-08-03T08:11:49.084Z"
   },
   {
    "duration": 519,
    "start_time": "2022-08-03T08:11:49.602Z"
   },
   {
    "duration": 47,
    "start_time": "2022-08-03T08:11:50.123Z"
   },
   {
    "duration": 100,
    "start_time": "2022-08-03T08:11:50.171Z"
   },
   {
    "duration": 42,
    "start_time": "2022-08-03T08:11:50.273Z"
   },
   {
    "duration": 42,
    "start_time": "2022-08-03T08:11:50.317Z"
   },
   {
    "duration": 68,
    "start_time": "2022-08-03T08:11:50.361Z"
   },
   {
    "duration": 48,
    "start_time": "2022-08-03T08:11:50.431Z"
   },
   {
    "duration": 121,
    "start_time": "2022-08-03T08:11:50.482Z"
   },
   {
    "duration": 10,
    "start_time": "2022-08-03T08:11:50.605Z"
   },
   {
    "duration": 41,
    "start_time": "2022-08-03T08:11:50.617Z"
   },
   {
    "duration": 94,
    "start_time": "2022-08-03T08:11:50.660Z"
   },
   {
    "duration": 313,
    "start_time": "2022-08-03T08:11:50.755Z"
   },
   {
    "duration": 18,
    "start_time": "2022-08-03T08:11:51.070Z"
   },
   {
    "duration": 36,
    "start_time": "2022-08-03T08:11:51.090Z"
   },
   {
    "duration": 30,
    "start_time": "2022-08-03T08:11:51.128Z"
   },
   {
    "duration": 349,
    "start_time": "2022-08-03T08:11:51.161Z"
   },
   {
    "duration": 25,
    "start_time": "2022-08-03T08:11:51.512Z"
   },
   {
    "duration": 30,
    "start_time": "2022-08-03T08:11:51.539Z"
   },
   {
    "duration": 50,
    "start_time": "2022-08-03T08:11:51.571Z"
   },
   {
    "duration": 211,
    "start_time": "2022-08-03T08:11:51.623Z"
   },
   {
    "duration": 43,
    "start_time": "2022-08-03T08:11:51.837Z"
   },
   {
    "duration": 39,
    "start_time": "2022-08-03T08:11:51.882Z"
   },
   {
    "duration": 232,
    "start_time": "2022-08-03T08:11:51.923Z"
   },
   {
    "duration": 20,
    "start_time": "2022-08-03T08:11:52.157Z"
   },
   {
    "duration": 47,
    "start_time": "2022-08-03T08:11:52.179Z"
   },
   {
    "duration": 43,
    "start_time": "2022-08-03T08:11:52.227Z"
   },
   {
    "duration": 133,
    "start_time": "2022-08-03T08:11:52.271Z"
   },
   {
    "duration": 22,
    "start_time": "2022-08-03T08:11:52.405Z"
   },
   {
    "duration": 215,
    "start_time": "2022-08-03T08:11:52.429Z"
   },
   {
    "duration": 21,
    "start_time": "2022-08-03T08:11:52.646Z"
   },
   {
    "duration": 199,
    "start_time": "2022-08-03T08:11:52.669Z"
   },
   {
    "duration": 19,
    "start_time": "2022-08-03T08:11:52.870Z"
   },
   {
    "duration": 235,
    "start_time": "2022-08-03T08:11:52.892Z"
   },
   {
    "duration": 36,
    "start_time": "2022-08-03T08:11:53.129Z"
   },
   {
    "duration": 5,
    "start_time": "2022-08-03T08:11:53.170Z"
   },
   {
    "duration": 181,
    "start_time": "2022-08-03T08:11:53.176Z"
   },
   {
    "duration": 30,
    "start_time": "2022-08-03T08:11:53.359Z"
   },
   {
    "duration": 967,
    "start_time": "2022-08-03T08:11:53.391Z"
   },
   {
    "duration": 32,
    "start_time": "2022-08-03T08:11:54.359Z"
   },
   {
    "duration": 374,
    "start_time": "2022-08-03T08:11:54.393Z"
   },
   {
    "duration": 17,
    "start_time": "2022-08-03T08:11:54.770Z"
   },
   {
    "duration": 34,
    "start_time": "2022-08-03T08:11:54.789Z"
   },
   {
    "duration": 30,
    "start_time": "2022-08-03T08:11:54.825Z"
   },
   {
    "duration": 22,
    "start_time": "2022-08-03T08:11:54.857Z"
   },
   {
    "duration": 7,
    "start_time": "2022-08-03T08:11:54.881Z"
   },
   {
    "duration": 2779,
    "start_time": "2022-08-03T08:11:54.889Z"
   },
   {
    "duration": 13,
    "start_time": "2022-08-03T08:11:57.670Z"
   },
   {
    "duration": 32,
    "start_time": "2022-08-03T08:11:57.684Z"
   },
   {
    "duration": 394,
    "start_time": "2022-08-03T08:11:57.718Z"
   },
   {
    "duration": 66,
    "start_time": "2022-08-03T08:11:58.114Z"
   },
   {
    "duration": 91,
    "start_time": "2022-08-03T08:11:58.182Z"
   },
   {
    "duration": 637,
    "start_time": "2022-08-03T08:11:58.274Z"
   },
   {
    "duration": 20,
    "start_time": "2022-08-03T08:11:58.912Z"
   },
   {
    "duration": 18,
    "start_time": "2022-08-03T08:11:58.934Z"
   },
   {
    "duration": 5057,
    "start_time": "2022-08-03T08:11:58.954Z"
   },
   {
    "duration": 1539,
    "start_time": "2022-08-03T08:12:24.527Z"
   },
   {
    "duration": 906,
    "start_time": "2022-08-03T08:12:26.068Z"
   },
   {
    "duration": 19,
    "start_time": "2022-08-03T08:12:26.976Z"
   },
   {
    "duration": 167,
    "start_time": "2022-08-03T08:12:26.997Z"
   },
   {
    "duration": 111,
    "start_time": "2022-08-03T08:12:27.166Z"
   },
   {
    "duration": 511,
    "start_time": "2022-08-03T08:12:27.278Z"
   },
   {
    "duration": 549,
    "start_time": "2022-08-03T08:12:27.791Z"
   },
   {
    "duration": 47,
    "start_time": "2022-08-03T08:12:28.342Z"
   },
   {
    "duration": 95,
    "start_time": "2022-08-03T08:12:28.391Z"
   },
   {
    "duration": 44,
    "start_time": "2022-08-03T08:12:28.488Z"
   },
   {
    "duration": 45,
    "start_time": "2022-08-03T08:12:28.533Z"
   },
   {
    "duration": 62,
    "start_time": "2022-08-03T08:12:28.579Z"
   },
   {
    "duration": 49,
    "start_time": "2022-08-03T08:12:28.643Z"
   },
   {
    "duration": 110,
    "start_time": "2022-08-03T08:12:28.709Z"
   },
   {
    "duration": 8,
    "start_time": "2022-08-03T08:12:28.821Z"
   },
   {
    "duration": 22,
    "start_time": "2022-08-03T08:12:28.830Z"
   },
   {
    "duration": 117,
    "start_time": "2022-08-03T08:12:28.854Z"
   },
   {
    "duration": 303,
    "start_time": "2022-08-03T08:12:28.972Z"
   },
   {
    "duration": 19,
    "start_time": "2022-08-03T08:12:29.277Z"
   },
   {
    "duration": 27,
    "start_time": "2022-08-03T08:12:29.297Z"
   },
   {
    "duration": 23,
    "start_time": "2022-08-03T08:12:29.326Z"
   },
   {
    "duration": 353,
    "start_time": "2022-08-03T08:12:29.351Z"
   },
   {
    "duration": 24,
    "start_time": "2022-08-03T08:12:29.706Z"
   },
   {
    "duration": 29,
    "start_time": "2022-08-03T08:12:29.732Z"
   },
   {
    "duration": 47,
    "start_time": "2022-08-03T08:12:29.763Z"
   },
   {
    "duration": 205,
    "start_time": "2022-08-03T08:12:29.813Z"
   },
   {
    "duration": 33,
    "start_time": "2022-08-03T08:12:30.020Z"
   },
   {
    "duration": 36,
    "start_time": "2022-08-03T08:12:30.055Z"
   },
   {
    "duration": 181,
    "start_time": "2022-08-03T08:12:30.092Z"
   },
   {
    "duration": 21,
    "start_time": "2022-08-03T08:12:30.275Z"
   },
   {
    "duration": 42,
    "start_time": "2022-08-03T08:12:30.298Z"
   },
   {
    "duration": 56,
    "start_time": "2022-08-03T08:12:30.342Z"
   },
   {
    "duration": 134,
    "start_time": "2022-08-03T08:12:30.400Z"
   },
   {
    "duration": 20,
    "start_time": "2022-08-03T08:12:30.536Z"
   },
   {
    "duration": 234,
    "start_time": "2022-08-03T08:12:30.558Z"
   },
   {
    "duration": 33,
    "start_time": "2022-08-03T08:12:30.793Z"
   },
   {
    "duration": 202,
    "start_time": "2022-08-03T08:12:30.827Z"
   },
   {
    "duration": 19,
    "start_time": "2022-08-03T08:12:31.031Z"
   },
   {
    "duration": 248,
    "start_time": "2022-08-03T08:12:31.052Z"
   },
   {
    "duration": 42,
    "start_time": "2022-08-03T08:12:31.302Z"
   },
   {
    "duration": 5,
    "start_time": "2022-08-03T08:12:31.349Z"
   },
   {
    "duration": 187,
    "start_time": "2022-08-03T08:12:31.355Z"
   },
   {
    "duration": 32,
    "start_time": "2022-08-03T08:12:31.543Z"
   },
   {
    "duration": 1093,
    "start_time": "2022-08-03T08:12:31.577Z"
   },
   {
    "duration": 41,
    "start_time": "2022-08-03T08:12:32.671Z"
   },
   {
    "duration": 353,
    "start_time": "2022-08-03T08:12:32.714Z"
   },
   {
    "duration": 17,
    "start_time": "2022-08-03T08:12:33.068Z"
   },
   {
    "duration": 31,
    "start_time": "2022-08-03T08:12:33.086Z"
   },
   {
    "duration": 31,
    "start_time": "2022-08-03T08:12:33.119Z"
   },
   {
    "duration": 20,
    "start_time": "2022-08-03T08:12:33.152Z"
   },
   {
    "duration": 11,
    "start_time": "2022-08-03T08:12:33.174Z"
   },
   {
    "duration": 2877,
    "start_time": "2022-08-03T08:12:33.187Z"
   },
   {
    "duration": 15,
    "start_time": "2022-08-03T08:12:36.066Z"
   },
   {
    "duration": 27,
    "start_time": "2022-08-03T08:12:36.083Z"
   },
   {
    "duration": 417,
    "start_time": "2022-08-03T08:12:36.113Z"
   },
   {
    "duration": 79,
    "start_time": "2022-08-03T08:12:36.532Z"
   },
   {
    "duration": 71,
    "start_time": "2022-08-03T08:12:36.613Z"
   },
   {
    "duration": 646,
    "start_time": "2022-08-03T08:12:36.686Z"
   },
   {
    "duration": 20,
    "start_time": "2022-08-03T08:12:37.334Z"
   },
   {
    "duration": 5,
    "start_time": "2022-08-03T08:12:37.355Z"
   },
   {
    "duration": 2567939,
    "start_time": "2022-08-03T08:12:37.361Z"
   },
   {
    "duration": 53,
    "start_time": "2022-08-03T09:03:07.837Z"
   },
   {
    "duration": 54587,
    "start_time": "2022-08-03T09:03:33.959Z"
   },
   {
    "duration": 61365,
    "start_time": "2022-08-03T09:08:28.154Z"
   },
   {
    "duration": 25448,
    "start_time": "2022-08-03T09:52:30.056Z"
   },
   {
    "duration": 66252,
    "start_time": "2022-08-03T09:52:58.090Z"
   },
   {
    "duration": 9301,
    "start_time": "2022-08-03T10:05:28.531Z"
   },
   {
    "duration": 37924,
    "start_time": "2022-08-03T10:05:42.890Z"
   },
   {
    "duration": 997,
    "start_time": "2022-08-03T10:06:36.166Z"
   },
   {
    "duration": 15,
    "start_time": "2022-08-03T10:13:16.271Z"
   },
   {
    "duration": 12,
    "start_time": "2022-08-03T10:13:25.350Z"
   },
   {
    "duration": 1014,
    "start_time": "2022-08-03T10:13:37.556Z"
   },
   {
    "duration": 978,
    "start_time": "2022-08-03T10:19:29.337Z"
   },
   {
    "duration": 24,
    "start_time": "2022-08-03T10:20:08.284Z"
   },
   {
    "duration": 440261,
    "start_time": "2022-08-03T10:25:44.643Z"
   },
   {
    "duration": 7664,
    "start_time": "2022-08-03T10:35:57.046Z"
   },
   {
    "duration": 112,
    "start_time": "2022-08-03T10:39:16.033Z"
   },
   {
    "duration": 94,
    "start_time": "2022-08-03T10:47:41.157Z"
   },
   {
    "duration": 79,
    "start_time": "2022-08-03T10:48:01.995Z"
   },
   {
    "duration": 113,
    "start_time": "2022-08-03T10:49:42.000Z"
   },
   {
    "duration": 13,
    "start_time": "2022-08-03T10:50:50.240Z"
   },
   {
    "duration": 92,
    "start_time": "2022-08-03T10:51:35.827Z"
   },
   {
    "duration": 79,
    "start_time": "2022-08-03T10:51:44.542Z"
   },
   {
    "duration": 18298,
    "start_time": "2022-08-03T10:51:55.867Z"
   },
   {
    "duration": 26,
    "start_time": "2022-08-03T11:00:59.287Z"
   },
   {
    "duration": 11,
    "start_time": "2022-08-03T11:06:36.584Z"
   },
   {
    "duration": 1074,
    "start_time": "2022-08-03T11:06:49.433Z"
   },
   {
    "duration": 22,
    "start_time": "2022-08-03T11:06:53.490Z"
   },
   {
    "duration": 1561,
    "start_time": "2022-08-03T11:08:25.799Z"
   },
   {
    "duration": 954,
    "start_time": "2022-08-03T11:08:27.362Z"
   },
   {
    "duration": 23,
    "start_time": "2022-08-03T11:08:28.317Z"
   },
   {
    "duration": 172,
    "start_time": "2022-08-03T11:08:28.342Z"
   },
   {
    "duration": 109,
    "start_time": "2022-08-03T11:08:28.516Z"
   },
   {
    "duration": 511,
    "start_time": "2022-08-03T11:08:28.628Z"
   },
   {
    "duration": 563,
    "start_time": "2022-08-03T11:08:29.140Z"
   },
   {
    "duration": 49,
    "start_time": "2022-08-03T11:08:29.705Z"
   },
   {
    "duration": 85,
    "start_time": "2022-08-03T11:08:29.756Z"
   },
   {
    "duration": 37,
    "start_time": "2022-08-03T11:08:29.844Z"
   },
   {
    "duration": 52,
    "start_time": "2022-08-03T11:08:29.882Z"
   },
   {
    "duration": 83,
    "start_time": "2022-08-03T11:08:29.936Z"
   },
   {
    "duration": 48,
    "start_time": "2022-08-03T11:08:30.021Z"
   },
   {
    "duration": 125,
    "start_time": "2022-08-03T11:08:30.071Z"
   },
   {
    "duration": 8,
    "start_time": "2022-08-03T11:08:30.198Z"
   },
   {
    "duration": 58,
    "start_time": "2022-08-03T11:08:30.207Z"
   },
   {
    "duration": 94,
    "start_time": "2022-08-03T11:08:30.267Z"
   },
   {
    "duration": 295,
    "start_time": "2022-08-03T11:08:30.363Z"
   },
   {
    "duration": 19,
    "start_time": "2022-08-03T11:08:30.660Z"
   },
   {
    "duration": 20,
    "start_time": "2022-08-03T11:08:30.693Z"
   },
   {
    "duration": 25,
    "start_time": "2022-08-03T11:08:30.715Z"
   },
   {
    "duration": 372,
    "start_time": "2022-08-03T11:08:30.741Z"
   },
   {
    "duration": 25,
    "start_time": "2022-08-03T11:08:31.116Z"
   },
   {
    "duration": 30,
    "start_time": "2022-08-03T11:08:31.143Z"
   },
   {
    "duration": 25,
    "start_time": "2022-08-03T11:08:31.193Z"
   },
   {
    "duration": 219,
    "start_time": "2022-08-03T11:08:31.220Z"
   },
   {
    "duration": 36,
    "start_time": "2022-08-03T11:08:31.440Z"
   },
   {
    "duration": 18,
    "start_time": "2022-08-03T11:08:31.491Z"
   },
   {
    "duration": 194,
    "start_time": "2022-08-03T11:08:31.511Z"
   },
   {
    "duration": 20,
    "start_time": "2022-08-03T11:08:31.708Z"
   },
   {
    "duration": 34,
    "start_time": "2022-08-03T11:08:31.730Z"
   },
   {
    "duration": 85,
    "start_time": "2022-08-03T11:08:31.766Z"
   },
   {
    "duration": 153,
    "start_time": "2022-08-03T11:08:31.853Z"
   },
   {
    "duration": 30,
    "start_time": "2022-08-03T11:08:32.008Z"
   },
   {
    "duration": 246,
    "start_time": "2022-08-03T11:08:32.040Z"
   },
   {
    "duration": 23,
    "start_time": "2022-08-03T11:08:32.291Z"
   },
   {
    "duration": 201,
    "start_time": "2022-08-03T11:08:32.316Z"
   },
   {
    "duration": 20,
    "start_time": "2022-08-03T11:08:32.519Z"
   },
   {
    "duration": 229,
    "start_time": "2022-08-03T11:08:32.541Z"
   },
   {
    "duration": 42,
    "start_time": "2022-08-03T11:08:32.772Z"
   },
   {
    "duration": 6,
    "start_time": "2022-08-03T11:08:32.816Z"
   },
   {
    "duration": 187,
    "start_time": "2022-08-03T11:08:32.824Z"
   },
   {
    "duration": 32,
    "start_time": "2022-08-03T11:08:33.014Z"
   },
   {
    "duration": 972,
    "start_time": "2022-08-03T11:08:33.048Z"
   },
   {
    "duration": 32,
    "start_time": "2022-08-03T11:08:34.023Z"
   },
   {
    "duration": 374,
    "start_time": "2022-08-03T11:08:34.056Z"
   },
   {
    "duration": 16,
    "start_time": "2022-08-03T11:08:34.432Z"
   },
   {
    "duration": 42,
    "start_time": "2022-08-03T11:08:34.450Z"
   },
   {
    "duration": 30,
    "start_time": "2022-08-03T11:08:34.494Z"
   },
   {
    "duration": 17,
    "start_time": "2022-08-03T11:08:34.526Z"
   },
   {
    "duration": 5,
    "start_time": "2022-08-03T11:08:34.546Z"
   },
   {
    "duration": 2856,
    "start_time": "2022-08-03T11:08:34.553Z"
   },
   {
    "duration": 12,
    "start_time": "2022-08-03T11:08:37.411Z"
   },
   {
    "duration": 17,
    "start_time": "2022-08-03T11:08:37.425Z"
   },
   {
    "duration": 412,
    "start_time": "2022-08-03T11:08:37.444Z"
   },
   {
    "duration": 74,
    "start_time": "2022-08-03T11:08:37.858Z"
   },
   {
    "duration": 88,
    "start_time": "2022-08-03T11:08:37.933Z"
   },
   {
    "duration": 1019,
    "start_time": "2022-08-03T11:08:38.023Z"
   },
   {
    "duration": 2,
    "start_time": "2022-08-03T11:08:39.044Z"
   },
   {
    "duration": 131,
    "start_time": "2022-08-03T11:08:39.048Z"
   },
   {
    "duration": 0,
    "start_time": "2022-08-03T11:08:39.181Z"
   },
   {
    "duration": 0,
    "start_time": "2022-08-03T11:08:39.182Z"
   },
   {
    "duration": 0,
    "start_time": "2022-08-03T11:08:39.191Z"
   },
   {
    "duration": 0,
    "start_time": "2022-08-03T11:08:39.192Z"
   },
   {
    "duration": 7349,
    "start_time": "2022-08-03T11:09:25.070Z"
   },
   {
    "duration": 1575,
    "start_time": "2022-08-03T11:09:35.573Z"
   },
   {
    "duration": 943,
    "start_time": "2022-08-03T11:09:37.150Z"
   },
   {
    "duration": 19,
    "start_time": "2022-08-03T11:09:38.095Z"
   },
   {
    "duration": 149,
    "start_time": "2022-08-03T11:09:38.116Z"
   },
   {
    "duration": 111,
    "start_time": "2022-08-03T11:09:38.266Z"
   },
   {
    "duration": 495,
    "start_time": "2022-08-03T11:09:38.379Z"
   },
   {
    "duration": 543,
    "start_time": "2022-08-03T11:09:38.876Z"
   },
   {
    "duration": 51,
    "start_time": "2022-08-03T11:09:39.421Z"
   },
   {
    "duration": 108,
    "start_time": "2022-08-03T11:09:39.474Z"
   },
   {
    "duration": 38,
    "start_time": "2022-08-03T11:09:39.585Z"
   },
   {
    "duration": 44,
    "start_time": "2022-08-03T11:09:39.626Z"
   },
   {
    "duration": 45,
    "start_time": "2022-08-03T11:09:39.691Z"
   },
   {
    "duration": 62,
    "start_time": "2022-08-03T11:09:39.738Z"
   },
   {
    "duration": 124,
    "start_time": "2022-08-03T11:09:39.802Z"
   },
   {
    "duration": 10,
    "start_time": "2022-08-03T11:09:39.928Z"
   },
   {
    "duration": 24,
    "start_time": "2022-08-03T11:09:39.940Z"
   },
   {
    "duration": 113,
    "start_time": "2022-08-03T11:09:39.967Z"
   },
   {
    "duration": 346,
    "start_time": "2022-08-03T11:09:40.091Z"
   },
   {
    "duration": 19,
    "start_time": "2022-08-03T11:09:40.439Z"
   },
   {
    "duration": 33,
    "start_time": "2022-08-03T11:09:40.460Z"
   },
   {
    "duration": 25,
    "start_time": "2022-08-03T11:09:40.494Z"
   },
   {
    "duration": 350,
    "start_time": "2022-08-03T11:09:40.521Z"
   },
   {
    "duration": 33,
    "start_time": "2022-08-03T11:09:40.873Z"
   },
   {
    "duration": 28,
    "start_time": "2022-08-03T11:09:40.908Z"
   },
   {
    "duration": 24,
    "start_time": "2022-08-03T11:09:40.938Z"
   },
   {
    "duration": 216,
    "start_time": "2022-08-03T11:09:40.963Z"
   },
   {
    "duration": 39,
    "start_time": "2022-08-03T11:09:41.181Z"
   },
   {
    "duration": 20,
    "start_time": "2022-08-03T11:09:41.224Z"
   },
   {
    "duration": 203,
    "start_time": "2022-08-03T11:09:41.246Z"
   },
   {
    "duration": 20,
    "start_time": "2022-08-03T11:09:41.451Z"
   },
   {
    "duration": 43,
    "start_time": "2022-08-03T11:09:41.473Z"
   },
   {
    "duration": 46,
    "start_time": "2022-08-03T11:09:41.517Z"
   },
   {
    "duration": 138,
    "start_time": "2022-08-03T11:09:41.565Z"
   },
   {
    "duration": 21,
    "start_time": "2022-08-03T11:09:41.704Z"
   },
   {
    "duration": 267,
    "start_time": "2022-08-03T11:09:41.726Z"
   },
   {
    "duration": 28,
    "start_time": "2022-08-03T11:09:41.995Z"
   },
   {
    "duration": 225,
    "start_time": "2022-08-03T11:09:42.025Z"
   },
   {
    "duration": 26,
    "start_time": "2022-08-03T11:09:42.252Z"
   },
   {
    "duration": 229,
    "start_time": "2022-08-03T11:09:42.291Z"
   },
   {
    "duration": 36,
    "start_time": "2022-08-03T11:09:42.522Z"
   },
   {
    "duration": 5,
    "start_time": "2022-08-03T11:09:42.560Z"
   },
   {
    "duration": 188,
    "start_time": "2022-08-03T11:09:42.567Z"
   },
   {
    "duration": 39,
    "start_time": "2022-08-03T11:09:42.757Z"
   },
   {
    "duration": 982,
    "start_time": "2022-08-03T11:09:42.799Z"
   },
   {
    "duration": 31,
    "start_time": "2022-08-03T11:09:43.791Z"
   },
   {
    "duration": 348,
    "start_time": "2022-08-03T11:09:43.824Z"
   },
   {
    "duration": 22,
    "start_time": "2022-08-03T11:09:44.174Z"
   },
   {
    "duration": 19,
    "start_time": "2022-08-03T11:09:44.198Z"
   },
   {
    "duration": 30,
    "start_time": "2022-08-03T11:09:44.219Z"
   },
   {
    "duration": 42,
    "start_time": "2022-08-03T11:09:44.251Z"
   },
   {
    "duration": 5,
    "start_time": "2022-08-03T11:09:44.295Z"
   },
   {
    "duration": 2769,
    "start_time": "2022-08-03T11:09:44.301Z"
   },
   {
    "duration": 12,
    "start_time": "2022-08-03T11:09:47.072Z"
   },
   {
    "duration": 22,
    "start_time": "2022-08-03T11:09:47.091Z"
   },
   {
    "duration": 434,
    "start_time": "2022-08-03T11:09:47.115Z"
   },
   {
    "duration": 73,
    "start_time": "2022-08-03T11:09:47.550Z"
   },
   {
    "duration": 87,
    "start_time": "2022-08-03T11:09:47.625Z"
   },
   {
    "duration": 982,
    "start_time": "2022-08-03T11:09:47.714Z"
   },
   {
    "duration": 3,
    "start_time": "2022-08-03T11:09:48.698Z"
   },
   {
    "duration": 1679,
    "start_time": "2022-08-03T12:35:40.229Z"
   },
   {
    "duration": 989,
    "start_time": "2022-08-03T12:35:41.911Z"
   },
   {
    "duration": 22,
    "start_time": "2022-08-03T12:35:42.902Z"
   },
   {
    "duration": 168,
    "start_time": "2022-08-03T12:35:42.927Z"
   },
   {
    "duration": 152,
    "start_time": "2022-08-03T12:35:43.097Z"
   },
   {
    "duration": 529,
    "start_time": "2022-08-03T12:35:43.251Z"
   },
   {
    "duration": 559,
    "start_time": "2022-08-03T12:35:43.782Z"
   },
   {
    "duration": 56,
    "start_time": "2022-08-03T12:35:44.343Z"
   },
   {
    "duration": 98,
    "start_time": "2022-08-03T12:35:44.401Z"
   },
   {
    "duration": 38,
    "start_time": "2022-08-03T12:35:44.501Z"
   },
   {
    "duration": 56,
    "start_time": "2022-08-03T12:35:44.540Z"
   },
   {
    "duration": 42,
    "start_time": "2022-08-03T12:35:44.598Z"
   },
   {
    "duration": 65,
    "start_time": "2022-08-03T12:35:44.642Z"
   },
   {
    "duration": 117,
    "start_time": "2022-08-03T12:35:44.709Z"
   },
   {
    "duration": 8,
    "start_time": "2022-08-03T12:35:44.828Z"
   },
   {
    "duration": 23,
    "start_time": "2022-08-03T12:35:44.837Z"
   },
   {
    "duration": 115,
    "start_time": "2022-08-03T12:35:44.862Z"
   },
   {
    "duration": 319,
    "start_time": "2022-08-03T12:35:44.979Z"
   },
   {
    "duration": 19,
    "start_time": "2022-08-03T12:35:45.300Z"
   },
   {
    "duration": 18,
    "start_time": "2022-08-03T12:35:45.320Z"
   },
   {
    "duration": 24,
    "start_time": "2022-08-03T12:35:45.340Z"
   },
   {
    "duration": 306,
    "start_time": "2022-08-03T12:35:45.366Z"
   },
   {
    "duration": 38,
    "start_time": "2022-08-03T12:35:45.674Z"
   },
   {
    "duration": 31,
    "start_time": "2022-08-03T12:35:45.714Z"
   },
   {
    "duration": 23,
    "start_time": "2022-08-03T12:35:45.746Z"
   },
   {
    "duration": 300,
    "start_time": "2022-08-03T12:35:45.771Z"
   },
   {
    "duration": 35,
    "start_time": "2022-08-03T12:35:46.072Z"
   },
   {
    "duration": 17,
    "start_time": "2022-08-03T12:35:46.111Z"
   },
   {
    "duration": 195,
    "start_time": "2022-08-03T12:35:46.129Z"
   },
   {
    "duration": 21,
    "start_time": "2022-08-03T12:35:46.326Z"
   },
   {
    "duration": 47,
    "start_time": "2022-08-03T12:35:46.349Z"
   },
   {
    "duration": 43,
    "start_time": "2022-08-03T12:35:46.398Z"
   },
   {
    "duration": 136,
    "start_time": "2022-08-03T12:35:46.443Z"
   },
   {
    "duration": 22,
    "start_time": "2022-08-03T12:35:46.581Z"
   },
   {
    "duration": 238,
    "start_time": "2022-08-03T12:35:46.605Z"
   },
   {
    "duration": 26,
    "start_time": "2022-08-03T12:35:46.845Z"
   },
   {
    "duration": 225,
    "start_time": "2022-08-03T12:35:46.873Z"
   },
   {
    "duration": 20,
    "start_time": "2022-08-03T12:35:47.101Z"
   },
   {
    "duration": 245,
    "start_time": "2022-08-03T12:35:47.123Z"
   },
   {
    "duration": 45,
    "start_time": "2022-08-03T12:35:47.370Z"
   },
   {
    "duration": 5,
    "start_time": "2022-08-03T12:35:47.417Z"
   },
   {
    "duration": 184,
    "start_time": "2022-08-03T12:35:47.423Z"
   },
   {
    "duration": 31,
    "start_time": "2022-08-03T12:35:47.609Z"
   },
   {
    "duration": 881,
    "start_time": "2022-08-03T12:35:47.641Z"
   },
   {
    "duration": 31,
    "start_time": "2022-08-03T12:35:48.524Z"
   },
   {
    "duration": 457,
    "start_time": "2022-08-03T12:35:48.557Z"
   },
   {
    "duration": 16,
    "start_time": "2022-08-03T12:35:49.016Z"
   },
   {
    "duration": 21,
    "start_time": "2022-08-03T12:35:49.033Z"
   },
   {
    "duration": 44,
    "start_time": "2022-08-03T12:35:49.056Z"
   },
   {
    "duration": 18,
    "start_time": "2022-08-03T12:35:49.102Z"
   },
   {
    "duration": 6,
    "start_time": "2022-08-03T12:35:49.122Z"
   },
   {
    "duration": 2877,
    "start_time": "2022-08-03T12:35:49.130Z"
   },
   {
    "duration": 18,
    "start_time": "2022-08-03T12:35:52.010Z"
   },
   {
    "duration": 31,
    "start_time": "2022-08-03T12:35:52.031Z"
   },
   {
    "duration": 404,
    "start_time": "2022-08-03T12:35:52.065Z"
   },
   {
    "duration": 71,
    "start_time": "2022-08-03T12:35:52.471Z"
   },
   {
    "duration": 89,
    "start_time": "2022-08-03T12:35:52.543Z"
   },
   {
    "duration": 991,
    "start_time": "2022-08-03T12:35:52.634Z"
   },
   {
    "duration": 3,
    "start_time": "2022-08-03T12:35:53.626Z"
   },
   {
    "duration": 500825,
    "start_time": "2022-08-03T12:35:53.631Z"
   },
   {
    "duration": 0,
    "start_time": "2022-08-03T12:44:14.459Z"
   },
   {
    "duration": 0,
    "start_time": "2022-08-03T12:44:14.461Z"
   },
   {
    "duration": 1,
    "start_time": "2022-08-03T12:44:14.462Z"
   },
   {
    "duration": 0,
    "start_time": "2022-08-03T12:44:14.464Z"
   },
   {
    "duration": 1607,
    "start_time": "2022-08-03T12:47:48.075Z"
   },
   {
    "duration": 937,
    "start_time": "2022-08-03T12:47:49.684Z"
   },
   {
    "duration": 20,
    "start_time": "2022-08-03T12:47:50.623Z"
   },
   {
    "duration": 149,
    "start_time": "2022-08-03T12:47:50.645Z"
   },
   {
    "duration": 108,
    "start_time": "2022-08-03T12:47:50.795Z"
   },
   {
    "duration": 493,
    "start_time": "2022-08-03T12:47:50.905Z"
   },
   {
    "duration": 571,
    "start_time": "2022-08-03T12:47:51.399Z"
   },
   {
    "duration": 59,
    "start_time": "2022-08-03T12:47:51.972Z"
   },
   {
    "duration": 97,
    "start_time": "2022-08-03T12:47:52.033Z"
   },
   {
    "duration": 39,
    "start_time": "2022-08-03T12:47:52.133Z"
   },
   {
    "duration": 52,
    "start_time": "2022-08-03T12:47:52.174Z"
   },
   {
    "duration": 44,
    "start_time": "2022-08-03T12:47:52.228Z"
   },
   {
    "duration": 61,
    "start_time": "2022-08-03T12:47:52.274Z"
   },
   {
    "duration": 116,
    "start_time": "2022-08-03T12:47:52.337Z"
   },
   {
    "duration": 8,
    "start_time": "2022-08-03T12:47:52.455Z"
   },
   {
    "duration": 37,
    "start_time": "2022-08-03T12:47:52.465Z"
   },
   {
    "duration": 98,
    "start_time": "2022-08-03T12:47:52.504Z"
   },
   {
    "duration": 313,
    "start_time": "2022-08-03T12:47:52.603Z"
   },
   {
    "duration": 19,
    "start_time": "2022-08-03T12:47:52.918Z"
   },
   {
    "duration": 18,
    "start_time": "2022-08-03T12:47:52.939Z"
   },
   {
    "duration": 47,
    "start_time": "2022-08-03T12:47:52.958Z"
   },
   {
    "duration": 281,
    "start_time": "2022-08-03T12:47:53.007Z"
   },
   {
    "duration": 26,
    "start_time": "2022-08-03T12:47:53.291Z"
   },
   {
    "duration": 29,
    "start_time": "2022-08-03T12:47:53.319Z"
   },
   {
    "duration": 46,
    "start_time": "2022-08-03T12:47:53.350Z"
   },
   {
    "duration": 288,
    "start_time": "2022-08-03T12:47:53.397Z"
   },
   {
    "duration": 32,
    "start_time": "2022-08-03T12:47:53.692Z"
   },
   {
    "duration": 28,
    "start_time": "2022-08-03T12:47:53.728Z"
   },
   {
    "duration": 185,
    "start_time": "2022-08-03T12:47:53.758Z"
   },
   {
    "duration": 20,
    "start_time": "2022-08-03T12:47:53.944Z"
   },
   {
    "duration": 48,
    "start_time": "2022-08-03T12:47:53.966Z"
   },
   {
    "duration": 52,
    "start_time": "2022-08-03T12:47:54.016Z"
   },
   {
    "duration": 125,
    "start_time": "2022-08-03T12:47:54.070Z"
   },
   {
    "duration": 22,
    "start_time": "2022-08-03T12:47:54.197Z"
   },
   {
    "duration": 229,
    "start_time": "2022-08-03T12:47:54.221Z"
   },
   {
    "duration": 23,
    "start_time": "2022-08-03T12:47:54.452Z"
   },
   {
    "duration": 217,
    "start_time": "2022-08-03T12:47:54.477Z"
   },
   {
    "duration": 20,
    "start_time": "2022-08-03T12:47:54.695Z"
   },
   {
    "duration": 234,
    "start_time": "2022-08-03T12:47:54.716Z"
   },
   {
    "duration": 56,
    "start_time": "2022-08-03T12:47:54.952Z"
   },
   {
    "duration": 5,
    "start_time": "2022-08-03T12:47:55.010Z"
   },
   {
    "duration": 183,
    "start_time": "2022-08-03T12:47:55.017Z"
   },
   {
    "duration": 32,
    "start_time": "2022-08-03T12:47:55.201Z"
   },
   {
    "duration": 904,
    "start_time": "2022-08-03T12:47:55.235Z"
   },
   {
    "duration": 30,
    "start_time": "2022-08-03T12:47:56.141Z"
   },
   {
    "duration": 464,
    "start_time": "2022-08-03T12:47:56.173Z"
   },
   {
    "duration": 15,
    "start_time": "2022-08-03T12:47:56.639Z"
   },
   {
    "duration": 21,
    "start_time": "2022-08-03T12:47:56.656Z"
   },
   {
    "duration": 39,
    "start_time": "2022-08-03T12:47:56.679Z"
   },
   {
    "duration": 17,
    "start_time": "2022-08-03T12:47:56.720Z"
   },
   {
    "duration": 5,
    "start_time": "2022-08-03T12:47:56.739Z"
   },
   {
    "duration": 2789,
    "start_time": "2022-08-03T12:47:56.745Z"
   },
   {
    "duration": 12,
    "start_time": "2022-08-03T12:47:59.536Z"
   },
   {
    "duration": 20,
    "start_time": "2022-08-03T12:47:59.550Z"
   },
   {
    "duration": 400,
    "start_time": "2022-08-03T12:47:59.572Z"
   },
   {
    "duration": 75,
    "start_time": "2022-08-03T12:47:59.974Z"
   },
   {
    "duration": 92,
    "start_time": "2022-08-03T12:48:00.051Z"
   },
   {
    "duration": 678,
    "start_time": "2022-08-03T12:48:00.145Z"
   },
   {
    "duration": 0,
    "start_time": "2022-08-03T12:48:00.824Z"
   },
   {
    "duration": 0,
    "start_time": "2022-08-03T12:48:00.825Z"
   },
   {
    "duration": 0,
    "start_time": "2022-08-03T12:48:00.827Z"
   },
   {
    "duration": 0,
    "start_time": "2022-08-03T12:48:00.828Z"
   },
   {
    "duration": 0,
    "start_time": "2022-08-03T12:48:00.829Z"
   },
   {
    "duration": 0,
    "start_time": "2022-08-03T12:48:00.831Z"
   },
   {
    "duration": 539,
    "start_time": "2022-08-03T12:48:58.125Z"
   },
   {
    "duration": 599,
    "start_time": "2022-08-03T12:50:04.760Z"
   },
   {
    "duration": 553,
    "start_time": "2022-08-03T12:50:33.136Z"
   },
   {
    "duration": 22,
    "start_time": "2022-08-03T12:50:38.550Z"
   },
   {
    "duration": 18,
    "start_time": "2022-08-03T12:51:02.595Z"
   },
   {
    "duration": 26,
    "start_time": "2022-08-03T12:52:20.476Z"
   },
   {
    "duration": 39,
    "start_time": "2022-08-03T12:53:23.123Z"
   },
   {
    "duration": 28,
    "start_time": "2022-08-03T12:53:45.175Z"
   },
   {
    "duration": 1542,
    "start_time": "2022-08-03T12:54:07.026Z"
   },
   {
    "duration": 911,
    "start_time": "2022-08-03T12:54:08.571Z"
   },
   {
    "duration": 19,
    "start_time": "2022-08-03T12:54:09.484Z"
   },
   {
    "duration": 277,
    "start_time": "2022-08-03T12:54:09.504Z"
   },
   {
    "duration": 0,
    "start_time": "2022-08-03T12:54:09.785Z"
   },
   {
    "duration": 0,
    "start_time": "2022-08-03T12:54:09.787Z"
   },
   {
    "duration": 0,
    "start_time": "2022-08-03T12:54:09.788Z"
   },
   {
    "duration": 0,
    "start_time": "2022-08-03T12:54:09.789Z"
   },
   {
    "duration": 0,
    "start_time": "2022-08-03T12:54:09.791Z"
   },
   {
    "duration": 0,
    "start_time": "2022-08-03T12:54:09.792Z"
   },
   {
    "duration": 0,
    "start_time": "2022-08-03T12:54:09.793Z"
   },
   {
    "duration": 0,
    "start_time": "2022-08-03T12:54:09.794Z"
   },
   {
    "duration": 0,
    "start_time": "2022-08-03T12:54:09.795Z"
   },
   {
    "duration": 0,
    "start_time": "2022-08-03T12:54:09.796Z"
   },
   {
    "duration": 0,
    "start_time": "2022-08-03T12:54:09.797Z"
   },
   {
    "duration": 0,
    "start_time": "2022-08-03T12:54:09.798Z"
   },
   {
    "duration": 0,
    "start_time": "2022-08-03T12:54:09.799Z"
   },
   {
    "duration": 0,
    "start_time": "2022-08-03T12:54:09.800Z"
   },
   {
    "duration": 0,
    "start_time": "2022-08-03T12:54:09.801Z"
   },
   {
    "duration": 0,
    "start_time": "2022-08-03T12:54:09.802Z"
   },
   {
    "duration": 0,
    "start_time": "2022-08-03T12:54:09.803Z"
   },
   {
    "duration": 0,
    "start_time": "2022-08-03T12:54:09.805Z"
   },
   {
    "duration": 0,
    "start_time": "2022-08-03T12:54:09.806Z"
   },
   {
    "duration": 0,
    "start_time": "2022-08-03T12:54:09.807Z"
   },
   {
    "duration": 0,
    "start_time": "2022-08-03T12:54:09.808Z"
   },
   {
    "duration": 0,
    "start_time": "2022-08-03T12:54:09.809Z"
   },
   {
    "duration": 0,
    "start_time": "2022-08-03T12:54:09.810Z"
   },
   {
    "duration": 0,
    "start_time": "2022-08-03T12:54:09.811Z"
   },
   {
    "duration": 0,
    "start_time": "2022-08-03T12:54:09.812Z"
   },
   {
    "duration": 0,
    "start_time": "2022-08-03T12:54:09.813Z"
   },
   {
    "duration": 0,
    "start_time": "2022-08-03T12:54:09.814Z"
   },
   {
    "duration": 0,
    "start_time": "2022-08-03T12:54:09.815Z"
   },
   {
    "duration": 0,
    "start_time": "2022-08-03T12:54:09.816Z"
   },
   {
    "duration": 0,
    "start_time": "2022-08-03T12:54:09.817Z"
   },
   {
    "duration": 0,
    "start_time": "2022-08-03T12:54:09.818Z"
   },
   {
    "duration": 0,
    "start_time": "2022-08-03T12:54:09.819Z"
   },
   {
    "duration": 0,
    "start_time": "2022-08-03T12:54:09.820Z"
   },
   {
    "duration": 0,
    "start_time": "2022-08-03T12:54:09.821Z"
   },
   {
    "duration": 0,
    "start_time": "2022-08-03T12:54:09.822Z"
   },
   {
    "duration": 0,
    "start_time": "2022-08-03T12:54:09.823Z"
   },
   {
    "duration": 1,
    "start_time": "2022-08-03T12:54:09.824Z"
   },
   {
    "duration": 0,
    "start_time": "2022-08-03T12:54:09.826Z"
   },
   {
    "duration": 0,
    "start_time": "2022-08-03T12:54:09.827Z"
   },
   {
    "duration": 0,
    "start_time": "2022-08-03T12:54:09.828Z"
   },
   {
    "duration": 0,
    "start_time": "2022-08-03T12:54:09.891Z"
   },
   {
    "duration": 0,
    "start_time": "2022-08-03T12:54:09.892Z"
   },
   {
    "duration": 0,
    "start_time": "2022-08-03T12:54:09.894Z"
   },
   {
    "duration": 0,
    "start_time": "2022-08-03T12:54:09.894Z"
   },
   {
    "duration": 0,
    "start_time": "2022-08-03T12:54:09.896Z"
   },
   {
    "duration": 0,
    "start_time": "2022-08-03T12:54:09.897Z"
   },
   {
    "duration": 0,
    "start_time": "2022-08-03T12:54:09.898Z"
   },
   {
    "duration": 0,
    "start_time": "2022-08-03T12:54:09.899Z"
   },
   {
    "duration": 0,
    "start_time": "2022-08-03T12:54:09.900Z"
   },
   {
    "duration": 0,
    "start_time": "2022-08-03T12:54:09.901Z"
   },
   {
    "duration": 0,
    "start_time": "2022-08-03T12:54:09.902Z"
   },
   {
    "duration": 0,
    "start_time": "2022-08-03T12:54:09.904Z"
   },
   {
    "duration": 0,
    "start_time": "2022-08-03T12:54:09.905Z"
   },
   {
    "duration": 0,
    "start_time": "2022-08-03T12:54:09.906Z"
   },
   {
    "duration": 0,
    "start_time": "2022-08-03T12:54:09.907Z"
   },
   {
    "duration": 0,
    "start_time": "2022-08-03T12:54:09.908Z"
   },
   {
    "duration": 0,
    "start_time": "2022-08-03T12:54:09.909Z"
   },
   {
    "duration": 0,
    "start_time": "2022-08-03T12:54:09.910Z"
   },
   {
    "duration": 0,
    "start_time": "2022-08-03T12:54:09.911Z"
   },
   {
    "duration": 0,
    "start_time": "2022-08-03T12:54:09.911Z"
   },
   {
    "duration": 0,
    "start_time": "2022-08-03T12:54:09.912Z"
   },
   {
    "duration": 0,
    "start_time": "2022-08-03T12:54:09.913Z"
   },
   {
    "duration": 0,
    "start_time": "2022-08-03T12:54:09.914Z"
   },
   {
    "duration": 29,
    "start_time": "2022-08-03T12:54:47.317Z"
   },
   {
    "duration": 1529,
    "start_time": "2022-08-03T12:54:52.591Z"
   },
   {
    "duration": 878,
    "start_time": "2022-08-03T12:54:54.122Z"
   },
   {
    "duration": 20,
    "start_time": "2022-08-03T12:54:55.002Z"
   },
   {
    "duration": 161,
    "start_time": "2022-08-03T12:54:55.024Z"
   },
   {
    "duration": 112,
    "start_time": "2022-08-03T12:54:55.187Z"
   },
   {
    "duration": 511,
    "start_time": "2022-08-03T12:54:55.301Z"
   },
   {
    "duration": 561,
    "start_time": "2022-08-03T12:54:55.814Z"
   },
   {
    "duration": 51,
    "start_time": "2022-08-03T12:54:56.377Z"
   },
   {
    "duration": 90,
    "start_time": "2022-08-03T12:54:56.430Z"
   },
   {
    "duration": 37,
    "start_time": "2022-08-03T12:54:56.522Z"
   },
   {
    "duration": 55,
    "start_time": "2022-08-03T12:54:56.561Z"
   },
   {
    "duration": 46,
    "start_time": "2022-08-03T12:54:56.617Z"
   },
   {
    "duration": 65,
    "start_time": "2022-08-03T12:54:56.665Z"
   },
   {
    "duration": 152,
    "start_time": "2022-08-03T12:54:56.732Z"
   },
   {
    "duration": 13,
    "start_time": "2022-08-03T12:54:56.887Z"
   },
   {
    "duration": 29,
    "start_time": "2022-08-03T12:54:56.902Z"
   },
   {
    "duration": 111,
    "start_time": "2022-08-03T12:54:56.932Z"
   },
   {
    "duration": 457,
    "start_time": "2022-08-03T12:54:57.044Z"
   },
   {
    "duration": 22,
    "start_time": "2022-08-03T12:54:57.503Z"
   },
   {
    "duration": 17,
    "start_time": "2022-08-03T12:54:57.526Z"
   },
   {
    "duration": 49,
    "start_time": "2022-08-03T12:54:57.545Z"
   },
   {
    "duration": 261,
    "start_time": "2022-08-03T12:54:57.596Z"
   },
   {
    "duration": 33,
    "start_time": "2022-08-03T12:54:57.859Z"
   },
   {
    "duration": 29,
    "start_time": "2022-08-03T12:54:57.894Z"
   },
   {
    "duration": 22,
    "start_time": "2022-08-03T12:54:57.925Z"
   },
   {
    "duration": 294,
    "start_time": "2022-08-03T12:54:57.949Z"
   },
   {
    "duration": 35,
    "start_time": "2022-08-03T12:54:58.245Z"
   },
   {
    "duration": 17,
    "start_time": "2022-08-03T12:54:58.291Z"
   },
   {
    "duration": 215,
    "start_time": "2022-08-03T12:54:58.310Z"
   },
   {
    "duration": 27,
    "start_time": "2022-08-03T12:54:58.527Z"
   },
   {
    "duration": 41,
    "start_time": "2022-08-03T12:54:58.556Z"
   },
   {
    "duration": 44,
    "start_time": "2022-08-03T12:54:58.599Z"
   },
   {
    "duration": 123,
    "start_time": "2022-08-03T12:54:58.645Z"
   },
   {
    "duration": 27,
    "start_time": "2022-08-03T12:54:58.770Z"
   },
   {
    "duration": 223,
    "start_time": "2022-08-03T12:54:58.800Z"
   },
   {
    "duration": 23,
    "start_time": "2022-08-03T12:54:59.025Z"
   },
   {
    "duration": 202,
    "start_time": "2022-08-03T12:54:59.050Z"
   },
   {
    "duration": 19,
    "start_time": "2022-08-03T12:54:59.254Z"
   },
   {
    "duration": 236,
    "start_time": "2022-08-03T12:54:59.292Z"
   },
   {
    "duration": 36,
    "start_time": "2022-08-03T12:54:59.529Z"
   },
   {
    "duration": 5,
    "start_time": "2022-08-03T12:54:59.567Z"
   },
   {
    "duration": 184,
    "start_time": "2022-08-03T12:54:59.574Z"
   },
   {
    "duration": 42,
    "start_time": "2022-08-03T12:54:59.760Z"
   },
   {
    "duration": 908,
    "start_time": "2022-08-03T12:54:59.804Z"
   },
   {
    "duration": 32,
    "start_time": "2022-08-03T12:55:00.713Z"
   },
   {
    "duration": 457,
    "start_time": "2022-08-03T12:55:00.747Z"
   },
   {
    "duration": 16,
    "start_time": "2022-08-03T12:55:01.206Z"
   },
   {
    "duration": 65,
    "start_time": "2022-08-03T12:55:01.224Z"
   },
   {
    "duration": 113,
    "start_time": "2022-08-03T12:55:01.291Z"
   },
   {
    "duration": 52,
    "start_time": "2022-08-03T12:55:01.406Z"
   },
   {
    "duration": 31,
    "start_time": "2022-08-03T12:55:01.460Z"
   },
   {
    "duration": 2902,
    "start_time": "2022-08-03T12:55:01.493Z"
   },
   {
    "duration": 12,
    "start_time": "2022-08-03T12:55:04.397Z"
   },
   {
    "duration": 17,
    "start_time": "2022-08-03T12:55:04.410Z"
   },
   {
    "duration": 440,
    "start_time": "2022-08-03T12:55:04.429Z"
   },
   {
    "duration": 69,
    "start_time": "2022-08-03T12:55:04.871Z"
   },
   {
    "duration": 12,
    "start_time": "2022-08-03T12:55:04.942Z"
   },
   {
    "duration": 94,
    "start_time": "2022-08-03T12:55:04.955Z"
   },
   {
    "duration": 18,
    "start_time": "2022-08-03T12:55:05.051Z"
   },
   {
    "duration": 610,
    "start_time": "2022-08-03T12:55:05.071Z"
   },
   {
    "duration": 26,
    "start_time": "2022-08-03T12:55:05.682Z"
   },
   {
    "duration": 5,
    "start_time": "2022-08-03T12:55:05.709Z"
   },
   {
    "duration": 131,
    "start_time": "2022-08-03T12:55:05.715Z"
   },
   {
    "duration": 0,
    "start_time": "2022-08-03T12:55:05.848Z"
   },
   {
    "duration": 0,
    "start_time": "2022-08-03T12:55:05.850Z"
   },
   {
    "duration": 0,
    "start_time": "2022-08-03T12:55:05.851Z"
   },
   {
    "duration": 0,
    "start_time": "2022-08-03T12:55:05.852Z"
   },
   {
    "duration": 135961,
    "start_time": "2022-08-03T12:56:07.520Z"
   },
   {
    "duration": 1099,
    "start_time": "2022-08-03T13:00:15.459Z"
   },
   {
    "duration": 16,
    "start_time": "2022-08-03T13:00:34.422Z"
   },
   {
    "duration": 406030,
    "start_time": "2022-08-03T13:00:48.567Z"
   },
   {
    "duration": 9185,
    "start_time": "2022-08-03T13:07:45.028Z"
   },
   {
    "duration": 2948,
    "start_time": "2022-08-03T13:10:08.419Z"
   },
   {
    "duration": 19,
    "start_time": "2022-08-03T13:10:50.538Z"
   },
   {
    "duration": 8580852,
    "start_time": "2022-08-03T13:11:39.955Z"
   },
   {
    "duration": 79840,
    "start_time": "2022-08-03T19:35:55.713Z"
   },
   {
    "duration": 509482,
    "start_time": "2022-08-03T19:37:24.113Z"
   },
   {
    "duration": 813,
    "start_time": "2022-08-03T19:56:16.667Z"
   },
   {
    "duration": 2402,
    "start_time": "2022-08-03T19:56:59.560Z"
   },
   {
    "duration": 162,
    "start_time": "2022-08-03T19:57:30.151Z"
   },
   {
    "duration": 25,
    "start_time": "2022-08-03T19:57:44.447Z"
   },
   {
    "duration": 104,
    "start_time": "2022-08-03T20:00:51.738Z"
   },
   {
    "duration": 150242,
    "start_time": "2022-08-03T20:01:19.356Z"
   },
   {
    "duration": 680,
    "start_time": "2022-08-03T20:05:44.544Z"
   },
   {
    "duration": 82,
    "start_time": "2022-08-03T20:08:36.144Z"
   },
   {
    "duration": 496341,
    "start_time": "2022-08-03T20:08:49.433Z"
   },
   {
    "duration": 517758,
    "start_time": "2022-08-03T20:23:43.978Z"
   },
   {
    "duration": 1613,
    "start_time": "2022-08-03T20:33:04.634Z"
   },
   {
    "duration": 1610,
    "start_time": "2022-08-03T20:58:14.596Z"
   },
   {
    "duration": 1048,
    "start_time": "2022-08-03T20:58:16.951Z"
   },
   {
    "duration": 18,
    "start_time": "2022-08-03T20:58:18.587Z"
   },
   {
    "duration": 131,
    "start_time": "2022-08-03T20:58:25.554Z"
   },
   {
    "duration": 84,
    "start_time": "2022-08-03T20:58:35.893Z"
   },
   {
    "duration": 420,
    "start_time": "2022-08-03T20:59:19.546Z"
   },
   {
    "duration": 432,
    "start_time": "2022-08-03T20:59:23.351Z"
   },
   {
    "duration": 40,
    "start_time": "2022-08-03T21:00:21.882Z"
   },
   {
    "duration": 69,
    "start_time": "2022-08-03T21:00:45.192Z"
   },
   {
    "duration": 36,
    "start_time": "2022-08-03T21:00:46.050Z"
   },
   {
    "duration": 39,
    "start_time": "2022-08-03T21:00:49.443Z"
   },
   {
    "duration": 38,
    "start_time": "2022-08-03T21:00:51.464Z"
   },
   {
    "duration": 42,
    "start_time": "2022-08-03T21:00:55.235Z"
   },
   {
    "duration": 90,
    "start_time": "2022-08-03T21:01:22.799Z"
   },
   {
    "duration": 6,
    "start_time": "2022-08-03T21:03:12.889Z"
   },
   {
    "duration": 20,
    "start_time": "2022-08-03T21:03:17.848Z"
   },
   {
    "duration": 82,
    "start_time": "2022-08-03T21:04:02.746Z"
   },
   {
    "duration": 264,
    "start_time": "2022-08-03T21:04:10.637Z"
   },
   {
    "duration": 17,
    "start_time": "2022-08-03T21:04:20.306Z"
   },
   {
    "duration": 15,
    "start_time": "2022-08-03T21:04:24.235Z"
   },
   {
    "duration": 22,
    "start_time": "2022-08-03T21:04:41.934Z"
   },
   {
    "duration": 251,
    "start_time": "2022-08-03T21:04:56.052Z"
   },
   {
    "duration": 21,
    "start_time": "2022-08-03T21:05:20.733Z"
   },
   {
    "duration": 28,
    "start_time": "2022-08-03T21:05:28.629Z"
   },
   {
    "duration": 21,
    "start_time": "2022-08-03T21:05:47.917Z"
   },
   {
    "duration": 232,
    "start_time": "2022-08-03T21:06:07.187Z"
   },
   {
    "duration": 31,
    "start_time": "2022-08-03T21:06:17.457Z"
   },
   {
    "duration": 16,
    "start_time": "2022-08-03T21:06:20.622Z"
   },
   {
    "duration": 150,
    "start_time": "2022-08-03T21:06:30.478Z"
   },
   {
    "duration": 20,
    "start_time": "2022-08-03T21:06:36.132Z"
   },
   {
    "duration": 32,
    "start_time": "2022-08-03T21:06:55.430Z"
   },
   {
    "duration": 37,
    "start_time": "2022-08-03T21:07:09.144Z"
   },
   {
    "duration": 19,
    "start_time": "2022-08-03T21:08:03.132Z"
   },
   {
    "duration": 181,
    "start_time": "2022-08-03T21:08:17.788Z"
   },
   {
    "duration": 20,
    "start_time": "2022-08-03T21:08:28.759Z"
   },
   {
    "duration": 169,
    "start_time": "2022-08-03T21:08:29.370Z"
   },
   {
    "duration": 18,
    "start_time": "2022-08-03T21:08:38.381Z"
   },
   {
    "duration": 197,
    "start_time": "2022-08-03T21:08:57.124Z"
   },
   {
    "duration": 43,
    "start_time": "2022-08-03T21:10:00.232Z"
   },
   {
    "duration": 5,
    "start_time": "2022-08-03T21:10:35.785Z"
   },
   {
    "duration": 155,
    "start_time": "2022-08-03T21:10:36.341Z"
   },
   {
    "duration": 29,
    "start_time": "2022-08-03T21:10:49.329Z"
   },
   {
    "duration": 831,
    "start_time": "2022-08-03T21:11:00.182Z"
   },
   {
    "duration": 14,
    "start_time": "2022-08-03T21:12:57.228Z"
   },
   {
    "duration": 16,
    "start_time": "2022-08-03T21:13:00.732Z"
   },
   {
    "duration": 16,
    "start_time": "2022-08-03T21:13:18.372Z"
   },
   {
    "duration": 36,
    "start_time": "2022-08-03T21:13:29.060Z"
   },
   {
    "duration": 16,
    "start_time": "2022-08-03T21:13:30.589Z"
   },
   {
    "duration": 5,
    "start_time": "2022-08-03T21:15:11.549Z"
   },
   {
    "duration": 2510,
    "start_time": "2022-08-03T21:15:12.328Z"
   },
   {
    "duration": 95,
    "start_time": "2022-08-03T21:15:20.735Z"
   },
   {
    "duration": 16,
    "start_time": "2022-08-03T21:15:23.629Z"
   },
   {
    "duration": 374,
    "start_time": "2022-08-03T21:15:54.548Z"
   },
   {
    "duration": 64,
    "start_time": "2022-08-03T21:16:28.330Z"
   },
   {
    "duration": 12,
    "start_time": "2022-08-03T21:16:31.528Z"
   },
   {
    "duration": 66,
    "start_time": "2022-08-03T21:17:17.530Z"
   },
   {
    "duration": 23,
    "start_time": "2022-08-03T21:17:19.329Z"
   },
   {
    "duration": 541,
    "start_time": "2022-08-03T21:18:24.648Z"
   },
   {
    "duration": 19,
    "start_time": "2022-08-03T21:18:25.255Z"
   },
   {
    "duration": 108,
    "start_time": "2022-08-03T21:18:47.388Z"
   },
   {
    "duration": 30,
    "start_time": "2022-08-03T21:19:06.357Z"
   },
   {
    "duration": 1858,
    "start_time": "2022-08-03T23:08:27.438Z"
   },
   {
    "duration": 1161,
    "start_time": "2022-08-03T23:08:29.298Z"
   },
   {
    "duration": 28,
    "start_time": "2022-08-03T23:08:30.461Z"
   },
   {
    "duration": 159,
    "start_time": "2022-08-03T23:08:30.491Z"
   },
   {
    "duration": 113,
    "start_time": "2022-08-03T23:08:30.654Z"
   },
   {
    "duration": 492,
    "start_time": "2022-08-03T23:08:30.769Z"
   },
   {
    "duration": 522,
    "start_time": "2022-08-03T23:08:31.263Z"
   },
   {
    "duration": 47,
    "start_time": "2022-08-03T23:08:31.787Z"
   },
   {
    "duration": 79,
    "start_time": "2022-08-03T23:08:31.837Z"
   },
   {
    "duration": 40,
    "start_time": "2022-08-03T23:08:31.918Z"
   },
   {
    "duration": 55,
    "start_time": "2022-08-03T23:08:31.962Z"
   },
   {
    "duration": 40,
    "start_time": "2022-08-03T23:08:32.019Z"
   },
   {
    "duration": 67,
    "start_time": "2022-08-03T23:08:32.061Z"
   },
   {
    "duration": 109,
    "start_time": "2022-08-03T23:08:32.131Z"
   },
   {
    "duration": 8,
    "start_time": "2022-08-03T23:08:32.241Z"
   },
   {
    "duration": 22,
    "start_time": "2022-08-03T23:08:32.250Z"
   },
   {
    "duration": 114,
    "start_time": "2022-08-03T23:08:32.274Z"
   },
   {
    "duration": 338,
    "start_time": "2022-08-03T23:08:32.389Z"
   },
   {
    "duration": 20,
    "start_time": "2022-08-03T23:08:32.729Z"
   },
   {
    "duration": 18,
    "start_time": "2022-08-03T23:08:32.751Z"
   },
   {
    "duration": 47,
    "start_time": "2022-08-03T23:08:32.771Z"
   },
   {
    "duration": 283,
    "start_time": "2022-08-03T23:08:32.820Z"
   },
   {
    "duration": 33,
    "start_time": "2022-08-03T23:08:33.105Z"
   },
   {
    "duration": 29,
    "start_time": "2022-08-03T23:08:33.139Z"
   },
   {
    "duration": 45,
    "start_time": "2022-08-03T23:08:33.170Z"
   },
   {
    "duration": 291,
    "start_time": "2022-08-03T23:08:33.217Z"
   },
   {
    "duration": 28,
    "start_time": "2022-08-03T23:08:33.510Z"
   },
   {
    "duration": 20,
    "start_time": "2022-08-03T23:08:33.540Z"
   },
   {
    "duration": 192,
    "start_time": "2022-08-03T23:08:33.561Z"
   },
   {
    "duration": 18,
    "start_time": "2022-08-03T23:08:33.755Z"
   },
   {
    "duration": 46,
    "start_time": "2022-08-03T23:08:33.775Z"
   },
   {
    "duration": 41,
    "start_time": "2022-08-03T23:08:33.822Z"
   },
   {
    "duration": 128,
    "start_time": "2022-08-03T23:08:33.864Z"
   },
   {
    "duration": 30,
    "start_time": "2022-08-03T23:08:33.994Z"
   },
   {
    "duration": 220,
    "start_time": "2022-08-03T23:08:34.026Z"
   },
   {
    "duration": 22,
    "start_time": "2022-08-03T23:08:34.248Z"
   },
   {
    "duration": 211,
    "start_time": "2022-08-03T23:08:34.272Z"
   },
   {
    "duration": 30,
    "start_time": "2022-08-03T23:08:34.485Z"
   },
   {
    "duration": 220,
    "start_time": "2022-08-03T23:08:34.517Z"
   },
   {
    "duration": 32,
    "start_time": "2022-08-03T23:08:34.739Z"
   },
   {
    "duration": 5,
    "start_time": "2022-08-03T23:08:34.775Z"
   },
   {
    "duration": 181,
    "start_time": "2022-08-03T23:08:34.782Z"
   },
   {
    "duration": 27,
    "start_time": "2022-08-03T23:08:34.965Z"
   },
   {
    "duration": 854,
    "start_time": "2022-08-03T23:08:35.003Z"
   },
   {
    "duration": 24,
    "start_time": "2022-08-03T23:08:35.859Z"
   },
   {
    "duration": 434,
    "start_time": "2022-08-03T23:08:35.886Z"
   },
   {
    "duration": 14,
    "start_time": "2022-08-03T23:08:36.322Z"
   },
   {
    "duration": 18,
    "start_time": "2022-08-03T23:08:36.338Z"
   },
   {
    "duration": 50,
    "start_time": "2022-08-03T23:08:36.358Z"
   },
   {
    "duration": 16,
    "start_time": "2022-08-03T23:08:36.410Z"
   },
   {
    "duration": 7,
    "start_time": "2022-08-03T23:08:36.428Z"
   },
   {
    "duration": 2937,
    "start_time": "2022-08-03T23:08:36.437Z"
   },
   {
    "duration": 12,
    "start_time": "2022-08-03T23:08:39.376Z"
   },
   {
    "duration": 25,
    "start_time": "2022-08-03T23:08:39.390Z"
   },
   {
    "duration": 449,
    "start_time": "2022-08-03T23:08:39.416Z"
   },
   {
    "duration": 63,
    "start_time": "2022-08-03T23:08:39.868Z"
   },
   {
    "duration": 12,
    "start_time": "2022-08-03T23:08:39.932Z"
   },
   {
    "duration": 87,
    "start_time": "2022-08-03T23:08:39.945Z"
   },
   {
    "duration": 18,
    "start_time": "2022-08-03T23:08:40.033Z"
   },
   {
    "duration": 582,
    "start_time": "2022-08-03T23:08:40.053Z"
   },
   {
    "duration": 59740,
    "start_time": "2022-08-03T23:09:02.273Z"
   },
   {
    "duration": 20,
    "start_time": "2022-08-03T23:10:15.605Z"
   },
   {
    "duration": 33,
    "start_time": "2022-08-03T23:10:35.441Z"
   },
   {
    "duration": 18,
    "start_time": "2022-08-03T23:13:42.842Z"
   },
   {
    "duration": 20,
    "start_time": "2022-08-03T23:14:52.834Z"
   },
   {
    "duration": 2662,
    "start_time": "2022-08-06T06:20:43.796Z"
   },
   {
    "duration": 4372,
    "start_time": "2022-08-06T06:20:49.644Z"
   },
   {
    "duration": 24,
    "start_time": "2022-08-06T06:20:54.019Z"
   },
   {
    "duration": 152,
    "start_time": "2022-08-06T06:20:54.045Z"
   },
   {
    "duration": 127,
    "start_time": "2022-08-06T06:20:57.617Z"
   },
   {
    "duration": 627,
    "start_time": "2022-08-06T06:21:25.809Z"
   },
   {
    "duration": 706,
    "start_time": "2022-08-06T06:21:27.115Z"
   },
   {
    "duration": 53,
    "start_time": "2022-08-06T06:21:45.612Z"
   },
   {
    "duration": 120,
    "start_time": "2022-08-06T06:21:51.621Z"
   },
   {
    "duration": 55,
    "start_time": "2022-08-06T06:21:52.496Z"
   },
   {
    "duration": 65,
    "start_time": "2022-08-06T06:21:55.456Z"
   },
   {
    "duration": 52,
    "start_time": "2022-08-06T06:22:09.442Z"
   },
   {
    "duration": 70,
    "start_time": "2022-08-06T06:22:13.529Z"
   },
   {
    "duration": 203,
    "start_time": "2022-08-06T06:22:27.897Z"
   },
   {
    "duration": 11,
    "start_time": "2022-08-06T06:22:41.016Z"
   },
   {
    "duration": 28,
    "start_time": "2022-08-06T06:22:42.233Z"
   },
   {
    "duration": 99,
    "start_time": "2022-08-06T06:22:46.023Z"
   },
   {
    "duration": 398,
    "start_time": "2022-08-06T06:23:12.012Z"
   },
   {
    "duration": 27,
    "start_time": "2022-08-06T06:23:14.604Z"
   },
   {
    "duration": 32,
    "start_time": "2022-08-06T06:23:17.559Z"
   },
   {
    "duration": 54,
    "start_time": "2022-08-06T06:23:46.810Z"
   },
   {
    "duration": 478,
    "start_time": "2022-08-06T06:23:51.338Z"
   },
   {
    "duration": 32,
    "start_time": "2022-08-06T06:24:11.498Z"
   },
   {
    "duration": 38,
    "start_time": "2022-08-06T06:24:22.540Z"
   },
   {
    "duration": 39,
    "start_time": "2022-08-06T06:24:30.118Z"
   },
   {
    "duration": 359,
    "start_time": "2022-08-06T06:24:32.694Z"
   },
   {
    "duration": 59,
    "start_time": "2022-08-06T06:24:51.148Z"
   },
   {
    "duration": 25,
    "start_time": "2022-08-06T06:25:06.634Z"
   },
   {
    "duration": 258,
    "start_time": "2022-08-06T06:25:13.032Z"
   },
   {
    "duration": 35,
    "start_time": "2022-08-06T06:25:17.845Z"
   },
   {
    "duration": 48,
    "start_time": "2022-08-06T06:25:20.786Z"
   },
   {
    "duration": 50,
    "start_time": "2022-08-06T06:25:21.897Z"
   },
   {
    "duration": 232,
    "start_time": "2022-08-06T06:25:40.450Z"
   },
   {
    "duration": 30,
    "start_time": "2022-08-06T06:25:48.118Z"
   },
   {
    "duration": 329,
    "start_time": "2022-08-06T06:25:57.110Z"
   },
   {
    "duration": 78,
    "start_time": "2022-08-06T06:26:10.543Z"
   },
   {
    "duration": 373,
    "start_time": "2022-08-06T06:26:10.994Z"
   },
   {
    "duration": 5,
    "start_time": "2022-08-06T06:30:16.154Z"
   },
   {
    "duration": 242,
    "start_time": "2022-08-06T06:30:16.635Z"
   },
   {
    "duration": 60,
    "start_time": "2022-08-06T06:30:41.829Z"
   },
   {
    "duration": 1315,
    "start_time": "2022-08-06T06:30:47.138Z"
   },
   {
    "duration": 31,
    "start_time": "2022-08-06T06:31:09.227Z"
   },
   {
    "duration": 421,
    "start_time": "2022-08-06T06:31:33.517Z"
   },
   {
    "duration": 27,
    "start_time": "2022-08-06T06:31:47.694Z"
   },
   {
    "duration": 34,
    "start_time": "2022-08-06T06:31:48.845Z"
   },
   {
    "duration": 85,
    "start_time": "2022-08-06T06:31:53.462Z"
   },
   {
    "duration": 26,
    "start_time": "2022-08-06T06:31:59.728Z"
   },
   {
    "duration": 9,
    "start_time": "2022-08-06T06:32:31.703Z"
   },
   {
    "duration": 4185,
    "start_time": "2022-08-06T06:32:33.206Z"
   },
   {
    "duration": 13,
    "start_time": "2022-08-06T06:32:51.023Z"
   },
   {
    "duration": 87,
    "start_time": "2022-08-06T06:32:51.551Z"
   },
   {
    "duration": 749,
    "start_time": "2022-08-06T06:32:56.218Z"
   },
   {
    "duration": 126,
    "start_time": "2022-08-06T06:33:44.627Z"
   },
   {
    "duration": 31,
    "start_time": "2022-08-06T06:33:45.821Z"
   },
   {
    "duration": 156,
    "start_time": "2022-08-06T06:40:47.605Z"
   },
   {
    "duration": 114,
    "start_time": "2022-08-06T06:41:00.820Z"
   },
   {
    "duration": 35,
    "start_time": "2022-08-06T06:41:01.722Z"
   },
   {
    "duration": 7,
    "start_time": "2022-08-06T06:55:25.270Z"
   },
   {
    "duration": 83,
    "start_time": "2022-08-06T06:58:57.340Z"
   },
   {
    "duration": 1994,
    "start_time": "2022-08-06T07:00:30.053Z"
   },
   {
    "duration": 3571,
    "start_time": "2022-08-06T07:00:32.050Z"
   },
   {
    "duration": 22,
    "start_time": "2022-08-06T07:00:35.624Z"
   },
   {
    "duration": 259,
    "start_time": "2022-08-06T07:00:35.650Z"
   },
   {
    "duration": 155,
    "start_time": "2022-08-06T07:00:35.912Z"
   },
   {
    "duration": 1430,
    "start_time": "2022-08-06T07:00:36.069Z"
   },
   {
    "duration": 1739,
    "start_time": "2022-08-06T07:00:37.501Z"
   },
   {
    "duration": 75,
    "start_time": "2022-08-06T07:00:39.243Z"
   },
   {
    "duration": 94,
    "start_time": "2022-08-06T07:00:39.323Z"
   },
   {
    "duration": 51,
    "start_time": "2022-08-06T07:00:39.422Z"
   },
   {
    "duration": 58,
    "start_time": "2022-08-06T07:00:39.475Z"
   },
   {
    "duration": 64,
    "start_time": "2022-08-06T07:00:39.536Z"
   },
   {
    "duration": 89,
    "start_time": "2022-08-06T07:00:39.602Z"
   },
   {
    "duration": 115,
    "start_time": "2022-08-06T07:00:39.696Z"
   },
   {
    "duration": 10,
    "start_time": "2022-08-06T07:00:39.813Z"
   },
   {
    "duration": 46,
    "start_time": "2022-08-06T07:00:39.825Z"
   },
   {
    "duration": 103,
    "start_time": "2022-08-06T07:00:39.872Z"
   },
   {
    "duration": 440,
    "start_time": "2022-08-06T07:00:39.979Z"
   },
   {
    "duration": 22,
    "start_time": "2022-08-06T07:00:40.424Z"
   },
   {
    "duration": 51,
    "start_time": "2022-08-06T07:00:40.448Z"
   },
   {
    "duration": 49,
    "start_time": "2022-08-06T07:00:40.511Z"
   },
   {
    "duration": 447,
    "start_time": "2022-08-06T07:00:40.562Z"
   },
   {
    "duration": 46,
    "start_time": "2022-08-06T07:00:41.011Z"
   },
   {
    "duration": 51,
    "start_time": "2022-08-06T07:00:41.067Z"
   },
   {
    "duration": 34,
    "start_time": "2022-08-06T07:00:41.121Z"
   },
   {
    "duration": 383,
    "start_time": "2022-08-06T07:00:41.168Z"
   },
   {
    "duration": 55,
    "start_time": "2022-08-06T07:00:41.553Z"
   },
   {
    "duration": 36,
    "start_time": "2022-08-06T07:00:41.614Z"
   },
   {
    "duration": 257,
    "start_time": "2022-08-06T07:00:41.652Z"
   },
   {
    "duration": 21,
    "start_time": "2022-08-06T07:00:41.914Z"
   },
   {
    "duration": 38,
    "start_time": "2022-08-06T07:00:41.937Z"
   },
   {
    "duration": 79,
    "start_time": "2022-08-06T07:00:41.977Z"
   },
   {
    "duration": 172,
    "start_time": "2022-08-06T07:00:42.059Z"
   },
   {
    "duration": 39,
    "start_time": "2022-08-06T07:00:42.234Z"
   },
   {
    "duration": 252,
    "start_time": "2022-08-06T07:00:42.275Z"
   },
   {
    "duration": 26,
    "start_time": "2022-08-06T07:00:42.529Z"
   },
   {
    "duration": 363,
    "start_time": "2022-08-06T07:00:42.568Z"
   },
   {
    "duration": 47,
    "start_time": "2022-08-06T07:00:42.934Z"
   },
   {
    "duration": 303,
    "start_time": "2022-08-06T07:00:42.984Z"
   },
   {
    "duration": 63,
    "start_time": "2022-08-06T07:00:43.289Z"
   },
   {
    "duration": 13,
    "start_time": "2022-08-06T07:00:43.356Z"
   },
   {
    "duration": 310,
    "start_time": "2022-08-06T07:00:43.375Z"
   },
   {
    "duration": 89,
    "start_time": "2022-08-06T07:00:43.688Z"
   },
   {
    "duration": 2656,
    "start_time": "2022-08-06T07:00:43.781Z"
   },
   {
    "duration": 136,
    "start_time": "2022-08-06T07:00:46.440Z"
   },
   {
    "duration": 767,
    "start_time": "2022-08-06T07:00:46.580Z"
   },
   {
    "duration": 38,
    "start_time": "2022-08-06T07:00:47.350Z"
   },
   {
    "duration": 60,
    "start_time": "2022-08-06T07:00:47.390Z"
   },
   {
    "duration": 41,
    "start_time": "2022-08-06T07:00:47.452Z"
   },
   {
    "duration": 60,
    "start_time": "2022-08-06T07:00:47.496Z"
   },
   {
    "duration": 9,
    "start_time": "2022-08-06T07:00:47.559Z"
   },
   {
    "duration": 3667,
    "start_time": "2022-08-06T07:00:47.575Z"
   },
   {
    "duration": 31,
    "start_time": "2022-08-06T07:00:51.245Z"
   },
   {
    "duration": 46,
    "start_time": "2022-08-06T07:00:51.286Z"
   },
   {
    "duration": 607,
    "start_time": "2022-08-06T07:00:51.335Z"
   },
   {
    "duration": 90,
    "start_time": "2022-08-06T07:00:51.944Z"
   },
   {
    "duration": 41,
    "start_time": "2022-08-06T07:00:52.037Z"
   },
   {
    "duration": 84,
    "start_time": "2022-08-06T07:00:52.080Z"
   },
   {
    "duration": 45,
    "start_time": "2022-08-06T07:00:52.166Z"
   },
   {
    "duration": 17,
    "start_time": "2022-08-06T07:00:52.213Z"
   },
   {
    "duration": 718,
    "start_time": "2022-08-06T07:00:52.232Z"
   },
   {
    "duration": 0,
    "start_time": "2022-08-06T07:00:52.953Z"
   },
   {
    "duration": 0,
    "start_time": "2022-08-06T07:00:52.954Z"
   },
   {
    "duration": 0,
    "start_time": "2022-08-06T07:00:52.972Z"
   },
   {
    "duration": 0,
    "start_time": "2022-08-06T07:00:52.973Z"
   },
   {
    "duration": 0,
    "start_time": "2022-08-06T07:00:52.973Z"
   },
   {
    "duration": 0,
    "start_time": "2022-08-06T07:00:52.974Z"
   },
   {
    "duration": 0,
    "start_time": "2022-08-06T07:00:52.975Z"
   },
   {
    "duration": 1,
    "start_time": "2022-08-06T07:00:52.976Z"
   },
   {
    "duration": 0,
    "start_time": "2022-08-06T07:00:52.979Z"
   },
   {
    "duration": 0,
    "start_time": "2022-08-06T07:00:52.982Z"
   },
   {
    "duration": 0,
    "start_time": "2022-08-06T07:00:52.982Z"
   },
   {
    "duration": 0,
    "start_time": "2022-08-06T07:00:52.983Z"
   },
   {
    "duration": 0,
    "start_time": "2022-08-06T07:00:52.984Z"
   },
   {
    "duration": 0,
    "start_time": "2022-08-06T07:00:52.984Z"
   },
   {
    "duration": 529,
    "start_time": "2022-08-06T07:01:47.500Z"
   },
   {
    "duration": 409,
    "start_time": "2022-08-06T07:02:51.055Z"
   },
   {
    "duration": 481,
    "start_time": "2022-08-06T07:04:06.107Z"
   },
   {
    "duration": 816,
    "start_time": "2022-08-06T07:04:51.048Z"
   },
   {
    "duration": 20,
    "start_time": "2022-08-06T07:04:56.451Z"
   },
   {
    "duration": 1164,
    "start_time": "2022-08-06T07:05:30.931Z"
   },
   {
    "duration": 41,
    "start_time": "2022-08-06T07:05:35.618Z"
   },
   {
    "duration": 53,
    "start_time": "2022-08-06T07:05:48.143Z"
   },
   {
    "duration": 84,
    "start_time": "2022-08-06T07:06:08.954Z"
   },
   {
    "duration": 43,
    "start_time": "2022-08-06T07:06:18.826Z"
   },
   {
    "duration": 33,
    "start_time": "2022-08-06T07:07:51.750Z"
   },
   {
    "duration": 1665,
    "start_time": "2022-08-06T07:09:30.644Z"
   },
   {
    "duration": 1349,
    "start_time": "2022-08-06T07:09:32.312Z"
   },
   {
    "duration": 30,
    "start_time": "2022-08-06T07:09:33.666Z"
   },
   {
    "duration": 164,
    "start_time": "2022-08-06T07:09:33.698Z"
   },
   {
    "duration": 110,
    "start_time": "2022-08-06T07:09:33.867Z"
   },
   {
    "duration": 520,
    "start_time": "2022-08-06T07:09:33.978Z"
   },
   {
    "duration": 577,
    "start_time": "2022-08-06T07:09:34.500Z"
   },
   {
    "duration": 48,
    "start_time": "2022-08-06T07:09:35.084Z"
   },
   {
    "duration": 80,
    "start_time": "2022-08-06T07:09:35.135Z"
   },
   {
    "duration": 34,
    "start_time": "2022-08-06T07:09:35.217Z"
   },
   {
    "duration": 55,
    "start_time": "2022-08-06T07:09:35.253Z"
   },
   {
    "duration": 74,
    "start_time": "2022-08-06T07:09:35.310Z"
   },
   {
    "duration": 49,
    "start_time": "2022-08-06T07:09:35.389Z"
   },
   {
    "duration": 138,
    "start_time": "2022-08-06T07:09:35.440Z"
   },
   {
    "duration": 10,
    "start_time": "2022-08-06T07:09:35.582Z"
   },
   {
    "duration": 24,
    "start_time": "2022-08-06T07:09:35.594Z"
   },
   {
    "duration": 98,
    "start_time": "2022-08-06T07:09:35.620Z"
   },
   {
    "duration": 338,
    "start_time": "2022-08-06T07:09:35.719Z"
   },
   {
    "duration": 29,
    "start_time": "2022-08-06T07:09:36.059Z"
   },
   {
    "duration": 21,
    "start_time": "2022-08-06T07:09:36.090Z"
   },
   {
    "duration": 26,
    "start_time": "2022-08-06T07:09:36.113Z"
   },
   {
    "duration": 309,
    "start_time": "2022-08-06T07:09:36.141Z"
   },
   {
    "duration": 41,
    "start_time": "2022-08-06T07:09:36.452Z"
   },
   {
    "duration": 56,
    "start_time": "2022-08-06T07:09:36.495Z"
   },
   {
    "duration": 38,
    "start_time": "2022-08-06T07:09:36.553Z"
   },
   {
    "duration": 494,
    "start_time": "2022-08-06T07:09:36.594Z"
   },
   {
    "duration": 31,
    "start_time": "2022-08-06T07:09:37.094Z"
   },
   {
    "duration": 18,
    "start_time": "2022-08-06T07:09:37.127Z"
   },
   {
    "duration": 228,
    "start_time": "2022-08-06T07:09:37.147Z"
   },
   {
    "duration": 34,
    "start_time": "2022-08-06T07:09:37.385Z"
   },
   {
    "duration": 59,
    "start_time": "2022-08-06T07:09:37.421Z"
   },
   {
    "duration": 54,
    "start_time": "2022-08-06T07:09:37.483Z"
   },
   {
    "duration": 146,
    "start_time": "2022-08-06T07:09:37.539Z"
   },
   {
    "duration": 20,
    "start_time": "2022-08-06T07:09:37.687Z"
   },
   {
    "duration": 283,
    "start_time": "2022-08-06T07:09:37.709Z"
   },
   {
    "duration": 29,
    "start_time": "2022-08-06T07:09:37.995Z"
   },
   {
    "duration": 311,
    "start_time": "2022-08-06T07:09:38.027Z"
   },
   {
    "duration": 29,
    "start_time": "2022-08-06T07:09:38.340Z"
   },
   {
    "duration": 266,
    "start_time": "2022-08-06T07:09:38.376Z"
   },
   {
    "duration": 44,
    "start_time": "2022-08-06T07:09:38.644Z"
   },
   {
    "duration": 6,
    "start_time": "2022-08-06T07:09:38.690Z"
   },
   {
    "duration": 220,
    "start_time": "2022-08-06T07:09:38.698Z"
   },
   {
    "duration": 29,
    "start_time": "2022-08-06T07:09:38.919Z"
   },
   {
    "duration": 959,
    "start_time": "2022-08-06T07:09:38.950Z"
   },
   {
    "duration": 26,
    "start_time": "2022-08-06T07:09:39.911Z"
   },
   {
    "duration": 460,
    "start_time": "2022-08-06T07:09:39.939Z"
   },
   {
    "duration": 16,
    "start_time": "2022-08-06T07:09:40.401Z"
   },
   {
    "duration": 26,
    "start_time": "2022-08-06T07:09:40.419Z"
   },
   {
    "duration": 61,
    "start_time": "2022-08-06T07:09:40.447Z"
   },
   {
    "duration": 21,
    "start_time": "2022-08-06T07:09:40.511Z"
   },
   {
    "duration": 18,
    "start_time": "2022-08-06T07:09:40.534Z"
   },
   {
    "duration": 4240,
    "start_time": "2022-08-06T07:09:40.555Z"
   },
   {
    "duration": 78,
    "start_time": "2022-08-06T07:09:44.798Z"
   },
   {
    "duration": 26,
    "start_time": "2022-08-06T07:09:44.880Z"
   },
   {
    "duration": 766,
    "start_time": "2022-08-06T07:09:44.909Z"
   },
   {
    "duration": 59,
    "start_time": "2022-08-06T07:09:45.677Z"
   },
   {
    "duration": 41,
    "start_time": "2022-08-06T07:09:45.738Z"
   },
   {
    "duration": 75,
    "start_time": "2022-08-06T07:09:45.786Z"
   },
   {
    "duration": 37,
    "start_time": "2022-08-06T07:09:45.863Z"
   },
   {
    "duration": 3,
    "start_time": "2022-08-06T07:09:45.901Z"
   },
   {
    "duration": 848,
    "start_time": "2022-08-06T07:09:45.906Z"
   },
   {
    "duration": 74,
    "start_time": "2022-08-06T07:09:46.756Z"
   },
   {
    "duration": 20,
    "start_time": "2022-08-06T07:09:46.832Z"
   },
   {
    "duration": 7,
    "start_time": "2022-08-06T07:09:46.872Z"
   },
   {
    "duration": 173824,
    "start_time": "2022-08-06T07:09:46.884Z"
   },
   {
    "duration": 1106,
    "start_time": "2022-08-06T07:12:40.712Z"
   },
   {
    "duration": 1576,
    "start_time": "2022-08-06T07:22:09.102Z"
   },
   {
    "duration": 1032,
    "start_time": "2022-08-06T07:22:10.680Z"
   },
   {
    "duration": 28,
    "start_time": "2022-08-06T07:22:11.714Z"
   },
   {
    "duration": 238,
    "start_time": "2022-08-06T07:22:11.744Z"
   },
   {
    "duration": 114,
    "start_time": "2022-08-06T07:22:11.986Z"
   },
   {
    "duration": 540,
    "start_time": "2022-08-06T07:22:12.102Z"
   },
   {
    "duration": 552,
    "start_time": "2022-08-06T07:22:12.644Z"
   },
   {
    "duration": 76,
    "start_time": "2022-08-06T07:22:13.198Z"
   },
   {
    "duration": 105,
    "start_time": "2022-08-06T07:22:13.281Z"
   },
   {
    "duration": 46,
    "start_time": "2022-08-06T07:22:13.388Z"
   },
   {
    "duration": 107,
    "start_time": "2022-08-06T07:22:13.436Z"
   },
   {
    "duration": 113,
    "start_time": "2022-08-06T07:22:13.545Z"
   },
   {
    "duration": 78,
    "start_time": "2022-08-06T07:22:13.660Z"
   },
   {
    "duration": 117,
    "start_time": "2022-08-06T07:22:13.741Z"
   },
   {
    "duration": 11,
    "start_time": "2022-08-06T07:22:13.859Z"
   },
   {
    "duration": 50,
    "start_time": "2022-08-06T07:22:13.872Z"
   },
   {
    "duration": 93,
    "start_time": "2022-08-06T07:22:13.924Z"
   },
   {
    "duration": 379,
    "start_time": "2022-08-06T07:22:14.019Z"
   },
   {
    "duration": 23,
    "start_time": "2022-08-06T07:22:14.400Z"
   },
   {
    "duration": 21,
    "start_time": "2022-08-06T07:22:14.425Z"
   },
   {
    "duration": 51,
    "start_time": "2022-08-06T07:22:14.448Z"
   },
   {
    "duration": 289,
    "start_time": "2022-08-06T07:22:14.501Z"
   },
   {
    "duration": 25,
    "start_time": "2022-08-06T07:22:14.791Z"
   },
   {
    "duration": 29,
    "start_time": "2022-08-06T07:22:14.818Z"
   },
   {
    "duration": 43,
    "start_time": "2022-08-06T07:22:14.848Z"
   },
   {
    "duration": 316,
    "start_time": "2022-08-06T07:22:14.893Z"
   },
   {
    "duration": 31,
    "start_time": "2022-08-06T07:22:15.211Z"
   },
   {
    "duration": 39,
    "start_time": "2022-08-06T07:22:15.244Z"
   },
   {
    "duration": 204,
    "start_time": "2022-08-06T07:22:15.285Z"
   },
   {
    "duration": 19,
    "start_time": "2022-08-06T07:22:15.491Z"
   },
   {
    "duration": 36,
    "start_time": "2022-08-06T07:22:15.512Z"
   },
   {
    "duration": 59,
    "start_time": "2022-08-06T07:22:15.550Z"
   },
   {
    "duration": 138,
    "start_time": "2022-08-06T07:22:15.611Z"
   },
   {
    "duration": 32,
    "start_time": "2022-08-06T07:22:15.750Z"
   },
   {
    "duration": 233,
    "start_time": "2022-08-06T07:22:15.785Z"
   },
   {
    "duration": 48,
    "start_time": "2022-08-06T07:22:16.023Z"
   },
   {
    "duration": 438,
    "start_time": "2022-08-06T07:22:16.076Z"
   },
   {
    "duration": 33,
    "start_time": "2022-08-06T07:22:16.568Z"
   },
   {
    "duration": 686,
    "start_time": "2022-08-06T07:22:16.604Z"
   },
   {
    "duration": 100,
    "start_time": "2022-08-06T07:22:17.292Z"
   },
   {
    "duration": 6,
    "start_time": "2022-08-06T07:22:17.401Z"
   },
   {
    "duration": 482,
    "start_time": "2022-08-06T07:22:17.409Z"
   },
   {
    "duration": 100,
    "start_time": "2022-08-06T07:22:17.893Z"
   },
   {
    "duration": 1233,
    "start_time": "2022-08-06T07:22:17.996Z"
   },
   {
    "duration": 29,
    "start_time": "2022-08-06T07:22:19.231Z"
   },
   {
    "duration": 512,
    "start_time": "2022-08-06T07:22:19.263Z"
   },
   {
    "duration": 14,
    "start_time": "2022-08-06T07:22:19.787Z"
   },
   {
    "duration": 60,
    "start_time": "2022-08-06T07:22:19.803Z"
   },
   {
    "duration": 65,
    "start_time": "2022-08-06T07:22:19.866Z"
   },
   {
    "duration": 18,
    "start_time": "2022-08-06T07:22:19.933Z"
   },
   {
    "duration": 17,
    "start_time": "2022-08-06T07:22:19.952Z"
   },
   {
    "duration": 3178,
    "start_time": "2022-08-06T07:22:19.974Z"
   },
   {
    "duration": 38,
    "start_time": "2022-08-06T07:22:23.154Z"
   },
   {
    "duration": 20,
    "start_time": "2022-08-06T07:22:23.194Z"
   },
   {
    "duration": 462,
    "start_time": "2022-08-06T07:22:23.216Z"
   },
   {
    "duration": 59,
    "start_time": "2022-08-06T07:22:23.681Z"
   },
   {
    "duration": 13,
    "start_time": "2022-08-06T07:22:23.742Z"
   },
   {
    "duration": 86,
    "start_time": "2022-08-06T07:22:23.770Z"
   },
   {
    "duration": 40,
    "start_time": "2022-08-06T07:22:23.858Z"
   },
   {
    "duration": 4,
    "start_time": "2022-08-06T07:22:23.901Z"
   },
   {
    "duration": 827,
    "start_time": "2022-08-06T07:22:23.908Z"
   },
   {
    "duration": 66,
    "start_time": "2022-08-06T07:22:24.737Z"
   },
   {
    "duration": 14,
    "start_time": "2022-08-06T07:22:24.805Z"
   },
   {
    "duration": 8,
    "start_time": "2022-08-06T07:22:24.820Z"
   },
   {
    "duration": 145648,
    "start_time": "2022-08-06T07:22:24.830Z"
   },
   {
    "duration": 1034,
    "start_time": "2022-08-06T07:24:50.483Z"
   },
   {
    "duration": 152573,
    "start_time": "2022-08-06T07:24:51.520Z"
   },
   {
    "duration": 0,
    "start_time": "2022-08-06T07:27:24.095Z"
   },
   {
    "duration": 0,
    "start_time": "2022-08-06T07:27:24.096Z"
   },
   {
    "duration": 0,
    "start_time": "2022-08-06T07:27:24.098Z"
   },
   {
    "duration": 0,
    "start_time": "2022-08-06T07:27:24.099Z"
   },
   {
    "duration": 1,
    "start_time": "2022-08-06T07:27:24.100Z"
   },
   {
    "duration": 0,
    "start_time": "2022-08-06T07:27:24.102Z"
   },
   {
    "duration": 0,
    "start_time": "2022-08-06T07:27:24.103Z"
   },
   {
    "duration": 0,
    "start_time": "2022-08-06T07:27:24.104Z"
   },
   {
    "duration": 0,
    "start_time": "2022-08-06T07:27:24.106Z"
   },
   {
    "duration": 0,
    "start_time": "2022-08-06T07:27:24.110Z"
   },
   {
    "duration": 10,
    "start_time": "2022-08-06T07:27:34.026Z"
   },
   {
    "duration": 5,
    "start_time": "2022-08-06T07:27:37.330Z"
   },
   {
    "duration": 5,
    "start_time": "2022-08-06T07:27:45.101Z"
   },
   {
    "duration": 1759,
    "start_time": "2022-08-06T07:29:05.382Z"
   },
   {
    "duration": 918,
    "start_time": "2022-08-06T07:29:07.143Z"
   },
   {
    "duration": 33,
    "start_time": "2022-08-06T07:29:08.063Z"
   },
   {
    "duration": 215,
    "start_time": "2022-08-06T07:29:08.098Z"
   },
   {
    "duration": 116,
    "start_time": "2022-08-06T07:29:08.316Z"
   },
   {
    "duration": 563,
    "start_time": "2022-08-06T07:29:08.434Z"
   },
   {
    "duration": 601,
    "start_time": "2022-08-06T07:29:08.999Z"
   },
   {
    "duration": 47,
    "start_time": "2022-08-06T07:29:09.602Z"
   },
   {
    "duration": 93,
    "start_time": "2022-08-06T07:29:09.652Z"
   },
   {
    "duration": 66,
    "start_time": "2022-08-06T07:29:09.747Z"
   },
   {
    "duration": 47,
    "start_time": "2022-08-06T07:29:09.814Z"
   },
   {
    "duration": 66,
    "start_time": "2022-08-06T07:29:09.862Z"
   },
   {
    "duration": 65,
    "start_time": "2022-08-06T07:29:09.930Z"
   },
   {
    "duration": 128,
    "start_time": "2022-08-06T07:29:10.000Z"
   },
   {
    "duration": 9,
    "start_time": "2022-08-06T07:29:10.130Z"
   },
   {
    "duration": 45,
    "start_time": "2022-08-06T07:29:10.141Z"
   },
   {
    "duration": 144,
    "start_time": "2022-08-06T07:29:10.190Z"
   },
   {
    "duration": 425,
    "start_time": "2022-08-06T07:29:10.337Z"
   },
   {
    "duration": 30,
    "start_time": "2022-08-06T07:29:10.765Z"
   },
   {
    "duration": 35,
    "start_time": "2022-08-06T07:29:10.798Z"
   },
   {
    "duration": 44,
    "start_time": "2022-08-06T07:29:10.835Z"
   },
   {
    "duration": 370,
    "start_time": "2022-08-06T07:29:10.882Z"
   },
   {
    "duration": 35,
    "start_time": "2022-08-06T07:29:11.256Z"
   },
   {
    "duration": 41,
    "start_time": "2022-08-06T07:29:11.295Z"
   },
   {
    "duration": 30,
    "start_time": "2022-08-06T07:29:11.339Z"
   },
   {
    "duration": 343,
    "start_time": "2022-08-06T07:29:11.373Z"
   },
   {
    "duration": 58,
    "start_time": "2022-08-06T07:29:11.718Z"
   },
   {
    "duration": 34,
    "start_time": "2022-08-06T07:29:11.781Z"
   },
   {
    "duration": 187,
    "start_time": "2022-08-06T07:29:11.817Z"
   },
   {
    "duration": 20,
    "start_time": "2022-08-06T07:29:12.006Z"
   },
   {
    "duration": 62,
    "start_time": "2022-08-06T07:29:12.029Z"
   },
   {
    "duration": 65,
    "start_time": "2022-08-06T07:29:12.094Z"
   },
   {
    "duration": 133,
    "start_time": "2022-08-06T07:29:12.161Z"
   },
   {
    "duration": 30,
    "start_time": "2022-08-06T07:29:12.296Z"
   },
   {
    "duration": 264,
    "start_time": "2022-08-06T07:29:12.328Z"
   },
   {
    "duration": 24,
    "start_time": "2022-08-06T07:29:12.594Z"
   },
   {
    "duration": 239,
    "start_time": "2022-08-06T07:29:12.620Z"
   },
   {
    "duration": 24,
    "start_time": "2022-08-06T07:29:12.868Z"
   },
   {
    "duration": 247,
    "start_time": "2022-08-06T07:29:12.897Z"
   },
   {
    "duration": 67,
    "start_time": "2022-08-06T07:29:13.146Z"
   },
   {
    "duration": 8,
    "start_time": "2022-08-06T07:29:13.220Z"
   },
   {
    "duration": 222,
    "start_time": "2022-08-06T07:29:13.229Z"
   },
   {
    "duration": 45,
    "start_time": "2022-08-06T07:29:13.454Z"
   },
   {
    "duration": 1036,
    "start_time": "2022-08-06T07:29:13.501Z"
   },
   {
    "duration": 32,
    "start_time": "2022-08-06T07:29:14.539Z"
   },
   {
    "duration": 501,
    "start_time": "2022-08-06T07:29:14.576Z"
   },
   {
    "duration": 20,
    "start_time": "2022-08-06T07:29:15.079Z"
   },
   {
    "duration": 23,
    "start_time": "2022-08-06T07:29:15.101Z"
   },
   {
    "duration": 52,
    "start_time": "2022-08-06T07:29:15.125Z"
   },
   {
    "duration": 25,
    "start_time": "2022-08-06T07:29:15.183Z"
   },
   {
    "duration": 6,
    "start_time": "2022-08-06T07:29:15.210Z"
   },
   {
    "duration": 3189,
    "start_time": "2022-08-06T07:29:15.217Z"
   },
   {
    "duration": 14,
    "start_time": "2022-08-06T07:29:18.408Z"
   },
   {
    "duration": 18,
    "start_time": "2022-08-06T07:29:18.427Z"
   },
   {
    "duration": 466,
    "start_time": "2022-08-06T07:29:18.447Z"
   },
   {
    "duration": 78,
    "start_time": "2022-08-06T07:29:18.915Z"
   },
   {
    "duration": 15,
    "start_time": "2022-08-06T07:29:18.994Z"
   },
   {
    "duration": 114,
    "start_time": "2022-08-06T07:29:19.011Z"
   },
   {
    "duration": 42,
    "start_time": "2022-08-06T07:29:19.127Z"
   },
   {
    "duration": 9,
    "start_time": "2022-08-06T07:29:19.174Z"
   },
   {
    "duration": 17,
    "start_time": "2022-08-06T07:29:19.187Z"
   },
   {
    "duration": 6,
    "start_time": "2022-08-06T07:29:19.206Z"
   },
   {
    "duration": 861,
    "start_time": "2022-08-06T07:29:19.214Z"
   },
   {
    "duration": 57,
    "start_time": "2022-08-06T07:29:20.077Z"
   },
   {
    "duration": 17,
    "start_time": "2022-08-06T07:29:20.135Z"
   },
   {
    "duration": 8,
    "start_time": "2022-08-06T07:29:20.154Z"
   },
   {
    "duration": 160549,
    "start_time": "2022-08-06T07:29:20.175Z"
   },
   {
    "duration": 858,
    "start_time": "2022-08-06T07:32:00.726Z"
   },
   {
    "duration": 1472683,
    "start_time": "2022-08-06T07:32:01.590Z"
   },
   {
    "duration": 14013,
    "start_time": "2022-08-06T07:56:34.276Z"
   },
   {
    "duration": 1550,
    "start_time": "2022-08-06T20:32:26.742Z"
   },
   {
    "duration": 1074,
    "start_time": "2022-08-06T20:32:28.294Z"
   },
   {
    "duration": 18,
    "start_time": "2022-08-06T20:32:29.370Z"
   },
   {
    "duration": 115,
    "start_time": "2022-08-06T20:32:29.390Z"
   },
   {
    "duration": 99,
    "start_time": "2022-08-06T20:32:29.507Z"
   },
   {
    "duration": 417,
    "start_time": "2022-08-06T20:32:29.608Z"
   },
   {
    "duration": 438,
    "start_time": "2022-08-06T20:32:30.026Z"
   },
   {
    "duration": 55,
    "start_time": "2022-08-06T20:32:30.465Z"
   },
   {
    "duration": 98,
    "start_time": "2022-08-06T20:32:30.522Z"
   },
   {
    "duration": 21,
    "start_time": "2022-08-06T20:32:30.623Z"
   },
   {
    "duration": 27,
    "start_time": "2022-08-06T20:32:30.646Z"
   },
   {
    "duration": 56,
    "start_time": "2022-08-06T20:32:30.675Z"
   },
   {
    "duration": 30,
    "start_time": "2022-08-06T20:32:30.733Z"
   },
   {
    "duration": 114,
    "start_time": "2022-08-06T20:32:30.765Z"
   },
   {
    "duration": 8,
    "start_time": "2022-08-06T20:32:30.880Z"
   },
   {
    "duration": 22,
    "start_time": "2022-08-06T20:32:30.899Z"
   },
   {
    "duration": 88,
    "start_time": "2022-08-06T20:32:30.923Z"
   },
   {
    "duration": 279,
    "start_time": "2022-08-06T20:32:31.012Z"
   },
   {
    "duration": 16,
    "start_time": "2022-08-06T20:32:31.297Z"
   },
   {
    "duration": 33,
    "start_time": "2022-08-06T20:32:31.314Z"
   },
   {
    "duration": 23,
    "start_time": "2022-08-06T20:32:31.349Z"
   },
   {
    "duration": 226,
    "start_time": "2022-08-06T20:32:31.374Z"
   },
   {
    "duration": 24,
    "start_time": "2022-08-06T20:32:31.601Z"
   },
   {
    "duration": 24,
    "start_time": "2022-08-06T20:32:31.627Z"
   },
   {
    "duration": 23,
    "start_time": "2022-08-06T20:32:31.652Z"
   },
   {
    "duration": 242,
    "start_time": "2022-08-06T20:32:31.698Z"
   },
   {
    "duration": 35,
    "start_time": "2022-08-06T20:32:31.941Z"
   },
   {
    "duration": 28,
    "start_time": "2022-08-06T20:32:31.981Z"
   },
   {
    "duration": 161,
    "start_time": "2022-08-06T20:32:32.011Z"
   },
   {
    "duration": 27,
    "start_time": "2022-08-06T20:32:32.174Z"
   },
   {
    "duration": 28,
    "start_time": "2022-08-06T20:32:32.203Z"
   },
   {
    "duration": 39,
    "start_time": "2022-08-06T20:32:32.233Z"
   },
   {
    "duration": 116,
    "start_time": "2022-08-06T20:32:32.274Z"
   },
   {
    "duration": 21,
    "start_time": "2022-08-06T20:32:32.391Z"
   },
   {
    "duration": 193,
    "start_time": "2022-08-06T20:32:32.413Z"
   },
   {
    "duration": 23,
    "start_time": "2022-08-06T20:32:32.607Z"
   },
   {
    "duration": 182,
    "start_time": "2022-08-06T20:32:32.632Z"
   },
   {
    "duration": 17,
    "start_time": "2022-08-06T20:32:32.816Z"
   },
   {
    "duration": 206,
    "start_time": "2022-08-06T20:32:32.834Z"
   },
   {
    "duration": 32,
    "start_time": "2022-08-06T20:32:33.042Z"
   },
   {
    "duration": 6,
    "start_time": "2022-08-06T20:32:33.076Z"
   },
   {
    "duration": 161,
    "start_time": "2022-08-06T20:32:33.099Z"
   },
   {
    "duration": 27,
    "start_time": "2022-08-06T20:32:33.298Z"
   },
   {
    "duration": 1008,
    "start_time": "2022-08-06T20:32:33.326Z"
   },
   {
    "duration": 28,
    "start_time": "2022-08-06T20:32:34.335Z"
   },
   {
    "duration": 440,
    "start_time": "2022-08-06T20:32:34.364Z"
   },
   {
    "duration": 13,
    "start_time": "2022-08-06T20:32:34.806Z"
   },
   {
    "duration": 20,
    "start_time": "2022-08-06T20:32:34.821Z"
   },
   {
    "duration": 29,
    "start_time": "2022-08-06T20:32:34.843Z"
   },
   {
    "duration": 38,
    "start_time": "2022-08-06T20:32:34.874Z"
   },
   {
    "duration": 5,
    "start_time": "2022-08-06T20:32:34.914Z"
   },
   {
    "duration": 2801,
    "start_time": "2022-08-06T20:32:34.921Z"
   },
   {
    "duration": 12,
    "start_time": "2022-08-06T20:32:37.724Z"
   },
   {
    "duration": 22,
    "start_time": "2022-08-06T20:32:37.738Z"
   },
   {
    "duration": 434,
    "start_time": "2022-08-06T20:32:37.762Z"
   },
   {
    "duration": 56,
    "start_time": "2022-08-06T20:32:38.198Z"
   },
   {
    "duration": 20,
    "start_time": "2022-08-06T20:32:38.256Z"
   },
   {
    "duration": 79,
    "start_time": "2022-08-06T20:32:38.277Z"
   },
   {
    "duration": 23,
    "start_time": "2022-08-06T20:32:38.357Z"
   },
   {
    "duration": 18,
    "start_time": "2022-08-06T20:32:38.382Z"
   },
   {
    "duration": 6,
    "start_time": "2022-08-06T20:32:38.402Z"
   },
   {
    "duration": 4,
    "start_time": "2022-08-06T20:32:38.410Z"
   },
   {
    "duration": 655,
    "start_time": "2022-08-06T20:32:38.415Z"
   },
   {
    "duration": 33,
    "start_time": "2022-08-06T20:32:39.072Z"
   },
   {
    "duration": 12,
    "start_time": "2022-08-06T20:32:39.107Z"
   },
   {
    "duration": 8,
    "start_time": "2022-08-06T20:32:39.121Z"
   },
   {
    "duration": 142059,
    "start_time": "2022-08-06T20:32:39.130Z"
   },
   {
    "duration": 748,
    "start_time": "2022-08-06T20:35:01.191Z"
   },
   {
    "duration": 781858,
    "start_time": "2022-08-06T20:35:01.942Z"
   },
   {
    "duration": 8806,
    "start_time": "2022-08-06T20:48:03.802Z"
   },
   {
    "duration": 2386983,
    "start_time": "2022-08-06T20:48:12.699Z"
   },
   {
    "duration": 377868,
    "start_time": "2022-08-06T21:27:59.684Z"
   },
   {
    "duration": 691,
    "start_time": "2022-08-06T21:34:17.553Z"
   },
   {
    "duration": 54,
    "start_time": "2022-08-06T21:34:18.246Z"
   },
   {
    "duration": 7804,
    "start_time": "2022-08-06T21:34:18.301Z"
   },
   {
    "duration": 704,
    "start_time": "2022-08-06T21:34:26.107Z"
   },
   {
    "duration": 375987,
    "start_time": "2022-08-06T21:34:26.813Z"
   },
   {
    "duration": 953,
    "start_time": "2022-08-06T21:40:42.801Z"
   },
   {
    "duration": 4,
    "start_time": "2022-08-06T21:51:29.674Z"
   },
   {
    "duration": 8,
    "start_time": "2022-08-06T21:51:35.754Z"
   },
   {
    "duration": 1530,
    "start_time": "2022-08-07T20:10:42.409Z"
   },
   {
    "duration": 1159,
    "start_time": "2022-08-07T20:10:43.942Z"
   },
   {
    "duration": 18,
    "start_time": "2022-08-07T20:10:45.108Z"
   },
   {
    "duration": 126,
    "start_time": "2022-08-07T20:10:45.128Z"
   },
   {
    "duration": 96,
    "start_time": "2022-08-07T20:10:45.256Z"
   },
   {
    "duration": 434,
    "start_time": "2022-08-07T20:10:45.353Z"
   },
   {
    "duration": 485,
    "start_time": "2022-08-07T20:10:45.788Z"
   },
   {
    "duration": 51,
    "start_time": "2022-08-07T20:10:46.277Z"
   },
   {
    "duration": 103,
    "start_time": "2022-08-07T20:10:46.330Z"
   },
   {
    "duration": 45,
    "start_time": "2022-08-07T20:10:46.437Z"
   },
   {
    "duration": 57,
    "start_time": "2022-08-07T20:10:46.484Z"
   },
   {
    "duration": 34,
    "start_time": "2022-08-07T20:10:46.542Z"
   },
   {
    "duration": 60,
    "start_time": "2022-08-07T20:10:46.578Z"
   },
   {
    "duration": 104,
    "start_time": "2022-08-07T20:10:46.640Z"
   },
   {
    "duration": 7,
    "start_time": "2022-08-07T20:10:46.745Z"
   },
   {
    "duration": 32,
    "start_time": "2022-08-07T20:10:46.753Z"
   },
   {
    "duration": 91,
    "start_time": "2022-08-07T20:10:46.787Z"
   },
   {
    "duration": 271,
    "start_time": "2022-08-07T20:10:46.880Z"
   },
   {
    "duration": 16,
    "start_time": "2022-08-07T20:10:47.152Z"
   },
   {
    "duration": 21,
    "start_time": "2022-08-07T20:10:47.169Z"
   },
   {
    "duration": 42,
    "start_time": "2022-08-07T20:10:47.200Z"
   },
   {
    "duration": 229,
    "start_time": "2022-08-07T20:10:47.244Z"
   },
   {
    "duration": 35,
    "start_time": "2022-08-07T20:10:47.474Z"
   },
   {
    "duration": 25,
    "start_time": "2022-08-07T20:10:47.514Z"
   },
   {
    "duration": 22,
    "start_time": "2022-08-07T20:10:47.541Z"
   },
   {
    "duration": 264,
    "start_time": "2022-08-07T20:10:47.564Z"
   },
   {
    "duration": 25,
    "start_time": "2022-08-07T20:10:47.830Z"
   },
   {
    "duration": 16,
    "start_time": "2022-08-07T20:10:47.859Z"
   },
   {
    "duration": 167,
    "start_time": "2022-08-07T20:10:47.876Z"
   },
   {
    "duration": 17,
    "start_time": "2022-08-07T20:10:48.044Z"
   },
   {
    "duration": 56,
    "start_time": "2022-08-07T20:10:48.063Z"
   },
   {
    "duration": 38,
    "start_time": "2022-08-07T20:10:48.121Z"
   },
   {
    "duration": 117,
    "start_time": "2022-08-07T20:10:48.160Z"
   },
   {
    "duration": 23,
    "start_time": "2022-08-07T20:10:48.279Z"
   },
   {
    "duration": 198,
    "start_time": "2022-08-07T20:10:48.303Z"
   },
   {
    "duration": 24,
    "start_time": "2022-08-07T20:10:48.504Z"
   },
   {
    "duration": 186,
    "start_time": "2022-08-07T20:10:48.530Z"
   },
   {
    "duration": 16,
    "start_time": "2022-08-07T20:10:48.718Z"
   },
   {
    "duration": 202,
    "start_time": "2022-08-07T20:10:48.736Z"
   },
   {
    "duration": 32,
    "start_time": "2022-08-07T20:10:48.939Z"
   },
   {
    "duration": 6,
    "start_time": "2022-08-07T20:10:48.973Z"
   },
   {
    "duration": 186,
    "start_time": "2022-08-07T20:10:48.980Z"
   },
   {
    "duration": 22,
    "start_time": "2022-08-07T20:10:49.168Z"
   },
   {
    "duration": 794,
    "start_time": "2022-08-07T20:10:49.192Z"
   },
   {
    "duration": 34,
    "start_time": "2022-08-07T20:10:49.988Z"
   },
   {
    "duration": 398,
    "start_time": "2022-08-07T20:10:50.024Z"
   },
   {
    "duration": 13,
    "start_time": "2022-08-07T20:10:50.424Z"
   },
   {
    "duration": 22,
    "start_time": "2022-08-07T20:10:50.438Z"
   },
   {
    "duration": 53,
    "start_time": "2022-08-07T20:10:50.461Z"
   },
   {
    "duration": 16,
    "start_time": "2022-08-07T20:10:50.517Z"
   },
   {
    "duration": 4,
    "start_time": "2022-08-07T20:10:50.534Z"
   },
   {
    "duration": 2623,
    "start_time": "2022-08-07T20:10:50.540Z"
   },
   {
    "duration": 12,
    "start_time": "2022-08-07T20:10:53.165Z"
   },
   {
    "duration": 50,
    "start_time": "2022-08-07T20:10:53.179Z"
   },
   {
    "duration": 408,
    "start_time": "2022-08-07T20:10:53.231Z"
   },
   {
    "duration": 63,
    "start_time": "2022-08-07T20:10:53.640Z"
   },
   {
    "duration": 13,
    "start_time": "2022-08-07T20:10:53.709Z"
   },
   {
    "duration": 94,
    "start_time": "2022-08-07T20:10:53.723Z"
   },
   {
    "duration": 27,
    "start_time": "2022-08-07T20:10:53.819Z"
   },
   {
    "duration": 8,
    "start_time": "2022-08-07T20:10:53.849Z"
   },
   {
    "duration": 40,
    "start_time": "2022-08-07T20:10:53.858Z"
   },
   {
    "duration": 25,
    "start_time": "2022-08-07T20:10:53.900Z"
   },
   {
    "duration": 753,
    "start_time": "2022-08-07T20:10:53.926Z"
   },
   {
    "duration": 50,
    "start_time": "2022-08-07T20:10:54.680Z"
   },
   {
    "duration": 11,
    "start_time": "2022-08-07T20:10:54.732Z"
   },
   {
    "duration": 5,
    "start_time": "2022-08-07T20:10:54.745Z"
   },
   {
    "duration": 123736,
    "start_time": "2022-08-07T20:10:54.751Z"
   },
   {
    "duration": 696,
    "start_time": "2022-08-07T20:12:58.489Z"
   },
   {
    "duration": 76,
    "start_time": "2022-08-07T20:12:59.188Z"
   },
   {
    "duration": 909846,
    "start_time": "2022-08-07T20:12:59.265Z"
   },
   {
    "duration": 7204,
    "start_time": "2022-08-07T20:28:09.112Z"
   },
   {
    "duration": 500,
    "start_time": "2022-08-07T20:28:16.317Z"
   },
   {
    "duration": 2010036,
    "start_time": "2022-08-07T20:28:16.818Z"
   },
   {
    "duration": 319913,
    "start_time": "2022-08-07T21:01:46.855Z"
   },
   {
    "duration": 863,
    "start_time": "2022-08-07T21:07:06.769Z"
   },
   {
    "duration": 60,
    "start_time": "2022-08-07T21:12:04.249Z"
   },
   {
    "duration": 10,
    "start_time": "2022-08-07T21:13:07.652Z"
   },
   {
    "duration": 331402,
    "start_time": "2022-08-07T21:20:07.423Z"
   },
   {
    "duration": 1101,
    "start_time": "2022-08-07T21:26:26.455Z"
   }
  ],
  "kernelspec": {
   "display_name": "Python 3",
   "language": "python",
   "name": "python3"
  },
  "language_info": {
   "codemirror_mode": {
    "name": "ipython",
    "version": 3
   },
   "file_extension": ".py",
   "mimetype": "text/x-python",
   "name": "python",
   "nbconvert_exporter": "python",
   "pygments_lexer": "ipython3",
   "version": "3.8.8"
  },
  "toc": {
   "base_numbering": 1,
   "nav_menu": {
    "height": "279.983px",
    "width": "702.743px"
   },
   "number_sections": true,
   "sideBar": true,
   "skip_h1_title": true,
   "title_cell": "Table of Contents",
   "title_sidebar": "Contents",
   "toc_cell": false,
   "toc_position": {
    "height": "554.41px",
    "left": "152px",
    "top": "111.441px",
    "width": "224.774px"
   },
   "toc_section_display": true,
   "toc_window_display": true
  }
 },
 "nbformat": 4,
 "nbformat_minor": 2
}
